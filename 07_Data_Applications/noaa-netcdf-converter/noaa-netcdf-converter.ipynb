{
 "cells": [
  {
   "cell_type": "markdown",
   "metadata": {},
   "source": [
    "# NOAA Sea Surface Temperature (SST) Data Processing\n",
    "\n",
    "A notebook that introduces working with netCDF files and generates average Sea Surface Temperature (SST) values per month between 1981 to 2025 based on netCDF files by the [NOAA Sea Surface Tempterature Dataset](https://www.ncei.noaa.gov/data/sea-surface-temperature-optimum-interpolation/v2.1/access/avhrr/).\n",
    "\n",
    "The notebook was created in the context of the modules Think 4 / Play 4 in Spring semester 2025 at Data Design + Art by Max Frischknecht for a project by Elisee Kukulu and Eva Brinksma about the relation between hurricane intensity and sea surface temperature. \n"
   ]
  },
  {
   "cell_type": "code",
   "execution_count": 1,
   "metadata": {},
   "outputs": [
    {
     "name": "stdout",
     "output_type": "stream",
     "text": [
      "2023.12.0\n",
      "1.7.2\n",
      "{'netcdf4': <NetCDF4BackendEntrypoint>\n",
      "  Open netCDF (.nc, .nc4 and .cdf) and most HDF5 files using netCDF4 in Xarray\n",
      "  Learn more at https://docs.xarray.dev/en/stable/generated/xarray.backends.NetCDF4BackendEntrypoint.html, 'h5netcdf': <H5netcdfBackendEntrypoint>\n",
      "  Open netCDF (.nc, .nc4 and .cdf) and most HDF5 files using h5netcdf in Xarray\n",
      "  Learn more at https://docs.xarray.dev/en/stable/generated/xarray.backends.H5netcdfBackendEntrypoint.html, 'scipy': <ScipyBackendEntrypoint>\n",
      "  Open netCDF files (.nc, .nc4, .cdf and .gz) using scipy in Xarray\n",
      "  Learn more at https://docs.xarray.dev/en/stable/generated/xarray.backends.ScipyBackendEntrypoint.html, 'store': <StoreBackendEntrypoint>\n",
      "  Open AbstractDataStore instances in Xarray\n",
      "  Learn more at https://docs.xarray.dev/en/stable/generated/xarray.backends.StoreBackendEntrypoint.html}\n"
     ]
    }
   ],
   "source": [
    "import xarray as xr\n",
    "print(xr.__version__) # should output 2023.12.0\n",
    "\n",
    "import netCDF4\n",
    "print(netCDF4.__version__) # should output 1.7.2\n",
    "\n",
    "from xarray.backends import list_engines\n",
    "print(list_engines()) # check that 'netcdf4' or 'nc4' is part of the engine\n",
    "\n",
    "# import pandas and altair for further processing & visualization\n",
    "import pandas as pd\n",
    "import altair as alt\n",
    "alt.data_transformers.enable(\"vegafusion\") ## for big data sets\n",
    "\n",
    "import os # to read many files from the operating system\n"
   ]
  },
  {
   "cell_type": "markdown",
   "metadata": {},
   "source": [
    "## 1. Exploring netCDF and the Data Structure\n",
    "\n",
    "This section explores how to work with netCDF files. \n",
    "First we open one example file to get to know the netCDF4 format a bit better. "
   ]
  },
  {
   "cell_type": "code",
   "execution_count": 2,
   "metadata": {},
   "outputs": [
    {
     "name": "stdout",
     "output_type": "stream",
     "text": [
      "<xarray.Dataset>\n",
      "Dimensions:  (time: 1, zlev: 1, lat: 720, lon: 1440)\n",
      "Coordinates:\n",
      "  * time     (time) datetime64[ns] 2025-01-01T12:00:16.364011520\n",
      "  * zlev     (zlev) float32 0.0\n",
      "  * lat      (lat) float32 -89.88 -89.62 -89.38 -89.12 ... 89.38 89.62 89.88\n",
      "  * lon      (lon) float32 0.125 0.375 0.625 0.875 ... 359.1 359.4 359.6 359.9\n",
      "Data variables:\n",
      "    sst      (time, zlev, lat, lon) float32 ...\n",
      "    anom     (time, zlev, lat, lon) float32 ...\n",
      "    err      (time, zlev, lat, lon) float32 ...\n",
      "    ice      (time, zlev, lat, lon) float32 ...\n",
      "Attributes: (12/37)\n",
      "    Conventions:                CF-1.6, ACDD-1.3\n",
      "    title:                      NOAA/NCEI 1/4 Degree Daily Optimum Interpolat...\n",
      "    references:                 Reynolds, et al.(2007) Daily High-Resolution-...\n",
      "    source:                     ICOADS, NCEP_GTS, GSFC_ICE, NCEP_ICE, Pathfin...\n",
      "    id:                         oisst-avhrr-v02r01.20250101.nc\n",
      "    naming_authority:           gov.noaa.ncei\n",
      "    ...                         ...\n",
      "    time_coverage_start:        2025-01-01T00:00:00Z\n",
      "    time_coverage_end:          2025-01-01T23:59:59Z\n",
      "    metadata_link:              https://doi.org/10.25921/RE9P-PT57\n",
      "    ncei_template_version:      NCEI_NetCDF_Grid_Template_v2.0\n",
      "    comment:                    Data was converted from NetCDF-3 to NetCDF-4 ...\n",
      "    sensor:                     Thermometer, AVHRR\n"
     ]
    }
   ],
   "source": [
    "# load one file and print the data\n",
    "ds = xr.open_dataset(\"./data/oisst-avhrr-v02r01.20250101_example.nc\", engine='netcdf4')\n",
    "print(ds)"
   ]
  },
  {
   "cell_type": "markdown",
   "metadata": {},
   "source": [
    "SST (sea surface temperature) is 4-dimensional:\n",
    "- time: 1 time point (for now, just the 20250101 file)\n",
    "- zlev: 1 depth level (surface = 0m)\n",
    "- lat and lon: your spatial grid"
   ]
  },
  {
   "cell_type": "code",
   "execution_count": 3,
   "metadata": {},
   "outputs": [
    {
     "name": "stdout",
     "output_type": "stream",
     "text": [
      "<xarray.DataArray 'sst' (time: 1, zlev: 1, lat: 720, lon: 1440)>\n",
      "[1036800 values with dtype=float32]\n",
      "Coordinates:\n",
      "  * time     (time) datetime64[ns] 2025-01-01T12:00:16.364011520\n",
      "  * zlev     (zlev) float32 0.0\n",
      "  * lat      (lat) float32 -89.88 -89.62 -89.38 -89.12 ... 89.38 89.62 89.88\n",
      "  * lon      (lon) float32 0.125 0.375 0.625 0.875 ... 359.1 359.4 359.6 359.9\n",
      "Attributes:\n",
      "    long_name:  Daily sea surface temperature\n",
      "    units:      Celsius\n",
      "    valid_min:  -300\n",
      "    valid_max:  4500\n"
     ]
    }
   ],
   "source": [
    "# get the sst data section and print it\n",
    "sst = ds['sst']\n",
    "print(sst)"
   ]
  },
  {
   "cell_type": "markdown",
   "metadata": {},
   "source": [
    "### Understanding Longitude and Latitude\n",
    "\n",
    "The geographical latitude is measured from the equator to the north (0° to 90° north at the North Pole) and south (0° to 90° south at the South Pole), the geographical longitude from the prime meridian from 0° to 180° to the east and from 0° to 180° to the west. \n",
    "\n",
    "![](image.png)\n",
    "\n"
   ]
  },
  {
   "cell_type": "markdown",
   "metadata": {},
   "source": [
    "The NOAA Dataset uses a different measurement system on the longitude: \n",
    "\n",
    "- Latitude (-89.875 to 89.875) is already standard (degrees north). No conversion needed.\n",
    "- Longitude (0.125 to 359.875) uses a 0–360 system, but most mapping tools like QGIS or Google Maps use -180 to 180.\n",
    "\n",
    "| 0–360° System | -180 to 180° System | Meaning                    |\n",
    "|---------------|----------------------|-----------------------------|\n",
    "| 0°            | 0°                   | Prime Meridian (Greenwich) |\n",
    "| 90°           | 90°                  | 90° East                    |\n",
    "| 180°          | 180°                 | International Date Line     |\n",
    "| 270°          | -90°                 | 90° West                    |\n",
    "| 360°          | 0°                   | Wraps back to Prime Meridian|\n",
    "\n",
    "\n",
    "**Conversion Formula**\n",
    "\n",
    "```python\n",
    "def convert_longitude(lon):\n",
    "    return lon - 360 if lon > 180 else lon\n",
    "\n",
    "converted = [convert_longitude(lon) for lon in longitudes]\n",
    "```"
   ]
  },
  {
   "cell_type": "code",
   "execution_count": 9,
   "metadata": {},
   "outputs": [
    {
     "name": "stdout",
     "output_type": "stream",
     "text": [
      "<xarray.DataArray 'lat' (lat: 720)>\n",
      "array([-89.875, -89.625, -89.375, ...,  89.375,  89.625,  89.875],\n",
      "      dtype=float32)\n",
      "Coordinates:\n",
      "  * lat      (lat) float32 -89.88 -89.62 -89.38 -89.12 ... 89.38 89.62 89.88\n",
      "Attributes:\n",
      "    long_name:  Latitude\n",
      "    units:      degrees_north\n",
      "    grids:      Uniform grid from -89.875 to 89.875 by 0.25\n",
      "--------------------------------------------------------------------------------\n",
      "<xarray.DataArray 'lon' (lon: 1440)>\n",
      "array([1.25000e-01, 3.75000e-01, 6.25000e-01, ..., 3.59375e+02, 3.59625e+02,\n",
      "       3.59875e+02], dtype=float32)\n",
      "Coordinates:\n",
      "  * lon      (lon) float32 0.125 0.375 0.625 0.875 ... 359.1 359.4 359.6 359.9\n",
      "Attributes:\n",
      "    long_name:  Longitude\n",
      "    units:      degrees_east\n",
      "    grids:      Uniform grid from 0.125 to 359.875 by 0.25\n"
     ]
    }
   ],
   "source": [
    "lat = ds[\"lat\"]\n",
    "lon = ds[\"lon\"]\n",
    "print(lat)\n",
    "print(\"-\" * 80)\n",
    "print(lon)"
   ]
  },
  {
   "cell_type": "markdown",
   "metadata": {},
   "source": [
    "### Extract the SST for a specific region (bounding box)\n",
    "\n",
    "To focus on a region like the North Atlantic, you can slice the dataset like this:\n",
    "\n",
    "```python\n",
    "northAtlantic = ds.sst.sel(lat=slice(30, 60), lon=slice(-80, 0))\n",
    "```\n",
    "\n",
    "If we have an [bounding box](http://bboxfinder.com/#9.985143,-98.833008,45.673728,-12.963867), e.g. `-98.833008,9.985143,-12.963867,45.673728`"
   ]
  },
  {
   "cell_type": "code",
   "execution_count": 12,
   "metadata": {},
   "outputs": [
    {
     "name": "stdout",
     "output_type": "stream",
     "text": [
      "selecting:  9.985143 45.673728 261.166992 347.036133\n",
      "--------------------------------------------------------------------------------\n",
      "<xarray.DataArray 'sst' (time: 1, zlev: 1, lat: 143, lon: 343)>\n",
      "[49049 values with dtype=float32]\n",
      "Coordinates:\n",
      "  * time     (time) datetime64[ns] 2025-01-01T12:00:16.364011520\n",
      "  * zlev     (zlev) float32 0.0\n",
      "  * lat      (lat) float32 10.12 10.38 10.62 10.88 ... 44.88 45.12 45.38 45.62\n",
      "  * lon      (lon) float32 261.4 261.6 261.9 262.1 ... 346.1 346.4 346.6 346.9\n",
      "Attributes:\n",
      "    long_name:  Daily sea surface temperature\n",
      "    units:      Celsius\n",
      "    valid_min:  -300\n",
      "    valid_max:  4500\n"
     ]
    }
   ],
   "source": [
    "lon_min = -98.833008\n",
    "lat_min = 9.985143\n",
    "lon_max = -12.963867\n",
    "lat_max = 45.673728\n",
    "\n",
    "def to_0360(lon):\n",
    "    return lon + 360 if lon < 0 else lon\n",
    "\n",
    "lon_min = to_0360(-98.833008)  # 261.166992\n",
    "lon_max = to_0360(-12.963867)  # 347.036133\n",
    "\n",
    "print(\"selecting: \", lat_min, lat_max, lon_min, lon_max)\n",
    "print(\"-\" * 80)\n",
    "\n",
    "northAtlantic = ds.sst.sel(lat=slice(lat_min, lat_max,), lon=slice(lon_min, lon_max))\n",
    "print(northAtlantic)"
   ]
  },
  {
   "cell_type": "markdown",
   "metadata": {},
   "source": [
    "To see the actual temperature values you need to call the following. That output is the sea surface temperature (SST) in Celsius.\n",
    "\n",
    "- Warm water (25°C) near the southern end of your region.\n",
    "- Colder water (around 8-9°C) closer to 60°N.\n",
    "- Some nan values (no data or land areas)."
   ]
  },
  {
   "cell_type": "code",
   "execution_count": 20,
   "metadata": {},
   "outputs": [
    {
     "name": "stdout",
     "output_type": "stream",
     "text": [
      "[[[[25.82       25.849998   25.46       ...         nan         nan\n",
      "            nan]\n",
      "   [25.699999   25.869999   25.599998   ...         nan         nan\n",
      "            nan]\n",
      "   [25.25       25.789999   25.75       ...         nan         nan\n",
      "            nan]\n",
      "   ...\n",
      "   [-0.5        -0.17999999  0.06       ...  8.74        8.67\n",
      "     8.54      ]\n",
      "   [-0.74       -0.42999998 -0.14       ...  8.84        8.82\n",
      "     8.72      ]\n",
      "   [-0.89       -0.56       -0.21       ...  8.9         8.94\n",
      "     8.9       ]]]]\n"
     ]
    }
   ],
   "source": [
    "print(northAtlantic.values)"
   ]
  },
  {
   "cell_type": "markdown",
   "metadata": {},
   "source": [
    "### Transform the Values into a Pandas Dataframe"
   ]
  },
  {
   "cell_type": "code",
   "execution_count": 41,
   "metadata": {},
   "outputs": [],
   "source": [
    "# Convert to DataFrame\n",
    "df = northAtlantic.to_dataframe().reset_index()\n",
    "df.head()\n",
    "\n",
    "# Drop missing (NaN) values if needed (not tested, ChatGPT)\n",
    "# df = df.dropna(subset=['sst'])\n",
    "\n",
    "# close the dataset to free memory\n",
    "ds.close()"
   ]
  },
  {
   "cell_type": "markdown",
   "metadata": {},
   "source": [
    "## 2. Scaling Up\n",
    "\n",
    "So far so good. However, the matter is more complex. The files from the [NOAA directory](https://www.ncei.noaa.gov/data/sea-surface-temperature-optimum-interpolation/v2.1/access/avhrr/) are for each day of the month for each year (1981 to 2025) and we want to calculate an average for each month of the each year."
   ]
  },
  {
   "cell_type": "code",
   "execution_count": 2,
   "metadata": {},
   "outputs": [],
   "source": [
    "# define were the data is\n",
    "BASE_DIR = './data/'\n",
    "\n",
    "# define the time frame\n",
    "START_YEAR = 1993\n",
    "END_YEAR = 1995"
   ]
  },
  {
   "cell_type": "code",
   "execution_count": 3,
   "metadata": {},
   "outputs": [
    {
     "name": "stdout",
     "output_type": "stream",
     "text": [
      "selecting:  9.985143 45.673728 261.166992 347.036133\n"
     ]
    }
   ],
   "source": [
    "#define the area\n",
    "lon_min = -98.833008\n",
    "lat_min = 9.985143\n",
    "lon_max = -12.963867\n",
    "lat_max = 45.673728\n",
    "\n",
    "# function to transform 0-360 longitude values to -180-180 values\n",
    "def to_0360(lon):\n",
    "    return lon + 360 if lon < 0 else lon\n",
    "\n",
    "lon_min = to_0360(lon_min)  # 261.166992\n",
    "lon_max = to_0360(lon_max)  # 347.036133\n",
    "\n",
    "print(\"selecting: \", lat_min, lat_max, lon_min, lon_max)"
   ]
  },
  {
   "cell_type": "markdown",
   "metadata": {},
   "source": [
    "The folders should be inside `./data/` like so: \n",
    "- 199301\n",
    "- 199302\n",
    "- 199303\n",
    "- ..."
   ]
  },
  {
   "cell_type": "code",
   "execution_count": 4,
   "metadata": {},
   "outputs": [],
   "source": [
    "def process_sst_data():\n",
    "    # Initialize a list to store data frames\n",
    "    data_list = []\n",
    "    \n",
    "    # Iterate over each month folder (YYYYMM) in the base directory\n",
    "    for month_folder in sorted(os.listdir(BASE_DIR)):\n",
    "        # Ensure the folder name is a valid number before extracting the year\n",
    "        if not month_folder.isdigit() or len(month_folder) != 6:\n",
    "            continue  # Skip invalid folders\n",
    "        # Extract year from YYYYMM format\n",
    "        year = int(month_folder[:4])\n",
    "        \n",
    "        # Skip folders outside the selected range\n",
    "        if year < START_YEAR or year > END_YEAR:\n",
    "            continue\n",
    "        \n",
    "        month_path = os.path.join(BASE_DIR, month_folder)\n",
    "        \n",
    "        if not os.path.isdir(month_path):\n",
    "            continue  # Skip if it's not a directory\n",
    "\n",
    "        print(year, month_folder, month_path)\n",
    "        \n",
    "        # List all .nc files within the month folder\n",
    "        files = sorted(\n",
    "            [os.path.join(month_path, file) for file in os.listdir(month_path) if file.endswith('.nc')],\n",
    "            key=lambda x: x.split('.')[-2]  # Extract the date part from filename\n",
    "        )\n",
    "        \n",
    "        # Process each file\n",
    "        for file in files:\n",
    "            current_ds = xr.open_dataset(file)\n",
    "            \n",
    "            if 'sst' not in current_ds.variables:\n",
    "                print(f\"Warning: 'sst' not found in {file}\")\n",
    "                continue  # Skip files missing SST variable\n",
    "            \n",
    "            # Select the North American ocean region\n",
    "            area_select = current_ds.sst.sel(lat=slice(lat_min, lat_max), lon=slice(lon_min, lon_max))\n",
    "\n",
    "            # Convert to DataFrame and reset index\n",
    "            new_df = area_select.to_dataframe().reset_index()\n",
    "            \n",
    "            # Extract year and month\n",
    "            new_df['year'] = year\n",
    "            new_df['month'] = month_folder[-2:]  # Extract last 2 digits of YYYYMM folder\n",
    "            \n",
    "            # Append to list\n",
    "            data_list.append(new_df)\n",
    "            \n",
    "            # Close dataset to free memory\n",
    "            current_ds.close()\n",
    "    \n",
    "    # Combine all monthly data\n",
    "    #print(data_list)\n",
    "    final_df = pd.concat(data_list, ignore_index=True)\n",
    "    \n",
    "    # Calculate the mean SST for each (year, month, lat, lon)\n",
    "    mean_sst_df = final_df.groupby(['year', 'month', 'lat', 'lon'])['sst'].mean().reset_index()\n",
    "    \n",
    "    return mean_sst_df"
   ]
  },
  {
   "cell_type": "code",
   "execution_count": 5,
   "metadata": {},
   "outputs": [
    {
     "name": "stdout",
     "output_type": "stream",
     "text": [
      "1993 199301 ./data/199301\n",
      "1993 199302 ./data/199302\n",
      "1993 199303 ./data/199303\n",
      "1993 199304 ./data/199304\n",
      "1993 199305 ./data/199305\n",
      "1993 199306 ./data/199306\n",
      "1993 199307 ./data/199307\n",
      "1993 199308 ./data/199308\n",
      "1993 199309 ./data/199309\n",
      "1993 199310 ./data/199310\n",
      "1993 199311 ./data/199311\n",
      "1993 199312 ./data/199312\n",
      "1994 199401 ./data/199401\n",
      "1994 199402 ./data/199402\n",
      "1994 199403 ./data/199403\n",
      "1994 199404 ./data/199404\n",
      "1994 199405 ./data/199405\n",
      "1994 199406 ./data/199406\n",
      "1994 199407 ./data/199407\n",
      "1994 199408 ./data/199408\n",
      "1994 199409 ./data/199409\n",
      "1994 199410 ./data/199410\n",
      "1994 199411 ./data/199411\n",
      "1994 199412 ./data/199412\n",
      "1995 199501 ./data/199501\n",
      "1995 199502 ./data/199502\n",
      "1995 199503 ./data/199503\n",
      "1995 199504 ./data/199504\n",
      "1995 199505 ./data/199505\n",
      "1995 199506 ./data/199506\n",
      "1995 199507 ./data/199507\n",
      "1995 199508 ./data/199508\n",
      "1995 199509 ./data/199509\n",
      "1995 199510 ./data/199510\n",
      "1995 199511 ./data/199511\n",
      "1995 199512 ./data/199512\n"
     ]
    }
   ],
   "source": [
    "average_sst_per_month = process_sst_data()"
   ]
  },
  {
   "cell_type": "code",
   "execution_count": 48,
   "metadata": {},
   "outputs": [
    {
     "data": {
      "text/html": [
       "<div>\n",
       "<style scoped>\n",
       "    .dataframe tbody tr th:only-of-type {\n",
       "        vertical-align: middle;\n",
       "    }\n",
       "\n",
       "    .dataframe tbody tr th {\n",
       "        vertical-align: top;\n",
       "    }\n",
       "\n",
       "    .dataframe thead th {\n",
       "        text-align: right;\n",
       "    }\n",
       "</style>\n",
       "<table border=\"1\" class=\"dataframe\">\n",
       "  <thead>\n",
       "    <tr style=\"text-align: right;\">\n",
       "      <th></th>\n",
       "      <th>year</th>\n",
       "      <th>month</th>\n",
       "      <th>lat</th>\n",
       "      <th>lon</th>\n",
       "      <th>sst</th>\n",
       "    </tr>\n",
       "  </thead>\n",
       "  <tbody>\n",
       "    <tr>\n",
       "      <th>0</th>\n",
       "      <td>1993</td>\n",
       "      <td>01</td>\n",
       "      <td>10.125</td>\n",
       "      <td>261.375</td>\n",
       "      <td>27.358709</td>\n",
       "    </tr>\n",
       "    <tr>\n",
       "      <th>1</th>\n",
       "      <td>1993</td>\n",
       "      <td>01</td>\n",
       "      <td>10.125</td>\n",
       "      <td>261.625</td>\n",
       "      <td>27.380644</td>\n",
       "    </tr>\n",
       "    <tr>\n",
       "      <th>2</th>\n",
       "      <td>1993</td>\n",
       "      <td>01</td>\n",
       "      <td>10.125</td>\n",
       "      <td>261.875</td>\n",
       "      <td>27.405806</td>\n",
       "    </tr>\n",
       "    <tr>\n",
       "      <th>3</th>\n",
       "      <td>1993</td>\n",
       "      <td>01</td>\n",
       "      <td>10.125</td>\n",
       "      <td>262.125</td>\n",
       "      <td>27.408064</td>\n",
       "    </tr>\n",
       "    <tr>\n",
       "      <th>4</th>\n",
       "      <td>1993</td>\n",
       "      <td>01</td>\n",
       "      <td>10.125</td>\n",
       "      <td>262.375</td>\n",
       "      <td>27.423548</td>\n",
       "    </tr>\n",
       "  </tbody>\n",
       "</table>\n",
       "</div>"
      ],
      "text/plain": [
       "   year month     lat      lon        sst\n",
       "0  1993    01  10.125  261.375  27.358709\n",
       "1  1993    01  10.125  261.625  27.380644\n",
       "2  1993    01  10.125  261.875  27.405806\n",
       "3  1993    01  10.125  262.125  27.408064\n",
       "4  1993    01  10.125  262.375  27.423548"
      ]
     },
     "execution_count": 48,
     "metadata": {},
     "output_type": "execute_result"
    }
   ],
   "source": [
    "average_sst_per_month.head()"
   ]
  },
  {
   "cell_type": "markdown",
   "metadata": {},
   "source": [
    "## Furter Data Adjustments"
   ]
  },
  {
   "cell_type": "markdown",
   "metadata": {},
   "source": [
    "Create a new column for the converted lon values"
   ]
  },
  {
   "cell_type": "code",
   "execution_count": 12,
   "metadata": {},
   "outputs": [
    {
     "data": {
      "text/html": [
       "<div>\n",
       "<style scoped>\n",
       "    .dataframe tbody tr th:only-of-type {\n",
       "        vertical-align: middle;\n",
       "    }\n",
       "\n",
       "    .dataframe tbody tr th {\n",
       "        vertical-align: top;\n",
       "    }\n",
       "\n",
       "    .dataframe thead th {\n",
       "        text-align: right;\n",
       "    }\n",
       "</style>\n",
       "<table border=\"1\" class=\"dataframe\">\n",
       "  <thead>\n",
       "    <tr style=\"text-align: right;\">\n",
       "      <th></th>\n",
       "      <th>year</th>\n",
       "      <th>month</th>\n",
       "      <th>lat</th>\n",
       "      <th>lon</th>\n",
       "      <th>sst</th>\n",
       "      <th>lon_converted</th>\n",
       "    </tr>\n",
       "  </thead>\n",
       "  <tbody>\n",
       "    <tr>\n",
       "      <th>0</th>\n",
       "      <td>1993</td>\n",
       "      <td>01</td>\n",
       "      <td>10.125</td>\n",
       "      <td>261.375</td>\n",
       "      <td>27.358709</td>\n",
       "      <td>-98.625</td>\n",
       "    </tr>\n",
       "    <tr>\n",
       "      <th>1</th>\n",
       "      <td>1993</td>\n",
       "      <td>01</td>\n",
       "      <td>10.125</td>\n",
       "      <td>261.625</td>\n",
       "      <td>27.380644</td>\n",
       "      <td>-98.375</td>\n",
       "    </tr>\n",
       "    <tr>\n",
       "      <th>2</th>\n",
       "      <td>1993</td>\n",
       "      <td>01</td>\n",
       "      <td>10.125</td>\n",
       "      <td>261.875</td>\n",
       "      <td>27.405806</td>\n",
       "      <td>-98.125</td>\n",
       "    </tr>\n",
       "    <tr>\n",
       "      <th>3</th>\n",
       "      <td>1993</td>\n",
       "      <td>01</td>\n",
       "      <td>10.125</td>\n",
       "      <td>262.125</td>\n",
       "      <td>27.408064</td>\n",
       "      <td>-97.875</td>\n",
       "    </tr>\n",
       "    <tr>\n",
       "      <th>4</th>\n",
       "      <td>1993</td>\n",
       "      <td>01</td>\n",
       "      <td>10.125</td>\n",
       "      <td>262.375</td>\n",
       "      <td>27.423548</td>\n",
       "      <td>-97.625</td>\n",
       "    </tr>\n",
       "  </tbody>\n",
       "</table>\n",
       "</div>"
      ],
      "text/plain": [
       "   year month     lat      lon        sst  lon_converted\n",
       "0  1993    01  10.125  261.375  27.358709        -98.625\n",
       "1  1993    01  10.125  261.625  27.380644        -98.375\n",
       "2  1993    01  10.125  261.875  27.405806        -98.125\n",
       "3  1993    01  10.125  262.125  27.408064        -97.875\n",
       "4  1993    01  10.125  262.375  27.423548        -97.625"
      ]
     },
     "execution_count": 12,
     "metadata": {},
     "output_type": "execute_result"
    }
   ],
   "source": [
    "average_sst_per_month[\"lon_converted\"] = average_sst_per_month[\"lon\"].apply(lambda x: x - 360 if x > 180 else x)\n",
    "average_sst_per_month.head()"
   ]
  },
  {
   "cell_type": "markdown",
   "metadata": {},
   "source": [
    "Remove every coordinate / row were SST has no value (land mass)"
   ]
  },
  {
   "cell_type": "code",
   "execution_count": 13,
   "metadata": {},
   "outputs": [
    {
     "name": "stdout",
     "output_type": "stream",
     "text": [
      "Original length: 1765764\n",
      "No SST (Land Mass): 307800\n",
      "Total Export Data: 1457964\n",
      "--------------------------------------------------------------------------------\n"
     ]
    },
    {
     "data": {
      "text/html": [
       "<div>\n",
       "<style scoped>\n",
       "    .dataframe tbody tr th:only-of-type {\n",
       "        vertical-align: middle;\n",
       "    }\n",
       "\n",
       "    .dataframe tbody tr th {\n",
       "        vertical-align: top;\n",
       "    }\n",
       "\n",
       "    .dataframe thead th {\n",
       "        text-align: right;\n",
       "    }\n",
       "</style>\n",
       "<table border=\"1\" class=\"dataframe\">\n",
       "  <thead>\n",
       "    <tr style=\"text-align: right;\">\n",
       "      <th></th>\n",
       "      <th>year</th>\n",
       "      <th>month</th>\n",
       "      <th>lat</th>\n",
       "      <th>lon</th>\n",
       "      <th>sst</th>\n",
       "      <th>lon_converted</th>\n",
       "    </tr>\n",
       "  </thead>\n",
       "  <tbody>\n",
       "    <tr>\n",
       "      <th>0</th>\n",
       "      <td>1993</td>\n",
       "      <td>01</td>\n",
       "      <td>10.125</td>\n",
       "      <td>261.375</td>\n",
       "      <td>27.358709</td>\n",
       "      <td>-98.625</td>\n",
       "    </tr>\n",
       "    <tr>\n",
       "      <th>1</th>\n",
       "      <td>1993</td>\n",
       "      <td>01</td>\n",
       "      <td>10.125</td>\n",
       "      <td>261.625</td>\n",
       "      <td>27.380644</td>\n",
       "      <td>-98.375</td>\n",
       "    </tr>\n",
       "    <tr>\n",
       "      <th>2</th>\n",
       "      <td>1993</td>\n",
       "      <td>01</td>\n",
       "      <td>10.125</td>\n",
       "      <td>261.875</td>\n",
       "      <td>27.405806</td>\n",
       "      <td>-98.125</td>\n",
       "    </tr>\n",
       "    <tr>\n",
       "      <th>3</th>\n",
       "      <td>1993</td>\n",
       "      <td>01</td>\n",
       "      <td>10.125</td>\n",
       "      <td>262.125</td>\n",
       "      <td>27.408064</td>\n",
       "      <td>-97.875</td>\n",
       "    </tr>\n",
       "    <tr>\n",
       "      <th>4</th>\n",
       "      <td>1993</td>\n",
       "      <td>01</td>\n",
       "      <td>10.125</td>\n",
       "      <td>262.375</td>\n",
       "      <td>27.423548</td>\n",
       "      <td>-97.625</td>\n",
       "    </tr>\n",
       "  </tbody>\n",
       "</table>\n",
       "</div>"
      ],
      "text/plain": [
       "   year month     lat      lon        sst  lon_converted\n",
       "0  1993    01  10.125  261.375  27.358709        -98.625\n",
       "1  1993    01  10.125  261.625  27.380644        -98.375\n",
       "2  1993    01  10.125  261.875  27.405806        -98.125\n",
       "3  1993    01  10.125  262.125  27.408064        -97.875\n",
       "4  1993    01  10.125  262.375  27.423548        -97.625"
      ]
     },
     "execution_count": 13,
     "metadata": {},
     "output_type": "execute_result"
    }
   ],
   "source": [
    "total_values = len(average_sst_per_month)\n",
    "export_data = average_sst_per_month.dropna(subset=[\"sst\"])\n",
    "\n",
    "print(f\"Original length: {len(average_sst_per_month)}\")\n",
    "print(f\"No SST (Land Mass): {len(average_sst_per_month) - len(export_data)}\")\n",
    "print(f\"Total Export Data: {len(export_data)}\")\n",
    "print(\"-\" * 80)\n",
    "\n",
    "export_data.head()"
   ]
  },
  {
   "cell_type": "markdown",
   "metadata": {},
   "source": [
    "Get only one year"
   ]
  },
  {
   "cell_type": "code",
   "execution_count": 16,
   "metadata": {},
   "outputs": [
    {
     "data": {
      "text/html": [
       "<div>\n",
       "<style scoped>\n",
       "    .dataframe tbody tr th:only-of-type {\n",
       "        vertical-align: middle;\n",
       "    }\n",
       "\n",
       "    .dataframe tbody tr th {\n",
       "        vertical-align: top;\n",
       "    }\n",
       "\n",
       "    .dataframe thead th {\n",
       "        text-align: right;\n",
       "    }\n",
       "</style>\n",
       "<table border=\"1\" class=\"dataframe\">\n",
       "  <thead>\n",
       "    <tr style=\"text-align: right;\">\n",
       "      <th></th>\n",
       "      <th>year</th>\n",
       "      <th>month</th>\n",
       "      <th>lat</th>\n",
       "      <th>lon</th>\n",
       "      <th>sst</th>\n",
       "      <th>lon_converted</th>\n",
       "    </tr>\n",
       "  </thead>\n",
       "  <tbody>\n",
       "    <tr>\n",
       "      <th>0</th>\n",
       "      <td>1993</td>\n",
       "      <td>01</td>\n",
       "      <td>10.125</td>\n",
       "      <td>261.375</td>\n",
       "      <td>27.358709</td>\n",
       "      <td>-98.625</td>\n",
       "    </tr>\n",
       "    <tr>\n",
       "      <th>1</th>\n",
       "      <td>1993</td>\n",
       "      <td>01</td>\n",
       "      <td>10.125</td>\n",
       "      <td>261.625</td>\n",
       "      <td>27.380644</td>\n",
       "      <td>-98.375</td>\n",
       "    </tr>\n",
       "    <tr>\n",
       "      <th>2</th>\n",
       "      <td>1993</td>\n",
       "      <td>01</td>\n",
       "      <td>10.125</td>\n",
       "      <td>261.875</td>\n",
       "      <td>27.405806</td>\n",
       "      <td>-98.125</td>\n",
       "    </tr>\n",
       "    <tr>\n",
       "      <th>3</th>\n",
       "      <td>1993</td>\n",
       "      <td>01</td>\n",
       "      <td>10.125</td>\n",
       "      <td>262.125</td>\n",
       "      <td>27.408064</td>\n",
       "      <td>-97.875</td>\n",
       "    </tr>\n",
       "    <tr>\n",
       "      <th>4</th>\n",
       "      <td>1993</td>\n",
       "      <td>01</td>\n",
       "      <td>10.125</td>\n",
       "      <td>262.375</td>\n",
       "      <td>27.423548</td>\n",
       "      <td>-97.625</td>\n",
       "    </tr>\n",
       "    <tr>\n",
       "      <th>...</th>\n",
       "      <td>...</td>\n",
       "      <td>...</td>\n",
       "      <td>...</td>\n",
       "      <td>...</td>\n",
       "      <td>...</td>\n",
       "      <td>...</td>\n",
       "    </tr>\n",
       "    <tr>\n",
       "      <th>588583</th>\n",
       "      <td>1993</td>\n",
       "      <td>12</td>\n",
       "      <td>45.625</td>\n",
       "      <td>345.875</td>\n",
       "      <td>12.557096</td>\n",
       "      <td>-14.125</td>\n",
       "    </tr>\n",
       "    <tr>\n",
       "      <th>588584</th>\n",
       "      <td>1993</td>\n",
       "      <td>12</td>\n",
       "      <td>45.625</td>\n",
       "      <td>346.125</td>\n",
       "      <td>12.503225</td>\n",
       "      <td>-13.875</td>\n",
       "    </tr>\n",
       "    <tr>\n",
       "      <th>588585</th>\n",
       "      <td>1993</td>\n",
       "      <td>12</td>\n",
       "      <td>45.625</td>\n",
       "      <td>346.375</td>\n",
       "      <td>12.458064</td>\n",
       "      <td>-13.625</td>\n",
       "    </tr>\n",
       "    <tr>\n",
       "      <th>588586</th>\n",
       "      <td>1993</td>\n",
       "      <td>12</td>\n",
       "      <td>45.625</td>\n",
       "      <td>346.625</td>\n",
       "      <td>12.431613</td>\n",
       "      <td>-13.375</td>\n",
       "    </tr>\n",
       "    <tr>\n",
       "      <th>588587</th>\n",
       "      <td>1993</td>\n",
       "      <td>12</td>\n",
       "      <td>45.625</td>\n",
       "      <td>346.875</td>\n",
       "      <td>12.461290</td>\n",
       "      <td>-13.125</td>\n",
       "    </tr>\n",
       "  </tbody>\n",
       "</table>\n",
       "<p>485988 rows × 6 columns</p>\n",
       "</div>"
      ],
      "text/plain": [
       "        year month     lat      lon        sst  lon_converted\n",
       "0       1993    01  10.125  261.375  27.358709        -98.625\n",
       "1       1993    01  10.125  261.625  27.380644        -98.375\n",
       "2       1993    01  10.125  261.875  27.405806        -98.125\n",
       "3       1993    01  10.125  262.125  27.408064        -97.875\n",
       "4       1993    01  10.125  262.375  27.423548        -97.625\n",
       "...      ...   ...     ...      ...        ...            ...\n",
       "588583  1993    12  45.625  345.875  12.557096        -14.125\n",
       "588584  1993    12  45.625  346.125  12.503225        -13.875\n",
       "588585  1993    12  45.625  346.375  12.458064        -13.625\n",
       "588586  1993    12  45.625  346.625  12.431613        -13.375\n",
       "588587  1993    12  45.625  346.875  12.461290        -13.125\n",
       "\n",
       "[485988 rows x 6 columns]"
      ]
     },
     "execution_count": 16,
     "metadata": {},
     "output_type": "execute_result"
    }
   ],
   "source": [
    "export_1993 = export_data[export_data[\"year\"] == 1993]\n",
    "export_1993 = export_1993.copy() # make a full copy!\n",
    "export_1993"
   ]
  },
  {
   "cell_type": "markdown",
   "metadata": {},
   "source": [
    "**Bin** the coordinates (set a resolution for the map)"
   ]
  },
  {
   "cell_type": "code",
   "execution_count": 17,
   "metadata": {},
   "outputs": [
    {
     "data": {
      "text/html": [
       "<div>\n",
       "<style scoped>\n",
       "    .dataframe tbody tr th:only-of-type {\n",
       "        vertical-align: middle;\n",
       "    }\n",
       "\n",
       "    .dataframe tbody tr th {\n",
       "        vertical-align: top;\n",
       "    }\n",
       "\n",
       "    .dataframe thead th {\n",
       "        text-align: right;\n",
       "    }\n",
       "</style>\n",
       "<table border=\"1\" class=\"dataframe\">\n",
       "  <thead>\n",
       "    <tr style=\"text-align: right;\">\n",
       "      <th></th>\n",
       "      <th>year</th>\n",
       "      <th>month</th>\n",
       "      <th>lat</th>\n",
       "      <th>lon</th>\n",
       "      <th>sst</th>\n",
       "      <th>lon_converted</th>\n",
       "      <th>lat_bin</th>\n",
       "      <th>lon_bin</th>\n",
       "    </tr>\n",
       "  </thead>\n",
       "  <tbody>\n",
       "    <tr>\n",
       "      <th>0</th>\n",
       "      <td>1993</td>\n",
       "      <td>01</td>\n",
       "      <td>10.125</td>\n",
       "      <td>261.375</td>\n",
       "      <td>27.358709</td>\n",
       "      <td>-98.625</td>\n",
       "      <td>10.0</td>\n",
       "      <td>-99.0</td>\n",
       "    </tr>\n",
       "    <tr>\n",
       "      <th>1</th>\n",
       "      <td>1993</td>\n",
       "      <td>01</td>\n",
       "      <td>10.125</td>\n",
       "      <td>261.625</td>\n",
       "      <td>27.380644</td>\n",
       "      <td>-98.375</td>\n",
       "      <td>10.0</td>\n",
       "      <td>-99.0</td>\n",
       "    </tr>\n",
       "    <tr>\n",
       "      <th>2</th>\n",
       "      <td>1993</td>\n",
       "      <td>01</td>\n",
       "      <td>10.125</td>\n",
       "      <td>261.875</td>\n",
       "      <td>27.405806</td>\n",
       "      <td>-98.125</td>\n",
       "      <td>10.0</td>\n",
       "      <td>-99.0</td>\n",
       "    </tr>\n",
       "    <tr>\n",
       "      <th>3</th>\n",
       "      <td>1993</td>\n",
       "      <td>01</td>\n",
       "      <td>10.125</td>\n",
       "      <td>262.125</td>\n",
       "      <td>27.408064</td>\n",
       "      <td>-97.875</td>\n",
       "      <td>10.0</td>\n",
       "      <td>-98.0</td>\n",
       "    </tr>\n",
       "    <tr>\n",
       "      <th>4</th>\n",
       "      <td>1993</td>\n",
       "      <td>01</td>\n",
       "      <td>10.125</td>\n",
       "      <td>262.375</td>\n",
       "      <td>27.423548</td>\n",
       "      <td>-97.625</td>\n",
       "      <td>10.0</td>\n",
       "      <td>-98.0</td>\n",
       "    </tr>\n",
       "  </tbody>\n",
       "</table>\n",
       "</div>"
      ],
      "text/plain": [
       "   year month     lat      lon        sst  lon_converted  lat_bin  lon_bin\n",
       "0  1993    01  10.125  261.375  27.358709        -98.625     10.0    -99.0\n",
       "1  1993    01  10.125  261.625  27.380644        -98.375     10.0    -99.0\n",
       "2  1993    01  10.125  261.875  27.405806        -98.125     10.0    -99.0\n",
       "3  1993    01  10.125  262.125  27.408064        -97.875     10.0    -98.0\n",
       "4  1993    01  10.125  262.375  27.423548        -97.625     10.0    -98.0"
      ]
     },
     "execution_count": 17,
     "metadata": {},
     "output_type": "execute_result"
    }
   ],
   "source": [
    "bin_size = 1.0  # or 0.5\n",
    "export_1993[\"lat_bin\"] = (export_1993[\"lat\"] // bin_size) * bin_size\n",
    "export_1993[\"lon_bin\"] = (export_1993[\"lon_converted\"] // bin_size) * bin_size\n",
    "\n",
    "export_1993.head()"
   ]
  },
  {
   "cell_type": "code",
   "execution_count": 20,
   "metadata": {},
   "outputs": [
    {
     "name": "stdout",
     "output_type": "stream",
     "text": [
      "Binned length: 31956\n",
      "--------------------------------------------------------------------------------\n"
     ]
    },
    {
     "data": {
      "text/html": [
       "<div>\n",
       "<style scoped>\n",
       "    .dataframe tbody tr th:only-of-type {\n",
       "        vertical-align: middle;\n",
       "    }\n",
       "\n",
       "    .dataframe tbody tr th {\n",
       "        vertical-align: top;\n",
       "    }\n",
       "\n",
       "    .dataframe thead th {\n",
       "        text-align: right;\n",
       "    }\n",
       "</style>\n",
       "<table border=\"1\" class=\"dataframe\">\n",
       "  <thead>\n",
       "    <tr style=\"text-align: right;\">\n",
       "      <th></th>\n",
       "      <th>year</th>\n",
       "      <th>month</th>\n",
       "      <th>lat_bin</th>\n",
       "      <th>lon_bin</th>\n",
       "      <th>sst</th>\n",
       "    </tr>\n",
       "  </thead>\n",
       "  <tbody>\n",
       "    <tr>\n",
       "      <th>0</th>\n",
       "      <td>1993</td>\n",
       "      <td>01</td>\n",
       "      <td>10.0</td>\n",
       "      <td>-99.0</td>\n",
       "      <td>27.372742</td>\n",
       "    </tr>\n",
       "    <tr>\n",
       "      <th>1</th>\n",
       "      <td>1993</td>\n",
       "      <td>01</td>\n",
       "      <td>10.0</td>\n",
       "      <td>-98.0</td>\n",
       "      <td>27.414032</td>\n",
       "    </tr>\n",
       "    <tr>\n",
       "      <th>2</th>\n",
       "      <td>1993</td>\n",
       "      <td>01</td>\n",
       "      <td>10.0</td>\n",
       "      <td>-97.0</td>\n",
       "      <td>27.713728</td>\n",
       "    </tr>\n",
       "    <tr>\n",
       "      <th>3</th>\n",
       "      <td>1993</td>\n",
       "      <td>01</td>\n",
       "      <td>10.0</td>\n",
       "      <td>-96.0</td>\n",
       "      <td>28.066410</td>\n",
       "    </tr>\n",
       "    <tr>\n",
       "      <th>4</th>\n",
       "      <td>1993</td>\n",
       "      <td>01</td>\n",
       "      <td>10.0</td>\n",
       "      <td>-95.0</td>\n",
       "      <td>28.274092</td>\n",
       "    </tr>\n",
       "  </tbody>\n",
       "</table>\n",
       "</div>"
      ],
      "text/plain": [
       "   year month  lat_bin  lon_bin        sst\n",
       "0  1993    01     10.0    -99.0  27.372742\n",
       "1  1993    01     10.0    -98.0  27.414032\n",
       "2  1993    01     10.0    -97.0  27.713728\n",
       "3  1993    01     10.0    -96.0  28.066410\n",
       "4  1993    01     10.0    -95.0  28.274092"
      ]
     },
     "execution_count": 20,
     "metadata": {},
     "output_type": "execute_result"
    }
   ],
   "source": [
    "binned_1993 = export_1993.groupby([\"year\", \"month\", \"lat_bin\", \"lon_bin\"]).agg({\"sst\": \"mean\"}).reset_index()\n",
    "print(f\"Binned length: {len(binned_1993)}\")\n",
    "print(\"-\" * 80)\n",
    "\n",
    "binned_1993.head()"
   ]
  },
  {
   "cell_type": "markdown",
   "metadata": {},
   "source": [
    "## Export"
   ]
  },
  {
   "cell_type": "code",
   "execution_count": 21,
   "metadata": {},
   "outputs": [],
   "source": [
    "output_dir = './export/'\n",
    "# export_data.to_csv(f'{output_dir}sst-{START_YEAR}-{END_YEAR}.csv', index=False)\n",
    "export_1993.to_csv(f'{output_dir}sst-binned-{START_YEAR}-{END_YEAR}.csv', index=False)\n",
    "# export_data.to_json(f'{output_dir}sst-{START_YEAR}-{END_YEAR}.json')"
   ]
  },
  {
   "cell_type": "code",
   "execution_count": null,
   "metadata": {},
   "outputs": [],
   "source": []
  }
 ],
 "metadata": {
  "kernelspec": {
   "display_name": "3.11.5",
   "language": "python",
   "name": "python3"
  },
  "language_info": {
   "codemirror_mode": {
    "name": "ipython",
    "version": 3
   },
   "file_extension": ".py",
   "mimetype": "text/x-python",
   "name": "python",
   "nbconvert_exporter": "python",
   "pygments_lexer": "ipython3",
   "version": "3.11.5"
  }
 },
 "nbformat": 4,
 "nbformat_minor": 2
}
