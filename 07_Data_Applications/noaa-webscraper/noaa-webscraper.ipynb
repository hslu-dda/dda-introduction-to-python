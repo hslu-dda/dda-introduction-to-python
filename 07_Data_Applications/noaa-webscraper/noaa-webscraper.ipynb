{
 "cells": [
  {
   "cell_type": "markdown",
   "metadata": {},
   "source": [
    "# NOAA Web Scraper\n",
    "\n",
    "A small webscraper that donwloads many netCDF files structures by YEAR-MONTH. "
   ]
  },
  {
   "cell_type": "code",
   "execution_count": 1,
   "metadata": {},
   "outputs": [],
   "source": [
    "import os\n",
    "import requests\n",
    "from bs4 import BeautifulSoup\n",
    "from tqdm import tqdm"
   ]
  },
  {
   "cell_type": "code",
   "execution_count": 2,
   "metadata": {},
   "outputs": [],
   "source": [
    "# Base URL of the dataset\n",
    "BASE_URL = \"https://www.ncei.noaa.gov/data/sea-surface-temperature-optimum-interpolation/v2.1/access/avhrr/\" "
   ]
  },
  {
   "cell_type": "code",
   "execution_count": 3,
   "metadata": {},
   "outputs": [],
   "source": [
    "# Define start and end year\n",
    "START_YEAR = 1990\n",
    "END_YEAR = 1992\n",
    "SAVE_DIR = \"./export\"  # Folder to save files"
   ]
  },
  {
   "cell_type": "code",
   "execution_count": 4,
   "metadata": {},
   "outputs": [],
   "source": [
    "def get_links(url):\n",
    "    \"\"\"Fetches and parses links from the given URL.\"\"\"\n",
    "    response = requests.get(url)\n",
    "    response.raise_for_status()\n",
    "    soup = BeautifulSoup(response.text, \"html.parser\")\n",
    "    links = [a[\"href\"] for a in soup.find_all(\"a\", href=True)]\n",
    "\n",
    "    # Remove unwanted links\n",
    "    ignored_links = {'?C=N;O=D', '?C=M;O=A', '?C=S;O=A', '?C=D;O=A', '/data/sea-surface-temperature-optimum-interpolation/v2.1/access/'}\n",
    "    filtered_links = [link for link in links if link not in ignored_links]\n",
    "    \n",
    "    return filtered_links"
   ]
  },
  {
   "cell_type": "code",
   "execution_count": 5,
   "metadata": {},
   "outputs": [
    {
     "data": {
      "text/plain": [
       "['198109/',\n",
       " '198110/',\n",
       " '198111/',\n",
       " '198112/',\n",
       " '198201/',\n",
       " '198202/',\n",
       " '198203/',\n",
       " '198204/',\n",
       " '198205/',\n",
       " '198206/',\n",
       " '198207/',\n",
       " '198208/',\n",
       " '198209/',\n",
       " '198210/',\n",
       " '198211/',\n",
       " '198212/',\n",
       " '198301/',\n",
       " '198302/',\n",
       " '198303/',\n",
       " '198304/',\n",
       " '198305/',\n",
       " '198306/',\n",
       " '198307/',\n",
       " '198308/',\n",
       " '198309/',\n",
       " '198310/',\n",
       " '198311/',\n",
       " '198312/',\n",
       " '198401/',\n",
       " '198402/',\n",
       " '198403/',\n",
       " '198404/',\n",
       " '198405/',\n",
       " '198406/',\n",
       " '198407/',\n",
       " '198408/',\n",
       " '198409/',\n",
       " '198410/',\n",
       " '198411/',\n",
       " '198412/',\n",
       " '198501/',\n",
       " '198502/',\n",
       " '198503/',\n",
       " '198504/',\n",
       " '198505/',\n",
       " '198506/',\n",
       " '198507/',\n",
       " '198508/',\n",
       " '198509/',\n",
       " '198510/',\n",
       " '198511/',\n",
       " '198512/',\n",
       " '198601/',\n",
       " '198602/',\n",
       " '198603/',\n",
       " '198604/',\n",
       " '198605/',\n",
       " '198606/',\n",
       " '198607/',\n",
       " '198608/',\n",
       " '198609/',\n",
       " '198610/',\n",
       " '198611/',\n",
       " '198612/',\n",
       " '198701/',\n",
       " '198702/',\n",
       " '198703/',\n",
       " '198704/',\n",
       " '198705/',\n",
       " '198706/',\n",
       " '198707/',\n",
       " '198708/',\n",
       " '198709/',\n",
       " '198710/',\n",
       " '198711/',\n",
       " '198712/',\n",
       " '198801/',\n",
       " '198802/',\n",
       " '198803/',\n",
       " '198804/',\n",
       " '198805/',\n",
       " '198806/',\n",
       " '198807/',\n",
       " '198808/',\n",
       " '198809/',\n",
       " '198810/',\n",
       " '198811/',\n",
       " '198812/',\n",
       " '198901/',\n",
       " '198902/',\n",
       " '198903/',\n",
       " '198904/',\n",
       " '198905/',\n",
       " '198906/',\n",
       " '198907/',\n",
       " '198908/',\n",
       " '198909/',\n",
       " '198910/',\n",
       " '198911/',\n",
       " '198912/',\n",
       " '199001/',\n",
       " '199002/',\n",
       " '199003/',\n",
       " '199004/',\n",
       " '199005/',\n",
       " '199006/',\n",
       " '199007/',\n",
       " '199008/',\n",
       " '199009/',\n",
       " '199010/',\n",
       " '199011/',\n",
       " '199012/',\n",
       " '199101/',\n",
       " '199102/',\n",
       " '199103/',\n",
       " '199104/',\n",
       " '199105/',\n",
       " '199106/',\n",
       " '199107/',\n",
       " '199108/',\n",
       " '199109/',\n",
       " '199110/',\n",
       " '199111/',\n",
       " '199112/',\n",
       " '199201/',\n",
       " '199202/',\n",
       " '199203/',\n",
       " '199204/',\n",
       " '199205/',\n",
       " '199206/',\n",
       " '199207/',\n",
       " '199208/',\n",
       " '199209/',\n",
       " '199210/',\n",
       " '199211/',\n",
       " '199212/',\n",
       " '199301/',\n",
       " '199302/',\n",
       " '199303/',\n",
       " '199304/',\n",
       " '199305/',\n",
       " '199306/',\n",
       " '199307/',\n",
       " '199308/',\n",
       " '199309/',\n",
       " '199310/',\n",
       " '199311/',\n",
       " '199312/',\n",
       " '199401/',\n",
       " '199402/',\n",
       " '199403/',\n",
       " '199404/',\n",
       " '199405/',\n",
       " '199406/',\n",
       " '199407/',\n",
       " '199408/',\n",
       " '199409/',\n",
       " '199410/',\n",
       " '199411/',\n",
       " '199412/',\n",
       " '199501/',\n",
       " '199502/',\n",
       " '199503/',\n",
       " '199504/',\n",
       " '199505/',\n",
       " '199506/',\n",
       " '199507/',\n",
       " '199508/',\n",
       " '199509/',\n",
       " '199510/',\n",
       " '199511/',\n",
       " '199512/',\n",
       " '199601/',\n",
       " '199602/',\n",
       " '199603/',\n",
       " '199604/',\n",
       " '199605/',\n",
       " '199606/',\n",
       " '199607/',\n",
       " '199608/',\n",
       " '199609/',\n",
       " '199610/',\n",
       " '199611/',\n",
       " '199612/',\n",
       " '199701/',\n",
       " '199702/',\n",
       " '199703/',\n",
       " '199704/',\n",
       " '199705/',\n",
       " '199706/',\n",
       " '199707/',\n",
       " '199708/',\n",
       " '199709/',\n",
       " '199710/',\n",
       " '199711/',\n",
       " '199712/',\n",
       " '199801/',\n",
       " '199802/',\n",
       " '199803/',\n",
       " '199804/',\n",
       " '199805/',\n",
       " '199806/',\n",
       " '199807/',\n",
       " '199808/',\n",
       " '199809/',\n",
       " '199810/',\n",
       " '199811/',\n",
       " '199812/',\n",
       " '199901/',\n",
       " '199902/',\n",
       " '199903/',\n",
       " '199904/',\n",
       " '199905/',\n",
       " '199906/',\n",
       " '199907/',\n",
       " '199908/',\n",
       " '199909/',\n",
       " '199910/',\n",
       " '199911/',\n",
       " '199912/',\n",
       " '200001/',\n",
       " '200002/',\n",
       " '200003/',\n",
       " '200004/',\n",
       " '200005/',\n",
       " '200006/',\n",
       " '200007/',\n",
       " '200008/',\n",
       " '200009/',\n",
       " '200010/',\n",
       " '200011/',\n",
       " '200012/',\n",
       " '200101/',\n",
       " '200102/',\n",
       " '200103/',\n",
       " '200104/',\n",
       " '200105/',\n",
       " '200106/',\n",
       " '200107/',\n",
       " '200108/',\n",
       " '200109/',\n",
       " '200110/',\n",
       " '200111/',\n",
       " '200112/',\n",
       " '200201/',\n",
       " '200202/',\n",
       " '200203/',\n",
       " '200204/',\n",
       " '200205/',\n",
       " '200206/',\n",
       " '200207/',\n",
       " '200208/',\n",
       " '200209/',\n",
       " '200210/',\n",
       " '200211/',\n",
       " '200212/',\n",
       " '200301/',\n",
       " '200302/',\n",
       " '200303/',\n",
       " '200304/',\n",
       " '200305/',\n",
       " '200306/',\n",
       " '200307/',\n",
       " '200308/',\n",
       " '200309/',\n",
       " '200310/',\n",
       " '200311/',\n",
       " '200312/',\n",
       " '200401/',\n",
       " '200402/',\n",
       " '200403/',\n",
       " '200404/',\n",
       " '200405/',\n",
       " '200406/',\n",
       " '200407/',\n",
       " '200408/',\n",
       " '200409/',\n",
       " '200410/',\n",
       " '200411/',\n",
       " '200412/',\n",
       " '200501/',\n",
       " '200502/',\n",
       " '200503/',\n",
       " '200504/',\n",
       " '200505/',\n",
       " '200506/',\n",
       " '200507/',\n",
       " '200508/',\n",
       " '200509/',\n",
       " '200510/',\n",
       " '200511/',\n",
       " '200512/',\n",
       " '200601/',\n",
       " '200602/',\n",
       " '200603/',\n",
       " '200604/',\n",
       " '200605/',\n",
       " '200606/',\n",
       " '200607/',\n",
       " '200608/',\n",
       " '200609/',\n",
       " '200610/',\n",
       " '200611/',\n",
       " '200612/',\n",
       " '200701/',\n",
       " '200702/',\n",
       " '200703/',\n",
       " '200704/',\n",
       " '200705/',\n",
       " '200706/',\n",
       " '200707/',\n",
       " '200708/',\n",
       " '200709/',\n",
       " '200710/',\n",
       " '200711/',\n",
       " '200712/',\n",
       " '200801/',\n",
       " '200802/',\n",
       " '200803/',\n",
       " '200804/',\n",
       " '200805/',\n",
       " '200806/',\n",
       " '200807/',\n",
       " '200808/',\n",
       " '200809/',\n",
       " '200810/',\n",
       " '200811/',\n",
       " '200812/',\n",
       " '200901/',\n",
       " '200902/',\n",
       " '200903/',\n",
       " '200904/',\n",
       " '200905/',\n",
       " '200906/',\n",
       " '200907/',\n",
       " '200908/',\n",
       " '200909/',\n",
       " '200910/',\n",
       " '200911/',\n",
       " '200912/',\n",
       " '201001/',\n",
       " '201002/',\n",
       " '201003/',\n",
       " '201004/',\n",
       " '201005/',\n",
       " '201006/',\n",
       " '201007/',\n",
       " '201008/',\n",
       " '201009/',\n",
       " '201010/',\n",
       " '201011/',\n",
       " '201012/',\n",
       " '201101/',\n",
       " '201102/',\n",
       " '201103/',\n",
       " '201104/',\n",
       " '201105/',\n",
       " '201106/',\n",
       " '201107/',\n",
       " '201108/',\n",
       " '201109/',\n",
       " '201110/',\n",
       " '201111/',\n",
       " '201112/',\n",
       " '201201/',\n",
       " '201202/',\n",
       " '201203/',\n",
       " '201204/',\n",
       " '201205/',\n",
       " '201206/',\n",
       " '201207/',\n",
       " '201208/',\n",
       " '201209/',\n",
       " '201210/',\n",
       " '201211/',\n",
       " '201212/',\n",
       " '201301/',\n",
       " '201302/',\n",
       " '201303/',\n",
       " '201304/',\n",
       " '201305/',\n",
       " '201306/',\n",
       " '201307/',\n",
       " '201308/',\n",
       " '201309/',\n",
       " '201310/',\n",
       " '201311/',\n",
       " '201312/',\n",
       " '201401/',\n",
       " '201402/',\n",
       " '201403/',\n",
       " '201404/',\n",
       " '201405/',\n",
       " '201406/',\n",
       " '201407/',\n",
       " '201408/',\n",
       " '201409/',\n",
       " '201410/',\n",
       " '201411/',\n",
       " '201412/',\n",
       " '201501/',\n",
       " '201502/',\n",
       " '201503/',\n",
       " '201504/',\n",
       " '201505/',\n",
       " '201506/',\n",
       " '201507/',\n",
       " '201508/',\n",
       " '201509/',\n",
       " '201510/',\n",
       " '201511/',\n",
       " '201512/',\n",
       " '201601/',\n",
       " '201602/',\n",
       " '201603/',\n",
       " '201604/',\n",
       " '201605/',\n",
       " '201606/',\n",
       " '201607/',\n",
       " '201608/',\n",
       " '201609/',\n",
       " '201610/',\n",
       " '201611/',\n",
       " '201612/',\n",
       " '201701/',\n",
       " '201702/',\n",
       " '201703/',\n",
       " '201704/',\n",
       " '201705/',\n",
       " '201706/',\n",
       " '201707/',\n",
       " '201708/',\n",
       " '201709/',\n",
       " '201710/',\n",
       " '201711/',\n",
       " '201712/',\n",
       " '201801/',\n",
       " '201802/',\n",
       " '201803/',\n",
       " '201804/',\n",
       " '201805/',\n",
       " '201806/',\n",
       " '201807/',\n",
       " '201808/',\n",
       " '201809/',\n",
       " '201810/',\n",
       " '201811/',\n",
       " '201812/',\n",
       " '201901/',\n",
       " '201902/',\n",
       " '201903/',\n",
       " '201904/',\n",
       " '201905/',\n",
       " '201906/',\n",
       " '201907/',\n",
       " '201908/',\n",
       " '201909/',\n",
       " '201910/',\n",
       " '201911/',\n",
       " '201912/',\n",
       " '202001/',\n",
       " '202002/',\n",
       " '202003/',\n",
       " '202004/',\n",
       " '202005/',\n",
       " '202006/',\n",
       " '202007/',\n",
       " '202008/',\n",
       " '202009/',\n",
       " '202010/',\n",
       " '202011/',\n",
       " '202012/',\n",
       " '202101/',\n",
       " '202102/',\n",
       " '202103/',\n",
       " '202104/',\n",
       " '202105/',\n",
       " '202106/',\n",
       " '202107/',\n",
       " '202108/',\n",
       " '202109/',\n",
       " '202110/',\n",
       " '202111/',\n",
       " '202112/',\n",
       " '202201/',\n",
       " '202202/',\n",
       " '202203/',\n",
       " '202204/',\n",
       " '202205/',\n",
       " '202206/',\n",
       " '202207/',\n",
       " '202208/',\n",
       " '202209/',\n",
       " '202210/',\n",
       " '202211/',\n",
       " '202212/',\n",
       " '202301/',\n",
       " '202302/',\n",
       " '202303/',\n",
       " '202304/',\n",
       " '202305/',\n",
       " '202306/',\n",
       " '202307/',\n",
       " '202308/',\n",
       " '202309/',\n",
       " '202310/',\n",
       " '202311/',\n",
       " '202312/',\n",
       " '202401/',\n",
       " '202402/',\n",
       " '202403/',\n",
       " '202404/',\n",
       " '202405/',\n",
       " '202406/',\n",
       " '202407/',\n",
       " '202408/',\n",
       " '202409/',\n",
       " '202410/',\n",
       " '202411/',\n",
       " '202412/',\n",
       " '202501/',\n",
       " '202502/',\n",
       " '202503/']"
      ]
     },
     "execution_count": 5,
     "metadata": {},
     "output_type": "execute_result"
    }
   ],
   "source": [
    "# Get all year/month links\n",
    "year_month_links = get_links(BASE_URL)\n",
    "year_month_links"
   ]
  },
  {
   "cell_type": "code",
   "execution_count": 6,
   "metadata": {},
   "outputs": [],
   "source": [
    "def download_file(url, save_path):\n",
    "    \"\"\"Downloads a file with a progress bar.\"\"\"\n",
    "    response = requests.get(url, stream=True)\n",
    "    response.raise_for_status()\n",
    "    \n",
    "    total_size = int(response.headers.get(\"content-length\", 0))\n",
    "    with open(save_path, \"wb\") as file, tqdm(\n",
    "        desc=os.path.basename(save_path),\n",
    "        total=total_size,\n",
    "        unit=\"B\",\n",
    "        unit_scale=True,\n",
    "        unit_divisor=1024,\n",
    "    ) as bar:\n",
    "        for chunk in response.iter_content(chunk_size=8192):\n",
    "            file.write(chunk)\n",
    "            bar.update(len(chunk))"
   ]
  },
  {
   "cell_type": "code",
   "execution_count": 8,
   "metadata": {},
   "outputs": [
    {
     "name": "stdout",
     "output_type": "stream",
     "text": [
      "Processing: https://www.ncei.noaa.gov/data/sea-surface-temperature-optimum-interpolation/v2.1/access/avhrr/199001/\n",
      "Already downloaded: oisst-avhrr-v02r01.19900101.nc\n",
      "Already downloaded: oisst-avhrr-v02r01.19900102.nc\n",
      "Already downloaded: oisst-avhrr-v02r01.19900103.nc\n",
      "Already downloaded: oisst-avhrr-v02r01.19900104.nc\n",
      "Already downloaded: oisst-avhrr-v02r01.19900105.nc\n",
      "Already downloaded: oisst-avhrr-v02r01.19900106.nc\n",
      "Already downloaded: oisst-avhrr-v02r01.19900107.nc\n",
      "Already downloaded: oisst-avhrr-v02r01.19900108.nc\n",
      "Already downloaded: oisst-avhrr-v02r01.19900109.nc\n",
      "Already downloaded: oisst-avhrr-v02r01.19900110.nc\n",
      "Already downloaded: oisst-avhrr-v02r01.19900111.nc\n",
      "Already downloaded: oisst-avhrr-v02r01.19900112.nc\n",
      "Already downloaded: oisst-avhrr-v02r01.19900113.nc\n",
      "Already downloaded: oisst-avhrr-v02r01.19900114.nc\n",
      "Already downloaded: oisst-avhrr-v02r01.19900115.nc\n",
      "Already downloaded: oisst-avhrr-v02r01.19900116.nc\n",
      "Already downloaded: oisst-avhrr-v02r01.19900117.nc\n",
      "Already downloaded: oisst-avhrr-v02r01.19900118.nc\n",
      "Already downloaded: oisst-avhrr-v02r01.19900119.nc\n",
      "Already downloaded: oisst-avhrr-v02r01.19900120.nc\n",
      "Already downloaded: oisst-avhrr-v02r01.19900121.nc\n",
      "Already downloaded: oisst-avhrr-v02r01.19900122.nc\n",
      "Already downloaded: oisst-avhrr-v02r01.19900123.nc\n",
      "Already downloaded: oisst-avhrr-v02r01.19900124.nc\n",
      "Already downloaded: oisst-avhrr-v02r01.19900125.nc\n",
      "Already downloaded: oisst-avhrr-v02r01.19900126.nc\n",
      "Already downloaded: oisst-avhrr-v02r01.19900127.nc\n",
      "Already downloaded: oisst-avhrr-v02r01.19900128.nc\n",
      "Already downloaded: oisst-avhrr-v02r01.19900129.nc\n",
      "Already downloaded: oisst-avhrr-v02r01.19900130.nc\n",
      "Already downloaded: oisst-avhrr-v02r01.19900131.nc\n",
      "Processing: https://www.ncei.noaa.gov/data/sea-surface-temperature-optimum-interpolation/v2.1/access/avhrr/199002/\n",
      "Already downloaded: oisst-avhrr-v02r01.19900201.nc\n",
      "Already downloaded: oisst-avhrr-v02r01.19900202.nc\n",
      "Already downloaded: oisst-avhrr-v02r01.19900203.nc\n",
      "Already downloaded: oisst-avhrr-v02r01.19900204.nc\n",
      "Already downloaded: oisst-avhrr-v02r01.19900205.nc\n",
      "Already downloaded: oisst-avhrr-v02r01.19900206.nc\n",
      "Already downloaded: oisst-avhrr-v02r01.19900207.nc\n",
      "Already downloaded: oisst-avhrr-v02r01.19900208.nc\n",
      "Already downloaded: oisst-avhrr-v02r01.19900209.nc\n",
      "Already downloaded: oisst-avhrr-v02r01.19900210.nc\n",
      "Already downloaded: oisst-avhrr-v02r01.19900211.nc\n",
      "Already downloaded: oisst-avhrr-v02r01.19900212.nc\n",
      "Already downloaded: oisst-avhrr-v02r01.19900213.nc\n",
      "Already downloaded: oisst-avhrr-v02r01.19900214.nc\n",
      "Already downloaded: oisst-avhrr-v02r01.19900215.nc\n",
      "Already downloaded: oisst-avhrr-v02r01.19900216.nc\n",
      "Already downloaded: oisst-avhrr-v02r01.19900217.nc\n",
      "Already downloaded: oisst-avhrr-v02r01.19900218.nc\n",
      "Already downloaded: oisst-avhrr-v02r01.19900219.nc\n",
      "Already downloaded: oisst-avhrr-v02r01.19900220.nc\n",
      "Already downloaded: oisst-avhrr-v02r01.19900221.nc\n",
      "Already downloaded: oisst-avhrr-v02r01.19900222.nc\n",
      "Already downloaded: oisst-avhrr-v02r01.19900223.nc\n",
      "Already downloaded: oisst-avhrr-v02r01.19900224.nc\n",
      "Already downloaded: oisst-avhrr-v02r01.19900225.nc\n",
      "Already downloaded: oisst-avhrr-v02r01.19900226.nc\n",
      "Already downloaded: oisst-avhrr-v02r01.19900227.nc\n",
      "Already downloaded: oisst-avhrr-v02r01.19900228.nc\n",
      "Processing: https://www.ncei.noaa.gov/data/sea-surface-temperature-optimum-interpolation/v2.1/access/avhrr/199003/\n",
      "Already downloaded: oisst-avhrr-v02r01.19900301.nc\n",
      "Already downloaded: oisst-avhrr-v02r01.19900302.nc\n",
      "Already downloaded: oisst-avhrr-v02r01.19900303.nc\n",
      "Already downloaded: oisst-avhrr-v02r01.19900304.nc\n",
      "Already downloaded: oisst-avhrr-v02r01.19900305.nc\n",
      "Already downloaded: oisst-avhrr-v02r01.19900306.nc\n",
      "Already downloaded: oisst-avhrr-v02r01.19900307.nc\n",
      "Already downloaded: oisst-avhrr-v02r01.19900308.nc\n",
      "Already downloaded: oisst-avhrr-v02r01.19900309.nc\n",
      "Already downloaded: oisst-avhrr-v02r01.19900310.nc\n",
      "Already downloaded: oisst-avhrr-v02r01.19900311.nc\n",
      "Already downloaded: oisst-avhrr-v02r01.19900312.nc\n",
      "Already downloaded: oisst-avhrr-v02r01.19900313.nc\n",
      "Already downloaded: oisst-avhrr-v02r01.19900314.nc\n",
      "Already downloaded: oisst-avhrr-v02r01.19900315.nc\n",
      "Already downloaded: oisst-avhrr-v02r01.19900316.nc\n",
      "Already downloaded: oisst-avhrr-v02r01.19900317.nc\n",
      "Already downloaded: oisst-avhrr-v02r01.19900318.nc\n",
      "Already downloaded: oisst-avhrr-v02r01.19900319.nc\n",
      "Already downloaded: oisst-avhrr-v02r01.19900320.nc\n",
      "Already downloaded: oisst-avhrr-v02r01.19900321.nc\n",
      "Already downloaded: oisst-avhrr-v02r01.19900322.nc\n",
      "Already downloaded: oisst-avhrr-v02r01.19900323.nc\n",
      "Already downloaded: oisst-avhrr-v02r01.19900324.nc\n",
      "Already downloaded: oisst-avhrr-v02r01.19900325.nc\n",
      "Already downloaded: oisst-avhrr-v02r01.19900326.nc\n",
      "Already downloaded: oisst-avhrr-v02r01.19900327.nc\n",
      "Already downloaded: oisst-avhrr-v02r01.19900328.nc\n",
      "Already downloaded: oisst-avhrr-v02r01.19900329.nc\n",
      "Already downloaded: oisst-avhrr-v02r01.19900330.nc\n",
      "Already downloaded: oisst-avhrr-v02r01.19900331.nc\n",
      "Processing: https://www.ncei.noaa.gov/data/sea-surface-temperature-optimum-interpolation/v2.1/access/avhrr/199004/\n",
      "Already downloaded: oisst-avhrr-v02r01.19900401.nc\n",
      "Already downloaded: oisst-avhrr-v02r01.19900402.nc\n",
      "Already downloaded: oisst-avhrr-v02r01.19900403.nc\n",
      "Already downloaded: oisst-avhrr-v02r01.19900404.nc\n",
      "Already downloaded: oisst-avhrr-v02r01.19900405.nc\n",
      "Already downloaded: oisst-avhrr-v02r01.19900406.nc\n",
      "Already downloaded: oisst-avhrr-v02r01.19900407.nc\n",
      "Already downloaded: oisst-avhrr-v02r01.19900408.nc\n",
      "Already downloaded: oisst-avhrr-v02r01.19900409.nc\n",
      "Already downloaded: oisst-avhrr-v02r01.19900410.nc\n",
      "Already downloaded: oisst-avhrr-v02r01.19900411.nc\n",
      "Already downloaded: oisst-avhrr-v02r01.19900412.nc\n",
      "Already downloaded: oisst-avhrr-v02r01.19900413.nc\n",
      "Already downloaded: oisst-avhrr-v02r01.19900414.nc\n",
      "Already downloaded: oisst-avhrr-v02r01.19900415.nc\n",
      "Already downloaded: oisst-avhrr-v02r01.19900416.nc\n",
      "Already downloaded: oisst-avhrr-v02r01.19900417.nc\n",
      "Already downloaded: oisst-avhrr-v02r01.19900418.nc\n",
      "Already downloaded: oisst-avhrr-v02r01.19900419.nc\n",
      "Already downloaded: oisst-avhrr-v02r01.19900420.nc\n",
      "Already downloaded: oisst-avhrr-v02r01.19900421.nc\n",
      "Already downloaded: oisst-avhrr-v02r01.19900422.nc\n",
      "Already downloaded: oisst-avhrr-v02r01.19900423.nc\n",
      "Already downloaded: oisst-avhrr-v02r01.19900424.nc\n",
      "Already downloaded: oisst-avhrr-v02r01.19900425.nc\n",
      "Already downloaded: oisst-avhrr-v02r01.19900426.nc\n",
      "Already downloaded: oisst-avhrr-v02r01.19900427.nc\n",
      "Already downloaded: oisst-avhrr-v02r01.19900428.nc\n",
      "Already downloaded: oisst-avhrr-v02r01.19900429.nc\n",
      "Already downloaded: oisst-avhrr-v02r01.19900430.nc\n",
      "Processing: https://www.ncei.noaa.gov/data/sea-surface-temperature-optimum-interpolation/v2.1/access/avhrr/199005/\n",
      "Already downloaded: oisst-avhrr-v02r01.19900501.nc\n",
      "Already downloaded: oisst-avhrr-v02r01.19900502.nc\n",
      "Already downloaded: oisst-avhrr-v02r01.19900503.nc\n",
      "Already downloaded: oisst-avhrr-v02r01.19900504.nc\n",
      "Already downloaded: oisst-avhrr-v02r01.19900505.nc\n",
      "Already downloaded: oisst-avhrr-v02r01.19900506.nc\n",
      "Already downloaded: oisst-avhrr-v02r01.19900507.nc\n",
      "Already downloaded: oisst-avhrr-v02r01.19900508.nc\n",
      "Already downloaded: oisst-avhrr-v02r01.19900509.nc\n",
      "Already downloaded: oisst-avhrr-v02r01.19900510.nc\n",
      "Already downloaded: oisst-avhrr-v02r01.19900511.nc\n",
      "Already downloaded: oisst-avhrr-v02r01.19900512.nc\n",
      "Already downloaded: oisst-avhrr-v02r01.19900513.nc\n",
      "Already downloaded: oisst-avhrr-v02r01.19900514.nc\n",
      "Already downloaded: oisst-avhrr-v02r01.19900515.nc\n",
      "Already downloaded: oisst-avhrr-v02r01.19900516.nc\n",
      "Already downloaded: oisst-avhrr-v02r01.19900517.nc\n",
      "Already downloaded: oisst-avhrr-v02r01.19900518.nc\n",
      "Already downloaded: oisst-avhrr-v02r01.19900519.nc\n",
      "Already downloaded: oisst-avhrr-v02r01.19900520.nc\n",
      "Already downloaded: oisst-avhrr-v02r01.19900521.nc\n",
      "Already downloaded: oisst-avhrr-v02r01.19900522.nc\n",
      "Already downloaded: oisst-avhrr-v02r01.19900523.nc\n",
      "Already downloaded: oisst-avhrr-v02r01.19900524.nc\n",
      "Already downloaded: oisst-avhrr-v02r01.19900525.nc\n",
      "Already downloaded: oisst-avhrr-v02r01.19900526.nc\n",
      "Already downloaded: oisst-avhrr-v02r01.19900527.nc\n",
      "Already downloaded: oisst-avhrr-v02r01.19900528.nc\n",
      "Already downloaded: oisst-avhrr-v02r01.19900529.nc\n",
      "Already downloaded: oisst-avhrr-v02r01.19900530.nc\n",
      "Already downloaded: oisst-avhrr-v02r01.19900531.nc\n",
      "Processing: https://www.ncei.noaa.gov/data/sea-surface-temperature-optimum-interpolation/v2.1/access/avhrr/199006/\n",
      "Already downloaded: oisst-avhrr-v02r01.19900601.nc\n",
      "Already downloaded: oisst-avhrr-v02r01.19900602.nc\n",
      "Already downloaded: oisst-avhrr-v02r01.19900603.nc\n",
      "Already downloaded: oisst-avhrr-v02r01.19900604.nc\n",
      "Already downloaded: oisst-avhrr-v02r01.19900605.nc\n",
      "Already downloaded: oisst-avhrr-v02r01.19900606.nc\n",
      "Already downloaded: oisst-avhrr-v02r01.19900607.nc\n",
      "Already downloaded: oisst-avhrr-v02r01.19900608.nc\n",
      "Already downloaded: oisst-avhrr-v02r01.19900609.nc\n",
      "Already downloaded: oisst-avhrr-v02r01.19900610.nc\n",
      "Already downloaded: oisst-avhrr-v02r01.19900611.nc\n",
      "Already downloaded: oisst-avhrr-v02r01.19900612.nc\n",
      "Already downloaded: oisst-avhrr-v02r01.19900613.nc\n",
      "Already downloaded: oisst-avhrr-v02r01.19900614.nc\n",
      "Already downloaded: oisst-avhrr-v02r01.19900615.nc\n",
      "Already downloaded: oisst-avhrr-v02r01.19900616.nc\n",
      "Already downloaded: oisst-avhrr-v02r01.19900617.nc\n",
      "Already downloaded: oisst-avhrr-v02r01.19900618.nc\n",
      "Already downloaded: oisst-avhrr-v02r01.19900619.nc\n",
      "Already downloaded: oisst-avhrr-v02r01.19900620.nc\n",
      "Already downloaded: oisst-avhrr-v02r01.19900621.nc\n",
      "Already downloaded: oisst-avhrr-v02r01.19900622.nc\n",
      "Already downloaded: oisst-avhrr-v02r01.19900623.nc\n",
      "Already downloaded: oisst-avhrr-v02r01.19900624.nc\n",
      "Already downloaded: oisst-avhrr-v02r01.19900625.nc\n",
      "Already downloaded: oisst-avhrr-v02r01.19900626.nc\n",
      "Already downloaded: oisst-avhrr-v02r01.19900627.nc\n",
      "Already downloaded: oisst-avhrr-v02r01.19900628.nc\n",
      "Already downloaded: oisst-avhrr-v02r01.19900629.nc\n",
      "Already downloaded: oisst-avhrr-v02r01.19900630.nc\n",
      "Processing: https://www.ncei.noaa.gov/data/sea-surface-temperature-optimum-interpolation/v2.1/access/avhrr/199007/\n",
      "Already downloaded: oisst-avhrr-v02r01.19900701.nc\n",
      "Already downloaded: oisst-avhrr-v02r01.19900702.nc\n",
      "Already downloaded: oisst-avhrr-v02r01.19900703.nc\n",
      "Already downloaded: oisst-avhrr-v02r01.19900704.nc\n",
      "Already downloaded: oisst-avhrr-v02r01.19900705.nc\n",
      "Already downloaded: oisst-avhrr-v02r01.19900706.nc\n",
      "Already downloaded: oisst-avhrr-v02r01.19900707.nc\n",
      "Already downloaded: oisst-avhrr-v02r01.19900708.nc\n",
      "Already downloaded: oisst-avhrr-v02r01.19900709.nc\n",
      "Already downloaded: oisst-avhrr-v02r01.19900710.nc\n",
      "Already downloaded: oisst-avhrr-v02r01.19900711.nc\n",
      "Already downloaded: oisst-avhrr-v02r01.19900712.nc\n",
      "Already downloaded: oisst-avhrr-v02r01.19900713.nc\n",
      "Already downloaded: oisst-avhrr-v02r01.19900714.nc\n",
      "Already downloaded: oisst-avhrr-v02r01.19900715.nc\n",
      "Already downloaded: oisst-avhrr-v02r01.19900716.nc\n",
      "Already downloaded: oisst-avhrr-v02r01.19900717.nc\n",
      "Already downloaded: oisst-avhrr-v02r01.19900718.nc\n",
      "Already downloaded: oisst-avhrr-v02r01.19900719.nc\n",
      "Already downloaded: oisst-avhrr-v02r01.19900720.nc\n",
      "Already downloaded: oisst-avhrr-v02r01.19900721.nc\n",
      "Already downloaded: oisst-avhrr-v02r01.19900722.nc\n",
      "Already downloaded: oisst-avhrr-v02r01.19900723.nc\n",
      "Already downloaded: oisst-avhrr-v02r01.19900724.nc\n",
      "Already downloaded: oisst-avhrr-v02r01.19900725.nc\n",
      "Already downloaded: oisst-avhrr-v02r01.19900726.nc\n",
      "Already downloaded: oisst-avhrr-v02r01.19900727.nc\n",
      "Already downloaded: oisst-avhrr-v02r01.19900728.nc\n",
      "Already downloaded: oisst-avhrr-v02r01.19900729.nc\n",
      "Already downloaded: oisst-avhrr-v02r01.19900730.nc\n",
      "Already downloaded: oisst-avhrr-v02r01.19900731.nc\n",
      "Processing: https://www.ncei.noaa.gov/data/sea-surface-temperature-optimum-interpolation/v2.1/access/avhrr/199008/\n",
      "Already downloaded: oisst-avhrr-v02r01.19900801.nc\n",
      "Already downloaded: oisst-avhrr-v02r01.19900802.nc\n",
      "Already downloaded: oisst-avhrr-v02r01.19900803.nc\n",
      "Already downloaded: oisst-avhrr-v02r01.19900804.nc\n",
      "Already downloaded: oisst-avhrr-v02r01.19900805.nc\n",
      "Already downloaded: oisst-avhrr-v02r01.19900806.nc\n",
      "Already downloaded: oisst-avhrr-v02r01.19900807.nc\n",
      "Already downloaded: oisst-avhrr-v02r01.19900808.nc\n",
      "Already downloaded: oisst-avhrr-v02r01.19900809.nc\n",
      "Already downloaded: oisst-avhrr-v02r01.19900810.nc\n",
      "Already downloaded: oisst-avhrr-v02r01.19900811.nc\n",
      "Already downloaded: oisst-avhrr-v02r01.19900812.nc\n",
      "Already downloaded: oisst-avhrr-v02r01.19900813.nc\n",
      "Already downloaded: oisst-avhrr-v02r01.19900814.nc\n",
      "Already downloaded: oisst-avhrr-v02r01.19900815.nc\n",
      "Already downloaded: oisst-avhrr-v02r01.19900816.nc\n",
      "Already downloaded: oisst-avhrr-v02r01.19900817.nc\n",
      "Already downloaded: oisst-avhrr-v02r01.19900818.nc\n",
      "Already downloaded: oisst-avhrr-v02r01.19900819.nc\n",
      "Already downloaded: oisst-avhrr-v02r01.19900820.nc\n",
      "Already downloaded: oisst-avhrr-v02r01.19900821.nc\n",
      "Already downloaded: oisst-avhrr-v02r01.19900822.nc\n",
      "Already downloaded: oisst-avhrr-v02r01.19900823.nc\n",
      "Already downloaded: oisst-avhrr-v02r01.19900824.nc\n",
      "Already downloaded: oisst-avhrr-v02r01.19900825.nc\n",
      "Already downloaded: oisst-avhrr-v02r01.19900826.nc\n",
      "Already downloaded: oisst-avhrr-v02r01.19900827.nc\n",
      "Already downloaded: oisst-avhrr-v02r01.19900828.nc\n",
      "Already downloaded: oisst-avhrr-v02r01.19900829.nc\n",
      "Already downloaded: oisst-avhrr-v02r01.19900830.nc\n",
      "Already downloaded: oisst-avhrr-v02r01.19900831.nc\n",
      "Processing: https://www.ncei.noaa.gov/data/sea-surface-temperature-optimum-interpolation/v2.1/access/avhrr/199009/\n",
      "Already downloaded: oisst-avhrr-v02r01.19900901.nc\n",
      "Already downloaded: oisst-avhrr-v02r01.19900902.nc\n",
      "Already downloaded: oisst-avhrr-v02r01.19900903.nc\n",
      "Already downloaded: oisst-avhrr-v02r01.19900904.nc\n",
      "Already downloaded: oisst-avhrr-v02r01.19900905.nc\n",
      "Already downloaded: oisst-avhrr-v02r01.19900906.nc\n",
      "Already downloaded: oisst-avhrr-v02r01.19900907.nc\n",
      "Already downloaded: oisst-avhrr-v02r01.19900908.nc\n",
      "Already downloaded: oisst-avhrr-v02r01.19900909.nc\n",
      "Already downloaded: oisst-avhrr-v02r01.19900910.nc\n",
      "Already downloaded: oisst-avhrr-v02r01.19900911.nc\n",
      "Already downloaded: oisst-avhrr-v02r01.19900912.nc\n",
      "Already downloaded: oisst-avhrr-v02r01.19900913.nc\n",
      "Already downloaded: oisst-avhrr-v02r01.19900914.nc\n",
      "Already downloaded: oisst-avhrr-v02r01.19900915.nc\n",
      "Already downloaded: oisst-avhrr-v02r01.19900916.nc\n",
      "Already downloaded: oisst-avhrr-v02r01.19900917.nc\n",
      "Already downloaded: oisst-avhrr-v02r01.19900918.nc\n",
      "Already downloaded: oisst-avhrr-v02r01.19900919.nc\n",
      "Already downloaded: oisst-avhrr-v02r01.19900920.nc\n",
      "Already downloaded: oisst-avhrr-v02r01.19900921.nc\n",
      "Already downloaded: oisst-avhrr-v02r01.19900922.nc\n",
      "Already downloaded: oisst-avhrr-v02r01.19900923.nc\n",
      "Already downloaded: oisst-avhrr-v02r01.19900924.nc\n",
      "Already downloaded: oisst-avhrr-v02r01.19900925.nc\n",
      "Already downloaded: oisst-avhrr-v02r01.19900926.nc\n",
      "Already downloaded: oisst-avhrr-v02r01.19900927.nc\n",
      "Already downloaded: oisst-avhrr-v02r01.19900928.nc\n",
      "Already downloaded: oisst-avhrr-v02r01.19900929.nc\n",
      "Already downloaded: oisst-avhrr-v02r01.19900930.nc\n",
      "Processing: https://www.ncei.noaa.gov/data/sea-surface-temperature-optimum-interpolation/v2.1/access/avhrr/199010/\n",
      "Already downloaded: oisst-avhrr-v02r01.19901001.nc\n",
      "Already downloaded: oisst-avhrr-v02r01.19901002.nc\n",
      "Already downloaded: oisst-avhrr-v02r01.19901003.nc\n",
      "Already downloaded: oisst-avhrr-v02r01.19901004.nc\n",
      "Already downloaded: oisst-avhrr-v02r01.19901005.nc\n",
      "Already downloaded: oisst-avhrr-v02r01.19901006.nc\n",
      "Already downloaded: oisst-avhrr-v02r01.19901007.nc\n",
      "Already downloaded: oisst-avhrr-v02r01.19901008.nc\n",
      "Already downloaded: oisst-avhrr-v02r01.19901009.nc\n",
      "Already downloaded: oisst-avhrr-v02r01.19901010.nc\n",
      "Already downloaded: oisst-avhrr-v02r01.19901011.nc\n",
      "Already downloaded: oisst-avhrr-v02r01.19901012.nc\n",
      "Already downloaded: oisst-avhrr-v02r01.19901013.nc\n",
      "Already downloaded: oisst-avhrr-v02r01.19901014.nc\n",
      "Already downloaded: oisst-avhrr-v02r01.19901015.nc\n",
      "Already downloaded: oisst-avhrr-v02r01.19901016.nc\n",
      "Already downloaded: oisst-avhrr-v02r01.19901017.nc\n",
      "Already downloaded: oisst-avhrr-v02r01.19901018.nc\n",
      "Already downloaded: oisst-avhrr-v02r01.19901019.nc\n",
      "Already downloaded: oisst-avhrr-v02r01.19901020.nc\n",
      "Already downloaded: oisst-avhrr-v02r01.19901021.nc\n",
      "Already downloaded: oisst-avhrr-v02r01.19901022.nc\n",
      "Already downloaded: oisst-avhrr-v02r01.19901023.nc\n",
      "Already downloaded: oisst-avhrr-v02r01.19901024.nc\n",
      "Already downloaded: oisst-avhrr-v02r01.19901025.nc\n",
      "Already downloaded: oisst-avhrr-v02r01.19901026.nc\n",
      "Already downloaded: oisst-avhrr-v02r01.19901027.nc\n",
      "Already downloaded: oisst-avhrr-v02r01.19901028.nc\n",
      "Already downloaded: oisst-avhrr-v02r01.19901029.nc\n",
      "Already downloaded: oisst-avhrr-v02r01.19901030.nc\n",
      "Already downloaded: oisst-avhrr-v02r01.19901031.nc\n",
      "Processing: https://www.ncei.noaa.gov/data/sea-surface-temperature-optimum-interpolation/v2.1/access/avhrr/199011/\n",
      "Already downloaded: oisst-avhrr-v02r01.19901101.nc\n",
      "Already downloaded: oisst-avhrr-v02r01.19901102.nc\n",
      "Already downloaded: oisst-avhrr-v02r01.19901103.nc\n",
      "Already downloaded: oisst-avhrr-v02r01.19901104.nc\n",
      "Already downloaded: oisst-avhrr-v02r01.19901105.nc\n",
      "Already downloaded: oisst-avhrr-v02r01.19901106.nc\n",
      "Already downloaded: oisst-avhrr-v02r01.19901107.nc\n",
      "Already downloaded: oisst-avhrr-v02r01.19901108.nc\n",
      "Already downloaded: oisst-avhrr-v02r01.19901109.nc\n",
      "Already downloaded: oisst-avhrr-v02r01.19901110.nc\n",
      "Already downloaded: oisst-avhrr-v02r01.19901111.nc\n",
      "Already downloaded: oisst-avhrr-v02r01.19901112.nc\n",
      "Already downloaded: oisst-avhrr-v02r01.19901113.nc\n",
      "Already downloaded: oisst-avhrr-v02r01.19901114.nc\n",
      "Already downloaded: oisst-avhrr-v02r01.19901115.nc\n",
      "Already downloaded: oisst-avhrr-v02r01.19901116.nc\n",
      "Already downloaded: oisst-avhrr-v02r01.19901117.nc\n",
      "Already downloaded: oisst-avhrr-v02r01.19901118.nc\n",
      "Already downloaded: oisst-avhrr-v02r01.19901119.nc\n",
      "Already downloaded: oisst-avhrr-v02r01.19901120.nc\n",
      "Already downloaded: oisst-avhrr-v02r01.19901121.nc\n",
      "Already downloaded: oisst-avhrr-v02r01.19901122.nc\n",
      "Already downloaded: oisst-avhrr-v02r01.19901123.nc\n",
      "Already downloaded: oisst-avhrr-v02r01.19901124.nc\n",
      "Already downloaded: oisst-avhrr-v02r01.19901125.nc\n",
      "Already downloaded: oisst-avhrr-v02r01.19901126.nc\n",
      "Already downloaded: oisst-avhrr-v02r01.19901127.nc\n",
      "Already downloaded: oisst-avhrr-v02r01.19901128.nc\n",
      "Already downloaded: oisst-avhrr-v02r01.19901129.nc\n",
      "Already downloaded: oisst-avhrr-v02r01.19901130.nc\n",
      "Processing: https://www.ncei.noaa.gov/data/sea-surface-temperature-optimum-interpolation/v2.1/access/avhrr/199012/\n",
      "Already downloaded: oisst-avhrr-v02r01.19901201.nc\n",
      "Already downloaded: oisst-avhrr-v02r01.19901202.nc\n",
      "Already downloaded: oisst-avhrr-v02r01.19901203.nc\n",
      "Already downloaded: oisst-avhrr-v02r01.19901204.nc\n",
      "Already downloaded: oisst-avhrr-v02r01.19901205.nc\n",
      "Already downloaded: oisst-avhrr-v02r01.19901206.nc\n",
      "Already downloaded: oisst-avhrr-v02r01.19901207.nc\n",
      "Already downloaded: oisst-avhrr-v02r01.19901208.nc\n",
      "Already downloaded: oisst-avhrr-v02r01.19901209.nc\n",
      "Already downloaded: oisst-avhrr-v02r01.19901210.nc\n",
      "Already downloaded: oisst-avhrr-v02r01.19901211.nc\n",
      "Already downloaded: oisst-avhrr-v02r01.19901212.nc\n",
      "Already downloaded: oisst-avhrr-v02r01.19901213.nc\n",
      "Already downloaded: oisst-avhrr-v02r01.19901214.nc\n",
      "Already downloaded: oisst-avhrr-v02r01.19901215.nc\n",
      "Already downloaded: oisst-avhrr-v02r01.19901216.nc\n",
      "Already downloaded: oisst-avhrr-v02r01.19901217.nc\n",
      "Already downloaded: oisst-avhrr-v02r01.19901218.nc\n",
      "Already downloaded: oisst-avhrr-v02r01.19901219.nc\n",
      "Already downloaded: oisst-avhrr-v02r01.19901220.nc\n",
      "Already downloaded: oisst-avhrr-v02r01.19901221.nc\n",
      "Already downloaded: oisst-avhrr-v02r01.19901222.nc\n",
      "Already downloaded: oisst-avhrr-v02r01.19901223.nc\n",
      "Already downloaded: oisst-avhrr-v02r01.19901224.nc\n",
      "Already downloaded: oisst-avhrr-v02r01.19901225.nc\n",
      "Already downloaded: oisst-avhrr-v02r01.19901226.nc\n",
      "Already downloaded: oisst-avhrr-v02r01.19901227.nc\n",
      "Already downloaded: oisst-avhrr-v02r01.19901228.nc\n",
      "Already downloaded: oisst-avhrr-v02r01.19901229.nc\n",
      "Already downloaded: oisst-avhrr-v02r01.19901230.nc\n",
      "Already downloaded: oisst-avhrr-v02r01.19901231.nc\n",
      "Processing: https://www.ncei.noaa.gov/data/sea-surface-temperature-optimum-interpolation/v2.1/access/avhrr/199101/\n",
      "Already downloaded: oisst-avhrr-v02r01.19910101.nc\n",
      "Already downloaded: oisst-avhrr-v02r01.19910102.nc\n",
      "Already downloaded: oisst-avhrr-v02r01.19910103.nc\n",
      "Already downloaded: oisst-avhrr-v02r01.19910104.nc\n",
      "Already downloaded: oisst-avhrr-v02r01.19910105.nc\n",
      "Already downloaded: oisst-avhrr-v02r01.19910106.nc\n",
      "Already downloaded: oisst-avhrr-v02r01.19910107.nc\n",
      "Already downloaded: oisst-avhrr-v02r01.19910108.nc\n",
      "Already downloaded: oisst-avhrr-v02r01.19910109.nc\n",
      "Already downloaded: oisst-avhrr-v02r01.19910110.nc\n",
      "Already downloaded: oisst-avhrr-v02r01.19910111.nc\n",
      "Already downloaded: oisst-avhrr-v02r01.19910112.nc\n",
      "Already downloaded: oisst-avhrr-v02r01.19910113.nc\n",
      "Already downloaded: oisst-avhrr-v02r01.19910114.nc\n",
      "Already downloaded: oisst-avhrr-v02r01.19910115.nc\n",
      "Already downloaded: oisst-avhrr-v02r01.19910116.nc\n",
      "Already downloaded: oisst-avhrr-v02r01.19910117.nc\n",
      "Already downloaded: oisst-avhrr-v02r01.19910118.nc\n",
      "Already downloaded: oisst-avhrr-v02r01.19910119.nc\n",
      "Already downloaded: oisst-avhrr-v02r01.19910120.nc\n",
      "Already downloaded: oisst-avhrr-v02r01.19910121.nc\n",
      "Already downloaded: oisst-avhrr-v02r01.19910122.nc\n",
      "Already downloaded: oisst-avhrr-v02r01.19910123.nc\n",
      "Already downloaded: oisst-avhrr-v02r01.19910124.nc\n",
      "Already downloaded: oisst-avhrr-v02r01.19910125.nc\n",
      "Already downloaded: oisst-avhrr-v02r01.19910126.nc\n",
      "Already downloaded: oisst-avhrr-v02r01.19910127.nc\n",
      "Already downloaded: oisst-avhrr-v02r01.19910128.nc\n",
      "Already downloaded: oisst-avhrr-v02r01.19910129.nc\n",
      "Already downloaded: oisst-avhrr-v02r01.19910130.nc\n",
      "Already downloaded: oisst-avhrr-v02r01.19910131.nc\n",
      "Processing: https://www.ncei.noaa.gov/data/sea-surface-temperature-optimum-interpolation/v2.1/access/avhrr/199102/\n",
      "Already downloaded: oisst-avhrr-v02r01.19910201.nc\n",
      "Already downloaded: oisst-avhrr-v02r01.19910202.nc\n",
      "Already downloaded: oisst-avhrr-v02r01.19910203.nc\n",
      "Already downloaded: oisst-avhrr-v02r01.19910204.nc\n",
      "Already downloaded: oisst-avhrr-v02r01.19910205.nc\n",
      "Already downloaded: oisst-avhrr-v02r01.19910206.nc\n",
      "Already downloaded: oisst-avhrr-v02r01.19910207.nc\n",
      "Already downloaded: oisst-avhrr-v02r01.19910208.nc\n",
      "Already downloaded: oisst-avhrr-v02r01.19910209.nc\n",
      "Already downloaded: oisst-avhrr-v02r01.19910210.nc\n",
      "Already downloaded: oisst-avhrr-v02r01.19910211.nc\n",
      "Already downloaded: oisst-avhrr-v02r01.19910212.nc\n",
      "Already downloaded: oisst-avhrr-v02r01.19910213.nc\n",
      "Already downloaded: oisst-avhrr-v02r01.19910214.nc\n",
      "Already downloaded: oisst-avhrr-v02r01.19910215.nc\n",
      "Already downloaded: oisst-avhrr-v02r01.19910216.nc\n",
      "Already downloaded: oisst-avhrr-v02r01.19910217.nc\n",
      "Already downloaded: oisst-avhrr-v02r01.19910218.nc\n",
      "Already downloaded: oisst-avhrr-v02r01.19910219.nc\n",
      "Already downloaded: oisst-avhrr-v02r01.19910220.nc\n",
      "Already downloaded: oisst-avhrr-v02r01.19910221.nc\n",
      "Already downloaded: oisst-avhrr-v02r01.19910222.nc\n",
      "Already downloaded: oisst-avhrr-v02r01.19910223.nc\n",
      "Already downloaded: oisst-avhrr-v02r01.19910224.nc\n",
      "Already downloaded: oisst-avhrr-v02r01.19910225.nc\n",
      "Already downloaded: oisst-avhrr-v02r01.19910226.nc\n",
      "Already downloaded: oisst-avhrr-v02r01.19910227.nc\n",
      "Already downloaded: oisst-avhrr-v02r01.19910228.nc\n",
      "Processing: https://www.ncei.noaa.gov/data/sea-surface-temperature-optimum-interpolation/v2.1/access/avhrr/199103/\n",
      "Already downloaded: oisst-avhrr-v02r01.19910301.nc\n",
      "Already downloaded: oisst-avhrr-v02r01.19910302.nc\n",
      "Already downloaded: oisst-avhrr-v02r01.19910303.nc\n",
      "Already downloaded: oisst-avhrr-v02r01.19910304.nc\n",
      "Already downloaded: oisst-avhrr-v02r01.19910305.nc\n",
      "Already downloaded: oisst-avhrr-v02r01.19910306.nc\n",
      "Already downloaded: oisst-avhrr-v02r01.19910307.nc\n",
      "Already downloaded: oisst-avhrr-v02r01.19910308.nc\n",
      "Already downloaded: oisst-avhrr-v02r01.19910309.nc\n",
      "Already downloaded: oisst-avhrr-v02r01.19910310.nc\n",
      "Already downloaded: oisst-avhrr-v02r01.19910311.nc\n",
      "Already downloaded: oisst-avhrr-v02r01.19910312.nc\n",
      "Already downloaded: oisst-avhrr-v02r01.19910313.nc\n",
      "Already downloaded: oisst-avhrr-v02r01.19910314.nc\n",
      "Already downloaded: oisst-avhrr-v02r01.19910315.nc\n",
      "Already downloaded: oisst-avhrr-v02r01.19910316.nc\n",
      "Already downloaded: oisst-avhrr-v02r01.19910317.nc\n",
      "Already downloaded: oisst-avhrr-v02r01.19910318.nc\n",
      "Already downloaded: oisst-avhrr-v02r01.19910319.nc\n",
      "Already downloaded: oisst-avhrr-v02r01.19910320.nc\n",
      "Already downloaded: oisst-avhrr-v02r01.19910321.nc\n",
      "Already downloaded: oisst-avhrr-v02r01.19910322.nc\n",
      "Already downloaded: oisst-avhrr-v02r01.19910323.nc\n",
      "Already downloaded: oisst-avhrr-v02r01.19910324.nc\n",
      "Already downloaded: oisst-avhrr-v02r01.19910325.nc\n",
      "Already downloaded: oisst-avhrr-v02r01.19910326.nc\n",
      "Already downloaded: oisst-avhrr-v02r01.19910327.nc\n",
      "Already downloaded: oisst-avhrr-v02r01.19910328.nc\n",
      "Already downloaded: oisst-avhrr-v02r01.19910329.nc\n",
      "Already downloaded: oisst-avhrr-v02r01.19910330.nc\n",
      "Already downloaded: oisst-avhrr-v02r01.19910331.nc\n",
      "Processing: https://www.ncei.noaa.gov/data/sea-surface-temperature-optimum-interpolation/v2.1/access/avhrr/199104/\n",
      "Already downloaded: oisst-avhrr-v02r01.19910401.nc\n",
      "Already downloaded: oisst-avhrr-v02r01.19910402.nc\n",
      "Already downloaded: oisst-avhrr-v02r01.19910403.nc\n",
      "Already downloaded: oisst-avhrr-v02r01.19910404.nc\n",
      "Already downloaded: oisst-avhrr-v02r01.19910405.nc\n",
      "Already downloaded: oisst-avhrr-v02r01.19910406.nc\n",
      "Already downloaded: oisst-avhrr-v02r01.19910407.nc\n",
      "Already downloaded: oisst-avhrr-v02r01.19910408.nc\n",
      "Already downloaded: oisst-avhrr-v02r01.19910409.nc\n",
      "Already downloaded: oisst-avhrr-v02r01.19910410.nc\n",
      "Already downloaded: oisst-avhrr-v02r01.19910411.nc\n",
      "Already downloaded: oisst-avhrr-v02r01.19910412.nc\n",
      "Already downloaded: oisst-avhrr-v02r01.19910413.nc\n",
      "Already downloaded: oisst-avhrr-v02r01.19910414.nc\n",
      "Already downloaded: oisst-avhrr-v02r01.19910415.nc\n",
      "Already downloaded: oisst-avhrr-v02r01.19910416.nc\n",
      "Already downloaded: oisst-avhrr-v02r01.19910417.nc\n",
      "Already downloaded: oisst-avhrr-v02r01.19910418.nc\n",
      "Already downloaded: oisst-avhrr-v02r01.19910419.nc\n",
      "Already downloaded: oisst-avhrr-v02r01.19910420.nc\n",
      "Already downloaded: oisst-avhrr-v02r01.19910421.nc\n",
      "Already downloaded: oisst-avhrr-v02r01.19910422.nc\n",
      "Already downloaded: oisst-avhrr-v02r01.19910423.nc\n",
      "Already downloaded: oisst-avhrr-v02r01.19910424.nc\n",
      "Already downloaded: oisst-avhrr-v02r01.19910425.nc\n",
      "Already downloaded: oisst-avhrr-v02r01.19910426.nc\n",
      "Already downloaded: oisst-avhrr-v02r01.19910427.nc\n",
      "Already downloaded: oisst-avhrr-v02r01.19910428.nc\n",
      "Already downloaded: oisst-avhrr-v02r01.19910429.nc\n",
      "Already downloaded: oisst-avhrr-v02r01.19910430.nc\n",
      "Processing: https://www.ncei.noaa.gov/data/sea-surface-temperature-optimum-interpolation/v2.1/access/avhrr/199105/\n",
      "Already downloaded: oisst-avhrr-v02r01.19910501.nc\n",
      "Already downloaded: oisst-avhrr-v02r01.19910502.nc\n",
      "Already downloaded: oisst-avhrr-v02r01.19910503.nc\n",
      "Already downloaded: oisst-avhrr-v02r01.19910504.nc\n",
      "Already downloaded: oisst-avhrr-v02r01.19910505.nc\n",
      "Already downloaded: oisst-avhrr-v02r01.19910506.nc\n",
      "Already downloaded: oisst-avhrr-v02r01.19910507.nc\n",
      "Already downloaded: oisst-avhrr-v02r01.19910508.nc\n",
      "Already downloaded: oisst-avhrr-v02r01.19910509.nc\n",
      "Already downloaded: oisst-avhrr-v02r01.19910510.nc\n",
      "Already downloaded: oisst-avhrr-v02r01.19910511.nc\n",
      "Already downloaded: oisst-avhrr-v02r01.19910512.nc\n",
      "Already downloaded: oisst-avhrr-v02r01.19910513.nc\n",
      "Already downloaded: oisst-avhrr-v02r01.19910514.nc\n",
      "Already downloaded: oisst-avhrr-v02r01.19910515.nc\n",
      "Already downloaded: oisst-avhrr-v02r01.19910516.nc\n",
      "Already downloaded: oisst-avhrr-v02r01.19910517.nc\n",
      "Already downloaded: oisst-avhrr-v02r01.19910518.nc\n",
      "Already downloaded: oisst-avhrr-v02r01.19910519.nc\n",
      "Already downloaded: oisst-avhrr-v02r01.19910520.nc\n",
      "Already downloaded: oisst-avhrr-v02r01.19910521.nc\n",
      "Already downloaded: oisst-avhrr-v02r01.19910522.nc\n",
      "Already downloaded: oisst-avhrr-v02r01.19910523.nc\n",
      "Already downloaded: oisst-avhrr-v02r01.19910524.nc\n",
      "Already downloaded: oisst-avhrr-v02r01.19910525.nc\n",
      "Already downloaded: oisst-avhrr-v02r01.19910526.nc\n",
      "Already downloaded: oisst-avhrr-v02r01.19910527.nc\n",
      "Already downloaded: oisst-avhrr-v02r01.19910528.nc\n",
      "Already downloaded: oisst-avhrr-v02r01.19910529.nc\n",
      "Already downloaded: oisst-avhrr-v02r01.19910530.nc\n",
      "Already downloaded: oisst-avhrr-v02r01.19910531.nc\n",
      "Processing: https://www.ncei.noaa.gov/data/sea-surface-temperature-optimum-interpolation/v2.1/access/avhrr/199106/\n",
      "Already downloaded: oisst-avhrr-v02r01.19910601.nc\n",
      "Already downloaded: oisst-avhrr-v02r01.19910602.nc\n",
      "Already downloaded: oisst-avhrr-v02r01.19910603.nc\n",
      "Already downloaded: oisst-avhrr-v02r01.19910604.nc\n",
      "Already downloaded: oisst-avhrr-v02r01.19910605.nc\n",
      "Already downloaded: oisst-avhrr-v02r01.19910606.nc\n",
      "Already downloaded: oisst-avhrr-v02r01.19910607.nc\n",
      "Already downloaded: oisst-avhrr-v02r01.19910608.nc\n",
      "Already downloaded: oisst-avhrr-v02r01.19910609.nc\n",
      "Already downloaded: oisst-avhrr-v02r01.19910610.nc\n",
      "Already downloaded: oisst-avhrr-v02r01.19910611.nc\n",
      "Already downloaded: oisst-avhrr-v02r01.19910612.nc\n",
      "Already downloaded: oisst-avhrr-v02r01.19910613.nc\n",
      "Already downloaded: oisst-avhrr-v02r01.19910614.nc\n",
      "Already downloaded: oisst-avhrr-v02r01.19910615.nc\n",
      "Already downloaded: oisst-avhrr-v02r01.19910616.nc\n",
      "Already downloaded: oisst-avhrr-v02r01.19910617.nc\n",
      "Already downloaded: oisst-avhrr-v02r01.19910618.nc\n",
      "Already downloaded: oisst-avhrr-v02r01.19910619.nc\n",
      "Already downloaded: oisst-avhrr-v02r01.19910620.nc\n",
      "Already downloaded: oisst-avhrr-v02r01.19910621.nc\n",
      "Already downloaded: oisst-avhrr-v02r01.19910622.nc\n",
      "Already downloaded: oisst-avhrr-v02r01.19910623.nc\n",
      "Already downloaded: oisst-avhrr-v02r01.19910624.nc\n",
      "Already downloaded: oisst-avhrr-v02r01.19910625.nc\n",
      "Already downloaded: oisst-avhrr-v02r01.19910626.nc\n",
      "Already downloaded: oisst-avhrr-v02r01.19910627.nc\n",
      "Already downloaded: oisst-avhrr-v02r01.19910628.nc\n",
      "Already downloaded: oisst-avhrr-v02r01.19910629.nc\n",
      "Already downloaded: oisst-avhrr-v02r01.19910630.nc\n",
      "Processing: https://www.ncei.noaa.gov/data/sea-surface-temperature-optimum-interpolation/v2.1/access/avhrr/199107/\n",
      "Already downloaded: oisst-avhrr-v02r01.19910701.nc\n",
      "Already downloaded: oisst-avhrr-v02r01.19910702.nc\n",
      "Already downloaded: oisst-avhrr-v02r01.19910703.nc\n",
      "Already downloaded: oisst-avhrr-v02r01.19910704.nc\n",
      "Already downloaded: oisst-avhrr-v02r01.19910705.nc\n",
      "Already downloaded: oisst-avhrr-v02r01.19910706.nc\n",
      "Already downloaded: oisst-avhrr-v02r01.19910707.nc\n",
      "Already downloaded: oisst-avhrr-v02r01.19910708.nc\n",
      "Already downloaded: oisst-avhrr-v02r01.19910709.nc\n",
      "Already downloaded: oisst-avhrr-v02r01.19910710.nc\n",
      "Already downloaded: oisst-avhrr-v02r01.19910711.nc\n",
      "Already downloaded: oisst-avhrr-v02r01.19910712.nc\n",
      "Already downloaded: oisst-avhrr-v02r01.19910713.nc\n",
      "Already downloaded: oisst-avhrr-v02r01.19910714.nc\n",
      "Already downloaded: oisst-avhrr-v02r01.19910715.nc\n",
      "Already downloaded: oisst-avhrr-v02r01.19910716.nc\n",
      "Already downloaded: oisst-avhrr-v02r01.19910717.nc\n",
      "Already downloaded: oisst-avhrr-v02r01.19910718.nc\n",
      "Already downloaded: oisst-avhrr-v02r01.19910719.nc\n",
      "Already downloaded: oisst-avhrr-v02r01.19910720.nc\n",
      "Already downloaded: oisst-avhrr-v02r01.19910721.nc\n",
      "Already downloaded: oisst-avhrr-v02r01.19910722.nc\n",
      "Already downloaded: oisst-avhrr-v02r01.19910723.nc\n",
      "Already downloaded: oisst-avhrr-v02r01.19910724.nc\n",
      "Already downloaded: oisst-avhrr-v02r01.19910725.nc\n",
      "Already downloaded: oisst-avhrr-v02r01.19910726.nc\n",
      "Already downloaded: oisst-avhrr-v02r01.19910727.nc\n",
      "Already downloaded: oisst-avhrr-v02r01.19910728.nc\n",
      "Already downloaded: oisst-avhrr-v02r01.19910729.nc\n",
      "Already downloaded: oisst-avhrr-v02r01.19910730.nc\n",
      "Downloading: https://www.ncei.noaa.gov/data/sea-surface-temperature-optimum-interpolation/v2.1/access/avhrr/199107/oisst-avhrr-v02r01.19910731.nc\n"
     ]
    },
    {
     "name": "stderr",
     "output_type": "stream",
     "text": [
      "oisst-avhrr-v02r01.19910731.nc: 100%|██████████| 1.64M/1.64M [00:01<00:00, 1.39MB/s]\n"
     ]
    },
    {
     "name": "stdout",
     "output_type": "stream",
     "text": [
      "Processing: https://www.ncei.noaa.gov/data/sea-surface-temperature-optimum-interpolation/v2.1/access/avhrr/199108/\n",
      "Downloading: https://www.ncei.noaa.gov/data/sea-surface-temperature-optimum-interpolation/v2.1/access/avhrr/199108/oisst-avhrr-v02r01.19910801.nc\n"
     ]
    },
    {
     "name": "stderr",
     "output_type": "stream",
     "text": [
      "oisst-avhrr-v02r01.19910801.nc: 100%|██████████| 1.64M/1.64M [00:00<00:00, 2.25MB/s]\n"
     ]
    },
    {
     "name": "stdout",
     "output_type": "stream",
     "text": [
      "Downloading: https://www.ncei.noaa.gov/data/sea-surface-temperature-optimum-interpolation/v2.1/access/avhrr/199108/oisst-avhrr-v02r01.19910802.nc\n"
     ]
    },
    {
     "name": "stderr",
     "output_type": "stream",
     "text": [
      "oisst-avhrr-v02r01.19910802.nc: 100%|██████████| 1.64M/1.64M [00:00<00:00, 1.96MB/s]\n"
     ]
    },
    {
     "name": "stdout",
     "output_type": "stream",
     "text": [
      "Downloading: https://www.ncei.noaa.gov/data/sea-surface-temperature-optimum-interpolation/v2.1/access/avhrr/199108/oisst-avhrr-v02r01.19910803.nc\n"
     ]
    },
    {
     "name": "stderr",
     "output_type": "stream",
     "text": [
      "oisst-avhrr-v02r01.19910803.nc: 100%|██████████| 1.64M/1.64M [00:00<00:00, 2.19MB/s]\n"
     ]
    },
    {
     "name": "stdout",
     "output_type": "stream",
     "text": [
      "Downloading: https://www.ncei.noaa.gov/data/sea-surface-temperature-optimum-interpolation/v2.1/access/avhrr/199108/oisst-avhrr-v02r01.19910804.nc\n"
     ]
    },
    {
     "name": "stderr",
     "output_type": "stream",
     "text": [
      "oisst-avhrr-v02r01.19910804.nc: 100%|██████████| 1.64M/1.64M [00:00<00:00, 2.19MB/s]\n"
     ]
    },
    {
     "name": "stdout",
     "output_type": "stream",
     "text": [
      "Downloading: https://www.ncei.noaa.gov/data/sea-surface-temperature-optimum-interpolation/v2.1/access/avhrr/199108/oisst-avhrr-v02r01.19910805.nc\n"
     ]
    },
    {
     "name": "stderr",
     "output_type": "stream",
     "text": [
      "oisst-avhrr-v02r01.19910805.nc: 100%|██████████| 1.64M/1.64M [00:00<00:00, 1.98MB/s]\n"
     ]
    },
    {
     "name": "stdout",
     "output_type": "stream",
     "text": [
      "Downloading: https://www.ncei.noaa.gov/data/sea-surface-temperature-optimum-interpolation/v2.1/access/avhrr/199108/oisst-avhrr-v02r01.19910806.nc\n"
     ]
    },
    {
     "name": "stderr",
     "output_type": "stream",
     "text": [
      "oisst-avhrr-v02r01.19910806.nc: 100%|██████████| 1.64M/1.64M [00:00<00:00, 2.19MB/s]\n"
     ]
    },
    {
     "name": "stdout",
     "output_type": "stream",
     "text": [
      "Downloading: https://www.ncei.noaa.gov/data/sea-surface-temperature-optimum-interpolation/v2.1/access/avhrr/199108/oisst-avhrr-v02r01.19910807.nc\n"
     ]
    },
    {
     "name": "stderr",
     "output_type": "stream",
     "text": [
      "oisst-avhrr-v02r01.19910807.nc: 100%|██████████| 1.64M/1.64M [00:00<00:00, 2.25MB/s]\n"
     ]
    },
    {
     "name": "stdout",
     "output_type": "stream",
     "text": [
      "Downloading: https://www.ncei.noaa.gov/data/sea-surface-temperature-optimum-interpolation/v2.1/access/avhrr/199108/oisst-avhrr-v02r01.19910808.nc\n"
     ]
    },
    {
     "name": "stderr",
     "output_type": "stream",
     "text": [
      "oisst-avhrr-v02r01.19910808.nc: 100%|██████████| 1.64M/1.64M [00:00<00:00, 2.20MB/s]\n"
     ]
    },
    {
     "name": "stdout",
     "output_type": "stream",
     "text": [
      "Downloading: https://www.ncei.noaa.gov/data/sea-surface-temperature-optimum-interpolation/v2.1/access/avhrr/199108/oisst-avhrr-v02r01.19910809.nc\n"
     ]
    },
    {
     "name": "stderr",
     "output_type": "stream",
     "text": [
      "oisst-avhrr-v02r01.19910809.nc: 100%|██████████| 1.64M/1.64M [00:00<00:00, 2.18MB/s]\n"
     ]
    },
    {
     "name": "stdout",
     "output_type": "stream",
     "text": [
      "Downloading: https://www.ncei.noaa.gov/data/sea-surface-temperature-optimum-interpolation/v2.1/access/avhrr/199108/oisst-avhrr-v02r01.19910810.nc\n"
     ]
    },
    {
     "name": "stderr",
     "output_type": "stream",
     "text": [
      "oisst-avhrr-v02r01.19910810.nc: 100%|██████████| 1.64M/1.64M [00:00<00:00, 2.21MB/s]\n"
     ]
    },
    {
     "name": "stdout",
     "output_type": "stream",
     "text": [
      "Downloading: https://www.ncei.noaa.gov/data/sea-surface-temperature-optimum-interpolation/v2.1/access/avhrr/199108/oisst-avhrr-v02r01.19910811.nc\n"
     ]
    },
    {
     "name": "stderr",
     "output_type": "stream",
     "text": [
      "oisst-avhrr-v02r01.19910811.nc: 100%|██████████| 1.64M/1.64M [00:00<00:00, 2.19MB/s]\n"
     ]
    },
    {
     "name": "stdout",
     "output_type": "stream",
     "text": [
      "Downloading: https://www.ncei.noaa.gov/data/sea-surface-temperature-optimum-interpolation/v2.1/access/avhrr/199108/oisst-avhrr-v02r01.19910812.nc\n"
     ]
    },
    {
     "name": "stderr",
     "output_type": "stream",
     "text": [
      "oisst-avhrr-v02r01.19910812.nc: 100%|██████████| 1.64M/1.64M [00:00<00:00, 2.27MB/s]\n"
     ]
    },
    {
     "name": "stdout",
     "output_type": "stream",
     "text": [
      "Downloading: https://www.ncei.noaa.gov/data/sea-surface-temperature-optimum-interpolation/v2.1/access/avhrr/199108/oisst-avhrr-v02r01.19910813.nc\n"
     ]
    },
    {
     "name": "stderr",
     "output_type": "stream",
     "text": [
      "oisst-avhrr-v02r01.19910813.nc: 100%|██████████| 1.64M/1.64M [00:00<00:00, 2.20MB/s]\n"
     ]
    },
    {
     "name": "stdout",
     "output_type": "stream",
     "text": [
      "Downloading: https://www.ncei.noaa.gov/data/sea-surface-temperature-optimum-interpolation/v2.1/access/avhrr/199108/oisst-avhrr-v02r01.19910814.nc\n"
     ]
    },
    {
     "name": "stderr",
     "output_type": "stream",
     "text": [
      "oisst-avhrr-v02r01.19910814.nc: 100%|██████████| 1.64M/1.64M [00:00<00:00, 2.18MB/s]\n"
     ]
    },
    {
     "name": "stdout",
     "output_type": "stream",
     "text": [
      "Downloading: https://www.ncei.noaa.gov/data/sea-surface-temperature-optimum-interpolation/v2.1/access/avhrr/199108/oisst-avhrr-v02r01.19910815.nc\n"
     ]
    },
    {
     "name": "stderr",
     "output_type": "stream",
     "text": [
      "oisst-avhrr-v02r01.19910815.nc: 100%|██████████| 1.64M/1.64M [00:00<00:00, 2.26MB/s]\n"
     ]
    },
    {
     "name": "stdout",
     "output_type": "stream",
     "text": [
      "Downloading: https://www.ncei.noaa.gov/data/sea-surface-temperature-optimum-interpolation/v2.1/access/avhrr/199108/oisst-avhrr-v02r01.19910816.nc\n"
     ]
    },
    {
     "name": "stderr",
     "output_type": "stream",
     "text": [
      "oisst-avhrr-v02r01.19910816.nc: 100%|██████████| 1.64M/1.64M [00:00<00:00, 2.20MB/s]\n"
     ]
    },
    {
     "name": "stdout",
     "output_type": "stream",
     "text": [
      "Downloading: https://www.ncei.noaa.gov/data/sea-surface-temperature-optimum-interpolation/v2.1/access/avhrr/199108/oisst-avhrr-v02r01.19910817.nc\n"
     ]
    },
    {
     "name": "stderr",
     "output_type": "stream",
     "text": [
      "oisst-avhrr-v02r01.19910817.nc: 100%|██████████| 1.64M/1.64M [00:00<00:00, 2.19MB/s]\n"
     ]
    },
    {
     "name": "stdout",
     "output_type": "stream",
     "text": [
      "Downloading: https://www.ncei.noaa.gov/data/sea-surface-temperature-optimum-interpolation/v2.1/access/avhrr/199108/oisst-avhrr-v02r01.19910818.nc\n"
     ]
    },
    {
     "name": "stderr",
     "output_type": "stream",
     "text": [
      "oisst-avhrr-v02r01.19910818.nc: 100%|██████████| 1.64M/1.64M [00:00<00:00, 2.19MB/s]\n"
     ]
    },
    {
     "name": "stdout",
     "output_type": "stream",
     "text": [
      "Downloading: https://www.ncei.noaa.gov/data/sea-surface-temperature-optimum-interpolation/v2.1/access/avhrr/199108/oisst-avhrr-v02r01.19910819.nc\n"
     ]
    },
    {
     "name": "stderr",
     "output_type": "stream",
     "text": [
      "oisst-avhrr-v02r01.19910819.nc: 100%|██████████| 1.64M/1.64M [00:00<00:00, 2.24MB/s]\n"
     ]
    },
    {
     "name": "stdout",
     "output_type": "stream",
     "text": [
      "Downloading: https://www.ncei.noaa.gov/data/sea-surface-temperature-optimum-interpolation/v2.1/access/avhrr/199108/oisst-avhrr-v02r01.19910820.nc\n"
     ]
    },
    {
     "name": "stderr",
     "output_type": "stream",
     "text": [
      "oisst-avhrr-v02r01.19910820.nc: 100%|██████████| 1.64M/1.64M [00:00<00:00, 2.22MB/s]\n"
     ]
    },
    {
     "name": "stdout",
     "output_type": "stream",
     "text": [
      "Downloading: https://www.ncei.noaa.gov/data/sea-surface-temperature-optimum-interpolation/v2.1/access/avhrr/199108/oisst-avhrr-v02r01.19910821.nc\n"
     ]
    },
    {
     "name": "stderr",
     "output_type": "stream",
     "text": [
      "oisst-avhrr-v02r01.19910821.nc: 100%|██████████| 1.64M/1.64M [00:00<00:00, 2.23MB/s]\n"
     ]
    },
    {
     "name": "stdout",
     "output_type": "stream",
     "text": [
      "Downloading: https://www.ncei.noaa.gov/data/sea-surface-temperature-optimum-interpolation/v2.1/access/avhrr/199108/oisst-avhrr-v02r01.19910822.nc\n"
     ]
    },
    {
     "name": "stderr",
     "output_type": "stream",
     "text": [
      "oisst-avhrr-v02r01.19910822.nc: 100%|██████████| 1.64M/1.64M [00:00<00:00, 2.18MB/s]\n"
     ]
    },
    {
     "name": "stdout",
     "output_type": "stream",
     "text": [
      "Downloading: https://www.ncei.noaa.gov/data/sea-surface-temperature-optimum-interpolation/v2.1/access/avhrr/199108/oisst-avhrr-v02r01.19910823.nc\n"
     ]
    },
    {
     "name": "stderr",
     "output_type": "stream",
     "text": [
      "oisst-avhrr-v02r01.19910823.nc: 100%|██████████| 1.64M/1.64M [00:00<00:00, 2.19MB/s]\n"
     ]
    },
    {
     "name": "stdout",
     "output_type": "stream",
     "text": [
      "Downloading: https://www.ncei.noaa.gov/data/sea-surface-temperature-optimum-interpolation/v2.1/access/avhrr/199108/oisst-avhrr-v02r01.19910824.nc\n"
     ]
    },
    {
     "name": "stderr",
     "output_type": "stream",
     "text": [
      "oisst-avhrr-v02r01.19910824.nc: 100%|██████████| 1.64M/1.64M [00:00<00:00, 2.20MB/s]\n"
     ]
    },
    {
     "name": "stdout",
     "output_type": "stream",
     "text": [
      "Downloading: https://www.ncei.noaa.gov/data/sea-surface-temperature-optimum-interpolation/v2.1/access/avhrr/199108/oisst-avhrr-v02r01.19910825.nc\n"
     ]
    },
    {
     "name": "stderr",
     "output_type": "stream",
     "text": [
      "oisst-avhrr-v02r01.19910825.nc: 100%|██████████| 1.63M/1.63M [00:00<00:00, 2.20MB/s]\n"
     ]
    },
    {
     "name": "stdout",
     "output_type": "stream",
     "text": [
      "Downloading: https://www.ncei.noaa.gov/data/sea-surface-temperature-optimum-interpolation/v2.1/access/avhrr/199108/oisst-avhrr-v02r01.19910826.nc\n"
     ]
    },
    {
     "name": "stderr",
     "output_type": "stream",
     "text": [
      "oisst-avhrr-v02r01.19910826.nc: 100%|██████████| 1.63M/1.63M [00:00<00:00, 2.17MB/s]\n"
     ]
    },
    {
     "name": "stdout",
     "output_type": "stream",
     "text": [
      "Downloading: https://www.ncei.noaa.gov/data/sea-surface-temperature-optimum-interpolation/v2.1/access/avhrr/199108/oisst-avhrr-v02r01.19910827.nc\n"
     ]
    },
    {
     "name": "stderr",
     "output_type": "stream",
     "text": [
      "oisst-avhrr-v02r01.19910827.nc: 100%|██████████| 1.64M/1.64M [00:00<00:00, 2.22MB/s]\n"
     ]
    },
    {
     "name": "stdout",
     "output_type": "stream",
     "text": [
      "Downloading: https://www.ncei.noaa.gov/data/sea-surface-temperature-optimum-interpolation/v2.1/access/avhrr/199108/oisst-avhrr-v02r01.19910828.nc\n"
     ]
    },
    {
     "name": "stderr",
     "output_type": "stream",
     "text": [
      "oisst-avhrr-v02r01.19910828.nc: 100%|██████████| 1.64M/1.64M [00:00<00:00, 2.21MB/s]\n"
     ]
    },
    {
     "name": "stdout",
     "output_type": "stream",
     "text": [
      "Downloading: https://www.ncei.noaa.gov/data/sea-surface-temperature-optimum-interpolation/v2.1/access/avhrr/199108/oisst-avhrr-v02r01.19910829.nc\n"
     ]
    },
    {
     "name": "stderr",
     "output_type": "stream",
     "text": [
      "oisst-avhrr-v02r01.19910829.nc: 100%|██████████| 1.63M/1.63M [00:02<00:00, 661kB/s]\n"
     ]
    },
    {
     "name": "stdout",
     "output_type": "stream",
     "text": [
      "Downloading: https://www.ncei.noaa.gov/data/sea-surface-temperature-optimum-interpolation/v2.1/access/avhrr/199108/oisst-avhrr-v02r01.19910830.nc\n"
     ]
    },
    {
     "name": "stderr",
     "output_type": "stream",
     "text": [
      "oisst-avhrr-v02r01.19910830.nc: 100%|██████████| 1.63M/1.63M [00:03<00:00, 443kB/s]\n"
     ]
    },
    {
     "name": "stdout",
     "output_type": "stream",
     "text": [
      "Downloading: https://www.ncei.noaa.gov/data/sea-surface-temperature-optimum-interpolation/v2.1/access/avhrr/199108/oisst-avhrr-v02r01.19910831.nc\n"
     ]
    },
    {
     "name": "stderr",
     "output_type": "stream",
     "text": [
      "oisst-avhrr-v02r01.19910831.nc: 100%|██████████| 1.63M/1.63M [00:00<00:00, 2.23MB/s]\n"
     ]
    },
    {
     "name": "stdout",
     "output_type": "stream",
     "text": [
      "Processing: https://www.ncei.noaa.gov/data/sea-surface-temperature-optimum-interpolation/v2.1/access/avhrr/199109/\n",
      "Downloading: https://www.ncei.noaa.gov/data/sea-surface-temperature-optimum-interpolation/v2.1/access/avhrr/199109/oisst-avhrr-v02r01.19910901.nc\n"
     ]
    },
    {
     "name": "stderr",
     "output_type": "stream",
     "text": [
      "oisst-avhrr-v02r01.19910901.nc: 100%|██████████| 1.63M/1.63M [00:01<00:00, 1.62MB/s]\n"
     ]
    },
    {
     "name": "stdout",
     "output_type": "stream",
     "text": [
      "Downloading: https://www.ncei.noaa.gov/data/sea-surface-temperature-optimum-interpolation/v2.1/access/avhrr/199109/oisst-avhrr-v02r01.19910902.nc\n"
     ]
    },
    {
     "name": "stderr",
     "output_type": "stream",
     "text": [
      "oisst-avhrr-v02r01.19910902.nc: 100%|██████████| 1.63M/1.63M [00:00<00:00, 2.14MB/s]\n"
     ]
    },
    {
     "name": "stdout",
     "output_type": "stream",
     "text": [
      "Downloading: https://www.ncei.noaa.gov/data/sea-surface-temperature-optimum-interpolation/v2.1/access/avhrr/199109/oisst-avhrr-v02r01.19910903.nc\n"
     ]
    },
    {
     "name": "stderr",
     "output_type": "stream",
     "text": [
      "oisst-avhrr-v02r01.19910903.nc: 100%|██████████| 1.63M/1.63M [00:00<00:00, 2.19MB/s]\n"
     ]
    },
    {
     "name": "stdout",
     "output_type": "stream",
     "text": [
      "Downloading: https://www.ncei.noaa.gov/data/sea-surface-temperature-optimum-interpolation/v2.1/access/avhrr/199109/oisst-avhrr-v02r01.19910904.nc\n"
     ]
    },
    {
     "name": "stderr",
     "output_type": "stream",
     "text": [
      "oisst-avhrr-v02r01.19910904.nc: 100%|██████████| 1.63M/1.63M [00:00<00:00, 2.13MB/s]\n"
     ]
    },
    {
     "name": "stdout",
     "output_type": "stream",
     "text": [
      "Downloading: https://www.ncei.noaa.gov/data/sea-surface-temperature-optimum-interpolation/v2.1/access/avhrr/199109/oisst-avhrr-v02r01.19910905.nc\n"
     ]
    },
    {
     "name": "stderr",
     "output_type": "stream",
     "text": [
      "oisst-avhrr-v02r01.19910905.nc: 100%|██████████| 1.63M/1.63M [00:00<00:00, 2.19MB/s]\n"
     ]
    },
    {
     "name": "stdout",
     "output_type": "stream",
     "text": [
      "Downloading: https://www.ncei.noaa.gov/data/sea-surface-temperature-optimum-interpolation/v2.1/access/avhrr/199109/oisst-avhrr-v02r01.19910906.nc\n"
     ]
    },
    {
     "name": "stderr",
     "output_type": "stream",
     "text": [
      "oisst-avhrr-v02r01.19910906.nc: 100%|██████████| 1.64M/1.64M [00:00<00:00, 2.16MB/s]\n"
     ]
    },
    {
     "name": "stdout",
     "output_type": "stream",
     "text": [
      "Downloading: https://www.ncei.noaa.gov/data/sea-surface-temperature-optimum-interpolation/v2.1/access/avhrr/199109/oisst-avhrr-v02r01.19910907.nc\n"
     ]
    },
    {
     "name": "stderr",
     "output_type": "stream",
     "text": [
      "oisst-avhrr-v02r01.19910907.nc: 100%|██████████| 1.64M/1.64M [00:00<00:00, 2.19MB/s]\n"
     ]
    },
    {
     "name": "stdout",
     "output_type": "stream",
     "text": [
      "Downloading: https://www.ncei.noaa.gov/data/sea-surface-temperature-optimum-interpolation/v2.1/access/avhrr/199109/oisst-avhrr-v02r01.19910908.nc\n"
     ]
    },
    {
     "name": "stderr",
     "output_type": "stream",
     "text": [
      "oisst-avhrr-v02r01.19910908.nc: 100%|██████████| 1.64M/1.64M [00:01<00:00, 1.45MB/s]\n"
     ]
    },
    {
     "name": "stdout",
     "output_type": "stream",
     "text": [
      "Downloading: https://www.ncei.noaa.gov/data/sea-surface-temperature-optimum-interpolation/v2.1/access/avhrr/199109/oisst-avhrr-v02r01.19910909.nc\n"
     ]
    },
    {
     "name": "stderr",
     "output_type": "stream",
     "text": [
      "oisst-avhrr-v02r01.19910909.nc: 100%|██████████| 1.64M/1.64M [00:01<00:00, 1.04MB/s]\n"
     ]
    },
    {
     "name": "stdout",
     "output_type": "stream",
     "text": [
      "Downloading: https://www.ncei.noaa.gov/data/sea-surface-temperature-optimum-interpolation/v2.1/access/avhrr/199109/oisst-avhrr-v02r01.19910910.nc\n"
     ]
    },
    {
     "name": "stderr",
     "output_type": "stream",
     "text": [
      "oisst-avhrr-v02r01.19910910.nc: 100%|██████████| 1.63M/1.63M [00:00<00:00, 2.20MB/s]\n"
     ]
    },
    {
     "name": "stdout",
     "output_type": "stream",
     "text": [
      "Downloading: https://www.ncei.noaa.gov/data/sea-surface-temperature-optimum-interpolation/v2.1/access/avhrr/199109/oisst-avhrr-v02r01.19910911.nc\n"
     ]
    },
    {
     "name": "stderr",
     "output_type": "stream",
     "text": [
      "oisst-avhrr-v02r01.19910911.nc: 100%|██████████| 1.63M/1.63M [00:00<00:00, 2.21MB/s]\n"
     ]
    },
    {
     "name": "stdout",
     "output_type": "stream",
     "text": [
      "Downloading: https://www.ncei.noaa.gov/data/sea-surface-temperature-optimum-interpolation/v2.1/access/avhrr/199109/oisst-avhrr-v02r01.19910912.nc\n"
     ]
    },
    {
     "name": "stderr",
     "output_type": "stream",
     "text": [
      "oisst-avhrr-v02r01.19910912.nc: 100%|██████████| 1.63M/1.63M [00:00<00:00, 2.20MB/s]\n"
     ]
    },
    {
     "name": "stdout",
     "output_type": "stream",
     "text": [
      "Downloading: https://www.ncei.noaa.gov/data/sea-surface-temperature-optimum-interpolation/v2.1/access/avhrr/199109/oisst-avhrr-v02r01.19910913.nc\n"
     ]
    },
    {
     "name": "stderr",
     "output_type": "stream",
     "text": [
      "oisst-avhrr-v02r01.19910913.nc: 100%|██████████| 1.63M/1.63M [00:00<00:00, 2.27MB/s]\n"
     ]
    },
    {
     "name": "stdout",
     "output_type": "stream",
     "text": [
      "Downloading: https://www.ncei.noaa.gov/data/sea-surface-temperature-optimum-interpolation/v2.1/access/avhrr/199109/oisst-avhrr-v02r01.19910914.nc\n"
     ]
    },
    {
     "name": "stderr",
     "output_type": "stream",
     "text": [
      "oisst-avhrr-v02r01.19910914.nc: 100%|██████████| 1.63M/1.63M [00:00<00:00, 2.22MB/s]\n"
     ]
    },
    {
     "name": "stdout",
     "output_type": "stream",
     "text": [
      "Downloading: https://www.ncei.noaa.gov/data/sea-surface-temperature-optimum-interpolation/v2.1/access/avhrr/199109/oisst-avhrr-v02r01.19910915.nc\n"
     ]
    },
    {
     "name": "stderr",
     "output_type": "stream",
     "text": [
      "oisst-avhrr-v02r01.19910915.nc: 100%|██████████| 1.63M/1.63M [00:00<00:00, 2.27MB/s]\n"
     ]
    },
    {
     "name": "stdout",
     "output_type": "stream",
     "text": [
      "Downloading: https://www.ncei.noaa.gov/data/sea-surface-temperature-optimum-interpolation/v2.1/access/avhrr/199109/oisst-avhrr-v02r01.19910916.nc\n"
     ]
    },
    {
     "name": "stderr",
     "output_type": "stream",
     "text": [
      "oisst-avhrr-v02r01.19910916.nc: 100%|██████████| 1.63M/1.63M [00:00<00:00, 2.19MB/s]\n"
     ]
    },
    {
     "name": "stdout",
     "output_type": "stream",
     "text": [
      "Downloading: https://www.ncei.noaa.gov/data/sea-surface-temperature-optimum-interpolation/v2.1/access/avhrr/199109/oisst-avhrr-v02r01.19910917.nc\n"
     ]
    },
    {
     "name": "stderr",
     "output_type": "stream",
     "text": [
      "oisst-avhrr-v02r01.19910917.nc: 100%|██████████| 1.63M/1.63M [00:00<00:00, 2.17MB/s]\n"
     ]
    },
    {
     "name": "stdout",
     "output_type": "stream",
     "text": [
      "Downloading: https://www.ncei.noaa.gov/data/sea-surface-temperature-optimum-interpolation/v2.1/access/avhrr/199109/oisst-avhrr-v02r01.19910918.nc\n"
     ]
    },
    {
     "name": "stderr",
     "output_type": "stream",
     "text": [
      "oisst-avhrr-v02r01.19910918.nc: 100%|██████████| 1.63M/1.63M [00:02<00:00, 818kB/s] \n"
     ]
    },
    {
     "name": "stdout",
     "output_type": "stream",
     "text": [
      "Downloading: https://www.ncei.noaa.gov/data/sea-surface-temperature-optimum-interpolation/v2.1/access/avhrr/199109/oisst-avhrr-v02r01.19910919.nc\n"
     ]
    },
    {
     "name": "stderr",
     "output_type": "stream",
     "text": [
      "oisst-avhrr-v02r01.19910919.nc: 100%|██████████| 1.64M/1.64M [00:00<00:00, 2.24MB/s]\n"
     ]
    },
    {
     "name": "stdout",
     "output_type": "stream",
     "text": [
      "Downloading: https://www.ncei.noaa.gov/data/sea-surface-temperature-optimum-interpolation/v2.1/access/avhrr/199109/oisst-avhrr-v02r01.19910920.nc\n"
     ]
    },
    {
     "name": "stderr",
     "output_type": "stream",
     "text": [
      "oisst-avhrr-v02r01.19910920.nc: 100%|██████████| 1.63M/1.63M [00:00<00:00, 2.22MB/s]\n"
     ]
    },
    {
     "name": "stdout",
     "output_type": "stream",
     "text": [
      "Downloading: https://www.ncei.noaa.gov/data/sea-surface-temperature-optimum-interpolation/v2.1/access/avhrr/199109/oisst-avhrr-v02r01.19910921.nc\n"
     ]
    },
    {
     "name": "stderr",
     "output_type": "stream",
     "text": [
      "oisst-avhrr-v02r01.19910921.nc: 100%|██████████| 1.63M/1.63M [00:00<00:00, 2.23MB/s]\n"
     ]
    },
    {
     "name": "stdout",
     "output_type": "stream",
     "text": [
      "Downloading: https://www.ncei.noaa.gov/data/sea-surface-temperature-optimum-interpolation/v2.1/access/avhrr/199109/oisst-avhrr-v02r01.19910922.nc\n"
     ]
    },
    {
     "name": "stderr",
     "output_type": "stream",
     "text": [
      "oisst-avhrr-v02r01.19910922.nc: 100%|██████████| 1.63M/1.63M [00:00<00:00, 2.19MB/s]\n"
     ]
    },
    {
     "name": "stdout",
     "output_type": "stream",
     "text": [
      "Downloading: https://www.ncei.noaa.gov/data/sea-surface-temperature-optimum-interpolation/v2.1/access/avhrr/199109/oisst-avhrr-v02r01.19910923.nc\n"
     ]
    },
    {
     "name": "stderr",
     "output_type": "stream",
     "text": [
      "oisst-avhrr-v02r01.19910923.nc: 100%|██████████| 1.63M/1.63M [00:06<00:00, 276kB/s] \n"
     ]
    },
    {
     "name": "stdout",
     "output_type": "stream",
     "text": [
      "Downloading: https://www.ncei.noaa.gov/data/sea-surface-temperature-optimum-interpolation/v2.1/access/avhrr/199109/oisst-avhrr-v02r01.19910924.nc\n"
     ]
    },
    {
     "name": "stderr",
     "output_type": "stream",
     "text": [
      "oisst-avhrr-v02r01.19910924.nc: 100%|██████████| 1.63M/1.63M [00:00<00:00, 2.19MB/s]\n"
     ]
    },
    {
     "name": "stdout",
     "output_type": "stream",
     "text": [
      "Downloading: https://www.ncei.noaa.gov/data/sea-surface-temperature-optimum-interpolation/v2.1/access/avhrr/199109/oisst-avhrr-v02r01.19910925.nc\n"
     ]
    },
    {
     "name": "stderr",
     "output_type": "stream",
     "text": [
      "oisst-avhrr-v02r01.19910925.nc: 100%|██████████| 1.63M/1.63M [00:00<00:00, 2.21MB/s]\n"
     ]
    },
    {
     "name": "stdout",
     "output_type": "stream",
     "text": [
      "Downloading: https://www.ncei.noaa.gov/data/sea-surface-temperature-optimum-interpolation/v2.1/access/avhrr/199109/oisst-avhrr-v02r01.19910926.nc\n"
     ]
    },
    {
     "name": "stderr",
     "output_type": "stream",
     "text": [
      "oisst-avhrr-v02r01.19910926.nc: 100%|██████████| 1.63M/1.63M [00:00<00:00, 2.24MB/s]\n"
     ]
    },
    {
     "name": "stdout",
     "output_type": "stream",
     "text": [
      "Downloading: https://www.ncei.noaa.gov/data/sea-surface-temperature-optimum-interpolation/v2.1/access/avhrr/199109/oisst-avhrr-v02r01.19910927.nc\n"
     ]
    },
    {
     "name": "stderr",
     "output_type": "stream",
     "text": [
      "oisst-avhrr-v02r01.19910927.nc: 100%|██████████| 1.63M/1.63M [00:00<00:00, 2.20MB/s]\n"
     ]
    },
    {
     "name": "stdout",
     "output_type": "stream",
     "text": [
      "Downloading: https://www.ncei.noaa.gov/data/sea-surface-temperature-optimum-interpolation/v2.1/access/avhrr/199109/oisst-avhrr-v02r01.19910928.nc\n"
     ]
    },
    {
     "name": "stderr",
     "output_type": "stream",
     "text": [
      "oisst-avhrr-v02r01.19910928.nc: 100%|██████████| 1.63M/1.63M [00:00<00:00, 2.20MB/s]\n"
     ]
    },
    {
     "name": "stdout",
     "output_type": "stream",
     "text": [
      "Downloading: https://www.ncei.noaa.gov/data/sea-surface-temperature-optimum-interpolation/v2.1/access/avhrr/199109/oisst-avhrr-v02r01.19910929.nc\n"
     ]
    },
    {
     "name": "stderr",
     "output_type": "stream",
     "text": [
      "oisst-avhrr-v02r01.19910929.nc: 100%|██████████| 1.63M/1.63M [00:00<00:00, 2.19MB/s]\n"
     ]
    },
    {
     "name": "stdout",
     "output_type": "stream",
     "text": [
      "Downloading: https://www.ncei.noaa.gov/data/sea-surface-temperature-optimum-interpolation/v2.1/access/avhrr/199109/oisst-avhrr-v02r01.19910930.nc\n"
     ]
    },
    {
     "name": "stderr",
     "output_type": "stream",
     "text": [
      "oisst-avhrr-v02r01.19910930.nc: 100%|██████████| 1.63M/1.63M [00:05<00:00, 291kB/s]\n"
     ]
    },
    {
     "name": "stdout",
     "output_type": "stream",
     "text": [
      "Processing: https://www.ncei.noaa.gov/data/sea-surface-temperature-optimum-interpolation/v2.1/access/avhrr/199110/\n",
      "Downloading: https://www.ncei.noaa.gov/data/sea-surface-temperature-optimum-interpolation/v2.1/access/avhrr/199110/oisst-avhrr-v02r01.19911001.nc\n"
     ]
    },
    {
     "name": "stderr",
     "output_type": "stream",
     "text": [
      "oisst-avhrr-v02r01.19911001.nc: 100%|██████████| 1.63M/1.63M [00:01<00:00, 1.34MB/s]\n"
     ]
    },
    {
     "name": "stdout",
     "output_type": "stream",
     "text": [
      "Downloading: https://www.ncei.noaa.gov/data/sea-surface-temperature-optimum-interpolation/v2.1/access/avhrr/199110/oisst-avhrr-v02r01.19911002.nc\n"
     ]
    },
    {
     "name": "stderr",
     "output_type": "stream",
     "text": [
      "oisst-avhrr-v02r01.19911002.nc: 100%|██████████| 1.63M/1.63M [00:00<00:00, 2.19MB/s]\n"
     ]
    },
    {
     "name": "stdout",
     "output_type": "stream",
     "text": [
      "Downloading: https://www.ncei.noaa.gov/data/sea-surface-temperature-optimum-interpolation/v2.1/access/avhrr/199110/oisst-avhrr-v02r01.19911003.nc\n"
     ]
    },
    {
     "name": "stderr",
     "output_type": "stream",
     "text": [
      "oisst-avhrr-v02r01.19911003.nc: 100%|██████████| 1.63M/1.63M [00:00<00:00, 2.23MB/s]\n"
     ]
    },
    {
     "name": "stdout",
     "output_type": "stream",
     "text": [
      "Downloading: https://www.ncei.noaa.gov/data/sea-surface-temperature-optimum-interpolation/v2.1/access/avhrr/199110/oisst-avhrr-v02r01.19911004.nc\n"
     ]
    },
    {
     "name": "stderr",
     "output_type": "stream",
     "text": [
      "oisst-avhrr-v02r01.19911004.nc: 100%|██████████| 1.63M/1.63M [00:00<00:00, 2.23MB/s]\n"
     ]
    },
    {
     "name": "stdout",
     "output_type": "stream",
     "text": [
      "Downloading: https://www.ncei.noaa.gov/data/sea-surface-temperature-optimum-interpolation/v2.1/access/avhrr/199110/oisst-avhrr-v02r01.19911005.nc\n"
     ]
    },
    {
     "name": "stderr",
     "output_type": "stream",
     "text": [
      "oisst-avhrr-v02r01.19911005.nc: 100%|██████████| 1.63M/1.63M [00:00<00:00, 2.19MB/s]\n"
     ]
    },
    {
     "name": "stdout",
     "output_type": "stream",
     "text": [
      "Downloading: https://www.ncei.noaa.gov/data/sea-surface-temperature-optimum-interpolation/v2.1/access/avhrr/199110/oisst-avhrr-v02r01.19911006.nc\n"
     ]
    },
    {
     "name": "stderr",
     "output_type": "stream",
     "text": [
      "oisst-avhrr-v02r01.19911006.nc: 100%|██████████| 1.63M/1.63M [00:00<00:00, 2.21MB/s]\n"
     ]
    },
    {
     "name": "stdout",
     "output_type": "stream",
     "text": [
      "Downloading: https://www.ncei.noaa.gov/data/sea-surface-temperature-optimum-interpolation/v2.1/access/avhrr/199110/oisst-avhrr-v02r01.19911007.nc\n"
     ]
    },
    {
     "name": "stderr",
     "output_type": "stream",
     "text": [
      "oisst-avhrr-v02r01.19911007.nc: 100%|██████████| 1.63M/1.63M [00:00<00:00, 2.17MB/s]\n"
     ]
    },
    {
     "name": "stdout",
     "output_type": "stream",
     "text": [
      "Downloading: https://www.ncei.noaa.gov/data/sea-surface-temperature-optimum-interpolation/v2.1/access/avhrr/199110/oisst-avhrr-v02r01.19911008.nc\n"
     ]
    },
    {
     "name": "stderr",
     "output_type": "stream",
     "text": [
      "oisst-avhrr-v02r01.19911008.nc: 100%|██████████| 1.62M/1.62M [00:01<00:00, 1.20MB/s]\n"
     ]
    },
    {
     "name": "stdout",
     "output_type": "stream",
     "text": [
      "Downloading: https://www.ncei.noaa.gov/data/sea-surface-temperature-optimum-interpolation/v2.1/access/avhrr/199110/oisst-avhrr-v02r01.19911009.nc\n"
     ]
    },
    {
     "name": "stderr",
     "output_type": "stream",
     "text": [
      "oisst-avhrr-v02r01.19911009.nc: 100%|██████████| 1.62M/1.62M [00:01<00:00, 1.50MB/s]\n"
     ]
    },
    {
     "name": "stdout",
     "output_type": "stream",
     "text": [
      "Downloading: https://www.ncei.noaa.gov/data/sea-surface-temperature-optimum-interpolation/v2.1/access/avhrr/199110/oisst-avhrr-v02r01.19911010.nc\n"
     ]
    },
    {
     "name": "stderr",
     "output_type": "stream",
     "text": [
      "oisst-avhrr-v02r01.19911010.nc: 100%|██████████| 1.62M/1.62M [00:00<00:00, 2.13MB/s]\n"
     ]
    },
    {
     "name": "stdout",
     "output_type": "stream",
     "text": [
      "Downloading: https://www.ncei.noaa.gov/data/sea-surface-temperature-optimum-interpolation/v2.1/access/avhrr/199110/oisst-avhrr-v02r01.19911011.nc\n"
     ]
    },
    {
     "name": "stderr",
     "output_type": "stream",
     "text": [
      "oisst-avhrr-v02r01.19911011.nc: 100%|██████████| 1.62M/1.62M [00:00<00:00, 1.86MB/s]\n"
     ]
    },
    {
     "name": "stdout",
     "output_type": "stream",
     "text": [
      "Downloading: https://www.ncei.noaa.gov/data/sea-surface-temperature-optimum-interpolation/v2.1/access/avhrr/199110/oisst-avhrr-v02r01.19911012.nc\n"
     ]
    },
    {
     "name": "stderr",
     "output_type": "stream",
     "text": [
      "oisst-avhrr-v02r01.19911012.nc: 100%|██████████| 1.63M/1.63M [00:00<00:00, 2.21MB/s]\n"
     ]
    },
    {
     "name": "stdout",
     "output_type": "stream",
     "text": [
      "Downloading: https://www.ncei.noaa.gov/data/sea-surface-temperature-optimum-interpolation/v2.1/access/avhrr/199110/oisst-avhrr-v02r01.19911013.nc\n"
     ]
    },
    {
     "name": "stderr",
     "output_type": "stream",
     "text": [
      "oisst-avhrr-v02r01.19911013.nc: 100%|██████████| 1.63M/1.63M [00:00<00:00, 2.18MB/s]\n"
     ]
    },
    {
     "name": "stdout",
     "output_type": "stream",
     "text": [
      "Downloading: https://www.ncei.noaa.gov/data/sea-surface-temperature-optimum-interpolation/v2.1/access/avhrr/199110/oisst-avhrr-v02r01.19911014.nc\n"
     ]
    },
    {
     "name": "stderr",
     "output_type": "stream",
     "text": [
      "oisst-avhrr-v02r01.19911014.nc: 100%|██████████| 1.63M/1.63M [00:00<00:00, 2.17MB/s]\n"
     ]
    },
    {
     "name": "stdout",
     "output_type": "stream",
     "text": [
      "Downloading: https://www.ncei.noaa.gov/data/sea-surface-temperature-optimum-interpolation/v2.1/access/avhrr/199110/oisst-avhrr-v02r01.19911015.nc\n"
     ]
    },
    {
     "name": "stderr",
     "output_type": "stream",
     "text": [
      "oisst-avhrr-v02r01.19911015.nc: 100%|██████████| 1.63M/1.63M [00:00<00:00, 2.19MB/s]\n"
     ]
    },
    {
     "name": "stdout",
     "output_type": "stream",
     "text": [
      "Downloading: https://www.ncei.noaa.gov/data/sea-surface-temperature-optimum-interpolation/v2.1/access/avhrr/199110/oisst-avhrr-v02r01.19911016.nc\n"
     ]
    },
    {
     "name": "stderr",
     "output_type": "stream",
     "text": [
      "oisst-avhrr-v02r01.19911016.nc: 100%|██████████| 1.63M/1.63M [00:00<00:00, 2.26MB/s]\n"
     ]
    },
    {
     "name": "stdout",
     "output_type": "stream",
     "text": [
      "Downloading: https://www.ncei.noaa.gov/data/sea-surface-temperature-optimum-interpolation/v2.1/access/avhrr/199110/oisst-avhrr-v02r01.19911017.nc\n"
     ]
    },
    {
     "name": "stderr",
     "output_type": "stream",
     "text": [
      "oisst-avhrr-v02r01.19911017.nc: 100%|██████████| 1.63M/1.63M [00:00<00:00, 2.15MB/s]\n"
     ]
    },
    {
     "name": "stdout",
     "output_type": "stream",
     "text": [
      "Downloading: https://www.ncei.noaa.gov/data/sea-surface-temperature-optimum-interpolation/v2.1/access/avhrr/199110/oisst-avhrr-v02r01.19911018.nc\n"
     ]
    },
    {
     "name": "stderr",
     "output_type": "stream",
     "text": [
      "oisst-avhrr-v02r01.19911018.nc: 100%|██████████| 1.62M/1.62M [00:00<00:00, 2.17MB/s]\n"
     ]
    },
    {
     "name": "stdout",
     "output_type": "stream",
     "text": [
      "Downloading: https://www.ncei.noaa.gov/data/sea-surface-temperature-optimum-interpolation/v2.1/access/avhrr/199110/oisst-avhrr-v02r01.19911019.nc\n"
     ]
    },
    {
     "name": "stderr",
     "output_type": "stream",
     "text": [
      "oisst-avhrr-v02r01.19911019.nc: 100%|██████████| 1.62M/1.62M [00:00<00:00, 2.22MB/s]\n"
     ]
    },
    {
     "name": "stdout",
     "output_type": "stream",
     "text": [
      "Downloading: https://www.ncei.noaa.gov/data/sea-surface-temperature-optimum-interpolation/v2.1/access/avhrr/199110/oisst-avhrr-v02r01.19911020.nc\n"
     ]
    },
    {
     "name": "stderr",
     "output_type": "stream",
     "text": [
      "oisst-avhrr-v02r01.19911020.nc: 100%|██████████| 1.62M/1.62M [00:00<00:00, 2.17MB/s]\n"
     ]
    },
    {
     "name": "stdout",
     "output_type": "stream",
     "text": [
      "Downloading: https://www.ncei.noaa.gov/data/sea-surface-temperature-optimum-interpolation/v2.1/access/avhrr/199110/oisst-avhrr-v02r01.19911021.nc\n"
     ]
    },
    {
     "name": "stderr",
     "output_type": "stream",
     "text": [
      "oisst-avhrr-v02r01.19911021.nc: 100%|██████████| 1.62M/1.62M [00:00<00:00, 2.15MB/s]\n"
     ]
    },
    {
     "name": "stdout",
     "output_type": "stream",
     "text": [
      "Downloading: https://www.ncei.noaa.gov/data/sea-surface-temperature-optimum-interpolation/v2.1/access/avhrr/199110/oisst-avhrr-v02r01.19911022.nc\n"
     ]
    },
    {
     "name": "stderr",
     "output_type": "stream",
     "text": [
      "oisst-avhrr-v02r01.19911022.nc: 100%|██████████| 1.62M/1.62M [00:00<00:00, 2.25MB/s]\n"
     ]
    },
    {
     "name": "stdout",
     "output_type": "stream",
     "text": [
      "Downloading: https://www.ncei.noaa.gov/data/sea-surface-temperature-optimum-interpolation/v2.1/access/avhrr/199110/oisst-avhrr-v02r01.19911023.nc\n"
     ]
    },
    {
     "name": "stderr",
     "output_type": "stream",
     "text": [
      "oisst-avhrr-v02r01.19911023.nc: 100%|██████████| 1.62M/1.62M [00:00<00:00, 2.23MB/s]\n"
     ]
    },
    {
     "name": "stdout",
     "output_type": "stream",
     "text": [
      "Downloading: https://www.ncei.noaa.gov/data/sea-surface-temperature-optimum-interpolation/v2.1/access/avhrr/199110/oisst-avhrr-v02r01.19911024.nc\n"
     ]
    },
    {
     "name": "stderr",
     "output_type": "stream",
     "text": [
      "oisst-avhrr-v02r01.19911024.nc: 100%|██████████| 1.61M/1.61M [00:00<00:00, 1.87MB/s]\n"
     ]
    },
    {
     "name": "stdout",
     "output_type": "stream",
     "text": [
      "Downloading: https://www.ncei.noaa.gov/data/sea-surface-temperature-optimum-interpolation/v2.1/access/avhrr/199110/oisst-avhrr-v02r01.19911025.nc\n"
     ]
    },
    {
     "name": "stderr",
     "output_type": "stream",
     "text": [
      "oisst-avhrr-v02r01.19911025.nc: 100%|██████████| 1.61M/1.61M [00:01<00:00, 1.46MB/s]\n"
     ]
    },
    {
     "name": "stdout",
     "output_type": "stream",
     "text": [
      "Downloading: https://www.ncei.noaa.gov/data/sea-surface-temperature-optimum-interpolation/v2.1/access/avhrr/199110/oisst-avhrr-v02r01.19911026.nc\n"
     ]
    },
    {
     "name": "stderr",
     "output_type": "stream",
     "text": [
      "oisst-avhrr-v02r01.19911026.nc: 100%|██████████| 1.61M/1.61M [00:02<00:00, 842kB/s] \n"
     ]
    },
    {
     "name": "stdout",
     "output_type": "stream",
     "text": [
      "Downloading: https://www.ncei.noaa.gov/data/sea-surface-temperature-optimum-interpolation/v2.1/access/avhrr/199110/oisst-avhrr-v02r01.19911027.nc\n"
     ]
    },
    {
     "name": "stderr",
     "output_type": "stream",
     "text": [
      "oisst-avhrr-v02r01.19911027.nc: 100%|██████████| 1.61M/1.61M [00:02<00:00, 740kB/s]\n"
     ]
    },
    {
     "name": "stdout",
     "output_type": "stream",
     "text": [
      "Downloading: https://www.ncei.noaa.gov/data/sea-surface-temperature-optimum-interpolation/v2.1/access/avhrr/199110/oisst-avhrr-v02r01.19911028.nc\n"
     ]
    },
    {
     "name": "stderr",
     "output_type": "stream",
     "text": [
      "oisst-avhrr-v02r01.19911028.nc: 100%|██████████| 1.62M/1.62M [00:00<00:00, 1.70MB/s]\n"
     ]
    },
    {
     "name": "stdout",
     "output_type": "stream",
     "text": [
      "Downloading: https://www.ncei.noaa.gov/data/sea-surface-temperature-optimum-interpolation/v2.1/access/avhrr/199110/oisst-avhrr-v02r01.19911029.nc\n"
     ]
    },
    {
     "name": "stderr",
     "output_type": "stream",
     "text": [
      "oisst-avhrr-v02r01.19911029.nc: 100%|██████████| 1.62M/1.62M [00:01<00:00, 1.65MB/s]\n"
     ]
    },
    {
     "name": "stdout",
     "output_type": "stream",
     "text": [
      "Downloading: https://www.ncei.noaa.gov/data/sea-surface-temperature-optimum-interpolation/v2.1/access/avhrr/199110/oisst-avhrr-v02r01.19911030.nc\n"
     ]
    },
    {
     "name": "stderr",
     "output_type": "stream",
     "text": [
      "oisst-avhrr-v02r01.19911030.nc: 100%|██████████| 1.61M/1.61M [00:00<00:00, 1.80MB/s]\n"
     ]
    },
    {
     "name": "stdout",
     "output_type": "stream",
     "text": [
      "Downloading: https://www.ncei.noaa.gov/data/sea-surface-temperature-optimum-interpolation/v2.1/access/avhrr/199110/oisst-avhrr-v02r01.19911031.nc\n"
     ]
    },
    {
     "name": "stderr",
     "output_type": "stream",
     "text": [
      "oisst-avhrr-v02r01.19911031.nc: 100%|██████████| 1.61M/1.61M [00:01<00:00, 1.52MB/s]\n"
     ]
    },
    {
     "name": "stdout",
     "output_type": "stream",
     "text": [
      "Processing: https://www.ncei.noaa.gov/data/sea-surface-temperature-optimum-interpolation/v2.1/access/avhrr/199111/\n",
      "Downloading: https://www.ncei.noaa.gov/data/sea-surface-temperature-optimum-interpolation/v2.1/access/avhrr/199111/oisst-avhrr-v02r01.19911101.nc\n"
     ]
    },
    {
     "name": "stderr",
     "output_type": "stream",
     "text": [
      "oisst-avhrr-v02r01.19911101.nc: 100%|██████████| 1.61M/1.61M [00:00<00:00, 1.90MB/s]\n"
     ]
    },
    {
     "name": "stdout",
     "output_type": "stream",
     "text": [
      "Downloading: https://www.ncei.noaa.gov/data/sea-surface-temperature-optimum-interpolation/v2.1/access/avhrr/199111/oisst-avhrr-v02r01.19911102.nc\n"
     ]
    },
    {
     "name": "stderr",
     "output_type": "stream",
     "text": [
      "oisst-avhrr-v02r01.19911102.nc: 100%|██████████| 1.61M/1.61M [00:01<00:00, 1.51MB/s]\n"
     ]
    },
    {
     "name": "stdout",
     "output_type": "stream",
     "text": [
      "Downloading: https://www.ncei.noaa.gov/data/sea-surface-temperature-optimum-interpolation/v2.1/access/avhrr/199111/oisst-avhrr-v02r01.19911103.nc\n"
     ]
    },
    {
     "name": "stderr",
     "output_type": "stream",
     "text": [
      "oisst-avhrr-v02r01.19911103.nc: 100%|██████████| 1.62M/1.62M [00:04<00:00, 413kB/s]\n"
     ]
    },
    {
     "name": "stdout",
     "output_type": "stream",
     "text": [
      "Downloading: https://www.ncei.noaa.gov/data/sea-surface-temperature-optimum-interpolation/v2.1/access/avhrr/199111/oisst-avhrr-v02r01.19911104.nc\n"
     ]
    },
    {
     "name": "stderr",
     "output_type": "stream",
     "text": [
      "oisst-avhrr-v02r01.19911104.nc: 100%|██████████| 1.62M/1.62M [00:00<00:00, 1.95MB/s]\n"
     ]
    },
    {
     "name": "stdout",
     "output_type": "stream",
     "text": [
      "Downloading: https://www.ncei.noaa.gov/data/sea-surface-temperature-optimum-interpolation/v2.1/access/avhrr/199111/oisst-avhrr-v02r01.19911105.nc\n"
     ]
    },
    {
     "name": "stderr",
     "output_type": "stream",
     "text": [
      "oisst-avhrr-v02r01.19911105.nc: 100%|██████████| 1.61M/1.61M [00:02<00:00, 616kB/s]\n"
     ]
    },
    {
     "name": "stdout",
     "output_type": "stream",
     "text": [
      "Downloading: https://www.ncei.noaa.gov/data/sea-surface-temperature-optimum-interpolation/v2.1/access/avhrr/199111/oisst-avhrr-v02r01.19911106.nc\n"
     ]
    },
    {
     "name": "stderr",
     "output_type": "stream",
     "text": [
      "oisst-avhrr-v02r01.19911106.nc: 100%|██████████| 1.61M/1.61M [00:00<00:00, 1.95MB/s]\n"
     ]
    },
    {
     "name": "stdout",
     "output_type": "stream",
     "text": [
      "Downloading: https://www.ncei.noaa.gov/data/sea-surface-temperature-optimum-interpolation/v2.1/access/avhrr/199111/oisst-avhrr-v02r01.19911107.nc\n"
     ]
    },
    {
     "name": "stderr",
     "output_type": "stream",
     "text": [
      "oisst-avhrr-v02r01.19911107.nc: 100%|██████████| 1.61M/1.61M [00:00<00:00, 2.21MB/s]\n"
     ]
    },
    {
     "name": "stdout",
     "output_type": "stream",
     "text": [
      "Downloading: https://www.ncei.noaa.gov/data/sea-surface-temperature-optimum-interpolation/v2.1/access/avhrr/199111/oisst-avhrr-v02r01.19911108.nc\n"
     ]
    },
    {
     "name": "stderr",
     "output_type": "stream",
     "text": [
      "oisst-avhrr-v02r01.19911108.nc: 100%|██████████| 1.61M/1.61M [00:00<00:00, 2.24MB/s]\n"
     ]
    },
    {
     "name": "stdout",
     "output_type": "stream",
     "text": [
      "Downloading: https://www.ncei.noaa.gov/data/sea-surface-temperature-optimum-interpolation/v2.1/access/avhrr/199111/oisst-avhrr-v02r01.19911109.nc\n"
     ]
    },
    {
     "name": "stderr",
     "output_type": "stream",
     "text": [
      "oisst-avhrr-v02r01.19911109.nc: 100%|██████████| 1.61M/1.61M [00:00<00:00, 2.19MB/s]\n"
     ]
    },
    {
     "name": "stdout",
     "output_type": "stream",
     "text": [
      "Downloading: https://www.ncei.noaa.gov/data/sea-surface-temperature-optimum-interpolation/v2.1/access/avhrr/199111/oisst-avhrr-v02r01.19911110.nc\n"
     ]
    },
    {
     "name": "stderr",
     "output_type": "stream",
     "text": [
      "oisst-avhrr-v02r01.19911110.nc: 100%|██████████| 1.61M/1.61M [00:00<00:00, 2.15MB/s]\n"
     ]
    },
    {
     "name": "stdout",
     "output_type": "stream",
     "text": [
      "Downloading: https://www.ncei.noaa.gov/data/sea-surface-temperature-optimum-interpolation/v2.1/access/avhrr/199111/oisst-avhrr-v02r01.19911111.nc\n"
     ]
    },
    {
     "name": "stderr",
     "output_type": "stream",
     "text": [
      "oisst-avhrr-v02r01.19911111.nc: 100%|██████████| 1.62M/1.62M [00:00<00:00, 2.18MB/s]\n"
     ]
    },
    {
     "name": "stdout",
     "output_type": "stream",
     "text": [
      "Downloading: https://www.ncei.noaa.gov/data/sea-surface-temperature-optimum-interpolation/v2.1/access/avhrr/199111/oisst-avhrr-v02r01.19911112.nc\n"
     ]
    },
    {
     "name": "stderr",
     "output_type": "stream",
     "text": [
      "oisst-avhrr-v02r01.19911112.nc: 100%|██████████| 1.62M/1.62M [00:00<00:00, 2.07MB/s]\n"
     ]
    },
    {
     "name": "stdout",
     "output_type": "stream",
     "text": [
      "Downloading: https://www.ncei.noaa.gov/data/sea-surface-temperature-optimum-interpolation/v2.1/access/avhrr/199111/oisst-avhrr-v02r01.19911113.nc\n"
     ]
    },
    {
     "name": "stderr",
     "output_type": "stream",
     "text": [
      "oisst-avhrr-v02r01.19911113.nc: 100%|██████████| 1.62M/1.62M [00:00<00:00, 2.18MB/s]\n"
     ]
    },
    {
     "name": "stdout",
     "output_type": "stream",
     "text": [
      "Downloading: https://www.ncei.noaa.gov/data/sea-surface-temperature-optimum-interpolation/v2.1/access/avhrr/199111/oisst-avhrr-v02r01.19911114.nc\n"
     ]
    },
    {
     "name": "stderr",
     "output_type": "stream",
     "text": [
      "oisst-avhrr-v02r01.19911114.nc: 100%|██████████| 1.62M/1.62M [00:00<00:00, 2.24MB/s]\n"
     ]
    },
    {
     "name": "stdout",
     "output_type": "stream",
     "text": [
      "Downloading: https://www.ncei.noaa.gov/data/sea-surface-temperature-optimum-interpolation/v2.1/access/avhrr/199111/oisst-avhrr-v02r01.19911115.nc\n"
     ]
    },
    {
     "name": "stderr",
     "output_type": "stream",
     "text": [
      "oisst-avhrr-v02r01.19911115.nc: 100%|██████████| 1.62M/1.62M [00:02<00:00, 574kB/s]\n"
     ]
    },
    {
     "name": "stdout",
     "output_type": "stream",
     "text": [
      "Downloading: https://www.ncei.noaa.gov/data/sea-surface-temperature-optimum-interpolation/v2.1/access/avhrr/199111/oisst-avhrr-v02r01.19911116.nc\n"
     ]
    },
    {
     "name": "stderr",
     "output_type": "stream",
     "text": [
      "oisst-avhrr-v02r01.19911116.nc: 100%|██████████| 1.61M/1.61M [00:00<00:00, 2.23MB/s]\n"
     ]
    },
    {
     "name": "stdout",
     "output_type": "stream",
     "text": [
      "Downloading: https://www.ncei.noaa.gov/data/sea-surface-temperature-optimum-interpolation/v2.1/access/avhrr/199111/oisst-avhrr-v02r01.19911117.nc\n"
     ]
    },
    {
     "name": "stderr",
     "output_type": "stream",
     "text": [
      "oisst-avhrr-v02r01.19911117.nc: 100%|██████████| 1.62M/1.62M [00:00<00:00, 1.97MB/s]\n"
     ]
    },
    {
     "name": "stdout",
     "output_type": "stream",
     "text": [
      "Downloading: https://www.ncei.noaa.gov/data/sea-surface-temperature-optimum-interpolation/v2.1/access/avhrr/199111/oisst-avhrr-v02r01.19911118.nc\n"
     ]
    },
    {
     "name": "stderr",
     "output_type": "stream",
     "text": [
      "oisst-avhrr-v02r01.19911118.nc: 100%|██████████| 1.61M/1.61M [00:00<00:00, 2.19MB/s]\n"
     ]
    },
    {
     "name": "stdout",
     "output_type": "stream",
     "text": [
      "Downloading: https://www.ncei.noaa.gov/data/sea-surface-temperature-optimum-interpolation/v2.1/access/avhrr/199111/oisst-avhrr-v02r01.19911119.nc\n"
     ]
    },
    {
     "name": "stderr",
     "output_type": "stream",
     "text": [
      "oisst-avhrr-v02r01.19911119.nc: 100%|██████████| 1.62M/1.62M [00:00<00:00, 2.25MB/s]\n"
     ]
    },
    {
     "name": "stdout",
     "output_type": "stream",
     "text": [
      "Downloading: https://www.ncei.noaa.gov/data/sea-surface-temperature-optimum-interpolation/v2.1/access/avhrr/199111/oisst-avhrr-v02r01.19911120.nc\n"
     ]
    },
    {
     "name": "stderr",
     "output_type": "stream",
     "text": [
      "oisst-avhrr-v02r01.19911120.nc: 100%|██████████| 1.62M/1.62M [00:00<00:00, 2.22MB/s]\n"
     ]
    },
    {
     "name": "stdout",
     "output_type": "stream",
     "text": [
      "Downloading: https://www.ncei.noaa.gov/data/sea-surface-temperature-optimum-interpolation/v2.1/access/avhrr/199111/oisst-avhrr-v02r01.19911121.nc\n"
     ]
    },
    {
     "name": "stderr",
     "output_type": "stream",
     "text": [
      "oisst-avhrr-v02r01.19911121.nc: 100%|██████████| 1.62M/1.62M [00:00<00:00, 2.19MB/s]\n"
     ]
    },
    {
     "name": "stdout",
     "output_type": "stream",
     "text": [
      "Downloading: https://www.ncei.noaa.gov/data/sea-surface-temperature-optimum-interpolation/v2.1/access/avhrr/199111/oisst-avhrr-v02r01.19911122.nc\n"
     ]
    },
    {
     "name": "stderr",
     "output_type": "stream",
     "text": [
      "oisst-avhrr-v02r01.19911122.nc: 100%|██████████| 1.62M/1.62M [00:00<00:00, 2.19MB/s]\n"
     ]
    },
    {
     "name": "stdout",
     "output_type": "stream",
     "text": [
      "Downloading: https://www.ncei.noaa.gov/data/sea-surface-temperature-optimum-interpolation/v2.1/access/avhrr/199111/oisst-avhrr-v02r01.19911123.nc\n"
     ]
    },
    {
     "name": "stderr",
     "output_type": "stream",
     "text": [
      "oisst-avhrr-v02r01.19911123.nc: 100%|██████████| 1.62M/1.62M [00:00<00:00, 2.20MB/s]\n"
     ]
    },
    {
     "name": "stdout",
     "output_type": "stream",
     "text": [
      "Downloading: https://www.ncei.noaa.gov/data/sea-surface-temperature-optimum-interpolation/v2.1/access/avhrr/199111/oisst-avhrr-v02r01.19911124.nc\n"
     ]
    },
    {
     "name": "stderr",
     "output_type": "stream",
     "text": [
      "oisst-avhrr-v02r01.19911124.nc: 100%|██████████| 1.62M/1.62M [00:00<00:00, 2.21MB/s]\n"
     ]
    },
    {
     "name": "stdout",
     "output_type": "stream",
     "text": [
      "Downloading: https://www.ncei.noaa.gov/data/sea-surface-temperature-optimum-interpolation/v2.1/access/avhrr/199111/oisst-avhrr-v02r01.19911125.nc\n"
     ]
    },
    {
     "name": "stderr",
     "output_type": "stream",
     "text": [
      "oisst-avhrr-v02r01.19911125.nc: 100%|██████████| 1.62M/1.62M [00:00<00:00, 2.18MB/s]\n"
     ]
    },
    {
     "name": "stdout",
     "output_type": "stream",
     "text": [
      "Downloading: https://www.ncei.noaa.gov/data/sea-surface-temperature-optimum-interpolation/v2.1/access/avhrr/199111/oisst-avhrr-v02r01.19911126.nc\n"
     ]
    },
    {
     "name": "stderr",
     "output_type": "stream",
     "text": [
      "oisst-avhrr-v02r01.19911126.nc: 100%|██████████| 1.62M/1.62M [00:06<00:00, 281kB/s]\n"
     ]
    },
    {
     "name": "stdout",
     "output_type": "stream",
     "text": [
      "Downloading: https://www.ncei.noaa.gov/data/sea-surface-temperature-optimum-interpolation/v2.1/access/avhrr/199111/oisst-avhrr-v02r01.19911127.nc\n"
     ]
    },
    {
     "name": "stderr",
     "output_type": "stream",
     "text": [
      "oisst-avhrr-v02r01.19911127.nc: 100%|██████████| 1.62M/1.62M [00:00<00:00, 2.23MB/s]\n"
     ]
    },
    {
     "name": "stdout",
     "output_type": "stream",
     "text": [
      "Downloading: https://www.ncei.noaa.gov/data/sea-surface-temperature-optimum-interpolation/v2.1/access/avhrr/199111/oisst-avhrr-v02r01.19911128.nc\n"
     ]
    },
    {
     "name": "stderr",
     "output_type": "stream",
     "text": [
      "oisst-avhrr-v02r01.19911128.nc: 100%|██████████| 1.62M/1.62M [00:00<00:00, 2.18MB/s]\n"
     ]
    },
    {
     "name": "stdout",
     "output_type": "stream",
     "text": [
      "Downloading: https://www.ncei.noaa.gov/data/sea-surface-temperature-optimum-interpolation/v2.1/access/avhrr/199111/oisst-avhrr-v02r01.19911129.nc\n"
     ]
    },
    {
     "name": "stderr",
     "output_type": "stream",
     "text": [
      "oisst-avhrr-v02r01.19911129.nc: 100%|██████████| 1.62M/1.62M [00:01<00:00, 1.37MB/s]\n"
     ]
    },
    {
     "name": "stdout",
     "output_type": "stream",
     "text": [
      "Downloading: https://www.ncei.noaa.gov/data/sea-surface-temperature-optimum-interpolation/v2.1/access/avhrr/199111/oisst-avhrr-v02r01.19911130.nc\n"
     ]
    },
    {
     "name": "stderr",
     "output_type": "stream",
     "text": [
      "oisst-avhrr-v02r01.19911130.nc: 100%|██████████| 1.62M/1.62M [00:00<00:00, 2.24MB/s]\n"
     ]
    },
    {
     "name": "stdout",
     "output_type": "stream",
     "text": [
      "Processing: https://www.ncei.noaa.gov/data/sea-surface-temperature-optimum-interpolation/v2.1/access/avhrr/199112/\n",
      "Downloading: https://www.ncei.noaa.gov/data/sea-surface-temperature-optimum-interpolation/v2.1/access/avhrr/199112/oisst-avhrr-v02r01.19911201.nc\n"
     ]
    },
    {
     "name": "stderr",
     "output_type": "stream",
     "text": [
      "oisst-avhrr-v02r01.19911201.nc: 100%|██████████| 1.62M/1.62M [00:00<00:00, 2.23MB/s]\n"
     ]
    },
    {
     "name": "stdout",
     "output_type": "stream",
     "text": [
      "Downloading: https://www.ncei.noaa.gov/data/sea-surface-temperature-optimum-interpolation/v2.1/access/avhrr/199112/oisst-avhrr-v02r01.19911202.nc\n"
     ]
    },
    {
     "name": "stderr",
     "output_type": "stream",
     "text": [
      "oisst-avhrr-v02r01.19911202.nc: 100%|██████████| 1.62M/1.62M [00:00<00:00, 2.23MB/s]\n"
     ]
    },
    {
     "name": "stdout",
     "output_type": "stream",
     "text": [
      "Downloading: https://www.ncei.noaa.gov/data/sea-surface-temperature-optimum-interpolation/v2.1/access/avhrr/199112/oisst-avhrr-v02r01.19911203.nc\n"
     ]
    },
    {
     "name": "stderr",
     "output_type": "stream",
     "text": [
      "oisst-avhrr-v02r01.19911203.nc: 100%|██████████| 1.62M/1.62M [00:00<00:00, 2.22MB/s]\n"
     ]
    },
    {
     "name": "stdout",
     "output_type": "stream",
     "text": [
      "Downloading: https://www.ncei.noaa.gov/data/sea-surface-temperature-optimum-interpolation/v2.1/access/avhrr/199112/oisst-avhrr-v02r01.19911204.nc\n"
     ]
    },
    {
     "name": "stderr",
     "output_type": "stream",
     "text": [
      "oisst-avhrr-v02r01.19911204.nc: 100%|██████████| 1.62M/1.62M [00:00<00:00, 2.15MB/s]\n"
     ]
    },
    {
     "name": "stdout",
     "output_type": "stream",
     "text": [
      "Downloading: https://www.ncei.noaa.gov/data/sea-surface-temperature-optimum-interpolation/v2.1/access/avhrr/199112/oisst-avhrr-v02r01.19911205.nc\n"
     ]
    },
    {
     "name": "stderr",
     "output_type": "stream",
     "text": [
      "oisst-avhrr-v02r01.19911205.nc: 100%|██████████| 1.62M/1.62M [00:00<00:00, 2.21MB/s]\n"
     ]
    },
    {
     "name": "stdout",
     "output_type": "stream",
     "text": [
      "Downloading: https://www.ncei.noaa.gov/data/sea-surface-temperature-optimum-interpolation/v2.1/access/avhrr/199112/oisst-avhrr-v02r01.19911206.nc\n"
     ]
    },
    {
     "name": "stderr",
     "output_type": "stream",
     "text": [
      "oisst-avhrr-v02r01.19911206.nc: 100%|██████████| 1.62M/1.62M [00:01<00:00, 897kB/s] \n"
     ]
    },
    {
     "name": "stdout",
     "output_type": "stream",
     "text": [
      "Downloading: https://www.ncei.noaa.gov/data/sea-surface-temperature-optimum-interpolation/v2.1/access/avhrr/199112/oisst-avhrr-v02r01.19911207.nc\n"
     ]
    },
    {
     "name": "stderr",
     "output_type": "stream",
     "text": [
      "oisst-avhrr-v02r01.19911207.nc: 100%|██████████| 1.62M/1.62M [00:00<00:00, 2.20MB/s]\n"
     ]
    },
    {
     "name": "stdout",
     "output_type": "stream",
     "text": [
      "Downloading: https://www.ncei.noaa.gov/data/sea-surface-temperature-optimum-interpolation/v2.1/access/avhrr/199112/oisst-avhrr-v02r01.19911208.nc\n"
     ]
    },
    {
     "name": "stderr",
     "output_type": "stream",
     "text": [
      "oisst-avhrr-v02r01.19911208.nc: 100%|██████████| 1.62M/1.62M [00:00<00:00, 2.24MB/s]\n"
     ]
    },
    {
     "name": "stdout",
     "output_type": "stream",
     "text": [
      "Downloading: https://www.ncei.noaa.gov/data/sea-surface-temperature-optimum-interpolation/v2.1/access/avhrr/199112/oisst-avhrr-v02r01.19911209.nc\n"
     ]
    },
    {
     "name": "stderr",
     "output_type": "stream",
     "text": [
      "oisst-avhrr-v02r01.19911209.nc: 100%|██████████| 1.62M/1.62M [00:01<00:00, 1.33MB/s]\n"
     ]
    },
    {
     "name": "stdout",
     "output_type": "stream",
     "text": [
      "Downloading: https://www.ncei.noaa.gov/data/sea-surface-temperature-optimum-interpolation/v2.1/access/avhrr/199112/oisst-avhrr-v02r01.19911210.nc\n"
     ]
    },
    {
     "name": "stderr",
     "output_type": "stream",
     "text": [
      "oisst-avhrr-v02r01.19911210.nc: 100%|██████████| 1.62M/1.62M [00:00<00:00, 2.21MB/s]\n"
     ]
    },
    {
     "name": "stdout",
     "output_type": "stream",
     "text": [
      "Downloading: https://www.ncei.noaa.gov/data/sea-surface-temperature-optimum-interpolation/v2.1/access/avhrr/199112/oisst-avhrr-v02r01.19911211.nc\n"
     ]
    },
    {
     "name": "stderr",
     "output_type": "stream",
     "text": [
      "oisst-avhrr-v02r01.19911211.nc: 100%|██████████| 1.62M/1.62M [00:00<00:00, 2.18MB/s]\n"
     ]
    },
    {
     "name": "stdout",
     "output_type": "stream",
     "text": [
      "Downloading: https://www.ncei.noaa.gov/data/sea-surface-temperature-optimum-interpolation/v2.1/access/avhrr/199112/oisst-avhrr-v02r01.19911212.nc\n"
     ]
    },
    {
     "name": "stderr",
     "output_type": "stream",
     "text": [
      "oisst-avhrr-v02r01.19911212.nc: 100%|██████████| 1.62M/1.62M [00:03<00:00, 498kB/s]\n"
     ]
    },
    {
     "name": "stdout",
     "output_type": "stream",
     "text": [
      "Downloading: https://www.ncei.noaa.gov/data/sea-surface-temperature-optimum-interpolation/v2.1/access/avhrr/199112/oisst-avhrr-v02r01.19911213.nc\n"
     ]
    },
    {
     "name": "stderr",
     "output_type": "stream",
     "text": [
      "oisst-avhrr-v02r01.19911213.nc: 100%|██████████| 1.62M/1.62M [00:00<00:00, 2.21MB/s]\n"
     ]
    },
    {
     "name": "stdout",
     "output_type": "stream",
     "text": [
      "Downloading: https://www.ncei.noaa.gov/data/sea-surface-temperature-optimum-interpolation/v2.1/access/avhrr/199112/oisst-avhrr-v02r01.19911214.nc\n"
     ]
    },
    {
     "name": "stderr",
     "output_type": "stream",
     "text": [
      "oisst-avhrr-v02r01.19911214.nc: 100%|██████████| 1.62M/1.62M [00:00<00:00, 2.23MB/s]\n"
     ]
    },
    {
     "name": "stdout",
     "output_type": "stream",
     "text": [
      "Downloading: https://www.ncei.noaa.gov/data/sea-surface-temperature-optimum-interpolation/v2.1/access/avhrr/199112/oisst-avhrr-v02r01.19911215.nc\n"
     ]
    },
    {
     "name": "stderr",
     "output_type": "stream",
     "text": [
      "oisst-avhrr-v02r01.19911215.nc: 100%|██████████| 1.62M/1.62M [00:00<00:00, 2.16MB/s]\n"
     ]
    },
    {
     "name": "stdout",
     "output_type": "stream",
     "text": [
      "Downloading: https://www.ncei.noaa.gov/data/sea-surface-temperature-optimum-interpolation/v2.1/access/avhrr/199112/oisst-avhrr-v02r01.19911216.nc\n"
     ]
    },
    {
     "name": "stderr",
     "output_type": "stream",
     "text": [
      "oisst-avhrr-v02r01.19911216.nc: 100%|██████████| 1.62M/1.62M [00:00<00:00, 2.17MB/s]\n"
     ]
    },
    {
     "name": "stdout",
     "output_type": "stream",
     "text": [
      "Downloading: https://www.ncei.noaa.gov/data/sea-surface-temperature-optimum-interpolation/v2.1/access/avhrr/199112/oisst-avhrr-v02r01.19911217.nc\n"
     ]
    },
    {
     "name": "stderr",
     "output_type": "stream",
     "text": [
      "oisst-avhrr-v02r01.19911217.nc: 100%|██████████| 1.63M/1.63M [00:00<00:00, 2.23MB/s]\n"
     ]
    },
    {
     "name": "stdout",
     "output_type": "stream",
     "text": [
      "Downloading: https://www.ncei.noaa.gov/data/sea-surface-temperature-optimum-interpolation/v2.1/access/avhrr/199112/oisst-avhrr-v02r01.19911218.nc\n"
     ]
    },
    {
     "name": "stderr",
     "output_type": "stream",
     "text": [
      "oisst-avhrr-v02r01.19911218.nc: 100%|██████████| 1.63M/1.63M [00:00<00:00, 2.25MB/s]\n"
     ]
    },
    {
     "name": "stdout",
     "output_type": "stream",
     "text": [
      "Downloading: https://www.ncei.noaa.gov/data/sea-surface-temperature-optimum-interpolation/v2.1/access/avhrr/199112/oisst-avhrr-v02r01.19911219.nc\n"
     ]
    },
    {
     "name": "stderr",
     "output_type": "stream",
     "text": [
      "oisst-avhrr-v02r01.19911219.nc: 100%|██████████| 1.63M/1.63M [00:00<00:00, 2.23MB/s]\n"
     ]
    },
    {
     "name": "stdout",
     "output_type": "stream",
     "text": [
      "Downloading: https://www.ncei.noaa.gov/data/sea-surface-temperature-optimum-interpolation/v2.1/access/avhrr/199112/oisst-avhrr-v02r01.19911220.nc\n"
     ]
    },
    {
     "name": "stderr",
     "output_type": "stream",
     "text": [
      "oisst-avhrr-v02r01.19911220.nc: 100%|██████████| 1.63M/1.63M [00:00<00:00, 2.17MB/s]\n"
     ]
    },
    {
     "name": "stdout",
     "output_type": "stream",
     "text": [
      "Downloading: https://www.ncei.noaa.gov/data/sea-surface-temperature-optimum-interpolation/v2.1/access/avhrr/199112/oisst-avhrr-v02r01.19911221.nc\n"
     ]
    },
    {
     "name": "stderr",
     "output_type": "stream",
     "text": [
      "oisst-avhrr-v02r01.19911221.nc: 100%|██████████| 1.63M/1.63M [00:00<00:00, 2.26MB/s]\n"
     ]
    },
    {
     "name": "stdout",
     "output_type": "stream",
     "text": [
      "Downloading: https://www.ncei.noaa.gov/data/sea-surface-temperature-optimum-interpolation/v2.1/access/avhrr/199112/oisst-avhrr-v02r01.19911222.nc\n"
     ]
    },
    {
     "name": "stderr",
     "output_type": "stream",
     "text": [
      "oisst-avhrr-v02r01.19911222.nc: 100%|██████████| 1.62M/1.62M [00:00<00:00, 2.24MB/s]\n"
     ]
    },
    {
     "name": "stdout",
     "output_type": "stream",
     "text": [
      "Downloading: https://www.ncei.noaa.gov/data/sea-surface-temperature-optimum-interpolation/v2.1/access/avhrr/199112/oisst-avhrr-v02r01.19911223.nc\n"
     ]
    },
    {
     "name": "stderr",
     "output_type": "stream",
     "text": [
      "oisst-avhrr-v02r01.19911223.nc: 100%|██████████| 1.62M/1.62M [00:00<00:00, 2.23MB/s]\n"
     ]
    },
    {
     "name": "stdout",
     "output_type": "stream",
     "text": [
      "Downloading: https://www.ncei.noaa.gov/data/sea-surface-temperature-optimum-interpolation/v2.1/access/avhrr/199112/oisst-avhrr-v02r01.19911224.nc\n"
     ]
    },
    {
     "name": "stderr",
     "output_type": "stream",
     "text": [
      "oisst-avhrr-v02r01.19911224.nc: 100%|██████████| 1.62M/1.62M [00:00<00:00, 2.22MB/s]\n"
     ]
    },
    {
     "name": "stdout",
     "output_type": "stream",
     "text": [
      "Downloading: https://www.ncei.noaa.gov/data/sea-surface-temperature-optimum-interpolation/v2.1/access/avhrr/199112/oisst-avhrr-v02r01.19911225.nc\n"
     ]
    },
    {
     "name": "stderr",
     "output_type": "stream",
     "text": [
      "oisst-avhrr-v02r01.19911225.nc: 100%|██████████| 1.63M/1.63M [00:00<00:00, 2.20MB/s]\n"
     ]
    },
    {
     "name": "stdout",
     "output_type": "stream",
     "text": [
      "Downloading: https://www.ncei.noaa.gov/data/sea-surface-temperature-optimum-interpolation/v2.1/access/avhrr/199112/oisst-avhrr-v02r01.19911226.nc\n"
     ]
    },
    {
     "name": "stderr",
     "output_type": "stream",
     "text": [
      "oisst-avhrr-v02r01.19911226.nc: 100%|██████████| 1.63M/1.63M [00:00<00:00, 2.24MB/s]\n"
     ]
    },
    {
     "name": "stdout",
     "output_type": "stream",
     "text": [
      "Downloading: https://www.ncei.noaa.gov/data/sea-surface-temperature-optimum-interpolation/v2.1/access/avhrr/199112/oisst-avhrr-v02r01.19911227.nc\n"
     ]
    },
    {
     "name": "stderr",
     "output_type": "stream",
     "text": [
      "oisst-avhrr-v02r01.19911227.nc: 100%|██████████| 1.63M/1.63M [00:00<00:00, 2.27MB/s]\n"
     ]
    },
    {
     "name": "stdout",
     "output_type": "stream",
     "text": [
      "Downloading: https://www.ncei.noaa.gov/data/sea-surface-temperature-optimum-interpolation/v2.1/access/avhrr/199112/oisst-avhrr-v02r01.19911228.nc\n"
     ]
    },
    {
     "name": "stderr",
     "output_type": "stream",
     "text": [
      "oisst-avhrr-v02r01.19911228.nc: 100%|██████████| 1.63M/1.63M [00:00<00:00, 2.23MB/s]\n"
     ]
    },
    {
     "name": "stdout",
     "output_type": "stream",
     "text": [
      "Downloading: https://www.ncei.noaa.gov/data/sea-surface-temperature-optimum-interpolation/v2.1/access/avhrr/199112/oisst-avhrr-v02r01.19911229.nc\n"
     ]
    },
    {
     "name": "stderr",
     "output_type": "stream",
     "text": [
      "oisst-avhrr-v02r01.19911229.nc: 100%|██████████| 1.63M/1.63M [00:00<00:00, 1.96MB/s]\n"
     ]
    },
    {
     "name": "stdout",
     "output_type": "stream",
     "text": [
      "Downloading: https://www.ncei.noaa.gov/data/sea-surface-temperature-optimum-interpolation/v2.1/access/avhrr/199112/oisst-avhrr-v02r01.19911230.nc\n"
     ]
    },
    {
     "name": "stderr",
     "output_type": "stream",
     "text": [
      "oisst-avhrr-v02r01.19911230.nc: 100%|██████████| 1.62M/1.62M [00:00<00:00, 2.23MB/s]\n"
     ]
    },
    {
     "name": "stdout",
     "output_type": "stream",
     "text": [
      "Downloading: https://www.ncei.noaa.gov/data/sea-surface-temperature-optimum-interpolation/v2.1/access/avhrr/199112/oisst-avhrr-v02r01.19911231.nc\n"
     ]
    },
    {
     "name": "stderr",
     "output_type": "stream",
     "text": [
      "oisst-avhrr-v02r01.19911231.nc: 100%|██████████| 1.62M/1.62M [00:00<00:00, 2.17MB/s]\n"
     ]
    },
    {
     "name": "stdout",
     "output_type": "stream",
     "text": [
      "Processing: https://www.ncei.noaa.gov/data/sea-surface-temperature-optimum-interpolation/v2.1/access/avhrr/199201/\n",
      "Downloading: https://www.ncei.noaa.gov/data/sea-surface-temperature-optimum-interpolation/v2.1/access/avhrr/199201/oisst-avhrr-v02r01.19920101.nc\n"
     ]
    },
    {
     "name": "stderr",
     "output_type": "stream",
     "text": [
      "oisst-avhrr-v02r01.19920101.nc: 100%|██████████| 1.62M/1.62M [00:00<00:00, 2.22MB/s]\n"
     ]
    },
    {
     "name": "stdout",
     "output_type": "stream",
     "text": [
      "Downloading: https://www.ncei.noaa.gov/data/sea-surface-temperature-optimum-interpolation/v2.1/access/avhrr/199201/oisst-avhrr-v02r01.19920102.nc\n"
     ]
    },
    {
     "name": "stderr",
     "output_type": "stream",
     "text": [
      "oisst-avhrr-v02r01.19920102.nc: 100%|██████████| 1.62M/1.62M [00:00<00:00, 2.22MB/s]\n"
     ]
    },
    {
     "name": "stdout",
     "output_type": "stream",
     "text": [
      "Downloading: https://www.ncei.noaa.gov/data/sea-surface-temperature-optimum-interpolation/v2.1/access/avhrr/199201/oisst-avhrr-v02r01.19920103.nc\n"
     ]
    },
    {
     "name": "stderr",
     "output_type": "stream",
     "text": [
      "oisst-avhrr-v02r01.19920103.nc: 100%|██████████| 1.62M/1.62M [00:00<00:00, 2.18MB/s]\n"
     ]
    },
    {
     "name": "stdout",
     "output_type": "stream",
     "text": [
      "Downloading: https://www.ncei.noaa.gov/data/sea-surface-temperature-optimum-interpolation/v2.1/access/avhrr/199201/oisst-avhrr-v02r01.19920104.nc\n"
     ]
    },
    {
     "name": "stderr",
     "output_type": "stream",
     "text": [
      "oisst-avhrr-v02r01.19920104.nc: 100%|██████████| 1.62M/1.62M [00:00<00:00, 2.19MB/s]\n"
     ]
    },
    {
     "name": "stdout",
     "output_type": "stream",
     "text": [
      "Downloading: https://www.ncei.noaa.gov/data/sea-surface-temperature-optimum-interpolation/v2.1/access/avhrr/199201/oisst-avhrr-v02r01.19920105.nc\n"
     ]
    },
    {
     "name": "stderr",
     "output_type": "stream",
     "text": [
      "oisst-avhrr-v02r01.19920105.nc: 100%|██████████| 1.62M/1.62M [00:00<00:00, 2.18MB/s]\n"
     ]
    },
    {
     "name": "stdout",
     "output_type": "stream",
     "text": [
      "Downloading: https://www.ncei.noaa.gov/data/sea-surface-temperature-optimum-interpolation/v2.1/access/avhrr/199201/oisst-avhrr-v02r01.19920106.nc\n"
     ]
    },
    {
     "name": "stderr",
     "output_type": "stream",
     "text": [
      "oisst-avhrr-v02r01.19920106.nc: 100%|██████████| 1.62M/1.62M [00:00<00:00, 2.26MB/s]\n"
     ]
    },
    {
     "name": "stdout",
     "output_type": "stream",
     "text": [
      "Downloading: https://www.ncei.noaa.gov/data/sea-surface-temperature-optimum-interpolation/v2.1/access/avhrr/199201/oisst-avhrr-v02r01.19920107.nc\n"
     ]
    },
    {
     "name": "stderr",
     "output_type": "stream",
     "text": [
      "oisst-avhrr-v02r01.19920107.nc: 100%|██████████| 1.62M/1.62M [00:00<00:00, 2.14MB/s]\n"
     ]
    },
    {
     "name": "stdout",
     "output_type": "stream",
     "text": [
      "Downloading: https://www.ncei.noaa.gov/data/sea-surface-temperature-optimum-interpolation/v2.1/access/avhrr/199201/oisst-avhrr-v02r01.19920108.nc\n"
     ]
    },
    {
     "name": "stderr",
     "output_type": "stream",
     "text": [
      "oisst-avhrr-v02r01.19920108.nc: 100%|██████████| 1.62M/1.62M [00:00<00:00, 2.16MB/s]\n"
     ]
    },
    {
     "name": "stdout",
     "output_type": "stream",
     "text": [
      "Downloading: https://www.ncei.noaa.gov/data/sea-surface-temperature-optimum-interpolation/v2.1/access/avhrr/199201/oisst-avhrr-v02r01.19920109.nc\n"
     ]
    },
    {
     "name": "stderr",
     "output_type": "stream",
     "text": [
      "oisst-avhrr-v02r01.19920109.nc: 100%|██████████| 1.62M/1.62M [00:01<00:00, 1.14MB/s]\n"
     ]
    },
    {
     "name": "stdout",
     "output_type": "stream",
     "text": [
      "Downloading: https://www.ncei.noaa.gov/data/sea-surface-temperature-optimum-interpolation/v2.1/access/avhrr/199201/oisst-avhrr-v02r01.19920110.nc\n"
     ]
    },
    {
     "name": "stderr",
     "output_type": "stream",
     "text": [
      "oisst-avhrr-v02r01.19920110.nc: 100%|██████████| 1.62M/1.62M [00:00<00:00, 2.24MB/s]\n"
     ]
    },
    {
     "name": "stdout",
     "output_type": "stream",
     "text": [
      "Downloading: https://www.ncei.noaa.gov/data/sea-surface-temperature-optimum-interpolation/v2.1/access/avhrr/199201/oisst-avhrr-v02r01.19920111.nc\n"
     ]
    },
    {
     "name": "stderr",
     "output_type": "stream",
     "text": [
      "oisst-avhrr-v02r01.19920111.nc: 100%|██████████| 1.61M/1.61M [00:00<00:00, 2.17MB/s]\n"
     ]
    },
    {
     "name": "stdout",
     "output_type": "stream",
     "text": [
      "Downloading: https://www.ncei.noaa.gov/data/sea-surface-temperature-optimum-interpolation/v2.1/access/avhrr/199201/oisst-avhrr-v02r01.19920112.nc\n"
     ]
    },
    {
     "name": "stderr",
     "output_type": "stream",
     "text": [
      "oisst-avhrr-v02r01.19920112.nc: 100%|██████████| 1.61M/1.61M [00:00<00:00, 2.17MB/s]\n"
     ]
    },
    {
     "name": "stdout",
     "output_type": "stream",
     "text": [
      "Downloading: https://www.ncei.noaa.gov/data/sea-surface-temperature-optimum-interpolation/v2.1/access/avhrr/199201/oisst-avhrr-v02r01.19920113.nc\n"
     ]
    },
    {
     "name": "stderr",
     "output_type": "stream",
     "text": [
      "oisst-avhrr-v02r01.19920113.nc: 100%|██████████| 1.62M/1.62M [00:00<00:00, 2.21MB/s]\n"
     ]
    },
    {
     "name": "stdout",
     "output_type": "stream",
     "text": [
      "Downloading: https://www.ncei.noaa.gov/data/sea-surface-temperature-optimum-interpolation/v2.1/access/avhrr/199201/oisst-avhrr-v02r01.19920114.nc\n"
     ]
    },
    {
     "name": "stderr",
     "output_type": "stream",
     "text": [
      "oisst-avhrr-v02r01.19920114.nc: 100%|██████████| 1.62M/1.62M [00:00<00:00, 2.19MB/s]\n"
     ]
    },
    {
     "name": "stdout",
     "output_type": "stream",
     "text": [
      "Downloading: https://www.ncei.noaa.gov/data/sea-surface-temperature-optimum-interpolation/v2.1/access/avhrr/199201/oisst-avhrr-v02r01.19920115.nc\n"
     ]
    },
    {
     "name": "stderr",
     "output_type": "stream",
     "text": [
      "oisst-avhrr-v02r01.19920115.nc: 100%|██████████| 1.62M/1.62M [00:00<00:00, 2.17MB/s]\n"
     ]
    },
    {
     "name": "stdout",
     "output_type": "stream",
     "text": [
      "Downloading: https://www.ncei.noaa.gov/data/sea-surface-temperature-optimum-interpolation/v2.1/access/avhrr/199201/oisst-avhrr-v02r01.19920116.nc\n"
     ]
    },
    {
     "name": "stderr",
     "output_type": "stream",
     "text": [
      "oisst-avhrr-v02r01.19920116.nc: 100%|██████████| 1.62M/1.62M [00:00<00:00, 2.20MB/s]\n"
     ]
    },
    {
     "name": "stdout",
     "output_type": "stream",
     "text": [
      "Downloading: https://www.ncei.noaa.gov/data/sea-surface-temperature-optimum-interpolation/v2.1/access/avhrr/199201/oisst-avhrr-v02r01.19920117.nc\n"
     ]
    },
    {
     "name": "stderr",
     "output_type": "stream",
     "text": [
      "oisst-avhrr-v02r01.19920117.nc: 100%|██████████| 1.63M/1.63M [00:00<00:00, 1.90MB/s]\n"
     ]
    },
    {
     "name": "stdout",
     "output_type": "stream",
     "text": [
      "Downloading: https://www.ncei.noaa.gov/data/sea-surface-temperature-optimum-interpolation/v2.1/access/avhrr/199201/oisst-avhrr-v02r01.19920118.nc\n"
     ]
    },
    {
     "name": "stderr",
     "output_type": "stream",
     "text": [
      "oisst-avhrr-v02r01.19920118.nc: 100%|██████████| 1.62M/1.62M [00:00<00:00, 2.18MB/s]\n"
     ]
    },
    {
     "name": "stdout",
     "output_type": "stream",
     "text": [
      "Downloading: https://www.ncei.noaa.gov/data/sea-surface-temperature-optimum-interpolation/v2.1/access/avhrr/199201/oisst-avhrr-v02r01.19920119.nc\n"
     ]
    },
    {
     "name": "stderr",
     "output_type": "stream",
     "text": [
      "oisst-avhrr-v02r01.19920119.nc: 100%|██████████| 1.62M/1.62M [00:00<00:00, 2.26MB/s]\n"
     ]
    },
    {
     "name": "stdout",
     "output_type": "stream",
     "text": [
      "Downloading: https://www.ncei.noaa.gov/data/sea-surface-temperature-optimum-interpolation/v2.1/access/avhrr/199201/oisst-avhrr-v02r01.19920120.nc\n"
     ]
    },
    {
     "name": "stderr",
     "output_type": "stream",
     "text": [
      "oisst-avhrr-v02r01.19920120.nc: 100%|██████████| 1.62M/1.62M [00:01<00:00, 921kB/s] \n"
     ]
    },
    {
     "name": "stdout",
     "output_type": "stream",
     "text": [
      "Downloading: https://www.ncei.noaa.gov/data/sea-surface-temperature-optimum-interpolation/v2.1/access/avhrr/199201/oisst-avhrr-v02r01.19920121.nc\n"
     ]
    },
    {
     "name": "stderr",
     "output_type": "stream",
     "text": [
      "oisst-avhrr-v02r01.19920121.nc: 100%|██████████| 1.62M/1.62M [00:00<00:00, 2.19MB/s]\n"
     ]
    },
    {
     "name": "stdout",
     "output_type": "stream",
     "text": [
      "Downloading: https://www.ncei.noaa.gov/data/sea-surface-temperature-optimum-interpolation/v2.1/access/avhrr/199201/oisst-avhrr-v02r01.19920122.nc\n"
     ]
    },
    {
     "name": "stderr",
     "output_type": "stream",
     "text": [
      "oisst-avhrr-v02r01.19920122.nc: 100%|██████████| 1.62M/1.62M [00:00<00:00, 2.21MB/s]\n"
     ]
    },
    {
     "name": "stdout",
     "output_type": "stream",
     "text": [
      "Downloading: https://www.ncei.noaa.gov/data/sea-surface-temperature-optimum-interpolation/v2.1/access/avhrr/199201/oisst-avhrr-v02r01.19920123.nc\n"
     ]
    },
    {
     "name": "stderr",
     "output_type": "stream",
     "text": [
      "oisst-avhrr-v02r01.19920123.nc: 100%|██████████| 1.62M/1.62M [00:00<00:00, 2.19MB/s]\n"
     ]
    },
    {
     "name": "stdout",
     "output_type": "stream",
     "text": [
      "Downloading: https://www.ncei.noaa.gov/data/sea-surface-temperature-optimum-interpolation/v2.1/access/avhrr/199201/oisst-avhrr-v02r01.19920124.nc\n"
     ]
    },
    {
     "name": "stderr",
     "output_type": "stream",
     "text": [
      "oisst-avhrr-v02r01.19920124.nc: 100%|██████████| 1.62M/1.62M [00:01<00:00, 1.56MB/s]\n"
     ]
    },
    {
     "name": "stdout",
     "output_type": "stream",
     "text": [
      "Downloading: https://www.ncei.noaa.gov/data/sea-surface-temperature-optimum-interpolation/v2.1/access/avhrr/199201/oisst-avhrr-v02r01.19920125.nc\n"
     ]
    },
    {
     "name": "stderr",
     "output_type": "stream",
     "text": [
      "oisst-avhrr-v02r01.19920125.nc: 100%|██████████| 1.62M/1.62M [00:00<00:00, 2.19MB/s]\n"
     ]
    },
    {
     "name": "stdout",
     "output_type": "stream",
     "text": [
      "Downloading: https://www.ncei.noaa.gov/data/sea-surface-temperature-optimum-interpolation/v2.1/access/avhrr/199201/oisst-avhrr-v02r01.19920126.nc\n"
     ]
    },
    {
     "name": "stderr",
     "output_type": "stream",
     "text": [
      "oisst-avhrr-v02r01.19920126.nc: 100%|██████████| 1.62M/1.62M [00:00<00:00, 2.16MB/s]\n"
     ]
    },
    {
     "name": "stdout",
     "output_type": "stream",
     "text": [
      "Downloading: https://www.ncei.noaa.gov/data/sea-surface-temperature-optimum-interpolation/v2.1/access/avhrr/199201/oisst-avhrr-v02r01.19920127.nc\n"
     ]
    },
    {
     "name": "stderr",
     "output_type": "stream",
     "text": [
      "oisst-avhrr-v02r01.19920127.nc: 100%|██████████| 1.61M/1.61M [00:00<00:00, 2.12MB/s]\n"
     ]
    },
    {
     "name": "stdout",
     "output_type": "stream",
     "text": [
      "Downloading: https://www.ncei.noaa.gov/data/sea-surface-temperature-optimum-interpolation/v2.1/access/avhrr/199201/oisst-avhrr-v02r01.19920128.nc\n"
     ]
    },
    {
     "name": "stderr",
     "output_type": "stream",
     "text": [
      "oisst-avhrr-v02r01.19920128.nc: 100%|██████████| 1.61M/1.61M [00:00<00:00, 2.15MB/s]\n"
     ]
    },
    {
     "name": "stdout",
     "output_type": "stream",
     "text": [
      "Downloading: https://www.ncei.noaa.gov/data/sea-surface-temperature-optimum-interpolation/v2.1/access/avhrr/199201/oisst-avhrr-v02r01.19920129.nc\n"
     ]
    },
    {
     "name": "stderr",
     "output_type": "stream",
     "text": [
      "oisst-avhrr-v02r01.19920129.nc: 100%|██████████| 1.61M/1.61M [00:00<00:00, 2.16MB/s]\n"
     ]
    },
    {
     "name": "stdout",
     "output_type": "stream",
     "text": [
      "Downloading: https://www.ncei.noaa.gov/data/sea-surface-temperature-optimum-interpolation/v2.1/access/avhrr/199201/oisst-avhrr-v02r01.19920130.nc\n"
     ]
    },
    {
     "name": "stderr",
     "output_type": "stream",
     "text": [
      "oisst-avhrr-v02r01.19920130.nc: 100%|██████████| 1.61M/1.61M [00:00<00:00, 2.13MB/s]\n"
     ]
    },
    {
     "name": "stdout",
     "output_type": "stream",
     "text": [
      "Downloading: https://www.ncei.noaa.gov/data/sea-surface-temperature-optimum-interpolation/v2.1/access/avhrr/199201/oisst-avhrr-v02r01.19920131.nc\n"
     ]
    },
    {
     "name": "stderr",
     "output_type": "stream",
     "text": [
      "oisst-avhrr-v02r01.19920131.nc: 100%|██████████| 1.61M/1.61M [00:00<00:00, 2.16MB/s]\n"
     ]
    },
    {
     "name": "stdout",
     "output_type": "stream",
     "text": [
      "Processing: https://www.ncei.noaa.gov/data/sea-surface-temperature-optimum-interpolation/v2.1/access/avhrr/199202/\n",
      "Downloading: https://www.ncei.noaa.gov/data/sea-surface-temperature-optimum-interpolation/v2.1/access/avhrr/199202/oisst-avhrr-v02r01.19920201.nc\n"
     ]
    },
    {
     "name": "stderr",
     "output_type": "stream",
     "text": [
      "oisst-avhrr-v02r01.19920201.nc: 100%|██████████| 1.60M/1.60M [00:00<00:00, 2.16MB/s]\n"
     ]
    },
    {
     "name": "stdout",
     "output_type": "stream",
     "text": [
      "Downloading: https://www.ncei.noaa.gov/data/sea-surface-temperature-optimum-interpolation/v2.1/access/avhrr/199202/oisst-avhrr-v02r01.19920202.nc\n"
     ]
    },
    {
     "name": "stderr",
     "output_type": "stream",
     "text": [
      "oisst-avhrr-v02r01.19920202.nc: 100%|██████████| 1.60M/1.60M [00:00<00:00, 2.19MB/s]\n"
     ]
    },
    {
     "name": "stdout",
     "output_type": "stream",
     "text": [
      "Downloading: https://www.ncei.noaa.gov/data/sea-surface-temperature-optimum-interpolation/v2.1/access/avhrr/199202/oisst-avhrr-v02r01.19920203.nc\n"
     ]
    },
    {
     "name": "stderr",
     "output_type": "stream",
     "text": [
      "oisst-avhrr-v02r01.19920203.nc: 100%|██████████| 1.60M/1.60M [00:00<00:00, 2.22MB/s]\n"
     ]
    },
    {
     "name": "stdout",
     "output_type": "stream",
     "text": [
      "Downloading: https://www.ncei.noaa.gov/data/sea-surface-temperature-optimum-interpolation/v2.1/access/avhrr/199202/oisst-avhrr-v02r01.19920204.nc\n"
     ]
    },
    {
     "name": "stderr",
     "output_type": "stream",
     "text": [
      "oisst-avhrr-v02r01.19920204.nc: 100%|██████████| 1.60M/1.60M [00:00<00:00, 2.19MB/s]\n"
     ]
    },
    {
     "name": "stdout",
     "output_type": "stream",
     "text": [
      "Downloading: https://www.ncei.noaa.gov/data/sea-surface-temperature-optimum-interpolation/v2.1/access/avhrr/199202/oisst-avhrr-v02r01.19920205.nc\n"
     ]
    },
    {
     "name": "stderr",
     "output_type": "stream",
     "text": [
      "oisst-avhrr-v02r01.19920205.nc: 100%|██████████| 1.60M/1.60M [00:01<00:00, 1.55MB/s]\n"
     ]
    },
    {
     "name": "stdout",
     "output_type": "stream",
     "text": [
      "Downloading: https://www.ncei.noaa.gov/data/sea-surface-temperature-optimum-interpolation/v2.1/access/avhrr/199202/oisst-avhrr-v02r01.19920206.nc\n"
     ]
    },
    {
     "name": "stderr",
     "output_type": "stream",
     "text": [
      "oisst-avhrr-v02r01.19920206.nc: 100%|██████████| 1.60M/1.60M [00:00<00:00, 2.01MB/s]\n"
     ]
    },
    {
     "name": "stdout",
     "output_type": "stream",
     "text": [
      "Downloading: https://www.ncei.noaa.gov/data/sea-surface-temperature-optimum-interpolation/v2.1/access/avhrr/199202/oisst-avhrr-v02r01.19920207.nc\n"
     ]
    },
    {
     "name": "stderr",
     "output_type": "stream",
     "text": [
      "oisst-avhrr-v02r01.19920207.nc: 100%|██████████| 1.60M/1.60M [00:00<00:00, 2.16MB/s]\n"
     ]
    },
    {
     "name": "stdout",
     "output_type": "stream",
     "text": [
      "Downloading: https://www.ncei.noaa.gov/data/sea-surface-temperature-optimum-interpolation/v2.1/access/avhrr/199202/oisst-avhrr-v02r01.19920208.nc\n"
     ]
    },
    {
     "name": "stderr",
     "output_type": "stream",
     "text": [
      "oisst-avhrr-v02r01.19920208.nc: 100%|██████████| 1.60M/1.60M [00:00<00:00, 1.91MB/s]\n"
     ]
    },
    {
     "name": "stdout",
     "output_type": "stream",
     "text": [
      "Downloading: https://www.ncei.noaa.gov/data/sea-surface-temperature-optimum-interpolation/v2.1/access/avhrr/199202/oisst-avhrr-v02r01.19920209.nc\n"
     ]
    },
    {
     "name": "stderr",
     "output_type": "stream",
     "text": [
      "oisst-avhrr-v02r01.19920209.nc: 100%|██████████| 1.60M/1.60M [00:00<00:00, 2.22MB/s]\n"
     ]
    },
    {
     "name": "stdout",
     "output_type": "stream",
     "text": [
      "Downloading: https://www.ncei.noaa.gov/data/sea-surface-temperature-optimum-interpolation/v2.1/access/avhrr/199202/oisst-avhrr-v02r01.19920210.nc\n"
     ]
    },
    {
     "name": "stderr",
     "output_type": "stream",
     "text": [
      "oisst-avhrr-v02r01.19920210.nc: 100%|██████████| 1.60M/1.60M [00:00<00:00, 2.22MB/s]\n"
     ]
    },
    {
     "name": "stdout",
     "output_type": "stream",
     "text": [
      "Downloading: https://www.ncei.noaa.gov/data/sea-surface-temperature-optimum-interpolation/v2.1/access/avhrr/199202/oisst-avhrr-v02r01.19920211.nc\n"
     ]
    },
    {
     "name": "stderr",
     "output_type": "stream",
     "text": [
      "oisst-avhrr-v02r01.19920211.nc: 100%|██████████| 1.60M/1.60M [00:00<00:00, 2.21MB/s]\n"
     ]
    },
    {
     "name": "stdout",
     "output_type": "stream",
     "text": [
      "Downloading: https://www.ncei.noaa.gov/data/sea-surface-temperature-optimum-interpolation/v2.1/access/avhrr/199202/oisst-avhrr-v02r01.19920212.nc\n"
     ]
    },
    {
     "name": "stderr",
     "output_type": "stream",
     "text": [
      "oisst-avhrr-v02r01.19920212.nc: 100%|██████████| 1.60M/1.60M [00:00<00:00, 2.18MB/s]\n"
     ]
    },
    {
     "name": "stdout",
     "output_type": "stream",
     "text": [
      "Downloading: https://www.ncei.noaa.gov/data/sea-surface-temperature-optimum-interpolation/v2.1/access/avhrr/199202/oisst-avhrr-v02r01.19920213.nc\n"
     ]
    },
    {
     "name": "stderr",
     "output_type": "stream",
     "text": [
      "oisst-avhrr-v02r01.19920213.nc: 100%|██████████| 1.60M/1.60M [00:02<00:00, 601kB/s]\n"
     ]
    },
    {
     "name": "stdout",
     "output_type": "stream",
     "text": [
      "Downloading: https://www.ncei.noaa.gov/data/sea-surface-temperature-optimum-interpolation/v2.1/access/avhrr/199202/oisst-avhrr-v02r01.19920214.nc\n"
     ]
    },
    {
     "name": "stderr",
     "output_type": "stream",
     "text": [
      "oisst-avhrr-v02r01.19920214.nc: 100%|██████████| 1.60M/1.60M [00:00<00:00, 2.21MB/s]\n"
     ]
    },
    {
     "name": "stdout",
     "output_type": "stream",
     "text": [
      "Downloading: https://www.ncei.noaa.gov/data/sea-surface-temperature-optimum-interpolation/v2.1/access/avhrr/199202/oisst-avhrr-v02r01.19920215.nc\n"
     ]
    },
    {
     "name": "stderr",
     "output_type": "stream",
     "text": [
      "oisst-avhrr-v02r01.19920215.nc: 100%|██████████| 1.60M/1.60M [00:00<00:00, 2.14MB/s]\n"
     ]
    },
    {
     "name": "stdout",
     "output_type": "stream",
     "text": [
      "Downloading: https://www.ncei.noaa.gov/data/sea-surface-temperature-optimum-interpolation/v2.1/access/avhrr/199202/oisst-avhrr-v02r01.19920216.nc\n"
     ]
    },
    {
     "name": "stderr",
     "output_type": "stream",
     "text": [
      "oisst-avhrr-v02r01.19920216.nc: 100%|██████████| 1.60M/1.60M [00:00<00:00, 2.14MB/s]\n"
     ]
    },
    {
     "name": "stdout",
     "output_type": "stream",
     "text": [
      "Downloading: https://www.ncei.noaa.gov/data/sea-surface-temperature-optimum-interpolation/v2.1/access/avhrr/199202/oisst-avhrr-v02r01.19920217.nc\n"
     ]
    },
    {
     "name": "stderr",
     "output_type": "stream",
     "text": [
      "oisst-avhrr-v02r01.19920217.nc: 100%|██████████| 1.60M/1.60M [00:00<00:00, 2.17MB/s]\n"
     ]
    },
    {
     "name": "stdout",
     "output_type": "stream",
     "text": [
      "Downloading: https://www.ncei.noaa.gov/data/sea-surface-temperature-optimum-interpolation/v2.1/access/avhrr/199202/oisst-avhrr-v02r01.19920218.nc\n"
     ]
    },
    {
     "name": "stderr",
     "output_type": "stream",
     "text": [
      "oisst-avhrr-v02r01.19920218.nc: 100%|██████████| 1.60M/1.60M [00:00<00:00, 2.14MB/s]\n"
     ]
    },
    {
     "name": "stdout",
     "output_type": "stream",
     "text": [
      "Downloading: https://www.ncei.noaa.gov/data/sea-surface-temperature-optimum-interpolation/v2.1/access/avhrr/199202/oisst-avhrr-v02r01.19920219.nc\n"
     ]
    },
    {
     "name": "stderr",
     "output_type": "stream",
     "text": [
      "oisst-avhrr-v02r01.19920219.nc: 100%|██████████| 1.60M/1.60M [00:00<00:00, 2.19MB/s]\n"
     ]
    },
    {
     "name": "stdout",
     "output_type": "stream",
     "text": [
      "Downloading: https://www.ncei.noaa.gov/data/sea-surface-temperature-optimum-interpolation/v2.1/access/avhrr/199202/oisst-avhrr-v02r01.19920220.nc\n"
     ]
    },
    {
     "name": "stderr",
     "output_type": "stream",
     "text": [
      "oisst-avhrr-v02r01.19920220.nc: 100%|██████████| 1.59M/1.59M [00:05<00:00, 279kB/s]\n"
     ]
    },
    {
     "name": "stdout",
     "output_type": "stream",
     "text": [
      "Downloading: https://www.ncei.noaa.gov/data/sea-surface-temperature-optimum-interpolation/v2.1/access/avhrr/199202/oisst-avhrr-v02r01.19920221.nc\n"
     ]
    },
    {
     "name": "stderr",
     "output_type": "stream",
     "text": [
      "oisst-avhrr-v02r01.19920221.nc: 100%|██████████| 1.59M/1.59M [00:00<00:00, 1.71MB/s]\n"
     ]
    },
    {
     "name": "stdout",
     "output_type": "stream",
     "text": [
      "Downloading: https://www.ncei.noaa.gov/data/sea-surface-temperature-optimum-interpolation/v2.1/access/avhrr/199202/oisst-avhrr-v02r01.19920222.nc\n"
     ]
    },
    {
     "name": "stderr",
     "output_type": "stream",
     "text": [
      "oisst-avhrr-v02r01.19920222.nc: 100%|██████████| 1.59M/1.59M [00:00<00:00, 2.22MB/s]\n"
     ]
    },
    {
     "name": "stdout",
     "output_type": "stream",
     "text": [
      "Downloading: https://www.ncei.noaa.gov/data/sea-surface-temperature-optimum-interpolation/v2.1/access/avhrr/199202/oisst-avhrr-v02r01.19920223.nc\n"
     ]
    },
    {
     "name": "stderr",
     "output_type": "stream",
     "text": [
      "oisst-avhrr-v02r01.19920223.nc: 100%|██████████| 1.59M/1.59M [00:00<00:00, 2.13MB/s]\n"
     ]
    },
    {
     "name": "stdout",
     "output_type": "stream",
     "text": [
      "Downloading: https://www.ncei.noaa.gov/data/sea-surface-temperature-optimum-interpolation/v2.1/access/avhrr/199202/oisst-avhrr-v02r01.19920224.nc\n"
     ]
    },
    {
     "name": "stderr",
     "output_type": "stream",
     "text": [
      "oisst-avhrr-v02r01.19920224.nc: 100%|██████████| 1.59M/1.59M [00:00<00:00, 2.21MB/s]\n"
     ]
    },
    {
     "name": "stdout",
     "output_type": "stream",
     "text": [
      "Downloading: https://www.ncei.noaa.gov/data/sea-surface-temperature-optimum-interpolation/v2.1/access/avhrr/199202/oisst-avhrr-v02r01.19920225.nc\n"
     ]
    },
    {
     "name": "stderr",
     "output_type": "stream",
     "text": [
      "oisst-avhrr-v02r01.19920225.nc: 100%|██████████| 1.59M/1.59M [00:00<00:00, 2.18MB/s]\n"
     ]
    },
    {
     "name": "stdout",
     "output_type": "stream",
     "text": [
      "Downloading: https://www.ncei.noaa.gov/data/sea-surface-temperature-optimum-interpolation/v2.1/access/avhrr/199202/oisst-avhrr-v02r01.19920226.nc\n"
     ]
    },
    {
     "name": "stderr",
     "output_type": "stream",
     "text": [
      "oisst-avhrr-v02r01.19920226.nc: 100%|██████████| 1.59M/1.59M [00:00<00:00, 2.18MB/s]\n"
     ]
    },
    {
     "name": "stdout",
     "output_type": "stream",
     "text": [
      "Downloading: https://www.ncei.noaa.gov/data/sea-surface-temperature-optimum-interpolation/v2.1/access/avhrr/199202/oisst-avhrr-v02r01.19920227.nc\n"
     ]
    },
    {
     "name": "stderr",
     "output_type": "stream",
     "text": [
      "oisst-avhrr-v02r01.19920227.nc: 100%|██████████| 1.59M/1.59M [00:00<00:00, 2.15MB/s]\n"
     ]
    },
    {
     "name": "stdout",
     "output_type": "stream",
     "text": [
      "Downloading: https://www.ncei.noaa.gov/data/sea-surface-temperature-optimum-interpolation/v2.1/access/avhrr/199202/oisst-avhrr-v02r01.19920228.nc\n"
     ]
    },
    {
     "name": "stderr",
     "output_type": "stream",
     "text": [
      "oisst-avhrr-v02r01.19920228.nc: 100%|██████████| 1.59M/1.59M [00:00<00:00, 2.17MB/s]\n"
     ]
    },
    {
     "name": "stdout",
     "output_type": "stream",
     "text": [
      "Downloading: https://www.ncei.noaa.gov/data/sea-surface-temperature-optimum-interpolation/v2.1/access/avhrr/199202/oisst-avhrr-v02r01.19920229.nc\n"
     ]
    },
    {
     "name": "stderr",
     "output_type": "stream",
     "text": [
      "oisst-avhrr-v02r01.19920229.nc: 100%|██████████| 1.59M/1.59M [00:00<00:00, 2.16MB/s]\n"
     ]
    },
    {
     "name": "stdout",
     "output_type": "stream",
     "text": [
      "Processing: https://www.ncei.noaa.gov/data/sea-surface-temperature-optimum-interpolation/v2.1/access/avhrr/199203/\n",
      "Downloading: https://www.ncei.noaa.gov/data/sea-surface-temperature-optimum-interpolation/v2.1/access/avhrr/199203/oisst-avhrr-v02r01.19920301.nc\n"
     ]
    },
    {
     "name": "stderr",
     "output_type": "stream",
     "text": [
      "oisst-avhrr-v02r01.19920301.nc: 100%|██████████| 1.60M/1.60M [00:00<00:00, 1.88MB/s]\n"
     ]
    },
    {
     "name": "stdout",
     "output_type": "stream",
     "text": [
      "Downloading: https://www.ncei.noaa.gov/data/sea-surface-temperature-optimum-interpolation/v2.1/access/avhrr/199203/oisst-avhrr-v02r01.19920302.nc\n"
     ]
    },
    {
     "name": "stderr",
     "output_type": "stream",
     "text": [
      "oisst-avhrr-v02r01.19920302.nc: 100%|██████████| 1.60M/1.60M [00:00<00:00, 2.19MB/s]\n"
     ]
    },
    {
     "name": "stdout",
     "output_type": "stream",
     "text": [
      "Downloading: https://www.ncei.noaa.gov/data/sea-surface-temperature-optimum-interpolation/v2.1/access/avhrr/199203/oisst-avhrr-v02r01.19920303.nc\n"
     ]
    },
    {
     "name": "stderr",
     "output_type": "stream",
     "text": [
      "oisst-avhrr-v02r01.19920303.nc: 100%|██████████| 1.60M/1.60M [00:00<00:00, 2.19MB/s]\n"
     ]
    },
    {
     "name": "stdout",
     "output_type": "stream",
     "text": [
      "Downloading: https://www.ncei.noaa.gov/data/sea-surface-temperature-optimum-interpolation/v2.1/access/avhrr/199203/oisst-avhrr-v02r01.19920304.nc\n"
     ]
    },
    {
     "name": "stderr",
     "output_type": "stream",
     "text": [
      "oisst-avhrr-v02r01.19920304.nc: 100%|██████████| 1.60M/1.60M [00:00<00:00, 2.15MB/s]\n"
     ]
    },
    {
     "name": "stdout",
     "output_type": "stream",
     "text": [
      "Downloading: https://www.ncei.noaa.gov/data/sea-surface-temperature-optimum-interpolation/v2.1/access/avhrr/199203/oisst-avhrr-v02r01.19920305.nc\n"
     ]
    },
    {
     "name": "stderr",
     "output_type": "stream",
     "text": [
      "oisst-avhrr-v02r01.19920305.nc: 100%|██████████| 1.60M/1.60M [00:00<00:00, 2.22MB/s]\n"
     ]
    },
    {
     "name": "stdout",
     "output_type": "stream",
     "text": [
      "Downloading: https://www.ncei.noaa.gov/data/sea-surface-temperature-optimum-interpolation/v2.1/access/avhrr/199203/oisst-avhrr-v02r01.19920306.nc\n"
     ]
    },
    {
     "name": "stderr",
     "output_type": "stream",
     "text": [
      "oisst-avhrr-v02r01.19920306.nc: 100%|██████████| 1.60M/1.60M [00:00<00:00, 2.16MB/s]\n"
     ]
    },
    {
     "name": "stdout",
     "output_type": "stream",
     "text": [
      "Downloading: https://www.ncei.noaa.gov/data/sea-surface-temperature-optimum-interpolation/v2.1/access/avhrr/199203/oisst-avhrr-v02r01.19920307.nc\n"
     ]
    },
    {
     "name": "stderr",
     "output_type": "stream",
     "text": [
      "oisst-avhrr-v02r01.19920307.nc: 100%|██████████| 1.60M/1.60M [00:00<00:00, 2.15MB/s]\n"
     ]
    },
    {
     "name": "stdout",
     "output_type": "stream",
     "text": [
      "Downloading: https://www.ncei.noaa.gov/data/sea-surface-temperature-optimum-interpolation/v2.1/access/avhrr/199203/oisst-avhrr-v02r01.19920308.nc\n"
     ]
    },
    {
     "name": "stderr",
     "output_type": "stream",
     "text": [
      "oisst-avhrr-v02r01.19920308.nc: 100%|██████████| 1.60M/1.60M [00:00<00:00, 2.15MB/s]\n"
     ]
    },
    {
     "name": "stdout",
     "output_type": "stream",
     "text": [
      "Downloading: https://www.ncei.noaa.gov/data/sea-surface-temperature-optimum-interpolation/v2.1/access/avhrr/199203/oisst-avhrr-v02r01.19920309.nc\n"
     ]
    },
    {
     "name": "stderr",
     "output_type": "stream",
     "text": [
      "oisst-avhrr-v02r01.19920309.nc: 100%|██████████| 1.60M/1.60M [00:00<00:00, 2.17MB/s]\n"
     ]
    },
    {
     "name": "stdout",
     "output_type": "stream",
     "text": [
      "Downloading: https://www.ncei.noaa.gov/data/sea-surface-temperature-optimum-interpolation/v2.1/access/avhrr/199203/oisst-avhrr-v02r01.19920310.nc\n"
     ]
    },
    {
     "name": "stderr",
     "output_type": "stream",
     "text": [
      "oisst-avhrr-v02r01.19920310.nc: 100%|██████████| 1.60M/1.60M [00:00<00:00, 2.11MB/s]\n"
     ]
    },
    {
     "name": "stdout",
     "output_type": "stream",
     "text": [
      "Downloading: https://www.ncei.noaa.gov/data/sea-surface-temperature-optimum-interpolation/v2.1/access/avhrr/199203/oisst-avhrr-v02r01.19920311.nc\n"
     ]
    },
    {
     "name": "stderr",
     "output_type": "stream",
     "text": [
      "oisst-avhrr-v02r01.19920311.nc: 100%|██████████| 1.60M/1.60M [00:00<00:00, 2.16MB/s]\n"
     ]
    },
    {
     "name": "stdout",
     "output_type": "stream",
     "text": [
      "Downloading: https://www.ncei.noaa.gov/data/sea-surface-temperature-optimum-interpolation/v2.1/access/avhrr/199203/oisst-avhrr-v02r01.19920312.nc\n"
     ]
    },
    {
     "name": "stderr",
     "output_type": "stream",
     "text": [
      "oisst-avhrr-v02r01.19920312.nc: 100%|██████████| 1.60M/1.60M [00:00<00:00, 2.15MB/s]\n"
     ]
    },
    {
     "name": "stdout",
     "output_type": "stream",
     "text": [
      "Downloading: https://www.ncei.noaa.gov/data/sea-surface-temperature-optimum-interpolation/v2.1/access/avhrr/199203/oisst-avhrr-v02r01.19920313.nc\n"
     ]
    },
    {
     "name": "stderr",
     "output_type": "stream",
     "text": [
      "oisst-avhrr-v02r01.19920313.nc: 100%|██████████| 1.60M/1.60M [00:00<00:00, 2.19MB/s]\n"
     ]
    },
    {
     "name": "stdout",
     "output_type": "stream",
     "text": [
      "Downloading: https://www.ncei.noaa.gov/data/sea-surface-temperature-optimum-interpolation/v2.1/access/avhrr/199203/oisst-avhrr-v02r01.19920314.nc\n"
     ]
    },
    {
     "name": "stderr",
     "output_type": "stream",
     "text": [
      "oisst-avhrr-v02r01.19920314.nc: 100%|██████████| 1.60M/1.60M [00:00<00:00, 2.17MB/s]\n"
     ]
    },
    {
     "name": "stdout",
     "output_type": "stream",
     "text": [
      "Downloading: https://www.ncei.noaa.gov/data/sea-surface-temperature-optimum-interpolation/v2.1/access/avhrr/199203/oisst-avhrr-v02r01.19920315.nc\n"
     ]
    },
    {
     "name": "stderr",
     "output_type": "stream",
     "text": [
      "oisst-avhrr-v02r01.19920315.nc: 100%|██████████| 1.60M/1.60M [00:00<00:00, 2.21MB/s]\n"
     ]
    },
    {
     "name": "stdout",
     "output_type": "stream",
     "text": [
      "Downloading: https://www.ncei.noaa.gov/data/sea-surface-temperature-optimum-interpolation/v2.1/access/avhrr/199203/oisst-avhrr-v02r01.19920316.nc\n"
     ]
    },
    {
     "name": "stderr",
     "output_type": "stream",
     "text": [
      "oisst-avhrr-v02r01.19920316.nc: 100%|██████████| 1.60M/1.60M [00:00<00:00, 2.15MB/s]\n"
     ]
    },
    {
     "name": "stdout",
     "output_type": "stream",
     "text": [
      "Downloading: https://www.ncei.noaa.gov/data/sea-surface-temperature-optimum-interpolation/v2.1/access/avhrr/199203/oisst-avhrr-v02r01.19920317.nc\n"
     ]
    },
    {
     "name": "stderr",
     "output_type": "stream",
     "text": [
      "oisst-avhrr-v02r01.19920317.nc: 100%|██████████| 1.59M/1.59M [00:00<00:00, 2.16MB/s]\n"
     ]
    },
    {
     "name": "stdout",
     "output_type": "stream",
     "text": [
      "Downloading: https://www.ncei.noaa.gov/data/sea-surface-temperature-optimum-interpolation/v2.1/access/avhrr/199203/oisst-avhrr-v02r01.19920318.nc\n"
     ]
    },
    {
     "name": "stderr",
     "output_type": "stream",
     "text": [
      "oisst-avhrr-v02r01.19920318.nc: 100%|██████████| 1.59M/1.59M [00:00<00:00, 2.21MB/s]\n"
     ]
    },
    {
     "name": "stdout",
     "output_type": "stream",
     "text": [
      "Downloading: https://www.ncei.noaa.gov/data/sea-surface-temperature-optimum-interpolation/v2.1/access/avhrr/199203/oisst-avhrr-v02r01.19920319.nc\n"
     ]
    },
    {
     "name": "stderr",
     "output_type": "stream",
     "text": [
      "oisst-avhrr-v02r01.19920319.nc: 100%|██████████| 1.59M/1.59M [00:00<00:00, 2.20MB/s]\n"
     ]
    },
    {
     "name": "stdout",
     "output_type": "stream",
     "text": [
      "Downloading: https://www.ncei.noaa.gov/data/sea-surface-temperature-optimum-interpolation/v2.1/access/avhrr/199203/oisst-avhrr-v02r01.19920320.nc\n"
     ]
    },
    {
     "name": "stderr",
     "output_type": "stream",
     "text": [
      "oisst-avhrr-v02r01.19920320.nc: 100%|██████████| 1.59M/1.59M [00:00<00:00, 2.16MB/s]\n"
     ]
    },
    {
     "name": "stdout",
     "output_type": "stream",
     "text": [
      "Downloading: https://www.ncei.noaa.gov/data/sea-surface-temperature-optimum-interpolation/v2.1/access/avhrr/199203/oisst-avhrr-v02r01.19920321.nc\n"
     ]
    },
    {
     "name": "stderr",
     "output_type": "stream",
     "text": [
      "oisst-avhrr-v02r01.19920321.nc: 100%|██████████| 1.59M/1.59M [00:00<00:00, 2.15MB/s]\n"
     ]
    },
    {
     "name": "stdout",
     "output_type": "stream",
     "text": [
      "Downloading: https://www.ncei.noaa.gov/data/sea-surface-temperature-optimum-interpolation/v2.1/access/avhrr/199203/oisst-avhrr-v02r01.19920322.nc\n"
     ]
    },
    {
     "name": "stderr",
     "output_type": "stream",
     "text": [
      "oisst-avhrr-v02r01.19920322.nc: 100%|██████████| 1.59M/1.59M [00:00<00:00, 2.14MB/s]\n"
     ]
    },
    {
     "name": "stdout",
     "output_type": "stream",
     "text": [
      "Downloading: https://www.ncei.noaa.gov/data/sea-surface-temperature-optimum-interpolation/v2.1/access/avhrr/199203/oisst-avhrr-v02r01.19920323.nc\n"
     ]
    },
    {
     "name": "stderr",
     "output_type": "stream",
     "text": [
      "oisst-avhrr-v02r01.19920323.nc: 100%|██████████| 1.59M/1.59M [00:00<00:00, 2.15MB/s]\n"
     ]
    },
    {
     "name": "stdout",
     "output_type": "stream",
     "text": [
      "Downloading: https://www.ncei.noaa.gov/data/sea-surface-temperature-optimum-interpolation/v2.1/access/avhrr/199203/oisst-avhrr-v02r01.19920324.nc\n"
     ]
    },
    {
     "name": "stderr",
     "output_type": "stream",
     "text": [
      "oisst-avhrr-v02r01.19920324.nc: 100%|██████████| 1.59M/1.59M [00:00<00:00, 2.13MB/s]\n"
     ]
    },
    {
     "name": "stdout",
     "output_type": "stream",
     "text": [
      "Downloading: https://www.ncei.noaa.gov/data/sea-surface-temperature-optimum-interpolation/v2.1/access/avhrr/199203/oisst-avhrr-v02r01.19920325.nc\n"
     ]
    },
    {
     "name": "stderr",
     "output_type": "stream",
     "text": [
      "oisst-avhrr-v02r01.19920325.nc: 100%|██████████| 1.59M/1.59M [00:00<00:00, 2.22MB/s]\n"
     ]
    },
    {
     "name": "stdout",
     "output_type": "stream",
     "text": [
      "Downloading: https://www.ncei.noaa.gov/data/sea-surface-temperature-optimum-interpolation/v2.1/access/avhrr/199203/oisst-avhrr-v02r01.19920326.nc\n"
     ]
    },
    {
     "name": "stderr",
     "output_type": "stream",
     "text": [
      "oisst-avhrr-v02r01.19920326.nc: 100%|██████████| 1.59M/1.59M [00:00<00:00, 2.19MB/s]\n"
     ]
    },
    {
     "name": "stdout",
     "output_type": "stream",
     "text": [
      "Downloading: https://www.ncei.noaa.gov/data/sea-surface-temperature-optimum-interpolation/v2.1/access/avhrr/199203/oisst-avhrr-v02r01.19920327.nc\n"
     ]
    },
    {
     "name": "stderr",
     "output_type": "stream",
     "text": [
      "oisst-avhrr-v02r01.19920327.nc: 100%|██████████| 1.59M/1.59M [00:00<00:00, 2.21MB/s]\n"
     ]
    },
    {
     "name": "stdout",
     "output_type": "stream",
     "text": [
      "Downloading: https://www.ncei.noaa.gov/data/sea-surface-temperature-optimum-interpolation/v2.1/access/avhrr/199203/oisst-avhrr-v02r01.19920328.nc\n"
     ]
    },
    {
     "name": "stderr",
     "output_type": "stream",
     "text": [
      "oisst-avhrr-v02r01.19920328.nc: 100%|██████████| 1.59M/1.59M [00:00<00:00, 2.21MB/s]\n"
     ]
    },
    {
     "name": "stdout",
     "output_type": "stream",
     "text": [
      "Downloading: https://www.ncei.noaa.gov/data/sea-surface-temperature-optimum-interpolation/v2.1/access/avhrr/199203/oisst-avhrr-v02r01.19920329.nc\n"
     ]
    },
    {
     "name": "stderr",
     "output_type": "stream",
     "text": [
      "oisst-avhrr-v02r01.19920329.nc: 100%|██████████| 1.58M/1.58M [00:00<00:00, 2.15MB/s]\n"
     ]
    },
    {
     "name": "stdout",
     "output_type": "stream",
     "text": [
      "Downloading: https://www.ncei.noaa.gov/data/sea-surface-temperature-optimum-interpolation/v2.1/access/avhrr/199203/oisst-avhrr-v02r01.19920330.nc\n"
     ]
    },
    {
     "name": "stderr",
     "output_type": "stream",
     "text": [
      "oisst-avhrr-v02r01.19920330.nc: 100%|██████████| 1.58M/1.58M [00:00<00:00, 2.19MB/s]\n"
     ]
    },
    {
     "name": "stdout",
     "output_type": "stream",
     "text": [
      "Downloading: https://www.ncei.noaa.gov/data/sea-surface-temperature-optimum-interpolation/v2.1/access/avhrr/199203/oisst-avhrr-v02r01.19920331.nc\n"
     ]
    },
    {
     "name": "stderr",
     "output_type": "stream",
     "text": [
      "oisst-avhrr-v02r01.19920331.nc: 100%|██████████| 1.58M/1.58M [00:00<00:00, 2.22MB/s]\n"
     ]
    },
    {
     "name": "stdout",
     "output_type": "stream",
     "text": [
      "Processing: https://www.ncei.noaa.gov/data/sea-surface-temperature-optimum-interpolation/v2.1/access/avhrr/199204/\n",
      "Downloading: https://www.ncei.noaa.gov/data/sea-surface-temperature-optimum-interpolation/v2.1/access/avhrr/199204/oisst-avhrr-v02r01.19920401.nc\n"
     ]
    },
    {
     "name": "stderr",
     "output_type": "stream",
     "text": [
      "oisst-avhrr-v02r01.19920401.nc: 100%|██████████| 1.58M/1.58M [00:00<00:00, 2.22MB/s]\n"
     ]
    },
    {
     "name": "stdout",
     "output_type": "stream",
     "text": [
      "Downloading: https://www.ncei.noaa.gov/data/sea-surface-temperature-optimum-interpolation/v2.1/access/avhrr/199204/oisst-avhrr-v02r01.19920402.nc\n"
     ]
    },
    {
     "name": "stderr",
     "output_type": "stream",
     "text": [
      "oisst-avhrr-v02r01.19920402.nc: 100%|██████████| 1.59M/1.59M [00:02<00:00, 732kB/s]\n"
     ]
    },
    {
     "name": "stdout",
     "output_type": "stream",
     "text": [
      "Downloading: https://www.ncei.noaa.gov/data/sea-surface-temperature-optimum-interpolation/v2.1/access/avhrr/199204/oisst-avhrr-v02r01.19920403.nc\n"
     ]
    },
    {
     "name": "stderr",
     "output_type": "stream",
     "text": [
      "oisst-avhrr-v02r01.19920403.nc: 100%|██████████| 1.59M/1.59M [00:00<00:00, 2.18MB/s]\n"
     ]
    },
    {
     "name": "stdout",
     "output_type": "stream",
     "text": [
      "Downloading: https://www.ncei.noaa.gov/data/sea-surface-temperature-optimum-interpolation/v2.1/access/avhrr/199204/oisst-avhrr-v02r01.19920404.nc\n"
     ]
    },
    {
     "name": "stderr",
     "output_type": "stream",
     "text": [
      "oisst-avhrr-v02r01.19920404.nc: 100%|██████████| 1.59M/1.59M [00:00<00:00, 2.18MB/s]\n"
     ]
    },
    {
     "name": "stdout",
     "output_type": "stream",
     "text": [
      "Downloading: https://www.ncei.noaa.gov/data/sea-surface-temperature-optimum-interpolation/v2.1/access/avhrr/199204/oisst-avhrr-v02r01.19920405.nc\n"
     ]
    },
    {
     "name": "stderr",
     "output_type": "stream",
     "text": [
      "oisst-avhrr-v02r01.19920405.nc: 100%|██████████| 1.59M/1.59M [00:00<00:00, 2.18MB/s]\n"
     ]
    },
    {
     "name": "stdout",
     "output_type": "stream",
     "text": [
      "Downloading: https://www.ncei.noaa.gov/data/sea-surface-temperature-optimum-interpolation/v2.1/access/avhrr/199204/oisst-avhrr-v02r01.19920406.nc\n"
     ]
    },
    {
     "name": "stderr",
     "output_type": "stream",
     "text": [
      "oisst-avhrr-v02r01.19920406.nc: 100%|██████████| 1.59M/1.59M [00:00<00:00, 2.17MB/s]\n"
     ]
    },
    {
     "name": "stdout",
     "output_type": "stream",
     "text": [
      "Downloading: https://www.ncei.noaa.gov/data/sea-surface-temperature-optimum-interpolation/v2.1/access/avhrr/199204/oisst-avhrr-v02r01.19920407.nc\n"
     ]
    },
    {
     "name": "stderr",
     "output_type": "stream",
     "text": [
      "oisst-avhrr-v02r01.19920407.nc: 100%|██████████| 1.59M/1.59M [00:00<00:00, 2.16MB/s]\n"
     ]
    },
    {
     "name": "stdout",
     "output_type": "stream",
     "text": [
      "Downloading: https://www.ncei.noaa.gov/data/sea-surface-temperature-optimum-interpolation/v2.1/access/avhrr/199204/oisst-avhrr-v02r01.19920408.nc\n"
     ]
    },
    {
     "name": "stderr",
     "output_type": "stream",
     "text": [
      "oisst-avhrr-v02r01.19920408.nc: 100%|██████████| 1.59M/1.59M [00:00<00:00, 2.17MB/s]\n"
     ]
    },
    {
     "name": "stdout",
     "output_type": "stream",
     "text": [
      "Downloading: https://www.ncei.noaa.gov/data/sea-surface-temperature-optimum-interpolation/v2.1/access/avhrr/199204/oisst-avhrr-v02r01.19920409.nc\n"
     ]
    },
    {
     "name": "stderr",
     "output_type": "stream",
     "text": [
      "oisst-avhrr-v02r01.19920409.nc: 100%|██████████| 1.59M/1.59M [00:00<00:00, 2.23MB/s]\n"
     ]
    },
    {
     "name": "stdout",
     "output_type": "stream",
     "text": [
      "Downloading: https://www.ncei.noaa.gov/data/sea-surface-temperature-optimum-interpolation/v2.1/access/avhrr/199204/oisst-avhrr-v02r01.19920410.nc\n"
     ]
    },
    {
     "name": "stderr",
     "output_type": "stream",
     "text": [
      "oisst-avhrr-v02r01.19920410.nc: 100%|██████████| 1.59M/1.59M [00:00<00:00, 2.17MB/s]\n"
     ]
    },
    {
     "name": "stdout",
     "output_type": "stream",
     "text": [
      "Downloading: https://www.ncei.noaa.gov/data/sea-surface-temperature-optimum-interpolation/v2.1/access/avhrr/199204/oisst-avhrr-v02r01.19920411.nc\n"
     ]
    },
    {
     "name": "stderr",
     "output_type": "stream",
     "text": [
      "oisst-avhrr-v02r01.19920411.nc: 100%|██████████| 1.59M/1.59M [00:00<00:00, 2.21MB/s]\n"
     ]
    },
    {
     "name": "stdout",
     "output_type": "stream",
     "text": [
      "Downloading: https://www.ncei.noaa.gov/data/sea-surface-temperature-optimum-interpolation/v2.1/access/avhrr/199204/oisst-avhrr-v02r01.19920412.nc\n"
     ]
    },
    {
     "name": "stderr",
     "output_type": "stream",
     "text": [
      "oisst-avhrr-v02r01.19920412.nc: 100%|██████████| 1.59M/1.59M [00:00<00:00, 2.11MB/s]\n"
     ]
    },
    {
     "name": "stdout",
     "output_type": "stream",
     "text": [
      "Downloading: https://www.ncei.noaa.gov/data/sea-surface-temperature-optimum-interpolation/v2.1/access/avhrr/199204/oisst-avhrr-v02r01.19920413.nc\n"
     ]
    },
    {
     "name": "stderr",
     "output_type": "stream",
     "text": [
      "oisst-avhrr-v02r01.19920413.nc: 100%|██████████| 1.59M/1.59M [00:00<00:00, 2.19MB/s]\n"
     ]
    },
    {
     "name": "stdout",
     "output_type": "stream",
     "text": [
      "Downloading: https://www.ncei.noaa.gov/data/sea-surface-temperature-optimum-interpolation/v2.1/access/avhrr/199204/oisst-avhrr-v02r01.19920414.nc\n"
     ]
    },
    {
     "name": "stderr",
     "output_type": "stream",
     "text": [
      "oisst-avhrr-v02r01.19920414.nc: 100%|██████████| 1.59M/1.59M [00:00<00:00, 2.19MB/s]\n"
     ]
    },
    {
     "name": "stdout",
     "output_type": "stream",
     "text": [
      "Downloading: https://www.ncei.noaa.gov/data/sea-surface-temperature-optimum-interpolation/v2.1/access/avhrr/199204/oisst-avhrr-v02r01.19920415.nc\n"
     ]
    },
    {
     "name": "stderr",
     "output_type": "stream",
     "text": [
      "oisst-avhrr-v02r01.19920415.nc: 100%|██████████| 1.59M/1.59M [00:00<00:00, 2.19MB/s]\n"
     ]
    },
    {
     "name": "stdout",
     "output_type": "stream",
     "text": [
      "Downloading: https://www.ncei.noaa.gov/data/sea-surface-temperature-optimum-interpolation/v2.1/access/avhrr/199204/oisst-avhrr-v02r01.19920416.nc\n"
     ]
    },
    {
     "name": "stderr",
     "output_type": "stream",
     "text": [
      "oisst-avhrr-v02r01.19920416.nc: 100%|██████████| 1.59M/1.59M [00:00<00:00, 2.14MB/s]\n"
     ]
    },
    {
     "name": "stdout",
     "output_type": "stream",
     "text": [
      "Downloading: https://www.ncei.noaa.gov/data/sea-surface-temperature-optimum-interpolation/v2.1/access/avhrr/199204/oisst-avhrr-v02r01.19920417.nc\n"
     ]
    },
    {
     "name": "stderr",
     "output_type": "stream",
     "text": [
      "oisst-avhrr-v02r01.19920417.nc: 100%|██████████| 1.59M/1.59M [00:00<00:00, 2.19MB/s]\n"
     ]
    },
    {
     "name": "stdout",
     "output_type": "stream",
     "text": [
      "Downloading: https://www.ncei.noaa.gov/data/sea-surface-temperature-optimum-interpolation/v2.1/access/avhrr/199204/oisst-avhrr-v02r01.19920418.nc\n"
     ]
    },
    {
     "name": "stderr",
     "output_type": "stream",
     "text": [
      "oisst-avhrr-v02r01.19920418.nc: 100%|██████████| 1.59M/1.59M [00:00<00:00, 2.18MB/s]\n"
     ]
    },
    {
     "name": "stdout",
     "output_type": "stream",
     "text": [
      "Downloading: https://www.ncei.noaa.gov/data/sea-surface-temperature-optimum-interpolation/v2.1/access/avhrr/199204/oisst-avhrr-v02r01.19920419.nc\n"
     ]
    },
    {
     "name": "stderr",
     "output_type": "stream",
     "text": [
      "oisst-avhrr-v02r01.19920419.nc: 100%|██████████| 1.59M/1.59M [00:00<00:00, 2.21MB/s]\n"
     ]
    },
    {
     "name": "stdout",
     "output_type": "stream",
     "text": [
      "Downloading: https://www.ncei.noaa.gov/data/sea-surface-temperature-optimum-interpolation/v2.1/access/avhrr/199204/oisst-avhrr-v02r01.19920420.nc\n"
     ]
    },
    {
     "name": "stderr",
     "output_type": "stream",
     "text": [
      "oisst-avhrr-v02r01.19920420.nc: 100%|██████████| 1.59M/1.59M [00:00<00:00, 1.98MB/s]\n"
     ]
    },
    {
     "name": "stdout",
     "output_type": "stream",
     "text": [
      "Downloading: https://www.ncei.noaa.gov/data/sea-surface-temperature-optimum-interpolation/v2.1/access/avhrr/199204/oisst-avhrr-v02r01.19920421.nc\n"
     ]
    },
    {
     "name": "stderr",
     "output_type": "stream",
     "text": [
      "oisst-avhrr-v02r01.19920421.nc: 100%|██████████| 1.59M/1.59M [00:00<00:00, 2.20MB/s]\n"
     ]
    },
    {
     "name": "stdout",
     "output_type": "stream",
     "text": [
      "Downloading: https://www.ncei.noaa.gov/data/sea-surface-temperature-optimum-interpolation/v2.1/access/avhrr/199204/oisst-avhrr-v02r01.19920422.nc\n"
     ]
    },
    {
     "name": "stderr",
     "output_type": "stream",
     "text": [
      "oisst-avhrr-v02r01.19920422.nc: 100%|██████████| 1.59M/1.59M [00:00<00:00, 2.15MB/s]\n"
     ]
    },
    {
     "name": "stdout",
     "output_type": "stream",
     "text": [
      "Downloading: https://www.ncei.noaa.gov/data/sea-surface-temperature-optimum-interpolation/v2.1/access/avhrr/199204/oisst-avhrr-v02r01.19920423.nc\n"
     ]
    },
    {
     "name": "stderr",
     "output_type": "stream",
     "text": [
      "oisst-avhrr-v02r01.19920423.nc: 100%|██████████| 1.59M/1.59M [00:00<00:00, 2.20MB/s]\n"
     ]
    },
    {
     "name": "stdout",
     "output_type": "stream",
     "text": [
      "Downloading: https://www.ncei.noaa.gov/data/sea-surface-temperature-optimum-interpolation/v2.1/access/avhrr/199204/oisst-avhrr-v02r01.19920424.nc\n"
     ]
    },
    {
     "name": "stderr",
     "output_type": "stream",
     "text": [
      "oisst-avhrr-v02r01.19920424.nc: 100%|██████████| 1.59M/1.59M [00:00<00:00, 2.15MB/s]\n"
     ]
    },
    {
     "name": "stdout",
     "output_type": "stream",
     "text": [
      "Downloading: https://www.ncei.noaa.gov/data/sea-surface-temperature-optimum-interpolation/v2.1/access/avhrr/199204/oisst-avhrr-v02r01.19920425.nc\n"
     ]
    },
    {
     "name": "stderr",
     "output_type": "stream",
     "text": [
      "oisst-avhrr-v02r01.19920425.nc: 100%|██████████| 1.59M/1.59M [00:00<00:00, 2.13MB/s]\n"
     ]
    },
    {
     "name": "stdout",
     "output_type": "stream",
     "text": [
      "Downloading: https://www.ncei.noaa.gov/data/sea-surface-temperature-optimum-interpolation/v2.1/access/avhrr/199204/oisst-avhrr-v02r01.19920426.nc\n"
     ]
    },
    {
     "name": "stderr",
     "output_type": "stream",
     "text": [
      "oisst-avhrr-v02r01.19920426.nc: 100%|██████████| 1.59M/1.59M [00:00<00:00, 2.17MB/s]\n"
     ]
    },
    {
     "name": "stdout",
     "output_type": "stream",
     "text": [
      "Downloading: https://www.ncei.noaa.gov/data/sea-surface-temperature-optimum-interpolation/v2.1/access/avhrr/199204/oisst-avhrr-v02r01.19920427.nc\n"
     ]
    },
    {
     "name": "stderr",
     "output_type": "stream",
     "text": [
      "oisst-avhrr-v02r01.19920427.nc: 100%|██████████| 1.59M/1.59M [00:00<00:00, 2.23MB/s]\n"
     ]
    },
    {
     "name": "stdout",
     "output_type": "stream",
     "text": [
      "Downloading: https://www.ncei.noaa.gov/data/sea-surface-temperature-optimum-interpolation/v2.1/access/avhrr/199204/oisst-avhrr-v02r01.19920428.nc\n"
     ]
    },
    {
     "name": "stderr",
     "output_type": "stream",
     "text": [
      "oisst-avhrr-v02r01.19920428.nc: 100%|██████████| 1.59M/1.59M [00:00<00:00, 2.16MB/s]\n"
     ]
    },
    {
     "name": "stdout",
     "output_type": "stream",
     "text": [
      "Downloading: https://www.ncei.noaa.gov/data/sea-surface-temperature-optimum-interpolation/v2.1/access/avhrr/199204/oisst-avhrr-v02r01.19920429.nc\n"
     ]
    },
    {
     "name": "stderr",
     "output_type": "stream",
     "text": [
      "oisst-avhrr-v02r01.19920429.nc: 100%|██████████| 1.59M/1.59M [00:00<00:00, 2.15MB/s]\n"
     ]
    },
    {
     "name": "stdout",
     "output_type": "stream",
     "text": [
      "Downloading: https://www.ncei.noaa.gov/data/sea-surface-temperature-optimum-interpolation/v2.1/access/avhrr/199204/oisst-avhrr-v02r01.19920430.nc\n"
     ]
    },
    {
     "name": "stderr",
     "output_type": "stream",
     "text": [
      "oisst-avhrr-v02r01.19920430.nc: 100%|██████████| 1.60M/1.60M [00:00<00:00, 2.22MB/s]\n"
     ]
    },
    {
     "name": "stdout",
     "output_type": "stream",
     "text": [
      "Processing: https://www.ncei.noaa.gov/data/sea-surface-temperature-optimum-interpolation/v2.1/access/avhrr/199205/\n",
      "Downloading: https://www.ncei.noaa.gov/data/sea-surface-temperature-optimum-interpolation/v2.1/access/avhrr/199205/oisst-avhrr-v02r01.19920501.nc\n"
     ]
    },
    {
     "name": "stderr",
     "output_type": "stream",
     "text": [
      "oisst-avhrr-v02r01.19920501.nc: 100%|██████████| 1.60M/1.60M [00:00<00:00, 2.19MB/s]\n"
     ]
    },
    {
     "name": "stdout",
     "output_type": "stream",
     "text": [
      "Downloading: https://www.ncei.noaa.gov/data/sea-surface-temperature-optimum-interpolation/v2.1/access/avhrr/199205/oisst-avhrr-v02r01.19920502.nc\n"
     ]
    },
    {
     "name": "stderr",
     "output_type": "stream",
     "text": [
      "oisst-avhrr-v02r01.19920502.nc: 100%|██████████| 1.60M/1.60M [00:00<00:00, 2.16MB/s]\n"
     ]
    },
    {
     "name": "stdout",
     "output_type": "stream",
     "text": [
      "Downloading: https://www.ncei.noaa.gov/data/sea-surface-temperature-optimum-interpolation/v2.1/access/avhrr/199205/oisst-avhrr-v02r01.19920503.nc\n"
     ]
    },
    {
     "name": "stderr",
     "output_type": "stream",
     "text": [
      "oisst-avhrr-v02r01.19920503.nc: 100%|██████████| 1.60M/1.60M [00:00<00:00, 2.16MB/s]\n"
     ]
    },
    {
     "name": "stdout",
     "output_type": "stream",
     "text": [
      "Downloading: https://www.ncei.noaa.gov/data/sea-surface-temperature-optimum-interpolation/v2.1/access/avhrr/199205/oisst-avhrr-v02r01.19920504.nc\n"
     ]
    },
    {
     "name": "stderr",
     "output_type": "stream",
     "text": [
      "oisst-avhrr-v02r01.19920504.nc: 100%|██████████| 1.60M/1.60M [00:00<00:00, 2.16MB/s]\n"
     ]
    },
    {
     "name": "stdout",
     "output_type": "stream",
     "text": [
      "Downloading: https://www.ncei.noaa.gov/data/sea-surface-temperature-optimum-interpolation/v2.1/access/avhrr/199205/oisst-avhrr-v02r01.19920505.nc\n"
     ]
    },
    {
     "name": "stderr",
     "output_type": "stream",
     "text": [
      "oisst-avhrr-v02r01.19920505.nc: 100%|██████████| 1.60M/1.60M [00:00<00:00, 1.83MB/s]\n"
     ]
    },
    {
     "name": "stdout",
     "output_type": "stream",
     "text": [
      "Downloading: https://www.ncei.noaa.gov/data/sea-surface-temperature-optimum-interpolation/v2.1/access/avhrr/199205/oisst-avhrr-v02r01.19920506.nc\n"
     ]
    },
    {
     "name": "stderr",
     "output_type": "stream",
     "text": [
      "oisst-avhrr-v02r01.19920506.nc: 100%|██████████| 1.60M/1.60M [00:00<00:00, 2.18MB/s]\n"
     ]
    },
    {
     "name": "stdout",
     "output_type": "stream",
     "text": [
      "Downloading: https://www.ncei.noaa.gov/data/sea-surface-temperature-optimum-interpolation/v2.1/access/avhrr/199205/oisst-avhrr-v02r01.19920507.nc\n"
     ]
    },
    {
     "name": "stderr",
     "output_type": "stream",
     "text": [
      "oisst-avhrr-v02r01.19920507.nc: 100%|██████████| 1.60M/1.60M [00:00<00:00, 2.17MB/s]\n"
     ]
    },
    {
     "name": "stdout",
     "output_type": "stream",
     "text": [
      "Downloading: https://www.ncei.noaa.gov/data/sea-surface-temperature-optimum-interpolation/v2.1/access/avhrr/199205/oisst-avhrr-v02r01.19920508.nc\n"
     ]
    },
    {
     "name": "stderr",
     "output_type": "stream",
     "text": [
      "oisst-avhrr-v02r01.19920508.nc: 100%|██████████| 1.60M/1.60M [00:00<00:00, 2.17MB/s]\n"
     ]
    },
    {
     "name": "stdout",
     "output_type": "stream",
     "text": [
      "Downloading: https://www.ncei.noaa.gov/data/sea-surface-temperature-optimum-interpolation/v2.1/access/avhrr/199205/oisst-avhrr-v02r01.19920509.nc\n"
     ]
    },
    {
     "name": "stderr",
     "output_type": "stream",
     "text": [
      "oisst-avhrr-v02r01.19920509.nc: 100%|██████████| 1.60M/1.60M [00:00<00:00, 2.19MB/s]\n"
     ]
    },
    {
     "name": "stdout",
     "output_type": "stream",
     "text": [
      "Downloading: https://www.ncei.noaa.gov/data/sea-surface-temperature-optimum-interpolation/v2.1/access/avhrr/199205/oisst-avhrr-v02r01.19920510.nc\n"
     ]
    },
    {
     "name": "stderr",
     "output_type": "stream",
     "text": [
      "oisst-avhrr-v02r01.19920510.nc: 100%|██████████| 1.61M/1.61M [00:00<00:00, 2.22MB/s]\n"
     ]
    },
    {
     "name": "stdout",
     "output_type": "stream",
     "text": [
      "Downloading: https://www.ncei.noaa.gov/data/sea-surface-temperature-optimum-interpolation/v2.1/access/avhrr/199205/oisst-avhrr-v02r01.19920511.nc\n"
     ]
    },
    {
     "name": "stderr",
     "output_type": "stream",
     "text": [
      "oisst-avhrr-v02r01.19920511.nc: 100%|██████████| 1.61M/1.61M [00:01<00:00, 1.17MB/s]\n"
     ]
    },
    {
     "name": "stdout",
     "output_type": "stream",
     "text": [
      "Downloading: https://www.ncei.noaa.gov/data/sea-surface-temperature-optimum-interpolation/v2.1/access/avhrr/199205/oisst-avhrr-v02r01.19920512.nc\n"
     ]
    },
    {
     "name": "stderr",
     "output_type": "stream",
     "text": [
      "oisst-avhrr-v02r01.19920512.nc: 100%|██████████| 1.61M/1.61M [00:00<00:00, 2.21MB/s]\n"
     ]
    },
    {
     "name": "stdout",
     "output_type": "stream",
     "text": [
      "Downloading: https://www.ncei.noaa.gov/data/sea-surface-temperature-optimum-interpolation/v2.1/access/avhrr/199205/oisst-avhrr-v02r01.19920513.nc\n"
     ]
    },
    {
     "name": "stderr",
     "output_type": "stream",
     "text": [
      "oisst-avhrr-v02r01.19920513.nc: 100%|██████████| 1.61M/1.61M [00:00<00:00, 2.25MB/s]\n"
     ]
    },
    {
     "name": "stdout",
     "output_type": "stream",
     "text": [
      "Downloading: https://www.ncei.noaa.gov/data/sea-surface-temperature-optimum-interpolation/v2.1/access/avhrr/199205/oisst-avhrr-v02r01.19920514.nc\n"
     ]
    },
    {
     "name": "stderr",
     "output_type": "stream",
     "text": [
      "oisst-avhrr-v02r01.19920514.nc: 100%|██████████| 1.60M/1.60M [00:00<00:00, 2.16MB/s]\n"
     ]
    },
    {
     "name": "stdout",
     "output_type": "stream",
     "text": [
      "Downloading: https://www.ncei.noaa.gov/data/sea-surface-temperature-optimum-interpolation/v2.1/access/avhrr/199205/oisst-avhrr-v02r01.19920515.nc\n"
     ]
    },
    {
     "name": "stderr",
     "output_type": "stream",
     "text": [
      "oisst-avhrr-v02r01.19920515.nc: 100%|██████████| 1.60M/1.60M [00:00<00:00, 2.24MB/s]\n"
     ]
    },
    {
     "name": "stdout",
     "output_type": "stream",
     "text": [
      "Downloading: https://www.ncei.noaa.gov/data/sea-surface-temperature-optimum-interpolation/v2.1/access/avhrr/199205/oisst-avhrr-v02r01.19920516.nc\n"
     ]
    },
    {
     "name": "stderr",
     "output_type": "stream",
     "text": [
      "oisst-avhrr-v02r01.19920516.nc: 100%|██████████| 1.60M/1.60M [00:00<00:00, 2.15MB/s]\n"
     ]
    },
    {
     "name": "stdout",
     "output_type": "stream",
     "text": [
      "Downloading: https://www.ncei.noaa.gov/data/sea-surface-temperature-optimum-interpolation/v2.1/access/avhrr/199205/oisst-avhrr-v02r01.19920517.nc\n"
     ]
    },
    {
     "name": "stderr",
     "output_type": "stream",
     "text": [
      "oisst-avhrr-v02r01.19920517.nc: 100%|██████████| 1.60M/1.60M [00:00<00:00, 2.15MB/s]\n"
     ]
    },
    {
     "name": "stdout",
     "output_type": "stream",
     "text": [
      "Downloading: https://www.ncei.noaa.gov/data/sea-surface-temperature-optimum-interpolation/v2.1/access/avhrr/199205/oisst-avhrr-v02r01.19920518.nc\n"
     ]
    },
    {
     "name": "stderr",
     "output_type": "stream",
     "text": [
      "oisst-avhrr-v02r01.19920518.nc: 100%|██████████| 1.60M/1.60M [00:00<00:00, 2.16MB/s]\n"
     ]
    },
    {
     "name": "stdout",
     "output_type": "stream",
     "text": [
      "Downloading: https://www.ncei.noaa.gov/data/sea-surface-temperature-optimum-interpolation/v2.1/access/avhrr/199205/oisst-avhrr-v02r01.19920519.nc\n"
     ]
    },
    {
     "name": "stderr",
     "output_type": "stream",
     "text": [
      "oisst-avhrr-v02r01.19920519.nc: 100%|██████████| 1.60M/1.60M [00:00<00:00, 2.18MB/s]\n"
     ]
    },
    {
     "name": "stdout",
     "output_type": "stream",
     "text": [
      "Downloading: https://www.ncei.noaa.gov/data/sea-surface-temperature-optimum-interpolation/v2.1/access/avhrr/199205/oisst-avhrr-v02r01.19920520.nc\n"
     ]
    },
    {
     "name": "stderr",
     "output_type": "stream",
     "text": [
      "oisst-avhrr-v02r01.19920520.nc: 100%|██████████| 1.61M/1.61M [00:00<00:00, 1.89MB/s]\n"
     ]
    },
    {
     "name": "stdout",
     "output_type": "stream",
     "text": [
      "Downloading: https://www.ncei.noaa.gov/data/sea-surface-temperature-optimum-interpolation/v2.1/access/avhrr/199205/oisst-avhrr-v02r01.19920521.nc\n"
     ]
    },
    {
     "name": "stderr",
     "output_type": "stream",
     "text": [
      "oisst-avhrr-v02r01.19920521.nc: 100%|██████████| 1.61M/1.61M [00:00<00:00, 1.88MB/s]\n"
     ]
    },
    {
     "name": "stdout",
     "output_type": "stream",
     "text": [
      "Downloading: https://www.ncei.noaa.gov/data/sea-surface-temperature-optimum-interpolation/v2.1/access/avhrr/199205/oisst-avhrr-v02r01.19920522.nc\n"
     ]
    },
    {
     "name": "stderr",
     "output_type": "stream",
     "text": [
      "oisst-avhrr-v02r01.19920522.nc: 100%|██████████| 1.62M/1.62M [00:00<00:00, 2.19MB/s]\n"
     ]
    },
    {
     "name": "stdout",
     "output_type": "stream",
     "text": [
      "Downloading: https://www.ncei.noaa.gov/data/sea-surface-temperature-optimum-interpolation/v2.1/access/avhrr/199205/oisst-avhrr-v02r01.19920523.nc\n"
     ]
    },
    {
     "name": "stderr",
     "output_type": "stream",
     "text": [
      "oisst-avhrr-v02r01.19920523.nc: 100%|██████████| 1.62M/1.62M [00:00<00:00, 2.10MB/s]\n"
     ]
    },
    {
     "name": "stdout",
     "output_type": "stream",
     "text": [
      "Downloading: https://www.ncei.noaa.gov/data/sea-surface-temperature-optimum-interpolation/v2.1/access/avhrr/199205/oisst-avhrr-v02r01.19920524.nc\n"
     ]
    },
    {
     "name": "stderr",
     "output_type": "stream",
     "text": [
      "oisst-avhrr-v02r01.19920524.nc: 100%|██████████| 1.62M/1.62M [00:01<00:00, 1.12MB/s]\n"
     ]
    },
    {
     "name": "stdout",
     "output_type": "stream",
     "text": [
      "Downloading: https://www.ncei.noaa.gov/data/sea-surface-temperature-optimum-interpolation/v2.1/access/avhrr/199205/oisst-avhrr-v02r01.19920525.nc\n"
     ]
    },
    {
     "name": "stderr",
     "output_type": "stream",
     "text": [
      "oisst-avhrr-v02r01.19920525.nc: 100%|██████████| 1.62M/1.62M [00:00<00:00, 2.11MB/s]\n"
     ]
    },
    {
     "name": "stdout",
     "output_type": "stream",
     "text": [
      "Downloading: https://www.ncei.noaa.gov/data/sea-surface-temperature-optimum-interpolation/v2.1/access/avhrr/199205/oisst-avhrr-v02r01.19920526.nc\n"
     ]
    },
    {
     "name": "stderr",
     "output_type": "stream",
     "text": [
      "oisst-avhrr-v02r01.19920526.nc: 100%|██████████| 1.62M/1.62M [00:04<00:00, 360kB/s] \n"
     ]
    },
    {
     "name": "stdout",
     "output_type": "stream",
     "text": [
      "Downloading: https://www.ncei.noaa.gov/data/sea-surface-temperature-optimum-interpolation/v2.1/access/avhrr/199205/oisst-avhrr-v02r01.19920527.nc\n"
     ]
    },
    {
     "name": "stderr",
     "output_type": "stream",
     "text": [
      "oisst-avhrr-v02r01.19920527.nc: 100%|██████████| 1.62M/1.62M [00:00<00:00, 2.17MB/s]\n"
     ]
    },
    {
     "name": "stdout",
     "output_type": "stream",
     "text": [
      "Downloading: https://www.ncei.noaa.gov/data/sea-surface-temperature-optimum-interpolation/v2.1/access/avhrr/199205/oisst-avhrr-v02r01.19920528.nc\n"
     ]
    },
    {
     "name": "stderr",
     "output_type": "stream",
     "text": [
      "oisst-avhrr-v02r01.19920528.nc: 100%|██████████| 1.61M/1.61M [00:00<00:00, 2.25MB/s]\n"
     ]
    },
    {
     "name": "stdout",
     "output_type": "stream",
     "text": [
      "Downloading: https://www.ncei.noaa.gov/data/sea-surface-temperature-optimum-interpolation/v2.1/access/avhrr/199205/oisst-avhrr-v02r01.19920529.nc\n"
     ]
    },
    {
     "name": "stderr",
     "output_type": "stream",
     "text": [
      "oisst-avhrr-v02r01.19920529.nc: 100%|██████████| 1.61M/1.61M [00:00<00:00, 2.14MB/s]\n"
     ]
    },
    {
     "name": "stdout",
     "output_type": "stream",
     "text": [
      "Downloading: https://www.ncei.noaa.gov/data/sea-surface-temperature-optimum-interpolation/v2.1/access/avhrr/199205/oisst-avhrr-v02r01.19920530.nc\n"
     ]
    },
    {
     "name": "stderr",
     "output_type": "stream",
     "text": [
      "oisst-avhrr-v02r01.19920530.nc: 100%|██████████| 1.61M/1.61M [00:00<00:00, 2.10MB/s]\n"
     ]
    },
    {
     "name": "stdout",
     "output_type": "stream",
     "text": [
      "Downloading: https://www.ncei.noaa.gov/data/sea-surface-temperature-optimum-interpolation/v2.1/access/avhrr/199205/oisst-avhrr-v02r01.19920531.nc\n"
     ]
    },
    {
     "name": "stderr",
     "output_type": "stream",
     "text": [
      "oisst-avhrr-v02r01.19920531.nc: 100%|██████████| 1.62M/1.62M [00:00<00:00, 2.23MB/s]\n"
     ]
    },
    {
     "name": "stdout",
     "output_type": "stream",
     "text": [
      "Processing: https://www.ncei.noaa.gov/data/sea-surface-temperature-optimum-interpolation/v2.1/access/avhrr/199206/\n",
      "Downloading: https://www.ncei.noaa.gov/data/sea-surface-temperature-optimum-interpolation/v2.1/access/avhrr/199206/oisst-avhrr-v02r01.19920601.nc\n"
     ]
    },
    {
     "name": "stderr",
     "output_type": "stream",
     "text": [
      "oisst-avhrr-v02r01.19920601.nc: 100%|██████████| 1.62M/1.62M [00:00<00:00, 2.19MB/s]\n"
     ]
    },
    {
     "name": "stdout",
     "output_type": "stream",
     "text": [
      "Downloading: https://www.ncei.noaa.gov/data/sea-surface-temperature-optimum-interpolation/v2.1/access/avhrr/199206/oisst-avhrr-v02r01.19920602.nc\n"
     ]
    },
    {
     "name": "stderr",
     "output_type": "stream",
     "text": [
      "oisst-avhrr-v02r01.19920602.nc: 100%|██████████| 1.62M/1.62M [00:00<00:00, 2.13MB/s]\n"
     ]
    },
    {
     "name": "stdout",
     "output_type": "stream",
     "text": [
      "Downloading: https://www.ncei.noaa.gov/data/sea-surface-temperature-optimum-interpolation/v2.1/access/avhrr/199206/oisst-avhrr-v02r01.19920603.nc\n"
     ]
    },
    {
     "name": "stderr",
     "output_type": "stream",
     "text": [
      "oisst-avhrr-v02r01.19920603.nc: 100%|██████████| 1.62M/1.62M [00:00<00:00, 2.13MB/s]\n"
     ]
    },
    {
     "name": "stdout",
     "output_type": "stream",
     "text": [
      "Downloading: https://www.ncei.noaa.gov/data/sea-surface-temperature-optimum-interpolation/v2.1/access/avhrr/199206/oisst-avhrr-v02r01.19920604.nc\n"
     ]
    },
    {
     "name": "stderr",
     "output_type": "stream",
     "text": [
      "oisst-avhrr-v02r01.19920604.nc: 100%|██████████| 1.62M/1.62M [00:00<00:00, 2.10MB/s]\n"
     ]
    },
    {
     "name": "stdout",
     "output_type": "stream",
     "text": [
      "Downloading: https://www.ncei.noaa.gov/data/sea-surface-temperature-optimum-interpolation/v2.1/access/avhrr/199206/oisst-avhrr-v02r01.19920605.nc\n"
     ]
    },
    {
     "name": "stderr",
     "output_type": "stream",
     "text": [
      "oisst-avhrr-v02r01.19920605.nc: 100%|██████████| 1.62M/1.62M [00:00<00:00, 1.96MB/s]\n"
     ]
    },
    {
     "name": "stdout",
     "output_type": "stream",
     "text": [
      "Downloading: https://www.ncei.noaa.gov/data/sea-surface-temperature-optimum-interpolation/v2.1/access/avhrr/199206/oisst-avhrr-v02r01.19920606.nc\n"
     ]
    },
    {
     "name": "stderr",
     "output_type": "stream",
     "text": [
      "oisst-avhrr-v02r01.19920606.nc: 100%|██████████| 1.62M/1.62M [00:00<00:00, 2.19MB/s]\n"
     ]
    },
    {
     "name": "stdout",
     "output_type": "stream",
     "text": [
      "Downloading: https://www.ncei.noaa.gov/data/sea-surface-temperature-optimum-interpolation/v2.1/access/avhrr/199206/oisst-avhrr-v02r01.19920607.nc\n"
     ]
    },
    {
     "name": "stderr",
     "output_type": "stream",
     "text": [
      "oisst-avhrr-v02r01.19920607.nc: 100%|██████████| 1.63M/1.63M [00:00<00:00, 2.14MB/s]\n"
     ]
    },
    {
     "name": "stdout",
     "output_type": "stream",
     "text": [
      "Downloading: https://www.ncei.noaa.gov/data/sea-surface-temperature-optimum-interpolation/v2.1/access/avhrr/199206/oisst-avhrr-v02r01.19920608.nc\n"
     ]
    },
    {
     "name": "stderr",
     "output_type": "stream",
     "text": [
      "oisst-avhrr-v02r01.19920608.nc: 100%|██████████| 1.63M/1.63M [00:00<00:00, 2.12MB/s]\n"
     ]
    },
    {
     "name": "stdout",
     "output_type": "stream",
     "text": [
      "Downloading: https://www.ncei.noaa.gov/data/sea-surface-temperature-optimum-interpolation/v2.1/access/avhrr/199206/oisst-avhrr-v02r01.19920609.nc\n"
     ]
    },
    {
     "name": "stderr",
     "output_type": "stream",
     "text": [
      "oisst-avhrr-v02r01.19920609.nc: 100%|██████████| 1.63M/1.63M [00:00<00:00, 2.19MB/s]\n"
     ]
    },
    {
     "name": "stdout",
     "output_type": "stream",
     "text": [
      "Downloading: https://www.ncei.noaa.gov/data/sea-surface-temperature-optimum-interpolation/v2.1/access/avhrr/199206/oisst-avhrr-v02r01.19920610.nc\n"
     ]
    },
    {
     "name": "stderr",
     "output_type": "stream",
     "text": [
      "oisst-avhrr-v02r01.19920610.nc: 100%|██████████| 1.63M/1.63M [00:00<00:00, 2.23MB/s]\n"
     ]
    },
    {
     "name": "stdout",
     "output_type": "stream",
     "text": [
      "Downloading: https://www.ncei.noaa.gov/data/sea-surface-temperature-optimum-interpolation/v2.1/access/avhrr/199206/oisst-avhrr-v02r01.19920611.nc\n"
     ]
    },
    {
     "name": "stderr",
     "output_type": "stream",
     "text": [
      "oisst-avhrr-v02r01.19920611.nc: 100%|██████████| 1.63M/1.63M [00:00<00:00, 2.17MB/s]\n"
     ]
    },
    {
     "name": "stdout",
     "output_type": "stream",
     "text": [
      "Downloading: https://www.ncei.noaa.gov/data/sea-surface-temperature-optimum-interpolation/v2.1/access/avhrr/199206/oisst-avhrr-v02r01.19920612.nc\n"
     ]
    },
    {
     "name": "stderr",
     "output_type": "stream",
     "text": [
      "oisst-avhrr-v02r01.19920612.nc: 100%|██████████| 1.63M/1.63M [00:00<00:00, 2.12MB/s]\n"
     ]
    },
    {
     "name": "stdout",
     "output_type": "stream",
     "text": [
      "Downloading: https://www.ncei.noaa.gov/data/sea-surface-temperature-optimum-interpolation/v2.1/access/avhrr/199206/oisst-avhrr-v02r01.19920613.nc\n"
     ]
    },
    {
     "name": "stderr",
     "output_type": "stream",
     "text": [
      "oisst-avhrr-v02r01.19920613.nc: 100%|██████████| 1.63M/1.63M [00:00<00:00, 2.19MB/s]\n"
     ]
    },
    {
     "name": "stdout",
     "output_type": "stream",
     "text": [
      "Downloading: https://www.ncei.noaa.gov/data/sea-surface-temperature-optimum-interpolation/v2.1/access/avhrr/199206/oisst-avhrr-v02r01.19920614.nc\n"
     ]
    },
    {
     "name": "stderr",
     "output_type": "stream",
     "text": [
      "oisst-avhrr-v02r01.19920614.nc: 100%|██████████| 1.63M/1.63M [00:00<00:00, 1.81MB/s]\n"
     ]
    },
    {
     "name": "stdout",
     "output_type": "stream",
     "text": [
      "Downloading: https://www.ncei.noaa.gov/data/sea-surface-temperature-optimum-interpolation/v2.1/access/avhrr/199206/oisst-avhrr-v02r01.19920615.nc\n"
     ]
    },
    {
     "name": "stderr",
     "output_type": "stream",
     "text": [
      "oisst-avhrr-v02r01.19920615.nc: 100%|██████████| 1.63M/1.63M [00:00<00:00, 2.25MB/s]\n"
     ]
    },
    {
     "name": "stdout",
     "output_type": "stream",
     "text": [
      "Downloading: https://www.ncei.noaa.gov/data/sea-surface-temperature-optimum-interpolation/v2.1/access/avhrr/199206/oisst-avhrr-v02r01.19920616.nc\n"
     ]
    },
    {
     "name": "stderr",
     "output_type": "stream",
     "text": [
      "oisst-avhrr-v02r01.19920616.nc: 100%|██████████| 1.63M/1.63M [00:00<00:00, 2.14MB/s]\n"
     ]
    },
    {
     "name": "stdout",
     "output_type": "stream",
     "text": [
      "Downloading: https://www.ncei.noaa.gov/data/sea-surface-temperature-optimum-interpolation/v2.1/access/avhrr/199206/oisst-avhrr-v02r01.19920617.nc\n"
     ]
    },
    {
     "name": "stderr",
     "output_type": "stream",
     "text": [
      "oisst-avhrr-v02r01.19920617.nc: 100%|██████████| 1.64M/1.64M [00:00<00:00, 2.11MB/s]\n"
     ]
    },
    {
     "name": "stdout",
     "output_type": "stream",
     "text": [
      "Downloading: https://www.ncei.noaa.gov/data/sea-surface-temperature-optimum-interpolation/v2.1/access/avhrr/199206/oisst-avhrr-v02r01.19920618.nc\n"
     ]
    },
    {
     "name": "stderr",
     "output_type": "stream",
     "text": [
      "oisst-avhrr-v02r01.19920618.nc: 100%|██████████| 1.64M/1.64M [00:00<00:00, 2.13MB/s]\n"
     ]
    },
    {
     "name": "stdout",
     "output_type": "stream",
     "text": [
      "Downloading: https://www.ncei.noaa.gov/data/sea-surface-temperature-optimum-interpolation/v2.1/access/avhrr/199206/oisst-avhrr-v02r01.19920619.nc\n"
     ]
    },
    {
     "name": "stderr",
     "output_type": "stream",
     "text": [
      "oisst-avhrr-v02r01.19920619.nc: 100%|██████████| 1.64M/1.64M [00:00<00:00, 2.18MB/s]\n"
     ]
    },
    {
     "name": "stdout",
     "output_type": "stream",
     "text": [
      "Downloading: https://www.ncei.noaa.gov/data/sea-surface-temperature-optimum-interpolation/v2.1/access/avhrr/199206/oisst-avhrr-v02r01.19920620.nc\n"
     ]
    },
    {
     "name": "stderr",
     "output_type": "stream",
     "text": [
      "oisst-avhrr-v02r01.19920620.nc: 100%|██████████| 1.64M/1.64M [00:00<00:00, 2.23MB/s]\n"
     ]
    },
    {
     "name": "stdout",
     "output_type": "stream",
     "text": [
      "Downloading: https://www.ncei.noaa.gov/data/sea-surface-temperature-optimum-interpolation/v2.1/access/avhrr/199206/oisst-avhrr-v02r01.19920621.nc\n"
     ]
    },
    {
     "name": "stderr",
     "output_type": "stream",
     "text": [
      "oisst-avhrr-v02r01.19920621.nc: 100%|██████████| 1.65M/1.65M [00:01<00:00, 1.20MB/s]\n"
     ]
    },
    {
     "name": "stdout",
     "output_type": "stream",
     "text": [
      "Downloading: https://www.ncei.noaa.gov/data/sea-surface-temperature-optimum-interpolation/v2.1/access/avhrr/199206/oisst-avhrr-v02r01.19920622.nc\n"
     ]
    },
    {
     "name": "stderr",
     "output_type": "stream",
     "text": [
      "oisst-avhrr-v02r01.19920622.nc: 100%|██████████| 1.65M/1.65M [00:00<00:00, 2.24MB/s]\n"
     ]
    },
    {
     "name": "stdout",
     "output_type": "stream",
     "text": [
      "Downloading: https://www.ncei.noaa.gov/data/sea-surface-temperature-optimum-interpolation/v2.1/access/avhrr/199206/oisst-avhrr-v02r01.19920623.nc\n"
     ]
    },
    {
     "name": "stderr",
     "output_type": "stream",
     "text": [
      "oisst-avhrr-v02r01.19920623.nc: 100%|██████████| 1.65M/1.65M [00:00<00:00, 2.15MB/s]\n"
     ]
    },
    {
     "name": "stdout",
     "output_type": "stream",
     "text": [
      "Downloading: https://www.ncei.noaa.gov/data/sea-surface-temperature-optimum-interpolation/v2.1/access/avhrr/199206/oisst-avhrr-v02r01.19920624.nc\n"
     ]
    },
    {
     "name": "stderr",
     "output_type": "stream",
     "text": [
      "oisst-avhrr-v02r01.19920624.nc: 100%|██████████| 1.64M/1.64M [00:00<00:00, 1.89MB/s]\n"
     ]
    },
    {
     "name": "stdout",
     "output_type": "stream",
     "text": [
      "Downloading: https://www.ncei.noaa.gov/data/sea-surface-temperature-optimum-interpolation/v2.1/access/avhrr/199206/oisst-avhrr-v02r01.19920625.nc\n"
     ]
    },
    {
     "name": "stderr",
     "output_type": "stream",
     "text": [
      "oisst-avhrr-v02r01.19920625.nc: 100%|██████████| 1.65M/1.65M [00:00<00:00, 2.11MB/s]\n"
     ]
    },
    {
     "name": "stdout",
     "output_type": "stream",
     "text": [
      "Downloading: https://www.ncei.noaa.gov/data/sea-surface-temperature-optimum-interpolation/v2.1/access/avhrr/199206/oisst-avhrr-v02r01.19920626.nc\n"
     ]
    },
    {
     "name": "stderr",
     "output_type": "stream",
     "text": [
      "oisst-avhrr-v02r01.19920626.nc: 100%|██████████| 1.64M/1.64M [00:00<00:00, 2.16MB/s]\n"
     ]
    },
    {
     "name": "stdout",
     "output_type": "stream",
     "text": [
      "Downloading: https://www.ncei.noaa.gov/data/sea-surface-temperature-optimum-interpolation/v2.1/access/avhrr/199206/oisst-avhrr-v02r01.19920627.nc\n"
     ]
    },
    {
     "name": "stderr",
     "output_type": "stream",
     "text": [
      "oisst-avhrr-v02r01.19920627.nc: 100%|██████████| 1.64M/1.64M [00:00<00:00, 2.19MB/s]\n"
     ]
    },
    {
     "name": "stdout",
     "output_type": "stream",
     "text": [
      "Downloading: https://www.ncei.noaa.gov/data/sea-surface-temperature-optimum-interpolation/v2.1/access/avhrr/199206/oisst-avhrr-v02r01.19920628.nc\n"
     ]
    },
    {
     "name": "stderr",
     "output_type": "stream",
     "text": [
      "oisst-avhrr-v02r01.19920628.nc: 100%|██████████| 1.65M/1.65M [00:00<00:00, 2.16MB/s]\n"
     ]
    },
    {
     "name": "stdout",
     "output_type": "stream",
     "text": [
      "Downloading: https://www.ncei.noaa.gov/data/sea-surface-temperature-optimum-interpolation/v2.1/access/avhrr/199206/oisst-avhrr-v02r01.19920629.nc\n"
     ]
    },
    {
     "name": "stderr",
     "output_type": "stream",
     "text": [
      "oisst-avhrr-v02r01.19920629.nc: 100%|██████████| 1.65M/1.65M [00:00<00:00, 2.16MB/s]\n"
     ]
    },
    {
     "name": "stdout",
     "output_type": "stream",
     "text": [
      "Downloading: https://www.ncei.noaa.gov/data/sea-surface-temperature-optimum-interpolation/v2.1/access/avhrr/199206/oisst-avhrr-v02r01.19920630.nc\n"
     ]
    },
    {
     "name": "stderr",
     "output_type": "stream",
     "text": [
      "oisst-avhrr-v02r01.19920630.nc: 100%|██████████| 1.65M/1.65M [00:00<00:00, 2.14MB/s]\n"
     ]
    },
    {
     "name": "stdout",
     "output_type": "stream",
     "text": [
      "Processing: https://www.ncei.noaa.gov/data/sea-surface-temperature-optimum-interpolation/v2.1/access/avhrr/199207/\n",
      "Downloading: https://www.ncei.noaa.gov/data/sea-surface-temperature-optimum-interpolation/v2.1/access/avhrr/199207/oisst-avhrr-v02r01.19920701.nc\n"
     ]
    },
    {
     "name": "stderr",
     "output_type": "stream",
     "text": [
      "oisst-avhrr-v02r01.19920701.nc: 100%|██████████| 1.65M/1.65M [00:02<00:00, 738kB/s]\n"
     ]
    },
    {
     "name": "stdout",
     "output_type": "stream",
     "text": [
      "Downloading: https://www.ncei.noaa.gov/data/sea-surface-temperature-optimum-interpolation/v2.1/access/avhrr/199207/oisst-avhrr-v02r01.19920702.nc\n"
     ]
    },
    {
     "name": "stderr",
     "output_type": "stream",
     "text": [
      "oisst-avhrr-v02r01.19920702.nc: 100%|██████████| 1.65M/1.65M [00:01<00:00, 1.33MB/s]\n"
     ]
    },
    {
     "name": "stdout",
     "output_type": "stream",
     "text": [
      "Downloading: https://www.ncei.noaa.gov/data/sea-surface-temperature-optimum-interpolation/v2.1/access/avhrr/199207/oisst-avhrr-v02r01.19920703.nc\n"
     ]
    },
    {
     "name": "stderr",
     "output_type": "stream",
     "text": [
      "oisst-avhrr-v02r01.19920703.nc: 100%|██████████| 1.65M/1.65M [00:00<00:00, 2.14MB/s]\n"
     ]
    },
    {
     "name": "stdout",
     "output_type": "stream",
     "text": [
      "Downloading: https://www.ncei.noaa.gov/data/sea-surface-temperature-optimum-interpolation/v2.1/access/avhrr/199207/oisst-avhrr-v02r01.19920704.nc\n"
     ]
    },
    {
     "name": "stderr",
     "output_type": "stream",
     "text": [
      "oisst-avhrr-v02r01.19920704.nc: 100%|██████████| 1.65M/1.65M [00:02<00:00, 586kB/s]\n"
     ]
    },
    {
     "name": "stdout",
     "output_type": "stream",
     "text": [
      "Downloading: https://www.ncei.noaa.gov/data/sea-surface-temperature-optimum-interpolation/v2.1/access/avhrr/199207/oisst-avhrr-v02r01.19920705.nc\n"
     ]
    },
    {
     "name": "stderr",
     "output_type": "stream",
     "text": [
      "oisst-avhrr-v02r01.19920705.nc: 100%|██████████| 1.65M/1.65M [00:00<00:00, 2.17MB/s]\n"
     ]
    },
    {
     "name": "stdout",
     "output_type": "stream",
     "text": [
      "Downloading: https://www.ncei.noaa.gov/data/sea-surface-temperature-optimum-interpolation/v2.1/access/avhrr/199207/oisst-avhrr-v02r01.19920706.nc\n"
     ]
    },
    {
     "name": "stderr",
     "output_type": "stream",
     "text": [
      "oisst-avhrr-v02r01.19920706.nc: 100%|██████████| 1.64M/1.64M [00:06<00:00, 276kB/s]\n"
     ]
    },
    {
     "name": "stdout",
     "output_type": "stream",
     "text": [
      "Downloading: https://www.ncei.noaa.gov/data/sea-surface-temperature-optimum-interpolation/v2.1/access/avhrr/199207/oisst-avhrr-v02r01.19920707.nc\n"
     ]
    },
    {
     "name": "stderr",
     "output_type": "stream",
     "text": [
      "oisst-avhrr-v02r01.19920707.nc: 100%|██████████| 1.65M/1.65M [00:00<00:00, 2.17MB/s]\n"
     ]
    },
    {
     "name": "stdout",
     "output_type": "stream",
     "text": [
      "Downloading: https://www.ncei.noaa.gov/data/sea-surface-temperature-optimum-interpolation/v2.1/access/avhrr/199207/oisst-avhrr-v02r01.19920708.nc\n"
     ]
    },
    {
     "name": "stderr",
     "output_type": "stream",
     "text": [
      "oisst-avhrr-v02r01.19920708.nc: 100%|██████████| 1.65M/1.65M [00:00<00:00, 2.20MB/s]\n"
     ]
    },
    {
     "name": "stdout",
     "output_type": "stream",
     "text": [
      "Downloading: https://www.ncei.noaa.gov/data/sea-surface-temperature-optimum-interpolation/v2.1/access/avhrr/199207/oisst-avhrr-v02r01.19920709.nc\n"
     ]
    },
    {
     "name": "stderr",
     "output_type": "stream",
     "text": [
      "oisst-avhrr-v02r01.19920709.nc: 100%|██████████| 1.64M/1.64M [00:01<00:00, 1.39MB/s]\n"
     ]
    },
    {
     "name": "stdout",
     "output_type": "stream",
     "text": [
      "Downloading: https://www.ncei.noaa.gov/data/sea-surface-temperature-optimum-interpolation/v2.1/access/avhrr/199207/oisst-avhrr-v02r01.19920710.nc\n"
     ]
    },
    {
     "name": "stderr",
     "output_type": "stream",
     "text": [
      "oisst-avhrr-v02r01.19920710.nc: 100%|██████████| 1.64M/1.64M [00:00<00:00, 2.15MB/s]\n"
     ]
    },
    {
     "name": "stdout",
     "output_type": "stream",
     "text": [
      "Downloading: https://www.ncei.noaa.gov/data/sea-surface-temperature-optimum-interpolation/v2.1/access/avhrr/199207/oisst-avhrr-v02r01.19920711.nc\n"
     ]
    },
    {
     "name": "stderr",
     "output_type": "stream",
     "text": [
      "oisst-avhrr-v02r01.19920711.nc: 100%|██████████| 1.64M/1.64M [00:01<00:00, 1.68MB/s]\n"
     ]
    },
    {
     "name": "stdout",
     "output_type": "stream",
     "text": [
      "Downloading: https://www.ncei.noaa.gov/data/sea-surface-temperature-optimum-interpolation/v2.1/access/avhrr/199207/oisst-avhrr-v02r01.19920712.nc\n"
     ]
    },
    {
     "name": "stderr",
     "output_type": "stream",
     "text": [
      "oisst-avhrr-v02r01.19920712.nc: 100%|██████████| 1.64M/1.64M [00:02<00:00, 858kB/s] \n"
     ]
    },
    {
     "name": "stdout",
     "output_type": "stream",
     "text": [
      "Downloading: https://www.ncei.noaa.gov/data/sea-surface-temperature-optimum-interpolation/v2.1/access/avhrr/199207/oisst-avhrr-v02r01.19920713.nc\n"
     ]
    },
    {
     "name": "stderr",
     "output_type": "stream",
     "text": [
      "oisst-avhrr-v02r01.19920713.nc: 100%|██████████| 1.64M/1.64M [00:00<00:00, 2.11MB/s]\n"
     ]
    },
    {
     "name": "stdout",
     "output_type": "stream",
     "text": [
      "Downloading: https://www.ncei.noaa.gov/data/sea-surface-temperature-optimum-interpolation/v2.1/access/avhrr/199207/oisst-avhrr-v02r01.19920714.nc\n"
     ]
    },
    {
     "name": "stderr",
     "output_type": "stream",
     "text": [
      "oisst-avhrr-v02r01.19920714.nc: 100%|██████████| 1.65M/1.65M [00:00<00:00, 2.14MB/s]\n"
     ]
    },
    {
     "name": "stdout",
     "output_type": "stream",
     "text": [
      "Downloading: https://www.ncei.noaa.gov/data/sea-surface-temperature-optimum-interpolation/v2.1/access/avhrr/199207/oisst-avhrr-v02r01.19920715.nc\n"
     ]
    },
    {
     "name": "stderr",
     "output_type": "stream",
     "text": [
      "oisst-avhrr-v02r01.19920715.nc: 100%|██████████| 1.65M/1.65M [00:00<00:00, 2.15MB/s]\n"
     ]
    },
    {
     "name": "stdout",
     "output_type": "stream",
     "text": [
      "Downloading: https://www.ncei.noaa.gov/data/sea-surface-temperature-optimum-interpolation/v2.1/access/avhrr/199207/oisst-avhrr-v02r01.19920716.nc\n"
     ]
    },
    {
     "name": "stderr",
     "output_type": "stream",
     "text": [
      "oisst-avhrr-v02r01.19920716.nc: 100%|██████████| 1.65M/1.65M [00:00<00:00, 2.14MB/s]\n"
     ]
    },
    {
     "name": "stdout",
     "output_type": "stream",
     "text": [
      "Downloading: https://www.ncei.noaa.gov/data/sea-surface-temperature-optimum-interpolation/v2.1/access/avhrr/199207/oisst-avhrr-v02r01.19920717.nc\n"
     ]
    },
    {
     "name": "stderr",
     "output_type": "stream",
     "text": [
      "oisst-avhrr-v02r01.19920717.nc: 100%|██████████| 1.64M/1.64M [00:00<00:00, 2.19MB/s]\n"
     ]
    },
    {
     "name": "stdout",
     "output_type": "stream",
     "text": [
      "Downloading: https://www.ncei.noaa.gov/data/sea-surface-temperature-optimum-interpolation/v2.1/access/avhrr/199207/oisst-avhrr-v02r01.19920718.nc\n"
     ]
    },
    {
     "name": "stderr",
     "output_type": "stream",
     "text": [
      "oisst-avhrr-v02r01.19920718.nc: 100%|██████████| 1.64M/1.64M [00:00<00:00, 2.19MB/s]\n"
     ]
    },
    {
     "name": "stdout",
     "output_type": "stream",
     "text": [
      "Downloading: https://www.ncei.noaa.gov/data/sea-surface-temperature-optimum-interpolation/v2.1/access/avhrr/199207/oisst-avhrr-v02r01.19920719.nc\n"
     ]
    },
    {
     "name": "stderr",
     "output_type": "stream",
     "text": [
      "oisst-avhrr-v02r01.19920719.nc: 100%|██████████| 1.64M/1.64M [00:01<00:00, 1.27MB/s]\n"
     ]
    },
    {
     "name": "stdout",
     "output_type": "stream",
     "text": [
      "Downloading: https://www.ncei.noaa.gov/data/sea-surface-temperature-optimum-interpolation/v2.1/access/avhrr/199207/oisst-avhrr-v02r01.19920720.nc\n"
     ]
    },
    {
     "name": "stderr",
     "output_type": "stream",
     "text": [
      "oisst-avhrr-v02r01.19920720.nc: 100%|██████████| 1.64M/1.64M [00:00<00:00, 2.20MB/s]\n"
     ]
    },
    {
     "name": "stdout",
     "output_type": "stream",
     "text": [
      "Downloading: https://www.ncei.noaa.gov/data/sea-surface-temperature-optimum-interpolation/v2.1/access/avhrr/199207/oisst-avhrr-v02r01.19920721.nc\n"
     ]
    },
    {
     "name": "stderr",
     "output_type": "stream",
     "text": [
      "oisst-avhrr-v02r01.19920721.nc: 100%|██████████| 1.64M/1.64M [00:00<00:00, 2.10MB/s]\n"
     ]
    },
    {
     "name": "stdout",
     "output_type": "stream",
     "text": [
      "Downloading: https://www.ncei.noaa.gov/data/sea-surface-temperature-optimum-interpolation/v2.1/access/avhrr/199207/oisst-avhrr-v02r01.19920722.nc\n"
     ]
    },
    {
     "name": "stderr",
     "output_type": "stream",
     "text": [
      "oisst-avhrr-v02r01.19920722.nc: 100%|██████████| 1.64M/1.64M [00:00<00:00, 2.14MB/s]\n"
     ]
    },
    {
     "name": "stdout",
     "output_type": "stream",
     "text": [
      "Downloading: https://www.ncei.noaa.gov/data/sea-surface-temperature-optimum-interpolation/v2.1/access/avhrr/199207/oisst-avhrr-v02r01.19920723.nc\n"
     ]
    },
    {
     "name": "stderr",
     "output_type": "stream",
     "text": [
      "oisst-avhrr-v02r01.19920723.nc: 100%|██████████| 1.64M/1.64M [00:00<00:00, 2.11MB/s]\n"
     ]
    },
    {
     "name": "stdout",
     "output_type": "stream",
     "text": [
      "Downloading: https://www.ncei.noaa.gov/data/sea-surface-temperature-optimum-interpolation/v2.1/access/avhrr/199207/oisst-avhrr-v02r01.19920724.nc\n"
     ]
    },
    {
     "name": "stderr",
     "output_type": "stream",
     "text": [
      "oisst-avhrr-v02r01.19920724.nc: 100%|██████████| 1.64M/1.64M [00:00<00:00, 2.18MB/s]\n"
     ]
    },
    {
     "name": "stdout",
     "output_type": "stream",
     "text": [
      "Downloading: https://www.ncei.noaa.gov/data/sea-surface-temperature-optimum-interpolation/v2.1/access/avhrr/199207/oisst-avhrr-v02r01.19920725.nc\n"
     ]
    },
    {
     "name": "stderr",
     "output_type": "stream",
     "text": [
      "oisst-avhrr-v02r01.19920725.nc: 100%|██████████| 1.64M/1.64M [00:00<00:00, 2.15MB/s]\n"
     ]
    },
    {
     "name": "stdout",
     "output_type": "stream",
     "text": [
      "Downloading: https://www.ncei.noaa.gov/data/sea-surface-temperature-optimum-interpolation/v2.1/access/avhrr/199207/oisst-avhrr-v02r01.19920726.nc\n"
     ]
    },
    {
     "name": "stderr",
     "output_type": "stream",
     "text": [
      "oisst-avhrr-v02r01.19920726.nc: 100%|██████████| 1.64M/1.64M [00:00<00:00, 1.85MB/s]\n"
     ]
    },
    {
     "name": "stdout",
     "output_type": "stream",
     "text": [
      "Downloading: https://www.ncei.noaa.gov/data/sea-surface-temperature-optimum-interpolation/v2.1/access/avhrr/199207/oisst-avhrr-v02r01.19920727.nc\n"
     ]
    },
    {
     "name": "stderr",
     "output_type": "stream",
     "text": [
      "oisst-avhrr-v02r01.19920727.nc: 100%|██████████| 1.64M/1.64M [00:00<00:00, 5.32MB/s]\n"
     ]
    },
    {
     "name": "stdout",
     "output_type": "stream",
     "text": [
      "Downloading: https://www.ncei.noaa.gov/data/sea-surface-temperature-optimum-interpolation/v2.1/access/avhrr/199207/oisst-avhrr-v02r01.19920728.nc\n"
     ]
    },
    {
     "name": "stderr",
     "output_type": "stream",
     "text": [
      "oisst-avhrr-v02r01.19920728.nc: 100%|██████████| 1.64M/1.64M [00:00<00:00, 1.90MB/s]\n"
     ]
    },
    {
     "name": "stdout",
     "output_type": "stream",
     "text": [
      "Downloading: https://www.ncei.noaa.gov/data/sea-surface-temperature-optimum-interpolation/v2.1/access/avhrr/199207/oisst-avhrr-v02r01.19920729.nc\n"
     ]
    },
    {
     "name": "stderr",
     "output_type": "stream",
     "text": [
      "oisst-avhrr-v02r01.19920729.nc: 100%|██████████| 1.64M/1.64M [00:00<00:00, 2.18MB/s]\n"
     ]
    },
    {
     "name": "stdout",
     "output_type": "stream",
     "text": [
      "Downloading: https://www.ncei.noaa.gov/data/sea-surface-temperature-optimum-interpolation/v2.1/access/avhrr/199207/oisst-avhrr-v02r01.19920730.nc\n"
     ]
    },
    {
     "name": "stderr",
     "output_type": "stream",
     "text": [
      "oisst-avhrr-v02r01.19920730.nc: 100%|██████████| 1.64M/1.64M [00:00<00:00, 2.15MB/s]\n"
     ]
    },
    {
     "name": "stdout",
     "output_type": "stream",
     "text": [
      "Downloading: https://www.ncei.noaa.gov/data/sea-surface-temperature-optimum-interpolation/v2.1/access/avhrr/199207/oisst-avhrr-v02r01.19920731.nc\n"
     ]
    },
    {
     "name": "stderr",
     "output_type": "stream",
     "text": [
      "oisst-avhrr-v02r01.19920731.nc: 100%|██████████| 1.64M/1.64M [00:00<00:00, 2.20MB/s]\n"
     ]
    },
    {
     "name": "stdout",
     "output_type": "stream",
     "text": [
      "Processing: https://www.ncei.noaa.gov/data/sea-surface-temperature-optimum-interpolation/v2.1/access/avhrr/199208/\n",
      "Downloading: https://www.ncei.noaa.gov/data/sea-surface-temperature-optimum-interpolation/v2.1/access/avhrr/199208/oisst-avhrr-v02r01.19920801.nc\n"
     ]
    },
    {
     "name": "stderr",
     "output_type": "stream",
     "text": [
      "oisst-avhrr-v02r01.19920801.nc: 100%|██████████| 1.64M/1.64M [00:00<00:00, 2.14MB/s]\n"
     ]
    },
    {
     "name": "stdout",
     "output_type": "stream",
     "text": [
      "Downloading: https://www.ncei.noaa.gov/data/sea-surface-temperature-optimum-interpolation/v2.1/access/avhrr/199208/oisst-avhrr-v02r01.19920802.nc\n"
     ]
    },
    {
     "name": "stderr",
     "output_type": "stream",
     "text": [
      "oisst-avhrr-v02r01.19920802.nc: 100%|██████████| 1.64M/1.64M [00:00<00:00, 2.13MB/s]\n"
     ]
    },
    {
     "name": "stdout",
     "output_type": "stream",
     "text": [
      "Downloading: https://www.ncei.noaa.gov/data/sea-surface-temperature-optimum-interpolation/v2.1/access/avhrr/199208/oisst-avhrr-v02r01.19920803.nc\n"
     ]
    },
    {
     "name": "stderr",
     "output_type": "stream",
     "text": [
      "oisst-avhrr-v02r01.19920803.nc: 100%|██████████| 1.64M/1.64M [00:00<00:00, 2.13MB/s]\n"
     ]
    },
    {
     "name": "stdout",
     "output_type": "stream",
     "text": [
      "Downloading: https://www.ncei.noaa.gov/data/sea-surface-temperature-optimum-interpolation/v2.1/access/avhrr/199208/oisst-avhrr-v02r01.19920804.nc\n"
     ]
    },
    {
     "name": "stderr",
     "output_type": "stream",
     "text": [
      "oisst-avhrr-v02r01.19920804.nc: 100%|██████████| 1.64M/1.64M [00:00<00:00, 2.23MB/s]\n"
     ]
    },
    {
     "name": "stdout",
     "output_type": "stream",
     "text": [
      "Downloading: https://www.ncei.noaa.gov/data/sea-surface-temperature-optimum-interpolation/v2.1/access/avhrr/199208/oisst-avhrr-v02r01.19920805.nc\n"
     ]
    },
    {
     "name": "stderr",
     "output_type": "stream",
     "text": [
      "oisst-avhrr-v02r01.19920805.nc: 100%|██████████| 1.64M/1.64M [00:00<00:00, 2.17MB/s]\n"
     ]
    },
    {
     "name": "stdout",
     "output_type": "stream",
     "text": [
      "Downloading: https://www.ncei.noaa.gov/data/sea-surface-temperature-optimum-interpolation/v2.1/access/avhrr/199208/oisst-avhrr-v02r01.19920806.nc\n"
     ]
    },
    {
     "name": "stderr",
     "output_type": "stream",
     "text": [
      "oisst-avhrr-v02r01.19920806.nc: 100%|██████████| 1.64M/1.64M [00:06<00:00, 274kB/s]\n"
     ]
    },
    {
     "name": "stdout",
     "output_type": "stream",
     "text": [
      "Downloading: https://www.ncei.noaa.gov/data/sea-surface-temperature-optimum-interpolation/v2.1/access/avhrr/199208/oisst-avhrr-v02r01.19920807.nc\n"
     ]
    },
    {
     "name": "stderr",
     "output_type": "stream",
     "text": [
      "oisst-avhrr-v02r01.19920807.nc: 100%|██████████| 1.63M/1.63M [00:00<00:00, 2.17MB/s]\n"
     ]
    },
    {
     "name": "stdout",
     "output_type": "stream",
     "text": [
      "Downloading: https://www.ncei.noaa.gov/data/sea-surface-temperature-optimum-interpolation/v2.1/access/avhrr/199208/oisst-avhrr-v02r01.19920808.nc\n"
     ]
    },
    {
     "name": "stderr",
     "output_type": "stream",
     "text": [
      "oisst-avhrr-v02r01.19920808.nc: 100%|██████████| 1.63M/1.63M [00:00<00:00, 2.14MB/s]\n"
     ]
    },
    {
     "name": "stdout",
     "output_type": "stream",
     "text": [
      "Downloading: https://www.ncei.noaa.gov/data/sea-surface-temperature-optimum-interpolation/v2.1/access/avhrr/199208/oisst-avhrr-v02r01.19920809.nc\n"
     ]
    },
    {
     "name": "stderr",
     "output_type": "stream",
     "text": [
      "oisst-avhrr-v02r01.19920809.nc: 100%|██████████| 1.63M/1.63M [00:01<00:00, 964kB/s]\n"
     ]
    },
    {
     "name": "stdout",
     "output_type": "stream",
     "text": [
      "Downloading: https://www.ncei.noaa.gov/data/sea-surface-temperature-optimum-interpolation/v2.1/access/avhrr/199208/oisst-avhrr-v02r01.19920810.nc\n"
     ]
    },
    {
     "name": "stderr",
     "output_type": "stream",
     "text": [
      "oisst-avhrr-v02r01.19920810.nc: 100%|██████████| 1.63M/1.63M [00:00<00:00, 2.21MB/s]\n"
     ]
    },
    {
     "name": "stdout",
     "output_type": "stream",
     "text": [
      "Downloading: https://www.ncei.noaa.gov/data/sea-surface-temperature-optimum-interpolation/v2.1/access/avhrr/199208/oisst-avhrr-v02r01.19920811.nc\n"
     ]
    },
    {
     "name": "stderr",
     "output_type": "stream",
     "text": [
      "oisst-avhrr-v02r01.19920811.nc: 100%|██████████| 1.63M/1.63M [00:00<00:00, 2.25MB/s]\n"
     ]
    },
    {
     "name": "stdout",
     "output_type": "stream",
     "text": [
      "Downloading: https://www.ncei.noaa.gov/data/sea-surface-temperature-optimum-interpolation/v2.1/access/avhrr/199208/oisst-avhrr-v02r01.19920812.nc\n"
     ]
    },
    {
     "name": "stderr",
     "output_type": "stream",
     "text": [
      "oisst-avhrr-v02r01.19920812.nc: 100%|██████████| 1.63M/1.63M [00:00<00:00, 2.12MB/s]\n"
     ]
    },
    {
     "name": "stdout",
     "output_type": "stream",
     "text": [
      "Downloading: https://www.ncei.noaa.gov/data/sea-surface-temperature-optimum-interpolation/v2.1/access/avhrr/199208/oisst-avhrr-v02r01.19920813.nc\n"
     ]
    },
    {
     "name": "stderr",
     "output_type": "stream",
     "text": [
      "oisst-avhrr-v02r01.19920813.nc: 100%|██████████| 1.63M/1.63M [00:00<00:00, 2.12MB/s]\n"
     ]
    },
    {
     "name": "stdout",
     "output_type": "stream",
     "text": [
      "Downloading: https://www.ncei.noaa.gov/data/sea-surface-temperature-optimum-interpolation/v2.1/access/avhrr/199208/oisst-avhrr-v02r01.19920814.nc\n"
     ]
    },
    {
     "name": "stderr",
     "output_type": "stream",
     "text": [
      "oisst-avhrr-v02r01.19920814.nc: 100%|██████████| 1.63M/1.63M [00:00<00:00, 2.15MB/s]\n"
     ]
    },
    {
     "name": "stdout",
     "output_type": "stream",
     "text": [
      "Downloading: https://www.ncei.noaa.gov/data/sea-surface-temperature-optimum-interpolation/v2.1/access/avhrr/199208/oisst-avhrr-v02r01.19920815.nc\n"
     ]
    },
    {
     "name": "stderr",
     "output_type": "stream",
     "text": [
      "oisst-avhrr-v02r01.19920815.nc: 100%|██████████| 1.63M/1.63M [00:00<00:00, 2.13MB/s]\n"
     ]
    },
    {
     "name": "stdout",
     "output_type": "stream",
     "text": [
      "Downloading: https://www.ncei.noaa.gov/data/sea-surface-temperature-optimum-interpolation/v2.1/access/avhrr/199208/oisst-avhrr-v02r01.19920816.nc\n"
     ]
    },
    {
     "name": "stderr",
     "output_type": "stream",
     "text": [
      "oisst-avhrr-v02r01.19920816.nc: 100%|██████████| 1.63M/1.63M [00:00<00:00, 1.97MB/s]\n"
     ]
    },
    {
     "name": "stdout",
     "output_type": "stream",
     "text": [
      "Downloading: https://www.ncei.noaa.gov/data/sea-surface-temperature-optimum-interpolation/v2.1/access/avhrr/199208/oisst-avhrr-v02r01.19920817.nc\n"
     ]
    },
    {
     "name": "stderr",
     "output_type": "stream",
     "text": [
      "oisst-avhrr-v02r01.19920817.nc: 100%|██████████| 1.63M/1.63M [00:00<00:00, 2.16MB/s]\n"
     ]
    },
    {
     "name": "stdout",
     "output_type": "stream",
     "text": [
      "Downloading: https://www.ncei.noaa.gov/data/sea-surface-temperature-optimum-interpolation/v2.1/access/avhrr/199208/oisst-avhrr-v02r01.19920818.nc\n"
     ]
    },
    {
     "name": "stderr",
     "output_type": "stream",
     "text": [
      "oisst-avhrr-v02r01.19920818.nc: 100%|██████████| 1.64M/1.64M [00:00<00:00, 2.21MB/s]\n"
     ]
    },
    {
     "name": "stdout",
     "output_type": "stream",
     "text": [
      "Downloading: https://www.ncei.noaa.gov/data/sea-surface-temperature-optimum-interpolation/v2.1/access/avhrr/199208/oisst-avhrr-v02r01.19920819.nc\n"
     ]
    },
    {
     "name": "stderr",
     "output_type": "stream",
     "text": [
      "oisst-avhrr-v02r01.19920819.nc: 100%|██████████| 1.64M/1.64M [00:00<00:00, 2.13MB/s]\n"
     ]
    },
    {
     "name": "stdout",
     "output_type": "stream",
     "text": [
      "Downloading: https://www.ncei.noaa.gov/data/sea-surface-temperature-optimum-interpolation/v2.1/access/avhrr/199208/oisst-avhrr-v02r01.19920820.nc\n"
     ]
    },
    {
     "name": "stderr",
     "output_type": "stream",
     "text": [
      "oisst-avhrr-v02r01.19920820.nc: 100%|██████████| 1.64M/1.64M [00:00<00:00, 2.13MB/s]\n"
     ]
    },
    {
     "name": "stdout",
     "output_type": "stream",
     "text": [
      "Downloading: https://www.ncei.noaa.gov/data/sea-surface-temperature-optimum-interpolation/v2.1/access/avhrr/199208/oisst-avhrr-v02r01.19920821.nc\n"
     ]
    },
    {
     "name": "stderr",
     "output_type": "stream",
     "text": [
      "oisst-avhrr-v02r01.19920821.nc: 100%|██████████| 1.64M/1.64M [00:03<00:00, 438kB/s] \n"
     ]
    },
    {
     "name": "stdout",
     "output_type": "stream",
     "text": [
      "Downloading: https://www.ncei.noaa.gov/data/sea-surface-temperature-optimum-interpolation/v2.1/access/avhrr/199208/oisst-avhrr-v02r01.19920822.nc\n"
     ]
    },
    {
     "name": "stderr",
     "output_type": "stream",
     "text": [
      "oisst-avhrr-v02r01.19920822.nc: 100%|██████████| 1.64M/1.64M [00:00<00:00, 2.18MB/s]\n"
     ]
    },
    {
     "name": "stdout",
     "output_type": "stream",
     "text": [
      "Downloading: https://www.ncei.noaa.gov/data/sea-surface-temperature-optimum-interpolation/v2.1/access/avhrr/199208/oisst-avhrr-v02r01.19920823.nc\n"
     ]
    },
    {
     "name": "stderr",
     "output_type": "stream",
     "text": [
      "oisst-avhrr-v02r01.19920823.nc: 100%|██████████| 1.64M/1.64M [00:00<00:00, 2.14MB/s]\n"
     ]
    },
    {
     "name": "stdout",
     "output_type": "stream",
     "text": [
      "Downloading: https://www.ncei.noaa.gov/data/sea-surface-temperature-optimum-interpolation/v2.1/access/avhrr/199208/oisst-avhrr-v02r01.19920824.nc\n"
     ]
    },
    {
     "name": "stderr",
     "output_type": "stream",
     "text": [
      "oisst-avhrr-v02r01.19920824.nc: 100%|██████████| 1.64M/1.64M [00:00<00:00, 2.14MB/s]\n"
     ]
    },
    {
     "name": "stdout",
     "output_type": "stream",
     "text": [
      "Downloading: https://www.ncei.noaa.gov/data/sea-surface-temperature-optimum-interpolation/v2.1/access/avhrr/199208/oisst-avhrr-v02r01.19920825.nc\n"
     ]
    },
    {
     "name": "stderr",
     "output_type": "stream",
     "text": [
      "oisst-avhrr-v02r01.19920825.nc: 100%|██████████| 1.64M/1.64M [00:00<00:00, 2.19MB/s]\n"
     ]
    },
    {
     "name": "stdout",
     "output_type": "stream",
     "text": [
      "Downloading: https://www.ncei.noaa.gov/data/sea-surface-temperature-optimum-interpolation/v2.1/access/avhrr/199208/oisst-avhrr-v02r01.19920826.nc\n"
     ]
    },
    {
     "name": "stderr",
     "output_type": "stream",
     "text": [
      "oisst-avhrr-v02r01.19920826.nc: 100%|██████████| 1.64M/1.64M [00:00<00:00, 2.20MB/s]\n"
     ]
    },
    {
     "name": "stdout",
     "output_type": "stream",
     "text": [
      "Downloading: https://www.ncei.noaa.gov/data/sea-surface-temperature-optimum-interpolation/v2.1/access/avhrr/199208/oisst-avhrr-v02r01.19920827.nc\n"
     ]
    },
    {
     "name": "stderr",
     "output_type": "stream",
     "text": [
      "oisst-avhrr-v02r01.19920827.nc: 100%|██████████| 1.64M/1.64M [00:00<00:00, 2.19MB/s]\n"
     ]
    },
    {
     "name": "stdout",
     "output_type": "stream",
     "text": [
      "Downloading: https://www.ncei.noaa.gov/data/sea-surface-temperature-optimum-interpolation/v2.1/access/avhrr/199208/oisst-avhrr-v02r01.19920828.nc\n"
     ]
    },
    {
     "name": "stderr",
     "output_type": "stream",
     "text": [
      "oisst-avhrr-v02r01.19920828.nc: 100%|██████████| 1.64M/1.64M [00:00<00:00, 2.14MB/s]\n"
     ]
    },
    {
     "name": "stdout",
     "output_type": "stream",
     "text": [
      "Downloading: https://www.ncei.noaa.gov/data/sea-surface-temperature-optimum-interpolation/v2.1/access/avhrr/199208/oisst-avhrr-v02r01.19920829.nc\n"
     ]
    },
    {
     "name": "stderr",
     "output_type": "stream",
     "text": [
      "oisst-avhrr-v02r01.19920829.nc: 100%|██████████| 1.64M/1.64M [00:00<00:00, 2.14MB/s]\n"
     ]
    },
    {
     "name": "stdout",
     "output_type": "stream",
     "text": [
      "Downloading: https://www.ncei.noaa.gov/data/sea-surface-temperature-optimum-interpolation/v2.1/access/avhrr/199208/oisst-avhrr-v02r01.19920830.nc\n"
     ]
    },
    {
     "name": "stderr",
     "output_type": "stream",
     "text": [
      "oisst-avhrr-v02r01.19920830.nc: 100%|██████████| 1.64M/1.64M [00:00<00:00, 2.19MB/s]\n"
     ]
    },
    {
     "name": "stdout",
     "output_type": "stream",
     "text": [
      "Downloading: https://www.ncei.noaa.gov/data/sea-surface-temperature-optimum-interpolation/v2.1/access/avhrr/199208/oisst-avhrr-v02r01.19920831.nc\n"
     ]
    },
    {
     "name": "stderr",
     "output_type": "stream",
     "text": [
      "oisst-avhrr-v02r01.19920831.nc:   5%|▌         | 88.0k/1.64M [2:26:59<44:11:23, 10.2B/s]\n"
     ]
    },
    {
     "ename": "KeyboardInterrupt",
     "evalue": "",
     "output_type": "error",
     "traceback": [
      "\u001b[0;31m---------------------------------------------------------------------------\u001b[0m",
      "\u001b[0;31mKeyboardInterrupt\u001b[0m                         Traceback (most recent call last)",
      "Cell \u001b[0;32mIn[8], line 31\u001b[0m\n\u001b[1;32m     29\u001b[0m \u001b[38;5;28;01mif\u001b[39;00m \u001b[38;5;129;01mnot\u001b[39;00m os\u001b[38;5;241m.\u001b[39mpath\u001b[38;5;241m.\u001b[39mexists(save_path):\n\u001b[1;32m     30\u001b[0m     \u001b[38;5;28mprint\u001b[39m(\u001b[38;5;124mf\u001b[39m\u001b[38;5;124m\"\u001b[39m\u001b[38;5;124mDownloading: \u001b[39m\u001b[38;5;132;01m{\u001b[39;00mfile_url\u001b[38;5;132;01m}\u001b[39;00m\u001b[38;5;124m\"\u001b[39m)\n\u001b[0;32m---> 31\u001b[0m     \u001b[43mdownload_file\u001b[49m\u001b[43m(\u001b[49m\u001b[43mfile_url\u001b[49m\u001b[43m,\u001b[49m\u001b[43m \u001b[49m\u001b[43msave_path\u001b[49m\u001b[43m)\u001b[49m\n\u001b[1;32m     32\u001b[0m \u001b[38;5;28;01melse\u001b[39;00m:\n\u001b[1;32m     33\u001b[0m     \u001b[38;5;28mprint\u001b[39m(\u001b[38;5;124mf\u001b[39m\u001b[38;5;124m\"\u001b[39m\u001b[38;5;124mAlready downloaded: \u001b[39m\u001b[38;5;132;01m{\u001b[39;00mfile\u001b[38;5;132;01m}\u001b[39;00m\u001b[38;5;124m\"\u001b[39m)\n",
      "Cell \u001b[0;32mIn[6], line 14\u001b[0m, in \u001b[0;36mdownload_file\u001b[0;34m(url, save_path)\u001b[0m\n\u001b[1;32m      6\u001b[0m total_size \u001b[38;5;241m=\u001b[39m \u001b[38;5;28mint\u001b[39m(response\u001b[38;5;241m.\u001b[39mheaders\u001b[38;5;241m.\u001b[39mget(\u001b[38;5;124m\"\u001b[39m\u001b[38;5;124mcontent-length\u001b[39m\u001b[38;5;124m\"\u001b[39m, \u001b[38;5;241m0\u001b[39m))\n\u001b[1;32m      7\u001b[0m \u001b[38;5;28;01mwith\u001b[39;00m \u001b[38;5;28mopen\u001b[39m(save_path, \u001b[38;5;124m\"\u001b[39m\u001b[38;5;124mwb\u001b[39m\u001b[38;5;124m\"\u001b[39m) \u001b[38;5;28;01mas\u001b[39;00m file, tqdm(\n\u001b[1;32m      8\u001b[0m     desc\u001b[38;5;241m=\u001b[39mos\u001b[38;5;241m.\u001b[39mpath\u001b[38;5;241m.\u001b[39mbasename(save_path),\n\u001b[1;32m      9\u001b[0m     total\u001b[38;5;241m=\u001b[39mtotal_size,\n\u001b[0;32m   (...)\u001b[0m\n\u001b[1;32m     12\u001b[0m     unit_divisor\u001b[38;5;241m=\u001b[39m\u001b[38;5;241m1024\u001b[39m,\n\u001b[1;32m     13\u001b[0m ) \u001b[38;5;28;01mas\u001b[39;00m bar:\n\u001b[0;32m---> 14\u001b[0m \u001b[43m    \u001b[49m\u001b[38;5;28;43;01mfor\u001b[39;49;00m\u001b[43m \u001b[49m\u001b[43mchunk\u001b[49m\u001b[43m \u001b[49m\u001b[38;5;129;43;01min\u001b[39;49;00m\u001b[43m \u001b[49m\u001b[43mresponse\u001b[49m\u001b[38;5;241;43m.\u001b[39;49m\u001b[43miter_content\u001b[49m\u001b[43m(\u001b[49m\u001b[43mchunk_size\u001b[49m\u001b[38;5;241;43m=\u001b[39;49m\u001b[38;5;241;43m8192\u001b[39;49m\u001b[43m)\u001b[49m\u001b[43m:\u001b[49m\n\u001b[1;32m     15\u001b[0m \u001b[43m        \u001b[49m\u001b[43mfile\u001b[49m\u001b[38;5;241;43m.\u001b[39;49m\u001b[43mwrite\u001b[49m\u001b[43m(\u001b[49m\u001b[43mchunk\u001b[49m\u001b[43m)\u001b[49m\n\u001b[1;32m     16\u001b[0m \u001b[43m        \u001b[49m\u001b[43mbar\u001b[49m\u001b[38;5;241;43m.\u001b[39;49m\u001b[43mupdate\u001b[49m\u001b[43m(\u001b[49m\u001b[38;5;28;43mlen\u001b[39;49m\u001b[43m(\u001b[49m\u001b[43mchunk\u001b[49m\u001b[43m)\u001b[49m\u001b[43m)\u001b[49m\n",
      "File \u001b[0;32m~/.pyenv/versions/3.11.5/lib/python3.11/site-packages/requests/models.py:820\u001b[0m, in \u001b[0;36mResponse.iter_content.<locals>.generate\u001b[0;34m()\u001b[0m\n\u001b[1;32m    818\u001b[0m \u001b[38;5;28;01mif\u001b[39;00m \u001b[38;5;28mhasattr\u001b[39m(\u001b[38;5;28mself\u001b[39m\u001b[38;5;241m.\u001b[39mraw, \u001b[38;5;124m\"\u001b[39m\u001b[38;5;124mstream\u001b[39m\u001b[38;5;124m\"\u001b[39m):\n\u001b[1;32m    819\u001b[0m     \u001b[38;5;28;01mtry\u001b[39;00m:\n\u001b[0;32m--> 820\u001b[0m         \u001b[38;5;28;01myield from\u001b[39;00m \u001b[38;5;28mself\u001b[39m\u001b[38;5;241m.\u001b[39mraw\u001b[38;5;241m.\u001b[39mstream(chunk_size, decode_content\u001b[38;5;241m=\u001b[39m\u001b[38;5;28;01mTrue\u001b[39;00m)\n\u001b[1;32m    821\u001b[0m     \u001b[38;5;28;01mexcept\u001b[39;00m ProtocolError \u001b[38;5;28;01mas\u001b[39;00m e:\n\u001b[1;32m    822\u001b[0m         \u001b[38;5;28;01mraise\u001b[39;00m ChunkedEncodingError(e)\n",
      "File \u001b[0;32m~/.pyenv/versions/3.11.5/lib/python3.11/site-packages/urllib3/response.py:1066\u001b[0m, in \u001b[0;36mHTTPResponse.stream\u001b[0;34m(self, amt, decode_content)\u001b[0m\n\u001b[1;32m   1064\u001b[0m \u001b[38;5;28;01melse\u001b[39;00m:\n\u001b[1;32m   1065\u001b[0m     \u001b[38;5;28;01mwhile\u001b[39;00m \u001b[38;5;129;01mnot\u001b[39;00m is_fp_closed(\u001b[38;5;28mself\u001b[39m\u001b[38;5;241m.\u001b[39m_fp) \u001b[38;5;129;01mor\u001b[39;00m \u001b[38;5;28mlen\u001b[39m(\u001b[38;5;28mself\u001b[39m\u001b[38;5;241m.\u001b[39m_decoded_buffer) \u001b[38;5;241m>\u001b[39m \u001b[38;5;241m0\u001b[39m:\n\u001b[0;32m-> 1066\u001b[0m         data \u001b[38;5;241m=\u001b[39m \u001b[38;5;28;43mself\u001b[39;49m\u001b[38;5;241;43m.\u001b[39;49m\u001b[43mread\u001b[49m\u001b[43m(\u001b[49m\u001b[43mamt\u001b[49m\u001b[38;5;241;43m=\u001b[39;49m\u001b[43mamt\u001b[49m\u001b[43m,\u001b[49m\u001b[43m \u001b[49m\u001b[43mdecode_content\u001b[49m\u001b[38;5;241;43m=\u001b[39;49m\u001b[43mdecode_content\u001b[49m\u001b[43m)\u001b[49m\n\u001b[1;32m   1068\u001b[0m         \u001b[38;5;28;01mif\u001b[39;00m data:\n\u001b[1;32m   1069\u001b[0m             \u001b[38;5;28;01myield\u001b[39;00m data\n",
      "File \u001b[0;32m~/.pyenv/versions/3.11.5/lib/python3.11/site-packages/urllib3/response.py:955\u001b[0m, in \u001b[0;36mHTTPResponse.read\u001b[0;34m(self, amt, decode_content, cache_content)\u001b[0m\n\u001b[1;32m    952\u001b[0m     \u001b[38;5;28;01mif\u001b[39;00m \u001b[38;5;28mlen\u001b[39m(\u001b[38;5;28mself\u001b[39m\u001b[38;5;241m.\u001b[39m_decoded_buffer) \u001b[38;5;241m>\u001b[39m\u001b[38;5;241m=\u001b[39m amt:\n\u001b[1;32m    953\u001b[0m         \u001b[38;5;28;01mreturn\u001b[39;00m \u001b[38;5;28mself\u001b[39m\u001b[38;5;241m.\u001b[39m_decoded_buffer\u001b[38;5;241m.\u001b[39mget(amt)\n\u001b[0;32m--> 955\u001b[0m data \u001b[38;5;241m=\u001b[39m \u001b[38;5;28;43mself\u001b[39;49m\u001b[38;5;241;43m.\u001b[39;49m\u001b[43m_raw_read\u001b[49m\u001b[43m(\u001b[49m\u001b[43mamt\u001b[49m\u001b[43m)\u001b[49m\n\u001b[1;32m    957\u001b[0m flush_decoder \u001b[38;5;241m=\u001b[39m amt \u001b[38;5;129;01mis\u001b[39;00m \u001b[38;5;28;01mNone\u001b[39;00m \u001b[38;5;129;01mor\u001b[39;00m (amt \u001b[38;5;241m!=\u001b[39m \u001b[38;5;241m0\u001b[39m \u001b[38;5;129;01mand\u001b[39;00m \u001b[38;5;129;01mnot\u001b[39;00m data)\n\u001b[1;32m    959\u001b[0m \u001b[38;5;28;01mif\u001b[39;00m \u001b[38;5;129;01mnot\u001b[39;00m data \u001b[38;5;129;01mand\u001b[39;00m \u001b[38;5;28mlen\u001b[39m(\u001b[38;5;28mself\u001b[39m\u001b[38;5;241m.\u001b[39m_decoded_buffer) \u001b[38;5;241m==\u001b[39m \u001b[38;5;241m0\u001b[39m:\n",
      "File \u001b[0;32m~/.pyenv/versions/3.11.5/lib/python3.11/site-packages/urllib3/response.py:879\u001b[0m, in \u001b[0;36mHTTPResponse._raw_read\u001b[0;34m(self, amt, read1)\u001b[0m\n\u001b[1;32m    876\u001b[0m fp_closed \u001b[38;5;241m=\u001b[39m \u001b[38;5;28mgetattr\u001b[39m(\u001b[38;5;28mself\u001b[39m\u001b[38;5;241m.\u001b[39m_fp, \u001b[38;5;124m\"\u001b[39m\u001b[38;5;124mclosed\u001b[39m\u001b[38;5;124m\"\u001b[39m, \u001b[38;5;28;01mFalse\u001b[39;00m)\n\u001b[1;32m    878\u001b[0m \u001b[38;5;28;01mwith\u001b[39;00m \u001b[38;5;28mself\u001b[39m\u001b[38;5;241m.\u001b[39m_error_catcher():\n\u001b[0;32m--> 879\u001b[0m     data \u001b[38;5;241m=\u001b[39m \u001b[38;5;28;43mself\u001b[39;49m\u001b[38;5;241;43m.\u001b[39;49m\u001b[43m_fp_read\u001b[49m\u001b[43m(\u001b[49m\u001b[43mamt\u001b[49m\u001b[43m,\u001b[49m\u001b[43m \u001b[49m\u001b[43mread1\u001b[49m\u001b[38;5;241;43m=\u001b[39;49m\u001b[43mread1\u001b[49m\u001b[43m)\u001b[49m \u001b[38;5;28;01mif\u001b[39;00m \u001b[38;5;129;01mnot\u001b[39;00m fp_closed \u001b[38;5;28;01melse\u001b[39;00m \u001b[38;5;124mb\u001b[39m\u001b[38;5;124m\"\u001b[39m\u001b[38;5;124m\"\u001b[39m\n\u001b[1;32m    880\u001b[0m     \u001b[38;5;28;01mif\u001b[39;00m amt \u001b[38;5;129;01mis\u001b[39;00m \u001b[38;5;129;01mnot\u001b[39;00m \u001b[38;5;28;01mNone\u001b[39;00m \u001b[38;5;129;01mand\u001b[39;00m amt \u001b[38;5;241m!=\u001b[39m \u001b[38;5;241m0\u001b[39m \u001b[38;5;129;01mand\u001b[39;00m \u001b[38;5;129;01mnot\u001b[39;00m data:\n\u001b[1;32m    881\u001b[0m         \u001b[38;5;66;03m# Platform-specific: Buggy versions of Python.\u001b[39;00m\n\u001b[1;32m    882\u001b[0m         \u001b[38;5;66;03m# Close the connection when no data is returned\u001b[39;00m\n\u001b[0;32m   (...)\u001b[0m\n\u001b[1;32m    887\u001b[0m         \u001b[38;5;66;03m# not properly close the connection in all cases. There is\u001b[39;00m\n\u001b[1;32m    888\u001b[0m         \u001b[38;5;66;03m# no harm in redundantly calling close.\u001b[39;00m\n\u001b[1;32m    889\u001b[0m         \u001b[38;5;28mself\u001b[39m\u001b[38;5;241m.\u001b[39m_fp\u001b[38;5;241m.\u001b[39mclose()\n",
      "File \u001b[0;32m~/.pyenv/versions/3.11.5/lib/python3.11/site-packages/urllib3/response.py:862\u001b[0m, in \u001b[0;36mHTTPResponse._fp_read\u001b[0;34m(self, amt, read1)\u001b[0m\n\u001b[1;32m    859\u001b[0m     \u001b[38;5;28;01mreturn\u001b[39;00m \u001b[38;5;28mself\u001b[39m\u001b[38;5;241m.\u001b[39m_fp\u001b[38;5;241m.\u001b[39mread1(amt) \u001b[38;5;28;01mif\u001b[39;00m amt \u001b[38;5;129;01mis\u001b[39;00m \u001b[38;5;129;01mnot\u001b[39;00m \u001b[38;5;28;01mNone\u001b[39;00m \u001b[38;5;28;01melse\u001b[39;00m \u001b[38;5;28mself\u001b[39m\u001b[38;5;241m.\u001b[39m_fp\u001b[38;5;241m.\u001b[39mread1()\n\u001b[1;32m    860\u001b[0m \u001b[38;5;28;01melse\u001b[39;00m:\n\u001b[1;32m    861\u001b[0m     \u001b[38;5;66;03m# StringIO doesn't like amt=None\u001b[39;00m\n\u001b[0;32m--> 862\u001b[0m     \u001b[38;5;28;01mreturn\u001b[39;00m \u001b[38;5;28;43mself\u001b[39;49m\u001b[38;5;241;43m.\u001b[39;49m\u001b[43m_fp\u001b[49m\u001b[38;5;241;43m.\u001b[39;49m\u001b[43mread\u001b[49m\u001b[43m(\u001b[49m\u001b[43mamt\u001b[49m\u001b[43m)\u001b[49m \u001b[38;5;28;01mif\u001b[39;00m amt \u001b[38;5;129;01mis\u001b[39;00m \u001b[38;5;129;01mnot\u001b[39;00m \u001b[38;5;28;01mNone\u001b[39;00m \u001b[38;5;28;01melse\u001b[39;00m \u001b[38;5;28mself\u001b[39m\u001b[38;5;241m.\u001b[39m_fp\u001b[38;5;241m.\u001b[39mread()\n",
      "File \u001b[0;32m~/.pyenv/versions/3.11.5/lib/python3.11/http/client.py:466\u001b[0m, in \u001b[0;36mHTTPResponse.read\u001b[0;34m(self, amt)\u001b[0m\n\u001b[1;32m    463\u001b[0m \u001b[38;5;28;01mif\u001b[39;00m \u001b[38;5;28mself\u001b[39m\u001b[38;5;241m.\u001b[39mlength \u001b[38;5;129;01mis\u001b[39;00m \u001b[38;5;129;01mnot\u001b[39;00m \u001b[38;5;28;01mNone\u001b[39;00m \u001b[38;5;129;01mand\u001b[39;00m amt \u001b[38;5;241m>\u001b[39m \u001b[38;5;28mself\u001b[39m\u001b[38;5;241m.\u001b[39mlength:\n\u001b[1;32m    464\u001b[0m     \u001b[38;5;66;03m# clip the read to the \"end of response\"\u001b[39;00m\n\u001b[1;32m    465\u001b[0m     amt \u001b[38;5;241m=\u001b[39m \u001b[38;5;28mself\u001b[39m\u001b[38;5;241m.\u001b[39mlength\n\u001b[0;32m--> 466\u001b[0m s \u001b[38;5;241m=\u001b[39m \u001b[38;5;28mself\u001b[39m\u001b[38;5;241m.\u001b[39mfp\u001b[38;5;241m.\u001b[39mread(amt)\n\u001b[1;32m    467\u001b[0m \u001b[38;5;28;01mif\u001b[39;00m \u001b[38;5;129;01mnot\u001b[39;00m s \u001b[38;5;129;01mand\u001b[39;00m amt:\n\u001b[1;32m    468\u001b[0m     \u001b[38;5;66;03m# Ideally, we would raise IncompleteRead if the content-length\u001b[39;00m\n\u001b[1;32m    469\u001b[0m     \u001b[38;5;66;03m# wasn't satisfied, but it might break compatibility.\u001b[39;00m\n\u001b[1;32m    470\u001b[0m     \u001b[38;5;28mself\u001b[39m\u001b[38;5;241m.\u001b[39m_close_conn()\n",
      "File \u001b[0;32m~/.pyenv/versions/3.11.5/lib/python3.11/socket.py:706\u001b[0m, in \u001b[0;36mSocketIO.readinto\u001b[0;34m(self, b)\u001b[0m\n\u001b[1;32m    704\u001b[0m \u001b[38;5;28;01mwhile\u001b[39;00m \u001b[38;5;28;01mTrue\u001b[39;00m:\n\u001b[1;32m    705\u001b[0m     \u001b[38;5;28;01mtry\u001b[39;00m:\n\u001b[0;32m--> 706\u001b[0m         \u001b[38;5;28;01mreturn\u001b[39;00m \u001b[38;5;28;43mself\u001b[39;49m\u001b[38;5;241;43m.\u001b[39;49m\u001b[43m_sock\u001b[49m\u001b[38;5;241;43m.\u001b[39;49m\u001b[43mrecv_into\u001b[49m\u001b[43m(\u001b[49m\u001b[43mb\u001b[49m\u001b[43m)\u001b[49m\n\u001b[1;32m    707\u001b[0m     \u001b[38;5;28;01mexcept\u001b[39;00m timeout:\n\u001b[1;32m    708\u001b[0m         \u001b[38;5;28mself\u001b[39m\u001b[38;5;241m.\u001b[39m_timeout_occurred \u001b[38;5;241m=\u001b[39m \u001b[38;5;28;01mTrue\u001b[39;00m\n",
      "File \u001b[0;32m~/.pyenv/versions/3.11.5/lib/python3.11/ssl.py:1311\u001b[0m, in \u001b[0;36mSSLSocket.recv_into\u001b[0;34m(self, buffer, nbytes, flags)\u001b[0m\n\u001b[1;32m   1307\u001b[0m     \u001b[38;5;28;01mif\u001b[39;00m flags \u001b[38;5;241m!=\u001b[39m \u001b[38;5;241m0\u001b[39m:\n\u001b[1;32m   1308\u001b[0m         \u001b[38;5;28;01mraise\u001b[39;00m \u001b[38;5;167;01mValueError\u001b[39;00m(\n\u001b[1;32m   1309\u001b[0m           \u001b[38;5;124m\"\u001b[39m\u001b[38;5;124mnon-zero flags not allowed in calls to recv_into() on \u001b[39m\u001b[38;5;132;01m%s\u001b[39;00m\u001b[38;5;124m\"\u001b[39m \u001b[38;5;241m%\u001b[39m\n\u001b[1;32m   1310\u001b[0m           \u001b[38;5;28mself\u001b[39m\u001b[38;5;241m.\u001b[39m\u001b[38;5;18m__class__\u001b[39m)\n\u001b[0;32m-> 1311\u001b[0m     \u001b[38;5;28;01mreturn\u001b[39;00m \u001b[38;5;28;43mself\u001b[39;49m\u001b[38;5;241;43m.\u001b[39;49m\u001b[43mread\u001b[49m\u001b[43m(\u001b[49m\u001b[43mnbytes\u001b[49m\u001b[43m,\u001b[49m\u001b[43m \u001b[49m\u001b[43mbuffer\u001b[49m\u001b[43m)\u001b[49m\n\u001b[1;32m   1312\u001b[0m \u001b[38;5;28;01melse\u001b[39;00m:\n\u001b[1;32m   1313\u001b[0m     \u001b[38;5;28;01mreturn\u001b[39;00m \u001b[38;5;28msuper\u001b[39m()\u001b[38;5;241m.\u001b[39mrecv_into(buffer, nbytes, flags)\n",
      "File \u001b[0;32m~/.pyenv/versions/3.11.5/lib/python3.11/ssl.py:1167\u001b[0m, in \u001b[0;36mSSLSocket.read\u001b[0;34m(self, len, buffer)\u001b[0m\n\u001b[1;32m   1165\u001b[0m \u001b[38;5;28;01mtry\u001b[39;00m:\n\u001b[1;32m   1166\u001b[0m     \u001b[38;5;28;01mif\u001b[39;00m buffer \u001b[38;5;129;01mis\u001b[39;00m \u001b[38;5;129;01mnot\u001b[39;00m \u001b[38;5;28;01mNone\u001b[39;00m:\n\u001b[0;32m-> 1167\u001b[0m         \u001b[38;5;28;01mreturn\u001b[39;00m \u001b[38;5;28;43mself\u001b[39;49m\u001b[38;5;241;43m.\u001b[39;49m\u001b[43m_sslobj\u001b[49m\u001b[38;5;241;43m.\u001b[39;49m\u001b[43mread\u001b[49m\u001b[43m(\u001b[49m\u001b[38;5;28;43mlen\u001b[39;49m\u001b[43m,\u001b[49m\u001b[43m \u001b[49m\u001b[43mbuffer\u001b[49m\u001b[43m)\u001b[49m\n\u001b[1;32m   1168\u001b[0m     \u001b[38;5;28;01melse\u001b[39;00m:\n\u001b[1;32m   1169\u001b[0m         \u001b[38;5;28;01mreturn\u001b[39;00m \u001b[38;5;28mself\u001b[39m\u001b[38;5;241m.\u001b[39m_sslobj\u001b[38;5;241m.\u001b[39mread(\u001b[38;5;28mlen\u001b[39m)\n",
      "\u001b[0;31mKeyboardInterrupt\u001b[0m: "
     ]
    }
   ],
   "source": [
    "for link in year_month_links:\n",
    "    if link.endswith(\"/\"):  # Ensure it's a directory\n",
    "\n",
    "        # Extract year-month as folder name\n",
    "        year_month = link.strip('/')\n",
    "        #print(year_month)\n",
    "\n",
    "        # get the current year from the links for start/stop \n",
    "        year = int(link[:4])\n",
    "        if START_YEAR <= year <= END_YEAR:\n",
    "            month_url = BASE_URL + link\n",
    "            print(f\"Processing: {month_url}\")\n",
    "\n",
    "            # Create subdirectory for year/month\n",
    "            subfolder_path = os.path.join(SAVE_DIR, year_month)\n",
    "            os.makedirs(subfolder_path, exist_ok=True)\n",
    "\n",
    "             # Get all netCDF files in the month\n",
    "            netcdf_files = get_links(month_url)\n",
    "            #print(netcdf_files)\n",
    "\n",
    "            # donwload the netcdf files\n",
    "            for file in netcdf_files:\n",
    "                if file.endswith(\".nc\"):  # Ensure it's a NetCDF file\n",
    "                    file_url = month_url + file\n",
    "                    save_path = os.path.join(subfolder_path, file)\n",
    "                    #print(file_url)\n",
    "\n",
    "                    if not os.path.exists(save_path):\n",
    "                        print(f\"Downloading: {file_url}\")\n",
    "                        download_file(file_url, save_path)\n",
    "                    else:\n",
    "                        print(f\"Already downloaded: {file}\")\n",
    "                        \n",
    "print(\"Download complete!\")"
   ]
  },
  {
   "cell_type": "code",
   "execution_count": null,
   "metadata": {},
   "outputs": [],
   "source": []
  }
 ],
 "metadata": {
  "kernelspec": {
   "display_name": "3.11.5",
   "language": "python",
   "name": "python3"
  },
  "language_info": {
   "codemirror_mode": {
    "name": "ipython",
    "version": 3
   },
   "file_extension": ".py",
   "mimetype": "text/x-python",
   "name": "python",
   "nbconvert_exporter": "python",
   "pygments_lexer": "ipython3",
   "version": "3.11.5"
  }
 },
 "nbformat": 4,
 "nbformat_minor": 2
}
