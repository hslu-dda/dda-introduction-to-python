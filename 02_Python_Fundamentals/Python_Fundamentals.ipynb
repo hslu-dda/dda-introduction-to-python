{
 "cells": [
  {
   "cell_type": "markdown",
   "id": "c8815033",
   "metadata": {},
   "source": [
    "# Python Fundamentals"
   ]
  },
  {
   "cell_type": "markdown",
   "id": "c506861a",
   "metadata": {},
   "source": [
    "## 1. Defining Variables"
   ]
  },
  {
   "cell_type": "code",
   "execution_count": null,
   "id": "a0d24eb5",
   "metadata": {},
   "outputs": [
    {
     "data": {
      "text/plain": [
       "10"
      ]
     },
     "execution_count": 2,
     "metadata": {},
     "output_type": "execute_result"
    }
   ],
   "source": [
    "# Integer\n",
    "x = 10\n",
    "\n",
    "# Float\n",
    "y = 3.14\n",
    "\n",
    "# String\n",
    "name = \"Alice\"\n",
    "\n",
    "# Boolean\n",
    "is_active = True"
   ]
  },
  {
   "cell_type": "markdown",
   "id": "f55378f4",
   "metadata": {},
   "source": [
    "## 2. Printing Variables"
   ]
  },
  {
   "cell_type": "code",
   "execution_count": 5,
   "id": "18a343c7",
   "metadata": {},
   "outputs": [
    {
     "name": "stdout",
     "output_type": "stream",
     "text": [
      "10\n",
      "10 3.14\n",
      "Alice\n",
      "Hello, Alice!\n"
     ]
    }
   ],
   "source": [
    "print(x)          # Output: 10\n",
    "print(x, y)       # Output: 10 3.14\n",
    "print(name)       # Output: Alice\n",
    "print(f\"Hello, {name}!\")  # Output: Hello, Alice!"
   ]
  },
  {
   "cell_type": "markdown",
   "id": "fc2fada8",
   "metadata": {},
   "source": [
    "## 3. Basic Calculations"
   ]
  },
  {
   "cell_type": "code",
   "execution_count": 8,
   "id": "6692d46e",
   "metadata": {},
   "outputs": [
    {
     "name": "stdout",
     "output_type": "stream",
     "text": [
      "8 8 3.3333333333333335 3 1 8\n"
     ]
    }
   ],
   "source": [
    "# Arithmetic operations\n",
    "sum_value = 5 + 3      # Addition\n",
    "product = 4 * 2        # Multiplication\n",
    "division = 10 / 3      # Division (float result)\n",
    "floor_div = 10 // 3    # Floor division: divides the numbers and rounds the result down to the nearest integer.\n",
    "\n",
    "# Modulor: Returns the remainder of a division.\n",
    "# Can be used to check if a numver is even: \n",
    "# 7 % 2 = 1, so it’s odd\n",
    "# 8 % 2 = 0, so it’s even\n",
    "modulus = 10 % 3\n",
    "\n",
    "# Exponentiation: \n",
    "# Raises a number to a power.\n",
    "# 2**3 => 2 × 2 × 2 = 8\n",
    "power = 2 ** 3\n",
    "\n",
    "print(sum_value, product, division, floor_div, modulus, power)"
   ]
  },
  {
   "cell_type": "markdown",
   "id": "3da2ce74",
   "metadata": {},
   "source": [
    "## 4. Data Types"
   ]
  },
  {
   "cell_type": "code",
   "execution_count": 10,
   "id": "fefb9423",
   "metadata": {},
   "outputs": [
    {
     "name": "stdout",
     "output_type": "stream",
     "text": [
      "<class 'int'>\n",
      "<class 'float'>\n",
      "<class 'str'>\n",
      "<class 'bool'>\n",
      "<class 'float'>\n",
      "<class 'str'>\n"
     ]
    }
   ],
   "source": [
    "print(type(x))      # Output: <class 'int'>\n",
    "print(type(y))      # Output: <class 'float'>\n",
    "print(type(name))   # Output: <class 'str'>\n",
    "print(type(is_active))  # Output: <class 'bool'>\n",
    "print(type(5 / 3))\n",
    "print(type(\"abc\"))"
   ]
  },
  {
   "cell_type": "markdown",
   "id": "060977d5",
   "metadata": {},
   "source": [
    "## Zwischenaufgaben\n"
   ]
  },
  {
   "cell_type": "markdown",
   "id": "c4075431",
   "metadata": {},
   "source": [
    "### 1. Zuweisung\n",
    "\n",
    "Weise den Wert ```42``` einer Variable mit dem Namen ```ultimate_answer``` zu.\n",
    "\n",
    "### 2. Print Statement\n",
    "\n",
    "Schreibe ein Programm, welches deinen Vornamen in einer Variable ```firstname``` speichert und dann folgenden Text ausgibt:\n",
    "> Hallo VORNAME - Es freut mich, dass du programmieren lernst. \n",
    "\n",
    "\n",
    "### 3. Swap\n",
    "\n",
    "Schreib ein Programm, welches den Wert der Variablen ```a``` und ```b``` vertauscht, d.h. ```a``` soll am Ende den Wert von ```b``` haben und ```b``` den Wert der Variablen ```a```. Dabei darfst du die Werte ```0``` und ```1``` nicht direkt zuweisen, sondern musst Variablen (und allenfalls Hilfsvariablen) nutzen. \n",
    "\n",
    "Übernimm dazu diese vorgegebenen Variablen:\n",
    "\n",
    "```python\n",
    "a = 0 # Diese Zeile darf nicht verändert werden\n",
    "b = 1 # Diese Zeile darf nicht verändert werden\n",
    "```"
   ]
  },
  {
   "cell_type": "markdown",
   "id": "bf94e141",
   "metadata": {},
   "source": [
    "### Lösungen Zwischenaufgabe"
   ]
  },
  {
   "cell_type": "code",
   "execution_count": 11,
   "id": "3503455b",
   "metadata": {},
   "outputs": [],
   "source": [
    "ultimate_answer = 42"
   ]
  },
  {
   "cell_type": "code",
   "execution_count": 12,
   "id": "cc14f2e7",
   "metadata": {},
   "outputs": [
    {
     "name": "stdout",
     "output_type": "stream",
     "text": [
      "Hallo Max - Es freut mich, dass du programmieren lernst.\n"
     ]
    }
   ],
   "source": [
    "firstname = \"Max\"\n",
    "print(\"Hallo\", firstname, \"- Es freut mich, dass du programmieren lernst.\")"
   ]
  },
  {
   "cell_type": "code",
   "execution_count": 13,
   "id": "21134c87",
   "metadata": {},
   "outputs": [
    {
     "name": "stdout",
     "output_type": "stream",
     "text": [
      "Wert von a: 1 Wert von b: 0\n"
     ]
    }
   ],
   "source": [
    "a = 0 # Diese Zeile darf nicht verändert werden\n",
    "b = 1 # Diese Zeile darf nicht verändert werden\n",
    "\n",
    "# Ihre Lösung\n",
    "holdA = a\n",
    "a = b\n",
    "b = holdA\n",
    "\n",
    "print(\"Wert von a:\", a, \"Wert von b:\", b)"
   ]
  },
  {
   "cell_type": "markdown",
   "id": "235d93af",
   "metadata": {},
   "source": [
    "## 5. Kontrollstrukturen / Conditionals (if-elif-else)"
   ]
  },
  {
   "cell_type": "code",
   "execution_count": null,
   "id": "406add92",
   "metadata": {},
   "outputs": [],
   "source": [
    "age = 18\n",
    "if age < 18:\n",
    "    print(\"Minor\")\n",
    "elif age == 18:\n",
    "    print(\"Just turned 18\")\n",
    "else:\n",
    "    print(\"Adult\")"
   ]
  },
  {
   "cell_type": "markdown",
   "id": "6781b912",
   "metadata": {},
   "source": [
    "## 6. Schlaufen / Loops"
   ]
  },
  {
   "cell_type": "markdown",
   "id": "b1bf6d6f",
   "metadata": {},
   "source": [
    "### For Loop"
   ]
  },
  {
   "cell_type": "code",
   "execution_count": 20,
   "id": "c599c68f",
   "metadata": {},
   "outputs": [
    {
     "name": "stdout",
     "output_type": "stream",
     "text": [
      "Iteration 0\n",
      "Iteration 1\n",
      "Iteration 2\n",
      "Iteration 3\n",
      "Iteration 4\n"
     ]
    }
   ],
   "source": [
    "# from 0 to 4 (5x)\n",
    "for i in range(5):\n",
    "    print(f\"Iteration {i}\")"
   ]
  },
  {
   "cell_type": "code",
   "execution_count": 22,
   "id": "6b9b97d1",
   "metadata": {},
   "outputs": [
    {
     "name": "stdout",
     "output_type": "stream",
     "text": [
      "Iteration 1\n",
      "Iteration 2\n",
      "Iteration 3\n",
      "Iteration 4\n"
     ]
    }
   ],
   "source": [
    "# Define the range: were to start and were to stop\n",
    "for i in range(1, 5):\n",
    "    print(f\"Iteration {i}\")"
   ]
  },
  {
   "cell_type": "markdown",
   "id": "2b75bef6",
   "metadata": {},
   "source": [
    "### While Loop"
   ]
  },
  {
   "cell_type": "code",
   "execution_count": null,
   "id": "549f12a4",
   "metadata": {},
   "outputs": [],
   "source": [
    "count = 0\n",
    "while count < 3:\n",
    "    print(f\"Count: {count}\")\n",
    "    count += 1"
   ]
  },
  {
   "cell_type": "markdown",
   "id": "c9e1fd7c",
   "metadata": {},
   "source": [
    "## Zwischenaufgaben"
   ]
  },
  {
   "cell_type": "markdown",
   "id": "6404abb1",
   "metadata": {},
   "source": [
    "### 1. Intervall\n",
    "\n",
    "Schreibe ein Programm, welches eine Zahl ```x = 12``` prüft ob diese entweder im Intervall 1 bis 10 oder zwischen 100 und 110 liegt, wobei die Intervallgrenzen zum Intervall gehören sollen. Falls die Zahl in einem der Intervalle liegt soll das Programm ```Ok!``` und im andren Fall ```ausserhalb!``` ausgeben.\n",
    "\n",
    "\n",
    "### 2. Gerade oder ungerade\n",
    "\n",
    "Eine ganze Zahl heißt gerade, wenn sie ohne Rest durch zwei teilbar ist. Schreibe ein Programm, welches prüft ob der Wert einer Variablen ```x = 13``` eine gerade oder ungerade Zahl ist. Falls ```x``` gerade ist soll das Programm ```x ist gerade!``` oder im anderen Fall ```x ist ungerade!``` ausgeben, wobei ```x``` durch den Wert der Variablen ```x``` ersetzt werden soll.\n",
    "\n",
    "*Hinweis: Du brauchst für die Lösung der Aufgabe den Modulo Operator ```%```*\n",
    "\n",
    "### 3. Summiere die Zahlen\n",
    "Schreibe ein Programm, das die Summe aller Zahlen von 1 bis n berechnet. Die Zahl n soll als Variable vorgegeben werden, z. B. n = 5. Das Programm soll die Summe berechnen und ausgeben, z. B.: `Die Summe der Zahlen von 1 bis 5 ist 15.`\n",
    "\n",
    "*Hinweis: Verwende eine for-Schleife, um alle Zahlen zu durchlaufen und aufzusummieren.*"
   ]
  },
  {
   "cell_type": "markdown",
   "id": "3b3d2c77",
   "metadata": {},
   "source": [
    "### Lösungen Zwischenaufgabe"
   ]
  },
  {
   "cell_type": "code",
   "execution_count": 14,
   "id": "cd9b89f7",
   "metadata": {},
   "outputs": [
    {
     "name": "stdout",
     "output_type": "stream",
     "text": [
      "ausserhalb!\n"
     ]
    }
   ],
   "source": [
    "x = 12 # Zuweisung-x\n",
    "\n",
    "# Lösung\n",
    "if x >= 1 and x <= 10:\n",
    "    print(\"Ok!\")\n",
    "elif x >= 100 and x <= 110:\n",
    "    print(\"Ok!\")\n",
    "else:\n",
    "    print(\"ausserhalb!\")"
   ]
  },
  {
   "cell_type": "code",
   "execution_count": 15,
   "id": "186d1d38",
   "metadata": {},
   "outputs": [
    {
     "name": "stdout",
     "output_type": "stream",
     "text": [
      "13 ist ungerade!\n"
     ]
    }
   ],
   "source": [
    "x = 13 # Zuweisung-x\n",
    "\n",
    "# Ihre Lösung\n",
    "if x % 2 != 0:\n",
    "    print(f\"{x} ist ungerade!\")\n",
    "else:\n",
    "    print(f\"{x} ist gerade!\")"
   ]
  },
  {
   "cell_type": "code",
   "execution_count": 24,
   "id": "8c19f2ab",
   "metadata": {},
   "outputs": [
    {
     "name": "stdout",
     "output_type": "stream",
     "text": [
      "Die Summe der Zahlen von 1 bis 5 ist 15.\n"
     ]
    }
   ],
   "source": [
    "n = 5  # Hier kann eine andere Zahl eingesetzt werden\n",
    "summe = 0\n",
    "\n",
    "for i in range(1, n+1):  # Durchläuft die Zahlen von 1 bis n+1 (= 5)\n",
    "    summe += i  # Addiert jede Zahl zur Summe\n",
    "\n",
    "print(f\"Die Summe der Zahlen von 1 bis {n} ist {summe}.\")"
   ]
  },
  {
   "cell_type": "markdown",
   "id": "2611c444",
   "metadata": {},
   "source": [
    "## 7. Lists and Tuples"
   ]
  },
  {
   "cell_type": "code",
   "execution_count": null,
   "id": "f3e896c1",
   "metadata": {},
   "outputs": [],
   "source": [
    "# List (mutable)\n",
    "numbers = [1, 2, 3, 4]\n",
    "numbers.append(5)  # Add element\n",
    "print(numbers)\n",
    "\n",
    "# Tuple (immutable)\n",
    "coordinates = (10, 20)\n",
    "print(coordinates[0])  # Output: 10"
   ]
  },
  {
   "cell_type": "markdown",
   "id": "53b0cd99",
   "metadata": {},
   "source": [
    "## 8. Dictionaries"
   ]
  },
  {
   "cell_type": "code",
   "execution_count": null,
   "id": "48032c40",
   "metadata": {},
   "outputs": [],
   "source": [
    "person = {\"name\": \"Alice\", \"age\": 25, \"city\": \"New York\"}\n",
    "print(person[\"name\"])   # Output: Alice\n",
    "person[\"age\"] = 26      # Modify value\n",
    "print(person)"
   ]
  },
  {
   "cell_type": "markdown",
   "id": "ad1403a8",
   "metadata": {},
   "source": [
    "## 9. Functions"
   ]
  },
  {
   "cell_type": "code",
   "execution_count": null,
   "id": "370f9502",
   "metadata": {},
   "outputs": [],
   "source": [
    "def greet(name):\n",
    "    return f\"Hello, {name}!\"\n",
    "\n",
    "print(greet(\"Alice\"))  # Output: Hello, Alice!"
   ]
  }
 ],
 "metadata": {
  "kernelspec": {
   "display_name": "Python 3",
   "language": "python",
   "name": "python3"
  },
  "language_info": {
   "codemirror_mode": {
    "name": "ipython",
    "version": 3
   },
   "file_extension": ".py",
   "mimetype": "text/x-python",
   "name": "python",
   "nbconvert_exporter": "python",
   "pygments_lexer": "ipython3",
   "version": "3.11.5"
  }
 },
 "nbformat": 4,
 "nbformat_minor": 5
}
