{
 "cells": [
  {
   "cell_type": "markdown",
   "metadata": {
    "id": "3VtJ8HlNjQo7"
   },
   "source": [
    "# Pandas in Python Basics"
   ]
  },
  {
   "cell_type": "markdown",
   "metadata": {
    "id": "Kx_-SCBZln_o"
   },
   "source": [
    "## Daten importieren\n",
    "\n",
    "Falls Pandas noch nicht installiert ist kann dies mit `pip install pandas` nachgeholt werden."
   ]
  },
  {
   "cell_type": "code",
   "execution_count": null,
   "metadata": {
    "colab": {
     "base_uri": "https://localhost:8080/"
    },
    "executionInfo": {
     "elapsed": 1816,
     "status": "ok",
     "timestamp": 1732294080242,
     "user": {
      "displayName": "Max",
      "userId": "01509876735706397764"
     },
     "user_tz": -60
    },
    "id": "TN3iHBSnf6bN",
    "outputId": "99e15c9e-7489-49e4-c7ab-78483fbf3618"
   },
   "outputs": [],
   "source": [
    "# Pandas Library importieren\n"
   ]
  },
  {
   "cell_type": "markdown",
   "metadata": {
    "id": "I2i_d0XQl15_"
   },
   "source": [
    "- Pfad zum File definieren\n",
    "- CSV importieren mittels Pandas"
   ]
  },
  {
   "cell_type": "code",
   "execution_count": null,
   "metadata": {
    "executionInfo": {
     "elapsed": 3618,
     "status": "ok",
     "timestamp": 1732291216819,
     "user": {
      "displayName": "Max",
      "userId": "01509876735706397764"
     },
     "user_tz": -60
    },
    "id": "Pp-nAzQajT8P"
   },
   "outputs": [],
   "source": []
  },
  {
   "cell_type": "markdown",
   "metadata": {
    "id": "Vi2lHB0UmGRo"
   },
   "source": [
    "## Datenstruktur verstehen\n",
    "\n",
    "- Pandas Dataframe kennenlernen. Ein pandas DataFrame ist eine tabellenartige Datenstruktur in Python, die Daten in Zeilen und Spalten organisiert und so die Datenanalyse und -bearbeitung erleichtert.\n",
    "- Spalten-Namen ausgeben\n",
    "- Ersten 5 Einträge ausgeben\n",
    "- Einen spezifischen Eintrag an Index-Position `n` ausgeben\n",
    "- Eine spezifische Spalte ausgeben"
   ]
  },
  {
   "cell_type": "code",
   "execution_count": null,
   "metadata": {},
   "outputs": [],
   "source": [
    "# What type does \"data\" have?\n"
   ]
  },
  {
   "cell_type": "code",
   "execution_count": null,
   "metadata": {
    "colab": {
     "base_uri": "https://localhost:8080/"
    },
    "executionInfo": {
     "elapsed": 249,
     "status": "ok",
     "timestamp": 1732291220075,
     "user": {
      "displayName": "Max",
      "userId": "01509876735706397764"
     },
     "user_tz": -60
    },
    "id": "gutt7YUzkfXE",
    "outputId": "0fb79492-b4d3-4d8b-ccd2-29b30e1c3c7f"
   },
   "outputs": [],
   "source": [
    "# Print the columns of the DataFrame"
   ]
  },
  {
   "cell_type": "code",
   "execution_count": null,
   "metadata": {
    "colab": {
     "base_uri": "https://localhost:8080/",
     "height": 690
    },
    "executionInfo": {
     "elapsed": 277,
     "status": "ok",
     "timestamp": 1732291223429,
     "user": {
      "displayName": "Max",
      "userId": "01509876735706397764"
     },
     "user_tz": -60
    },
    "id": "s7kfEPEltPS4",
    "outputId": "1fb96bad-72c3-4cf4-ab58-51b34c37b600"
   },
   "outputs": [],
   "source": [
    "# print the first 5 entries"
   ]
  },
  {
   "cell_type": "code",
   "execution_count": null,
   "metadata": {
    "colab": {
     "base_uri": "https://localhost:8080/",
     "height": 743
    },
    "executionInfo": {
     "elapsed": 245,
     "status": "ok",
     "timestamp": 1732291446784,
     "user": {
      "displayName": "Max",
      "userId": "01509876735706397764"
     },
     "user_tz": -60
    },
    "id": "Ep12yYAAmV0n",
    "outputId": "249b06b0-9086-4fe2-b8e3-3c083c60c581"
   },
   "outputs": [],
   "source": [
    "# Print an item on a specific location"
   ]
  },
  {
   "cell_type": "code",
   "execution_count": null,
   "metadata": {
    "colab": {
     "base_uri": "https://localhost:8080/",
     "height": 459
    },
    "executionInfo": {
     "elapsed": 266,
     "status": "ok",
     "timestamp": 1732291481839,
     "user": {
      "displayName": "Max",
      "userId": "01509876735706397764"
     },
     "user_tz": -60
    },
    "id": "7aQXbvohnjsl",
    "outputId": "7c2b20fa-c344-4a83-ae4f-83f37b11a051"
   },
   "outputs": [],
   "source": [
    "# print a specific column"
   ]
  },
  {
   "cell_type": "markdown",
   "metadata": {
    "id": "RpNGuUF6n1iz"
   },
   "source": [
    "## Daten Sortieren\n",
    "\n",
    "- Daten nach einer Spalte alphabetisch sortieren\n",
    "- Daten nach einer Spalte nach Werten sortieren"
   ]
  },
  {
   "cell_type": "code",
   "execution_count": null,
   "metadata": {
    "colab": {
     "base_uri": "https://localhost:8080/",
     "height": 707
    },
    "executionInfo": {
     "elapsed": 244,
     "status": "ok",
     "timestamp": 1732291737833,
     "user": {
      "displayName": "Max",
      "userId": "01509876735706397764"
     },
     "user_tz": -60
    },
    "id": "_PhcP4LsoGrB",
    "outputId": "607fdffc-cf7d-400e-d4e5-b450307ef43c"
   },
   "outputs": [],
   "source": [
    "# sort a-z"
   ]
  },
  {
   "cell_type": "code",
   "execution_count": null,
   "metadata": {
    "colab": {
     "base_uri": "https://localhost:8080/",
     "height": 724
    },
    "executionInfo": {
     "elapsed": 235,
     "status": "ok",
     "timestamp": 1732291818815,
     "user": {
      "displayName": "Max",
      "userId": "01509876735706397764"
     },
     "user_tz": -60
    },
    "id": "vARPnq0loo6C",
    "outputId": "5335e47c-6b57-4bd0-c79e-118993a2ab1e"
   },
   "outputs": [],
   "source": [
    "# sort by rating"
   ]
  },
  {
   "cell_type": "markdown",
   "metadata": {
    "id": "o3hLrAGFpJKF"
   },
   "source": [
    "## Daten Filtern\n",
    "\n",
    "Um einen Pandas Dataframe zu Filtern wird die Bedingung direkt in die eckigen Klammern geschrieben und das Resultat einer neuen Variable zugewiesen.\n",
    "\n",
    "```python\n",
    "filtered_data = data[data[\"year\"] == \"1989\"]\n",
    "```\n",
    "\n",
    "- Filtere die Daten nach verschiedenen Werten wie dem Jahr oder dem Land.\n",
    "- Finde alle Filme mit einem Rating höher als 9\n",
    "- Finde alle Filme zwischen 1990 und 1999\n",
    "- Finde alle Filme mit dem Genre \"Animation\""
   ]
  },
  {
   "cell_type": "code",
   "execution_count": null,
   "metadata": {
    "colab": {
     "base_uri": "https://localhost:8080/",
     "height": 690
    },
    "executionInfo": {
     "elapsed": 254,
     "status": "ok",
     "timestamp": 1732292080824,
     "user": {
      "displayName": "Max",
      "userId": "01509876735706397764"
     },
     "user_tz": -60
    },
    "id": "XdrKn4R1pl6v",
    "outputId": "68d3dc1a-ffac-470c-e17c-308c3eecf139"
   },
   "outputs": [],
   "source": [
    "# filter by 1989"
   ]
  },
  {
   "cell_type": "code",
   "execution_count": null,
   "metadata": {
    "colab": {
     "base_uri": "https://localhost:8080/"
    },
    "executionInfo": {
     "elapsed": 234,
     "status": "ok",
     "timestamp": 1732292435970,
     "user": {
      "displayName": "Max",
      "userId": "01509876735706397764"
     },
     "user_tz": -60
    },
    "id": "cmoxKvyhp5xM",
    "outputId": "65390f22-539c-4723-9b28-f63323fc37d5"
   },
   "outputs": [],
   "source": [
    "# filter by japan"
   ]
  },
  {
   "cell_type": "markdown",
   "metadata": {},
   "source": [
    "Dadurch werden alle Filme gefiltert welche nur in Japan produziert wurden. Filme welche unter anderem in Japan produziert wurden fallen raus da der Wert des Feldes nicht nur das Wort \"Japan\" enthält sondern bspw. \"USA, Japan\". Mit `str.contains` wird geschaut ob in einem String (bspw. \"USA, Japan\") ein Teil \"Japan\" vorkommt."
   ]
  },
  {
   "cell_type": "code",
   "execution_count": null,
   "metadata": {
    "colab": {
     "base_uri": "https://localhost:8080/"
    },
    "executionInfo": {
     "elapsed": 253,
     "status": "ok",
     "timestamp": 1732292462529,
     "user": {
      "displayName": "Max",
      "userId": "01509876735706397764"
     },
     "user_tz": -60
    },
    "id": "iE4KH-U_qLGB",
    "outputId": "2717f575-8254-4aa9-aec9-3ef7bdba6f6c"
   },
   "outputs": [],
   "source": [
    "# filter by contain japan"
   ]
  },
  {
   "cell_type": "code",
   "execution_count": null,
   "metadata": {
    "colab": {
     "base_uri": "https://localhost:8080/",
     "height": 724
    },
    "executionInfo": {
     "elapsed": 240,
     "status": "ok",
     "timestamp": 1732292645824,
     "user": {
      "displayName": "Max",
      "userId": "01509876735706397764"
     },
     "user_tz": -60
    },
    "id": "csu64FYxraaI",
    "outputId": "906406c9-6099-4250-ce6d-151a12d299c3"
   },
   "outputs": [],
   "source": [
    "# All movies with a rating of 9 or higher"
   ]
  },
  {
   "cell_type": "markdown",
   "metadata": {},
   "source": [
    "Um alle Filme zwischen 1990 und 1999 zu finden müssen Zahlen verglichen werden können. Das Problem ist, dass es sich bei den Werten in `data[\"year\"]` um Strings und nicht um Zahlen handelt. Dies lässt sich feststellen in dem der Typ eines Eintrages ausgegeben wird: `print(type(data[\"year\"].iloc[10]))`.\n",
    "\n",
    "Um das Problem zu umgehen müssen die Strings in Zahlen konvertiert werden. Dazu kann dem Dataframe eine neue Spalte hinzugefügt werden mit `data['year_numeric']`. In diese Spalte werden die konvertierten Werte gespeichert. Dadurch bleiben die uhrsprünglichen Werte in der Spalte \"Year\" vorhanden. Um die Werte umzurechnen kann auf eine Pandas Funktion zurückgegriffen werden: `pd.to_numeric(data['year'], errors='coerce')`"
   ]
  },
  {
   "cell_type": "code",
   "execution_count": null,
   "metadata": {
    "colab": {
     "base_uri": "https://localhost:8080/",
     "height": 672
    },
    "executionInfo": {
     "elapsed": 273,
     "status": "ok",
     "timestamp": 1732292840696,
     "user": {
      "displayName": "Max",
      "userId": "01509876735706397764"
     },
     "user_tz": -60
    },
    "id": "w-p2URg8sFz4",
    "outputId": "f15cf7ac-b521-4717-f77d-97824f8cbc98"
   },
   "outputs": [],
   "source": [
    "# Print the type of a year entry\n",
    "\n",
    "# Convert the 'year' column to numeric, coercing errors (e.g., invalid strings will become NaN)\n",
    "\n",
    "# apply the filtering\n"
   ]
  },
  {
   "cell_type": "code",
   "execution_count": null,
   "metadata": {
    "colab": {
     "base_uri": "https://localhost:8080/",
     "height": 707
    },
    "executionInfo": {
     "elapsed": 258,
     "status": "ok",
     "timestamp": 1732292981238,
     "user": {
      "displayName": "Max",
      "userId": "01509876735706397764"
     },
     "user_tz": -60
    },
    "id": "jg50KcGts2uI",
    "outputId": "8a97b915-d9e7-4df1-b4cf-a8136ecdd631"
   },
   "outputs": [],
   "source": [
    "# Filter movies of a certain genre"
   ]
  },
  {
   "cell_type": "code",
   "execution_count": null,
   "metadata": {
    "colab": {
     "base_uri": "https://localhost:8080/",
     "height": 742
    },
    "executionInfo": {
     "elapsed": 346,
     "status": "ok",
     "timestamp": 1732293064452,
     "user": {
      "displayName": "Max",
      "userId": "01509876735706397764"
     },
     "user_tz": -60
    },
    "id": "5OU95EIEtNZD",
    "outputId": "f12ec04d-d212-4c42-93e5-95b659e2f2e7"
   },
   "outputs": [],
   "source": [
    "# Filter another genre"
   ]
  },
  {
   "cell_type": "markdown",
   "metadata": {
    "id": "CfkKxM-7ttQq"
   },
   "source": [
    "## Basic Statistics\n",
    "\n",
    "- Berechne den Mean und Median der Ratings. Der Mittelwert (Mean) ist der Durchschnitt, der berechnet wird, indem alle Werte addiert und durch die Anzahl der Werte geteilt werden. Der Median hingegen ist der mittlere Wert in einer sortierten Datenreihe, der die Daten in zwei Hälften teilt – unabhängig von extremen Ausreißern.\n",
    "- Berechne den häufigsten Wert (Mode)\n",
    "- Finde den niedrigsten und höchsten Wert."
   ]
  },
  {
   "cell_type": "markdown",
   "metadata": {},
   "source": [
    "When using `.describe()` some numbers are given in scientific notation (also called exponential notation).\n",
    "\n",
    "4.934499e+04 means: 4.934499 x 10^4\n",
    "Which equals: 49344.99\n"
   ]
  },
  {
   "cell_type": "code",
   "execution_count": null,
   "metadata": {},
   "outputs": [],
   "source": [
    "# .describe() outputs all popular statistics of a data set.\n",
    "# Disable scientific notation for floats"
   ]
  },
  {
   "cell_type": "code",
   "execution_count": null,
   "metadata": {
    "colab": {
     "base_uri": "https://localhost:8080/"
    },
    "executionInfo": {
     "elapsed": 275,
     "status": "ok",
     "timestamp": 1732293237411,
     "user": {
      "displayName": "Max",
      "userId": "01509876735706397764"
     },
     "user_tz": -60
    },
    "id": "oiwl0yN1uQXX",
    "outputId": "1ad61769-a4dd-4424-f435-d469af02817f"
   },
   "outputs": [],
   "source": [
    "# Calculate the mean\n",
    "\n",
    "# Calculate the median\n",
    "\n",
    "# Print the results"
   ]
  },
  {
   "cell_type": "code",
   "execution_count": null,
   "metadata": {
    "colab": {
     "base_uri": "https://localhost:8080/",
     "height": 115
    },
    "executionInfo": {
     "elapsed": 329,
     "status": "ok",
     "timestamp": 1732293405668,
     "user": {
      "displayName": "Max",
      "userId": "01509876735706397764"
     },
     "user_tz": -60
    },
    "id": "5rIOhGaJuwE0",
    "outputId": "cb4f9d19-9245-4845-f7c6-de465d8b9d05"
   },
   "outputs": [],
   "source": [
    "# Calculate the mode (häufigster wert)"
   ]
  },
  {
   "cell_type": "code",
   "execution_count": null,
   "metadata": {
    "colab": {
     "base_uri": "https://localhost:8080/"
    },
    "executionInfo": {
     "elapsed": 313,
     "status": "ok",
     "timestamp": 1732293551749,
     "user": {
      "displayName": "Max",
      "userId": "01509876735706397764"
     },
     "user_tz": -60
    },
    "id": "ytRbxSAVu9ab",
    "outputId": "8e395f9b-b949-47da-9d89-bddc8ff38326"
   },
   "outputs": [],
   "source": [
    "# Min & Max"
   ]
  },
  {
   "cell_type": "markdown",
   "metadata": {
    "id": "o18XKVb7wbFB"
   },
   "source": [
    "## Export\n",
    "\n",
    "- Exportiere einer der gefilterten Datensätze als neues CSV.\n",
    "- Exportiere den selben Datensatz auch als JSON und Excel File"
   ]
  },
  {
   "cell_type": "code",
   "execution_count": null,
   "metadata": {
    "executionInfo": {
     "elapsed": 231,
     "status": "ok",
     "timestamp": 1732294224142,
     "user": {
      "displayName": "Max",
      "userId": "01509876735706397764"
     },
     "user_tz": -60
    },
    "id": "8Q2oF2PZwj_6"
   },
   "outputs": [],
   "source": [
    "# export to csv\n"
   ]
  },
  {
   "cell_type": "code",
   "execution_count": null,
   "metadata": {
    "executionInfo": {
     "elapsed": 245,
     "status": "ok",
     "timestamp": 1732294227451,
     "user": {
      "displayName": "Max",
      "userId": "01509876735706397764"
     },
     "user_tz": -60
    },
    "id": "z81T8jOzxw1_"
   },
   "outputs": [],
   "source": [
    "# export to json\n"
   ]
  },
  {
   "cell_type": "code",
   "execution_count": null,
   "metadata": {
    "executionInfo": {
     "elapsed": 2241,
     "status": "ok",
     "timestamp": 1732294310153,
     "user": {
      "displayName": "Max",
      "userId": "01509876735706397764"
     },
     "user_tz": -60
    },
    "id": "shTf4arxyQPj"
   },
   "outputs": [],
   "source": [
    "# export to excel\n"
   ]
  }
 ],
 "metadata": {
  "colab": {
   "authorship_tag": "ABX9TyOEvY8Vtv6mp/CtOw9BWZVb",
   "mount_file_id": "1oGrXhQ89zkxFh1Qmz1HwHqGnCKFS-0Pz",
   "provenance": []
  },
  "kernelspec": {
   "display_name": "3.11.5",
   "language": "python",
   "name": "python3"
  },
  "language_info": {
   "codemirror_mode": {
    "name": "ipython",
    "version": 3
   },
   "file_extension": ".py",
   "mimetype": "text/x-python",
   "name": "python",
   "nbconvert_exporter": "python",
   "pygments_lexer": "ipython3",
   "version": "3.11.5"
  }
 },
 "nbformat": 4,
 "nbformat_minor": 0
}
