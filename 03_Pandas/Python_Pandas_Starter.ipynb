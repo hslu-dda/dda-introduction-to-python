{
 "cells": [
  {
   "cell_type": "markdown",
   "metadata": {
    "id": "3VtJ8HlNjQo7"
   },
   "source": [
    "# Pandas in Python Basics (Starter)"
   ]
  },
  {
   "cell_type": "markdown",
   "metadata": {
    "id": "Kx_-SCBZln_o"
   },
   "source": [
    "## Daten importieren\n",
    "\n",
    "- Verbindung zu Drive herstellen\n",
    "- Nötige Libraries importieren\n",
    "- Pfad zum File definieren\n",
    "- CSV importieren mittels Pandas"
   ]
  },
  {
   "cell_type": "code",
   "execution_count": null,
   "metadata": {
    "colab": {
     "base_uri": "https://localhost:8080/"
    },
    "executionInfo": {
     "elapsed": 1816,
     "status": "ok",
     "timestamp": 1732294080242,
     "user": {
      "displayName": "Max",
      "userId": "01509876735706397764"
     },
     "user_tz": -60
    },
    "id": "TN3iHBSnf6bN",
    "outputId": "99e15c9e-7489-49e4-c7ab-78483fbf3618"
   },
   "outputs": [],
   "source": [
    "import pandas as pd\n",
    "\n",
    "from google.colab import drive\n",
    "drive.mount('/content/gdrive')"
   ]
  },
  {
   "cell_type": "code",
   "execution_count": null,
   "metadata": {
    "executionInfo": {
     "elapsed": 3618,
     "status": "ok",
     "timestamp": 1732291216819,
     "user": {
      "displayName": "Max",
      "userId": "01509876735706397764"
     },
     "user_tz": -60
    },
    "id": "Pp-nAzQajT8P"
   },
   "outputs": [],
   "source": [
    "file_path = \"/content/gdrive/MyDrive/YOUR-FOLDER/data/movies_imdb.csv\"\n",
    "data = pd.read_csv(file_path)"
   ]
  },
  {
   "cell_type": "markdown",
   "metadata": {
    "id": "Vi2lHB0UmGRo"
   },
   "source": [
    "## Datenstruktur verstehen\n",
    "\n",
    "- Spalten-Namen ausgeben\n",
    "- Ersten 5 Einträge ausgeben\n",
    "- Einen spezifischen Eintrag an Index-Position `n` ausgeben\n",
    "- Eine spezifische Spalte ausgeben"
   ]
  },
  {
   "cell_type": "markdown",
   "metadata": {
    "id": "RpNGuUF6n1iz"
   },
   "source": [
    "## Daten Sortieren\n",
    "\n",
    "- Daten nach einer Spalte alphabetisch sortieren\n",
    "- Daten nach einer Spalte nach Werten sortieren"
   ]
  },
  {
   "cell_type": "markdown",
   "metadata": {
    "id": "o3hLrAGFpJKF"
   },
   "source": [
    "## Daten Filtern\n",
    "\n",
    "- Filtere die Daten nach verschiedenen Werten wie dem Jahr oder dem Land.\n",
    "- Finde alle Filme mit einem Rating höher als 9\n",
    "- Finde alle Filme zwischen 1990 und 1999\n",
    "- Finde alle Filme mit dem Genre \"Animation\""
   ]
  },
  {
   "cell_type": "markdown",
   "metadata": {
    "id": "CfkKxM-7ttQq"
   },
   "source": [
    "## Basic Statistics\n",
    "\n",
    "- Berechne den Mean und Median der Ratings. Der Mittelwert (Mean) ist der Durchschnitt, der berechnet wird, indem alle Werte addiert und durch die Anzahl der Werte geteilt werden. Der Median hingegen ist der mittlere Wert in einer sortierten Datenreihe, der die Daten in zwei Hälften teilt – unabhängig von extremen Ausreißern.\n",
    "- Berechne den häufigsten Wert (Mode)\n",
    "- Finde den niedrigsten und höchsten Wert."
   ]
  },
  {
   "cell_type": "markdown",
   "metadata": {
    "id": "o18XKVb7wbFB"
   },
   "source": [
    "## Export\n",
    "\n",
    "- Exportiere einer der gefilterten Datensätze als neues CSV.\n",
    "- Exportiere den selben Datensatz auch als JSON und Excel File"
   ]
  }
 ],
 "metadata": {
  "colab": {
   "authorship_tag": "ABX9TyOEvY8Vtv6mp/CtOw9BWZVb",
   "mount_file_id": "1oGrXhQ89zkxFh1Qmz1HwHqGnCKFS-0Pz",
   "provenance": []
  },
  "kernelspec": {
   "display_name": "Python 3",
   "name": "python3"
  },
  "language_info": {
   "name": "python"
  }
 },
 "nbformat": 4,
 "nbformat_minor": 0
}
