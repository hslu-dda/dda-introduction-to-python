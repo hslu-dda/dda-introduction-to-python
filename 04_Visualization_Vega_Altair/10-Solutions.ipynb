{
 "cells": [
  {
   "cell_type": "markdown",
   "metadata": {},
   "source": [
    "# 10 Solutions\n",
    "\n",
    "\n"
   ]
  },
  {
   "cell_type": "code",
   "execution_count": null,
   "metadata": {},
   "outputs": [],
   "source": [
    "#import libraries\n",
    "import altair as alt\n",
    "import pandas as pd\n"
   ]
  },
  {
   "cell_type": "code",
   "execution_count": null,
   "metadata": {},
   "outputs": [],
   "source": [
    "# Wir arbeiten mit dem Afrika-Dataset\n",
    "df = pd.read_excel('data/african_countries_dataset.xlsx', sheet_name=1)"
   ]
  },
  {
   "cell_type": "markdown",
   "metadata": {},
   "source": [
    "1. Barchart\n",
    "* Erstelle einen Barchart mit den 10 bevölkerungsreichsten Ländern. \n",
    "* Sortiere absteigend nach Bevölkerung. \n",
    "* Füge einen Titel hinzu"
   ]
  },
  {
   "cell_type": "code",
   "execution_count": null,
   "metadata": {},
   "outputs": [],
   "source": [
    "df.head(1)"
   ]
  },
  {
   "cell_type": "code",
   "execution_count": null,
   "metadata": {},
   "outputs": [],
   "source": [
    "df_top_bevoelkerung = df.sort_values('Bevölkerung', ascending=False).head(10)"
   ]
  },
  {
   "cell_type": "code",
   "execution_count": null,
   "metadata": {},
   "outputs": [],
   "source": [
    "alt.Chart(df_top_bevoelkerung).mark_bar().encode(\n",
    "    x = 'Bevölkerung', \n",
    "    y = alt.Y('Land', sort='-x')\n",
    ")"
   ]
  },
  {
   "cell_type": "markdown",
   "metadata": {},
   "source": [
    "2. Scatterplot\n",
    "* Erstelle einen Scatterplot der Internetnutzer_% und Arbeitslosigket_% zeigt.\n",
    "* Füge ein Tooltip hinzu mit dem Namen, Internetnutzer_% und Arbeitslosigkeit_%\n",
    "* Füge einen Titel hinzu\n",
    "\n",
    "\n"
   ]
  },
  {
   "cell_type": "code",
   "execution_count": null,
   "metadata": {},
   "outputs": [],
   "source": [
    "alt.Chart(df).mark_point().encode(\n",
    "    x = 'Internetnutzer_%',\n",
    "    y = 'Arbeitslosigkeit_%',\n",
    "    tooltip=['Land', 'Internetnutzer_%', 'Arbeitslosigkeit_%'], \n",
    ")"
   ]
  },
  {
   "cell_type": "markdown",
   "metadata": {},
   "source": [
    "3. Farben & Formatierung\n",
    "* Kopiere den Plot von oben.\n",
    "* Füge die Farbskala 'plasma' hinzu.\n",
    "* Kehre die Richtung der Farbskala um. (Tipp: `reverse=True`)\n",
    "* Ändere die Achsenbeschriftung. \n",
    "* Lösche die Legendenbeschriftung\n",
    "* Ändere Dimensionen des Charts zu \n",
    "* Füge einen Titel & Untertitel hinzu\n"
   ]
  },
  {
   "cell_type": "code",
   "execution_count": null,
   "metadata": {},
   "outputs": [],
   "source": [
    "alt.Chart(df).mark_point().encode(\n",
    "    x = alt.X('Internetnutzer_%').title('Internutzung'),\n",
    "    y = alt.Y('Arbeitslosigkeit_%').title('Arbeitslosigkeit'),\n",
    "    tooltip=['Land', 'Internetnutzer_%', 'Arbeitslosigkeit_%'], \n",
    "    color = alt.Color('Arbeitslosigkeit_%').scale(scheme='plasma', reverse=True).title(None)\n",
    ").properties(\n",
    "    title = alt.Title(\"Je höher die Arbeitslosigkeit desto höher die Internetnutzung\",\n",
    "                      subtitle = \"Arbeitslosigkeit und Internetnutzung in Prozent\"),\n",
    "    width = 400, \n",
    "    height = 400                     \n",
    ")"
   ]
  },
  {
   "cell_type": "markdown",
   "metadata": {},
   "source": [
    "4. Abspeichern\n",
    "* Speichere den Chart in eine Variable \n",
    "* Und Exportiere diese als html-Datei in einem Ordner \"charts\" (ev. musst du diesen noch erstellen)"
   ]
  },
  {
   "cell_type": "code",
   "execution_count": null,
   "metadata": {},
   "outputs": [],
   "source": [
    "chart_internet_vs_arbeitslosigkeit = alt.Chart(df).mark_point().encode(\n",
    "    x = alt.X('Internetnutzer_%').title('Internutzung'),\n",
    "    y = alt.Y('Arbeitslosigkeit_%').title('Arbeitslosigkeit'),\n",
    "    tooltip=['Land', 'Internetnutzer_%', 'Arbeitslosigkeit_%'], \n",
    "    color = alt.Color('Arbeitslosigkeit_%').scale(scheme='plasma', reverse=True).title(None)\n",
    ").properties(\n",
    "    title = alt.Title(\"Je höher die Arbeitslosigkeit desto höher die Internetnutzung\",\n",
    "                      subtitle = \"Arbeitslosigkeit und Internetnutzung in Prozent\"),\n",
    "    width = 400, \n",
    "    height = 400                     \n",
    ")"
   ]
  },
  {
   "cell_type": "code",
   "execution_count": null,
   "metadata": {},
   "outputs": [],
   "source": [
    "chart_internet_vs_arbeitslosigkeit.save('charts/internet_vs_arbeitslosigkeit.html', inline=True)"
   ]
  },
  {
   "cell_type": "code",
   "execution_count": null,
   "metadata": {},
   "outputs": [],
   "source": []
  },
  {
   "cell_type": "code",
   "execution_count": null,
   "metadata": {},
   "outputs": [],
   "source": []
  }
 ],
 "metadata": {
  "kernelspec": {
   "display_name": "Python 3",
   "language": "python",
   "name": "python3"
  },
  "language_info": {
   "codemirror_mode": {
    "name": "ipython",
    "version": 3
   },
   "file_extension": ".py",
   "mimetype": "text/x-python",
   "name": "python",
   "nbconvert_exporter": "python",
   "pygments_lexer": "ipython3",
   "version": "3.12.1"
  }
 },
 "nbformat": 4,
 "nbformat_minor": 2
}
