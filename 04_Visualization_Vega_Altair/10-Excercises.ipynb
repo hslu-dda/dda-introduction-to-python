{
 "cells": [
  {
   "cell_type": "markdown",
   "metadata": {},
   "source": [
    "# 10 Excercises\n",
    "\n",
    "\n"
   ]
  },
  {
   "cell_type": "code",
   "execution_count": 2,
   "metadata": {},
   "outputs": [],
   "source": [
    "#import libraries\n",
    "import altair as alt\n",
    "import pandas as pd\n"
   ]
  },
  {
   "cell_type": "code",
   "execution_count": 3,
   "metadata": {},
   "outputs": [],
   "source": [
    "df = pd.read_excel('data/african_countries_dataset.xlsx', sheet_name=1)"
   ]
  },
  {
   "cell_type": "markdown",
   "metadata": {},
   "source": [
    "1. Barchart\n",
    "* Erstelle einen Barchart mit den 10 bevölkerungsreichsten Ländern. \n",
    "* Sortiere absteigend nach Bevölkerung. \n",
    "* Füge einen Titel hinzu"
   ]
  },
  {
   "cell_type": "code",
   "execution_count": 5,
   "metadata": {},
   "outputs": [
    {
     "data": {
      "text/html": [
       "<div>\n",
       "<style scoped>\n",
       "    .dataframe tbody tr th:only-of-type {\n",
       "        vertical-align: middle;\n",
       "    }\n",
       "\n",
       "    .dataframe tbody tr th {\n",
       "        vertical-align: top;\n",
       "    }\n",
       "\n",
       "    .dataframe thead th {\n",
       "        text-align: right;\n",
       "    }\n",
       "</style>\n",
       "<table border=\"1\" class=\"dataframe\">\n",
       "  <thead>\n",
       "    <tr style=\"text-align: right;\">\n",
       "      <th></th>\n",
       "      <th>Land</th>\n",
       "      <th>Country_Code</th>\n",
       "      <th>Fläche_Total_km2</th>\n",
       "      <th>Fläche_Land_km2</th>\n",
       "      <th>Fläche_Wasser_km2</th>\n",
       "      <th>Küstenlänge_km</th>\n",
       "      <th>Landnutzung_Landwirtschaft_%</th>\n",
       "      <th>Landnutzung_Wald_%</th>\n",
       "      <th>Landnutzung_Other_%</th>\n",
       "      <th>Bevölkerung</th>\n",
       "      <th>Medianalter</th>\n",
       "      <th>Lebenserwartung</th>\n",
       "      <th>Urbanisierung_%</th>\n",
       "      <th>Bevölkerungswachstum_%</th>\n",
       "      <th>BIP_pro_Kopf_USD</th>\n",
       "      <th>Arbeitslosigkeit_%</th>\n",
       "      <th>Jugendarbeitslosigkeit_%</th>\n",
       "      <th>Alphabetisierung_M_%</th>\n",
       "      <th>Alphabetisierung_F_%</th>\n",
       "      <th>Internetnutzer_%</th>\n",
       "    </tr>\n",
       "  </thead>\n",
       "  <tbody>\n",
       "    <tr>\n",
       "      <th>0</th>\n",
       "      <td>Algeria</td>\n",
       "      <td>ag</td>\n",
       "      <td>2381740.0</td>\n",
       "      <td>2381740.0</td>\n",
       "      <td>0.0</td>\n",
       "      <td>998</td>\n",
       "      <td>17.3</td>\n",
       "      <td>0.8</td>\n",
       "      <td>81.8</td>\n",
       "      <td>47022473.0</td>\n",
       "      <td>29.1</td>\n",
       "      <td>77.9</td>\n",
       "      <td>75.3</td>\n",
       "      <td>1.54</td>\n",
       "      <td>15200.0</td>\n",
       "      <td>11.81</td>\n",
       "      <td>30.8</td>\n",
       "      <td>87.4</td>\n",
       "      <td>75.3</td>\n",
       "      <td>71.0</td>\n",
       "    </tr>\n",
       "  </tbody>\n",
       "</table>\n",
       "</div>"
      ],
      "text/plain": [
       "      Land Country_Code  Fläche_Total_km2  Fläche_Land_km2  Fläche_Wasser_km2  \\\n",
       "0  Algeria           ag         2381740.0        2381740.0                0.0   \n",
       "\n",
       "   Küstenlänge_km  Landnutzung_Landwirtschaft_%  Landnutzung_Wald_%  \\\n",
       "0             998                          17.3                 0.8   \n",
       "\n",
       "   Landnutzung_Other_%  Bevölkerung  Medianalter  Lebenserwartung  \\\n",
       "0                 81.8   47022473.0         29.1             77.9   \n",
       "\n",
       "   Urbanisierung_%  Bevölkerungswachstum_%  BIP_pro_Kopf_USD  \\\n",
       "0             75.3                    1.54           15200.0   \n",
       "\n",
       "   Arbeitslosigkeit_%  Jugendarbeitslosigkeit_%  Alphabetisierung_M_%  \\\n",
       "0               11.81                      30.8                  87.4   \n",
       "\n",
       "   Alphabetisierung_F_%  Internetnutzer_%  \n",
       "0                  75.3              71.0  "
      ]
     },
     "execution_count": 5,
     "metadata": {},
     "output_type": "execute_result"
    }
   ],
   "source": [
    "df.head(1)"
   ]
  },
  {
   "cell_type": "code",
   "execution_count": 6,
   "metadata": {},
   "outputs": [],
   "source": [
    "df_top_bevoelkerung = df.sort_values('Bevölkerung', ascending=False).head(10)"
   ]
  },
  {
   "cell_type": "code",
   "execution_count": 18,
   "metadata": {},
   "outputs": [
    {
     "data": {
      "text/html": [
       "\n",
       "<style>\n",
       "  #altair-viz-f71a2f11a5854b1f90a74d23558a0ed2.vega-embed {\n",
       "    width: 100%;\n",
       "    display: flex;\n",
       "  }\n",
       "\n",
       "  #altair-viz-f71a2f11a5854b1f90a74d23558a0ed2.vega-embed details,\n",
       "  #altair-viz-f71a2f11a5854b1f90a74d23558a0ed2.vega-embed details summary {\n",
       "    position: relative;\n",
       "  }\n",
       "</style>\n",
       "<div id=\"altair-viz-f71a2f11a5854b1f90a74d23558a0ed2\"></div>\n",
       "<script type=\"text/javascript\">\n",
       "  var VEGA_DEBUG = (typeof VEGA_DEBUG == \"undefined\") ? {} : VEGA_DEBUG;\n",
       "  (function(spec, embedOpt){\n",
       "    let outputDiv = document.currentScript.previousElementSibling;\n",
       "    if (outputDiv.id !== \"altair-viz-f71a2f11a5854b1f90a74d23558a0ed2\") {\n",
       "      outputDiv = document.getElementById(\"altair-viz-f71a2f11a5854b1f90a74d23558a0ed2\");\n",
       "    }\n",
       "\n",
       "    const paths = {\n",
       "      \"vega\": \"https://cdn.jsdelivr.net/npm/vega@5?noext\",\n",
       "      \"vega-lib\": \"https://cdn.jsdelivr.net/npm/vega-lib?noext\",\n",
       "      \"vega-lite\": \"https://cdn.jsdelivr.net/npm/vega-lite@5.20.1?noext\",\n",
       "      \"vega-embed\": \"https://cdn.jsdelivr.net/npm/vega-embed@6?noext\",\n",
       "    };\n",
       "\n",
       "    function maybeLoadScript(lib, version) {\n",
       "      var key = `${lib.replace(\"-\", \"\")}_version`;\n",
       "      return (VEGA_DEBUG[key] == version) ?\n",
       "        Promise.resolve(paths[lib]) :\n",
       "        new Promise(function(resolve, reject) {\n",
       "          var s = document.createElement('script');\n",
       "          document.getElementsByTagName(\"head\")[0].appendChild(s);\n",
       "          s.async = true;\n",
       "          s.onload = () => {\n",
       "            VEGA_DEBUG[key] = version;\n",
       "            return resolve(paths[lib]);\n",
       "          };\n",
       "          s.onerror = () => reject(`Error loading script: ${paths[lib]}`);\n",
       "          s.src = paths[lib];\n",
       "        });\n",
       "    }\n",
       "\n",
       "    function showError(err) {\n",
       "      outputDiv.innerHTML = `<div class=\"error\" style=\"color:red;\">${err}</div>`;\n",
       "      throw err;\n",
       "    }\n",
       "\n",
       "    function displayChart(vegaEmbed) {\n",
       "      vegaEmbed(outputDiv, spec, embedOpt)\n",
       "        .catch(err => showError(`Javascript Error: ${err.message}<br>This usually means there's a typo in your chart specification. See the javascript console for the full traceback.`));\n",
       "    }\n",
       "\n",
       "    if(typeof define === \"function\" && define.amd) {\n",
       "      requirejs.config({paths});\n",
       "      let deps = [\"vega-embed\"];\n",
       "      require(deps, displayChart, err => showError(`Error loading script: ${err.message}`));\n",
       "    } else {\n",
       "      maybeLoadScript(\"vega\", \"5\")\n",
       "        .then(() => maybeLoadScript(\"vega-lite\", \"5.20.1\"))\n",
       "        .then(() => maybeLoadScript(\"vega-embed\", \"6\"))\n",
       "        .catch(showError)\n",
       "        .then(() => displayChart(vegaEmbed));\n",
       "    }\n",
       "  })({\"config\": {\"view\": {\"continuousWidth\": 300, \"continuousHeight\": 300}}, \"data\": {\"name\": \"data-11da918ae463cbe197d10ae68b942d0a\"}, \"mark\": {\"type\": \"bar\"}, \"encoding\": {\"x\": {\"field\": \"Bev\\u00f6lkerung\", \"type\": \"quantitative\"}, \"y\": {\"field\": \"Land\", \"sort\": \"-x\", \"type\": \"nominal\"}}, \"$schema\": \"https://vega.github.io/schema/vega-lite/v5.20.1.json\", \"datasets\": {\"data-11da918ae463cbe197d10ae68b942d0a\": [{\"Land\": \"Nigeria\", \"Country_Code\": \"ni\", \"Fl\\u00e4che_Total_km2\": 923768.0, \"Fl\\u00e4che_Land_km2\": 910768.0, \"Fl\\u00e4che_Wasser_km2\": 13000.0, \"K\\u00fcstenl\\u00e4nge_km\": 853, \"Landnutzung_Landwirtschaft_%\": 75.8, \"Landnutzung_Wald_%\": 23.1, \"Landnutzung_Other_%\": 1.1, \"Bev\\u00f6lkerung\": 236747130.0, \"Medianalter\": 19.3, \"Lebenserwartung\": 62.2, \"Urbanisierung_%\": 54.3, \"Bev\\u00f6lkerungswachstum_%\": 2.52, \"BIP_pro_Kopf_USD\": 5600.0, \"Arbeitslosigkeit_%\": 3.07, \"Jugendarbeitslosigkeit_%\": 5.8, \"Alphabetisierung_M_%\": 71.3, \"Alphabetisierung_F_%\": 52.7, \"Internetnutzer_%\": 35.0}, {\"Land\": \"Ethiopia\", \"Country_Code\": \"et\", \"Fl\\u00e4che_Total_km2\": 1104300.0, \"Fl\\u00e4che_Land_km2\": 1096570.0, \"Fl\\u00e4che_Wasser_km2\": 7730.0, \"K\\u00fcstenl\\u00e4nge_km\": 0, \"Landnutzung_Landwirtschaft_%\": 34.1, \"Landnutzung_Wald_%\": 15.0, \"Landnutzung_Other_%\": 50.9, \"Bev\\u00f6lkerung\": 118550298.0, \"Medianalter\": 20.4, \"Lebenserwartung\": 67.7, \"Urbanisierung_%\": 23.2, \"Bev\\u00f6lkerungswachstum_%\": 2.37, \"BIP_pro_Kopf_USD\": 2800.0, \"Arbeitslosigkeit_%\": 3.5, \"Jugendarbeitslosigkeit_%\": 5.6, \"Alphabetisierung_M_%\": 57.2, \"Alphabetisierung_F_%\": 44.4, \"Internetnutzer_%\": 19.0}, {\"Land\": \"DRC\", \"Country_Code\": \"cg\", \"Fl\\u00e4che_Total_km2\": 2344858.0, \"Fl\\u00e4che_Land_km2\": 2267048.0, \"Fl\\u00e4che_Wasser_km2\": 77810.0, \"K\\u00fcstenl\\u00e4nge_km\": 37, \"Landnutzung_Landwirtschaft_%\": 15.5, \"Landnutzung_Wald_%\": 54.7, \"Landnutzung_Other_%\": 29.8, \"Bev\\u00f6lkerung\": 115403027.0, \"Medianalter\": 16.9, \"Lebenserwartung\": 62.6, \"Urbanisierung_%\": 47.4, \"Bev\\u00f6lkerungswachstum_%\": 3.11, \"BIP_pro_Kopf_USD\": 1500.0, \"Arbeitslosigkeit_%\": 4.54, \"Jugendarbeitslosigkeit_%\": 8.6, \"Alphabetisierung_M_%\": 89.5, \"Alphabetisierung_F_%\": 70.8, \"Internetnutzer_%\": 27.0}, {\"Land\": \"Egypt\", \"Country_Code\": \"eg\", \"Fl\\u00e4che_Total_km2\": 1001450.0, \"Fl\\u00e4che_Land_km2\": 995450.0, \"Fl\\u00e4che_Wasser_km2\": 6000.0, \"K\\u00fcstenl\\u00e4nge_km\": 2450, \"Landnutzung_Landwirtschaft_%\": 4.1, \"Landnutzung_Wald_%\": 0.0, \"Landnutzung_Other_%\": 95.9, \"Bev\\u00f6lkerung\": 111247248.0, \"Medianalter\": 24.4, \"Lebenserwartung\": 75.0, \"Urbanisierung_%\": 43.1, \"Bev\\u00f6lkerungswachstum_%\": 1.49, \"BIP_pro_Kopf_USD\": 16700.0, \"Arbeitslosigkeit_%\": 7.31, \"Jugendarbeitslosigkeit_%\": 19.0, \"Alphabetisierung_M_%\": 78.8, \"Alphabetisierung_F_%\": 67.4, \"Internetnutzer_%\": 72.0}, {\"Land\": \"Tanzania\", \"Country_Code\": \"tz\", \"Fl\\u00e4che_Total_km2\": 947300.0, \"Fl\\u00e4che_Land_km2\": 885800.0, \"Fl\\u00e4che_Wasser_km2\": 61500.0, \"K\\u00fcstenl\\u00e4nge_km\": 1424, \"Landnutzung_Landwirtschaft_%\": 44.6, \"Landnutzung_Wald_%\": 50.6, \"Landnutzung_Other_%\": 4.8, \"Bev\\u00f6lkerung\": 67462121.0, \"Medianalter\": 19.1, \"Lebenserwartung\": 70.8, \"Urbanisierung_%\": 37.4, \"Bev\\u00f6lkerungswachstum_%\": 2.72, \"BIP_pro_Kopf_USD\": 3600.0, \"Arbeitslosigkeit_%\": 2.61, \"Jugendarbeitslosigkeit_%\": 3.5, \"Alphabetisierung_M_%\": 85.5, \"Alphabetisierung_F_%\": 78.2, \"Internetnutzer_%\": 32.0}, {\"Land\": \"South Africa\", \"Country_Code\": \"sf\", \"Fl\\u00e4che_Total_km2\": 1219090.0, \"Fl\\u00e4che_Land_km2\": 1214470.0, \"Fl\\u00e4che_Wasser_km2\": 4620.0, \"K\\u00fcstenl\\u00e4nge_km\": 2798, \"Landnutzung_Landwirtschaft_%\": 79.4, \"Landnutzung_Wald_%\": 14.0, \"Landnutzung_Other_%\": 6.6, \"Bev\\u00f6lkerung\": 60442647.0, \"Medianalter\": 30.4, \"Lebenserwartung\": 71.9, \"Urbanisierung_%\": 68.8, \"Bev\\u00f6lkerungswachstum_%\": 1.07, \"BIP_pro_Kopf_USD\": 13700.0, \"Arbeitslosigkeit_%\": 27.99, \"Jugendarbeitslosigkeit_%\": 49.1, \"Alphabetisierung_M_%\": 95.5, \"Alphabetisierung_F_%\": 94.5, \"Internetnutzer_%\": 75.0}, {\"Land\": \"Kenya\", \"Country_Code\": \"ke\", \"Fl\\u00e4che_Total_km2\": 580367.0, \"Fl\\u00e4che_Land_km2\": 569140.0, \"Fl\\u00e4che_Wasser_km2\": 11227.0, \"K\\u00fcstenl\\u00e4nge_km\": 536, \"Landnutzung_Landwirtschaft_%\": 49.7, \"Landnutzung_Wald_%\": 6.3, \"Landnutzung_Other_%\": 43.9, \"Bev\\u00f6lkerung\": 58246378.0, \"Medianalter\": 21.2, \"Lebenserwartung\": 70.4, \"Urbanisierung_%\": 29.5, \"Bev\\u00f6lkerungswachstum_%\": 2.06, \"BIP_pro_Kopf_USD\": 5700.0, \"Arbeitslosigkeit_%\": 5.68, \"Jugendarbeitslosigkeit_%\": 12.2, \"Alphabetisierung_M_%\": 85.5, \"Alphabetisierung_F_%\": 79.8, \"Internetnutzer_%\": 41.0}, {\"Land\": \"Sudan\", \"Country_Code\": \"su\", \"Fl\\u00e4che_Total_km2\": 1861484.0, \"Fl\\u00e4che_Land_km2\": 1731671.0, \"Fl\\u00e4che_Wasser_km2\": 129813.0, \"K\\u00fcstenl\\u00e4nge_km\": 853, \"Landnutzung_Landwirtschaft_%\": 60.3, \"Landnutzung_Wald_%\": 9.6, \"Landnutzung_Other_%\": 30.0, \"Bev\\u00f6lkerung\": 50467278.0, \"Medianalter\": 19.3, \"Lebenserwartung\": 67.8, \"Urbanisierung_%\": 36.3, \"Bev\\u00f6lkerungswachstum_%\": 2.55, \"BIP_pro_Kopf_USD\": 2500.0, \"Arbeitslosigkeit_%\": 11.45, \"Jugendarbeitslosigkeit_%\": 18.2, \"Alphabetisierung_M_%\": 65.4, \"Alphabetisierung_F_%\": 56.1, \"Internetnutzer_%\": 29.0}, {\"Land\": \"Uganda\", \"Country_Code\": \"ug\", \"Fl\\u00e4che_Total_km2\": 241038.0, \"Fl\\u00e4che_Land_km2\": 197100.0, \"Fl\\u00e4che_Wasser_km2\": 43938.0, \"K\\u00fcstenl\\u00e4nge_km\": 0, \"Landnutzung_Landwirtschaft_%\": 71.9, \"Landnutzung_Wald_%\": 11.2, \"Landnutzung_Other_%\": 16.9, \"Bev\\u00f6lkerung\": 49283041.0, \"Medianalter\": 16.2, \"Lebenserwartung\": 69.7, \"Urbanisierung_%\": 26.8, \"Bev\\u00f6lkerungswachstum_%\": 3.18, \"BIP_pro_Kopf_USD\": 2800.0, \"Arbeitslosigkeit_%\": 2.83, \"Jugendarbeitslosigkeit_%\": 4.5, \"Alphabetisierung_M_%\": 84.0, \"Alphabetisierung_F_%\": 74.3, \"Internetnutzer_%\": 10.0}, {\"Land\": \"Algeria\", \"Country_Code\": \"ag\", \"Fl\\u00e4che_Total_km2\": 2381740.0, \"Fl\\u00e4che_Land_km2\": 2381740.0, \"Fl\\u00e4che_Wasser_km2\": 0.0, \"K\\u00fcstenl\\u00e4nge_km\": 998, \"Landnutzung_Landwirtschaft_%\": 17.3, \"Landnutzung_Wald_%\": 0.8, \"Landnutzung_Other_%\": 81.8, \"Bev\\u00f6lkerung\": 47022473.0, \"Medianalter\": 29.1, \"Lebenserwartung\": 77.9, \"Urbanisierung_%\": 75.3, \"Bev\\u00f6lkerungswachstum_%\": 1.54, \"BIP_pro_Kopf_USD\": 15200.0, \"Arbeitslosigkeit_%\": 11.81, \"Jugendarbeitslosigkeit_%\": 30.8, \"Alphabetisierung_M_%\": 87.4, \"Alphabetisierung_F_%\": 75.3, \"Internetnutzer_%\": 71.0}]}}, {\"mode\": \"vega-lite\"});\n",
       "</script>"
      ],
      "text/plain": [
       "alt.Chart(...)"
      ]
     },
     "execution_count": 18,
     "metadata": {},
     "output_type": "execute_result"
    }
   ],
   "source": [
    "alt.Chart(df_top_bevoelkerung).mark_bar().encode(\n",
    "    x = 'Bevölkerung', \n",
    "    y = alt.Y('Land', sort='-x')\n",
    ")"
   ]
  },
  {
   "cell_type": "markdown",
   "metadata": {},
   "source": [
    "2. Scatterplot\n",
    "* Erstelle einen Scatterplot der Internetnutzer_% und Arbeitslosigket_% zeigt.\n",
    "* Füge ein Tooltip hinzu mit dem Namen, Internetnutzer_% und Arbeitslosigkeit_%\n",
    "* Füge einen Titel hinzu\n",
    "\n",
    "\n"
   ]
  },
  {
   "cell_type": "code",
   "execution_count": 21,
   "metadata": {},
   "outputs": [
    {
     "data": {
      "text/html": [
       "\n",
       "<style>\n",
       "  #altair-viz-b35a4e904dcf474f89c13d630e5bc6e8.vega-embed {\n",
       "    width: 100%;\n",
       "    display: flex;\n",
       "  }\n",
       "\n",
       "  #altair-viz-b35a4e904dcf474f89c13d630e5bc6e8.vega-embed details,\n",
       "  #altair-viz-b35a4e904dcf474f89c13d630e5bc6e8.vega-embed details summary {\n",
       "    position: relative;\n",
       "  }\n",
       "</style>\n",
       "<div id=\"altair-viz-b35a4e904dcf474f89c13d630e5bc6e8\"></div>\n",
       "<script type=\"text/javascript\">\n",
       "  var VEGA_DEBUG = (typeof VEGA_DEBUG == \"undefined\") ? {} : VEGA_DEBUG;\n",
       "  (function(spec, embedOpt){\n",
       "    let outputDiv = document.currentScript.previousElementSibling;\n",
       "    if (outputDiv.id !== \"altair-viz-b35a4e904dcf474f89c13d630e5bc6e8\") {\n",
       "      outputDiv = document.getElementById(\"altair-viz-b35a4e904dcf474f89c13d630e5bc6e8\");\n",
       "    }\n",
       "\n",
       "    const paths = {\n",
       "      \"vega\": \"https://cdn.jsdelivr.net/npm/vega@5?noext\",\n",
       "      \"vega-lib\": \"https://cdn.jsdelivr.net/npm/vega-lib?noext\",\n",
       "      \"vega-lite\": \"https://cdn.jsdelivr.net/npm/vega-lite@5.20.1?noext\",\n",
       "      \"vega-embed\": \"https://cdn.jsdelivr.net/npm/vega-embed@6?noext\",\n",
       "    };\n",
       "\n",
       "    function maybeLoadScript(lib, version) {\n",
       "      var key = `${lib.replace(\"-\", \"\")}_version`;\n",
       "      return (VEGA_DEBUG[key] == version) ?\n",
       "        Promise.resolve(paths[lib]) :\n",
       "        new Promise(function(resolve, reject) {\n",
       "          var s = document.createElement('script');\n",
       "          document.getElementsByTagName(\"head\")[0].appendChild(s);\n",
       "          s.async = true;\n",
       "          s.onload = () => {\n",
       "            VEGA_DEBUG[key] = version;\n",
       "            return resolve(paths[lib]);\n",
       "          };\n",
       "          s.onerror = () => reject(`Error loading script: ${paths[lib]}`);\n",
       "          s.src = paths[lib];\n",
       "        });\n",
       "    }\n",
       "\n",
       "    function showError(err) {\n",
       "      outputDiv.innerHTML = `<div class=\"error\" style=\"color:red;\">${err}</div>`;\n",
       "      throw err;\n",
       "    }\n",
       "\n",
       "    function displayChart(vegaEmbed) {\n",
       "      vegaEmbed(outputDiv, spec, embedOpt)\n",
       "        .catch(err => showError(`Javascript Error: ${err.message}<br>This usually means there's a typo in your chart specification. See the javascript console for the full traceback.`));\n",
       "    }\n",
       "\n",
       "    if(typeof define === \"function\" && define.amd) {\n",
       "      requirejs.config({paths});\n",
       "      let deps = [\"vega-embed\"];\n",
       "      require(deps, displayChart, err => showError(`Error loading script: ${err.message}`));\n",
       "    } else {\n",
       "      maybeLoadScript(\"vega\", \"5\")\n",
       "        .then(() => maybeLoadScript(\"vega-lite\", \"5.20.1\"))\n",
       "        .then(() => maybeLoadScript(\"vega-embed\", \"6\"))\n",
       "        .catch(showError)\n",
       "        .then(() => displayChart(vegaEmbed));\n",
       "    }\n",
       "  })({\"config\": {\"view\": {\"continuousWidth\": 300, \"continuousHeight\": 300}}, \"data\": {\"name\": \"data-ae94e60e0c97cdc22de08b0c8af6a8fd\"}, \"mark\": {\"type\": \"point\"}, \"encoding\": {\"tooltip\": [{\"field\": \"Land\", \"type\": \"nominal\"}, {\"field\": \"Internetnutzer_%\", \"type\": \"quantitative\"}, {\"field\": \"Arbeitslosigkeit_%\", \"type\": \"quantitative\"}], \"x\": {\"field\": \"Internetnutzer_%\", \"type\": \"quantitative\"}, \"y\": {\"field\": \"Arbeitslosigkeit_%\", \"type\": \"quantitative\"}}, \"$schema\": \"https://vega.github.io/schema/vega-lite/v5.20.1.json\", \"datasets\": {\"data-ae94e60e0c97cdc22de08b0c8af6a8fd\": [{\"Land\": \"Algeria\", \"Country_Code\": \"ag\", \"Fl\\u00e4che_Total_km2\": 2381740.0, \"Fl\\u00e4che_Land_km2\": 2381740.0, \"Fl\\u00e4che_Wasser_km2\": 0.0, \"K\\u00fcstenl\\u00e4nge_km\": 998, \"Landnutzung_Landwirtschaft_%\": 17.3, \"Landnutzung_Wald_%\": 0.8, \"Landnutzung_Other_%\": 81.8, \"Bev\\u00f6lkerung\": 47022473.0, \"Medianalter\": 29.1, \"Lebenserwartung\": 77.9, \"Urbanisierung_%\": 75.3, \"Bev\\u00f6lkerungswachstum_%\": 1.54, \"BIP_pro_Kopf_USD\": 15200.0, \"Arbeitslosigkeit_%\": 11.81, \"Jugendarbeitslosigkeit_%\": 30.8, \"Alphabetisierung_M_%\": 87.4, \"Alphabetisierung_F_%\": 75.3, \"Internetnutzer_%\": 71.0}, {\"Land\": \"Angola\", \"Country_Code\": \"ao\", \"Fl\\u00e4che_Total_km2\": 1246700.0, \"Fl\\u00e4che_Land_km2\": 1246700.0, \"Fl\\u00e4che_Wasser_km2\": 0.0, \"K\\u00fcstenl\\u00e4nge_km\": 1600, \"Landnutzung_Landwirtschaft_%\": 36.8, \"Landnutzung_Wald_%\": 52.5, \"Landnutzung_Other_%\": 10.6, \"Bev\\u00f6lkerung\": 37202061.0, \"Medianalter\": 16.3, \"Lebenserwartung\": 62.9, \"Urbanisierung_%\": 68.7, \"Bev\\u00f6lkerungswachstum_%\": 3.33, \"BIP_pro_Kopf_USD\": 7200.0, \"Arbeitslosigkeit_%\": 14.62, \"Jugendarbeitslosigkeit_%\": 28.2, \"Alphabetisierung_M_%\": 82.6, \"Alphabetisierung_F_%\": 62.4, \"Internetnutzer_%\": 39.0}, {\"Land\": \"Benin\", \"Country_Code\": \"bn\", \"Fl\\u00e4che_Total_km2\": 112622.0, \"Fl\\u00e4che_Land_km2\": 110622.0, \"Fl\\u00e4che_Wasser_km2\": 2000.0, \"K\\u00fcstenl\\u00e4nge_km\": 121, \"Landnutzung_Landwirtschaft_%\": 43.1, \"Landnutzung_Wald_%\": 26.9, \"Landnutzung_Other_%\": 30.0, \"Bev\\u00f6lkerung\": 14697052.0, \"Medianalter\": 17.2, \"Lebenserwartung\": 63.0, \"Urbanisierung_%\": 50.1, \"Bev\\u00f6lkerungswachstum_%\": 3.29, \"BIP_pro_Kopf_USD\": 3700.0, \"Arbeitslosigkeit_%\": 1.45, \"Jugendarbeitslosigkeit_%\": 3.9, \"Alphabetisierung_M_%\": 56.9, \"Alphabetisierung_F_%\": 35.0, \"Internetnutzer_%\": 34.0}, {\"Land\": \"Botswana\", \"Country_Code\": \"bc\", \"Fl\\u00e4che_Total_km2\": 581730.0, \"Fl\\u00e4che_Land_km2\": 566730.0, \"Fl\\u00e4che_Wasser_km2\": 15000.0, \"K\\u00fcstenl\\u00e4nge_km\": 0, \"Landnutzung_Landwirtschaft_%\": 45.6, \"Landnutzung_Wald_%\": 26.5, \"Landnutzung_Other_%\": 27.9, \"Bev\\u00f6lkerung\": 2450668.0, \"Medianalter\": 27.1, \"Lebenserwartung\": 66.4, \"Urbanisierung_%\": 72.9, \"Bev\\u00f6lkerungswachstum_%\": 1.34, \"BIP_pro_Kopf_USD\": 18800.0, \"Arbeitslosigkeit_%\": 23.38, \"Jugendarbeitslosigkeit_%\": 45.4, \"Alphabetisierung_M_%\": 88.0, \"Alphabetisierung_F_%\": 88.9, \"Internetnutzer_%\": 77.0}, {\"Land\": \"Burkina Faso\", \"Country_Code\": \"uv\", \"Fl\\u00e4che_Total_km2\": 274200.0, \"Fl\\u00e4che_Land_km2\": 273800.0, \"Fl\\u00e4che_Wasser_km2\": 400.0, \"K\\u00fcstenl\\u00e4nge_km\": 0, \"Landnutzung_Landwirtschaft_%\": 53.2, \"Landnutzung_Wald_%\": 22.4, \"Landnutzung_Other_%\": 24.4, \"Bev\\u00f6lkerung\": 23042199.0, \"Medianalter\": 18.7, \"Lebenserwartung\": 64.2, \"Urbanisierung_%\": 32.5, \"Bev\\u00f6lkerungswachstum_%\": 2.4, \"BIP_pro_Kopf_USD\": 2500.0, \"Arbeitslosigkeit_%\": 5.29, \"Jugendarbeitslosigkeit_%\": 8.0, \"Alphabetisierung_M_%\": 54.5, \"Alphabetisierung_F_%\": 37.8, \"Internetnutzer_%\": 20.0}, {\"Land\": \"Burundi\", \"Country_Code\": \"by\", \"Fl\\u00e4che_Total_km2\": 27830.0, \"Fl\\u00e4che_Land_km2\": 25680.0, \"Fl\\u00e4che_Wasser_km2\": 2150.0, \"K\\u00fcstenl\\u00e4nge_km\": 0, \"Landnutzung_Landwirtschaft_%\": 82.8, \"Landnutzung_Wald_%\": 10.9, \"Landnutzung_Other_%\": 6.3, \"Bev\\u00f6lkerung\": 13590102.0, \"Medianalter\": 18.4, \"Lebenserwartung\": 68.1, \"Urbanisierung_%\": 14.8, \"Bev\\u00f6lkerungswachstum_%\": 2.81, \"BIP_pro_Kopf_USD\": 800.0, \"Arbeitslosigkeit_%\": 0.93, \"Jugendarbeitslosigkeit_%\": 1.7, \"Alphabetisierung_M_%\": 81.3, \"Alphabetisierung_F_%\": 68.4, \"Internetnutzer_%\": 11.0}, {\"Land\": \"C&ocirc;te d'Ivoire\", \"Country_Code\": \"iv\", \"Fl\\u00e4che_Total_km2\": 322463.0, \"Fl\\u00e4che_Land_km2\": 318003.0, \"Fl\\u00e4che_Wasser_km2\": 4460.0, \"K\\u00fcstenl\\u00e4nge_km\": 515, \"Landnutzung_Landwirtschaft_%\": 84.2, \"Landnutzung_Wald_%\": 8.2, \"Landnutzung_Other_%\": 7.6, \"Bev\\u00f6lkerung\": 29981758.0, \"Medianalter\": 21.2, \"Lebenserwartung\": 63.2, \"Urbanisierung_%\": 53.1, \"Bev\\u00f6lkerungswachstum_%\": 2.13, \"BIP_pro_Kopf_USD\": 6500.0, \"Arbeitslosigkeit_%\": 2.4, \"Jugendarbeitslosigkeit_%\": 4.0, \"Alphabetisierung_M_%\": 93.1, \"Alphabetisierung_F_%\": 86.7, \"Internetnutzer_%\": 38.0}, {\"Land\": \"Cabo Verde\", \"Country_Code\": \"cv\", \"Fl\\u00e4che_Total_km2\": 4033.0, \"Fl\\u00e4che_Land_km2\": 4033.0, \"Fl\\u00e4che_Wasser_km2\": 0.0, \"K\\u00fcstenl\\u00e4nge_km\": 965, \"Landnutzung_Landwirtschaft_%\": 19.6, \"Landnutzung_Wald_%\": 11.5, \"Landnutzung_Other_%\": 68.9, \"Bev\\u00f6lkerung\": 611014.0, \"Medianalter\": 28.8, \"Lebenserwartung\": 74.3, \"Urbanisierung_%\": 68.0, \"Bev\\u00f6lkerungswachstum_%\": 1.16, \"BIP_pro_Kopf_USD\": 9300.0, \"Arbeitslosigkeit_%\": 11.99, \"Jugendarbeitslosigkeit_%\": 28.7, \"Alphabetisierung_M_%\": 94.2, \"Alphabetisierung_F_%\": 87.4, \"Internetnutzer_%\": 72.0}, {\"Land\": \"Cameroon\", \"Country_Code\": \"cm\", \"Fl\\u00e4che_Total_km2\": 475440.0, \"Fl\\u00e4che_Land_km2\": 472710.0, \"Fl\\u00e4che_Wasser_km2\": 2730.0, \"K\\u00fcstenl\\u00e4nge_km\": 402, \"Landnutzung_Landwirtschaft_%\": 20.6, \"Landnutzung_Wald_%\": 42.8, \"Landnutzung_Other_%\": 36.6, \"Bev\\u00f6lkerung\": 30966105.0, \"Medianalter\": 18.9, \"Lebenserwartung\": 64.2, \"Urbanisierung_%\": 59.3, \"Bev\\u00f6lkerungswachstum_%\": 2.71, \"BIP_pro_Kopf_USD\": 4900.0, \"Arbeitslosigkeit_%\": 3.65, \"Jugendarbeitslosigkeit_%\": 6.4, \"Alphabetisierung_M_%\": 82.6, \"Alphabetisierung_F_%\": 71.6, \"Internetnutzer_%\": 44.0}, {\"Land\": \"Chad\", \"Country_Code\": \"cd\", \"Fl\\u00e4che_Total_km2\": 1.284, \"Fl\\u00e4che_Land_km2\": 1259200.0, \"Fl\\u00e4che_Wasser_km2\": 24800.0, \"K\\u00fcstenl\\u00e4nge_km\": 0, \"Landnutzung_Landwirtschaft_%\": 40.0, \"Landnutzung_Wald_%\": 3.2, \"Landnutzung_Other_%\": 56.8, \"Bev\\u00f6lkerung\": 19093595.0, \"Medianalter\": 16.7, \"Lebenserwartung\": 60.0, \"Urbanisierung_%\": 24.4, \"Bev\\u00f6lkerungswachstum_%\": 3.01, \"BIP_pro_Kopf_USD\": 1700.0, \"Arbeitslosigkeit_%\": 1.08, \"Jugendarbeitslosigkeit_%\": 1.5, \"Alphabetisierung_M_%\": 35.4, \"Alphabetisierung_F_%\": 18.2, \"Internetnutzer_%\": 12.0}, {\"Land\": \"Comoros\", \"Country_Code\": \"cn\", \"Fl\\u00e4che_Total_km2\": 2235.0, \"Fl\\u00e4che_Land_km2\": 2235.0, \"Fl\\u00e4che_Wasser_km2\": 0.0, \"K\\u00fcstenl\\u00e4nge_km\": 340, \"Landnutzung_Landwirtschaft_%\": 71.5, \"Landnutzung_Wald_%\": 17.2, \"Landnutzung_Other_%\": 11.3, \"Bev\\u00f6lkerung\": 900141.0, \"Medianalter\": 22.7, \"Lebenserwartung\": 67.8, \"Urbanisierung_%\": 30.1, \"Bev\\u00f6lkerungswachstum_%\": 1.3, \"BIP_pro_Kopf_USD\": 3500.0, \"Arbeitslosigkeit_%\": 5.8, \"Jugendarbeitslosigkeit_%\": 10.9, \"Alphabetisierung_M_%\": 67.0, \"Alphabetisierung_F_%\": 56.9, \"Internetnutzer_%\": 27.0}, {\"Land\": \"Congo (Brazzaville)\", \"Country_Code\": \"cf\", \"Fl\\u00e4che_Total_km2\": 342000.0, \"Fl\\u00e4che_Land_km2\": 341500.0, \"Fl\\u00e4che_Wasser_km2\": 500.0, \"K\\u00fcstenl\\u00e4nge_km\": 169, \"Landnutzung_Landwirtschaft_%\": 31.3, \"Landnutzung_Wald_%\": 64.2, \"Landnutzung_Other_%\": 4.5, \"Bev\\u00f6lkerung\": 6097665.0, \"Medianalter\": 20.7, \"Lebenserwartung\": 72.9, \"Urbanisierung_%\": 69.2, \"Bev\\u00f6lkerungswachstum_%\": 2.38, \"BIP_pro_Kopf_USD\": 6200.0, \"Arbeitslosigkeit_%\": 20.05, \"Jugendarbeitslosigkeit_%\": 41.2, \"Alphabetisierung_M_%\": 85.9, \"Alphabetisierung_F_%\": 75.4, \"Internetnutzer_%\": 36.0}, {\"Land\": \"DRC\", \"Country_Code\": \"cg\", \"Fl\\u00e4che_Total_km2\": 2344858.0, \"Fl\\u00e4che_Land_km2\": 2267048.0, \"Fl\\u00e4che_Wasser_km2\": 77810.0, \"K\\u00fcstenl\\u00e4nge_km\": 37, \"Landnutzung_Landwirtschaft_%\": 15.5, \"Landnutzung_Wald_%\": 54.7, \"Landnutzung_Other_%\": 29.8, \"Bev\\u00f6lkerung\": 115403027.0, \"Medianalter\": 16.9, \"Lebenserwartung\": 62.6, \"Urbanisierung_%\": 47.4, \"Bev\\u00f6lkerungswachstum_%\": 3.11, \"BIP_pro_Kopf_USD\": 1500.0, \"Arbeitslosigkeit_%\": 4.54, \"Jugendarbeitslosigkeit_%\": 8.6, \"Alphabetisierung_M_%\": 89.5, \"Alphabetisierung_F_%\": 70.8, \"Internetnutzer_%\": 27.0}, {\"Land\": \"Djibouti\", \"Country_Code\": \"dj\", \"Fl\\u00e4che_Total_km2\": 23200.0, \"Fl\\u00e4che_Land_km2\": 23180.0, \"Fl\\u00e4che_Wasser_km2\": 20.0, \"K\\u00fcstenl\\u00e4nge_km\": 314, \"Landnutzung_Landwirtschaft_%\": 73.5, \"Landnutzung_Wald_%\": 0.3, \"Landnutzung_Other_%\": 26.2, \"Bev\\u00f6lkerung\": 994974.0, \"Medianalter\": 26.3, \"Lebenserwartung\": 65.9, \"Urbanisierung_%\": 78.6, \"Bev\\u00f6lkerungswachstum_%\": 1.89, \"BIP_pro_Kopf_USD\": 6400.0, \"Arbeitslosigkeit_%\": 26.26, \"Jugendarbeitslosigkeit_%\": 76.5, \"Alphabetisierung_M_%\": null, \"Alphabetisierung_F_%\": null, \"Internetnutzer_%\": 65.0}, {\"Land\": \"Egypt\", \"Country_Code\": \"eg\", \"Fl\\u00e4che_Total_km2\": 1001450.0, \"Fl\\u00e4che_Land_km2\": 995450.0, \"Fl\\u00e4che_Wasser_km2\": 6000.0, \"K\\u00fcstenl\\u00e4nge_km\": 2450, \"Landnutzung_Landwirtschaft_%\": 4.1, \"Landnutzung_Wald_%\": 0.0, \"Landnutzung_Other_%\": 95.9, \"Bev\\u00f6lkerung\": 111247248.0, \"Medianalter\": 24.4, \"Lebenserwartung\": 75.0, \"Urbanisierung_%\": 43.1, \"Bev\\u00f6lkerungswachstum_%\": 1.49, \"BIP_pro_Kopf_USD\": 16700.0, \"Arbeitslosigkeit_%\": 7.31, \"Jugendarbeitslosigkeit_%\": 19.0, \"Alphabetisierung_M_%\": 78.8, \"Alphabetisierung_F_%\": 67.4, \"Internetnutzer_%\": 72.0}, {\"Land\": \"Equatorial Guinea\", \"Country_Code\": \"ek\", \"Fl\\u00e4che_Total_km2\": 28051.0, \"Fl\\u00e4che_Land_km2\": 28051.0, \"Fl\\u00e4che_Wasser_km2\": 0.0, \"K\\u00fcstenl\\u00e4nge_km\": 296, \"Landnutzung_Landwirtschaft_%\": 3.7, \"Landnutzung_Wald_%\": 86.7, \"Landnutzung_Other_%\": 9.6, \"Bev\\u00f6lkerung\": 1795834.0, \"Medianalter\": 22.1, \"Lebenserwartung\": 63.9, \"Urbanisierung_%\": 74.4, \"Bev\\u00f6lkerungswachstum_%\": 3.23, \"BIP_pro_Kopf_USD\": 15700.0, \"Arbeitslosigkeit_%\": 8.67, \"Jugendarbeitslosigkeit_%\": 16.4, \"Alphabetisierung_M_%\": 97.4, \"Alphabetisierung_F_%\": 93.0, \"Internetnutzer_%\": 67.0}, {\"Land\": \"Eritrea\", \"Country_Code\": \"er\", \"Fl\\u00e4che_Total_km2\": 117600.0, \"Fl\\u00e4che_Land_km2\": 101000.0, \"Fl\\u00e4che_Wasser_km2\": 16600.0, \"K\\u00fcstenl\\u00e4nge_km\": 2234, \"Landnutzung_Landwirtschaft_%\": 62.7, \"Landnutzung_Wald_%\": 8.7, \"Landnutzung_Other_%\": 28.6, \"Bev\\u00f6lkerung\": 6343956.0, \"Medianalter\": 21.3, \"Lebenserwartung\": 67.5, \"Urbanisierung_%\": 43.3, \"Bev\\u00f6lkerungswachstum_%\": 1.12, \"BIP_pro_Kopf_USD\": null, \"Arbeitslosigkeit_%\": 5.87, \"Jugendarbeitslosigkeit_%\": 10.0, \"Alphabetisierung_M_%\": 84.4, \"Alphabetisierung_F_%\": 68.9, \"Internetnutzer_%\": 27.0}, {\"Land\": \"Eswatini\", \"Country_Code\": \"wz\", \"Fl\\u00e4che_Total_km2\": 17364.0, \"Fl\\u00e4che_Land_km2\": 17204.0, \"Fl\\u00e4che_Wasser_km2\": 160.0, \"K\\u00fcstenl\\u00e4nge_km\": 0, \"Landnutzung_Landwirtschaft_%\": 69.5, \"Landnutzung_Wald_%\": 29.1, \"Landnutzung_Other_%\": 1.5, \"Bev\\u00f6lkerung\": 1138089.0, \"Medianalter\": 24.6, \"Lebenserwartung\": 60.7, \"Urbanisierung_%\": 24.8, \"Bev\\u00f6lkerungswachstum_%\": 0.7, \"BIP_pro_Kopf_USD\": 10100.0, \"Arbeitslosigkeit_%\": 37.64, \"Jugendarbeitslosigkeit_%\": 65.0, \"Alphabetisierung_M_%\": 88.3, \"Alphabetisierung_F_%\": 88.5, \"Internetnutzer_%\": 58.0}, {\"Land\": \"Ethiopia\", \"Country_Code\": \"et\", \"Fl\\u00e4che_Total_km2\": 1104300.0, \"Fl\\u00e4che_Land_km2\": 1096570.0, \"Fl\\u00e4che_Wasser_km2\": 7730.0, \"K\\u00fcstenl\\u00e4nge_km\": 0, \"Landnutzung_Landwirtschaft_%\": 34.1, \"Landnutzung_Wald_%\": 15.0, \"Landnutzung_Other_%\": 50.9, \"Bev\\u00f6lkerung\": 118550298.0, \"Medianalter\": 20.4, \"Lebenserwartung\": 67.7, \"Urbanisierung_%\": 23.2, \"Bev\\u00f6lkerungswachstum_%\": 2.37, \"BIP_pro_Kopf_USD\": 2800.0, \"Arbeitslosigkeit_%\": 3.5, \"Jugendarbeitslosigkeit_%\": 5.6, \"Alphabetisierung_M_%\": 57.2, \"Alphabetisierung_F_%\": 44.4, \"Internetnutzer_%\": 19.0}, {\"Land\": \"Gabon\", \"Country_Code\": \"gb\", \"Fl\\u00e4che_Total_km2\": 267667.0, \"Fl\\u00e4che_Land_km2\": 257667.0, \"Fl\\u00e4che_Wasser_km2\": 10000.0, \"K\\u00fcstenl\\u00e4nge_km\": 885, \"Landnutzung_Landwirtschaft_%\": 8.4, \"Landnutzung_Wald_%\": 91.2, \"Landnutzung_Other_%\": 0.4, \"Bev\\u00f6lkerung\": 2455105.0, \"Medianalter\": 22.0, \"Lebenserwartung\": 70.4, \"Urbanisierung_%\": 91.0, \"Bev\\u00f6lkerungswachstum_%\": 2.37, \"BIP_pro_Kopf_USD\": 18700.0, \"Arbeitslosigkeit_%\": 20.36, \"Jugendarbeitslosigkeit_%\": 36.5, \"Alphabetisierung_M_%\": 86.2, \"Alphabetisierung_F_%\": 84.7, \"Internetnutzer_%\": 74.0}, {\"Land\": \"Ghana\", \"Country_Code\": \"gh\", \"Fl\\u00e4che_Total_km2\": 238533.0, \"Fl\\u00e4che_Land_km2\": 227533.0, \"Fl\\u00e4che_Wasser_km2\": 11000.0, \"K\\u00fcstenl\\u00e4nge_km\": 539, \"Landnutzung_Landwirtschaft_%\": 55.4, \"Landnutzung_Wald_%\": 35.2, \"Landnutzung_Other_%\": 9.4, \"Bev\\u00f6lkerung\": 34589092.0, \"Medianalter\": 21.4, \"Lebenserwartung\": 70.1, \"Urbanisierung_%\": 59.2, \"Bev\\u00f6lkerungswachstum_%\": 2.15, \"BIP_pro_Kopf_USD\": 6800.0, \"Arbeitslosigkeit_%\": 3.08, \"Jugendarbeitslosigkeit_%\": 5.5, \"Alphabetisierung_M_%\": 83.5, \"Alphabetisierung_F_%\": 74.5, \"Internetnutzer_%\": 70.0}, {\"Land\": \"Guinea\", \"Country_Code\": \"gv\", \"Fl\\u00e4che_Total_km2\": 245857.0, \"Fl\\u00e4che_Land_km2\": 245717.0, \"Fl\\u00e4che_Wasser_km2\": 140.0, \"K\\u00fcstenl\\u00e4nge_km\": 320, \"Landnutzung_Landwirtschaft_%\": 70.0, \"Landnutzung_Wald_%\": 24.9, \"Landnutzung_Other_%\": 5.2, \"Bev\\u00f6lkerung\": 13986179.0, \"Medianalter\": 19.4, \"Lebenserwartung\": 64.6, \"Urbanisierung_%\": 38.1, \"Bev\\u00f6lkerungswachstum_%\": 2.74, \"BIP_pro_Kopf_USD\": 3900.0, \"Arbeitslosigkeit_%\": 5.3, \"Jugendarbeitslosigkeit_%\": 7.3, \"Alphabetisierung_M_%\": 61.2, \"Alphabetisierung_F_%\": 31.3, \"Internetnutzer_%\": 34.0}, {\"Land\": \"Guinea-Bissau\", \"Country_Code\": \"pu\", \"Fl\\u00e4che_Total_km2\": 36125.0, \"Fl\\u00e4che_Land_km2\": 28120.0, \"Fl\\u00e4che_Wasser_km2\": 8005.0, \"K\\u00fcstenl\\u00e4nge_km\": 350, \"Landnutzung_Landwirtschaft_%\": 30.0, \"Landnutzung_Wald_%\": 69.8, \"Landnutzung_Other_%\": 0.1, \"Bev\\u00f6lkerung\": 2132325.0, \"Medianalter\": 18.4, \"Lebenserwartung\": 64.5, \"Urbanisierung_%\": 45.5, \"Bev\\u00f6lkerungswachstum_%\": 2.54, \"BIP_pro_Kopf_USD\": 2600.0, \"Arbeitslosigkeit_%\": 3.18, \"Jugendarbeitslosigkeit_%\": 4.0, \"Alphabetisierung_M_%\": 67.0, \"Alphabetisierung_F_%\": 39.9, \"Internetnutzer_%\": 32.0}, {\"Land\": \"Kenya\", \"Country_Code\": \"ke\", \"Fl\\u00e4che_Total_km2\": 580367.0, \"Fl\\u00e4che_Land_km2\": 569140.0, \"Fl\\u00e4che_Wasser_km2\": 11227.0, \"K\\u00fcstenl\\u00e4nge_km\": 536, \"Landnutzung_Landwirtschaft_%\": 49.7, \"Landnutzung_Wald_%\": 6.3, \"Landnutzung_Other_%\": 43.9, \"Bev\\u00f6lkerung\": 58246378.0, \"Medianalter\": 21.2, \"Lebenserwartung\": 70.4, \"Urbanisierung_%\": 29.5, \"Bev\\u00f6lkerungswachstum_%\": 2.06, \"BIP_pro_Kopf_USD\": 5700.0, \"Arbeitslosigkeit_%\": 5.68, \"Jugendarbeitslosigkeit_%\": 12.2, \"Alphabetisierung_M_%\": 85.5, \"Alphabetisierung_F_%\": 79.8, \"Internetnutzer_%\": 41.0}, {\"Land\": \"Lesotho\", \"Country_Code\": \"lt\", \"Fl\\u00e4che_Total_km2\": 30355.0, \"Fl\\u00e4che_Land_km2\": 30355.0, \"Fl\\u00e4che_Wasser_km2\": 0.0, \"K\\u00fcstenl\\u00e4nge_km\": 0, \"Landnutzung_Landwirtschaft_%\": 74.8, \"Landnutzung_Wald_%\": 1.1, \"Landnutzung_Other_%\": 24.1, \"Bev\\u00f6lkerung\": 2227548.0, \"Medianalter\": 23.9, \"Lebenserwartung\": 60.2, \"Urbanisierung_%\": 30.4, \"Bev\\u00f6lkerungswachstum_%\": 0.76, \"BIP_pro_Kopf_USD\": 2600.0, \"Arbeitslosigkeit_%\": 16.46, \"Jugendarbeitslosigkeit_%\": 24.8, \"Alphabetisierung_M_%\": 72.9, \"Alphabetisierung_F_%\": 88.8, \"Internetnutzer_%\": 47.0}, {\"Land\": \"Liberia\", \"Country_Code\": \"li\", \"Fl\\u00e4che_Total_km2\": 111369.0, \"Fl\\u00e4che_Land_km2\": 96320.0, \"Fl\\u00e4che_Wasser_km2\": 15049.0, \"K\\u00fcstenl\\u00e4nge_km\": 579, \"Landnutzung_Landwirtschaft_%\": 20.0, \"Landnutzung_Wald_%\": 78.5, \"Landnutzung_Other_%\": 1.6, \"Bev\\u00f6lkerung\": 5437249.0, \"Medianalter\": 19.9, \"Lebenserwartung\": 61.6, \"Urbanisierung_%\": 53.6, \"Bev\\u00f6lkerungswachstum_%\": 2.32, \"BIP_pro_Kopf_USD\": 1600.0, \"Arbeitslosigkeit_%\": 2.94, \"Jugendarbeitslosigkeit_%\": 2.3, \"Alphabetisierung_M_%\": 62.7, \"Alphabetisierung_F_%\": 34.1, \"Internetnutzer_%\": 30.0}, {\"Land\": \"Libya\", \"Country_Code\": \"ly\", \"Fl\\u00e4che_Total_km2\": 1759540.0, \"Fl\\u00e4che_Land_km2\": 1759540.0, \"Fl\\u00e4che_Wasser_km2\": 0.0, \"K\\u00fcstenl\\u00e4nge_km\": 1770, \"Landnutzung_Landwirtschaft_%\": 8.7, \"Landnutzung_Wald_%\": 0.1, \"Landnutzung_Other_%\": 91.2, \"Bev\\u00f6lkerung\": 7361263.0, \"Medianalter\": 26.2, \"Lebenserwartung\": 77.7, \"Urbanisierung_%\": 81.6, \"Bev\\u00f6lkerungswachstum_%\": 1.44, \"BIP_pro_Kopf_USD\": 12500.0, \"Arbeitslosigkeit_%\": 18.74, \"Jugendarbeitslosigkeit_%\": 49.4, \"Alphabetisierung_M_%\": 96.7, \"Alphabetisierung_F_%\": 85.6, \"Internetnutzer_%\": 88.0}, {\"Land\": \"Madagascar\", \"Country_Code\": \"ma\", \"Fl\\u00e4che_Total_km2\": 587041.0, \"Fl\\u00e4che_Land_km2\": 581540.0, \"Fl\\u00e4che_Wasser_km2\": 5501.0, \"K\\u00fcstenl\\u00e4nge_km\": 4828, \"Landnutzung_Landwirtschaft_%\": 70.3, \"Landnutzung_Wald_%\": 21.3, \"Landnutzung_Other_%\": 8.4, \"Bev\\u00f6lkerung\": 29452714.0, \"Medianalter\": 21.3, \"Lebenserwartung\": 68.8, \"Urbanisierung_%\": 40.6, \"Bev\\u00f6lkerungswachstum_%\": 2.18, \"BIP_pro_Kopf_USD\": 1600.0, \"Arbeitslosigkeit_%\": 3.06, \"Jugendarbeitslosigkeit_%\": 5.5, \"Alphabetisierung_M_%\": 78.8, \"Alphabetisierung_F_%\": 75.8, \"Internetnutzer_%\": 21.0}, {\"Land\": \"Malawi\", \"Country_Code\": \"mi\", \"Fl\\u00e4che_Total_km2\": 118484.0, \"Fl\\u00e4che_Land_km2\": 94080.0, \"Fl\\u00e4che_Wasser_km2\": 24404.0, \"K\\u00fcstenl\\u00e4nge_km\": 0, \"Landnutzung_Landwirtschaft_%\": 64.2, \"Landnutzung_Wald_%\": 22.9, \"Landnutzung_Other_%\": 12.9, \"Bev\\u00f6lkerung\": 21763309.0, \"Medianalter\": 20.3, \"Lebenserwartung\": 73.0, \"Urbanisierung_%\": 18.3, \"Bev\\u00f6lkerungswachstum_%\": 2.22, \"BIP_pro_Kopf_USD\": 1600.0, \"Arbeitslosigkeit_%\": 5.04, \"Jugendarbeitslosigkeit_%\": 6.8, \"Alphabetisierung_M_%\": 71.2, \"Alphabetisierung_F_%\": 63.7, \"Internetnutzer_%\": 18.0}, {\"Land\": \"Mali\", \"Country_Code\": \"ml\", \"Fl\\u00e4che_Total_km2\": 1240192.0, \"Fl\\u00e4che_Land_km2\": 1220190.0, \"Fl\\u00e4che_Wasser_km2\": 20002.0, \"K\\u00fcstenl\\u00e4nge_km\": 0, \"Landnutzung_Landwirtschaft_%\": 35.5, \"Landnutzung_Wald_%\": 10.9, \"Landnutzung_Other_%\": 53.6, \"Bev\\u00f6lkerung\": 21990607.0, \"Medianalter\": 16.4, \"Lebenserwartung\": 63.2, \"Urbanisierung_%\": 46.2, \"Bev\\u00f6lkerungswachstum_%\": 2.9, \"BIP_pro_Kopf_USD\": 2400.0, \"Arbeitslosigkeit_%\": 3.01, \"Jugendarbeitslosigkeit_%\": 4.1, \"Alphabetisierung_M_%\": 46.2, \"Alphabetisierung_F_%\": 25.7, \"Internetnutzer_%\": 33.0}, {\"Land\": \"Mauritania\", \"Country_Code\": \"mr\", \"Fl\\u00e4che_Total_km2\": 1030700.0, \"Fl\\u00e4che_Land_km2\": 1030700.0, \"Fl\\u00e4che_Wasser_km2\": 0.0, \"K\\u00fcstenl\\u00e4nge_km\": 754, \"Landnutzung_Landwirtschaft_%\": 38.5, \"Landnutzung_Wald_%\": 0.3, \"Landnutzung_Other_%\": 61.2, \"Bev\\u00f6lkerung\": 4328040.0, \"Medianalter\": 22.1, \"Lebenserwartung\": 65.9, \"Urbanisierung_%\": 57.7, \"Bev\\u00f6lkerungswachstum_%\": 1.92, \"BIP_pro_Kopf_USD\": 6300.0, \"Arbeitslosigkeit_%\": 10.51, \"Jugendarbeitslosigkeit_%\": 23.7, \"Alphabetisierung_M_%\": 71.8, \"Alphabetisierung_F_%\": 62.2, \"Internetnutzer_%\": 44.0}, {\"Land\": \"Mauritius\", \"Country_Code\": \"mp\", \"Fl\\u00e4che_Total_km2\": 2040.0, \"Fl\\u00e4che_Land_km2\": 2030.0, \"Fl\\u00e4che_Wasser_km2\": 10.0, \"K\\u00fcstenl\\u00e4nge_km\": 177, \"Landnutzung_Landwirtschaft_%\": 43.1, \"Landnutzung_Wald_%\": 19.5, \"Landnutzung_Other_%\": 37.5, \"Bev\\u00f6lkerung\": 1310504.0, \"Medianalter\": 39.6, \"Lebenserwartung\": 75.4, \"Urbanisierung_%\": 40.9, \"Bev\\u00f6lkerungswachstum_%\": 0.07, \"BIP_pro_Kopf_USD\": 26600.0, \"Arbeitslosigkeit_%\": 6.06, \"Jugendarbeitslosigkeit_%\": 20.9, \"Alphabetisierung_M_%\": 93.5, \"Alphabetisierung_F_%\": 90.5, \"Internetnutzer_%\": 76.0}, {\"Land\": \"Morocco\", \"Country_Code\": \"mo\", \"Fl\\u00e4che_Total_km2\": 716550.0, \"Fl\\u00e4che_Land_km2\": 716300.0, \"Fl\\u00e4che_Wasser_km2\": 250.0, \"K\\u00fcstenl\\u00e4nge_km\": 2945, \"Landnutzung_Landwirtschaft_%\": 67.9, \"Landnutzung_Wald_%\": 12.9, \"Landnutzung_Other_%\": 19.2, \"Bev\\u00f6lkerung\": 37387585.0, \"Medianalter\": 30.6, \"Lebenserwartung\": 74.2, \"Urbanisierung_%\": 65.1, \"Bev\\u00f6lkerungswachstum_%\": 0.84, \"BIP_pro_Kopf_USD\": 8900.0, \"Arbeitslosigkeit_%\": 9.11, \"Jugendarbeitslosigkeit_%\": 22.6, \"Alphabetisierung_M_%\": 84.8, \"Alphabetisierung_F_%\": 67.4, \"Internetnutzer_%\": 90.0}, {\"Land\": \"Mozambique\", \"Country_Code\": \"mz\", \"Fl\\u00e4che_Total_km2\": 799380.0, \"Fl\\u00e4che_Land_km2\": 786380.0, \"Fl\\u00e4che_Wasser_km2\": 13000.0, \"K\\u00fcstenl\\u00e4nge_km\": 2470, \"Landnutzung_Landwirtschaft_%\": 52.7, \"Landnutzung_Wald_%\": 46.1, \"Landnutzung_Other_%\": 1.2, \"Bev\\u00f6lkerung\": 33350954.0, \"Medianalter\": 17.3, \"Lebenserwartung\": 58.3, \"Urbanisierung_%\": 38.8, \"Bev\\u00f6lkerungswachstum_%\": 2.54, \"BIP_pro_Kopf_USD\": 1500.0, \"Arbeitslosigkeit_%\": 3.54, \"Jugendarbeitslosigkeit_%\": 7.6, \"Alphabetisierung_M_%\": 74.1, \"Alphabetisierung_F_%\": 53.8, \"Internetnutzer_%\": 21.0}, {\"Land\": \"Namibia\", \"Country_Code\": \"wa\", \"Fl\\u00e4che_Total_km2\": 824292.0, \"Fl\\u00e4che_Land_km2\": 823290.0, \"Fl\\u00e4che_Wasser_km2\": 1002.0, \"K\\u00fcstenl\\u00e4nge_km\": 1572, \"Landnutzung_Landwirtschaft_%\": 47.1, \"Landnutzung_Wald_%\": 7.9, \"Landnutzung_Other_%\": 45.0, \"Bev\\u00f6lkerung\": 2803660.0, \"Medianalter\": 22.8, \"Lebenserwartung\": 65.9, \"Urbanisierung_%\": 54.9, \"Bev\\u00f6lkerungswachstum_%\": 1.72, \"BIP_pro_Kopf_USD\": 10100.0, \"Arbeitslosigkeit_%\": 19.42, \"Jugendarbeitslosigkeit_%\": 38.0, \"Alphabetisierung_M_%\": 90.6, \"Alphabetisierung_F_%\": 92.3, \"Internetnutzer_%\": 62.0}, {\"Land\": \"Niger\", \"Country_Code\": \"ng\", \"Fl\\u00e4che_Total_km2\": 1.267, \"Fl\\u00e4che_Land_km2\": 1266700.0, \"Fl\\u00e4che_Wasser_km2\": 300.0, \"K\\u00fcstenl\\u00e4nge_km\": 0, \"Landnutzung_Landwirtschaft_%\": 36.8, \"Landnutzung_Wald_%\": 0.8, \"Landnutzung_Other_%\": 62.4, \"Bev\\u00f6lkerung\": 26342784.0, \"Medianalter\": 15.2, \"Lebenserwartung\": 60.9, \"Urbanisierung_%\": 17.1, \"Bev\\u00f6lkerungswachstum_%\": 3.66, \"BIP_pro_Kopf_USD\": 1700.0, \"Arbeitslosigkeit_%\": 0.55, \"Jugendarbeitslosigkeit_%\": 0.8, \"Alphabetisierung_M_%\": 45.8, \"Alphabetisierung_F_%\": 29.0, \"Internetnutzer_%\": 17.0}, {\"Land\": \"Nigeria\", \"Country_Code\": \"ni\", \"Fl\\u00e4che_Total_km2\": 923768.0, \"Fl\\u00e4che_Land_km2\": 910768.0, \"Fl\\u00e4che_Wasser_km2\": 13000.0, \"K\\u00fcstenl\\u00e4nge_km\": 853, \"Landnutzung_Landwirtschaft_%\": 75.8, \"Landnutzung_Wald_%\": 23.1, \"Landnutzung_Other_%\": 1.1, \"Bev\\u00f6lkerung\": 236747130.0, \"Medianalter\": 19.3, \"Lebenserwartung\": 62.2, \"Urbanisierung_%\": 54.3, \"Bev\\u00f6lkerungswachstum_%\": 2.52, \"BIP_pro_Kopf_USD\": 5600.0, \"Arbeitslosigkeit_%\": 3.07, \"Jugendarbeitslosigkeit_%\": 5.8, \"Alphabetisierung_M_%\": 71.3, \"Alphabetisierung_F_%\": 52.7, \"Internetnutzer_%\": 35.0}, {\"Land\": \"Rwanda\", \"Country_Code\": \"rw\", \"Fl\\u00e4che_Total_km2\": 26338.0, \"Fl\\u00e4che_Land_km2\": 24668.0, \"Fl\\u00e4che_Wasser_km2\": 1670.0, \"K\\u00fcstenl\\u00e4nge_km\": 0, \"Landnutzung_Landwirtschaft_%\": 81.3, \"Landnutzung_Wald_%\": 11.3, \"Landnutzung_Other_%\": 7.5, \"Bev\\u00f6lkerung\": 13623302.0, \"Medianalter\": 20.8, \"Lebenserwartung\": 66.6, \"Urbanisierung_%\": 17.9, \"Bev\\u00f6lkerungswachstum_%\": 1.62, \"BIP_pro_Kopf_USD\": 3100.0, \"Arbeitslosigkeit_%\": 14.93, \"Jugendarbeitslosigkeit_%\": 22.0, \"Alphabetisierung_M_%\": 78.7, \"Alphabetisierung_F_%\": 73.3, \"Internetnutzer_%\": 34.0}, {\"Land\": \"Sao Tome and Principe\", \"Country_Code\": \"tp\", \"Fl\\u00e4che_Total_km2\": 964.0, \"Fl\\u00e4che_Land_km2\": 964.0, \"Fl\\u00e4che_Wasser_km2\": 0.0, \"K\\u00fcstenl\\u00e4nge_km\": 209, \"Landnutzung_Landwirtschaft_%\": 44.8, \"Landnutzung_Wald_%\": 52.8, \"Landnutzung_Other_%\": 2.4, \"Bev\\u00f6lkerung\": 223561.0, \"Medianalter\": 20.8, \"Lebenserwartung\": 67.7, \"Urbanisierung_%\": 76.4, \"Bev\\u00f6lkerungswachstum_%\": 1.42, \"BIP_pro_Kopf_USD\": 5500.0, \"Arbeitslosigkeit_%\": 14.21, \"Jugendarbeitslosigkeit_%\": 21.1, \"Alphabetisierung_M_%\": 96.5, \"Alphabetisierung_F_%\": 91.1, \"Internetnutzer_%\": 57.0}, {\"Land\": \"Senegal\", \"Country_Code\": \"sg\", \"Fl\\u00e4che_Total_km2\": 196722.0, \"Fl\\u00e4che_Land_km2\": 192530.0, \"Fl\\u00e4che_Wasser_km2\": 4192.0, \"K\\u00fcstenl\\u00e4nge_km\": 531, \"Landnutzung_Landwirtschaft_%\": 49.4, \"Landnutzung_Wald_%\": 41.5, \"Landnutzung_Other_%\": 9.1, \"Bev\\u00f6lkerung\": 18847519.0, \"Medianalter\": 19.2, \"Lebenserwartung\": 70.6, \"Urbanisierung_%\": 49.6, \"Bev\\u00f6lkerungswachstum_%\": 2.46, \"BIP_pro_Kopf_USD\": 4300.0, \"Arbeitslosigkeit_%\": 2.93, \"Jugendarbeitslosigkeit_%\": 4.1, \"Alphabetisierung_M_%\": 68.4, \"Alphabetisierung_F_%\": 45.4, \"Internetnutzer_%\": 60.0}, {\"Land\": \"Seychelles\", \"Country_Code\": \"se\", \"Fl\\u00e4che_Total_km2\": 455.0, \"Fl\\u00e4che_Land_km2\": 455.0, \"Fl\\u00e4che_Wasser_km2\": 0.0, \"K\\u00fcstenl\\u00e4nge_km\": 491, \"Landnutzung_Landwirtschaft_%\": 3.4, \"Landnutzung_Wald_%\": 73.3, \"Landnutzung_Other_%\": 23.4, \"Bev\\u00f6lkerung\": 98187.0, \"Medianalter\": 38.7, \"Lebenserwartung\": 76.6, \"Urbanisierung_%\": 58.8, \"Bev\\u00f6lkerungswachstum_%\": 0.56, \"BIP_pro_Kopf_USD\": 29500.0, \"Arbeitslosigkeit_%\": null, \"Jugendarbeitslosigkeit_%\": 16.5, \"Alphabetisierung_M_%\": 95.4, \"Alphabetisierung_F_%\": 96.4, \"Internetnutzer_%\": 87.0}, {\"Land\": \"Sierra Leone\", \"Country_Code\": \"sl\", \"Fl\\u00e4che_Total_km2\": 71740.0, \"Fl\\u00e4che_Land_km2\": 71620.0, \"Fl\\u00e4che_Wasser_km2\": 120.0, \"K\\u00fcstenl\\u00e4nge_km\": 402, \"Landnutzung_Landwirtschaft_%\": 54.7, \"Landnutzung_Wald_%\": 34.6, \"Landnutzung_Other_%\": 10.7, \"Bev\\u00f6lkerung\": 9121049.0, \"Medianalter\": 19.4, \"Lebenserwartung\": 59.4, \"Urbanisierung_%\": 44.3, \"Bev\\u00f6lkerungswachstum_%\": 2.32, \"BIP_pro_Kopf_USD\": 3000.0, \"Arbeitslosigkeit_%\": 3.17, \"Jugendarbeitslosigkeit_%\": 3.6, \"Alphabetisierung_M_%\": 56.3, \"Alphabetisierung_F_%\": 41.3, \"Internetnutzer_%\": 30.0}, {\"Land\": \"Somalia\", \"Country_Code\": \"so\", \"Fl\\u00e4che_Total_km2\": 637657.0, \"Fl\\u00e4che_Land_km2\": 627337.0, \"Fl\\u00e4che_Wasser_km2\": 10320.0, \"K\\u00fcstenl\\u00e4nge_km\": 3025, \"Landnutzung_Landwirtschaft_%\": 70.3, \"Landnutzung_Wald_%\": 9.3, \"Landnutzung_Other_%\": 20.4, \"Bev\\u00f6lkerung\": 13017273.0, \"Medianalter\": 19.1, \"Lebenserwartung\": 56.5, \"Urbanisierung_%\": 47.9, \"Bev\\u00f6lkerungswachstum_%\": 2.55, \"BIP_pro_Kopf_USD\": 1400.0, \"Arbeitslosigkeit_%\": 19.03, \"Jugendarbeitslosigkeit_%\": 34.3, \"Alphabetisierung_M_%\": null, \"Alphabetisierung_F_%\": null, \"Internetnutzer_%\": 28.0}, {\"Land\": \"South Africa\", \"Country_Code\": \"sf\", \"Fl\\u00e4che_Total_km2\": 1219090.0, \"Fl\\u00e4che_Land_km2\": 1214470.0, \"Fl\\u00e4che_Wasser_km2\": 4620.0, \"K\\u00fcstenl\\u00e4nge_km\": 2798, \"Landnutzung_Landwirtschaft_%\": 79.4, \"Landnutzung_Wald_%\": 14.0, \"Landnutzung_Other_%\": 6.6, \"Bev\\u00f6lkerung\": 60442647.0, \"Medianalter\": 30.4, \"Lebenserwartung\": 71.9, \"Urbanisierung_%\": 68.8, \"Bev\\u00f6lkerungswachstum_%\": 1.07, \"BIP_pro_Kopf_USD\": 13700.0, \"Arbeitslosigkeit_%\": 27.99, \"Jugendarbeitslosigkeit_%\": 49.1, \"Alphabetisierung_M_%\": 95.5, \"Alphabetisierung_F_%\": 94.5, \"Internetnutzer_%\": 75.0}, {\"Land\": \"South Sudan\", \"Country_Code\": \"od\", \"Fl\\u00e4che_Total_km2\": 644329.0, \"Fl\\u00e4che_Land_km2\": null, \"Fl\\u00e4che_Wasser_km2\": null, \"K\\u00fcstenl\\u00e4nge_km\": 0, \"Landnutzung_Landwirtschaft_%\": 44.7, \"Landnutzung_Wald_%\": 11.3, \"Landnutzung_Other_%\": 44.0, \"Bev\\u00f6lkerung\": 12703714.0, \"Medianalter\": 18.7, \"Lebenserwartung\": 60.3, \"Urbanisierung_%\": 21.2, \"Bev\\u00f6lkerungswachstum_%\": 4.65, \"BIP_pro_Kopf_USD\": null, \"Arbeitslosigkeit_%\": 12.27, \"Jugendarbeitslosigkeit_%\": 18.3, \"Alphabetisierung_M_%\": 40.3, \"Alphabetisierung_F_%\": 28.9, \"Internetnutzer_%\": 12.0}, {\"Land\": \"Sudan\", \"Country_Code\": \"su\", \"Fl\\u00e4che_Total_km2\": 1861484.0, \"Fl\\u00e4che_Land_km2\": 1731671.0, \"Fl\\u00e4che_Wasser_km2\": 129813.0, \"K\\u00fcstenl\\u00e4nge_km\": 853, \"Landnutzung_Landwirtschaft_%\": 60.3, \"Landnutzung_Wald_%\": 9.6, \"Landnutzung_Other_%\": 30.0, \"Bev\\u00f6lkerung\": 50467278.0, \"Medianalter\": 19.3, \"Lebenserwartung\": 67.8, \"Urbanisierung_%\": 36.3, \"Bev\\u00f6lkerungswachstum_%\": 2.55, \"BIP_pro_Kopf_USD\": 2500.0, \"Arbeitslosigkeit_%\": 11.45, \"Jugendarbeitslosigkeit_%\": 18.2, \"Alphabetisierung_M_%\": 65.4, \"Alphabetisierung_F_%\": 56.1, \"Internetnutzer_%\": 29.0}, {\"Land\": \"Switzerland\", \"Country_Code\": \"sz\", \"Fl\\u00e4che_Total_km2\": 41277.0, \"Fl\\u00e4che_Land_km2\": 39997.0, \"Fl\\u00e4che_Wasser_km2\": 1280.0, \"K\\u00fcstenl\\u00e4nge_km\": 0, \"Landnutzung_Landwirtschaft_%\": 37.9, \"Landnutzung_Wald_%\": 32.3, \"Landnutzung_Other_%\": 29.8, \"Bev\\u00f6lkerung\": 8860574.0, \"Medianalter\": 44.2, \"Lebenserwartung\": 83.9, \"Urbanisierung_%\": 74.2, \"Bev\\u00f6lkerungswachstum_%\": 0.75, \"BIP_pro_Kopf_USD\": 82600.0, \"Arbeitslosigkeit_%\": 4.05, \"Jugendarbeitslosigkeit_%\": 8.0, \"Alphabetisierung_M_%\": null, \"Alphabetisierung_F_%\": null, \"Internetnutzer_%\": 97.0}, {\"Land\": \"Tanzania\", \"Country_Code\": \"tz\", \"Fl\\u00e4che_Total_km2\": 947300.0, \"Fl\\u00e4che_Land_km2\": 885800.0, \"Fl\\u00e4che_Wasser_km2\": 61500.0, \"K\\u00fcstenl\\u00e4nge_km\": 1424, \"Landnutzung_Landwirtschaft_%\": 44.6, \"Landnutzung_Wald_%\": 50.6, \"Landnutzung_Other_%\": 4.8, \"Bev\\u00f6lkerung\": 67462121.0, \"Medianalter\": 19.1, \"Lebenserwartung\": 70.8, \"Urbanisierung_%\": 37.4, \"Bev\\u00f6lkerungswachstum_%\": 2.72, \"BIP_pro_Kopf_USD\": 3600.0, \"Arbeitslosigkeit_%\": 2.61, \"Jugendarbeitslosigkeit_%\": 3.5, \"Alphabetisierung_M_%\": 85.5, \"Alphabetisierung_F_%\": 78.2, \"Internetnutzer_%\": 32.0}, {\"Land\": \"The Gambia\", \"Country_Code\": \"ga\", \"Fl\\u00e4che_Total_km2\": 11300.0, \"Fl\\u00e4che_Land_km2\": 10120.0, \"Fl\\u00e4che_Wasser_km2\": 1180.0, \"K\\u00fcstenl\\u00e4nge_km\": 80, \"Landnutzung_Landwirtschaft_%\": 62.6, \"Landnutzung_Wald_%\": 22.8, \"Landnutzung_Other_%\": 14.5, \"Bev\\u00f6lkerung\": 2523327.0, \"Medianalter\": 20.2, \"Lebenserwartung\": 68.4, \"Urbanisierung_%\": 64.5, \"Bev\\u00f6lkerungswachstum_%\": 2.16, \"BIP_pro_Kopf_USD\": 2900.0, \"Arbeitslosigkeit_%\": 6.48, \"Jugendarbeitslosigkeit_%\": 10.6, \"Alphabetisierung_M_%\": 65.2, \"Alphabetisierung_F_%\": 51.2, \"Internetnutzer_%\": 54.0}, {\"Land\": \"Togo\", \"Country_Code\": \"to\", \"Fl\\u00e4che_Total_km2\": 56785.0, \"Fl\\u00e4che_Land_km2\": 54385.0, \"Fl\\u00e4che_Wasser_km2\": 2400.0, \"K\\u00fcstenl\\u00e4nge_km\": 56, \"Landnutzung_Landwirtschaft_%\": 70.2, \"Landnutzung_Wald_%\": 22.1, \"Landnutzung_Other_%\": 7.6, \"Bev\\u00f6lkerung\": 8917994.0, \"Medianalter\": 20.7, \"Lebenserwartung\": 72.1, \"Urbanisierung_%\": 44.5, \"Bev\\u00f6lkerungswachstum_%\": 2.41, \"BIP_pro_Kopf_USD\": 2800.0, \"Arbeitslosigkeit_%\": 2.05, \"Jugendarbeitslosigkeit_%\": 3.3, \"Alphabetisierung_M_%\": 80.0, \"Alphabetisierung_F_%\": 55.1, \"Internetnutzer_%\": 38.0}, {\"Land\": \"Tunisia\", \"Country_Code\": \"ts\", \"Fl\\u00e4che_Total_km2\": 163610.0, \"Fl\\u00e4che_Land_km2\": 155360.0, \"Fl\\u00e4che_Wasser_km2\": 8250.0, \"K\\u00fcstenl\\u00e4nge_km\": 1148, \"Landnutzung_Landwirtschaft_%\": 62.4, \"Landnutzung_Wald_%\": 4.5, \"Landnutzung_Other_%\": 33.0, \"Bev\\u00f6lkerung\": 12048847.0, \"Medianalter\": 34.4, \"Lebenserwartung\": 77.3, \"Urbanisierung_%\": 70.5, \"Bev\\u00f6lkerungswachstum_%\": 0.58, \"BIP_pro_Kopf_USD\": 12600.0, \"Arbeitslosigkeit_%\": 15.11, \"Jugendarbeitslosigkeit_%\": 37.5, \"Alphabetisierung_M_%\": 89.1, \"Alphabetisierung_F_%\": 82.7, \"Internetnutzer_%\": 74.0}, {\"Land\": \"Uganda\", \"Country_Code\": \"ug\", \"Fl\\u00e4che_Total_km2\": 241038.0, \"Fl\\u00e4che_Land_km2\": 197100.0, \"Fl\\u00e4che_Wasser_km2\": 43938.0, \"K\\u00fcstenl\\u00e4nge_km\": 0, \"Landnutzung_Landwirtschaft_%\": 71.9, \"Landnutzung_Wald_%\": 11.2, \"Landnutzung_Other_%\": 16.9, \"Bev\\u00f6lkerung\": 49283041.0, \"Medianalter\": 16.2, \"Lebenserwartung\": 69.7, \"Urbanisierung_%\": 26.8, \"Bev\\u00f6lkerungswachstum_%\": 3.18, \"BIP_pro_Kopf_USD\": 2800.0, \"Arbeitslosigkeit_%\": 2.83, \"Jugendarbeitslosigkeit_%\": 4.5, \"Alphabetisierung_M_%\": 84.0, \"Alphabetisierung_F_%\": 74.3, \"Internetnutzer_%\": 10.0}, {\"Land\": \"Western Sahara\", \"Country_Code\": \"wi\", \"Fl\\u00e4che_Total_km2\": null, \"Fl\\u00e4che_Land_km2\": 266000.0, \"Fl\\u00e4che_Wasser_km2\": 0.0, \"K\\u00fcstenl\\u00e4nge_km\": 1110, \"Landnutzung_Landwirtschaft_%\": 18.8, \"Landnutzung_Wald_%\": 2.7, \"Landnutzung_Other_%\": 78.5, \"Bev\\u00f6lkerung\": null, \"Medianalter\": 21.8, \"Lebenserwartung\": 64.5, \"Urbanisierung_%\": 86.8, \"Bev\\u00f6lkerungswachstum_%\": 2.54, \"BIP_pro_Kopf_USD\": null, \"Arbeitslosigkeit_%\": null, \"Jugendarbeitslosigkeit_%\": null, \"Alphabetisierung_M_%\": null, \"Alphabetisierung_F_%\": null, \"Internetnutzer_%\": null}, {\"Land\": \"Zambia\", \"Country_Code\": \"za\", \"Fl\\u00e4che_Total_km2\": 752618.0, \"Fl\\u00e4che_Land_km2\": 743398.0, \"Fl\\u00e4che_Wasser_km2\": 9220.0, \"K\\u00fcstenl\\u00e4nge_km\": 0, \"Landnutzung_Landwirtschaft_%\": 32.1, \"Landnutzung_Wald_%\": 59.8, \"Landnutzung_Other_%\": 8.2, \"Bev\\u00f6lkerung\": 20799116.0, \"Medianalter\": 18.4, \"Lebenserwartung\": 66.9, \"Urbanisierung_%\": 46.3, \"Bev\\u00f6lkerungswachstum_%\": 2.83, \"BIP_pro_Kopf_USD\": 3700.0, \"Arbeitslosigkeit_%\": 5.91, \"Jugendarbeitslosigkeit_%\": 9.8, \"Alphabetisierung_M_%\": 90.6, \"Alphabetisierung_F_%\": 83.1, \"Internetnutzer_%\": 31.0}, {\"Land\": \"Zimbabwe\", \"Country_Code\": \"zi\", \"Fl\\u00e4che_Total_km2\": 390757.0, \"Fl\\u00e4che_Land_km2\": 386847.0, \"Fl\\u00e4che_Wasser_km2\": 3910.0, \"K\\u00fcstenl\\u00e4nge_km\": 0, \"Landnutzung_Landwirtschaft_%\": 39.5, \"Landnutzung_Wald_%\": 44.9, \"Landnutzung_Other_%\": 15.7, \"Bev\\u00f6lkerung\": 17150352.0, \"Medianalter\": 21.2, \"Lebenserwartung\": 67.2, \"Urbanisierung_%\": 32.5, \"Bev\\u00f6lkerungswachstum_%\": 1.91, \"BIP_pro_Kopf_USD\": 3400.0, \"Arbeitslosigkeit_%\": 8.76, \"Jugendarbeitslosigkeit_%\": 14.3, \"Alphabetisierung_M_%\": 88.3, \"Alphabetisierung_F_%\": 90.9, \"Internetnutzer_%\": 33.0}, {\"Land\": \"Central African Republic\", \"Country_Code\": \"ct\", \"Fl\\u00e4che_Total_km2\": 622984.0, \"Fl\\u00e4che_Land_km2\": 622984.0, \"Fl\\u00e4che_Wasser_km2\": 0.0, \"K\\u00fcstenl\\u00e4nge_km\": 0, \"Landnutzung_Landwirtschaft_%\": 9.0, \"Landnutzung_Wald_%\": 35.7, \"Landnutzung_Other_%\": 55.3, \"Bev\\u00f6lkerung\": 5650957.0, \"Medianalter\": 20.4, \"Lebenserwartung\": 56.4, \"Urbanisierung_%\": 43.6, \"Bev\\u00f6lkerungswachstum_%\": 1.76, \"BIP_pro_Kopf_USD\": 1100.0, \"Arbeitslosigkeit_%\": 6.29, \"Jugendarbeitslosigkeit_%\": 10.7, \"Alphabetisierung_M_%\": 49.2, \"Alphabetisierung_F_%\": 26.2, \"Internetnutzer_%\": 11.0}]}}, {\"mode\": \"vega-lite\"});\n",
       "</script>"
      ],
      "text/plain": [
       "alt.Chart(...)"
      ]
     },
     "execution_count": 21,
     "metadata": {},
     "output_type": "execute_result"
    }
   ],
   "source": [
    "alt.Chart(df).mark_point().encode(\n",
    "    x = 'Internetnutzer_%',\n",
    "    y = 'Arbeitslosigkeit_%',\n",
    "    tooltip=['Land', 'Internetnutzer_%', 'Arbeitslosigkeit_%'], \n",
    ")"
   ]
  },
  {
   "cell_type": "markdown",
   "metadata": {},
   "source": [
    "3. Farben & Formatierung\n",
    "* Kopiere den Plot von oben.\n",
    "* Füge die Farbskala 'plasma' hinzu.\n",
    "* Kehre die Richtung der Farbskala um. (Tipp: `reverse=True`)\n",
    "* Ändere die Achsenbeschriftung. \n",
    "* Lösche die Legendenbeschriftung\n",
    "* Ändere Dimensionen des Charts zu \n",
    "* Füge einen Titel & Untertitel hinzu\n"
   ]
  },
  {
   "cell_type": "code",
   "execution_count": 33,
   "metadata": {},
   "outputs": [
    {
     "data": {
      "text/html": [
       "\n",
       "<style>\n",
       "  #altair-viz-27d93e7e9eda46be93aaec61f5cc05ed.vega-embed {\n",
       "    width: 100%;\n",
       "    display: flex;\n",
       "  }\n",
       "\n",
       "  #altair-viz-27d93e7e9eda46be93aaec61f5cc05ed.vega-embed details,\n",
       "  #altair-viz-27d93e7e9eda46be93aaec61f5cc05ed.vega-embed details summary {\n",
       "    position: relative;\n",
       "  }\n",
       "</style>\n",
       "<div id=\"altair-viz-27d93e7e9eda46be93aaec61f5cc05ed\"></div>\n",
       "<script type=\"text/javascript\">\n",
       "  var VEGA_DEBUG = (typeof VEGA_DEBUG == \"undefined\") ? {} : VEGA_DEBUG;\n",
       "  (function(spec, embedOpt){\n",
       "    let outputDiv = document.currentScript.previousElementSibling;\n",
       "    if (outputDiv.id !== \"altair-viz-27d93e7e9eda46be93aaec61f5cc05ed\") {\n",
       "      outputDiv = document.getElementById(\"altair-viz-27d93e7e9eda46be93aaec61f5cc05ed\");\n",
       "    }\n",
       "\n",
       "    const paths = {\n",
       "      \"vega\": \"https://cdn.jsdelivr.net/npm/vega@5?noext\",\n",
       "      \"vega-lib\": \"https://cdn.jsdelivr.net/npm/vega-lib?noext\",\n",
       "      \"vega-lite\": \"https://cdn.jsdelivr.net/npm/vega-lite@5.20.1?noext\",\n",
       "      \"vega-embed\": \"https://cdn.jsdelivr.net/npm/vega-embed@6?noext\",\n",
       "    };\n",
       "\n",
       "    function maybeLoadScript(lib, version) {\n",
       "      var key = `${lib.replace(\"-\", \"\")}_version`;\n",
       "      return (VEGA_DEBUG[key] == version) ?\n",
       "        Promise.resolve(paths[lib]) :\n",
       "        new Promise(function(resolve, reject) {\n",
       "          var s = document.createElement('script');\n",
       "          document.getElementsByTagName(\"head\")[0].appendChild(s);\n",
       "          s.async = true;\n",
       "          s.onload = () => {\n",
       "            VEGA_DEBUG[key] = version;\n",
       "            return resolve(paths[lib]);\n",
       "          };\n",
       "          s.onerror = () => reject(`Error loading script: ${paths[lib]}`);\n",
       "          s.src = paths[lib];\n",
       "        });\n",
       "    }\n",
       "\n",
       "    function showError(err) {\n",
       "      outputDiv.innerHTML = `<div class=\"error\" style=\"color:red;\">${err}</div>`;\n",
       "      throw err;\n",
       "    }\n",
       "\n",
       "    function displayChart(vegaEmbed) {\n",
       "      vegaEmbed(outputDiv, spec, embedOpt)\n",
       "        .catch(err => showError(`Javascript Error: ${err.message}<br>This usually means there's a typo in your chart specification. See the javascript console for the full traceback.`));\n",
       "    }\n",
       "\n",
       "    if(typeof define === \"function\" && define.amd) {\n",
       "      requirejs.config({paths});\n",
       "      let deps = [\"vega-embed\"];\n",
       "      require(deps, displayChart, err => showError(`Error loading script: ${err.message}`));\n",
       "    } else {\n",
       "      maybeLoadScript(\"vega\", \"5\")\n",
       "        .then(() => maybeLoadScript(\"vega-lite\", \"5.20.1\"))\n",
       "        .then(() => maybeLoadScript(\"vega-embed\", \"6\"))\n",
       "        .catch(showError)\n",
       "        .then(() => displayChart(vegaEmbed));\n",
       "    }\n",
       "  })({\"config\": {\"view\": {\"continuousWidth\": 300, \"continuousHeight\": 300}}, \"data\": {\"name\": \"data-ae94e60e0c97cdc22de08b0c8af6a8fd\"}, \"mark\": {\"type\": \"point\"}, \"encoding\": {\"color\": {\"field\": \"Arbeitslosigkeit_%\", \"scale\": {\"scheme\": \"plasma\", \"reverse\": true}, \"title\": null, \"type\": \"quantitative\"}, \"tooltip\": [{\"field\": \"Land\", \"type\": \"nominal\"}, {\"field\": \"Internetnutzer_%\", \"type\": \"quantitative\"}, {\"field\": \"Arbeitslosigkeit_%\", \"type\": \"quantitative\"}], \"x\": {\"field\": \"Internetnutzer_%\", \"title\": \"Internutzung\", \"type\": \"quantitative\"}, \"y\": {\"field\": \"Arbeitslosigkeit_%\", \"title\": \"Arbeitslosigkeit\", \"type\": \"quantitative\"}}, \"height\": 400, \"title\": {\"text\": \"Je h\\u00f6her die Arbeitslosigkeit desto h\\u00f6her die Internetnutzung\", \"subtitle\": \"Arbeitslosigkeit und Internetnutzung in Prozent\"}, \"width\": 400, \"$schema\": \"https://vega.github.io/schema/vega-lite/v5.20.1.json\", \"datasets\": {\"data-ae94e60e0c97cdc22de08b0c8af6a8fd\": [{\"Land\": \"Algeria\", \"Country_Code\": \"ag\", \"Fl\\u00e4che_Total_km2\": 2381740.0, \"Fl\\u00e4che_Land_km2\": 2381740.0, \"Fl\\u00e4che_Wasser_km2\": 0.0, \"K\\u00fcstenl\\u00e4nge_km\": 998, \"Landnutzung_Landwirtschaft_%\": 17.3, \"Landnutzung_Wald_%\": 0.8, \"Landnutzung_Other_%\": 81.8, \"Bev\\u00f6lkerung\": 47022473.0, \"Medianalter\": 29.1, \"Lebenserwartung\": 77.9, \"Urbanisierung_%\": 75.3, \"Bev\\u00f6lkerungswachstum_%\": 1.54, \"BIP_pro_Kopf_USD\": 15200.0, \"Arbeitslosigkeit_%\": 11.81, \"Jugendarbeitslosigkeit_%\": 30.8, \"Alphabetisierung_M_%\": 87.4, \"Alphabetisierung_F_%\": 75.3, \"Internetnutzer_%\": 71.0}, {\"Land\": \"Angola\", \"Country_Code\": \"ao\", \"Fl\\u00e4che_Total_km2\": 1246700.0, \"Fl\\u00e4che_Land_km2\": 1246700.0, \"Fl\\u00e4che_Wasser_km2\": 0.0, \"K\\u00fcstenl\\u00e4nge_km\": 1600, \"Landnutzung_Landwirtschaft_%\": 36.8, \"Landnutzung_Wald_%\": 52.5, \"Landnutzung_Other_%\": 10.6, \"Bev\\u00f6lkerung\": 37202061.0, \"Medianalter\": 16.3, \"Lebenserwartung\": 62.9, \"Urbanisierung_%\": 68.7, \"Bev\\u00f6lkerungswachstum_%\": 3.33, \"BIP_pro_Kopf_USD\": 7200.0, \"Arbeitslosigkeit_%\": 14.62, \"Jugendarbeitslosigkeit_%\": 28.2, \"Alphabetisierung_M_%\": 82.6, \"Alphabetisierung_F_%\": 62.4, \"Internetnutzer_%\": 39.0}, {\"Land\": \"Benin\", \"Country_Code\": \"bn\", \"Fl\\u00e4che_Total_km2\": 112622.0, \"Fl\\u00e4che_Land_km2\": 110622.0, \"Fl\\u00e4che_Wasser_km2\": 2000.0, \"K\\u00fcstenl\\u00e4nge_km\": 121, \"Landnutzung_Landwirtschaft_%\": 43.1, \"Landnutzung_Wald_%\": 26.9, \"Landnutzung_Other_%\": 30.0, \"Bev\\u00f6lkerung\": 14697052.0, \"Medianalter\": 17.2, \"Lebenserwartung\": 63.0, \"Urbanisierung_%\": 50.1, \"Bev\\u00f6lkerungswachstum_%\": 3.29, \"BIP_pro_Kopf_USD\": 3700.0, \"Arbeitslosigkeit_%\": 1.45, \"Jugendarbeitslosigkeit_%\": 3.9, \"Alphabetisierung_M_%\": 56.9, \"Alphabetisierung_F_%\": 35.0, \"Internetnutzer_%\": 34.0}, {\"Land\": \"Botswana\", \"Country_Code\": \"bc\", \"Fl\\u00e4che_Total_km2\": 581730.0, \"Fl\\u00e4che_Land_km2\": 566730.0, \"Fl\\u00e4che_Wasser_km2\": 15000.0, \"K\\u00fcstenl\\u00e4nge_km\": 0, \"Landnutzung_Landwirtschaft_%\": 45.6, \"Landnutzung_Wald_%\": 26.5, \"Landnutzung_Other_%\": 27.9, \"Bev\\u00f6lkerung\": 2450668.0, \"Medianalter\": 27.1, \"Lebenserwartung\": 66.4, \"Urbanisierung_%\": 72.9, \"Bev\\u00f6lkerungswachstum_%\": 1.34, \"BIP_pro_Kopf_USD\": 18800.0, \"Arbeitslosigkeit_%\": 23.38, \"Jugendarbeitslosigkeit_%\": 45.4, \"Alphabetisierung_M_%\": 88.0, \"Alphabetisierung_F_%\": 88.9, \"Internetnutzer_%\": 77.0}, {\"Land\": \"Burkina Faso\", \"Country_Code\": \"uv\", \"Fl\\u00e4che_Total_km2\": 274200.0, \"Fl\\u00e4che_Land_km2\": 273800.0, \"Fl\\u00e4che_Wasser_km2\": 400.0, \"K\\u00fcstenl\\u00e4nge_km\": 0, \"Landnutzung_Landwirtschaft_%\": 53.2, \"Landnutzung_Wald_%\": 22.4, \"Landnutzung_Other_%\": 24.4, \"Bev\\u00f6lkerung\": 23042199.0, \"Medianalter\": 18.7, \"Lebenserwartung\": 64.2, \"Urbanisierung_%\": 32.5, \"Bev\\u00f6lkerungswachstum_%\": 2.4, \"BIP_pro_Kopf_USD\": 2500.0, \"Arbeitslosigkeit_%\": 5.29, \"Jugendarbeitslosigkeit_%\": 8.0, \"Alphabetisierung_M_%\": 54.5, \"Alphabetisierung_F_%\": 37.8, \"Internetnutzer_%\": 20.0}, {\"Land\": \"Burundi\", \"Country_Code\": \"by\", \"Fl\\u00e4che_Total_km2\": 27830.0, \"Fl\\u00e4che_Land_km2\": 25680.0, \"Fl\\u00e4che_Wasser_km2\": 2150.0, \"K\\u00fcstenl\\u00e4nge_km\": 0, \"Landnutzung_Landwirtschaft_%\": 82.8, \"Landnutzung_Wald_%\": 10.9, \"Landnutzung_Other_%\": 6.3, \"Bev\\u00f6lkerung\": 13590102.0, \"Medianalter\": 18.4, \"Lebenserwartung\": 68.1, \"Urbanisierung_%\": 14.8, \"Bev\\u00f6lkerungswachstum_%\": 2.81, \"BIP_pro_Kopf_USD\": 800.0, \"Arbeitslosigkeit_%\": 0.93, \"Jugendarbeitslosigkeit_%\": 1.7, \"Alphabetisierung_M_%\": 81.3, \"Alphabetisierung_F_%\": 68.4, \"Internetnutzer_%\": 11.0}, {\"Land\": \"C&ocirc;te d'Ivoire\", \"Country_Code\": \"iv\", \"Fl\\u00e4che_Total_km2\": 322463.0, \"Fl\\u00e4che_Land_km2\": 318003.0, \"Fl\\u00e4che_Wasser_km2\": 4460.0, \"K\\u00fcstenl\\u00e4nge_km\": 515, \"Landnutzung_Landwirtschaft_%\": 84.2, \"Landnutzung_Wald_%\": 8.2, \"Landnutzung_Other_%\": 7.6, \"Bev\\u00f6lkerung\": 29981758.0, \"Medianalter\": 21.2, \"Lebenserwartung\": 63.2, \"Urbanisierung_%\": 53.1, \"Bev\\u00f6lkerungswachstum_%\": 2.13, \"BIP_pro_Kopf_USD\": 6500.0, \"Arbeitslosigkeit_%\": 2.4, \"Jugendarbeitslosigkeit_%\": 4.0, \"Alphabetisierung_M_%\": 93.1, \"Alphabetisierung_F_%\": 86.7, \"Internetnutzer_%\": 38.0}, {\"Land\": \"Cabo Verde\", \"Country_Code\": \"cv\", \"Fl\\u00e4che_Total_km2\": 4033.0, \"Fl\\u00e4che_Land_km2\": 4033.0, \"Fl\\u00e4che_Wasser_km2\": 0.0, \"K\\u00fcstenl\\u00e4nge_km\": 965, \"Landnutzung_Landwirtschaft_%\": 19.6, \"Landnutzung_Wald_%\": 11.5, \"Landnutzung_Other_%\": 68.9, \"Bev\\u00f6lkerung\": 611014.0, \"Medianalter\": 28.8, \"Lebenserwartung\": 74.3, \"Urbanisierung_%\": 68.0, \"Bev\\u00f6lkerungswachstum_%\": 1.16, \"BIP_pro_Kopf_USD\": 9300.0, \"Arbeitslosigkeit_%\": 11.99, \"Jugendarbeitslosigkeit_%\": 28.7, \"Alphabetisierung_M_%\": 94.2, \"Alphabetisierung_F_%\": 87.4, \"Internetnutzer_%\": 72.0}, {\"Land\": \"Cameroon\", \"Country_Code\": \"cm\", \"Fl\\u00e4che_Total_km2\": 475440.0, \"Fl\\u00e4che_Land_km2\": 472710.0, \"Fl\\u00e4che_Wasser_km2\": 2730.0, \"K\\u00fcstenl\\u00e4nge_km\": 402, \"Landnutzung_Landwirtschaft_%\": 20.6, \"Landnutzung_Wald_%\": 42.8, \"Landnutzung_Other_%\": 36.6, \"Bev\\u00f6lkerung\": 30966105.0, \"Medianalter\": 18.9, \"Lebenserwartung\": 64.2, \"Urbanisierung_%\": 59.3, \"Bev\\u00f6lkerungswachstum_%\": 2.71, \"BIP_pro_Kopf_USD\": 4900.0, \"Arbeitslosigkeit_%\": 3.65, \"Jugendarbeitslosigkeit_%\": 6.4, \"Alphabetisierung_M_%\": 82.6, \"Alphabetisierung_F_%\": 71.6, \"Internetnutzer_%\": 44.0}, {\"Land\": \"Chad\", \"Country_Code\": \"cd\", \"Fl\\u00e4che_Total_km2\": 1.284, \"Fl\\u00e4che_Land_km2\": 1259200.0, \"Fl\\u00e4che_Wasser_km2\": 24800.0, \"K\\u00fcstenl\\u00e4nge_km\": 0, \"Landnutzung_Landwirtschaft_%\": 40.0, \"Landnutzung_Wald_%\": 3.2, \"Landnutzung_Other_%\": 56.8, \"Bev\\u00f6lkerung\": 19093595.0, \"Medianalter\": 16.7, \"Lebenserwartung\": 60.0, \"Urbanisierung_%\": 24.4, \"Bev\\u00f6lkerungswachstum_%\": 3.01, \"BIP_pro_Kopf_USD\": 1700.0, \"Arbeitslosigkeit_%\": 1.08, \"Jugendarbeitslosigkeit_%\": 1.5, \"Alphabetisierung_M_%\": 35.4, \"Alphabetisierung_F_%\": 18.2, \"Internetnutzer_%\": 12.0}, {\"Land\": \"Comoros\", \"Country_Code\": \"cn\", \"Fl\\u00e4che_Total_km2\": 2235.0, \"Fl\\u00e4che_Land_km2\": 2235.0, \"Fl\\u00e4che_Wasser_km2\": 0.0, \"K\\u00fcstenl\\u00e4nge_km\": 340, \"Landnutzung_Landwirtschaft_%\": 71.5, \"Landnutzung_Wald_%\": 17.2, \"Landnutzung_Other_%\": 11.3, \"Bev\\u00f6lkerung\": 900141.0, \"Medianalter\": 22.7, \"Lebenserwartung\": 67.8, \"Urbanisierung_%\": 30.1, \"Bev\\u00f6lkerungswachstum_%\": 1.3, \"BIP_pro_Kopf_USD\": 3500.0, \"Arbeitslosigkeit_%\": 5.8, \"Jugendarbeitslosigkeit_%\": 10.9, \"Alphabetisierung_M_%\": 67.0, \"Alphabetisierung_F_%\": 56.9, \"Internetnutzer_%\": 27.0}, {\"Land\": \"Congo (Brazzaville)\", \"Country_Code\": \"cf\", \"Fl\\u00e4che_Total_km2\": 342000.0, \"Fl\\u00e4che_Land_km2\": 341500.0, \"Fl\\u00e4che_Wasser_km2\": 500.0, \"K\\u00fcstenl\\u00e4nge_km\": 169, \"Landnutzung_Landwirtschaft_%\": 31.3, \"Landnutzung_Wald_%\": 64.2, \"Landnutzung_Other_%\": 4.5, \"Bev\\u00f6lkerung\": 6097665.0, \"Medianalter\": 20.7, \"Lebenserwartung\": 72.9, \"Urbanisierung_%\": 69.2, \"Bev\\u00f6lkerungswachstum_%\": 2.38, \"BIP_pro_Kopf_USD\": 6200.0, \"Arbeitslosigkeit_%\": 20.05, \"Jugendarbeitslosigkeit_%\": 41.2, \"Alphabetisierung_M_%\": 85.9, \"Alphabetisierung_F_%\": 75.4, \"Internetnutzer_%\": 36.0}, {\"Land\": \"DRC\", \"Country_Code\": \"cg\", \"Fl\\u00e4che_Total_km2\": 2344858.0, \"Fl\\u00e4che_Land_km2\": 2267048.0, \"Fl\\u00e4che_Wasser_km2\": 77810.0, \"K\\u00fcstenl\\u00e4nge_km\": 37, \"Landnutzung_Landwirtschaft_%\": 15.5, \"Landnutzung_Wald_%\": 54.7, \"Landnutzung_Other_%\": 29.8, \"Bev\\u00f6lkerung\": 115403027.0, \"Medianalter\": 16.9, \"Lebenserwartung\": 62.6, \"Urbanisierung_%\": 47.4, \"Bev\\u00f6lkerungswachstum_%\": 3.11, \"BIP_pro_Kopf_USD\": 1500.0, \"Arbeitslosigkeit_%\": 4.54, \"Jugendarbeitslosigkeit_%\": 8.6, \"Alphabetisierung_M_%\": 89.5, \"Alphabetisierung_F_%\": 70.8, \"Internetnutzer_%\": 27.0}, {\"Land\": \"Djibouti\", \"Country_Code\": \"dj\", \"Fl\\u00e4che_Total_km2\": 23200.0, \"Fl\\u00e4che_Land_km2\": 23180.0, \"Fl\\u00e4che_Wasser_km2\": 20.0, \"K\\u00fcstenl\\u00e4nge_km\": 314, \"Landnutzung_Landwirtschaft_%\": 73.5, \"Landnutzung_Wald_%\": 0.3, \"Landnutzung_Other_%\": 26.2, \"Bev\\u00f6lkerung\": 994974.0, \"Medianalter\": 26.3, \"Lebenserwartung\": 65.9, \"Urbanisierung_%\": 78.6, \"Bev\\u00f6lkerungswachstum_%\": 1.89, \"BIP_pro_Kopf_USD\": 6400.0, \"Arbeitslosigkeit_%\": 26.26, \"Jugendarbeitslosigkeit_%\": 76.5, \"Alphabetisierung_M_%\": null, \"Alphabetisierung_F_%\": null, \"Internetnutzer_%\": 65.0}, {\"Land\": \"Egypt\", \"Country_Code\": \"eg\", \"Fl\\u00e4che_Total_km2\": 1001450.0, \"Fl\\u00e4che_Land_km2\": 995450.0, \"Fl\\u00e4che_Wasser_km2\": 6000.0, \"K\\u00fcstenl\\u00e4nge_km\": 2450, \"Landnutzung_Landwirtschaft_%\": 4.1, \"Landnutzung_Wald_%\": 0.0, \"Landnutzung_Other_%\": 95.9, \"Bev\\u00f6lkerung\": 111247248.0, \"Medianalter\": 24.4, \"Lebenserwartung\": 75.0, \"Urbanisierung_%\": 43.1, \"Bev\\u00f6lkerungswachstum_%\": 1.49, \"BIP_pro_Kopf_USD\": 16700.0, \"Arbeitslosigkeit_%\": 7.31, \"Jugendarbeitslosigkeit_%\": 19.0, \"Alphabetisierung_M_%\": 78.8, \"Alphabetisierung_F_%\": 67.4, \"Internetnutzer_%\": 72.0}, {\"Land\": \"Equatorial Guinea\", \"Country_Code\": \"ek\", \"Fl\\u00e4che_Total_km2\": 28051.0, \"Fl\\u00e4che_Land_km2\": 28051.0, \"Fl\\u00e4che_Wasser_km2\": 0.0, \"K\\u00fcstenl\\u00e4nge_km\": 296, \"Landnutzung_Landwirtschaft_%\": 3.7, \"Landnutzung_Wald_%\": 86.7, \"Landnutzung_Other_%\": 9.6, \"Bev\\u00f6lkerung\": 1795834.0, \"Medianalter\": 22.1, \"Lebenserwartung\": 63.9, \"Urbanisierung_%\": 74.4, \"Bev\\u00f6lkerungswachstum_%\": 3.23, \"BIP_pro_Kopf_USD\": 15700.0, \"Arbeitslosigkeit_%\": 8.67, \"Jugendarbeitslosigkeit_%\": 16.4, \"Alphabetisierung_M_%\": 97.4, \"Alphabetisierung_F_%\": 93.0, \"Internetnutzer_%\": 67.0}, {\"Land\": \"Eritrea\", \"Country_Code\": \"er\", \"Fl\\u00e4che_Total_km2\": 117600.0, \"Fl\\u00e4che_Land_km2\": 101000.0, \"Fl\\u00e4che_Wasser_km2\": 16600.0, \"K\\u00fcstenl\\u00e4nge_km\": 2234, \"Landnutzung_Landwirtschaft_%\": 62.7, \"Landnutzung_Wald_%\": 8.7, \"Landnutzung_Other_%\": 28.6, \"Bev\\u00f6lkerung\": 6343956.0, \"Medianalter\": 21.3, \"Lebenserwartung\": 67.5, \"Urbanisierung_%\": 43.3, \"Bev\\u00f6lkerungswachstum_%\": 1.12, \"BIP_pro_Kopf_USD\": null, \"Arbeitslosigkeit_%\": 5.87, \"Jugendarbeitslosigkeit_%\": 10.0, \"Alphabetisierung_M_%\": 84.4, \"Alphabetisierung_F_%\": 68.9, \"Internetnutzer_%\": 27.0}, {\"Land\": \"Eswatini\", \"Country_Code\": \"wz\", \"Fl\\u00e4che_Total_km2\": 17364.0, \"Fl\\u00e4che_Land_km2\": 17204.0, \"Fl\\u00e4che_Wasser_km2\": 160.0, \"K\\u00fcstenl\\u00e4nge_km\": 0, \"Landnutzung_Landwirtschaft_%\": 69.5, \"Landnutzung_Wald_%\": 29.1, \"Landnutzung_Other_%\": 1.5, \"Bev\\u00f6lkerung\": 1138089.0, \"Medianalter\": 24.6, \"Lebenserwartung\": 60.7, \"Urbanisierung_%\": 24.8, \"Bev\\u00f6lkerungswachstum_%\": 0.7, \"BIP_pro_Kopf_USD\": 10100.0, \"Arbeitslosigkeit_%\": 37.64, \"Jugendarbeitslosigkeit_%\": 65.0, \"Alphabetisierung_M_%\": 88.3, \"Alphabetisierung_F_%\": 88.5, \"Internetnutzer_%\": 58.0}, {\"Land\": \"Ethiopia\", \"Country_Code\": \"et\", \"Fl\\u00e4che_Total_km2\": 1104300.0, \"Fl\\u00e4che_Land_km2\": 1096570.0, \"Fl\\u00e4che_Wasser_km2\": 7730.0, \"K\\u00fcstenl\\u00e4nge_km\": 0, \"Landnutzung_Landwirtschaft_%\": 34.1, \"Landnutzung_Wald_%\": 15.0, \"Landnutzung_Other_%\": 50.9, \"Bev\\u00f6lkerung\": 118550298.0, \"Medianalter\": 20.4, \"Lebenserwartung\": 67.7, \"Urbanisierung_%\": 23.2, \"Bev\\u00f6lkerungswachstum_%\": 2.37, \"BIP_pro_Kopf_USD\": 2800.0, \"Arbeitslosigkeit_%\": 3.5, \"Jugendarbeitslosigkeit_%\": 5.6, \"Alphabetisierung_M_%\": 57.2, \"Alphabetisierung_F_%\": 44.4, \"Internetnutzer_%\": 19.0}, {\"Land\": \"Gabon\", \"Country_Code\": \"gb\", \"Fl\\u00e4che_Total_km2\": 267667.0, \"Fl\\u00e4che_Land_km2\": 257667.0, \"Fl\\u00e4che_Wasser_km2\": 10000.0, \"K\\u00fcstenl\\u00e4nge_km\": 885, \"Landnutzung_Landwirtschaft_%\": 8.4, \"Landnutzung_Wald_%\": 91.2, \"Landnutzung_Other_%\": 0.4, \"Bev\\u00f6lkerung\": 2455105.0, \"Medianalter\": 22.0, \"Lebenserwartung\": 70.4, \"Urbanisierung_%\": 91.0, \"Bev\\u00f6lkerungswachstum_%\": 2.37, \"BIP_pro_Kopf_USD\": 18700.0, \"Arbeitslosigkeit_%\": 20.36, \"Jugendarbeitslosigkeit_%\": 36.5, \"Alphabetisierung_M_%\": 86.2, \"Alphabetisierung_F_%\": 84.7, \"Internetnutzer_%\": 74.0}, {\"Land\": \"Ghana\", \"Country_Code\": \"gh\", \"Fl\\u00e4che_Total_km2\": 238533.0, \"Fl\\u00e4che_Land_km2\": 227533.0, \"Fl\\u00e4che_Wasser_km2\": 11000.0, \"K\\u00fcstenl\\u00e4nge_km\": 539, \"Landnutzung_Landwirtschaft_%\": 55.4, \"Landnutzung_Wald_%\": 35.2, \"Landnutzung_Other_%\": 9.4, \"Bev\\u00f6lkerung\": 34589092.0, \"Medianalter\": 21.4, \"Lebenserwartung\": 70.1, \"Urbanisierung_%\": 59.2, \"Bev\\u00f6lkerungswachstum_%\": 2.15, \"BIP_pro_Kopf_USD\": 6800.0, \"Arbeitslosigkeit_%\": 3.08, \"Jugendarbeitslosigkeit_%\": 5.5, \"Alphabetisierung_M_%\": 83.5, \"Alphabetisierung_F_%\": 74.5, \"Internetnutzer_%\": 70.0}, {\"Land\": \"Guinea\", \"Country_Code\": \"gv\", \"Fl\\u00e4che_Total_km2\": 245857.0, \"Fl\\u00e4che_Land_km2\": 245717.0, \"Fl\\u00e4che_Wasser_km2\": 140.0, \"K\\u00fcstenl\\u00e4nge_km\": 320, \"Landnutzung_Landwirtschaft_%\": 70.0, \"Landnutzung_Wald_%\": 24.9, \"Landnutzung_Other_%\": 5.2, \"Bev\\u00f6lkerung\": 13986179.0, \"Medianalter\": 19.4, \"Lebenserwartung\": 64.6, \"Urbanisierung_%\": 38.1, \"Bev\\u00f6lkerungswachstum_%\": 2.74, \"BIP_pro_Kopf_USD\": 3900.0, \"Arbeitslosigkeit_%\": 5.3, \"Jugendarbeitslosigkeit_%\": 7.3, \"Alphabetisierung_M_%\": 61.2, \"Alphabetisierung_F_%\": 31.3, \"Internetnutzer_%\": 34.0}, {\"Land\": \"Guinea-Bissau\", \"Country_Code\": \"pu\", \"Fl\\u00e4che_Total_km2\": 36125.0, \"Fl\\u00e4che_Land_km2\": 28120.0, \"Fl\\u00e4che_Wasser_km2\": 8005.0, \"K\\u00fcstenl\\u00e4nge_km\": 350, \"Landnutzung_Landwirtschaft_%\": 30.0, \"Landnutzung_Wald_%\": 69.8, \"Landnutzung_Other_%\": 0.1, \"Bev\\u00f6lkerung\": 2132325.0, \"Medianalter\": 18.4, \"Lebenserwartung\": 64.5, \"Urbanisierung_%\": 45.5, \"Bev\\u00f6lkerungswachstum_%\": 2.54, \"BIP_pro_Kopf_USD\": 2600.0, \"Arbeitslosigkeit_%\": 3.18, \"Jugendarbeitslosigkeit_%\": 4.0, \"Alphabetisierung_M_%\": 67.0, \"Alphabetisierung_F_%\": 39.9, \"Internetnutzer_%\": 32.0}, {\"Land\": \"Kenya\", \"Country_Code\": \"ke\", \"Fl\\u00e4che_Total_km2\": 580367.0, \"Fl\\u00e4che_Land_km2\": 569140.0, \"Fl\\u00e4che_Wasser_km2\": 11227.0, \"K\\u00fcstenl\\u00e4nge_km\": 536, \"Landnutzung_Landwirtschaft_%\": 49.7, \"Landnutzung_Wald_%\": 6.3, \"Landnutzung_Other_%\": 43.9, \"Bev\\u00f6lkerung\": 58246378.0, \"Medianalter\": 21.2, \"Lebenserwartung\": 70.4, \"Urbanisierung_%\": 29.5, \"Bev\\u00f6lkerungswachstum_%\": 2.06, \"BIP_pro_Kopf_USD\": 5700.0, \"Arbeitslosigkeit_%\": 5.68, \"Jugendarbeitslosigkeit_%\": 12.2, \"Alphabetisierung_M_%\": 85.5, \"Alphabetisierung_F_%\": 79.8, \"Internetnutzer_%\": 41.0}, {\"Land\": \"Lesotho\", \"Country_Code\": \"lt\", \"Fl\\u00e4che_Total_km2\": 30355.0, \"Fl\\u00e4che_Land_km2\": 30355.0, \"Fl\\u00e4che_Wasser_km2\": 0.0, \"K\\u00fcstenl\\u00e4nge_km\": 0, \"Landnutzung_Landwirtschaft_%\": 74.8, \"Landnutzung_Wald_%\": 1.1, \"Landnutzung_Other_%\": 24.1, \"Bev\\u00f6lkerung\": 2227548.0, \"Medianalter\": 23.9, \"Lebenserwartung\": 60.2, \"Urbanisierung_%\": 30.4, \"Bev\\u00f6lkerungswachstum_%\": 0.76, \"BIP_pro_Kopf_USD\": 2600.0, \"Arbeitslosigkeit_%\": 16.46, \"Jugendarbeitslosigkeit_%\": 24.8, \"Alphabetisierung_M_%\": 72.9, \"Alphabetisierung_F_%\": 88.8, \"Internetnutzer_%\": 47.0}, {\"Land\": \"Liberia\", \"Country_Code\": \"li\", \"Fl\\u00e4che_Total_km2\": 111369.0, \"Fl\\u00e4che_Land_km2\": 96320.0, \"Fl\\u00e4che_Wasser_km2\": 15049.0, \"K\\u00fcstenl\\u00e4nge_km\": 579, \"Landnutzung_Landwirtschaft_%\": 20.0, \"Landnutzung_Wald_%\": 78.5, \"Landnutzung_Other_%\": 1.6, \"Bev\\u00f6lkerung\": 5437249.0, \"Medianalter\": 19.9, \"Lebenserwartung\": 61.6, \"Urbanisierung_%\": 53.6, \"Bev\\u00f6lkerungswachstum_%\": 2.32, \"BIP_pro_Kopf_USD\": 1600.0, \"Arbeitslosigkeit_%\": 2.94, \"Jugendarbeitslosigkeit_%\": 2.3, \"Alphabetisierung_M_%\": 62.7, \"Alphabetisierung_F_%\": 34.1, \"Internetnutzer_%\": 30.0}, {\"Land\": \"Libya\", \"Country_Code\": \"ly\", \"Fl\\u00e4che_Total_km2\": 1759540.0, \"Fl\\u00e4che_Land_km2\": 1759540.0, \"Fl\\u00e4che_Wasser_km2\": 0.0, \"K\\u00fcstenl\\u00e4nge_km\": 1770, \"Landnutzung_Landwirtschaft_%\": 8.7, \"Landnutzung_Wald_%\": 0.1, \"Landnutzung_Other_%\": 91.2, \"Bev\\u00f6lkerung\": 7361263.0, \"Medianalter\": 26.2, \"Lebenserwartung\": 77.7, \"Urbanisierung_%\": 81.6, \"Bev\\u00f6lkerungswachstum_%\": 1.44, \"BIP_pro_Kopf_USD\": 12500.0, \"Arbeitslosigkeit_%\": 18.74, \"Jugendarbeitslosigkeit_%\": 49.4, \"Alphabetisierung_M_%\": 96.7, \"Alphabetisierung_F_%\": 85.6, \"Internetnutzer_%\": 88.0}, {\"Land\": \"Madagascar\", \"Country_Code\": \"ma\", \"Fl\\u00e4che_Total_km2\": 587041.0, \"Fl\\u00e4che_Land_km2\": 581540.0, \"Fl\\u00e4che_Wasser_km2\": 5501.0, \"K\\u00fcstenl\\u00e4nge_km\": 4828, \"Landnutzung_Landwirtschaft_%\": 70.3, \"Landnutzung_Wald_%\": 21.3, \"Landnutzung_Other_%\": 8.4, \"Bev\\u00f6lkerung\": 29452714.0, \"Medianalter\": 21.3, \"Lebenserwartung\": 68.8, \"Urbanisierung_%\": 40.6, \"Bev\\u00f6lkerungswachstum_%\": 2.18, \"BIP_pro_Kopf_USD\": 1600.0, \"Arbeitslosigkeit_%\": 3.06, \"Jugendarbeitslosigkeit_%\": 5.5, \"Alphabetisierung_M_%\": 78.8, \"Alphabetisierung_F_%\": 75.8, \"Internetnutzer_%\": 21.0}, {\"Land\": \"Malawi\", \"Country_Code\": \"mi\", \"Fl\\u00e4che_Total_km2\": 118484.0, \"Fl\\u00e4che_Land_km2\": 94080.0, \"Fl\\u00e4che_Wasser_km2\": 24404.0, \"K\\u00fcstenl\\u00e4nge_km\": 0, \"Landnutzung_Landwirtschaft_%\": 64.2, \"Landnutzung_Wald_%\": 22.9, \"Landnutzung_Other_%\": 12.9, \"Bev\\u00f6lkerung\": 21763309.0, \"Medianalter\": 20.3, \"Lebenserwartung\": 73.0, \"Urbanisierung_%\": 18.3, \"Bev\\u00f6lkerungswachstum_%\": 2.22, \"BIP_pro_Kopf_USD\": 1600.0, \"Arbeitslosigkeit_%\": 5.04, \"Jugendarbeitslosigkeit_%\": 6.8, \"Alphabetisierung_M_%\": 71.2, \"Alphabetisierung_F_%\": 63.7, \"Internetnutzer_%\": 18.0}, {\"Land\": \"Mali\", \"Country_Code\": \"ml\", \"Fl\\u00e4che_Total_km2\": 1240192.0, \"Fl\\u00e4che_Land_km2\": 1220190.0, \"Fl\\u00e4che_Wasser_km2\": 20002.0, \"K\\u00fcstenl\\u00e4nge_km\": 0, \"Landnutzung_Landwirtschaft_%\": 35.5, \"Landnutzung_Wald_%\": 10.9, \"Landnutzung_Other_%\": 53.6, \"Bev\\u00f6lkerung\": 21990607.0, \"Medianalter\": 16.4, \"Lebenserwartung\": 63.2, \"Urbanisierung_%\": 46.2, \"Bev\\u00f6lkerungswachstum_%\": 2.9, \"BIP_pro_Kopf_USD\": 2400.0, \"Arbeitslosigkeit_%\": 3.01, \"Jugendarbeitslosigkeit_%\": 4.1, \"Alphabetisierung_M_%\": 46.2, \"Alphabetisierung_F_%\": 25.7, \"Internetnutzer_%\": 33.0}, {\"Land\": \"Mauritania\", \"Country_Code\": \"mr\", \"Fl\\u00e4che_Total_km2\": 1030700.0, \"Fl\\u00e4che_Land_km2\": 1030700.0, \"Fl\\u00e4che_Wasser_km2\": 0.0, \"K\\u00fcstenl\\u00e4nge_km\": 754, \"Landnutzung_Landwirtschaft_%\": 38.5, \"Landnutzung_Wald_%\": 0.3, \"Landnutzung_Other_%\": 61.2, \"Bev\\u00f6lkerung\": 4328040.0, \"Medianalter\": 22.1, \"Lebenserwartung\": 65.9, \"Urbanisierung_%\": 57.7, \"Bev\\u00f6lkerungswachstum_%\": 1.92, \"BIP_pro_Kopf_USD\": 6300.0, \"Arbeitslosigkeit_%\": 10.51, \"Jugendarbeitslosigkeit_%\": 23.7, \"Alphabetisierung_M_%\": 71.8, \"Alphabetisierung_F_%\": 62.2, \"Internetnutzer_%\": 44.0}, {\"Land\": \"Mauritius\", \"Country_Code\": \"mp\", \"Fl\\u00e4che_Total_km2\": 2040.0, \"Fl\\u00e4che_Land_km2\": 2030.0, \"Fl\\u00e4che_Wasser_km2\": 10.0, \"K\\u00fcstenl\\u00e4nge_km\": 177, \"Landnutzung_Landwirtschaft_%\": 43.1, \"Landnutzung_Wald_%\": 19.5, \"Landnutzung_Other_%\": 37.5, \"Bev\\u00f6lkerung\": 1310504.0, \"Medianalter\": 39.6, \"Lebenserwartung\": 75.4, \"Urbanisierung_%\": 40.9, \"Bev\\u00f6lkerungswachstum_%\": 0.07, \"BIP_pro_Kopf_USD\": 26600.0, \"Arbeitslosigkeit_%\": 6.06, \"Jugendarbeitslosigkeit_%\": 20.9, \"Alphabetisierung_M_%\": 93.5, \"Alphabetisierung_F_%\": 90.5, \"Internetnutzer_%\": 76.0}, {\"Land\": \"Morocco\", \"Country_Code\": \"mo\", \"Fl\\u00e4che_Total_km2\": 716550.0, \"Fl\\u00e4che_Land_km2\": 716300.0, \"Fl\\u00e4che_Wasser_km2\": 250.0, \"K\\u00fcstenl\\u00e4nge_km\": 2945, \"Landnutzung_Landwirtschaft_%\": 67.9, \"Landnutzung_Wald_%\": 12.9, \"Landnutzung_Other_%\": 19.2, \"Bev\\u00f6lkerung\": 37387585.0, \"Medianalter\": 30.6, \"Lebenserwartung\": 74.2, \"Urbanisierung_%\": 65.1, \"Bev\\u00f6lkerungswachstum_%\": 0.84, \"BIP_pro_Kopf_USD\": 8900.0, \"Arbeitslosigkeit_%\": 9.11, \"Jugendarbeitslosigkeit_%\": 22.6, \"Alphabetisierung_M_%\": 84.8, \"Alphabetisierung_F_%\": 67.4, \"Internetnutzer_%\": 90.0}, {\"Land\": \"Mozambique\", \"Country_Code\": \"mz\", \"Fl\\u00e4che_Total_km2\": 799380.0, \"Fl\\u00e4che_Land_km2\": 786380.0, \"Fl\\u00e4che_Wasser_km2\": 13000.0, \"K\\u00fcstenl\\u00e4nge_km\": 2470, \"Landnutzung_Landwirtschaft_%\": 52.7, \"Landnutzung_Wald_%\": 46.1, \"Landnutzung_Other_%\": 1.2, \"Bev\\u00f6lkerung\": 33350954.0, \"Medianalter\": 17.3, \"Lebenserwartung\": 58.3, \"Urbanisierung_%\": 38.8, \"Bev\\u00f6lkerungswachstum_%\": 2.54, \"BIP_pro_Kopf_USD\": 1500.0, \"Arbeitslosigkeit_%\": 3.54, \"Jugendarbeitslosigkeit_%\": 7.6, \"Alphabetisierung_M_%\": 74.1, \"Alphabetisierung_F_%\": 53.8, \"Internetnutzer_%\": 21.0}, {\"Land\": \"Namibia\", \"Country_Code\": \"wa\", \"Fl\\u00e4che_Total_km2\": 824292.0, \"Fl\\u00e4che_Land_km2\": 823290.0, \"Fl\\u00e4che_Wasser_km2\": 1002.0, \"K\\u00fcstenl\\u00e4nge_km\": 1572, \"Landnutzung_Landwirtschaft_%\": 47.1, \"Landnutzung_Wald_%\": 7.9, \"Landnutzung_Other_%\": 45.0, \"Bev\\u00f6lkerung\": 2803660.0, \"Medianalter\": 22.8, \"Lebenserwartung\": 65.9, \"Urbanisierung_%\": 54.9, \"Bev\\u00f6lkerungswachstum_%\": 1.72, \"BIP_pro_Kopf_USD\": 10100.0, \"Arbeitslosigkeit_%\": 19.42, \"Jugendarbeitslosigkeit_%\": 38.0, \"Alphabetisierung_M_%\": 90.6, \"Alphabetisierung_F_%\": 92.3, \"Internetnutzer_%\": 62.0}, {\"Land\": \"Niger\", \"Country_Code\": \"ng\", \"Fl\\u00e4che_Total_km2\": 1.267, \"Fl\\u00e4che_Land_km2\": 1266700.0, \"Fl\\u00e4che_Wasser_km2\": 300.0, \"K\\u00fcstenl\\u00e4nge_km\": 0, \"Landnutzung_Landwirtschaft_%\": 36.8, \"Landnutzung_Wald_%\": 0.8, \"Landnutzung_Other_%\": 62.4, \"Bev\\u00f6lkerung\": 26342784.0, \"Medianalter\": 15.2, \"Lebenserwartung\": 60.9, \"Urbanisierung_%\": 17.1, \"Bev\\u00f6lkerungswachstum_%\": 3.66, \"BIP_pro_Kopf_USD\": 1700.0, \"Arbeitslosigkeit_%\": 0.55, \"Jugendarbeitslosigkeit_%\": 0.8, \"Alphabetisierung_M_%\": 45.8, \"Alphabetisierung_F_%\": 29.0, \"Internetnutzer_%\": 17.0}, {\"Land\": \"Nigeria\", \"Country_Code\": \"ni\", \"Fl\\u00e4che_Total_km2\": 923768.0, \"Fl\\u00e4che_Land_km2\": 910768.0, \"Fl\\u00e4che_Wasser_km2\": 13000.0, \"K\\u00fcstenl\\u00e4nge_km\": 853, \"Landnutzung_Landwirtschaft_%\": 75.8, \"Landnutzung_Wald_%\": 23.1, \"Landnutzung_Other_%\": 1.1, \"Bev\\u00f6lkerung\": 236747130.0, \"Medianalter\": 19.3, \"Lebenserwartung\": 62.2, \"Urbanisierung_%\": 54.3, \"Bev\\u00f6lkerungswachstum_%\": 2.52, \"BIP_pro_Kopf_USD\": 5600.0, \"Arbeitslosigkeit_%\": 3.07, \"Jugendarbeitslosigkeit_%\": 5.8, \"Alphabetisierung_M_%\": 71.3, \"Alphabetisierung_F_%\": 52.7, \"Internetnutzer_%\": 35.0}, {\"Land\": \"Rwanda\", \"Country_Code\": \"rw\", \"Fl\\u00e4che_Total_km2\": 26338.0, \"Fl\\u00e4che_Land_km2\": 24668.0, \"Fl\\u00e4che_Wasser_km2\": 1670.0, \"K\\u00fcstenl\\u00e4nge_km\": 0, \"Landnutzung_Landwirtschaft_%\": 81.3, \"Landnutzung_Wald_%\": 11.3, \"Landnutzung_Other_%\": 7.5, \"Bev\\u00f6lkerung\": 13623302.0, \"Medianalter\": 20.8, \"Lebenserwartung\": 66.6, \"Urbanisierung_%\": 17.9, \"Bev\\u00f6lkerungswachstum_%\": 1.62, \"BIP_pro_Kopf_USD\": 3100.0, \"Arbeitslosigkeit_%\": 14.93, \"Jugendarbeitslosigkeit_%\": 22.0, \"Alphabetisierung_M_%\": 78.7, \"Alphabetisierung_F_%\": 73.3, \"Internetnutzer_%\": 34.0}, {\"Land\": \"Sao Tome and Principe\", \"Country_Code\": \"tp\", \"Fl\\u00e4che_Total_km2\": 964.0, \"Fl\\u00e4che_Land_km2\": 964.0, \"Fl\\u00e4che_Wasser_km2\": 0.0, \"K\\u00fcstenl\\u00e4nge_km\": 209, \"Landnutzung_Landwirtschaft_%\": 44.8, \"Landnutzung_Wald_%\": 52.8, \"Landnutzung_Other_%\": 2.4, \"Bev\\u00f6lkerung\": 223561.0, \"Medianalter\": 20.8, \"Lebenserwartung\": 67.7, \"Urbanisierung_%\": 76.4, \"Bev\\u00f6lkerungswachstum_%\": 1.42, \"BIP_pro_Kopf_USD\": 5500.0, \"Arbeitslosigkeit_%\": 14.21, \"Jugendarbeitslosigkeit_%\": 21.1, \"Alphabetisierung_M_%\": 96.5, \"Alphabetisierung_F_%\": 91.1, \"Internetnutzer_%\": 57.0}, {\"Land\": \"Senegal\", \"Country_Code\": \"sg\", \"Fl\\u00e4che_Total_km2\": 196722.0, \"Fl\\u00e4che_Land_km2\": 192530.0, \"Fl\\u00e4che_Wasser_km2\": 4192.0, \"K\\u00fcstenl\\u00e4nge_km\": 531, \"Landnutzung_Landwirtschaft_%\": 49.4, \"Landnutzung_Wald_%\": 41.5, \"Landnutzung_Other_%\": 9.1, \"Bev\\u00f6lkerung\": 18847519.0, \"Medianalter\": 19.2, \"Lebenserwartung\": 70.6, \"Urbanisierung_%\": 49.6, \"Bev\\u00f6lkerungswachstum_%\": 2.46, \"BIP_pro_Kopf_USD\": 4300.0, \"Arbeitslosigkeit_%\": 2.93, \"Jugendarbeitslosigkeit_%\": 4.1, \"Alphabetisierung_M_%\": 68.4, \"Alphabetisierung_F_%\": 45.4, \"Internetnutzer_%\": 60.0}, {\"Land\": \"Seychelles\", \"Country_Code\": \"se\", \"Fl\\u00e4che_Total_km2\": 455.0, \"Fl\\u00e4che_Land_km2\": 455.0, \"Fl\\u00e4che_Wasser_km2\": 0.0, \"K\\u00fcstenl\\u00e4nge_km\": 491, \"Landnutzung_Landwirtschaft_%\": 3.4, \"Landnutzung_Wald_%\": 73.3, \"Landnutzung_Other_%\": 23.4, \"Bev\\u00f6lkerung\": 98187.0, \"Medianalter\": 38.7, \"Lebenserwartung\": 76.6, \"Urbanisierung_%\": 58.8, \"Bev\\u00f6lkerungswachstum_%\": 0.56, \"BIP_pro_Kopf_USD\": 29500.0, \"Arbeitslosigkeit_%\": null, \"Jugendarbeitslosigkeit_%\": 16.5, \"Alphabetisierung_M_%\": 95.4, \"Alphabetisierung_F_%\": 96.4, \"Internetnutzer_%\": 87.0}, {\"Land\": \"Sierra Leone\", \"Country_Code\": \"sl\", \"Fl\\u00e4che_Total_km2\": 71740.0, \"Fl\\u00e4che_Land_km2\": 71620.0, \"Fl\\u00e4che_Wasser_km2\": 120.0, \"K\\u00fcstenl\\u00e4nge_km\": 402, \"Landnutzung_Landwirtschaft_%\": 54.7, \"Landnutzung_Wald_%\": 34.6, \"Landnutzung_Other_%\": 10.7, \"Bev\\u00f6lkerung\": 9121049.0, \"Medianalter\": 19.4, \"Lebenserwartung\": 59.4, \"Urbanisierung_%\": 44.3, \"Bev\\u00f6lkerungswachstum_%\": 2.32, \"BIP_pro_Kopf_USD\": 3000.0, \"Arbeitslosigkeit_%\": 3.17, \"Jugendarbeitslosigkeit_%\": 3.6, \"Alphabetisierung_M_%\": 56.3, \"Alphabetisierung_F_%\": 41.3, \"Internetnutzer_%\": 30.0}, {\"Land\": \"Somalia\", \"Country_Code\": \"so\", \"Fl\\u00e4che_Total_km2\": 637657.0, \"Fl\\u00e4che_Land_km2\": 627337.0, \"Fl\\u00e4che_Wasser_km2\": 10320.0, \"K\\u00fcstenl\\u00e4nge_km\": 3025, \"Landnutzung_Landwirtschaft_%\": 70.3, \"Landnutzung_Wald_%\": 9.3, \"Landnutzung_Other_%\": 20.4, \"Bev\\u00f6lkerung\": 13017273.0, \"Medianalter\": 19.1, \"Lebenserwartung\": 56.5, \"Urbanisierung_%\": 47.9, \"Bev\\u00f6lkerungswachstum_%\": 2.55, \"BIP_pro_Kopf_USD\": 1400.0, \"Arbeitslosigkeit_%\": 19.03, \"Jugendarbeitslosigkeit_%\": 34.3, \"Alphabetisierung_M_%\": null, \"Alphabetisierung_F_%\": null, \"Internetnutzer_%\": 28.0}, {\"Land\": \"South Africa\", \"Country_Code\": \"sf\", \"Fl\\u00e4che_Total_km2\": 1219090.0, \"Fl\\u00e4che_Land_km2\": 1214470.0, \"Fl\\u00e4che_Wasser_km2\": 4620.0, \"K\\u00fcstenl\\u00e4nge_km\": 2798, \"Landnutzung_Landwirtschaft_%\": 79.4, \"Landnutzung_Wald_%\": 14.0, \"Landnutzung_Other_%\": 6.6, \"Bev\\u00f6lkerung\": 60442647.0, \"Medianalter\": 30.4, \"Lebenserwartung\": 71.9, \"Urbanisierung_%\": 68.8, \"Bev\\u00f6lkerungswachstum_%\": 1.07, \"BIP_pro_Kopf_USD\": 13700.0, \"Arbeitslosigkeit_%\": 27.99, \"Jugendarbeitslosigkeit_%\": 49.1, \"Alphabetisierung_M_%\": 95.5, \"Alphabetisierung_F_%\": 94.5, \"Internetnutzer_%\": 75.0}, {\"Land\": \"South Sudan\", \"Country_Code\": \"od\", \"Fl\\u00e4che_Total_km2\": 644329.0, \"Fl\\u00e4che_Land_km2\": null, \"Fl\\u00e4che_Wasser_km2\": null, \"K\\u00fcstenl\\u00e4nge_km\": 0, \"Landnutzung_Landwirtschaft_%\": 44.7, \"Landnutzung_Wald_%\": 11.3, \"Landnutzung_Other_%\": 44.0, \"Bev\\u00f6lkerung\": 12703714.0, \"Medianalter\": 18.7, \"Lebenserwartung\": 60.3, \"Urbanisierung_%\": 21.2, \"Bev\\u00f6lkerungswachstum_%\": 4.65, \"BIP_pro_Kopf_USD\": null, \"Arbeitslosigkeit_%\": 12.27, \"Jugendarbeitslosigkeit_%\": 18.3, \"Alphabetisierung_M_%\": 40.3, \"Alphabetisierung_F_%\": 28.9, \"Internetnutzer_%\": 12.0}, {\"Land\": \"Sudan\", \"Country_Code\": \"su\", \"Fl\\u00e4che_Total_km2\": 1861484.0, \"Fl\\u00e4che_Land_km2\": 1731671.0, \"Fl\\u00e4che_Wasser_km2\": 129813.0, \"K\\u00fcstenl\\u00e4nge_km\": 853, \"Landnutzung_Landwirtschaft_%\": 60.3, \"Landnutzung_Wald_%\": 9.6, \"Landnutzung_Other_%\": 30.0, \"Bev\\u00f6lkerung\": 50467278.0, \"Medianalter\": 19.3, \"Lebenserwartung\": 67.8, \"Urbanisierung_%\": 36.3, \"Bev\\u00f6lkerungswachstum_%\": 2.55, \"BIP_pro_Kopf_USD\": 2500.0, \"Arbeitslosigkeit_%\": 11.45, \"Jugendarbeitslosigkeit_%\": 18.2, \"Alphabetisierung_M_%\": 65.4, \"Alphabetisierung_F_%\": 56.1, \"Internetnutzer_%\": 29.0}, {\"Land\": \"Switzerland\", \"Country_Code\": \"sz\", \"Fl\\u00e4che_Total_km2\": 41277.0, \"Fl\\u00e4che_Land_km2\": 39997.0, \"Fl\\u00e4che_Wasser_km2\": 1280.0, \"K\\u00fcstenl\\u00e4nge_km\": 0, \"Landnutzung_Landwirtschaft_%\": 37.9, \"Landnutzung_Wald_%\": 32.3, \"Landnutzung_Other_%\": 29.8, \"Bev\\u00f6lkerung\": 8860574.0, \"Medianalter\": 44.2, \"Lebenserwartung\": 83.9, \"Urbanisierung_%\": 74.2, \"Bev\\u00f6lkerungswachstum_%\": 0.75, \"BIP_pro_Kopf_USD\": 82600.0, \"Arbeitslosigkeit_%\": 4.05, \"Jugendarbeitslosigkeit_%\": 8.0, \"Alphabetisierung_M_%\": null, \"Alphabetisierung_F_%\": null, \"Internetnutzer_%\": 97.0}, {\"Land\": \"Tanzania\", \"Country_Code\": \"tz\", \"Fl\\u00e4che_Total_km2\": 947300.0, \"Fl\\u00e4che_Land_km2\": 885800.0, \"Fl\\u00e4che_Wasser_km2\": 61500.0, \"K\\u00fcstenl\\u00e4nge_km\": 1424, \"Landnutzung_Landwirtschaft_%\": 44.6, \"Landnutzung_Wald_%\": 50.6, \"Landnutzung_Other_%\": 4.8, \"Bev\\u00f6lkerung\": 67462121.0, \"Medianalter\": 19.1, \"Lebenserwartung\": 70.8, \"Urbanisierung_%\": 37.4, \"Bev\\u00f6lkerungswachstum_%\": 2.72, \"BIP_pro_Kopf_USD\": 3600.0, \"Arbeitslosigkeit_%\": 2.61, \"Jugendarbeitslosigkeit_%\": 3.5, \"Alphabetisierung_M_%\": 85.5, \"Alphabetisierung_F_%\": 78.2, \"Internetnutzer_%\": 32.0}, {\"Land\": \"The Gambia\", \"Country_Code\": \"ga\", \"Fl\\u00e4che_Total_km2\": 11300.0, \"Fl\\u00e4che_Land_km2\": 10120.0, \"Fl\\u00e4che_Wasser_km2\": 1180.0, \"K\\u00fcstenl\\u00e4nge_km\": 80, \"Landnutzung_Landwirtschaft_%\": 62.6, \"Landnutzung_Wald_%\": 22.8, \"Landnutzung_Other_%\": 14.5, \"Bev\\u00f6lkerung\": 2523327.0, \"Medianalter\": 20.2, \"Lebenserwartung\": 68.4, \"Urbanisierung_%\": 64.5, \"Bev\\u00f6lkerungswachstum_%\": 2.16, \"BIP_pro_Kopf_USD\": 2900.0, \"Arbeitslosigkeit_%\": 6.48, \"Jugendarbeitslosigkeit_%\": 10.6, \"Alphabetisierung_M_%\": 65.2, \"Alphabetisierung_F_%\": 51.2, \"Internetnutzer_%\": 54.0}, {\"Land\": \"Togo\", \"Country_Code\": \"to\", \"Fl\\u00e4che_Total_km2\": 56785.0, \"Fl\\u00e4che_Land_km2\": 54385.0, \"Fl\\u00e4che_Wasser_km2\": 2400.0, \"K\\u00fcstenl\\u00e4nge_km\": 56, \"Landnutzung_Landwirtschaft_%\": 70.2, \"Landnutzung_Wald_%\": 22.1, \"Landnutzung_Other_%\": 7.6, \"Bev\\u00f6lkerung\": 8917994.0, \"Medianalter\": 20.7, \"Lebenserwartung\": 72.1, \"Urbanisierung_%\": 44.5, \"Bev\\u00f6lkerungswachstum_%\": 2.41, \"BIP_pro_Kopf_USD\": 2800.0, \"Arbeitslosigkeit_%\": 2.05, \"Jugendarbeitslosigkeit_%\": 3.3, \"Alphabetisierung_M_%\": 80.0, \"Alphabetisierung_F_%\": 55.1, \"Internetnutzer_%\": 38.0}, {\"Land\": \"Tunisia\", \"Country_Code\": \"ts\", \"Fl\\u00e4che_Total_km2\": 163610.0, \"Fl\\u00e4che_Land_km2\": 155360.0, \"Fl\\u00e4che_Wasser_km2\": 8250.0, \"K\\u00fcstenl\\u00e4nge_km\": 1148, \"Landnutzung_Landwirtschaft_%\": 62.4, \"Landnutzung_Wald_%\": 4.5, \"Landnutzung_Other_%\": 33.0, \"Bev\\u00f6lkerung\": 12048847.0, \"Medianalter\": 34.4, \"Lebenserwartung\": 77.3, \"Urbanisierung_%\": 70.5, \"Bev\\u00f6lkerungswachstum_%\": 0.58, \"BIP_pro_Kopf_USD\": 12600.0, \"Arbeitslosigkeit_%\": 15.11, \"Jugendarbeitslosigkeit_%\": 37.5, \"Alphabetisierung_M_%\": 89.1, \"Alphabetisierung_F_%\": 82.7, \"Internetnutzer_%\": 74.0}, {\"Land\": \"Uganda\", \"Country_Code\": \"ug\", \"Fl\\u00e4che_Total_km2\": 241038.0, \"Fl\\u00e4che_Land_km2\": 197100.0, \"Fl\\u00e4che_Wasser_km2\": 43938.0, \"K\\u00fcstenl\\u00e4nge_km\": 0, \"Landnutzung_Landwirtschaft_%\": 71.9, \"Landnutzung_Wald_%\": 11.2, \"Landnutzung_Other_%\": 16.9, \"Bev\\u00f6lkerung\": 49283041.0, \"Medianalter\": 16.2, \"Lebenserwartung\": 69.7, \"Urbanisierung_%\": 26.8, \"Bev\\u00f6lkerungswachstum_%\": 3.18, \"BIP_pro_Kopf_USD\": 2800.0, \"Arbeitslosigkeit_%\": 2.83, \"Jugendarbeitslosigkeit_%\": 4.5, \"Alphabetisierung_M_%\": 84.0, \"Alphabetisierung_F_%\": 74.3, \"Internetnutzer_%\": 10.0}, {\"Land\": \"Western Sahara\", \"Country_Code\": \"wi\", \"Fl\\u00e4che_Total_km2\": null, \"Fl\\u00e4che_Land_km2\": 266000.0, \"Fl\\u00e4che_Wasser_km2\": 0.0, \"K\\u00fcstenl\\u00e4nge_km\": 1110, \"Landnutzung_Landwirtschaft_%\": 18.8, \"Landnutzung_Wald_%\": 2.7, \"Landnutzung_Other_%\": 78.5, \"Bev\\u00f6lkerung\": null, \"Medianalter\": 21.8, \"Lebenserwartung\": 64.5, \"Urbanisierung_%\": 86.8, \"Bev\\u00f6lkerungswachstum_%\": 2.54, \"BIP_pro_Kopf_USD\": null, \"Arbeitslosigkeit_%\": null, \"Jugendarbeitslosigkeit_%\": null, \"Alphabetisierung_M_%\": null, \"Alphabetisierung_F_%\": null, \"Internetnutzer_%\": null}, {\"Land\": \"Zambia\", \"Country_Code\": \"za\", \"Fl\\u00e4che_Total_km2\": 752618.0, \"Fl\\u00e4che_Land_km2\": 743398.0, \"Fl\\u00e4che_Wasser_km2\": 9220.0, \"K\\u00fcstenl\\u00e4nge_km\": 0, \"Landnutzung_Landwirtschaft_%\": 32.1, \"Landnutzung_Wald_%\": 59.8, \"Landnutzung_Other_%\": 8.2, \"Bev\\u00f6lkerung\": 20799116.0, \"Medianalter\": 18.4, \"Lebenserwartung\": 66.9, \"Urbanisierung_%\": 46.3, \"Bev\\u00f6lkerungswachstum_%\": 2.83, \"BIP_pro_Kopf_USD\": 3700.0, \"Arbeitslosigkeit_%\": 5.91, \"Jugendarbeitslosigkeit_%\": 9.8, \"Alphabetisierung_M_%\": 90.6, \"Alphabetisierung_F_%\": 83.1, \"Internetnutzer_%\": 31.0}, {\"Land\": \"Zimbabwe\", \"Country_Code\": \"zi\", \"Fl\\u00e4che_Total_km2\": 390757.0, \"Fl\\u00e4che_Land_km2\": 386847.0, \"Fl\\u00e4che_Wasser_km2\": 3910.0, \"K\\u00fcstenl\\u00e4nge_km\": 0, \"Landnutzung_Landwirtschaft_%\": 39.5, \"Landnutzung_Wald_%\": 44.9, \"Landnutzung_Other_%\": 15.7, \"Bev\\u00f6lkerung\": 17150352.0, \"Medianalter\": 21.2, \"Lebenserwartung\": 67.2, \"Urbanisierung_%\": 32.5, \"Bev\\u00f6lkerungswachstum_%\": 1.91, \"BIP_pro_Kopf_USD\": 3400.0, \"Arbeitslosigkeit_%\": 8.76, \"Jugendarbeitslosigkeit_%\": 14.3, \"Alphabetisierung_M_%\": 88.3, \"Alphabetisierung_F_%\": 90.9, \"Internetnutzer_%\": 33.0}, {\"Land\": \"Central African Republic\", \"Country_Code\": \"ct\", \"Fl\\u00e4che_Total_km2\": 622984.0, \"Fl\\u00e4che_Land_km2\": 622984.0, \"Fl\\u00e4che_Wasser_km2\": 0.0, \"K\\u00fcstenl\\u00e4nge_km\": 0, \"Landnutzung_Landwirtschaft_%\": 9.0, \"Landnutzung_Wald_%\": 35.7, \"Landnutzung_Other_%\": 55.3, \"Bev\\u00f6lkerung\": 5650957.0, \"Medianalter\": 20.4, \"Lebenserwartung\": 56.4, \"Urbanisierung_%\": 43.6, \"Bev\\u00f6lkerungswachstum_%\": 1.76, \"BIP_pro_Kopf_USD\": 1100.0, \"Arbeitslosigkeit_%\": 6.29, \"Jugendarbeitslosigkeit_%\": 10.7, \"Alphabetisierung_M_%\": 49.2, \"Alphabetisierung_F_%\": 26.2, \"Internetnutzer_%\": 11.0}]}}, {\"mode\": \"vega-lite\"});\n",
       "</script>"
      ],
      "text/plain": [
       "alt.Chart(...)"
      ]
     },
     "execution_count": 33,
     "metadata": {},
     "output_type": "execute_result"
    }
   ],
   "source": [
    "alt.Chart(df).mark_point().encode(\n",
    "    x = alt.X('Internetnutzer_%').title('Internutzung'),\n",
    "    y = alt.Y('Arbeitslosigkeit_%').title('Arbeitslosigkeit'),\n",
    "    tooltip=['Land', 'Internetnutzer_%', 'Arbeitslosigkeit_%'], \n",
    "    color = alt.Color('Arbeitslosigkeit_%').scale(scheme='plasma', reverse=True).title(None)\n",
    ").properties(\n",
    "    title = alt.Title(\"Je höher die Arbeitslosigkeit desto höher die Internetnutzung\",\n",
    "                      subtitle = \"Arbeitslosigkeit und Internetnutzung in Prozent\"),\n",
    "    width = 400, \n",
    "    height = 400                  \n",
    "    \n",
    ")"
   ]
  },
  {
   "cell_type": "code",
   "execution_count": null,
   "metadata": {},
   "outputs": [],
   "source": []
  }
 ],
 "metadata": {
  "kernelspec": {
   "display_name": "Python 3",
   "language": "python",
   "name": "python3"
  },
  "language_info": {
   "codemirror_mode": {
    "name": "ipython",
    "version": 3
   },
   "file_extension": ".py",
   "mimetype": "text/x-python",
   "name": "python",
   "nbconvert_exporter": "python",
   "pygments_lexer": "ipython3",
   "version": "3.12.1"
  }
 },
 "nbformat": 4,
 "nbformat_minor": 2
}
