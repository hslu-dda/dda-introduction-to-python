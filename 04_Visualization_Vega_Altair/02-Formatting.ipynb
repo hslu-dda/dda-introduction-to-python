{
 "cells": [
  {
   "cell_type": "markdown",
   "metadata": {},
   "source": [
    "# 02 Formatting\n",
    "\n",
    "* Sortierung von Achsen\n",
    "* Datatypes für Altair\n",
    "* Farben\n",
    "* Formatierung\n"
   ]
  },
  {
   "cell_type": "code",
   "execution_count": null,
   "metadata": {},
   "outputs": [],
   "source": [
    "#import libraries\n",
    "import altair as alt\n",
    "import pandas as pd\n"
   ]
  },
  {
   "cell_type": "markdown",
   "metadata": {},
   "source": [
    "### Order\n",
    "Mit `alt.Y('col', sort='-x' )` können wir Achsen sortieren. "
   ]
  },
  {
   "cell_type": "code",
   "execution_count": null,
   "metadata": {},
   "outputs": [],
   "source": [
    "# Order\n",
    "alt.Chart(df_top_height).mark_bar().encode(\n",
    "    x = 'height_m',\n",
    "    y = alt.Y('name', sort='-x'), \n",
    ")"
   ]
  },
  {
   "cell_type": "markdown",
   "metadata": {},
   "source": [
    "\n",
    "### Datatypes\n",
    "Wir können Altair mitgeben, als was für einen Datentypen er eine Spalte behandeln soll.\n",
    "\n",
    "* `Q`: quantitative data - numeric values\n",
    "* `O`: ordinal data - ordered categories (e.g. Generation 1,2,3)\n",
    "* `N`: nominal data - categories with no order (e.g. type1 seed, rock, water...)\n",
    "* `T`: temporal data"
   ]
  },
  {
   "cell_type": "code",
   "execution_count": null,
   "metadata": {},
   "outputs": [],
   "source": [
    "df_top_height = df.sort_values('height_m', ascending = False).head(10)\n",
    "df_top_height.head(2)"
   ]
  },
  {
   "cell_type": "code",
   "execution_count": null,
   "metadata": {},
   "outputs": [],
   "source": [
    "# Bar chart: wir fügen Farbe hinzu\n",
    "alt.Chart(df_top_height).mark_bar().encode(\n",
    "    x = 'height_m',\n",
    "    y = alt.Y('name', sort='-x' ), \n",
    "    color='height_m:Q'\n",
    ")"
   ]
  },
  {
   "cell_type": "markdown",
   "metadata": {},
   "source": [
    "## Farben\n",
    "\n",
    "`alt.Color('col').scale(scheme='your_scheme')` können wir Farbschemas festlegen. \n",
    "\n",
    "Eine Auswahl\n",
    "* viridis\n",
    "* magma\n",
    "* plasma\n",
    "* turbo\n",
    "* yelloworangebrown\n",
    "* purplered\n",
    "* purplebluegreen\n",
    "* blueorange\n",
    "\n",
    "[Mehr Farbschemas](https://vega.github.io/vega/docs/schemes/)"
   ]
  },
  {
   "cell_type": "code",
   "execution_count": null,
   "metadata": {},
   "outputs": [],
   "source": [
    "alt.Chart(df_top_height).mark_bar().encode(\n",
    "    x = 'height_m',\n",
    "    y = alt.Y('name', sort='-x' ), \n",
    "    color=alt.Color('height_m:Q').scale(scheme='purplered')\n",
    ")"
   ]
  },
  {
   "cell_type": "markdown",
   "metadata": {},
   "source": [
    "### Eigene Farbskalen\n",
    "\n",
    "Wir können je eine Liste für die Werte die eingefärtbt werden (domain) und eine mit den Farben erstellen (range). Und Altair macht uns daraus eine eigene Farbskala. \n",
    "\n",
    "Wichtig: beide Listen müssen gleich lang sein."
   ]
  },
  {
   "cell_type": "code",
   "execution_count": null,
   "metadata": {},
   "outputs": [],
   "source": [
    "df.head(1)"
   ]
  },
  {
   "cell_type": "code",
   "execution_count": null,
   "metadata": {},
   "outputs": [],
   "source": [
    "df['speed'].min()"
   ]
  },
  {
   "cell_type": "code",
   "execution_count": null,
   "metadata": {},
   "outputs": [],
   "source": [
    "domain = [15, 150]\n",
    "range = ['blue', 'orange']\n",
    "\n",
    "alt.Chart(df).mark_point().encode(\n",
    "    x = 'speed', \n",
    "    y = 'height_m', \n",
    "    color = alt.Color('speed').scale(domain=domain, range=range)\n",
    ")"
   ]
  },
  {
   "cell_type": "markdown",
   "metadata": {},
   "source": [
    "#### Mit Farben Werte gruppieren\n",
    "Wir können unter color eine zusätzliche Spalte angeben, nach Welcher die Werte eingefärbt werden. "
   ]
  },
  {
   "cell_type": "code",
   "execution_count": null,
   "metadata": {},
   "outputs": [],
   "source": [
    "alt.Chart(df).mark_bar().encode(\n",
    "    x = 'height_m',\n",
    "    y = alt.Y('type1', sort='-x' ), \n",
    "    color='is_legendary:N'\n",
    ")"
   ]
  },
  {
   "cell_type": "markdown",
   "metadata": {},
   "source": []
  },
  {
   "cell_type": "code",
   "execution_count": null,
   "metadata": {},
   "outputs": [],
   "source": [
    "df"
   ]
  },
  {
   "cell_type": "markdown",
   "metadata": {},
   "source": [
    "### Quizz\n",
    "\n"
   ]
  },
  {
   "cell_type": "markdown",
   "metadata": {},
   "source": [
    "df `df_generation_type` unten zeigt für jede Generation von Pokemons an, wie viele Wasser, Normale, Gift-Pokemon es gab. \n",
    "1. Mache einen Barchart mit Generation 1 - 7 auf der Y Achse und Anzahl Pokemon insgesamt auf der X Achse. (Tip: Datentypen)\n",
    "2. Füge Farbe nach type1 hinzu. Experimentiere mit Datentypen bei der Farbe\n",
    "3. Ändere das Farbschema. "
   ]
  },
  {
   "cell_type": "code",
   "execution_count": 94,
   "metadata": {},
   "outputs": [
    {
     "data": {
      "text/html": [
       "<div>\n",
       "<style scoped>\n",
       "    .dataframe tbody tr th:only-of-type {\n",
       "        vertical-align: middle;\n",
       "    }\n",
       "\n",
       "    .dataframe tbody tr th {\n",
       "        vertical-align: top;\n",
       "    }\n",
       "\n",
       "    .dataframe thead th {\n",
       "        text-align: right;\n",
       "    }\n",
       "</style>\n",
       "<table border=\"1\" class=\"dataframe\">\n",
       "  <thead>\n",
       "    <tr style=\"text-align: right;\">\n",
       "      <th></th>\n",
       "      <th>generation</th>\n",
       "      <th>type1</th>\n",
       "      <th>count</th>\n",
       "    </tr>\n",
       "  </thead>\n",
       "  <tbody>\n",
       "    <tr>\n",
       "      <th>0</th>\n",
       "      <td>1</td>\n",
       "      <td>water</td>\n",
       "      <td>28</td>\n",
       "    </tr>\n",
       "    <tr>\n",
       "      <th>1</th>\n",
       "      <td>1</td>\n",
       "      <td>normal</td>\n",
       "      <td>22</td>\n",
       "    </tr>\n",
       "    <tr>\n",
       "      <th>2</th>\n",
       "      <td>1</td>\n",
       "      <td>poison</td>\n",
       "      <td>14</td>\n",
       "    </tr>\n",
       "    <tr>\n",
       "      <th>3</th>\n",
       "      <td>1</td>\n",
       "      <td>bug</td>\n",
       "      <td>12</td>\n",
       "    </tr>\n",
       "    <tr>\n",
       "      <th>4</th>\n",
       "      <td>1</td>\n",
       "      <td>grass</td>\n",
       "      <td>12</td>\n",
       "    </tr>\n",
       "    <tr>\n",
       "      <th>...</th>\n",
       "      <td>...</td>\n",
       "      <td>...</td>\n",
       "      <td>...</td>\n",
       "    </tr>\n",
       "    <tr>\n",
       "      <th>109</th>\n",
       "      <td>7</td>\n",
       "      <td>dragon</td>\n",
       "      <td>3</td>\n",
       "    </tr>\n",
       "    <tr>\n",
       "      <th>110</th>\n",
       "      <td>7</td>\n",
       "      <td>steel</td>\n",
       "      <td>2</td>\n",
       "    </tr>\n",
       "    <tr>\n",
       "      <th>111</th>\n",
       "      <td>7</td>\n",
       "      <td>ground</td>\n",
       "      <td>2</td>\n",
       "    </tr>\n",
       "    <tr>\n",
       "      <th>112</th>\n",
       "      <td>7</td>\n",
       "      <td>fairy</td>\n",
       "      <td>1</td>\n",
       "    </tr>\n",
       "    <tr>\n",
       "      <th>113</th>\n",
       "      <td>7</td>\n",
       "      <td>dark</td>\n",
       "      <td>1</td>\n",
       "    </tr>\n",
       "  </tbody>\n",
       "</table>\n",
       "<p>114 rows × 3 columns</p>\n",
       "</div>"
      ],
      "text/plain": [
       "     generation   type1  count\n",
       "0             1   water     28\n",
       "1             1  normal     22\n",
       "2             1  poison     14\n",
       "3             1     bug     12\n",
       "4             1   grass     12\n",
       "..          ...     ...    ...\n",
       "109           7  dragon      3\n",
       "110           7   steel      2\n",
       "111           7  ground      2\n",
       "112           7   fairy      1\n",
       "113           7    dark      1\n",
       "\n",
       "[114 rows x 3 columns]"
      ]
     },
     "execution_count": 94,
     "metadata": {},
     "output_type": "execute_result"
    }
   ],
   "source": [
    "df_raw = pd.read_csv(\"data/pokemon.csv\")\n",
    "df_generation_type = df_raw.groupby('generation')['type1'].value_counts().reset_index()\n",
    "df_generation_type"
   ]
  },
  {
   "cell_type": "code",
   "execution_count": 93,
   "metadata": {},
   "outputs": [
    {
     "data": {
      "text/html": [
       "\n",
       "<style>\n",
       "  #altair-viz-acbc9452faf34d92ac30e8a35769b224.vega-embed {\n",
       "    width: 100%;\n",
       "    display: flex;\n",
       "  }\n",
       "\n",
       "  #altair-viz-acbc9452faf34d92ac30e8a35769b224.vega-embed details,\n",
       "  #altair-viz-acbc9452faf34d92ac30e8a35769b224.vega-embed details summary {\n",
       "    position: relative;\n",
       "  }\n",
       "</style>\n",
       "<div id=\"altair-viz-acbc9452faf34d92ac30e8a35769b224\"></div>\n",
       "<script type=\"text/javascript\">\n",
       "  var VEGA_DEBUG = (typeof VEGA_DEBUG == \"undefined\") ? {} : VEGA_DEBUG;\n",
       "  (function(spec, embedOpt){\n",
       "    let outputDiv = document.currentScript.previousElementSibling;\n",
       "    if (outputDiv.id !== \"altair-viz-acbc9452faf34d92ac30e8a35769b224\") {\n",
       "      outputDiv = document.getElementById(\"altair-viz-acbc9452faf34d92ac30e8a35769b224\");\n",
       "    }\n",
       "\n",
       "    const paths = {\n",
       "      \"vega\": \"https://cdn.jsdelivr.net/npm/vega@5?noext\",\n",
       "      \"vega-lib\": \"https://cdn.jsdelivr.net/npm/vega-lib?noext\",\n",
       "      \"vega-lite\": \"https://cdn.jsdelivr.net/npm/vega-lite@5.20.1?noext\",\n",
       "      \"vega-embed\": \"https://cdn.jsdelivr.net/npm/vega-embed@6?noext\",\n",
       "    };\n",
       "\n",
       "    function maybeLoadScript(lib, version) {\n",
       "      var key = `${lib.replace(\"-\", \"\")}_version`;\n",
       "      return (VEGA_DEBUG[key] == version) ?\n",
       "        Promise.resolve(paths[lib]) :\n",
       "        new Promise(function(resolve, reject) {\n",
       "          var s = document.createElement('script');\n",
       "          document.getElementsByTagName(\"head\")[0].appendChild(s);\n",
       "          s.async = true;\n",
       "          s.onload = () => {\n",
       "            VEGA_DEBUG[key] = version;\n",
       "            return resolve(paths[lib]);\n",
       "          };\n",
       "          s.onerror = () => reject(`Error loading script: ${paths[lib]}`);\n",
       "          s.src = paths[lib];\n",
       "        });\n",
       "    }\n",
       "\n",
       "    function showError(err) {\n",
       "      outputDiv.innerHTML = `<div class=\"error\" style=\"color:red;\">${err}</div>`;\n",
       "      throw err;\n",
       "    }\n",
       "\n",
       "    function displayChart(vegaEmbed) {\n",
       "      vegaEmbed(outputDiv, spec, embedOpt)\n",
       "        .catch(err => showError(`Javascript Error: ${err.message}<br>This usually means there's a typo in your chart specification. See the javascript console for the full traceback.`));\n",
       "    }\n",
       "\n",
       "    if(typeof define === \"function\" && define.amd) {\n",
       "      requirejs.config({paths});\n",
       "      let deps = [\"vega-embed\"];\n",
       "      require(deps, displayChart, err => showError(`Error loading script: ${err.message}`));\n",
       "    } else {\n",
       "      maybeLoadScript(\"vega\", \"5\")\n",
       "        .then(() => maybeLoadScript(\"vega-lite\", \"5.20.1\"))\n",
       "        .then(() => maybeLoadScript(\"vega-embed\", \"6\"))\n",
       "        .catch(showError)\n",
       "        .then(() => displayChart(vegaEmbed));\n",
       "    }\n",
       "  })({\"config\": {\"view\": {\"continuousWidth\": 300, \"continuousHeight\": 300}}, \"data\": {\"name\": \"data-58580f079e78d2ecf11da8f9bbaf431e\"}, \"mark\": {\"type\": \"bar\"}, \"encoding\": {\"color\": {\"field\": \"type1\", \"scale\": {\"scheme\": \"blueorange\"}, \"type\": \"nominal\"}, \"x\": {\"field\": \"count\", \"type\": \"quantitative\"}, \"y\": {\"field\": \"generation\", \"type\": \"nominal\"}}, \"$schema\": \"https://vega.github.io/schema/vega-lite/v5.20.1.json\", \"datasets\": {\"data-58580f079e78d2ecf11da8f9bbaf431e\": [{\"generation\": 1, \"type1\": \"water\", \"count\": 28}, {\"generation\": 1, \"type1\": \"normal\", \"count\": 22}, {\"generation\": 1, \"type1\": \"poison\", \"count\": 14}, {\"generation\": 1, \"type1\": \"bug\", \"count\": 12}, {\"generation\": 1, \"type1\": \"grass\", \"count\": 12}, {\"generation\": 1, \"type1\": \"fire\", \"count\": 12}, {\"generation\": 1, \"type1\": \"electric\", \"count\": 9}, {\"generation\": 1, \"type1\": \"rock\", \"count\": 9}, {\"generation\": 1, \"type1\": \"psychic\", \"count\": 8}, {\"generation\": 1, \"type1\": \"ground\", \"count\": 8}, {\"generation\": 1, \"type1\": \"fighting\", \"count\": 7}, {\"generation\": 1, \"type1\": \"ghost\", \"count\": 3}, {\"generation\": 1, \"type1\": \"dragon\", \"count\": 3}, {\"generation\": 1, \"type1\": \"ice\", \"count\": 2}, {\"generation\": 1, \"type1\": \"fairy\", \"count\": 2}, {\"generation\": 2, \"type1\": \"water\", \"count\": 18}, {\"generation\": 2, \"type1\": \"normal\", \"count\": 15}, {\"generation\": 2, \"type1\": \"bug\", \"count\": 10}, {\"generation\": 2, \"type1\": \"grass\", \"count\": 9}, {\"generation\": 2, \"type1\": \"fire\", \"count\": 8}, {\"generation\": 2, \"type1\": \"psychic\", \"count\": 7}, {\"generation\": 2, \"type1\": \"electric\", \"count\": 6}, {\"generation\": 2, \"type1\": \"dark\", \"count\": 5}, {\"generation\": 2, \"type1\": \"fairy\", \"count\": 5}, {\"generation\": 2, \"type1\": \"ice\", \"count\": 4}, {\"generation\": 2, \"type1\": \"rock\", \"count\": 4}, {\"generation\": 2, \"type1\": \"ground\", \"count\": 3}, {\"generation\": 2, \"type1\": \"steel\", \"count\": 2}, {\"generation\": 2, \"type1\": \"fighting\", \"count\": 2}, {\"generation\": 2, \"type1\": \"ghost\", \"count\": 1}, {\"generation\": 2, \"type1\": \"poison\", \"count\": 1}, {\"generation\": 3, \"type1\": \"water\", \"count\": 24}, {\"generation\": 3, \"type1\": \"normal\", \"count\": 18}, {\"generation\": 3, \"type1\": \"grass\", \"count\": 12}, {\"generation\": 3, \"type1\": \"bug\", \"count\": 12}, {\"generation\": 3, \"type1\": \"steel\", \"count\": 9}, {\"generation\": 3, \"type1\": \"rock\", \"count\": 8}, {\"generation\": 3, \"type1\": \"psychic\", \"count\": 8}, {\"generation\": 3, \"type1\": \"dragon\", \"count\": 7}, {\"generation\": 3, \"type1\": \"ground\", \"count\": 6}, {\"generation\": 3, \"type1\": \"ice\", \"count\": 6}, {\"generation\": 3, \"type1\": \"fire\", \"count\": 6}, {\"generation\": 3, \"type1\": \"fighting\", \"count\": 4}, {\"generation\": 3, \"type1\": \"dark\", \"count\": 4}, {\"generation\": 3, \"type1\": \"ghost\", \"count\": 4}, {\"generation\": 3, \"type1\": \"electric\", \"count\": 4}, {\"generation\": 3, \"type1\": \"poison\", \"count\": 3}, {\"generation\": 4, \"type1\": \"normal\", \"count\": 17}, {\"generation\": 4, \"type1\": \"grass\", \"count\": 13}, {\"generation\": 4, \"type1\": \"water\", \"count\": 13}, {\"generation\": 4, \"type1\": \"bug\", \"count\": 8}, {\"generation\": 4, \"type1\": \"psychic\", \"count\": 7}, {\"generation\": 4, \"type1\": \"electric\", \"count\": 7}, {\"generation\": 4, \"type1\": \"rock\", \"count\": 6}, {\"generation\": 4, \"type1\": \"poison\", \"count\": 6}, {\"generation\": 4, \"type1\": \"ghost\", \"count\": 6}, {\"generation\": 4, \"type1\": \"fire\", \"count\": 5}, {\"generation\": 4, \"type1\": \"ground\", \"count\": 4}, {\"generation\": 4, \"type1\": \"ice\", \"count\": 3}, {\"generation\": 4, \"type1\": \"steel\", \"count\": 3}, {\"generation\": 4, \"type1\": \"dark\", \"count\": 3}, {\"generation\": 4, \"type1\": \"dragon\", \"count\": 3}, {\"generation\": 4, \"type1\": \"fighting\", \"count\": 2}, {\"generation\": 4, \"type1\": \"fairy\", \"count\": 1}, {\"generation\": 5, \"type1\": \"bug\", \"count\": 18}, {\"generation\": 5, \"type1\": \"normal\", \"count\": 17}, {\"generation\": 5, \"type1\": \"water\", \"count\": 17}, {\"generation\": 5, \"type1\": \"grass\", \"count\": 15}, {\"generation\": 5, \"type1\": \"psychic\", \"count\": 14}, {\"generation\": 5, \"type1\": \"dark\", \"count\": 13}, {\"generation\": 5, \"type1\": \"ground\", \"count\": 9}, {\"generation\": 5, \"type1\": \"fire\", \"count\": 8}, {\"generation\": 5, \"type1\": \"electric\", \"count\": 7}, {\"generation\": 5, \"type1\": \"dragon\", \"count\": 7}, {\"generation\": 5, \"type1\": \"fighting\", \"count\": 7}, {\"generation\": 5, \"type1\": \"rock\", \"count\": 6}, {\"generation\": 5, \"type1\": \"ice\", \"count\": 6}, {\"generation\": 5, \"type1\": \"ghost\", \"count\": 5}, {\"generation\": 5, \"type1\": \"steel\", \"count\": 4}, {\"generation\": 5, \"type1\": \"poison\", \"count\": 2}, {\"generation\": 5, \"type1\": \"flying\", \"count\": 1}, {\"generation\": 6, \"type1\": \"fairy\", \"count\": 9}, {\"generation\": 6, \"type1\": \"fire\", \"count\": 8}, {\"generation\": 6, \"type1\": \"rock\", \"count\": 8}, {\"generation\": 6, \"type1\": \"water\", \"count\": 5}, {\"generation\": 6, \"type1\": \"grass\", \"count\": 5}, {\"generation\": 6, \"type1\": \"normal\", \"count\": 4}, {\"generation\": 6, \"type1\": \"steel\", \"count\": 4}, {\"generation\": 6, \"type1\": \"dragon\", \"count\": 4}, {\"generation\": 6, \"type1\": \"ghost\", \"count\": 4}, {\"generation\": 6, \"type1\": \"fighting\", \"count\": 3}, {\"generation\": 6, \"type1\": \"psychic\", \"count\": 3}, {\"generation\": 6, \"type1\": \"electric\", \"count\": 3}, {\"generation\": 6, \"type1\": \"dark\", \"count\": 3}, {\"generation\": 6, \"type1\": \"bug\", \"count\": 3}, {\"generation\": 6, \"type1\": \"ice\", \"count\": 2}, {\"generation\": 6, \"type1\": \"flying\", \"count\": 2}, {\"generation\": 6, \"type1\": \"poison\", \"count\": 2}, {\"generation\": 7, \"type1\": \"grass\", \"count\": 12}, {\"generation\": 7, \"type1\": \"normal\", \"count\": 12}, {\"generation\": 7, \"type1\": \"bug\", \"count\": 9}, {\"generation\": 7, \"type1\": \"water\", \"count\": 9}, {\"generation\": 7, \"type1\": \"psychic\", \"count\": 6}, {\"generation\": 7, \"type1\": \"fire\", \"count\": 5}, {\"generation\": 7, \"type1\": \"rock\", \"count\": 4}, {\"generation\": 7, \"type1\": \"ghost\", \"count\": 4}, {\"generation\": 7, \"type1\": \"poison\", \"count\": 4}, {\"generation\": 7, \"type1\": \"fighting\", \"count\": 3}, {\"generation\": 7, \"type1\": \"electric\", \"count\": 3}, {\"generation\": 7, \"type1\": \"dragon\", \"count\": 3}, {\"generation\": 7, \"type1\": \"steel\", \"count\": 2}, {\"generation\": 7, \"type1\": \"ground\", \"count\": 2}, {\"generation\": 7, \"type1\": \"fairy\", \"count\": 1}, {\"generation\": 7, \"type1\": \"dark\", \"count\": 1}]}}, {\"mode\": \"vega-lite\"});\n",
       "</script>"
      ],
      "text/plain": [
       "alt.Chart(...)"
      ]
     },
     "execution_count": 93,
     "metadata": {},
     "output_type": "execute_result"
    }
   ],
   "source": [
    "alt.Chart(df_generation_type).mark_bar().encode(\n",
    "    x = 'count', \n",
    "    y = 'generation:N',\n",
    "    color = alt.Color('type1:N').scale(scheme = 'blueorange')\n",
    ")"
   ]
  },
  {
   "cell_type": "markdown",
   "metadata": {},
   "source": [
    "4. Kehre den Plot um und plotte \n",
    "* X-Achse: count, \n",
    "* Y-Achse: type1\n",
    "* Farbe: generation\n",
    "\n",
    "5. Sortiere die Y-Achse absteigend nach den Werten der X-Achse"
   ]
  },
  {
   "cell_type": "code",
   "execution_count": 99,
   "metadata": {},
   "outputs": [
    {
     "data": {
      "text/html": [
       "\n",
       "<style>\n",
       "  #altair-viz-9f04ff109feb4c858bfa14ebcf6f8fd3.vega-embed {\n",
       "    width: 100%;\n",
       "    display: flex;\n",
       "  }\n",
       "\n",
       "  #altair-viz-9f04ff109feb4c858bfa14ebcf6f8fd3.vega-embed details,\n",
       "  #altair-viz-9f04ff109feb4c858bfa14ebcf6f8fd3.vega-embed details summary {\n",
       "    position: relative;\n",
       "  }\n",
       "</style>\n",
       "<div id=\"altair-viz-9f04ff109feb4c858bfa14ebcf6f8fd3\"></div>\n",
       "<script type=\"text/javascript\">\n",
       "  var VEGA_DEBUG = (typeof VEGA_DEBUG == \"undefined\") ? {} : VEGA_DEBUG;\n",
       "  (function(spec, embedOpt){\n",
       "    let outputDiv = document.currentScript.previousElementSibling;\n",
       "    if (outputDiv.id !== \"altair-viz-9f04ff109feb4c858bfa14ebcf6f8fd3\") {\n",
       "      outputDiv = document.getElementById(\"altair-viz-9f04ff109feb4c858bfa14ebcf6f8fd3\");\n",
       "    }\n",
       "\n",
       "    const paths = {\n",
       "      \"vega\": \"https://cdn.jsdelivr.net/npm/vega@5?noext\",\n",
       "      \"vega-lib\": \"https://cdn.jsdelivr.net/npm/vega-lib?noext\",\n",
       "      \"vega-lite\": \"https://cdn.jsdelivr.net/npm/vega-lite@5.20.1?noext\",\n",
       "      \"vega-embed\": \"https://cdn.jsdelivr.net/npm/vega-embed@6?noext\",\n",
       "    };\n",
       "\n",
       "    function maybeLoadScript(lib, version) {\n",
       "      var key = `${lib.replace(\"-\", \"\")}_version`;\n",
       "      return (VEGA_DEBUG[key] == version) ?\n",
       "        Promise.resolve(paths[lib]) :\n",
       "        new Promise(function(resolve, reject) {\n",
       "          var s = document.createElement('script');\n",
       "          document.getElementsByTagName(\"head\")[0].appendChild(s);\n",
       "          s.async = true;\n",
       "          s.onload = () => {\n",
       "            VEGA_DEBUG[key] = version;\n",
       "            return resolve(paths[lib]);\n",
       "          };\n",
       "          s.onerror = () => reject(`Error loading script: ${paths[lib]}`);\n",
       "          s.src = paths[lib];\n",
       "        });\n",
       "    }\n",
       "\n",
       "    function showError(err) {\n",
       "      outputDiv.innerHTML = `<div class=\"error\" style=\"color:red;\">${err}</div>`;\n",
       "      throw err;\n",
       "    }\n",
       "\n",
       "    function displayChart(vegaEmbed) {\n",
       "      vegaEmbed(outputDiv, spec, embedOpt)\n",
       "        .catch(err => showError(`Javascript Error: ${err.message}<br>This usually means there's a typo in your chart specification. See the javascript console for the full traceback.`));\n",
       "    }\n",
       "\n",
       "    if(typeof define === \"function\" && define.amd) {\n",
       "      requirejs.config({paths});\n",
       "      let deps = [\"vega-embed\"];\n",
       "      require(deps, displayChart, err => showError(`Error loading script: ${err.message}`));\n",
       "    } else {\n",
       "      maybeLoadScript(\"vega\", \"5\")\n",
       "        .then(() => maybeLoadScript(\"vega-lite\", \"5.20.1\"))\n",
       "        .then(() => maybeLoadScript(\"vega-embed\", \"6\"))\n",
       "        .catch(showError)\n",
       "        .then(() => displayChart(vegaEmbed));\n",
       "    }\n",
       "  })({\"config\": {\"view\": {\"continuousWidth\": 300, \"continuousHeight\": 300}}, \"data\": {\"name\": \"data-58580f079e78d2ecf11da8f9bbaf431e\"}, \"mark\": {\"type\": \"bar\"}, \"encoding\": {\"color\": {\"field\": \"generation\", \"scale\": {\"scheme\": \"blueorange\"}, \"type\": \"quantitative\"}, \"x\": {\"field\": \"count\", \"type\": \"quantitative\"}, \"y\": {\"field\": \"type1\", \"sort\": \"-x\", \"type\": \"nominal\"}}, \"$schema\": \"https://vega.github.io/schema/vega-lite/v5.20.1.json\", \"datasets\": {\"data-58580f079e78d2ecf11da8f9bbaf431e\": [{\"generation\": 1, \"type1\": \"water\", \"count\": 28}, {\"generation\": 1, \"type1\": \"normal\", \"count\": 22}, {\"generation\": 1, \"type1\": \"poison\", \"count\": 14}, {\"generation\": 1, \"type1\": \"bug\", \"count\": 12}, {\"generation\": 1, \"type1\": \"grass\", \"count\": 12}, {\"generation\": 1, \"type1\": \"fire\", \"count\": 12}, {\"generation\": 1, \"type1\": \"electric\", \"count\": 9}, {\"generation\": 1, \"type1\": \"rock\", \"count\": 9}, {\"generation\": 1, \"type1\": \"psychic\", \"count\": 8}, {\"generation\": 1, \"type1\": \"ground\", \"count\": 8}, {\"generation\": 1, \"type1\": \"fighting\", \"count\": 7}, {\"generation\": 1, \"type1\": \"ghost\", \"count\": 3}, {\"generation\": 1, \"type1\": \"dragon\", \"count\": 3}, {\"generation\": 1, \"type1\": \"ice\", \"count\": 2}, {\"generation\": 1, \"type1\": \"fairy\", \"count\": 2}, {\"generation\": 2, \"type1\": \"water\", \"count\": 18}, {\"generation\": 2, \"type1\": \"normal\", \"count\": 15}, {\"generation\": 2, \"type1\": \"bug\", \"count\": 10}, {\"generation\": 2, \"type1\": \"grass\", \"count\": 9}, {\"generation\": 2, \"type1\": \"fire\", \"count\": 8}, {\"generation\": 2, \"type1\": \"psychic\", \"count\": 7}, {\"generation\": 2, \"type1\": \"electric\", \"count\": 6}, {\"generation\": 2, \"type1\": \"dark\", \"count\": 5}, {\"generation\": 2, \"type1\": \"fairy\", \"count\": 5}, {\"generation\": 2, \"type1\": \"ice\", \"count\": 4}, {\"generation\": 2, \"type1\": \"rock\", \"count\": 4}, {\"generation\": 2, \"type1\": \"ground\", \"count\": 3}, {\"generation\": 2, \"type1\": \"steel\", \"count\": 2}, {\"generation\": 2, \"type1\": \"fighting\", \"count\": 2}, {\"generation\": 2, \"type1\": \"ghost\", \"count\": 1}, {\"generation\": 2, \"type1\": \"poison\", \"count\": 1}, {\"generation\": 3, \"type1\": \"water\", \"count\": 24}, {\"generation\": 3, \"type1\": \"normal\", \"count\": 18}, {\"generation\": 3, \"type1\": \"grass\", \"count\": 12}, {\"generation\": 3, \"type1\": \"bug\", \"count\": 12}, {\"generation\": 3, \"type1\": \"steel\", \"count\": 9}, {\"generation\": 3, \"type1\": \"rock\", \"count\": 8}, {\"generation\": 3, \"type1\": \"psychic\", \"count\": 8}, {\"generation\": 3, \"type1\": \"dragon\", \"count\": 7}, {\"generation\": 3, \"type1\": \"ground\", \"count\": 6}, {\"generation\": 3, \"type1\": \"ice\", \"count\": 6}, {\"generation\": 3, \"type1\": \"fire\", \"count\": 6}, {\"generation\": 3, \"type1\": \"fighting\", \"count\": 4}, {\"generation\": 3, \"type1\": \"dark\", \"count\": 4}, {\"generation\": 3, \"type1\": \"ghost\", \"count\": 4}, {\"generation\": 3, \"type1\": \"electric\", \"count\": 4}, {\"generation\": 3, \"type1\": \"poison\", \"count\": 3}, {\"generation\": 4, \"type1\": \"normal\", \"count\": 17}, {\"generation\": 4, \"type1\": \"grass\", \"count\": 13}, {\"generation\": 4, \"type1\": \"water\", \"count\": 13}, {\"generation\": 4, \"type1\": \"bug\", \"count\": 8}, {\"generation\": 4, \"type1\": \"psychic\", \"count\": 7}, {\"generation\": 4, \"type1\": \"electric\", \"count\": 7}, {\"generation\": 4, \"type1\": \"rock\", \"count\": 6}, {\"generation\": 4, \"type1\": \"poison\", \"count\": 6}, {\"generation\": 4, \"type1\": \"ghost\", \"count\": 6}, {\"generation\": 4, \"type1\": \"fire\", \"count\": 5}, {\"generation\": 4, \"type1\": \"ground\", \"count\": 4}, {\"generation\": 4, \"type1\": \"ice\", \"count\": 3}, {\"generation\": 4, \"type1\": \"steel\", \"count\": 3}, {\"generation\": 4, \"type1\": \"dark\", \"count\": 3}, {\"generation\": 4, \"type1\": \"dragon\", \"count\": 3}, {\"generation\": 4, \"type1\": \"fighting\", \"count\": 2}, {\"generation\": 4, \"type1\": \"fairy\", \"count\": 1}, {\"generation\": 5, \"type1\": \"bug\", \"count\": 18}, {\"generation\": 5, \"type1\": \"normal\", \"count\": 17}, {\"generation\": 5, \"type1\": \"water\", \"count\": 17}, {\"generation\": 5, \"type1\": \"grass\", \"count\": 15}, {\"generation\": 5, \"type1\": \"psychic\", \"count\": 14}, {\"generation\": 5, \"type1\": \"dark\", \"count\": 13}, {\"generation\": 5, \"type1\": \"ground\", \"count\": 9}, {\"generation\": 5, \"type1\": \"fire\", \"count\": 8}, {\"generation\": 5, \"type1\": \"electric\", \"count\": 7}, {\"generation\": 5, \"type1\": \"dragon\", \"count\": 7}, {\"generation\": 5, \"type1\": \"fighting\", \"count\": 7}, {\"generation\": 5, \"type1\": \"rock\", \"count\": 6}, {\"generation\": 5, \"type1\": \"ice\", \"count\": 6}, {\"generation\": 5, \"type1\": \"ghost\", \"count\": 5}, {\"generation\": 5, \"type1\": \"steel\", \"count\": 4}, {\"generation\": 5, \"type1\": \"poison\", \"count\": 2}, {\"generation\": 5, \"type1\": \"flying\", \"count\": 1}, {\"generation\": 6, \"type1\": \"fairy\", \"count\": 9}, {\"generation\": 6, \"type1\": \"fire\", \"count\": 8}, {\"generation\": 6, \"type1\": \"rock\", \"count\": 8}, {\"generation\": 6, \"type1\": \"water\", \"count\": 5}, {\"generation\": 6, \"type1\": \"grass\", \"count\": 5}, {\"generation\": 6, \"type1\": \"normal\", \"count\": 4}, {\"generation\": 6, \"type1\": \"steel\", \"count\": 4}, {\"generation\": 6, \"type1\": \"dragon\", \"count\": 4}, {\"generation\": 6, \"type1\": \"ghost\", \"count\": 4}, {\"generation\": 6, \"type1\": \"fighting\", \"count\": 3}, {\"generation\": 6, \"type1\": \"psychic\", \"count\": 3}, {\"generation\": 6, \"type1\": \"electric\", \"count\": 3}, {\"generation\": 6, \"type1\": \"dark\", \"count\": 3}, {\"generation\": 6, \"type1\": \"bug\", \"count\": 3}, {\"generation\": 6, \"type1\": \"ice\", \"count\": 2}, {\"generation\": 6, \"type1\": \"flying\", \"count\": 2}, {\"generation\": 6, \"type1\": \"poison\", \"count\": 2}, {\"generation\": 7, \"type1\": \"grass\", \"count\": 12}, {\"generation\": 7, \"type1\": \"normal\", \"count\": 12}, {\"generation\": 7, \"type1\": \"bug\", \"count\": 9}, {\"generation\": 7, \"type1\": \"water\", \"count\": 9}, {\"generation\": 7, \"type1\": \"psychic\", \"count\": 6}, {\"generation\": 7, \"type1\": \"fire\", \"count\": 5}, {\"generation\": 7, \"type1\": \"rock\", \"count\": 4}, {\"generation\": 7, \"type1\": \"ghost\", \"count\": 4}, {\"generation\": 7, \"type1\": \"poison\", \"count\": 4}, {\"generation\": 7, \"type1\": \"fighting\", \"count\": 3}, {\"generation\": 7, \"type1\": \"electric\", \"count\": 3}, {\"generation\": 7, \"type1\": \"dragon\", \"count\": 3}, {\"generation\": 7, \"type1\": \"steel\", \"count\": 2}, {\"generation\": 7, \"type1\": \"ground\", \"count\": 2}, {\"generation\": 7, \"type1\": \"fairy\", \"count\": 1}, {\"generation\": 7, \"type1\": \"dark\", \"count\": 1}]}}, {\"mode\": \"vega-lite\"});\n",
       "</script>"
      ],
      "text/plain": [
       "alt.Chart(...)"
      ]
     },
     "execution_count": 99,
     "metadata": {},
     "output_type": "execute_result"
    }
   ],
   "source": [
    "alt.Chart(df_generation_type).mark_bar().encode(\n",
    "    x = 'count', \n",
    "    y = alt.Y('type1', sort='-x'),\n",
    "    color = alt.Color('generation').scale(scheme = 'blueorange')\n",
    ")"
   ]
  },
  {
   "cell_type": "markdown",
   "metadata": {},
   "source": [
    "6. Erstelle deine eigene Farbskala für den plot und färbe damit Generation 1-7 ein. <br>\n",
    "... Teste auch hier verschiedene Datentypen für die Farbe. "
   ]
  },
  {
   "cell_type": "code",
   "execution_count": 130,
   "metadata": {},
   "outputs": [],
   "source": [
    "domain = [1, 3.5, 7]\n",
    "range = ['lightgreen', 'orange', 'purple']"
   ]
  },
  {
   "cell_type": "code",
   "execution_count": 131,
   "metadata": {},
   "outputs": [
    {
     "data": {
      "text/html": [
       "\n",
       "<style>\n",
       "  #altair-viz-594dbada76364599ac1ae452cb9f4df8.vega-embed {\n",
       "    width: 100%;\n",
       "    display: flex;\n",
       "  }\n",
       "\n",
       "  #altair-viz-594dbada76364599ac1ae452cb9f4df8.vega-embed details,\n",
       "  #altair-viz-594dbada76364599ac1ae452cb9f4df8.vega-embed details summary {\n",
       "    position: relative;\n",
       "  }\n",
       "</style>\n",
       "<div id=\"altair-viz-594dbada76364599ac1ae452cb9f4df8\"></div>\n",
       "<script type=\"text/javascript\">\n",
       "  var VEGA_DEBUG = (typeof VEGA_DEBUG == \"undefined\") ? {} : VEGA_DEBUG;\n",
       "  (function(spec, embedOpt){\n",
       "    let outputDiv = document.currentScript.previousElementSibling;\n",
       "    if (outputDiv.id !== \"altair-viz-594dbada76364599ac1ae452cb9f4df8\") {\n",
       "      outputDiv = document.getElementById(\"altair-viz-594dbada76364599ac1ae452cb9f4df8\");\n",
       "    }\n",
       "\n",
       "    const paths = {\n",
       "      \"vega\": \"https://cdn.jsdelivr.net/npm/vega@5?noext\",\n",
       "      \"vega-lib\": \"https://cdn.jsdelivr.net/npm/vega-lib?noext\",\n",
       "      \"vega-lite\": \"https://cdn.jsdelivr.net/npm/vega-lite@5.20.1?noext\",\n",
       "      \"vega-embed\": \"https://cdn.jsdelivr.net/npm/vega-embed@6?noext\",\n",
       "    };\n",
       "\n",
       "    function maybeLoadScript(lib, version) {\n",
       "      var key = `${lib.replace(\"-\", \"\")}_version`;\n",
       "      return (VEGA_DEBUG[key] == version) ?\n",
       "        Promise.resolve(paths[lib]) :\n",
       "        new Promise(function(resolve, reject) {\n",
       "          var s = document.createElement('script');\n",
       "          document.getElementsByTagName(\"head\")[0].appendChild(s);\n",
       "          s.async = true;\n",
       "          s.onload = () => {\n",
       "            VEGA_DEBUG[key] = version;\n",
       "            return resolve(paths[lib]);\n",
       "          };\n",
       "          s.onerror = () => reject(`Error loading script: ${paths[lib]}`);\n",
       "          s.src = paths[lib];\n",
       "        });\n",
       "    }\n",
       "\n",
       "    function showError(err) {\n",
       "      outputDiv.innerHTML = `<div class=\"error\" style=\"color:red;\">${err}</div>`;\n",
       "      throw err;\n",
       "    }\n",
       "\n",
       "    function displayChart(vegaEmbed) {\n",
       "      vegaEmbed(outputDiv, spec, embedOpt)\n",
       "        .catch(err => showError(`Javascript Error: ${err.message}<br>This usually means there's a typo in your chart specification. See the javascript console for the full traceback.`));\n",
       "    }\n",
       "\n",
       "    if(typeof define === \"function\" && define.amd) {\n",
       "      requirejs.config({paths});\n",
       "      let deps = [\"vega-embed\"];\n",
       "      require(deps, displayChart, err => showError(`Error loading script: ${err.message}`));\n",
       "    } else {\n",
       "      maybeLoadScript(\"vega\", \"5\")\n",
       "        .then(() => maybeLoadScript(\"vega-lite\", \"5.20.1\"))\n",
       "        .then(() => maybeLoadScript(\"vega-embed\", \"6\"))\n",
       "        .catch(showError)\n",
       "        .then(() => displayChart(vegaEmbed));\n",
       "    }\n",
       "  })({\"config\": {\"view\": {\"continuousWidth\": 300, \"continuousHeight\": 300}}, \"data\": {\"name\": \"data-58580f079e78d2ecf11da8f9bbaf431e\"}, \"mark\": {\"type\": \"bar\"}, \"encoding\": {\"color\": {\"field\": \"generation\", \"scale\": {\"domain\": [1, 3.5, 7], \"range\": [\"lightgreen\", \"orange\", \"purple\"]}, \"type\": \"quantitative\"}, \"x\": {\"field\": \"count\", \"type\": \"quantitative\"}, \"y\": {\"field\": \"type1\", \"sort\": \"-x\", \"type\": \"nominal\"}}, \"$schema\": \"https://vega.github.io/schema/vega-lite/v5.20.1.json\", \"datasets\": {\"data-58580f079e78d2ecf11da8f9bbaf431e\": [{\"generation\": 1, \"type1\": \"water\", \"count\": 28}, {\"generation\": 1, \"type1\": \"normal\", \"count\": 22}, {\"generation\": 1, \"type1\": \"poison\", \"count\": 14}, {\"generation\": 1, \"type1\": \"bug\", \"count\": 12}, {\"generation\": 1, \"type1\": \"grass\", \"count\": 12}, {\"generation\": 1, \"type1\": \"fire\", \"count\": 12}, {\"generation\": 1, \"type1\": \"electric\", \"count\": 9}, {\"generation\": 1, \"type1\": \"rock\", \"count\": 9}, {\"generation\": 1, \"type1\": \"psychic\", \"count\": 8}, {\"generation\": 1, \"type1\": \"ground\", \"count\": 8}, {\"generation\": 1, \"type1\": \"fighting\", \"count\": 7}, {\"generation\": 1, \"type1\": \"ghost\", \"count\": 3}, {\"generation\": 1, \"type1\": \"dragon\", \"count\": 3}, {\"generation\": 1, \"type1\": \"ice\", \"count\": 2}, {\"generation\": 1, \"type1\": \"fairy\", \"count\": 2}, {\"generation\": 2, \"type1\": \"water\", \"count\": 18}, {\"generation\": 2, \"type1\": \"normal\", \"count\": 15}, {\"generation\": 2, \"type1\": \"bug\", \"count\": 10}, {\"generation\": 2, \"type1\": \"grass\", \"count\": 9}, {\"generation\": 2, \"type1\": \"fire\", \"count\": 8}, {\"generation\": 2, \"type1\": \"psychic\", \"count\": 7}, {\"generation\": 2, \"type1\": \"electric\", \"count\": 6}, {\"generation\": 2, \"type1\": \"dark\", \"count\": 5}, {\"generation\": 2, \"type1\": \"fairy\", \"count\": 5}, {\"generation\": 2, \"type1\": \"ice\", \"count\": 4}, {\"generation\": 2, \"type1\": \"rock\", \"count\": 4}, {\"generation\": 2, \"type1\": \"ground\", \"count\": 3}, {\"generation\": 2, \"type1\": \"steel\", \"count\": 2}, {\"generation\": 2, \"type1\": \"fighting\", \"count\": 2}, {\"generation\": 2, \"type1\": \"ghost\", \"count\": 1}, {\"generation\": 2, \"type1\": \"poison\", \"count\": 1}, {\"generation\": 3, \"type1\": \"water\", \"count\": 24}, {\"generation\": 3, \"type1\": \"normal\", \"count\": 18}, {\"generation\": 3, \"type1\": \"grass\", \"count\": 12}, {\"generation\": 3, \"type1\": \"bug\", \"count\": 12}, {\"generation\": 3, \"type1\": \"steel\", \"count\": 9}, {\"generation\": 3, \"type1\": \"rock\", \"count\": 8}, {\"generation\": 3, \"type1\": \"psychic\", \"count\": 8}, {\"generation\": 3, \"type1\": \"dragon\", \"count\": 7}, {\"generation\": 3, \"type1\": \"ground\", \"count\": 6}, {\"generation\": 3, \"type1\": \"ice\", \"count\": 6}, {\"generation\": 3, \"type1\": \"fire\", \"count\": 6}, {\"generation\": 3, \"type1\": \"fighting\", \"count\": 4}, {\"generation\": 3, \"type1\": \"dark\", \"count\": 4}, {\"generation\": 3, \"type1\": \"ghost\", \"count\": 4}, {\"generation\": 3, \"type1\": \"electric\", \"count\": 4}, {\"generation\": 3, \"type1\": \"poison\", \"count\": 3}, {\"generation\": 4, \"type1\": \"normal\", \"count\": 17}, {\"generation\": 4, \"type1\": \"grass\", \"count\": 13}, {\"generation\": 4, \"type1\": \"water\", \"count\": 13}, {\"generation\": 4, \"type1\": \"bug\", \"count\": 8}, {\"generation\": 4, \"type1\": \"psychic\", \"count\": 7}, {\"generation\": 4, \"type1\": \"electric\", \"count\": 7}, {\"generation\": 4, \"type1\": \"rock\", \"count\": 6}, {\"generation\": 4, \"type1\": \"poison\", \"count\": 6}, {\"generation\": 4, \"type1\": \"ghost\", \"count\": 6}, {\"generation\": 4, \"type1\": \"fire\", \"count\": 5}, {\"generation\": 4, \"type1\": \"ground\", \"count\": 4}, {\"generation\": 4, \"type1\": \"ice\", \"count\": 3}, {\"generation\": 4, \"type1\": \"steel\", \"count\": 3}, {\"generation\": 4, \"type1\": \"dark\", \"count\": 3}, {\"generation\": 4, \"type1\": \"dragon\", \"count\": 3}, {\"generation\": 4, \"type1\": \"fighting\", \"count\": 2}, {\"generation\": 4, \"type1\": \"fairy\", \"count\": 1}, {\"generation\": 5, \"type1\": \"bug\", \"count\": 18}, {\"generation\": 5, \"type1\": \"normal\", \"count\": 17}, {\"generation\": 5, \"type1\": \"water\", \"count\": 17}, {\"generation\": 5, \"type1\": \"grass\", \"count\": 15}, {\"generation\": 5, \"type1\": \"psychic\", \"count\": 14}, {\"generation\": 5, \"type1\": \"dark\", \"count\": 13}, {\"generation\": 5, \"type1\": \"ground\", \"count\": 9}, {\"generation\": 5, \"type1\": \"fire\", \"count\": 8}, {\"generation\": 5, \"type1\": \"electric\", \"count\": 7}, {\"generation\": 5, \"type1\": \"dragon\", \"count\": 7}, {\"generation\": 5, \"type1\": \"fighting\", \"count\": 7}, {\"generation\": 5, \"type1\": \"rock\", \"count\": 6}, {\"generation\": 5, \"type1\": \"ice\", \"count\": 6}, {\"generation\": 5, \"type1\": \"ghost\", \"count\": 5}, {\"generation\": 5, \"type1\": \"steel\", \"count\": 4}, {\"generation\": 5, \"type1\": \"poison\", \"count\": 2}, {\"generation\": 5, \"type1\": \"flying\", \"count\": 1}, {\"generation\": 6, \"type1\": \"fairy\", \"count\": 9}, {\"generation\": 6, \"type1\": \"fire\", \"count\": 8}, {\"generation\": 6, \"type1\": \"rock\", \"count\": 8}, {\"generation\": 6, \"type1\": \"water\", \"count\": 5}, {\"generation\": 6, \"type1\": \"grass\", \"count\": 5}, {\"generation\": 6, \"type1\": \"normal\", \"count\": 4}, {\"generation\": 6, \"type1\": \"steel\", \"count\": 4}, {\"generation\": 6, \"type1\": \"dragon\", \"count\": 4}, {\"generation\": 6, \"type1\": \"ghost\", \"count\": 4}, {\"generation\": 6, \"type1\": \"fighting\", \"count\": 3}, {\"generation\": 6, \"type1\": \"psychic\", \"count\": 3}, {\"generation\": 6, \"type1\": \"electric\", \"count\": 3}, {\"generation\": 6, \"type1\": \"dark\", \"count\": 3}, {\"generation\": 6, \"type1\": \"bug\", \"count\": 3}, {\"generation\": 6, \"type1\": \"ice\", \"count\": 2}, {\"generation\": 6, \"type1\": \"flying\", \"count\": 2}, {\"generation\": 6, \"type1\": \"poison\", \"count\": 2}, {\"generation\": 7, \"type1\": \"grass\", \"count\": 12}, {\"generation\": 7, \"type1\": \"normal\", \"count\": 12}, {\"generation\": 7, \"type1\": \"bug\", \"count\": 9}, {\"generation\": 7, \"type1\": \"water\", \"count\": 9}, {\"generation\": 7, \"type1\": \"psychic\", \"count\": 6}, {\"generation\": 7, \"type1\": \"fire\", \"count\": 5}, {\"generation\": 7, \"type1\": \"rock\", \"count\": 4}, {\"generation\": 7, \"type1\": \"ghost\", \"count\": 4}, {\"generation\": 7, \"type1\": \"poison\", \"count\": 4}, {\"generation\": 7, \"type1\": \"fighting\", \"count\": 3}, {\"generation\": 7, \"type1\": \"electric\", \"count\": 3}, {\"generation\": 7, \"type1\": \"dragon\", \"count\": 3}, {\"generation\": 7, \"type1\": \"steel\", \"count\": 2}, {\"generation\": 7, \"type1\": \"ground\", \"count\": 2}, {\"generation\": 7, \"type1\": \"fairy\", \"count\": 1}, {\"generation\": 7, \"type1\": \"dark\", \"count\": 1}]}}, {\"mode\": \"vega-lite\"});\n",
       "</script>"
      ],
      "text/plain": [
       "alt.Chart(...)"
      ]
     },
     "execution_count": 131,
     "metadata": {},
     "output_type": "execute_result"
    }
   ],
   "source": [
    "alt.Chart(df_generation_type).mark_bar().encode(\n",
    "    x = 'count', \n",
    "    y = alt.Y('type1', sort='-x'),\n",
    "    color = alt.Color('generation:Q').scale(domain=domain, range = range)\n",
    ")"
   ]
  },
  {
   "cell_type": "code",
   "execution_count": null,
   "metadata": {},
   "outputs": [],
   "source": []
  },
  {
   "cell_type": "markdown",
   "metadata": {},
   "source": [
    "## Formatierung"
   ]
  },
  {
   "cell_type": "code",
   "execution_count": 132,
   "metadata": {},
   "outputs": [
    {
     "data": {
      "text/html": [
       "\n",
       "<style>\n",
       "  #altair-viz-b93d2ec39fed419895f0b4fc4cba0564.vega-embed {\n",
       "    width: 100%;\n",
       "    display: flex;\n",
       "  }\n",
       "\n",
       "  #altair-viz-b93d2ec39fed419895f0b4fc4cba0564.vega-embed details,\n",
       "  #altair-viz-b93d2ec39fed419895f0b4fc4cba0564.vega-embed details summary {\n",
       "    position: relative;\n",
       "  }\n",
       "</style>\n",
       "<div id=\"altair-viz-b93d2ec39fed419895f0b4fc4cba0564\"></div>\n",
       "<script type=\"text/javascript\">\n",
       "  var VEGA_DEBUG = (typeof VEGA_DEBUG == \"undefined\") ? {} : VEGA_DEBUG;\n",
       "  (function(spec, embedOpt){\n",
       "    let outputDiv = document.currentScript.previousElementSibling;\n",
       "    if (outputDiv.id !== \"altair-viz-b93d2ec39fed419895f0b4fc4cba0564\") {\n",
       "      outputDiv = document.getElementById(\"altair-viz-b93d2ec39fed419895f0b4fc4cba0564\");\n",
       "    }\n",
       "\n",
       "    const paths = {\n",
       "      \"vega\": \"https://cdn.jsdelivr.net/npm/vega@5?noext\",\n",
       "      \"vega-lib\": \"https://cdn.jsdelivr.net/npm/vega-lib?noext\",\n",
       "      \"vega-lite\": \"https://cdn.jsdelivr.net/npm/vega-lite@5.20.1?noext\",\n",
       "      \"vega-embed\": \"https://cdn.jsdelivr.net/npm/vega-embed@6?noext\",\n",
       "    };\n",
       "\n",
       "    function maybeLoadScript(lib, version) {\n",
       "      var key = `${lib.replace(\"-\", \"\")}_version`;\n",
       "      return (VEGA_DEBUG[key] == version) ?\n",
       "        Promise.resolve(paths[lib]) :\n",
       "        new Promise(function(resolve, reject) {\n",
       "          var s = document.createElement('script');\n",
       "          document.getElementsByTagName(\"head\")[0].appendChild(s);\n",
       "          s.async = true;\n",
       "          s.onload = () => {\n",
       "            VEGA_DEBUG[key] = version;\n",
       "            return resolve(paths[lib]);\n",
       "          };\n",
       "          s.onerror = () => reject(`Error loading script: ${paths[lib]}`);\n",
       "          s.src = paths[lib];\n",
       "        });\n",
       "    }\n",
       "\n",
       "    function showError(err) {\n",
       "      outputDiv.innerHTML = `<div class=\"error\" style=\"color:red;\">${err}</div>`;\n",
       "      throw err;\n",
       "    }\n",
       "\n",
       "    function displayChart(vegaEmbed) {\n",
       "      vegaEmbed(outputDiv, spec, embedOpt)\n",
       "        .catch(err => showError(`Javascript Error: ${err.message}<br>This usually means there's a typo in your chart specification. See the javascript console for the full traceback.`));\n",
       "    }\n",
       "\n",
       "    if(typeof define === \"function\" && define.amd) {\n",
       "      requirejs.config({paths});\n",
       "      let deps = [\"vega-embed\"];\n",
       "      require(deps, displayChart, err => showError(`Error loading script: ${err.message}`));\n",
       "    } else {\n",
       "      maybeLoadScript(\"vega\", \"5\")\n",
       "        .then(() => maybeLoadScript(\"vega-lite\", \"5.20.1\"))\n",
       "        .then(() => maybeLoadScript(\"vega-embed\", \"6\"))\n",
       "        .catch(showError)\n",
       "        .then(() => displayChart(vegaEmbed));\n",
       "    }\n",
       "  })({\"config\": {\"view\": {\"continuousWidth\": 300, \"continuousHeight\": 300}}, \"data\": {\"name\": \"data-58580f079e78d2ecf11da8f9bbaf431e\"}, \"mark\": {\"type\": \"bar\"}, \"encoding\": {\"color\": {\"field\": \"generation\", \"scale\": {\"domain\": [1, 3.5, 7], \"range\": [\"lightgreen\", \"orange\", \"purple\"]}, \"type\": \"quantitative\"}, \"x\": {\"field\": \"count\", \"type\": \"quantitative\"}, \"y\": {\"field\": \"type1\", \"sort\": \"-x\", \"type\": \"nominal\"}}, \"height\": 350, \"title\": \"Pokemon nach Typ und Generation\", \"width\": 600, \"$schema\": \"https://vega.github.io/schema/vega-lite/v5.20.1.json\", \"datasets\": {\"data-58580f079e78d2ecf11da8f9bbaf431e\": [{\"generation\": 1, \"type1\": \"water\", \"count\": 28}, {\"generation\": 1, \"type1\": \"normal\", \"count\": 22}, {\"generation\": 1, \"type1\": \"poison\", \"count\": 14}, {\"generation\": 1, \"type1\": \"bug\", \"count\": 12}, {\"generation\": 1, \"type1\": \"grass\", \"count\": 12}, {\"generation\": 1, \"type1\": \"fire\", \"count\": 12}, {\"generation\": 1, \"type1\": \"electric\", \"count\": 9}, {\"generation\": 1, \"type1\": \"rock\", \"count\": 9}, {\"generation\": 1, \"type1\": \"psychic\", \"count\": 8}, {\"generation\": 1, \"type1\": \"ground\", \"count\": 8}, {\"generation\": 1, \"type1\": \"fighting\", \"count\": 7}, {\"generation\": 1, \"type1\": \"ghost\", \"count\": 3}, {\"generation\": 1, \"type1\": \"dragon\", \"count\": 3}, {\"generation\": 1, \"type1\": \"ice\", \"count\": 2}, {\"generation\": 1, \"type1\": \"fairy\", \"count\": 2}, {\"generation\": 2, \"type1\": \"water\", \"count\": 18}, {\"generation\": 2, \"type1\": \"normal\", \"count\": 15}, {\"generation\": 2, \"type1\": \"bug\", \"count\": 10}, {\"generation\": 2, \"type1\": \"grass\", \"count\": 9}, {\"generation\": 2, \"type1\": \"fire\", \"count\": 8}, {\"generation\": 2, \"type1\": \"psychic\", \"count\": 7}, {\"generation\": 2, \"type1\": \"electric\", \"count\": 6}, {\"generation\": 2, \"type1\": \"dark\", \"count\": 5}, {\"generation\": 2, \"type1\": \"fairy\", \"count\": 5}, {\"generation\": 2, \"type1\": \"ice\", \"count\": 4}, {\"generation\": 2, \"type1\": \"rock\", \"count\": 4}, {\"generation\": 2, \"type1\": \"ground\", \"count\": 3}, {\"generation\": 2, \"type1\": \"steel\", \"count\": 2}, {\"generation\": 2, \"type1\": \"fighting\", \"count\": 2}, {\"generation\": 2, \"type1\": \"ghost\", \"count\": 1}, {\"generation\": 2, \"type1\": \"poison\", \"count\": 1}, {\"generation\": 3, \"type1\": \"water\", \"count\": 24}, {\"generation\": 3, \"type1\": \"normal\", \"count\": 18}, {\"generation\": 3, \"type1\": \"grass\", \"count\": 12}, {\"generation\": 3, \"type1\": \"bug\", \"count\": 12}, {\"generation\": 3, \"type1\": \"steel\", \"count\": 9}, {\"generation\": 3, \"type1\": \"rock\", \"count\": 8}, {\"generation\": 3, \"type1\": \"psychic\", \"count\": 8}, {\"generation\": 3, \"type1\": \"dragon\", \"count\": 7}, {\"generation\": 3, \"type1\": \"ground\", \"count\": 6}, {\"generation\": 3, \"type1\": \"ice\", \"count\": 6}, {\"generation\": 3, \"type1\": \"fire\", \"count\": 6}, {\"generation\": 3, \"type1\": \"fighting\", \"count\": 4}, {\"generation\": 3, \"type1\": \"dark\", \"count\": 4}, {\"generation\": 3, \"type1\": \"ghost\", \"count\": 4}, {\"generation\": 3, \"type1\": \"electric\", \"count\": 4}, {\"generation\": 3, \"type1\": \"poison\", \"count\": 3}, {\"generation\": 4, \"type1\": \"normal\", \"count\": 17}, {\"generation\": 4, \"type1\": \"grass\", \"count\": 13}, {\"generation\": 4, \"type1\": \"water\", \"count\": 13}, {\"generation\": 4, \"type1\": \"bug\", \"count\": 8}, {\"generation\": 4, \"type1\": \"psychic\", \"count\": 7}, {\"generation\": 4, \"type1\": \"electric\", \"count\": 7}, {\"generation\": 4, \"type1\": \"rock\", \"count\": 6}, {\"generation\": 4, \"type1\": \"poison\", \"count\": 6}, {\"generation\": 4, \"type1\": \"ghost\", \"count\": 6}, {\"generation\": 4, \"type1\": \"fire\", \"count\": 5}, {\"generation\": 4, \"type1\": \"ground\", \"count\": 4}, {\"generation\": 4, \"type1\": \"ice\", \"count\": 3}, {\"generation\": 4, \"type1\": \"steel\", \"count\": 3}, {\"generation\": 4, \"type1\": \"dark\", \"count\": 3}, {\"generation\": 4, \"type1\": \"dragon\", \"count\": 3}, {\"generation\": 4, \"type1\": \"fighting\", \"count\": 2}, {\"generation\": 4, \"type1\": \"fairy\", \"count\": 1}, {\"generation\": 5, \"type1\": \"bug\", \"count\": 18}, {\"generation\": 5, \"type1\": \"normal\", \"count\": 17}, {\"generation\": 5, \"type1\": \"water\", \"count\": 17}, {\"generation\": 5, \"type1\": \"grass\", \"count\": 15}, {\"generation\": 5, \"type1\": \"psychic\", \"count\": 14}, {\"generation\": 5, \"type1\": \"dark\", \"count\": 13}, {\"generation\": 5, \"type1\": \"ground\", \"count\": 9}, {\"generation\": 5, \"type1\": \"fire\", \"count\": 8}, {\"generation\": 5, \"type1\": \"electric\", \"count\": 7}, {\"generation\": 5, \"type1\": \"dragon\", \"count\": 7}, {\"generation\": 5, \"type1\": \"fighting\", \"count\": 7}, {\"generation\": 5, \"type1\": \"rock\", \"count\": 6}, {\"generation\": 5, \"type1\": \"ice\", \"count\": 6}, {\"generation\": 5, \"type1\": \"ghost\", \"count\": 5}, {\"generation\": 5, \"type1\": \"steel\", \"count\": 4}, {\"generation\": 5, \"type1\": \"poison\", \"count\": 2}, {\"generation\": 5, \"type1\": \"flying\", \"count\": 1}, {\"generation\": 6, \"type1\": \"fairy\", \"count\": 9}, {\"generation\": 6, \"type1\": \"fire\", \"count\": 8}, {\"generation\": 6, \"type1\": \"rock\", \"count\": 8}, {\"generation\": 6, \"type1\": \"water\", \"count\": 5}, {\"generation\": 6, \"type1\": \"grass\", \"count\": 5}, {\"generation\": 6, \"type1\": \"normal\", \"count\": 4}, {\"generation\": 6, \"type1\": \"steel\", \"count\": 4}, {\"generation\": 6, \"type1\": \"dragon\", \"count\": 4}, {\"generation\": 6, \"type1\": \"ghost\", \"count\": 4}, {\"generation\": 6, \"type1\": \"fighting\", \"count\": 3}, {\"generation\": 6, \"type1\": \"psychic\", \"count\": 3}, {\"generation\": 6, \"type1\": \"electric\", \"count\": 3}, {\"generation\": 6, \"type1\": \"dark\", \"count\": 3}, {\"generation\": 6, \"type1\": \"bug\", \"count\": 3}, {\"generation\": 6, \"type1\": \"ice\", \"count\": 2}, {\"generation\": 6, \"type1\": \"flying\", \"count\": 2}, {\"generation\": 6, \"type1\": \"poison\", \"count\": 2}, {\"generation\": 7, \"type1\": \"grass\", \"count\": 12}, {\"generation\": 7, \"type1\": \"normal\", \"count\": 12}, {\"generation\": 7, \"type1\": \"bug\", \"count\": 9}, {\"generation\": 7, \"type1\": \"water\", \"count\": 9}, {\"generation\": 7, \"type1\": \"psychic\", \"count\": 6}, {\"generation\": 7, \"type1\": \"fire\", \"count\": 5}, {\"generation\": 7, \"type1\": \"rock\", \"count\": 4}, {\"generation\": 7, \"type1\": \"ghost\", \"count\": 4}, {\"generation\": 7, \"type1\": \"poison\", \"count\": 4}, {\"generation\": 7, \"type1\": \"fighting\", \"count\": 3}, {\"generation\": 7, \"type1\": \"electric\", \"count\": 3}, {\"generation\": 7, \"type1\": \"dragon\", \"count\": 3}, {\"generation\": 7, \"type1\": \"steel\", \"count\": 2}, {\"generation\": 7, \"type1\": \"ground\", \"count\": 2}, {\"generation\": 7, \"type1\": \"fairy\", \"count\": 1}, {\"generation\": 7, \"type1\": \"dark\", \"count\": 1}]}}, {\"mode\": \"vega-lite\"});\n",
       "</script>"
      ],
      "text/plain": [
       "alt.Chart(...)"
      ]
     },
     "execution_count": 132,
     "metadata": {},
     "output_type": "execute_result"
    }
   ],
   "source": [
    "alt.Chart(df_generation_type).mark_bar().encode(\n",
    "    x = 'count', \n",
    "    y = alt.Y('type1', sort='-x'),\n",
    "    color = alt.Color('generation').scale(domain=domain, range = range)\n",
    ").properties(\n",
    "    width = 600, \n",
    "    height = 350, \n",
    "    title = \"Pokemon nach Typ und Generation\" \n",
    "    \n",
    ")"
   ]
  },
  {
   "cell_type": "code",
   "execution_count": null,
   "metadata": {},
   "outputs": [],
   "source": []
  },
  {
   "cell_type": "markdown",
   "metadata": {},
   "source": [
    "#### Mehr Formatierung\n",
    "\n",
    "Hier gibt es eine [Dokumentation für mehr Formatierung](https://altair-viz.github.io/user_guide/customization.html#adjusting-the-title)\n",
    "\n",
    "Achsen\n",
    "* `.scale(zero=False)`: schneidet Achse auf effektive Werte zu (statt bei 0 anzufangen)\n",
    "* `.title('<Achsenname>')`: lässt uns Achsen neu bennenen\n",
    "Titel\n",
    "* `alt.Title()`: Damit können wir Subtitel einfügen und die Platzierung des Titels bestimmen\n",
    "Legende\n",
    "* `legend(orient=\"left\")`: Orientierung der Legende\n",
    "* `.title('<name>')`: Name der Legende, `None` für keinen Titel"
   ]
  },
  {
   "cell_type": "code",
   "execution_count": null,
   "metadata": {},
   "outputs": [],
   "source": []
  },
  {
   "cell_type": "code",
   "execution_count": 140,
   "metadata": {},
   "outputs": [
    {
     "data": {
      "text/html": [
       "\n",
       "<style>\n",
       "  #altair-viz-d031c665e2b44b4087997dbeec3e4050.vega-embed {\n",
       "    width: 100%;\n",
       "    display: flex;\n",
       "  }\n",
       "\n",
       "  #altair-viz-d031c665e2b44b4087997dbeec3e4050.vega-embed details,\n",
       "  #altair-viz-d031c665e2b44b4087997dbeec3e4050.vega-embed details summary {\n",
       "    position: relative;\n",
       "  }\n",
       "</style>\n",
       "<div id=\"altair-viz-d031c665e2b44b4087997dbeec3e4050\"></div>\n",
       "<script type=\"text/javascript\">\n",
       "  var VEGA_DEBUG = (typeof VEGA_DEBUG == \"undefined\") ? {} : VEGA_DEBUG;\n",
       "  (function(spec, embedOpt){\n",
       "    let outputDiv = document.currentScript.previousElementSibling;\n",
       "    if (outputDiv.id !== \"altair-viz-d031c665e2b44b4087997dbeec3e4050\") {\n",
       "      outputDiv = document.getElementById(\"altair-viz-d031c665e2b44b4087997dbeec3e4050\");\n",
       "    }\n",
       "\n",
       "    const paths = {\n",
       "      \"vega\": \"https://cdn.jsdelivr.net/npm/vega@5?noext\",\n",
       "      \"vega-lib\": \"https://cdn.jsdelivr.net/npm/vega-lib?noext\",\n",
       "      \"vega-lite\": \"https://cdn.jsdelivr.net/npm/vega-lite@5.20.1?noext\",\n",
       "      \"vega-embed\": \"https://cdn.jsdelivr.net/npm/vega-embed@6?noext\",\n",
       "    };\n",
       "\n",
       "    function maybeLoadScript(lib, version) {\n",
       "      var key = `${lib.replace(\"-\", \"\")}_version`;\n",
       "      return (VEGA_DEBUG[key] == version) ?\n",
       "        Promise.resolve(paths[lib]) :\n",
       "        new Promise(function(resolve, reject) {\n",
       "          var s = document.createElement('script');\n",
       "          document.getElementsByTagName(\"head\")[0].appendChild(s);\n",
       "          s.async = true;\n",
       "          s.onload = () => {\n",
       "            VEGA_DEBUG[key] = version;\n",
       "            return resolve(paths[lib]);\n",
       "          };\n",
       "          s.onerror = () => reject(`Error loading script: ${paths[lib]}`);\n",
       "          s.src = paths[lib];\n",
       "        });\n",
       "    }\n",
       "\n",
       "    function showError(err) {\n",
       "      outputDiv.innerHTML = `<div class=\"error\" style=\"color:red;\">${err}</div>`;\n",
       "      throw err;\n",
       "    }\n",
       "\n",
       "    function displayChart(vegaEmbed) {\n",
       "      vegaEmbed(outputDiv, spec, embedOpt)\n",
       "        .catch(err => showError(`Javascript Error: ${err.message}<br>This usually means there's a typo in your chart specification. See the javascript console for the full traceback.`));\n",
       "    }\n",
       "\n",
       "    if(typeof define === \"function\" && define.amd) {\n",
       "      requirejs.config({paths});\n",
       "      let deps = [\"vega-embed\"];\n",
       "      require(deps, displayChart, err => showError(`Error loading script: ${err.message}`));\n",
       "    } else {\n",
       "      maybeLoadScript(\"vega\", \"5\")\n",
       "        .then(() => maybeLoadScript(\"vega-lite\", \"5.20.1\"))\n",
       "        .then(() => maybeLoadScript(\"vega-embed\", \"6\"))\n",
       "        .catch(showError)\n",
       "        .then(() => displayChart(vegaEmbed));\n",
       "    }\n",
       "  })({\"config\": {\"view\": {\"continuousWidth\": 300, \"continuousHeight\": 300}}, \"data\": {\"name\": \"data-58580f079e78d2ecf11da8f9bbaf431e\"}, \"mark\": {\"type\": \"bar\"}, \"encoding\": {\"color\": {\"field\": \"generation\", \"legend\": {\"orient\": \"left\"}, \"scale\": {\"domain\": [1, 3.5, 7], \"range\": [\"lightgreen\", \"orange\", \"purple\"]}, \"title\": null, \"type\": \"quantitative\"}, \"x\": {\"field\": \"count\", \"title\": \"Anzahl\", \"type\": \"quantitative\"}, \"y\": {\"field\": \"type1\", \"sort\": \"-x\", \"title\": \"Pokemontyp\", \"type\": \"nominal\"}}, \"height\": 350, \"title\": {\"text\": \"Pokemon nach Typ und Generation\", \"anchor\": \"start\", \"offset\": 20, \"orient\": \"top\", \"subtitle\": \"Inklusive Subtitel\"}, \"width\": 600, \"$schema\": \"https://vega.github.io/schema/vega-lite/v5.20.1.json\", \"datasets\": {\"data-58580f079e78d2ecf11da8f9bbaf431e\": [{\"generation\": 1, \"type1\": \"water\", \"count\": 28}, {\"generation\": 1, \"type1\": \"normal\", \"count\": 22}, {\"generation\": 1, \"type1\": \"poison\", \"count\": 14}, {\"generation\": 1, \"type1\": \"bug\", \"count\": 12}, {\"generation\": 1, \"type1\": \"grass\", \"count\": 12}, {\"generation\": 1, \"type1\": \"fire\", \"count\": 12}, {\"generation\": 1, \"type1\": \"electric\", \"count\": 9}, {\"generation\": 1, \"type1\": \"rock\", \"count\": 9}, {\"generation\": 1, \"type1\": \"psychic\", \"count\": 8}, {\"generation\": 1, \"type1\": \"ground\", \"count\": 8}, {\"generation\": 1, \"type1\": \"fighting\", \"count\": 7}, {\"generation\": 1, \"type1\": \"ghost\", \"count\": 3}, {\"generation\": 1, \"type1\": \"dragon\", \"count\": 3}, {\"generation\": 1, \"type1\": \"ice\", \"count\": 2}, {\"generation\": 1, \"type1\": \"fairy\", \"count\": 2}, {\"generation\": 2, \"type1\": \"water\", \"count\": 18}, {\"generation\": 2, \"type1\": \"normal\", \"count\": 15}, {\"generation\": 2, \"type1\": \"bug\", \"count\": 10}, {\"generation\": 2, \"type1\": \"grass\", \"count\": 9}, {\"generation\": 2, \"type1\": \"fire\", \"count\": 8}, {\"generation\": 2, \"type1\": \"psychic\", \"count\": 7}, {\"generation\": 2, \"type1\": \"electric\", \"count\": 6}, {\"generation\": 2, \"type1\": \"dark\", \"count\": 5}, {\"generation\": 2, \"type1\": \"fairy\", \"count\": 5}, {\"generation\": 2, \"type1\": \"ice\", \"count\": 4}, {\"generation\": 2, \"type1\": \"rock\", \"count\": 4}, {\"generation\": 2, \"type1\": \"ground\", \"count\": 3}, {\"generation\": 2, \"type1\": \"steel\", \"count\": 2}, {\"generation\": 2, \"type1\": \"fighting\", \"count\": 2}, {\"generation\": 2, \"type1\": \"ghost\", \"count\": 1}, {\"generation\": 2, \"type1\": \"poison\", \"count\": 1}, {\"generation\": 3, \"type1\": \"water\", \"count\": 24}, {\"generation\": 3, \"type1\": \"normal\", \"count\": 18}, {\"generation\": 3, \"type1\": \"grass\", \"count\": 12}, {\"generation\": 3, \"type1\": \"bug\", \"count\": 12}, {\"generation\": 3, \"type1\": \"steel\", \"count\": 9}, {\"generation\": 3, \"type1\": \"rock\", \"count\": 8}, {\"generation\": 3, \"type1\": \"psychic\", \"count\": 8}, {\"generation\": 3, \"type1\": \"dragon\", \"count\": 7}, {\"generation\": 3, \"type1\": \"ground\", \"count\": 6}, {\"generation\": 3, \"type1\": \"ice\", \"count\": 6}, {\"generation\": 3, \"type1\": \"fire\", \"count\": 6}, {\"generation\": 3, \"type1\": \"fighting\", \"count\": 4}, {\"generation\": 3, \"type1\": \"dark\", \"count\": 4}, {\"generation\": 3, \"type1\": \"ghost\", \"count\": 4}, {\"generation\": 3, \"type1\": \"electric\", \"count\": 4}, {\"generation\": 3, \"type1\": \"poison\", \"count\": 3}, {\"generation\": 4, \"type1\": \"normal\", \"count\": 17}, {\"generation\": 4, \"type1\": \"grass\", \"count\": 13}, {\"generation\": 4, \"type1\": \"water\", \"count\": 13}, {\"generation\": 4, \"type1\": \"bug\", \"count\": 8}, {\"generation\": 4, \"type1\": \"psychic\", \"count\": 7}, {\"generation\": 4, \"type1\": \"electric\", \"count\": 7}, {\"generation\": 4, \"type1\": \"rock\", \"count\": 6}, {\"generation\": 4, \"type1\": \"poison\", \"count\": 6}, {\"generation\": 4, \"type1\": \"ghost\", \"count\": 6}, {\"generation\": 4, \"type1\": \"fire\", \"count\": 5}, {\"generation\": 4, \"type1\": \"ground\", \"count\": 4}, {\"generation\": 4, \"type1\": \"ice\", \"count\": 3}, {\"generation\": 4, \"type1\": \"steel\", \"count\": 3}, {\"generation\": 4, \"type1\": \"dark\", \"count\": 3}, {\"generation\": 4, \"type1\": \"dragon\", \"count\": 3}, {\"generation\": 4, \"type1\": \"fighting\", \"count\": 2}, {\"generation\": 4, \"type1\": \"fairy\", \"count\": 1}, {\"generation\": 5, \"type1\": \"bug\", \"count\": 18}, {\"generation\": 5, \"type1\": \"normal\", \"count\": 17}, {\"generation\": 5, \"type1\": \"water\", \"count\": 17}, {\"generation\": 5, \"type1\": \"grass\", \"count\": 15}, {\"generation\": 5, \"type1\": \"psychic\", \"count\": 14}, {\"generation\": 5, \"type1\": \"dark\", \"count\": 13}, {\"generation\": 5, \"type1\": \"ground\", \"count\": 9}, {\"generation\": 5, \"type1\": \"fire\", \"count\": 8}, {\"generation\": 5, \"type1\": \"electric\", \"count\": 7}, {\"generation\": 5, \"type1\": \"dragon\", \"count\": 7}, {\"generation\": 5, \"type1\": \"fighting\", \"count\": 7}, {\"generation\": 5, \"type1\": \"rock\", \"count\": 6}, {\"generation\": 5, \"type1\": \"ice\", \"count\": 6}, {\"generation\": 5, \"type1\": \"ghost\", \"count\": 5}, {\"generation\": 5, \"type1\": \"steel\", \"count\": 4}, {\"generation\": 5, \"type1\": \"poison\", \"count\": 2}, {\"generation\": 5, \"type1\": \"flying\", \"count\": 1}, {\"generation\": 6, \"type1\": \"fairy\", \"count\": 9}, {\"generation\": 6, \"type1\": \"fire\", \"count\": 8}, {\"generation\": 6, \"type1\": \"rock\", \"count\": 8}, {\"generation\": 6, \"type1\": \"water\", \"count\": 5}, {\"generation\": 6, \"type1\": \"grass\", \"count\": 5}, {\"generation\": 6, \"type1\": \"normal\", \"count\": 4}, {\"generation\": 6, \"type1\": \"steel\", \"count\": 4}, {\"generation\": 6, \"type1\": \"dragon\", \"count\": 4}, {\"generation\": 6, \"type1\": \"ghost\", \"count\": 4}, {\"generation\": 6, \"type1\": \"fighting\", \"count\": 3}, {\"generation\": 6, \"type1\": \"psychic\", \"count\": 3}, {\"generation\": 6, \"type1\": \"electric\", \"count\": 3}, {\"generation\": 6, \"type1\": \"dark\", \"count\": 3}, {\"generation\": 6, \"type1\": \"bug\", \"count\": 3}, {\"generation\": 6, \"type1\": \"ice\", \"count\": 2}, {\"generation\": 6, \"type1\": \"flying\", \"count\": 2}, {\"generation\": 6, \"type1\": \"poison\", \"count\": 2}, {\"generation\": 7, \"type1\": \"grass\", \"count\": 12}, {\"generation\": 7, \"type1\": \"normal\", \"count\": 12}, {\"generation\": 7, \"type1\": \"bug\", \"count\": 9}, {\"generation\": 7, \"type1\": \"water\", \"count\": 9}, {\"generation\": 7, \"type1\": \"psychic\", \"count\": 6}, {\"generation\": 7, \"type1\": \"fire\", \"count\": 5}, {\"generation\": 7, \"type1\": \"rock\", \"count\": 4}, {\"generation\": 7, \"type1\": \"ghost\", \"count\": 4}, {\"generation\": 7, \"type1\": \"poison\", \"count\": 4}, {\"generation\": 7, \"type1\": \"fighting\", \"count\": 3}, {\"generation\": 7, \"type1\": \"electric\", \"count\": 3}, {\"generation\": 7, \"type1\": \"dragon\", \"count\": 3}, {\"generation\": 7, \"type1\": \"steel\", \"count\": 2}, {\"generation\": 7, \"type1\": \"ground\", \"count\": 2}, {\"generation\": 7, \"type1\": \"fairy\", \"count\": 1}, {\"generation\": 7, \"type1\": \"dark\", \"count\": 1}]}}, {\"mode\": \"vega-lite\"});\n",
       "</script>"
      ],
      "text/plain": [
       "alt.Chart(...)"
      ]
     },
     "execution_count": 140,
     "metadata": {},
     "output_type": "execute_result"
    }
   ],
   "source": [
    "# Mehr Formatierung \n",
    "alt.Chart(df_generation_type).mark_bar().encode(\n",
    "    x = alt.X('count').title('Anzahl'), \n",
    "    y = alt.Y('type1', sort='-x').title('Pokemontyp'),\n",
    "    color = alt.Color('generation').scale(domain=domain, range = range).legend(orient=\"left\").title(None)\n",
    ").properties(\n",
    "    width = 600, \n",
    "    height = 350, \n",
    "    title = alt.Title(\"Pokemon nach Typ und Generation\",\n",
    "       subtitle=\"Inklusive Subtitel\",\n",
    "       anchor='start', # <- rechts- oder links-bündig\n",
    "       orient='top', # <- oben/ unten\n",
    "       offset=20 # <- Abstand zum Chart\n",
    "       )\n",
    ")\n"
   ]
  },
  {
   "cell_type": "code",
   "execution_count": null,
   "metadata": {},
   "outputs": [],
   "source": []
  }
 ],
 "metadata": {
  "kernelspec": {
   "display_name": "Python 3",
   "language": "python",
   "name": "python3"
  },
  "language_info": {
   "codemirror_mode": {
    "name": "ipython",
    "version": 3
   },
   "file_extension": ".py",
   "mimetype": "text/x-python",
   "name": "python",
   "nbconvert_exporter": "python",
   "pygments_lexer": "ipython3",
   "version": "3.12.1"
  }
 },
 "nbformat": 4,
 "nbformat_minor": 2
}
