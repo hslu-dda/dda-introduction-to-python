{
 "cells": [
  {
   "cell_type": "markdown",
   "metadata": {},
   "source": [
    "# 02 Formatting\n",
    "\n",
    "* Sortierung von Achsen\n",
    "* Datatypes für Altair\n",
    "* Farben\n",
    "* Formatierung\n"
   ]
  },
  {
   "cell_type": "code",
   "execution_count": null,
   "metadata": {},
   "outputs": [],
   "source": [
    "#import libraries\n",
    "import altair as alt\n",
    "import pandas as pd\n"
   ]
  },
  {
   "cell_type": "code",
   "execution_count": null,
   "metadata": {},
   "outputs": [],
   "source": [
    "df = pd.read_csv('data/pokemon_gen1.csv')"
   ]
  },
  {
   "cell_type": "markdown",
   "metadata": {},
   "source": [
    "### Order\n",
    "Mit `alt.Y('col', sort='-x' )` können wir Achsen sortieren. "
   ]
  },
  {
   "cell_type": "code",
   "execution_count": null,
   "metadata": {},
   "outputs": [],
   "source": [
    "df_top_height = df.sort_values('height_m', ascending = False).head(10)\n",
    "df_top_height.head(2)"
   ]
  },
  {
   "cell_type": "code",
   "execution_count": null,
   "metadata": {},
   "outputs": [],
   "source": [
    "# Order\n",
    "alt.Chart(df_top_height).mark_bar().encode(\n",
    "    x = 'height_m',\n",
    "    y = alt.Y('name', sort='-x'), \n",
    ")"
   ]
  },
  {
   "cell_type": "markdown",
   "metadata": {},
   "source": [
    "\n",
    "### Datatypes\n",
    "Wir können Altair mitgeben, als was für einen Datentypen er eine Spalte behandeln soll.\n",
    "\n",
    "* `Q`: quantitative data - numeric values\n",
    "* `O`: ordinal data - ordered categories (e.g. Generation 1,2,3)\n",
    "* `N`: nominal data - categories with no order (e.g. type1 seed, rock, water...)\n",
    "* `T`: temporal data"
   ]
  },
  {
   "cell_type": "code",
   "execution_count": null,
   "metadata": {},
   "outputs": [],
   "source": []
  },
  {
   "cell_type": "code",
   "execution_count": null,
   "metadata": {},
   "outputs": [],
   "source": [
    "# Bar chart: wir fügen Farbe hinzu\n",
    "alt.Chart(df_top_height).mark_bar().encode(\n",
    "    x = 'height_m',\n",
    "    y = alt.Y('name', sort='-x' ), \n",
    "    color='height_m:Q'\n",
    ")"
   ]
  },
  {
   "cell_type": "markdown",
   "metadata": {},
   "source": [
    "## Farben\n",
    "\n",
    "`alt.Color('col').scale(scheme='your_scheme')` können wir Farbschemas festlegen. \n",
    "\n",
    "Eine Auswahl\n",
    "* viridis\n",
    "* magma\n",
    "* plasma\n",
    "* turbo\n",
    "* yelloworangebrown\n",
    "* purplered\n",
    "* purplebluegreen\n",
    "* blueorange\n",
    "\n",
    "[Mehr Farbschemas](https://vega.github.io/vega/docs/schemes/)"
   ]
  },
  {
   "cell_type": "code",
   "execution_count": null,
   "metadata": {},
   "outputs": [],
   "source": [
    "alt.Chart(df_top_height).mark_bar().encode(\n",
    "    x = 'height_m',\n",
    "    y = alt.Y('name', sort='-x' ), \n",
    "    color=alt.Color('height_m:Q').scale(scheme='purplered')\n",
    ")"
   ]
  },
  {
   "cell_type": "markdown",
   "metadata": {},
   "source": [
    "### Eigene Farbskalen\n",
    "\n",
    "Wir können je eine Liste für die Werte die eingefärtbt werden (domain) und eine mit den Farben erstellen (range). Und Altair macht uns daraus eine eigene Farbskala. \n",
    "\n",
    "Wichtig: beide Listen müssen gleich lang sein."
   ]
  },
  {
   "cell_type": "code",
   "execution_count": null,
   "metadata": {},
   "outputs": [],
   "source": [
    "df.head(1)"
   ]
  },
  {
   "cell_type": "code",
   "execution_count": null,
   "metadata": {},
   "outputs": [],
   "source": [
    "df['speed'].min()"
   ]
  },
  {
   "cell_type": "code",
   "execution_count": null,
   "metadata": {},
   "outputs": [],
   "source": [
    "domain = [15, 150]\n",
    "range = ['blue', 'orange']\n",
    "\n",
    "alt.Chart(df).mark_point().encode(\n",
    "    x = 'speed', \n",
    "    y = 'height_m', \n",
    "    color = alt.Color('speed').scale(domain=domain, range=range)\n",
    ")"
   ]
  },
  {
   "cell_type": "markdown",
   "metadata": {},
   "source": [
    "#### Mit Farben Werte gruppieren\n",
    "Wir können unter color eine zusätzliche Spalte angeben, nach Welcher die Werte eingefärbt werden. "
   ]
  },
  {
   "cell_type": "code",
   "execution_count": null,
   "metadata": {},
   "outputs": [],
   "source": [
    "alt.Chart(df).mark_bar().encode(\n",
    "    x = 'height_m',\n",
    "    y = alt.Y('type1', sort='-x' ), \n",
    "    color='is_legendary:N'\n",
    ")"
   ]
  },
  {
   "cell_type": "markdown",
   "metadata": {},
   "source": []
  },
  {
   "cell_type": "code",
   "execution_count": null,
   "metadata": {},
   "outputs": [],
   "source": [
    "df"
   ]
  },
  {
   "cell_type": "markdown",
   "metadata": {},
   "source": [
    "### Quizz\n",
    "\n"
   ]
  },
  {
   "cell_type": "markdown",
   "metadata": {},
   "source": [
    "df `df_generation_type` unten zeigt für jede Generation von Pokemons an, wie viele Wasser, Normale, Gift-Pokemon es gab. \n",
    "1. Mache einen Barchart mit Generation 1 - 7 auf der Y Achse und Anzahl Pokemon insgesamt auf der X Achse. (Tip: Datentypen)\n",
    "2. Füge Farbe nach type1 hinzu. Experimentiere mit Datentypen bei der Farbe\n",
    "3. Ändere das Farbschema. "
   ]
  },
  {
   "cell_type": "code",
   "execution_count": null,
   "metadata": {},
   "outputs": [],
   "source": [
    "df_raw = pd.read_csv(\"data/pokemon.csv\")\n",
    "df_generation_type = df_raw.groupby('generation')['type1'].value_counts().reset_index()\n",
    "df_generation_type"
   ]
  },
  {
   "cell_type": "code",
   "execution_count": null,
   "metadata": {},
   "outputs": [],
   "source": [
    "alt.Chart(df_generation_type).mark_bar().encode(\n",
    "    x = 'count', \n",
    "    y = 'generation:N',\n",
    "    color = alt.Color('type1:N').scale(scheme = 'blueorange')\n",
    ")"
   ]
  },
  {
   "cell_type": "markdown",
   "metadata": {},
   "source": [
    "4. Kehre den Plot um und plotte \n",
    "* X-Achse: count, \n",
    "* Y-Achse: type1\n",
    "* Farbe: generation\n",
    "\n",
    "5. Sortiere die Y-Achse absteigend nach den Werten der X-Achse"
   ]
  },
  {
   "cell_type": "code",
   "execution_count": null,
   "metadata": {},
   "outputs": [],
   "source": [
    "alt.Chart(df_generation_type).mark_bar().encode(\n",
    "    x = 'count', \n",
    "    y = alt.Y('type1', sort='-x'),\n",
    "    color = alt.Color('generation').scale(scheme = 'blueorange')\n",
    ")"
   ]
  },
  {
   "cell_type": "markdown",
   "metadata": {},
   "source": [
    "6. Erstelle deine eigene Farbskala für den plot und färbe damit Generation 1-7 ein. <br>\n",
    "... Teste auch hier verschiedene Datentypen für die Farbe. "
   ]
  },
  {
   "cell_type": "code",
   "execution_count": null,
   "metadata": {},
   "outputs": [],
   "source": [
    "domain = [1, 3.5, 7]\n",
    "range = ['lightgreen', 'orange', 'purple']"
   ]
  },
  {
   "cell_type": "code",
   "execution_count": null,
   "metadata": {},
   "outputs": [],
   "source": [
    "alt.Chart(df_generation_type).mark_bar().encode(\n",
    "    x = 'count', \n",
    "    y = alt.Y('type1', sort='-x'),\n",
    "    color = alt.Color('generation:Q').scale(domain=domain, range = range)\n",
    ")"
   ]
  },
  {
   "cell_type": "code",
   "execution_count": null,
   "metadata": {},
   "outputs": [],
   "source": []
  },
  {
   "cell_type": "markdown",
   "metadata": {},
   "source": [
    "## Formatierung"
   ]
  },
  {
   "cell_type": "code",
   "execution_count": null,
   "metadata": {},
   "outputs": [],
   "source": [
    "alt.Chart(df_generation_type).mark_bar().encode(\n",
    "    x = 'count', \n",
    "    y = alt.Y('type1', sort='-x'),\n",
    "    color = alt.Color('generation').scale(domain=domain, range = range)\n",
    ").properties(\n",
    "    width = 600, \n",
    "    height = 350, \n",
    "    title = \"Pokemon nach Typ und Generation\" \n",
    "    \n",
    ")"
   ]
  },
  {
   "cell_type": "code",
   "execution_count": null,
   "metadata": {},
   "outputs": [],
   "source": []
  },
  {
   "cell_type": "markdown",
   "metadata": {},
   "source": [
    "#### Mehr Formatierung\n",
    "\n",
    "Hier gibt es eine [Dokumentation für mehr Formatierung](https://altair-viz.github.io/user_guide/customization.html#adjusting-the-title)\n",
    "\n",
    "Achsen\n",
    "* `.scale(zero=False)`: schneidet Achse auf effektive Werte zu (statt bei 0 anzufangen)\n",
    "* `.title('<Achsenname>')`: lässt uns Achsen neu bennenen\n",
    "Titel\n",
    "* `alt.Title()`: Damit können wir Subtitel einfügen und die Platzierung des Titels bestimmen\n",
    "Legende\n",
    "* `legend(orient=\"left\")`: Orientierung der Legende\n",
    "* `.title('<name>')`: Name der Legende, `None` für keinen Titel"
   ]
  },
  {
   "cell_type": "code",
   "execution_count": null,
   "metadata": {},
   "outputs": [],
   "source": []
  },
  {
   "cell_type": "code",
   "execution_count": null,
   "metadata": {},
   "outputs": [],
   "source": [
    "# Mehr Formatierung \n",
    "alt.Chart(df_generation_type).mark_bar().encode(\n",
    "    x = alt.X('count').title('Anzahl'), \n",
    "    y = alt.Y('type1', sort='-x').title('Pokemontyp'),\n",
    "    color = alt.Color('generation').scale(domain=domain, range = range).legend(orient=\"left\").title(None),\n",
    "    tooltip=['type1', 'count']\n",
    ").properties(\n",
    "    width = 600, \n",
    "    height = 350, \n",
    "    title = alt.Title(\"Pokemon nach Typ und Generation\",\n",
    "       subtitle=\"Inklusive Subtitel\",\n",
    "       anchor='start', # <- rechts- oder links-bündig\n",
    "       orient='top', # <- oben/ unten\n",
    "       offset=20 # <- Abstand zum Chart\n",
    "       )\n",
    ")\n"
   ]
  },
  {
   "cell_type": "markdown",
   "metadata": {},
   "source": [
    "## Export"
   ]
  },
  {
   "cell_type": "code",
   "execution_count": null,
   "metadata": {},
   "outputs": [],
   "source": [
    "# Wir können die ganze Grafik in einer Variablen speichern. \n",
    "\n",
    "my_chart = alt.Chart(df_generation_type).mark_bar().encode(\n",
    "    x = alt.X('count').title('Anzahl'), \n",
    "    y = alt.Y('type1', sort='-x').title('Pokemontyp'),\n",
    "    color = alt.Color('generation').scale(domain=domain, range = range).legend(orient=\"left\").title(None),\n",
    "    tooltip=['type1', 'count']\n",
    ").properties(\n",
    "    width = 600, \n",
    "    height = 350, \n",
    "    title = alt.Title(\"Pokemon nach Typ und Generation\",\n",
    "       subtitle=\"Inklusive Subtitel\",\n",
    "       anchor='start', # <- rechts- oder links-bündig\n",
    "       orient='top', # <- oben/ unten\n",
    "       offset=20 # <- Abstand zum Chart\n",
    "       )\n",
    ")\n"
   ]
  },
  {
   "cell_type": "code",
   "execution_count": null,
   "metadata": {},
   "outputs": [],
   "source": [
    "my_chart"
   ]
  },
  {
   "cell_type": "code",
   "execution_count": null,
   "metadata": {},
   "outputs": [],
   "source": [
    "# Abspeichern als html\n",
    "my_chart.save('charts/pokemon_type_generation.html', inline=True)\n"
   ]
  },
  {
   "cell_type": "code",
   "execution_count": null,
   "metadata": {},
   "outputs": [],
   "source": [
    "# als png speichern\n",
    "my_chart.save('charts/pokemon_type_generation.png')\n"
   ]
  },
  {
   "cell_type": "code",
   "execution_count": null,
   "metadata": {},
   "outputs": [],
   "source": [
    "# als svg speichern\n",
    "my_chart.save('charts/pokemon_type_generation.svg')\n"
   ]
  },
  {
   "cell_type": "code",
   "execution_count": null,
   "metadata": {},
   "outputs": [],
   "source": [
    "# als pdf speichern\n",
    "my_chart.save('charts/pokemon_type_generation.pdf')"
   ]
  },
  {
   "cell_type": "code",
   "execution_count": null,
   "metadata": {},
   "outputs": [],
   "source": []
  }
 ],
 "metadata": {
  "kernelspec": {
   "display_name": "Python 3",
   "language": "python",
   "name": "python3"
  },
  "language_info": {
   "codemirror_mode": {
    "name": "ipython",
    "version": 3
   },
   "file_extension": ".py",
   "mimetype": "text/x-python",
   "name": "python",
   "nbconvert_exporter": "python",
   "pygments_lexer": "ipython3",
   "version": "3.12.1"
  }
 },
 "nbformat": 4,
 "nbformat_minor": 2
}
