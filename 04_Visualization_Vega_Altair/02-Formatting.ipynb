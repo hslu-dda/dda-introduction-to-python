{
 "cells": [
  {
   "cell_type": "markdown",
   "metadata": {},
   "source": [
    "# 02 Formatting\n",
    "\n",
    "* Sortierung von Achsen\n",
    "* Datatypes für Altair\n",
    "* Farben\n",
    "* Formatierung\n"
   ]
  },
  {
   "cell_type": "code",
   "execution_count": 154,
   "metadata": {},
   "outputs": [],
   "source": [
    "#import libraries\n",
    "import altair as alt\n",
    "import pandas as pd\n"
   ]
  },
  {
   "cell_type": "code",
   "execution_count": 156,
   "metadata": {},
   "outputs": [],
   "source": [
    "df = pd.read_csv('data/pokemon_gen1.csv')"
   ]
  },
  {
   "cell_type": "markdown",
   "metadata": {},
   "source": [
    "### Order\n",
    "Mit `alt.Y('col', sort='-x' )` können wir Achsen sortieren. "
   ]
  },
  {
   "cell_type": "code",
   "execution_count": null,
   "metadata": {},
   "outputs": [],
   "source": [
    "# Order\n",
    "alt.Chart(df_top_height).mark_bar().encode(\n",
    "    x = 'height_m',\n",
    "    y = alt.Y('name', sort='-x'), \n",
    ")"
   ]
  },
  {
   "cell_type": "markdown",
   "metadata": {},
   "source": [
    "\n",
    "### Datatypes\n",
    "Wir können Altair mitgeben, als was für einen Datentypen er eine Spalte behandeln soll.\n",
    "\n",
    "* `Q`: quantitative data - numeric values\n",
    "* `O`: ordinal data - ordered categories (e.g. Generation 1,2,3)\n",
    "* `N`: nominal data - categories with no order (e.g. type1 seed, rock, water...)\n",
    "* `T`: temporal data"
   ]
  },
  {
   "cell_type": "code",
   "execution_count": null,
   "metadata": {},
   "outputs": [],
   "source": [
    "df_top_height = df.sort_values('height_m', ascending = False).head(10)\n",
    "df_top_height.head(2)"
   ]
  },
  {
   "cell_type": "code",
   "execution_count": null,
   "metadata": {},
   "outputs": [],
   "source": [
    "# Bar chart: wir fügen Farbe hinzu\n",
    "alt.Chart(df_top_height).mark_bar().encode(\n",
    "    x = 'height_m',\n",
    "    y = alt.Y('name', sort='-x' ), \n",
    "    color='height_m:Q'\n",
    ")"
   ]
  },
  {
   "cell_type": "markdown",
   "metadata": {},
   "source": [
    "## Farben\n",
    "\n",
    "`alt.Color('col').scale(scheme='your_scheme')` können wir Farbschemas festlegen. \n",
    "\n",
    "Eine Auswahl\n",
    "* viridis\n",
    "* magma\n",
    "* plasma\n",
    "* turbo\n",
    "* yelloworangebrown\n",
    "* purplered\n",
    "* purplebluegreen\n",
    "* blueorange\n",
    "\n",
    "[Mehr Farbschemas](https://vega.github.io/vega/docs/schemes/)"
   ]
  },
  {
   "cell_type": "code",
   "execution_count": null,
   "metadata": {},
   "outputs": [],
   "source": [
    "alt.Chart(df_top_height).mark_bar().encode(\n",
    "    x = 'height_m',\n",
    "    y = alt.Y('name', sort='-x' ), \n",
    "    color=alt.Color('height_m:Q').scale(scheme='purplered')\n",
    ")"
   ]
  },
  {
   "cell_type": "markdown",
   "metadata": {},
   "source": [
    "### Eigene Farbskalen\n",
    "\n",
    "Wir können je eine Liste für die Werte die eingefärtbt werden (domain) und eine mit den Farben erstellen (range). Und Altair macht uns daraus eine eigene Farbskala. \n",
    "\n",
    "Wichtig: beide Listen müssen gleich lang sein."
   ]
  },
  {
   "cell_type": "code",
   "execution_count": null,
   "metadata": {},
   "outputs": [],
   "source": [
    "df.head(1)"
   ]
  },
  {
   "cell_type": "code",
   "execution_count": null,
   "metadata": {},
   "outputs": [],
   "source": [
    "df['speed'].min()"
   ]
  },
  {
   "cell_type": "code",
   "execution_count": null,
   "metadata": {},
   "outputs": [],
   "source": [
    "domain = [15, 150]\n",
    "range = ['blue', 'orange']\n",
    "\n",
    "alt.Chart(df).mark_point().encode(\n",
    "    x = 'speed', \n",
    "    y = 'height_m', \n",
    "    color = alt.Color('speed').scale(domain=domain, range=range)\n",
    ")"
   ]
  },
  {
   "cell_type": "markdown",
   "metadata": {},
   "source": [
    "#### Mit Farben Werte gruppieren\n",
    "Wir können unter color eine zusätzliche Spalte angeben, nach Welcher die Werte eingefärbt werden. "
   ]
  },
  {
   "cell_type": "code",
   "execution_count": 162,
   "metadata": {},
   "outputs": [
    {
     "data": {
      "text/html": [
       "\n",
       "<style>\n",
       "  #altair-viz-77528f846e4b4720be66fab23573bd46.vega-embed {\n",
       "    width: 100%;\n",
       "    display: flex;\n",
       "  }\n",
       "\n",
       "  #altair-viz-77528f846e4b4720be66fab23573bd46.vega-embed details,\n",
       "  #altair-viz-77528f846e4b4720be66fab23573bd46.vega-embed details summary {\n",
       "    position: relative;\n",
       "  }\n",
       "</style>\n",
       "<div id=\"altair-viz-77528f846e4b4720be66fab23573bd46\"></div>\n",
       "<script type=\"text/javascript\">\n",
       "  var VEGA_DEBUG = (typeof VEGA_DEBUG == \"undefined\") ? {} : VEGA_DEBUG;\n",
       "  (function(spec, embedOpt){\n",
       "    let outputDiv = document.currentScript.previousElementSibling;\n",
       "    if (outputDiv.id !== \"altair-viz-77528f846e4b4720be66fab23573bd46\") {\n",
       "      outputDiv = document.getElementById(\"altair-viz-77528f846e4b4720be66fab23573bd46\");\n",
       "    }\n",
       "\n",
       "    const paths = {\n",
       "      \"vega\": \"https://cdn.jsdelivr.net/npm/vega@5?noext\",\n",
       "      \"vega-lib\": \"https://cdn.jsdelivr.net/npm/vega-lib?noext\",\n",
       "      \"vega-lite\": \"https://cdn.jsdelivr.net/npm/vega-lite@5.20.1?noext\",\n",
       "      \"vega-embed\": \"https://cdn.jsdelivr.net/npm/vega-embed@6?noext\",\n",
       "    };\n",
       "\n",
       "    function maybeLoadScript(lib, version) {\n",
       "      var key = `${lib.replace(\"-\", \"\")}_version`;\n",
       "      return (VEGA_DEBUG[key] == version) ?\n",
       "        Promise.resolve(paths[lib]) :\n",
       "        new Promise(function(resolve, reject) {\n",
       "          var s = document.createElement('script');\n",
       "          document.getElementsByTagName(\"head\")[0].appendChild(s);\n",
       "          s.async = true;\n",
       "          s.onload = () => {\n",
       "            VEGA_DEBUG[key] = version;\n",
       "            return resolve(paths[lib]);\n",
       "          };\n",
       "          s.onerror = () => reject(`Error loading script: ${paths[lib]}`);\n",
       "          s.src = paths[lib];\n",
       "        });\n",
       "    }\n",
       "\n",
       "    function showError(err) {\n",
       "      outputDiv.innerHTML = `<div class=\"error\" style=\"color:red;\">${err}</div>`;\n",
       "      throw err;\n",
       "    }\n",
       "\n",
       "    function displayChart(vegaEmbed) {\n",
       "      vegaEmbed(outputDiv, spec, embedOpt)\n",
       "        .catch(err => showError(`Javascript Error: ${err.message}<br>This usually means there's a typo in your chart specification. See the javascript console for the full traceback.`));\n",
       "    }\n",
       "\n",
       "    if(typeof define === \"function\" && define.amd) {\n",
       "      requirejs.config({paths});\n",
       "      let deps = [\"vega-embed\"];\n",
       "      require(deps, displayChart, err => showError(`Error loading script: ${err.message}`));\n",
       "    } else {\n",
       "      maybeLoadScript(\"vega\", \"5\")\n",
       "        .then(() => maybeLoadScript(\"vega-lite\", \"5.20.1\"))\n",
       "        .then(() => maybeLoadScript(\"vega-embed\", \"6\"))\n",
       "        .catch(showError)\n",
       "        .then(() => displayChart(vegaEmbed));\n",
       "    }\n",
       "  })({\"config\": {\"view\": {\"continuousWidth\": 300, \"continuousHeight\": 300}}, \"data\": {\"name\": \"data-6d2ba33157fdd47daf73c52c1d0ec124\"}, \"mark\": {\"type\": \"bar\"}, \"encoding\": {\"color\": {\"field\": \"is_legendary\", \"type\": \"nominal\"}, \"x\": {\"field\": \"height_m\", \"type\": \"quantitative\"}, \"y\": {\"field\": \"type1\", \"sort\": \"-x\", \"type\": \"nominal\"}}, \"$schema\": \"https://vega.github.io/schema/vega-lite/v5.20.1.json\", \"datasets\": {\"data-6d2ba33157fdd47daf73c52c1d0ec124\": [{\"name\": \"Bulbasaur\", \"type1\": \"grass\", \"type2\": \"poison\", \"classfication\": \"Seed Pok\\u00e9mon\", \"height_m\": 0.7, \"weight_kg\": 6.9, \"year\": 1996, \"is_legendary\": 0, \"attack\": 49, \"speed\": 45, \"hp\": 45, \"base_happiness\": 70, \"capture_rate\": 45}, {\"name\": \"Ivysaur\", \"type1\": \"grass\", \"type2\": \"poison\", \"classfication\": \"Seed Pok\\u00e9mon\", \"height_m\": 1.0, \"weight_kg\": 13.0, \"year\": 1996, \"is_legendary\": 0, \"attack\": 62, \"speed\": 60, \"hp\": 60, \"base_happiness\": 70, \"capture_rate\": 45}, {\"name\": \"Venusaur\", \"type1\": \"grass\", \"type2\": \"poison\", \"classfication\": \"Seed Pok\\u00e9mon\", \"height_m\": 2.0, \"weight_kg\": 100.0, \"year\": 1996, \"is_legendary\": 0, \"attack\": 100, \"speed\": 80, \"hp\": 80, \"base_happiness\": 70, \"capture_rate\": 45}, {\"name\": \"Charmander\", \"type1\": \"fire\", \"type2\": null, \"classfication\": \"Lizard Pok\\u00e9mon\", \"height_m\": 0.6, \"weight_kg\": 8.5, \"year\": 1996, \"is_legendary\": 0, \"attack\": 52, \"speed\": 65, \"hp\": 39, \"base_happiness\": 70, \"capture_rate\": 45}, {\"name\": \"Charmeleon\", \"type1\": \"fire\", \"type2\": null, \"classfication\": \"Flame Pok\\u00e9mon\", \"height_m\": 1.1, \"weight_kg\": 19.0, \"year\": 1996, \"is_legendary\": 0, \"attack\": 64, \"speed\": 80, \"hp\": 58, \"base_happiness\": 70, \"capture_rate\": 45}, {\"name\": \"Charizard\", \"type1\": \"fire\", \"type2\": \"flying\", \"classfication\": \"Flame Pok\\u00e9mon\", \"height_m\": 1.7, \"weight_kg\": 90.5, \"year\": 1996, \"is_legendary\": 0, \"attack\": 104, \"speed\": 100, \"hp\": 78, \"base_happiness\": 70, \"capture_rate\": 45}, {\"name\": \"Squirtle\", \"type1\": \"water\", \"type2\": null, \"classfication\": \"Tiny Turtle Pok\\u00e9mon\", \"height_m\": 0.5, \"weight_kg\": 9.0, \"year\": 1996, \"is_legendary\": 0, \"attack\": 48, \"speed\": 43, \"hp\": 44, \"base_happiness\": 70, \"capture_rate\": 45}, {\"name\": \"Wartortle\", \"type1\": \"water\", \"type2\": null, \"classfication\": \"Turtle Pok\\u00e9mon\", \"height_m\": 1.0, \"weight_kg\": 22.5, \"year\": 1996, \"is_legendary\": 0, \"attack\": 63, \"speed\": 58, \"hp\": 59, \"base_happiness\": 70, \"capture_rate\": 45}, {\"name\": \"Blastoise\", \"type1\": \"water\", \"type2\": null, \"classfication\": \"Shellfish Pok\\u00e9mon\", \"height_m\": 1.6, \"weight_kg\": 85.5, \"year\": 1996, \"is_legendary\": 0, \"attack\": 103, \"speed\": 78, \"hp\": 79, \"base_happiness\": 70, \"capture_rate\": 45}, {\"name\": \"Caterpie\", \"type1\": \"bug\", \"type2\": null, \"classfication\": \"Worm Pok\\u00e9mon\", \"height_m\": 0.3, \"weight_kg\": 2.9, \"year\": 1996, \"is_legendary\": 0, \"attack\": 30, \"speed\": 45, \"hp\": 45, \"base_happiness\": 70, \"capture_rate\": 255}, {\"name\": \"Metapod\", \"type1\": \"bug\", \"type2\": null, \"classfication\": \"Cocoon Pok\\u00e9mon\", \"height_m\": 0.7, \"weight_kg\": 9.9, \"year\": 1996, \"is_legendary\": 0, \"attack\": 20, \"speed\": 30, \"hp\": 50, \"base_happiness\": 70, \"capture_rate\": 120}, {\"name\": \"Butterfree\", \"type1\": \"bug\", \"type2\": \"flying\", \"classfication\": \"Butterfly Pok\\u00e9mon\", \"height_m\": 1.1, \"weight_kg\": 32.0, \"year\": 1996, \"is_legendary\": 0, \"attack\": 45, \"speed\": 70, \"hp\": 60, \"base_happiness\": 70, \"capture_rate\": 45}, {\"name\": \"Weedle\", \"type1\": \"bug\", \"type2\": \"poison\", \"classfication\": \"Hairy Pok\\u00e9mon\", \"height_m\": 0.3, \"weight_kg\": 3.2, \"year\": 1996, \"is_legendary\": 0, \"attack\": 35, \"speed\": 50, \"hp\": 40, \"base_happiness\": 70, \"capture_rate\": 255}, {\"name\": \"Kakuna\", \"type1\": \"bug\", \"type2\": \"poison\", \"classfication\": \"Cocoon Pok\\u00e9mon\", \"height_m\": 0.6, \"weight_kg\": 10.0, \"year\": 1996, \"is_legendary\": 0, \"attack\": 25, \"speed\": 35, \"hp\": 45, \"base_happiness\": 70, \"capture_rate\": 120}, {\"name\": \"Beedrill\", \"type1\": \"bug\", \"type2\": \"poison\", \"classfication\": \"Poison Bee Pok\\u00e9mon\", \"height_m\": 1.0, \"weight_kg\": 29.5, \"year\": 1996, \"is_legendary\": 0, \"attack\": 150, \"speed\": 145, \"hp\": 65, \"base_happiness\": 70, \"capture_rate\": 45}, {\"name\": \"Pidgey\", \"type1\": \"normal\", \"type2\": \"flying\", \"classfication\": \"Tiny Bird Pok\\u00e9mon\", \"height_m\": 0.3, \"weight_kg\": 1.8, \"year\": 1996, \"is_legendary\": 0, \"attack\": 45, \"speed\": 56, \"hp\": 40, \"base_happiness\": 70, \"capture_rate\": 255}, {\"name\": \"Pidgeotto\", \"type1\": \"normal\", \"type2\": \"flying\", \"classfication\": \"Bird Pok\\u00e9mon\", \"height_m\": 1.1, \"weight_kg\": 30.0, \"year\": 1996, \"is_legendary\": 0, \"attack\": 60, \"speed\": 71, \"hp\": 63, \"base_happiness\": 70, \"capture_rate\": 120}, {\"name\": \"Pidgeot\", \"type1\": \"normal\", \"type2\": \"flying\", \"classfication\": \"Bird Pok\\u00e9mon\", \"height_m\": 1.5, \"weight_kg\": 39.5, \"year\": 1996, \"is_legendary\": 0, \"attack\": 80, \"speed\": 121, \"hp\": 83, \"base_happiness\": 70, \"capture_rate\": 45}, {\"name\": \"Rattata\", \"type1\": \"normal\", \"type2\": \"dark\", \"classfication\": \"Mouse Pok\\u00e9mon\", \"height_m\": null, \"weight_kg\": null, \"year\": 1996, \"is_legendary\": 0, \"attack\": 56, \"speed\": 72, \"hp\": 30, \"base_happiness\": 70, \"capture_rate\": 255}, {\"name\": \"Raticate\", \"type1\": \"normal\", \"type2\": \"dark\", \"classfication\": \"Mouse Pok\\u00e9mon\", \"height_m\": null, \"weight_kg\": null, \"year\": 1996, \"is_legendary\": 0, \"attack\": 71, \"speed\": 77, \"hp\": 75, \"base_happiness\": 70, \"capture_rate\": 127}, {\"name\": \"Spearow\", \"type1\": \"normal\", \"type2\": \"flying\", \"classfication\": \"Tiny Bird Pok\\u00e9mon\", \"height_m\": 0.3, \"weight_kg\": 2.0, \"year\": 1996, \"is_legendary\": 0, \"attack\": 60, \"speed\": 70, \"hp\": 40, \"base_happiness\": 70, \"capture_rate\": 255}, {\"name\": \"Fearow\", \"type1\": \"normal\", \"type2\": \"flying\", \"classfication\": \"Beak Pok\\u00e9mon\", \"height_m\": 1.2, \"weight_kg\": 38.0, \"year\": 1996, \"is_legendary\": 0, \"attack\": 90, \"speed\": 100, \"hp\": 65, \"base_happiness\": 70, \"capture_rate\": 90}, {\"name\": \"Ekans\", \"type1\": \"poison\", \"type2\": null, \"classfication\": \"Snake Pok\\u00e9mon\", \"height_m\": 2.0, \"weight_kg\": 6.9, \"year\": 1996, \"is_legendary\": 0, \"attack\": 60, \"speed\": 55, \"hp\": 35, \"base_happiness\": 70, \"capture_rate\": 255}, {\"name\": \"Arbok\", \"type1\": \"poison\", \"type2\": null, \"classfication\": \"Cobra Pok\\u00e9mon\", \"height_m\": 3.5, \"weight_kg\": 65.0, \"year\": 1996, \"is_legendary\": 0, \"attack\": 95, \"speed\": 80, \"hp\": 60, \"base_happiness\": 70, \"capture_rate\": 90}, {\"name\": \"Pikachu\", \"type1\": \"electric\", \"type2\": null, \"classfication\": \"Mouse Pok\\u00e9mon\", \"height_m\": 0.4, \"weight_kg\": 6.0, \"year\": 1996, \"is_legendary\": 0, \"attack\": 55, \"speed\": 90, \"hp\": 35, \"base_happiness\": 70, \"capture_rate\": 190}, {\"name\": \"Raichu\", \"type1\": \"electric\", \"type2\": \"electric\", \"classfication\": \"Mouse Pok\\u00e9mon\", \"height_m\": null, \"weight_kg\": null, \"year\": 1996, \"is_legendary\": 0, \"attack\": 85, \"speed\": 110, \"hp\": 60, \"base_happiness\": 70, \"capture_rate\": 75}, {\"name\": \"Sandshrew\", \"type1\": \"ground\", \"type2\": \"ice\", \"classfication\": \"Mouse Pok\\u00e9mon\", \"height_m\": null, \"weight_kg\": null, \"year\": 1996, \"is_legendary\": 0, \"attack\": 75, \"speed\": 40, \"hp\": 50, \"base_happiness\": 70, \"capture_rate\": 255}, {\"name\": \"Sandslash\", \"type1\": \"ground\", \"type2\": \"ice\", \"classfication\": \"Mouse Pok\\u00e9mon\", \"height_m\": null, \"weight_kg\": null, \"year\": 1996, \"is_legendary\": 0, \"attack\": 100, \"speed\": 65, \"hp\": 75, \"base_happiness\": 70, \"capture_rate\": 90}, {\"name\": \"Nidoran\\u2640\", \"type1\": \"poison\", \"type2\": null, \"classfication\": \"Poison Pin Pok\\u00e9mon\", \"height_m\": 0.4, \"weight_kg\": 7.0, \"year\": 1996, \"is_legendary\": 0, \"attack\": 47, \"speed\": 41, \"hp\": 55, \"base_happiness\": 70, \"capture_rate\": 235}, {\"name\": \"Nidorina\", \"type1\": \"poison\", \"type2\": null, \"classfication\": \"Poison Pin Pok\\u00e9mon\", \"height_m\": 0.8, \"weight_kg\": 20.0, \"year\": 1996, \"is_legendary\": 0, \"attack\": 62, \"speed\": 56, \"hp\": 70, \"base_happiness\": 70, \"capture_rate\": 120}, {\"name\": \"Nidoqueen\", \"type1\": \"poison\", \"type2\": \"ground\", \"classfication\": \"Drill Pok\\u00e9mon\", \"height_m\": 1.3, \"weight_kg\": 60.0, \"year\": 1996, \"is_legendary\": 0, \"attack\": 92, \"speed\": 76, \"hp\": 90, \"base_happiness\": 70, \"capture_rate\": 45}, {\"name\": \"Nidoran\\u2642\", \"type1\": \"poison\", \"type2\": null, \"classfication\": \"Poison Pin Pok\\u00e9mon\", \"height_m\": 0.5, \"weight_kg\": 9.0, \"year\": 1996, \"is_legendary\": 0, \"attack\": 57, \"speed\": 50, \"hp\": 46, \"base_happiness\": 70, \"capture_rate\": 235}, {\"name\": \"Nidorino\", \"type1\": \"poison\", \"type2\": null, \"classfication\": \"Poison Pin Pok\\u00e9mon\", \"height_m\": 0.9, \"weight_kg\": 19.5, \"year\": 1996, \"is_legendary\": 0, \"attack\": 72, \"speed\": 65, \"hp\": 61, \"base_happiness\": 70, \"capture_rate\": 120}, {\"name\": \"Nidoking\", \"type1\": \"poison\", \"type2\": \"ground\", \"classfication\": \"Drill Pok\\u00e9mon\", \"height_m\": 1.4, \"weight_kg\": 62.0, \"year\": 1996, \"is_legendary\": 0, \"attack\": 102, \"speed\": 85, \"hp\": 81, \"base_happiness\": 70, \"capture_rate\": 45}, {\"name\": \"Clefairy\", \"type1\": \"fairy\", \"type2\": null, \"classfication\": \"Fairy Pok\\u00e9mon\", \"height_m\": 0.6, \"weight_kg\": 7.5, \"year\": 1996, \"is_legendary\": 0, \"attack\": 45, \"speed\": 35, \"hp\": 70, \"base_happiness\": 140, \"capture_rate\": 150}, {\"name\": \"Clefable\", \"type1\": \"fairy\", \"type2\": null, \"classfication\": \"Fairy Pok\\u00e9mon\", \"height_m\": 1.3, \"weight_kg\": 40.0, \"year\": 1996, \"is_legendary\": 0, \"attack\": 70, \"speed\": 60, \"hp\": 95, \"base_happiness\": 140, \"capture_rate\": 25}, {\"name\": \"Vulpix\", \"type1\": \"fire\", \"type2\": \"ice\", \"classfication\": \"Fox Pok\\u00e9mon\", \"height_m\": null, \"weight_kg\": null, \"year\": 1996, \"is_legendary\": 0, \"attack\": 41, \"speed\": 65, \"hp\": 38, \"base_happiness\": 70, \"capture_rate\": 190}, {\"name\": \"Ninetales\", \"type1\": \"fire\", \"type2\": \"ice\", \"classfication\": \"Fox Pok\\u00e9mon\", \"height_m\": null, \"weight_kg\": null, \"year\": 1996, \"is_legendary\": 0, \"attack\": 67, \"speed\": 109, \"hp\": 73, \"base_happiness\": 70, \"capture_rate\": 75}, {\"name\": \"Jigglypuff\", \"type1\": \"normal\", \"type2\": \"fairy\", \"classfication\": \"Balloon Pok\\u00e9mon\", \"height_m\": 0.5, \"weight_kg\": 5.5, \"year\": 1996, \"is_legendary\": 0, \"attack\": 45, \"speed\": 20, \"hp\": 115, \"base_happiness\": 70, \"capture_rate\": 170}, {\"name\": \"Wigglytuff\", \"type1\": \"normal\", \"type2\": \"fairy\", \"classfication\": \"Balloon Pok\\u00e9mon\", \"height_m\": 1.0, \"weight_kg\": 12.0, \"year\": 1996, \"is_legendary\": 0, \"attack\": 70, \"speed\": 45, \"hp\": 140, \"base_happiness\": 70, \"capture_rate\": 50}, {\"name\": \"Zubat\", \"type1\": \"poison\", \"type2\": \"flying\", \"classfication\": \"Bat Pok\\u00e9mon\", \"height_m\": 0.8, \"weight_kg\": 7.5, \"year\": 1996, \"is_legendary\": 0, \"attack\": 45, \"speed\": 55, \"hp\": 40, \"base_happiness\": 70, \"capture_rate\": 255}, {\"name\": \"Golbat\", \"type1\": \"poison\", \"type2\": \"flying\", \"classfication\": \"Bat Pok\\u00e9mon\", \"height_m\": 1.6, \"weight_kg\": 55.0, \"year\": 1996, \"is_legendary\": 0, \"attack\": 80, \"speed\": 90, \"hp\": 75, \"base_happiness\": 70, \"capture_rate\": 90}, {\"name\": \"Oddish\", \"type1\": \"grass\", \"type2\": \"poison\", \"classfication\": \"Weed Pok\\u00e9mon\", \"height_m\": 0.5, \"weight_kg\": 5.4, \"year\": 1996, \"is_legendary\": 0, \"attack\": 50, \"speed\": 30, \"hp\": 45, \"base_happiness\": 70, \"capture_rate\": 255}, {\"name\": \"Gloom\", \"type1\": \"grass\", \"type2\": \"poison\", \"classfication\": \"Weed Pok\\u00e9mon\", \"height_m\": 0.8, \"weight_kg\": 8.6, \"year\": 1996, \"is_legendary\": 0, \"attack\": 65, \"speed\": 40, \"hp\": 60, \"base_happiness\": 70, \"capture_rate\": 120}, {\"name\": \"Vileplume\", \"type1\": \"grass\", \"type2\": \"poison\", \"classfication\": \"Flower Pok\\u00e9mon\", \"height_m\": 1.2, \"weight_kg\": 18.6, \"year\": 1996, \"is_legendary\": 0, \"attack\": 80, \"speed\": 50, \"hp\": 75, \"base_happiness\": 70, \"capture_rate\": 45}, {\"name\": \"Paras\", \"type1\": \"bug\", \"type2\": \"grass\", \"classfication\": \"Mushroom Pok\\u00e9mon\", \"height_m\": 0.3, \"weight_kg\": 5.4, \"year\": 1996, \"is_legendary\": 0, \"attack\": 70, \"speed\": 25, \"hp\": 35, \"base_happiness\": 70, \"capture_rate\": 190}, {\"name\": \"Parasect\", \"type1\": \"bug\", \"type2\": \"grass\", \"classfication\": \"Mushroom Pok\\u00e9mon\", \"height_m\": 1.0, \"weight_kg\": 29.5, \"year\": 1996, \"is_legendary\": 0, \"attack\": 95, \"speed\": 30, \"hp\": 60, \"base_happiness\": 70, \"capture_rate\": 75}, {\"name\": \"Venonat\", \"type1\": \"bug\", \"type2\": \"poison\", \"classfication\": \"Insect Pok\\u00e9mon\", \"height_m\": 1.0, \"weight_kg\": 30.0, \"year\": 1996, \"is_legendary\": 0, \"attack\": 55, \"speed\": 45, \"hp\": 60, \"base_happiness\": 70, \"capture_rate\": 190}, {\"name\": \"Venomoth\", \"type1\": \"bug\", \"type2\": \"poison\", \"classfication\": \"Poison Moth Pok\\u00e9mon\", \"height_m\": 1.5, \"weight_kg\": 12.5, \"year\": 1996, \"is_legendary\": 0, \"attack\": 65, \"speed\": 90, \"hp\": 70, \"base_happiness\": 70, \"capture_rate\": 75}, {\"name\": \"Diglett\", \"type1\": \"ground\", \"type2\": \"ground\", \"classfication\": \"Mole Pok\\u00e9mon\", \"height_m\": null, \"weight_kg\": null, \"year\": 1996, \"is_legendary\": 0, \"attack\": 55, \"speed\": 90, \"hp\": 10, \"base_happiness\": 70, \"capture_rate\": 255}, {\"name\": \"Dugtrio\", \"type1\": \"ground\", \"type2\": \"ground\", \"classfication\": \"Mole Pok\\u00e9mon\", \"height_m\": null, \"weight_kg\": null, \"year\": 1996, \"is_legendary\": 0, \"attack\": 100, \"speed\": 110, \"hp\": 35, \"base_happiness\": 70, \"capture_rate\": 50}, {\"name\": \"Meowth\", \"type1\": \"normal\", \"type2\": \"dark\", \"classfication\": \"Scratch Cat Pok\\u00e9mon\", \"height_m\": null, \"weight_kg\": null, \"year\": 1996, \"is_legendary\": 0, \"attack\": 35, \"speed\": 90, \"hp\": 40, \"base_happiness\": 70, \"capture_rate\": 255}, {\"name\": \"Persian\", \"type1\": \"normal\", \"type2\": \"dark\", \"classfication\": \"Classy Cat Pok\\u00e9mon\", \"height_m\": null, \"weight_kg\": null, \"year\": 1996, \"is_legendary\": 0, \"attack\": 60, \"speed\": 115, \"hp\": 65, \"base_happiness\": 70, \"capture_rate\": 90}, {\"name\": \"Psyduck\", \"type1\": \"water\", \"type2\": null, \"classfication\": \"Duck Pok\\u00e9mon\", \"height_m\": 0.8, \"weight_kg\": 19.6, \"year\": 1996, \"is_legendary\": 0, \"attack\": 52, \"speed\": 55, \"hp\": 50, \"base_happiness\": 70, \"capture_rate\": 190}, {\"name\": \"Golduck\", \"type1\": \"water\", \"type2\": null, \"classfication\": \"Duck Pok\\u00e9mon\", \"height_m\": 1.7, \"weight_kg\": 76.6, \"year\": 1996, \"is_legendary\": 0, \"attack\": 82, \"speed\": 85, \"hp\": 80, \"base_happiness\": 70, \"capture_rate\": 75}, {\"name\": \"Mankey\", \"type1\": \"fighting\", \"type2\": null, \"classfication\": \"Pig Monkey Pok\\u00e9mon\", \"height_m\": 0.5, \"weight_kg\": 28.0, \"year\": 1996, \"is_legendary\": 0, \"attack\": 80, \"speed\": 70, \"hp\": 40, \"base_happiness\": 70, \"capture_rate\": 190}, {\"name\": \"Primeape\", \"type1\": \"fighting\", \"type2\": null, \"classfication\": \"Pig Monkey Pok\\u00e9mon\", \"height_m\": 1.0, \"weight_kg\": 32.0, \"year\": 1996, \"is_legendary\": 0, \"attack\": 105, \"speed\": 95, \"hp\": 65, \"base_happiness\": 70, \"capture_rate\": 75}, {\"name\": \"Growlithe\", \"type1\": \"fire\", \"type2\": null, \"classfication\": \"Puppy Pok\\u00e9mon\", \"height_m\": 0.7, \"weight_kg\": 19.0, \"year\": 1996, \"is_legendary\": 0, \"attack\": 70, \"speed\": 60, \"hp\": 55, \"base_happiness\": 70, \"capture_rate\": 190}, {\"name\": \"Arcanine\", \"type1\": \"fire\", \"type2\": null, \"classfication\": \"Legendary Pok\\u00e9mon\", \"height_m\": 1.9, \"weight_kg\": 155.0, \"year\": 1996, \"is_legendary\": 0, \"attack\": 110, \"speed\": 95, \"hp\": 90, \"base_happiness\": 70, \"capture_rate\": 75}, {\"name\": \"Poliwag\", \"type1\": \"water\", \"type2\": null, \"classfication\": \"Tadpole Pok\\u00e9mon\", \"height_m\": 0.6, \"weight_kg\": 12.4, \"year\": 1996, \"is_legendary\": 0, \"attack\": 50, \"speed\": 90, \"hp\": 40, \"base_happiness\": 70, \"capture_rate\": 255}, {\"name\": \"Poliwhirl\", \"type1\": \"water\", \"type2\": null, \"classfication\": \"Tadpole Pok\\u00e9mon\", \"height_m\": 1.0, \"weight_kg\": 20.0, \"year\": 1996, \"is_legendary\": 0, \"attack\": 65, \"speed\": 90, \"hp\": 65, \"base_happiness\": 70, \"capture_rate\": 120}, {\"name\": \"Poliwrath\", \"type1\": \"water\", \"type2\": \"fighting\", \"classfication\": \"Tadpole Pok\\u00e9mon\", \"height_m\": 1.3, \"weight_kg\": 54.0, \"year\": 1996, \"is_legendary\": 0, \"attack\": 95, \"speed\": 70, \"hp\": 90, \"base_happiness\": 70, \"capture_rate\": 45}, {\"name\": \"Abra\", \"type1\": \"psychic\", \"type2\": null, \"classfication\": \"Psi Pok\\u00e9mon\", \"height_m\": 0.9, \"weight_kg\": 19.5, \"year\": 1996, \"is_legendary\": 0, \"attack\": 20, \"speed\": 90, \"hp\": 25, \"base_happiness\": 70, \"capture_rate\": 200}, {\"name\": \"Kadabra\", \"type1\": \"psychic\", \"type2\": null, \"classfication\": \"Psi Pok\\u00e9mon\", \"height_m\": 1.3, \"weight_kg\": 56.5, \"year\": 1996, \"is_legendary\": 0, \"attack\": 35, \"speed\": 105, \"hp\": 40, \"base_happiness\": 70, \"capture_rate\": 100}, {\"name\": \"Alakazam\", \"type1\": \"psychic\", \"type2\": null, \"classfication\": \"Psi Pok\\u00e9mon\", \"height_m\": 1.5, \"weight_kg\": 48.0, \"year\": 1996, \"is_legendary\": 0, \"attack\": 50, \"speed\": 150, \"hp\": 55, \"base_happiness\": 70, \"capture_rate\": 50}, {\"name\": \"Machop\", \"type1\": \"fighting\", \"type2\": null, \"classfication\": \"Superpower Pok\\u00e9mon\", \"height_m\": 0.8, \"weight_kg\": 19.5, \"year\": 1996, \"is_legendary\": 0, \"attack\": 80, \"speed\": 35, \"hp\": 70, \"base_happiness\": 70, \"capture_rate\": 180}, {\"name\": \"Machoke\", \"type1\": \"fighting\", \"type2\": null, \"classfication\": \"Superpower Pok\\u00e9mon\", \"height_m\": 1.5, \"weight_kg\": 70.5, \"year\": 1996, \"is_legendary\": 0, \"attack\": 100, \"speed\": 45, \"hp\": 80, \"base_happiness\": 70, \"capture_rate\": 90}, {\"name\": \"Machamp\", \"type1\": \"fighting\", \"type2\": null, \"classfication\": \"Superpower Pok\\u00e9mon\", \"height_m\": 1.6, \"weight_kg\": 130.0, \"year\": 1996, \"is_legendary\": 0, \"attack\": 130, \"speed\": 55, \"hp\": 90, \"base_happiness\": 70, \"capture_rate\": 45}, {\"name\": \"Bellsprout\", \"type1\": \"grass\", \"type2\": \"poison\", \"classfication\": \"Flower Pok\\u00e9mon\", \"height_m\": 0.7, \"weight_kg\": 4.0, \"year\": 1996, \"is_legendary\": 0, \"attack\": 75, \"speed\": 40, \"hp\": 50, \"base_happiness\": 70, \"capture_rate\": 255}, {\"name\": \"Weepinbell\", \"type1\": \"grass\", \"type2\": \"poison\", \"classfication\": \"Flycatcher Pok\\u00e9mon\", \"height_m\": 1.0, \"weight_kg\": 6.4, \"year\": 1996, \"is_legendary\": 0, \"attack\": 90, \"speed\": 55, \"hp\": 65, \"base_happiness\": 70, \"capture_rate\": 120}, {\"name\": \"Victreebel\", \"type1\": \"grass\", \"type2\": \"poison\", \"classfication\": \"Flycatcher Pok\\u00e9mon\", \"height_m\": 1.7, \"weight_kg\": 15.5, \"year\": 1996, \"is_legendary\": 0, \"attack\": 105, \"speed\": 70, \"hp\": 80, \"base_happiness\": 70, \"capture_rate\": 45}, {\"name\": \"Tentacool\", \"type1\": \"water\", \"type2\": \"poison\", \"classfication\": \"Jellyfish Pok\\u00e9mon\", \"height_m\": 0.9, \"weight_kg\": 45.5, \"year\": 1996, \"is_legendary\": 0, \"attack\": 40, \"speed\": 70, \"hp\": 40, \"base_happiness\": 70, \"capture_rate\": 190}, {\"name\": \"Tentacruel\", \"type1\": \"water\", \"type2\": \"poison\", \"classfication\": \"Jellyfish Pok\\u00e9mon\", \"height_m\": 1.6, \"weight_kg\": 55.0, \"year\": 1996, \"is_legendary\": 0, \"attack\": 70, \"speed\": 100, \"hp\": 80, \"base_happiness\": 70, \"capture_rate\": 60}, {\"name\": \"Geodude\", \"type1\": \"rock\", \"type2\": \"ground\", \"classfication\": \"Rock Pok\\u00e9mon\", \"height_m\": null, \"weight_kg\": null, \"year\": 1996, \"is_legendary\": 0, \"attack\": 80, \"speed\": 20, \"hp\": 40, \"base_happiness\": 70, \"capture_rate\": 255}, {\"name\": \"Graveler\", \"type1\": \"rock\", \"type2\": \"ground\", \"classfication\": \"Rock Pok\\u00e9mon\", \"height_m\": null, \"weight_kg\": null, \"year\": 1996, \"is_legendary\": 0, \"attack\": 95, \"speed\": 35, \"hp\": 55, \"base_happiness\": 70, \"capture_rate\": 120}, {\"name\": \"Golem\", \"type1\": \"rock\", \"type2\": \"ground\", \"classfication\": \"Megaton Pok\\u00e9mon\", \"height_m\": null, \"weight_kg\": null, \"year\": 1996, \"is_legendary\": 0, \"attack\": 120, \"speed\": 45, \"hp\": 80, \"base_happiness\": 70, \"capture_rate\": 45}, {\"name\": \"Ponyta\", \"type1\": \"fire\", \"type2\": null, \"classfication\": \"Fire Horse Pok\\u00e9mon\", \"height_m\": 1.0, \"weight_kg\": 30.0, \"year\": 1996, \"is_legendary\": 0, \"attack\": 85, \"speed\": 90, \"hp\": 50, \"base_happiness\": 70, \"capture_rate\": 190}, {\"name\": \"Rapidash\", \"type1\": \"fire\", \"type2\": null, \"classfication\": \"Fire Horse Pok\\u00e9mon\", \"height_m\": 1.7, \"weight_kg\": 95.0, \"year\": 1996, \"is_legendary\": 0, \"attack\": 100, \"speed\": 105, \"hp\": 65, \"base_happiness\": 70, \"capture_rate\": 60}, {\"name\": \"Slowpoke\", \"type1\": \"water\", \"type2\": \"psychic\", \"classfication\": \"Dopey Pok\\u00e9mon\", \"height_m\": 1.2, \"weight_kg\": 36.0, \"year\": 1996, \"is_legendary\": 0, \"attack\": 65, \"speed\": 15, \"hp\": 90, \"base_happiness\": 70, \"capture_rate\": 190}, {\"name\": \"Slowbro\", \"type1\": \"water\", \"type2\": \"psychic\", \"classfication\": \"Hermit Crab Pok\\u00e9mon\", \"height_m\": 1.6, \"weight_kg\": 78.5, \"year\": 1996, \"is_legendary\": 0, \"attack\": 75, \"speed\": 30, \"hp\": 95, \"base_happiness\": 70, \"capture_rate\": 75}, {\"name\": \"Magnemite\", \"type1\": \"electric\", \"type2\": \"steel\", \"classfication\": \"Magnet Pok\\u00e9mon\", \"height_m\": 0.3, \"weight_kg\": 6.0, \"year\": 1996, \"is_legendary\": 0, \"attack\": 35, \"speed\": 45, \"hp\": 25, \"base_happiness\": 70, \"capture_rate\": 190}, {\"name\": \"Magneton\", \"type1\": \"electric\", \"type2\": \"steel\", \"classfication\": \"Magnet Pok\\u00e9mon\", \"height_m\": 1.0, \"weight_kg\": 60.0, \"year\": 1996, \"is_legendary\": 0, \"attack\": 60, \"speed\": 70, \"hp\": 50, \"base_happiness\": 70, \"capture_rate\": 60}, {\"name\": \"Farfetch'd\", \"type1\": \"normal\", \"type2\": \"flying\", \"classfication\": \"Wild Duck Pok\\u00e9mon\", \"height_m\": 0.8, \"weight_kg\": 15.0, \"year\": 1996, \"is_legendary\": 0, \"attack\": 90, \"speed\": 60, \"hp\": 52, \"base_happiness\": 70, \"capture_rate\": 45}, {\"name\": \"Doduo\", \"type1\": \"normal\", \"type2\": \"flying\", \"classfication\": \"Twin Bird Pok\\u00e9mon\", \"height_m\": 1.4, \"weight_kg\": 39.2, \"year\": 1996, \"is_legendary\": 0, \"attack\": 85, \"speed\": 75, \"hp\": 35, \"base_happiness\": 70, \"capture_rate\": 190}, {\"name\": \"Dodrio\", \"type1\": \"normal\", \"type2\": \"flying\", \"classfication\": \"Triple Bird Pok\\u00e9mon\", \"height_m\": 1.8, \"weight_kg\": 85.2, \"year\": 1996, \"is_legendary\": 0, \"attack\": 110, \"speed\": 110, \"hp\": 60, \"base_happiness\": 70, \"capture_rate\": 45}, {\"name\": \"Seel\", \"type1\": \"water\", \"type2\": null, \"classfication\": \"Sea Lion Pok\\u00e9mon\", \"height_m\": 1.1, \"weight_kg\": 90.0, \"year\": 1996, \"is_legendary\": 0, \"attack\": 45, \"speed\": 45, \"hp\": 65, \"base_happiness\": 70, \"capture_rate\": 190}, {\"name\": \"Dewgong\", \"type1\": \"water\", \"type2\": \"ice\", \"classfication\": \"Sea Lion Pok\\u00e9mon\", \"height_m\": 1.7, \"weight_kg\": 120.0, \"year\": 1996, \"is_legendary\": 0, \"attack\": 70, \"speed\": 70, \"hp\": 90, \"base_happiness\": 70, \"capture_rate\": 75}, {\"name\": \"Grimer\", \"type1\": \"poison\", \"type2\": \"poison\", \"classfication\": \"Sludge Pok\\u00e9mon\", \"height_m\": null, \"weight_kg\": null, \"year\": 1996, \"is_legendary\": 0, \"attack\": 80, \"speed\": 25, \"hp\": 80, \"base_happiness\": 70, \"capture_rate\": 190}, {\"name\": \"Muk\", \"type1\": \"poison\", \"type2\": \"poison\", \"classfication\": \"Sludge Pok\\u00e9mon\", \"height_m\": null, \"weight_kg\": null, \"year\": 1996, \"is_legendary\": 0, \"attack\": 105, \"speed\": 50, \"hp\": 105, \"base_happiness\": 70, \"capture_rate\": 75}, {\"name\": \"Shellder\", \"type1\": \"water\", \"type2\": null, \"classfication\": \"Bivalve Pok\\u00e9mon\", \"height_m\": 0.3, \"weight_kg\": 4.0, \"year\": 1996, \"is_legendary\": 0, \"attack\": 65, \"speed\": 40, \"hp\": 30, \"base_happiness\": 70, \"capture_rate\": 190}, {\"name\": \"Cloyster\", \"type1\": \"water\", \"type2\": \"ice\", \"classfication\": \"Bivalve Pok\\u00e9mon\", \"height_m\": 1.5, \"weight_kg\": 132.5, \"year\": 1996, \"is_legendary\": 0, \"attack\": 95, \"speed\": 70, \"hp\": 50, \"base_happiness\": 70, \"capture_rate\": 60}, {\"name\": \"Gastly\", \"type1\": \"ghost\", \"type2\": \"poison\", \"classfication\": \"Gas Pok\\u00e9mon\", \"height_m\": 1.3, \"weight_kg\": 0.1, \"year\": 1996, \"is_legendary\": 0, \"attack\": 35, \"speed\": 80, \"hp\": 30, \"base_happiness\": 70, \"capture_rate\": 190}, {\"name\": \"Haunter\", \"type1\": \"ghost\", \"type2\": \"poison\", \"classfication\": \"Gas Pok\\u00e9mon\", \"height_m\": 1.6, \"weight_kg\": 0.1, \"year\": 1996, \"is_legendary\": 0, \"attack\": 50, \"speed\": 95, \"hp\": 45, \"base_happiness\": 70, \"capture_rate\": 90}, {\"name\": \"Gengar\", \"type1\": \"ghost\", \"type2\": \"poison\", \"classfication\": \"Shadow Pok\\u00e9mon\", \"height_m\": 1.5, \"weight_kg\": 40.5, \"year\": 1996, \"is_legendary\": 0, \"attack\": 65, \"speed\": 130, \"hp\": 60, \"base_happiness\": 70, \"capture_rate\": 45}, {\"name\": \"Onix\", \"type1\": \"rock\", \"type2\": \"ground\", \"classfication\": \"Rock Snake Pok\\u00e9mon\", \"height_m\": 8.8, \"weight_kg\": 210.0, \"year\": 1996, \"is_legendary\": 0, \"attack\": 45, \"speed\": 70, \"hp\": 35, \"base_happiness\": 70, \"capture_rate\": 45}, {\"name\": \"Drowzee\", \"type1\": \"psychic\", \"type2\": null, \"classfication\": \"Hypnosis Pok\\u00e9mon\", \"height_m\": 1.0, \"weight_kg\": 32.4, \"year\": 1996, \"is_legendary\": 0, \"attack\": 48, \"speed\": 42, \"hp\": 60, \"base_happiness\": 70, \"capture_rate\": 190}, {\"name\": \"Hypno\", \"type1\": \"psychic\", \"type2\": null, \"classfication\": \"Hypnosis Pok\\u00e9mon\", \"height_m\": 1.6, \"weight_kg\": 75.6, \"year\": 1996, \"is_legendary\": 0, \"attack\": 73, \"speed\": 67, \"hp\": 85, \"base_happiness\": 70, \"capture_rate\": 75}, {\"name\": \"Krabby\", \"type1\": \"water\", \"type2\": null, \"classfication\": \"River Crab Pok\\u00e9mon\", \"height_m\": 0.4, \"weight_kg\": 6.5, \"year\": 1996, \"is_legendary\": 0, \"attack\": 105, \"speed\": 50, \"hp\": 30, \"base_happiness\": 70, \"capture_rate\": 225}, {\"name\": \"Kingler\", \"type1\": \"water\", \"type2\": null, \"classfication\": \"Pincer Pok\\u00e9mon\", \"height_m\": 1.3, \"weight_kg\": 60.0, \"year\": 1996, \"is_legendary\": 0, \"attack\": 130, \"speed\": 75, \"hp\": 55, \"base_happiness\": 70, \"capture_rate\": 60}, {\"name\": \"Voltorb\", \"type1\": \"electric\", \"type2\": null, \"classfication\": \"Ball Pok\\u00e9mon\", \"height_m\": 0.5, \"weight_kg\": 10.4, \"year\": 1996, \"is_legendary\": 0, \"attack\": 30, \"speed\": 100, \"hp\": 40, \"base_happiness\": 70, \"capture_rate\": 190}, {\"name\": \"Electrode\", \"type1\": \"electric\", \"type2\": null, \"classfication\": \"Ball Pok\\u00e9mon\", \"height_m\": 1.2, \"weight_kg\": 66.6, \"year\": 1996, \"is_legendary\": 0, \"attack\": 50, \"speed\": 150, \"hp\": 60, \"base_happiness\": 70, \"capture_rate\": 60}, {\"name\": \"Exeggcute\", \"type1\": \"grass\", \"type2\": \"psychic\", \"classfication\": \"Egg Pok\\u00e9mon\", \"height_m\": 0.4, \"weight_kg\": 2.5, \"year\": 1996, \"is_legendary\": 0, \"attack\": 40, \"speed\": 40, \"hp\": 60, \"base_happiness\": 70, \"capture_rate\": 90}, {\"name\": \"Exeggutor\", \"type1\": \"grass\", \"type2\": \"psychic\", \"classfication\": \"Coconut Pok\\u00e9mon\", \"height_m\": null, \"weight_kg\": null, \"year\": 1996, \"is_legendary\": 0, \"attack\": 105, \"speed\": 45, \"hp\": 95, \"base_happiness\": 70, \"capture_rate\": 45}, {\"name\": \"Cubone\", \"type1\": \"ground\", \"type2\": null, \"classfication\": \"Lonely Pok\\u00e9mon\", \"height_m\": 0.4, \"weight_kg\": 6.5, \"year\": 1996, \"is_legendary\": 0, \"attack\": 50, \"speed\": 35, \"hp\": 50, \"base_happiness\": 70, \"capture_rate\": 190}, {\"name\": \"Marowak\", \"type1\": \"ground\", \"type2\": \"fire\", \"classfication\": \"Bone Keeper Pok\\u00e9mon\", \"height_m\": null, \"weight_kg\": null, \"year\": 1996, \"is_legendary\": 0, \"attack\": 80, \"speed\": 45, \"hp\": 60, \"base_happiness\": 70, \"capture_rate\": 75}, {\"name\": \"Hitmonlee\", \"type1\": \"fighting\", \"type2\": null, \"classfication\": \"Kicking Pok\\u00e9mon\", \"height_m\": 1.5, \"weight_kg\": 49.8, \"year\": 1996, \"is_legendary\": 0, \"attack\": 120, \"speed\": 87, \"hp\": 50, \"base_happiness\": 70, \"capture_rate\": 45}, {\"name\": \"Hitmonchan\", \"type1\": \"fighting\", \"type2\": null, \"classfication\": \"Punching Pok\\u00e9mon\", \"height_m\": 1.4, \"weight_kg\": 50.2, \"year\": 1996, \"is_legendary\": 0, \"attack\": 105, \"speed\": 76, \"hp\": 50, \"base_happiness\": 70, \"capture_rate\": 45}, {\"name\": \"Lickitung\", \"type1\": \"normal\", \"type2\": null, \"classfication\": \"Licking Pok\\u00e9mon\", \"height_m\": 1.2, \"weight_kg\": 65.5, \"year\": 1996, \"is_legendary\": 0, \"attack\": 55, \"speed\": 30, \"hp\": 90, \"base_happiness\": 70, \"capture_rate\": 45}, {\"name\": \"Koffing\", \"type1\": \"poison\", \"type2\": null, \"classfication\": \"Poison Gas Pok\\u00e9mon\", \"height_m\": 0.6, \"weight_kg\": 1.0, \"year\": 1996, \"is_legendary\": 0, \"attack\": 65, \"speed\": 35, \"hp\": 40, \"base_happiness\": 70, \"capture_rate\": 190}, {\"name\": \"Weezing\", \"type1\": \"poison\", \"type2\": null, \"classfication\": \"Poison Gas Pok\\u00e9mon\", \"height_m\": 1.2, \"weight_kg\": 9.5, \"year\": 1996, \"is_legendary\": 0, \"attack\": 90, \"speed\": 60, \"hp\": 65, \"base_happiness\": 70, \"capture_rate\": 60}, {\"name\": \"Rhyhorn\", \"type1\": \"ground\", \"type2\": \"rock\", \"classfication\": \"Spikes Pok\\u00e9mon\", \"height_m\": 1.0, \"weight_kg\": 115.0, \"year\": 1996, \"is_legendary\": 0, \"attack\": 85, \"speed\": 25, \"hp\": 80, \"base_happiness\": 70, \"capture_rate\": 120}, {\"name\": \"Rhydon\", \"type1\": \"ground\", \"type2\": \"rock\", \"classfication\": \"Drill Pok\\u00e9mon\", \"height_m\": 1.9, \"weight_kg\": 120.0, \"year\": 1996, \"is_legendary\": 0, \"attack\": 130, \"speed\": 40, \"hp\": 105, \"base_happiness\": 70, \"capture_rate\": 60}, {\"name\": \"Chansey\", \"type1\": \"normal\", \"type2\": null, \"classfication\": \"Egg Pok\\u00e9mon\", \"height_m\": 1.1, \"weight_kg\": 34.6, \"year\": 1996, \"is_legendary\": 0, \"attack\": 5, \"speed\": 50, \"hp\": 250, \"base_happiness\": 140, \"capture_rate\": 30}, {\"name\": \"Tangela\", \"type1\": \"grass\", \"type2\": null, \"classfication\": \"Vine Pok\\u00e9mon\", \"height_m\": 1.0, \"weight_kg\": 35.0, \"year\": 1996, \"is_legendary\": 0, \"attack\": 55, \"speed\": 60, \"hp\": 65, \"base_happiness\": 70, \"capture_rate\": 45}, {\"name\": \"Kangaskhan\", \"type1\": \"normal\", \"type2\": null, \"classfication\": \"Parent Pok\\u00e9mon\", \"height_m\": 2.2, \"weight_kg\": 80.0, \"year\": 1996, \"is_legendary\": 0, \"attack\": 125, \"speed\": 100, \"hp\": 105, \"base_happiness\": 70, \"capture_rate\": 45}, {\"name\": \"Horsea\", \"type1\": \"water\", \"type2\": null, \"classfication\": \"Dragon Pok\\u00e9mon\", \"height_m\": 0.4, \"weight_kg\": 8.0, \"year\": 1996, \"is_legendary\": 0, \"attack\": 40, \"speed\": 60, \"hp\": 30, \"base_happiness\": 70, \"capture_rate\": 225}, {\"name\": \"Seadra\", \"type1\": \"water\", \"type2\": null, \"classfication\": \"Dragon Pok\\u00e9mon\", \"height_m\": 1.2, \"weight_kg\": 25.0, \"year\": 1996, \"is_legendary\": 0, \"attack\": 65, \"speed\": 85, \"hp\": 55, \"base_happiness\": 70, \"capture_rate\": 75}, {\"name\": \"Goldeen\", \"type1\": \"water\", \"type2\": null, \"classfication\": \"Goldfish Pok\\u00e9mon\", \"height_m\": 0.6, \"weight_kg\": 15.0, \"year\": 1996, \"is_legendary\": 0, \"attack\": 67, \"speed\": 63, \"hp\": 45, \"base_happiness\": 70, \"capture_rate\": 225}, {\"name\": \"Seaking\", \"type1\": \"water\", \"type2\": null, \"classfication\": \"Goldfish Pok\\u00e9mon\", \"height_m\": 1.3, \"weight_kg\": 39.0, \"year\": 1996, \"is_legendary\": 0, \"attack\": 92, \"speed\": 68, \"hp\": 80, \"base_happiness\": 70, \"capture_rate\": 60}, {\"name\": \"Staryu\", \"type1\": \"water\", \"type2\": null, \"classfication\": \"Starshape Pok\\u00e9mon\", \"height_m\": 0.8, \"weight_kg\": 34.5, \"year\": 1996, \"is_legendary\": 0, \"attack\": 45, \"speed\": 85, \"hp\": 30, \"base_happiness\": 70, \"capture_rate\": 225}, {\"name\": \"Starmie\", \"type1\": \"water\", \"type2\": \"psychic\", \"classfication\": \"Mysterious Pok\\u00e9mon\", \"height_m\": 1.1, \"weight_kg\": 80.0, \"year\": 1996, \"is_legendary\": 0, \"attack\": 75, \"speed\": 115, \"hp\": 60, \"base_happiness\": 70, \"capture_rate\": 60}, {\"name\": \"Mr. Mime\", \"type1\": \"psychic\", \"type2\": \"fairy\", \"classfication\": \"Barrier Pok\\u00e9mon\", \"height_m\": 1.3, \"weight_kg\": 54.5, \"year\": 1996, \"is_legendary\": 0, \"attack\": 45, \"speed\": 90, \"hp\": 40, \"base_happiness\": 70, \"capture_rate\": 45}, {\"name\": \"Scyther\", \"type1\": \"bug\", \"type2\": \"flying\", \"classfication\": \"Mantis Pok\\u00e9mon\", \"height_m\": 1.5, \"weight_kg\": 56.0, \"year\": 1996, \"is_legendary\": 0, \"attack\": 110, \"speed\": 105, \"hp\": 70, \"base_happiness\": 70, \"capture_rate\": 45}, {\"name\": \"Jynx\", \"type1\": \"ice\", \"type2\": \"psychic\", \"classfication\": \"Humanshape Pok\\u00e9mon\", \"height_m\": 1.4, \"weight_kg\": 40.6, \"year\": 1996, \"is_legendary\": 0, \"attack\": 50, \"speed\": 95, \"hp\": 65, \"base_happiness\": 70, \"capture_rate\": 45}, {\"name\": \"Electabuzz\", \"type1\": \"electric\", \"type2\": null, \"classfication\": \"Electric Pok\\u00e9mon\", \"height_m\": 1.1, \"weight_kg\": 30.0, \"year\": 1996, \"is_legendary\": 0, \"attack\": 83, \"speed\": 105, \"hp\": 65, \"base_happiness\": 70, \"capture_rate\": 45}, {\"name\": \"Magmar\", \"type1\": \"fire\", \"type2\": null, \"classfication\": \"Spitfire Pok\\u00e9mon\", \"height_m\": 1.3, \"weight_kg\": 44.5, \"year\": 1996, \"is_legendary\": 0, \"attack\": 95, \"speed\": 93, \"hp\": 65, \"base_happiness\": 70, \"capture_rate\": 45}, {\"name\": \"Pinsir\", \"type1\": \"bug\", \"type2\": null, \"classfication\": \"Stagbeetle Pok\\u00e9mon\", \"height_m\": 1.5, \"weight_kg\": 55.0, \"year\": 1996, \"is_legendary\": 0, \"attack\": 155, \"speed\": 105, \"hp\": 65, \"base_happiness\": 70, \"capture_rate\": 45}, {\"name\": \"Tauros\", \"type1\": \"normal\", \"type2\": null, \"classfication\": \"Wild Bull Pok\\u00e9mon\", \"height_m\": 1.4, \"weight_kg\": 88.4, \"year\": 1996, \"is_legendary\": 0, \"attack\": 100, \"speed\": 110, \"hp\": 75, \"base_happiness\": 70, \"capture_rate\": 45}, {\"name\": \"Magikarp\", \"type1\": \"water\", \"type2\": null, \"classfication\": \"Fish Pok\\u00e9mon\", \"height_m\": 0.9, \"weight_kg\": 10.0, \"year\": 1996, \"is_legendary\": 0, \"attack\": 10, \"speed\": 80, \"hp\": 20, \"base_happiness\": 70, \"capture_rate\": 255}, {\"name\": \"Gyarados\", \"type1\": \"water\", \"type2\": \"flying\", \"classfication\": \"Atrocious Pok\\u00e9mon\", \"height_m\": 6.5, \"weight_kg\": 235.0, \"year\": 1996, \"is_legendary\": 0, \"attack\": 155, \"speed\": 81, \"hp\": 95, \"base_happiness\": 70, \"capture_rate\": 45}, {\"name\": \"Lapras\", \"type1\": \"water\", \"type2\": \"ice\", \"classfication\": \"Transport Pok\\u00e9mon\", \"height_m\": 2.5, \"weight_kg\": 220.0, \"year\": 1996, \"is_legendary\": 0, \"attack\": 85, \"speed\": 60, \"hp\": 130, \"base_happiness\": 70, \"capture_rate\": 45}, {\"name\": \"Ditto\", \"type1\": \"normal\", \"type2\": null, \"classfication\": \"Transform Pok\\u00e9mon\", \"height_m\": 0.3, \"weight_kg\": 4.0, \"year\": 1996, \"is_legendary\": 0, \"attack\": 48, \"speed\": 48, \"hp\": 48, \"base_happiness\": 70, \"capture_rate\": 35}, {\"name\": \"Eevee\", \"type1\": \"normal\", \"type2\": null, \"classfication\": \"Evolution Pok\\u00e9mon\", \"height_m\": 0.3, \"weight_kg\": 6.5, \"year\": 1996, \"is_legendary\": 0, \"attack\": 55, \"speed\": 55, \"hp\": 55, \"base_happiness\": 70, \"capture_rate\": 45}, {\"name\": \"Vaporeon\", \"type1\": \"water\", \"type2\": null, \"classfication\": \"Bubble Jet Pok\\u00e9mon\", \"height_m\": 1.0, \"weight_kg\": 29.0, \"year\": 1996, \"is_legendary\": 0, \"attack\": 65, \"speed\": 65, \"hp\": 130, \"base_happiness\": 70, \"capture_rate\": 45}, {\"name\": \"Jolteon\", \"type1\": \"electric\", \"type2\": null, \"classfication\": \"Lightning Pok\\u00e9mon\", \"height_m\": 0.8, \"weight_kg\": 24.5, \"year\": 1996, \"is_legendary\": 0, \"attack\": 65, \"speed\": 130, \"hp\": 65, \"base_happiness\": 70, \"capture_rate\": 45}, {\"name\": \"Flareon\", \"type1\": \"fire\", \"type2\": null, \"classfication\": \"Flame Pok\\u00e9mon\", \"height_m\": 0.9, \"weight_kg\": 25.0, \"year\": 1996, \"is_legendary\": 0, \"attack\": 130, \"speed\": 65, \"hp\": 65, \"base_happiness\": 70, \"capture_rate\": 45}, {\"name\": \"Porygon\", \"type1\": \"normal\", \"type2\": null, \"classfication\": \"Virtual Pok\\u00e9mon\", \"height_m\": 0.8, \"weight_kg\": 36.5, \"year\": 1996, \"is_legendary\": 0, \"attack\": 60, \"speed\": 40, \"hp\": 65, \"base_happiness\": 70, \"capture_rate\": 45}, {\"name\": \"Omanyte\", \"type1\": \"rock\", \"type2\": \"water\", \"classfication\": \"Spiral Pok\\u00e9mon\", \"height_m\": 0.4, \"weight_kg\": 7.5, \"year\": 1996, \"is_legendary\": 0, \"attack\": 40, \"speed\": 35, \"hp\": 35, \"base_happiness\": 70, \"capture_rate\": 45}, {\"name\": \"Omastar\", \"type1\": \"rock\", \"type2\": \"water\", \"classfication\": \"Spiral Pok\\u00e9mon\", \"height_m\": 1.0, \"weight_kg\": 35.0, \"year\": 1996, \"is_legendary\": 0, \"attack\": 60, \"speed\": 55, \"hp\": 70, \"base_happiness\": 70, \"capture_rate\": 45}, {\"name\": \"Kabuto\", \"type1\": \"rock\", \"type2\": \"water\", \"classfication\": \"Shellfish Pok\\u00e9mon\", \"height_m\": 0.5, \"weight_kg\": 11.5, \"year\": 1996, \"is_legendary\": 0, \"attack\": 80, \"speed\": 55, \"hp\": 30, \"base_happiness\": 70, \"capture_rate\": 45}, {\"name\": \"Kabutops\", \"type1\": \"rock\", \"type2\": \"water\", \"classfication\": \"Shellfish Pok\\u00e9mon\", \"height_m\": 1.3, \"weight_kg\": 40.5, \"year\": 1996, \"is_legendary\": 0, \"attack\": 115, \"speed\": 80, \"hp\": 60, \"base_happiness\": 70, \"capture_rate\": 45}, {\"name\": \"Aerodactyl\", \"type1\": \"rock\", \"type2\": \"flying\", \"classfication\": \"Fossil Pok\\u00e9mon\", \"height_m\": 1.8, \"weight_kg\": 59.0, \"year\": 1996, \"is_legendary\": 0, \"attack\": 135, \"speed\": 150, \"hp\": 80, \"base_happiness\": 70, \"capture_rate\": 45}, {\"name\": \"Snorlax\", \"type1\": \"normal\", \"type2\": null, \"classfication\": \"Sleeping Pok\\u00e9mon\", \"height_m\": 2.1, \"weight_kg\": 460.0, \"year\": 1996, \"is_legendary\": 0, \"attack\": 110, \"speed\": 30, \"hp\": 160, \"base_happiness\": 70, \"capture_rate\": 25}, {\"name\": \"Articuno\", \"type1\": \"ice\", \"type2\": \"flying\", \"classfication\": \"Freeze Pok\\u00e9mon\", \"height_m\": 1.7, \"weight_kg\": 55.4, \"year\": 1996, \"is_legendary\": 1, \"attack\": 85, \"speed\": 85, \"hp\": 90, \"base_happiness\": 35, \"capture_rate\": 3}, {\"name\": \"Zapdos\", \"type1\": \"electric\", \"type2\": \"flying\", \"classfication\": \"Electric Pok\\u00e9mon\", \"height_m\": 1.6, \"weight_kg\": 52.6, \"year\": 1996, \"is_legendary\": 1, \"attack\": 90, \"speed\": 100, \"hp\": 90, \"base_happiness\": 35, \"capture_rate\": 3}, {\"name\": \"Moltres\", \"type1\": \"fire\", \"type2\": \"flying\", \"classfication\": \"Flame Pok\\u00e9mon\", \"height_m\": 2.0, \"weight_kg\": 60.0, \"year\": 1996, \"is_legendary\": 1, \"attack\": 100, \"speed\": 90, \"hp\": 90, \"base_happiness\": 35, \"capture_rate\": 3}, {\"name\": \"Dratini\", \"type1\": \"dragon\", \"type2\": null, \"classfication\": \"Dragon Pok\\u00e9mon\", \"height_m\": 1.8, \"weight_kg\": 3.3, \"year\": 1996, \"is_legendary\": 0, \"attack\": 64, \"speed\": 50, \"hp\": 41, \"base_happiness\": 35, \"capture_rate\": 45}, {\"name\": \"Dragonair\", \"type1\": \"dragon\", \"type2\": null, \"classfication\": \"Dragon Pok\\u00e9mon\", \"height_m\": 4.0, \"weight_kg\": 16.5, \"year\": 1996, \"is_legendary\": 0, \"attack\": 84, \"speed\": 70, \"hp\": 61, \"base_happiness\": 35, \"capture_rate\": 45}, {\"name\": \"Dragonite\", \"type1\": \"dragon\", \"type2\": \"flying\", \"classfication\": \"Dragon Pok\\u00e9mon\", \"height_m\": 2.2, \"weight_kg\": 210.0, \"year\": 1996, \"is_legendary\": 0, \"attack\": 134, \"speed\": 80, \"hp\": 91, \"base_happiness\": 35, \"capture_rate\": 45}, {\"name\": \"Mewtwo\", \"type1\": \"psychic\", \"type2\": null, \"classfication\": \"Genetic Pok\\u00e9mon\", \"height_m\": 2.0, \"weight_kg\": 122.0, \"year\": 1996, \"is_legendary\": 1, \"attack\": 150, \"speed\": 140, \"hp\": 106, \"base_happiness\": 0, \"capture_rate\": 3}, {\"name\": \"Mew\", \"type1\": \"psychic\", \"type2\": null, \"classfication\": \"New Species Pok\\u00e9mon\", \"height_m\": 0.4, \"weight_kg\": 4.0, \"year\": 1996, \"is_legendary\": 1, \"attack\": 100, \"speed\": 100, \"hp\": 100, \"base_happiness\": 100, \"capture_rate\": 45}]}}, {\"mode\": \"vega-lite\"});\n",
       "</script>"
      ],
      "text/plain": [
       "alt.Chart(...)"
      ]
     },
     "execution_count": 162,
     "metadata": {},
     "output_type": "execute_result"
    }
   ],
   "source": [
    "alt.Chart(df).mark_bar().encode(\n",
    "    x = 'height_m',\n",
    "    y = alt.Y('type1', sort='-x' ), \n",
    "    color='is_legendary:N'\n",
    ")"
   ]
  },
  {
   "cell_type": "markdown",
   "metadata": {},
   "source": []
  },
  {
   "cell_type": "code",
   "execution_count": null,
   "metadata": {},
   "outputs": [],
   "source": [
    "df"
   ]
  },
  {
   "cell_type": "markdown",
   "metadata": {},
   "source": [
    "### Quizz\n",
    "\n"
   ]
  },
  {
   "cell_type": "markdown",
   "metadata": {},
   "source": [
    "df `df_generation_type` unten zeigt für jede Generation von Pokemons an, wie viele Wasser, Normale, Gift-Pokemon es gab. \n",
    "1. Mache einen Barchart mit Generation 1 - 7 auf der Y Achse und Anzahl Pokemon insgesamt auf der X Achse. (Tip: Datentypen)\n",
    "2. Füge Farbe nach type1 hinzu. Experimentiere mit Datentypen bei der Farbe\n",
    "3. Ändere das Farbschema. "
   ]
  },
  {
   "cell_type": "code",
   "execution_count": 94,
   "metadata": {},
   "outputs": [
    {
     "data": {
      "text/html": [
       "<div>\n",
       "<style scoped>\n",
       "    .dataframe tbody tr th:only-of-type {\n",
       "        vertical-align: middle;\n",
       "    }\n",
       "\n",
       "    .dataframe tbody tr th {\n",
       "        vertical-align: top;\n",
       "    }\n",
       "\n",
       "    .dataframe thead th {\n",
       "        text-align: right;\n",
       "    }\n",
       "</style>\n",
       "<table border=\"1\" class=\"dataframe\">\n",
       "  <thead>\n",
       "    <tr style=\"text-align: right;\">\n",
       "      <th></th>\n",
       "      <th>generation</th>\n",
       "      <th>type1</th>\n",
       "      <th>count</th>\n",
       "    </tr>\n",
       "  </thead>\n",
       "  <tbody>\n",
       "    <tr>\n",
       "      <th>0</th>\n",
       "      <td>1</td>\n",
       "      <td>water</td>\n",
       "      <td>28</td>\n",
       "    </tr>\n",
       "    <tr>\n",
       "      <th>1</th>\n",
       "      <td>1</td>\n",
       "      <td>normal</td>\n",
       "      <td>22</td>\n",
       "    </tr>\n",
       "    <tr>\n",
       "      <th>2</th>\n",
       "      <td>1</td>\n",
       "      <td>poison</td>\n",
       "      <td>14</td>\n",
       "    </tr>\n",
       "    <tr>\n",
       "      <th>3</th>\n",
       "      <td>1</td>\n",
       "      <td>bug</td>\n",
       "      <td>12</td>\n",
       "    </tr>\n",
       "    <tr>\n",
       "      <th>4</th>\n",
       "      <td>1</td>\n",
       "      <td>grass</td>\n",
       "      <td>12</td>\n",
       "    </tr>\n",
       "    <tr>\n",
       "      <th>...</th>\n",
       "      <td>...</td>\n",
       "      <td>...</td>\n",
       "      <td>...</td>\n",
       "    </tr>\n",
       "    <tr>\n",
       "      <th>109</th>\n",
       "      <td>7</td>\n",
       "      <td>dragon</td>\n",
       "      <td>3</td>\n",
       "    </tr>\n",
       "    <tr>\n",
       "      <th>110</th>\n",
       "      <td>7</td>\n",
       "      <td>steel</td>\n",
       "      <td>2</td>\n",
       "    </tr>\n",
       "    <tr>\n",
       "      <th>111</th>\n",
       "      <td>7</td>\n",
       "      <td>ground</td>\n",
       "      <td>2</td>\n",
       "    </tr>\n",
       "    <tr>\n",
       "      <th>112</th>\n",
       "      <td>7</td>\n",
       "      <td>fairy</td>\n",
       "      <td>1</td>\n",
       "    </tr>\n",
       "    <tr>\n",
       "      <th>113</th>\n",
       "      <td>7</td>\n",
       "      <td>dark</td>\n",
       "      <td>1</td>\n",
       "    </tr>\n",
       "  </tbody>\n",
       "</table>\n",
       "<p>114 rows × 3 columns</p>\n",
       "</div>"
      ],
      "text/plain": [
       "     generation   type1  count\n",
       "0             1   water     28\n",
       "1             1  normal     22\n",
       "2             1  poison     14\n",
       "3             1     bug     12\n",
       "4             1   grass     12\n",
       "..          ...     ...    ...\n",
       "109           7  dragon      3\n",
       "110           7   steel      2\n",
       "111           7  ground      2\n",
       "112           7   fairy      1\n",
       "113           7    dark      1\n",
       "\n",
       "[114 rows x 3 columns]"
      ]
     },
     "execution_count": 94,
     "metadata": {},
     "output_type": "execute_result"
    }
   ],
   "source": [
    "df_raw = pd.read_csv(\"data/pokemon.csv\")\n",
    "df_generation_type = df_raw.groupby('generation')['type1'].value_counts().reset_index()\n",
    "df_generation_type"
   ]
  },
  {
   "cell_type": "code",
   "execution_count": 93,
   "metadata": {},
   "outputs": [
    {
     "data": {
      "text/html": [
       "\n",
       "<style>\n",
       "  #altair-viz-acbc9452faf34d92ac30e8a35769b224.vega-embed {\n",
       "    width: 100%;\n",
       "    display: flex;\n",
       "  }\n",
       "\n",
       "  #altair-viz-acbc9452faf34d92ac30e8a35769b224.vega-embed details,\n",
       "  #altair-viz-acbc9452faf34d92ac30e8a35769b224.vega-embed details summary {\n",
       "    position: relative;\n",
       "  }\n",
       "</style>\n",
       "<div id=\"altair-viz-acbc9452faf34d92ac30e8a35769b224\"></div>\n",
       "<script type=\"text/javascript\">\n",
       "  var VEGA_DEBUG = (typeof VEGA_DEBUG == \"undefined\") ? {} : VEGA_DEBUG;\n",
       "  (function(spec, embedOpt){\n",
       "    let outputDiv = document.currentScript.previousElementSibling;\n",
       "    if (outputDiv.id !== \"altair-viz-acbc9452faf34d92ac30e8a35769b224\") {\n",
       "      outputDiv = document.getElementById(\"altair-viz-acbc9452faf34d92ac30e8a35769b224\");\n",
       "    }\n",
       "\n",
       "    const paths = {\n",
       "      \"vega\": \"https://cdn.jsdelivr.net/npm/vega@5?noext\",\n",
       "      \"vega-lib\": \"https://cdn.jsdelivr.net/npm/vega-lib?noext\",\n",
       "      \"vega-lite\": \"https://cdn.jsdelivr.net/npm/vega-lite@5.20.1?noext\",\n",
       "      \"vega-embed\": \"https://cdn.jsdelivr.net/npm/vega-embed@6?noext\",\n",
       "    };\n",
       "\n",
       "    function maybeLoadScript(lib, version) {\n",
       "      var key = `${lib.replace(\"-\", \"\")}_version`;\n",
       "      return (VEGA_DEBUG[key] == version) ?\n",
       "        Promise.resolve(paths[lib]) :\n",
       "        new Promise(function(resolve, reject) {\n",
       "          var s = document.createElement('script');\n",
       "          document.getElementsByTagName(\"head\")[0].appendChild(s);\n",
       "          s.async = true;\n",
       "          s.onload = () => {\n",
       "            VEGA_DEBUG[key] = version;\n",
       "            return resolve(paths[lib]);\n",
       "          };\n",
       "          s.onerror = () => reject(`Error loading script: ${paths[lib]}`);\n",
       "          s.src = paths[lib];\n",
       "        });\n",
       "    }\n",
       "\n",
       "    function showError(err) {\n",
       "      outputDiv.innerHTML = `<div class=\"error\" style=\"color:red;\">${err}</div>`;\n",
       "      throw err;\n",
       "    }\n",
       "\n",
       "    function displayChart(vegaEmbed) {\n",
       "      vegaEmbed(outputDiv, spec, embedOpt)\n",
       "        .catch(err => showError(`Javascript Error: ${err.message}<br>This usually means there's a typo in your chart specification. See the javascript console for the full traceback.`));\n",
       "    }\n",
       "\n",
       "    if(typeof define === \"function\" && define.amd) {\n",
       "      requirejs.config({paths});\n",
       "      let deps = [\"vega-embed\"];\n",
       "      require(deps, displayChart, err => showError(`Error loading script: ${err.message}`));\n",
       "    } else {\n",
       "      maybeLoadScript(\"vega\", \"5\")\n",
       "        .then(() => maybeLoadScript(\"vega-lite\", \"5.20.1\"))\n",
       "        .then(() => maybeLoadScript(\"vega-embed\", \"6\"))\n",
       "        .catch(showError)\n",
       "        .then(() => displayChart(vegaEmbed));\n",
       "    }\n",
       "  })({\"config\": {\"view\": {\"continuousWidth\": 300, \"continuousHeight\": 300}}, \"data\": {\"name\": \"data-58580f079e78d2ecf11da8f9bbaf431e\"}, \"mark\": {\"type\": \"bar\"}, \"encoding\": {\"color\": {\"field\": \"type1\", \"scale\": {\"scheme\": \"blueorange\"}, \"type\": \"nominal\"}, \"x\": {\"field\": \"count\", \"type\": \"quantitative\"}, \"y\": {\"field\": \"generation\", \"type\": \"nominal\"}}, \"$schema\": \"https://vega.github.io/schema/vega-lite/v5.20.1.json\", \"datasets\": {\"data-58580f079e78d2ecf11da8f9bbaf431e\": [{\"generation\": 1, \"type1\": \"water\", \"count\": 28}, {\"generation\": 1, \"type1\": \"normal\", \"count\": 22}, {\"generation\": 1, \"type1\": \"poison\", \"count\": 14}, {\"generation\": 1, \"type1\": \"bug\", \"count\": 12}, {\"generation\": 1, \"type1\": \"grass\", \"count\": 12}, {\"generation\": 1, \"type1\": \"fire\", \"count\": 12}, {\"generation\": 1, \"type1\": \"electric\", \"count\": 9}, {\"generation\": 1, \"type1\": \"rock\", \"count\": 9}, {\"generation\": 1, \"type1\": \"psychic\", \"count\": 8}, {\"generation\": 1, \"type1\": \"ground\", \"count\": 8}, {\"generation\": 1, \"type1\": \"fighting\", \"count\": 7}, {\"generation\": 1, \"type1\": \"ghost\", \"count\": 3}, {\"generation\": 1, \"type1\": \"dragon\", \"count\": 3}, {\"generation\": 1, \"type1\": \"ice\", \"count\": 2}, {\"generation\": 1, \"type1\": \"fairy\", \"count\": 2}, {\"generation\": 2, \"type1\": \"water\", \"count\": 18}, {\"generation\": 2, \"type1\": \"normal\", \"count\": 15}, {\"generation\": 2, \"type1\": \"bug\", \"count\": 10}, {\"generation\": 2, \"type1\": \"grass\", \"count\": 9}, {\"generation\": 2, \"type1\": \"fire\", \"count\": 8}, {\"generation\": 2, \"type1\": \"psychic\", \"count\": 7}, {\"generation\": 2, \"type1\": \"electric\", \"count\": 6}, {\"generation\": 2, \"type1\": \"dark\", \"count\": 5}, {\"generation\": 2, \"type1\": \"fairy\", \"count\": 5}, {\"generation\": 2, \"type1\": \"ice\", \"count\": 4}, {\"generation\": 2, \"type1\": \"rock\", \"count\": 4}, {\"generation\": 2, \"type1\": \"ground\", \"count\": 3}, {\"generation\": 2, \"type1\": \"steel\", \"count\": 2}, {\"generation\": 2, \"type1\": \"fighting\", \"count\": 2}, {\"generation\": 2, \"type1\": \"ghost\", \"count\": 1}, {\"generation\": 2, \"type1\": \"poison\", \"count\": 1}, {\"generation\": 3, \"type1\": \"water\", \"count\": 24}, {\"generation\": 3, \"type1\": \"normal\", \"count\": 18}, {\"generation\": 3, \"type1\": \"grass\", \"count\": 12}, {\"generation\": 3, \"type1\": \"bug\", \"count\": 12}, {\"generation\": 3, \"type1\": \"steel\", \"count\": 9}, {\"generation\": 3, \"type1\": \"rock\", \"count\": 8}, {\"generation\": 3, \"type1\": \"psychic\", \"count\": 8}, {\"generation\": 3, \"type1\": \"dragon\", \"count\": 7}, {\"generation\": 3, \"type1\": \"ground\", \"count\": 6}, {\"generation\": 3, \"type1\": \"ice\", \"count\": 6}, {\"generation\": 3, \"type1\": \"fire\", \"count\": 6}, {\"generation\": 3, \"type1\": \"fighting\", \"count\": 4}, {\"generation\": 3, \"type1\": \"dark\", \"count\": 4}, {\"generation\": 3, \"type1\": \"ghost\", \"count\": 4}, {\"generation\": 3, \"type1\": \"electric\", \"count\": 4}, {\"generation\": 3, \"type1\": \"poison\", \"count\": 3}, {\"generation\": 4, \"type1\": \"normal\", \"count\": 17}, {\"generation\": 4, \"type1\": \"grass\", \"count\": 13}, {\"generation\": 4, \"type1\": \"water\", \"count\": 13}, {\"generation\": 4, \"type1\": \"bug\", \"count\": 8}, {\"generation\": 4, \"type1\": \"psychic\", \"count\": 7}, {\"generation\": 4, \"type1\": \"electric\", \"count\": 7}, {\"generation\": 4, \"type1\": \"rock\", \"count\": 6}, {\"generation\": 4, \"type1\": \"poison\", \"count\": 6}, {\"generation\": 4, \"type1\": \"ghost\", \"count\": 6}, {\"generation\": 4, \"type1\": \"fire\", \"count\": 5}, {\"generation\": 4, \"type1\": \"ground\", \"count\": 4}, {\"generation\": 4, \"type1\": \"ice\", \"count\": 3}, {\"generation\": 4, \"type1\": \"steel\", \"count\": 3}, {\"generation\": 4, \"type1\": \"dark\", \"count\": 3}, {\"generation\": 4, \"type1\": \"dragon\", \"count\": 3}, {\"generation\": 4, \"type1\": \"fighting\", \"count\": 2}, {\"generation\": 4, \"type1\": \"fairy\", \"count\": 1}, {\"generation\": 5, \"type1\": \"bug\", \"count\": 18}, {\"generation\": 5, \"type1\": \"normal\", \"count\": 17}, {\"generation\": 5, \"type1\": \"water\", \"count\": 17}, {\"generation\": 5, \"type1\": \"grass\", \"count\": 15}, {\"generation\": 5, \"type1\": \"psychic\", \"count\": 14}, {\"generation\": 5, \"type1\": \"dark\", \"count\": 13}, {\"generation\": 5, \"type1\": \"ground\", \"count\": 9}, {\"generation\": 5, \"type1\": \"fire\", \"count\": 8}, {\"generation\": 5, \"type1\": \"electric\", \"count\": 7}, {\"generation\": 5, \"type1\": \"dragon\", \"count\": 7}, {\"generation\": 5, \"type1\": \"fighting\", \"count\": 7}, {\"generation\": 5, \"type1\": \"rock\", \"count\": 6}, {\"generation\": 5, \"type1\": \"ice\", \"count\": 6}, {\"generation\": 5, \"type1\": \"ghost\", \"count\": 5}, {\"generation\": 5, \"type1\": \"steel\", \"count\": 4}, {\"generation\": 5, \"type1\": \"poison\", \"count\": 2}, {\"generation\": 5, \"type1\": \"flying\", \"count\": 1}, {\"generation\": 6, \"type1\": \"fairy\", \"count\": 9}, {\"generation\": 6, \"type1\": \"fire\", \"count\": 8}, {\"generation\": 6, \"type1\": \"rock\", \"count\": 8}, {\"generation\": 6, \"type1\": \"water\", \"count\": 5}, {\"generation\": 6, \"type1\": \"grass\", \"count\": 5}, {\"generation\": 6, \"type1\": \"normal\", \"count\": 4}, {\"generation\": 6, \"type1\": \"steel\", \"count\": 4}, {\"generation\": 6, \"type1\": \"dragon\", \"count\": 4}, {\"generation\": 6, \"type1\": \"ghost\", \"count\": 4}, {\"generation\": 6, \"type1\": \"fighting\", \"count\": 3}, {\"generation\": 6, \"type1\": \"psychic\", \"count\": 3}, {\"generation\": 6, \"type1\": \"electric\", \"count\": 3}, {\"generation\": 6, \"type1\": \"dark\", \"count\": 3}, {\"generation\": 6, \"type1\": \"bug\", \"count\": 3}, {\"generation\": 6, \"type1\": \"ice\", \"count\": 2}, {\"generation\": 6, \"type1\": \"flying\", \"count\": 2}, {\"generation\": 6, \"type1\": \"poison\", \"count\": 2}, {\"generation\": 7, \"type1\": \"grass\", \"count\": 12}, {\"generation\": 7, \"type1\": \"normal\", \"count\": 12}, {\"generation\": 7, \"type1\": \"bug\", \"count\": 9}, {\"generation\": 7, \"type1\": \"water\", \"count\": 9}, {\"generation\": 7, \"type1\": \"psychic\", \"count\": 6}, {\"generation\": 7, \"type1\": \"fire\", \"count\": 5}, {\"generation\": 7, \"type1\": \"rock\", \"count\": 4}, {\"generation\": 7, \"type1\": \"ghost\", \"count\": 4}, {\"generation\": 7, \"type1\": \"poison\", \"count\": 4}, {\"generation\": 7, \"type1\": \"fighting\", \"count\": 3}, {\"generation\": 7, \"type1\": \"electric\", \"count\": 3}, {\"generation\": 7, \"type1\": \"dragon\", \"count\": 3}, {\"generation\": 7, \"type1\": \"steel\", \"count\": 2}, {\"generation\": 7, \"type1\": \"ground\", \"count\": 2}, {\"generation\": 7, \"type1\": \"fairy\", \"count\": 1}, {\"generation\": 7, \"type1\": \"dark\", \"count\": 1}]}}, {\"mode\": \"vega-lite\"});\n",
       "</script>"
      ],
      "text/plain": [
       "alt.Chart(...)"
      ]
     },
     "execution_count": 93,
     "metadata": {},
     "output_type": "execute_result"
    }
   ],
   "source": [
    "alt.Chart(df_generation_type).mark_bar().encode(\n",
    "    x = 'count', \n",
    "    y = 'generation:N',\n",
    "    color = alt.Color('type1:N').scale(scheme = 'blueorange')\n",
    ")"
   ]
  },
  {
   "cell_type": "markdown",
   "metadata": {},
   "source": [
    "4. Kehre den Plot um und plotte \n",
    "* X-Achse: count, \n",
    "* Y-Achse: type1\n",
    "* Farbe: generation\n",
    "\n",
    "5. Sortiere die Y-Achse absteigend nach den Werten der X-Achse"
   ]
  },
  {
   "cell_type": "code",
   "execution_count": 99,
   "metadata": {},
   "outputs": [
    {
     "data": {
      "text/html": [
       "\n",
       "<style>\n",
       "  #altair-viz-9f04ff109feb4c858bfa14ebcf6f8fd3.vega-embed {\n",
       "    width: 100%;\n",
       "    display: flex;\n",
       "  }\n",
       "\n",
       "  #altair-viz-9f04ff109feb4c858bfa14ebcf6f8fd3.vega-embed details,\n",
       "  #altair-viz-9f04ff109feb4c858bfa14ebcf6f8fd3.vega-embed details summary {\n",
       "    position: relative;\n",
       "  }\n",
       "</style>\n",
       "<div id=\"altair-viz-9f04ff109feb4c858bfa14ebcf6f8fd3\"></div>\n",
       "<script type=\"text/javascript\">\n",
       "  var VEGA_DEBUG = (typeof VEGA_DEBUG == \"undefined\") ? {} : VEGA_DEBUG;\n",
       "  (function(spec, embedOpt){\n",
       "    let outputDiv = document.currentScript.previousElementSibling;\n",
       "    if (outputDiv.id !== \"altair-viz-9f04ff109feb4c858bfa14ebcf6f8fd3\") {\n",
       "      outputDiv = document.getElementById(\"altair-viz-9f04ff109feb4c858bfa14ebcf6f8fd3\");\n",
       "    }\n",
       "\n",
       "    const paths = {\n",
       "      \"vega\": \"https://cdn.jsdelivr.net/npm/vega@5?noext\",\n",
       "      \"vega-lib\": \"https://cdn.jsdelivr.net/npm/vega-lib?noext\",\n",
       "      \"vega-lite\": \"https://cdn.jsdelivr.net/npm/vega-lite@5.20.1?noext\",\n",
       "      \"vega-embed\": \"https://cdn.jsdelivr.net/npm/vega-embed@6?noext\",\n",
       "    };\n",
       "\n",
       "    function maybeLoadScript(lib, version) {\n",
       "      var key = `${lib.replace(\"-\", \"\")}_version`;\n",
       "      return (VEGA_DEBUG[key] == version) ?\n",
       "        Promise.resolve(paths[lib]) :\n",
       "        new Promise(function(resolve, reject) {\n",
       "          var s = document.createElement('script');\n",
       "          document.getElementsByTagName(\"head\")[0].appendChild(s);\n",
       "          s.async = true;\n",
       "          s.onload = () => {\n",
       "            VEGA_DEBUG[key] = version;\n",
       "            return resolve(paths[lib]);\n",
       "          };\n",
       "          s.onerror = () => reject(`Error loading script: ${paths[lib]}`);\n",
       "          s.src = paths[lib];\n",
       "        });\n",
       "    }\n",
       "\n",
       "    function showError(err) {\n",
       "      outputDiv.innerHTML = `<div class=\"error\" style=\"color:red;\">${err}</div>`;\n",
       "      throw err;\n",
       "    }\n",
       "\n",
       "    function displayChart(vegaEmbed) {\n",
       "      vegaEmbed(outputDiv, spec, embedOpt)\n",
       "        .catch(err => showError(`Javascript Error: ${err.message}<br>This usually means there's a typo in your chart specification. See the javascript console for the full traceback.`));\n",
       "    }\n",
       "\n",
       "    if(typeof define === \"function\" && define.amd) {\n",
       "      requirejs.config({paths});\n",
       "      let deps = [\"vega-embed\"];\n",
       "      require(deps, displayChart, err => showError(`Error loading script: ${err.message}`));\n",
       "    } else {\n",
       "      maybeLoadScript(\"vega\", \"5\")\n",
       "        .then(() => maybeLoadScript(\"vega-lite\", \"5.20.1\"))\n",
       "        .then(() => maybeLoadScript(\"vega-embed\", \"6\"))\n",
       "        .catch(showError)\n",
       "        .then(() => displayChart(vegaEmbed));\n",
       "    }\n",
       "  })({\"config\": {\"view\": {\"continuousWidth\": 300, \"continuousHeight\": 300}}, \"data\": {\"name\": \"data-58580f079e78d2ecf11da8f9bbaf431e\"}, \"mark\": {\"type\": \"bar\"}, \"encoding\": {\"color\": {\"field\": \"generation\", \"scale\": {\"scheme\": \"blueorange\"}, \"type\": \"quantitative\"}, \"x\": {\"field\": \"count\", \"type\": \"quantitative\"}, \"y\": {\"field\": \"type1\", \"sort\": \"-x\", \"type\": \"nominal\"}}, \"$schema\": \"https://vega.github.io/schema/vega-lite/v5.20.1.json\", \"datasets\": {\"data-58580f079e78d2ecf11da8f9bbaf431e\": [{\"generation\": 1, \"type1\": \"water\", \"count\": 28}, {\"generation\": 1, \"type1\": \"normal\", \"count\": 22}, {\"generation\": 1, \"type1\": \"poison\", \"count\": 14}, {\"generation\": 1, \"type1\": \"bug\", \"count\": 12}, {\"generation\": 1, \"type1\": \"grass\", \"count\": 12}, {\"generation\": 1, \"type1\": \"fire\", \"count\": 12}, {\"generation\": 1, \"type1\": \"electric\", \"count\": 9}, {\"generation\": 1, \"type1\": \"rock\", \"count\": 9}, {\"generation\": 1, \"type1\": \"psychic\", \"count\": 8}, {\"generation\": 1, \"type1\": \"ground\", \"count\": 8}, {\"generation\": 1, \"type1\": \"fighting\", \"count\": 7}, {\"generation\": 1, \"type1\": \"ghost\", \"count\": 3}, {\"generation\": 1, \"type1\": \"dragon\", \"count\": 3}, {\"generation\": 1, \"type1\": \"ice\", \"count\": 2}, {\"generation\": 1, \"type1\": \"fairy\", \"count\": 2}, {\"generation\": 2, \"type1\": \"water\", \"count\": 18}, {\"generation\": 2, \"type1\": \"normal\", \"count\": 15}, {\"generation\": 2, \"type1\": \"bug\", \"count\": 10}, {\"generation\": 2, \"type1\": \"grass\", \"count\": 9}, {\"generation\": 2, \"type1\": \"fire\", \"count\": 8}, {\"generation\": 2, \"type1\": \"psychic\", \"count\": 7}, {\"generation\": 2, \"type1\": \"electric\", \"count\": 6}, {\"generation\": 2, \"type1\": \"dark\", \"count\": 5}, {\"generation\": 2, \"type1\": \"fairy\", \"count\": 5}, {\"generation\": 2, \"type1\": \"ice\", \"count\": 4}, {\"generation\": 2, \"type1\": \"rock\", \"count\": 4}, {\"generation\": 2, \"type1\": \"ground\", \"count\": 3}, {\"generation\": 2, \"type1\": \"steel\", \"count\": 2}, {\"generation\": 2, \"type1\": \"fighting\", \"count\": 2}, {\"generation\": 2, \"type1\": \"ghost\", \"count\": 1}, {\"generation\": 2, \"type1\": \"poison\", \"count\": 1}, {\"generation\": 3, \"type1\": \"water\", \"count\": 24}, {\"generation\": 3, \"type1\": \"normal\", \"count\": 18}, {\"generation\": 3, \"type1\": \"grass\", \"count\": 12}, {\"generation\": 3, \"type1\": \"bug\", \"count\": 12}, {\"generation\": 3, \"type1\": \"steel\", \"count\": 9}, {\"generation\": 3, \"type1\": \"rock\", \"count\": 8}, {\"generation\": 3, \"type1\": \"psychic\", \"count\": 8}, {\"generation\": 3, \"type1\": \"dragon\", \"count\": 7}, {\"generation\": 3, \"type1\": \"ground\", \"count\": 6}, {\"generation\": 3, \"type1\": \"ice\", \"count\": 6}, {\"generation\": 3, \"type1\": \"fire\", \"count\": 6}, {\"generation\": 3, \"type1\": \"fighting\", \"count\": 4}, {\"generation\": 3, \"type1\": \"dark\", \"count\": 4}, {\"generation\": 3, \"type1\": \"ghost\", \"count\": 4}, {\"generation\": 3, \"type1\": \"electric\", \"count\": 4}, {\"generation\": 3, \"type1\": \"poison\", \"count\": 3}, {\"generation\": 4, \"type1\": \"normal\", \"count\": 17}, {\"generation\": 4, \"type1\": \"grass\", \"count\": 13}, {\"generation\": 4, \"type1\": \"water\", \"count\": 13}, {\"generation\": 4, \"type1\": \"bug\", \"count\": 8}, {\"generation\": 4, \"type1\": \"psychic\", \"count\": 7}, {\"generation\": 4, \"type1\": \"electric\", \"count\": 7}, {\"generation\": 4, \"type1\": \"rock\", \"count\": 6}, {\"generation\": 4, \"type1\": \"poison\", \"count\": 6}, {\"generation\": 4, \"type1\": \"ghost\", \"count\": 6}, {\"generation\": 4, \"type1\": \"fire\", \"count\": 5}, {\"generation\": 4, \"type1\": \"ground\", \"count\": 4}, {\"generation\": 4, \"type1\": \"ice\", \"count\": 3}, {\"generation\": 4, \"type1\": \"steel\", \"count\": 3}, {\"generation\": 4, \"type1\": \"dark\", \"count\": 3}, {\"generation\": 4, \"type1\": \"dragon\", \"count\": 3}, {\"generation\": 4, \"type1\": \"fighting\", \"count\": 2}, {\"generation\": 4, \"type1\": \"fairy\", \"count\": 1}, {\"generation\": 5, \"type1\": \"bug\", \"count\": 18}, {\"generation\": 5, \"type1\": \"normal\", \"count\": 17}, {\"generation\": 5, \"type1\": \"water\", \"count\": 17}, {\"generation\": 5, \"type1\": \"grass\", \"count\": 15}, {\"generation\": 5, \"type1\": \"psychic\", \"count\": 14}, {\"generation\": 5, \"type1\": \"dark\", \"count\": 13}, {\"generation\": 5, \"type1\": \"ground\", \"count\": 9}, {\"generation\": 5, \"type1\": \"fire\", \"count\": 8}, {\"generation\": 5, \"type1\": \"electric\", \"count\": 7}, {\"generation\": 5, \"type1\": \"dragon\", \"count\": 7}, {\"generation\": 5, \"type1\": \"fighting\", \"count\": 7}, {\"generation\": 5, \"type1\": \"rock\", \"count\": 6}, {\"generation\": 5, \"type1\": \"ice\", \"count\": 6}, {\"generation\": 5, \"type1\": \"ghost\", \"count\": 5}, {\"generation\": 5, \"type1\": \"steel\", \"count\": 4}, {\"generation\": 5, \"type1\": \"poison\", \"count\": 2}, {\"generation\": 5, \"type1\": \"flying\", \"count\": 1}, {\"generation\": 6, \"type1\": \"fairy\", \"count\": 9}, {\"generation\": 6, \"type1\": \"fire\", \"count\": 8}, {\"generation\": 6, \"type1\": \"rock\", \"count\": 8}, {\"generation\": 6, \"type1\": \"water\", \"count\": 5}, {\"generation\": 6, \"type1\": \"grass\", \"count\": 5}, {\"generation\": 6, \"type1\": \"normal\", \"count\": 4}, {\"generation\": 6, \"type1\": \"steel\", \"count\": 4}, {\"generation\": 6, \"type1\": \"dragon\", \"count\": 4}, {\"generation\": 6, \"type1\": \"ghost\", \"count\": 4}, {\"generation\": 6, \"type1\": \"fighting\", \"count\": 3}, {\"generation\": 6, \"type1\": \"psychic\", \"count\": 3}, {\"generation\": 6, \"type1\": \"electric\", \"count\": 3}, {\"generation\": 6, \"type1\": \"dark\", \"count\": 3}, {\"generation\": 6, \"type1\": \"bug\", \"count\": 3}, {\"generation\": 6, \"type1\": \"ice\", \"count\": 2}, {\"generation\": 6, \"type1\": \"flying\", \"count\": 2}, {\"generation\": 6, \"type1\": \"poison\", \"count\": 2}, {\"generation\": 7, \"type1\": \"grass\", \"count\": 12}, {\"generation\": 7, \"type1\": \"normal\", \"count\": 12}, {\"generation\": 7, \"type1\": \"bug\", \"count\": 9}, {\"generation\": 7, \"type1\": \"water\", \"count\": 9}, {\"generation\": 7, \"type1\": \"psychic\", \"count\": 6}, {\"generation\": 7, \"type1\": \"fire\", \"count\": 5}, {\"generation\": 7, \"type1\": \"rock\", \"count\": 4}, {\"generation\": 7, \"type1\": \"ghost\", \"count\": 4}, {\"generation\": 7, \"type1\": \"poison\", \"count\": 4}, {\"generation\": 7, \"type1\": \"fighting\", \"count\": 3}, {\"generation\": 7, \"type1\": \"electric\", \"count\": 3}, {\"generation\": 7, \"type1\": \"dragon\", \"count\": 3}, {\"generation\": 7, \"type1\": \"steel\", \"count\": 2}, {\"generation\": 7, \"type1\": \"ground\", \"count\": 2}, {\"generation\": 7, \"type1\": \"fairy\", \"count\": 1}, {\"generation\": 7, \"type1\": \"dark\", \"count\": 1}]}}, {\"mode\": \"vega-lite\"});\n",
       "</script>"
      ],
      "text/plain": [
       "alt.Chart(...)"
      ]
     },
     "execution_count": 99,
     "metadata": {},
     "output_type": "execute_result"
    }
   ],
   "source": [
    "alt.Chart(df_generation_type).mark_bar().encode(\n",
    "    x = 'count', \n",
    "    y = alt.Y('type1', sort='-x'),\n",
    "    color = alt.Color('generation').scale(scheme = 'blueorange')\n",
    ")"
   ]
  },
  {
   "cell_type": "markdown",
   "metadata": {},
   "source": [
    "6. Erstelle deine eigene Farbskala für den plot und färbe damit Generation 1-7 ein. <br>\n",
    "... Teste auch hier verschiedene Datentypen für die Farbe. "
   ]
  },
  {
   "cell_type": "code",
   "execution_count": 130,
   "metadata": {},
   "outputs": [],
   "source": [
    "domain = [1, 3.5, 7]\n",
    "range = ['lightgreen', 'orange', 'purple']"
   ]
  },
  {
   "cell_type": "code",
   "execution_count": 131,
   "metadata": {},
   "outputs": [
    {
     "data": {
      "text/html": [
       "\n",
       "<style>\n",
       "  #altair-viz-594dbada76364599ac1ae452cb9f4df8.vega-embed {\n",
       "    width: 100%;\n",
       "    display: flex;\n",
       "  }\n",
       "\n",
       "  #altair-viz-594dbada76364599ac1ae452cb9f4df8.vega-embed details,\n",
       "  #altair-viz-594dbada76364599ac1ae452cb9f4df8.vega-embed details summary {\n",
       "    position: relative;\n",
       "  }\n",
       "</style>\n",
       "<div id=\"altair-viz-594dbada76364599ac1ae452cb9f4df8\"></div>\n",
       "<script type=\"text/javascript\">\n",
       "  var VEGA_DEBUG = (typeof VEGA_DEBUG == \"undefined\") ? {} : VEGA_DEBUG;\n",
       "  (function(spec, embedOpt){\n",
       "    let outputDiv = document.currentScript.previousElementSibling;\n",
       "    if (outputDiv.id !== \"altair-viz-594dbada76364599ac1ae452cb9f4df8\") {\n",
       "      outputDiv = document.getElementById(\"altair-viz-594dbada76364599ac1ae452cb9f4df8\");\n",
       "    }\n",
       "\n",
       "    const paths = {\n",
       "      \"vega\": \"https://cdn.jsdelivr.net/npm/vega@5?noext\",\n",
       "      \"vega-lib\": \"https://cdn.jsdelivr.net/npm/vega-lib?noext\",\n",
       "      \"vega-lite\": \"https://cdn.jsdelivr.net/npm/vega-lite@5.20.1?noext\",\n",
       "      \"vega-embed\": \"https://cdn.jsdelivr.net/npm/vega-embed@6?noext\",\n",
       "    };\n",
       "\n",
       "    function maybeLoadScript(lib, version) {\n",
       "      var key = `${lib.replace(\"-\", \"\")}_version`;\n",
       "      return (VEGA_DEBUG[key] == version) ?\n",
       "        Promise.resolve(paths[lib]) :\n",
       "        new Promise(function(resolve, reject) {\n",
       "          var s = document.createElement('script');\n",
       "          document.getElementsByTagName(\"head\")[0].appendChild(s);\n",
       "          s.async = true;\n",
       "          s.onload = () => {\n",
       "            VEGA_DEBUG[key] = version;\n",
       "            return resolve(paths[lib]);\n",
       "          };\n",
       "          s.onerror = () => reject(`Error loading script: ${paths[lib]}`);\n",
       "          s.src = paths[lib];\n",
       "        });\n",
       "    }\n",
       "\n",
       "    function showError(err) {\n",
       "      outputDiv.innerHTML = `<div class=\"error\" style=\"color:red;\">${err}</div>`;\n",
       "      throw err;\n",
       "    }\n",
       "\n",
       "    function displayChart(vegaEmbed) {\n",
       "      vegaEmbed(outputDiv, spec, embedOpt)\n",
       "        .catch(err => showError(`Javascript Error: ${err.message}<br>This usually means there's a typo in your chart specification. See the javascript console for the full traceback.`));\n",
       "    }\n",
       "\n",
       "    if(typeof define === \"function\" && define.amd) {\n",
       "      requirejs.config({paths});\n",
       "      let deps = [\"vega-embed\"];\n",
       "      require(deps, displayChart, err => showError(`Error loading script: ${err.message}`));\n",
       "    } else {\n",
       "      maybeLoadScript(\"vega\", \"5\")\n",
       "        .then(() => maybeLoadScript(\"vega-lite\", \"5.20.1\"))\n",
       "        .then(() => maybeLoadScript(\"vega-embed\", \"6\"))\n",
       "        .catch(showError)\n",
       "        .then(() => displayChart(vegaEmbed));\n",
       "    }\n",
       "  })({\"config\": {\"view\": {\"continuousWidth\": 300, \"continuousHeight\": 300}}, \"data\": {\"name\": \"data-58580f079e78d2ecf11da8f9bbaf431e\"}, \"mark\": {\"type\": \"bar\"}, \"encoding\": {\"color\": {\"field\": \"generation\", \"scale\": {\"domain\": [1, 3.5, 7], \"range\": [\"lightgreen\", \"orange\", \"purple\"]}, \"type\": \"quantitative\"}, \"x\": {\"field\": \"count\", \"type\": \"quantitative\"}, \"y\": {\"field\": \"type1\", \"sort\": \"-x\", \"type\": \"nominal\"}}, \"$schema\": \"https://vega.github.io/schema/vega-lite/v5.20.1.json\", \"datasets\": {\"data-58580f079e78d2ecf11da8f9bbaf431e\": [{\"generation\": 1, \"type1\": \"water\", \"count\": 28}, {\"generation\": 1, \"type1\": \"normal\", \"count\": 22}, {\"generation\": 1, \"type1\": \"poison\", \"count\": 14}, {\"generation\": 1, \"type1\": \"bug\", \"count\": 12}, {\"generation\": 1, \"type1\": \"grass\", \"count\": 12}, {\"generation\": 1, \"type1\": \"fire\", \"count\": 12}, {\"generation\": 1, \"type1\": \"electric\", \"count\": 9}, {\"generation\": 1, \"type1\": \"rock\", \"count\": 9}, {\"generation\": 1, \"type1\": \"psychic\", \"count\": 8}, {\"generation\": 1, \"type1\": \"ground\", \"count\": 8}, {\"generation\": 1, \"type1\": \"fighting\", \"count\": 7}, {\"generation\": 1, \"type1\": \"ghost\", \"count\": 3}, {\"generation\": 1, \"type1\": \"dragon\", \"count\": 3}, {\"generation\": 1, \"type1\": \"ice\", \"count\": 2}, {\"generation\": 1, \"type1\": \"fairy\", \"count\": 2}, {\"generation\": 2, \"type1\": \"water\", \"count\": 18}, {\"generation\": 2, \"type1\": \"normal\", \"count\": 15}, {\"generation\": 2, \"type1\": \"bug\", \"count\": 10}, {\"generation\": 2, \"type1\": \"grass\", \"count\": 9}, {\"generation\": 2, \"type1\": \"fire\", \"count\": 8}, {\"generation\": 2, \"type1\": \"psychic\", \"count\": 7}, {\"generation\": 2, \"type1\": \"electric\", \"count\": 6}, {\"generation\": 2, \"type1\": \"dark\", \"count\": 5}, {\"generation\": 2, \"type1\": \"fairy\", \"count\": 5}, {\"generation\": 2, \"type1\": \"ice\", \"count\": 4}, {\"generation\": 2, \"type1\": \"rock\", \"count\": 4}, {\"generation\": 2, \"type1\": \"ground\", \"count\": 3}, {\"generation\": 2, \"type1\": \"steel\", \"count\": 2}, {\"generation\": 2, \"type1\": \"fighting\", \"count\": 2}, {\"generation\": 2, \"type1\": \"ghost\", \"count\": 1}, {\"generation\": 2, \"type1\": \"poison\", \"count\": 1}, {\"generation\": 3, \"type1\": \"water\", \"count\": 24}, {\"generation\": 3, \"type1\": \"normal\", \"count\": 18}, {\"generation\": 3, \"type1\": \"grass\", \"count\": 12}, {\"generation\": 3, \"type1\": \"bug\", \"count\": 12}, {\"generation\": 3, \"type1\": \"steel\", \"count\": 9}, {\"generation\": 3, \"type1\": \"rock\", \"count\": 8}, {\"generation\": 3, \"type1\": \"psychic\", \"count\": 8}, {\"generation\": 3, \"type1\": \"dragon\", \"count\": 7}, {\"generation\": 3, \"type1\": \"ground\", \"count\": 6}, {\"generation\": 3, \"type1\": \"ice\", \"count\": 6}, {\"generation\": 3, \"type1\": \"fire\", \"count\": 6}, {\"generation\": 3, \"type1\": \"fighting\", \"count\": 4}, {\"generation\": 3, \"type1\": \"dark\", \"count\": 4}, {\"generation\": 3, \"type1\": \"ghost\", \"count\": 4}, {\"generation\": 3, \"type1\": \"electric\", \"count\": 4}, {\"generation\": 3, \"type1\": \"poison\", \"count\": 3}, {\"generation\": 4, \"type1\": \"normal\", \"count\": 17}, {\"generation\": 4, \"type1\": \"grass\", \"count\": 13}, {\"generation\": 4, \"type1\": \"water\", \"count\": 13}, {\"generation\": 4, \"type1\": \"bug\", \"count\": 8}, {\"generation\": 4, \"type1\": \"psychic\", \"count\": 7}, {\"generation\": 4, \"type1\": \"electric\", \"count\": 7}, {\"generation\": 4, \"type1\": \"rock\", \"count\": 6}, {\"generation\": 4, \"type1\": \"poison\", \"count\": 6}, {\"generation\": 4, \"type1\": \"ghost\", \"count\": 6}, {\"generation\": 4, \"type1\": \"fire\", \"count\": 5}, {\"generation\": 4, \"type1\": \"ground\", \"count\": 4}, {\"generation\": 4, \"type1\": \"ice\", \"count\": 3}, {\"generation\": 4, \"type1\": \"steel\", \"count\": 3}, {\"generation\": 4, \"type1\": \"dark\", \"count\": 3}, {\"generation\": 4, \"type1\": \"dragon\", \"count\": 3}, {\"generation\": 4, \"type1\": \"fighting\", \"count\": 2}, {\"generation\": 4, \"type1\": \"fairy\", \"count\": 1}, {\"generation\": 5, \"type1\": \"bug\", \"count\": 18}, {\"generation\": 5, \"type1\": \"normal\", \"count\": 17}, {\"generation\": 5, \"type1\": \"water\", \"count\": 17}, {\"generation\": 5, \"type1\": \"grass\", \"count\": 15}, {\"generation\": 5, \"type1\": \"psychic\", \"count\": 14}, {\"generation\": 5, \"type1\": \"dark\", \"count\": 13}, {\"generation\": 5, \"type1\": \"ground\", \"count\": 9}, {\"generation\": 5, \"type1\": \"fire\", \"count\": 8}, {\"generation\": 5, \"type1\": \"electric\", \"count\": 7}, {\"generation\": 5, \"type1\": \"dragon\", \"count\": 7}, {\"generation\": 5, \"type1\": \"fighting\", \"count\": 7}, {\"generation\": 5, \"type1\": \"rock\", \"count\": 6}, {\"generation\": 5, \"type1\": \"ice\", \"count\": 6}, {\"generation\": 5, \"type1\": \"ghost\", \"count\": 5}, {\"generation\": 5, \"type1\": \"steel\", \"count\": 4}, {\"generation\": 5, \"type1\": \"poison\", \"count\": 2}, {\"generation\": 5, \"type1\": \"flying\", \"count\": 1}, {\"generation\": 6, \"type1\": \"fairy\", \"count\": 9}, {\"generation\": 6, \"type1\": \"fire\", \"count\": 8}, {\"generation\": 6, \"type1\": \"rock\", \"count\": 8}, {\"generation\": 6, \"type1\": \"water\", \"count\": 5}, {\"generation\": 6, \"type1\": \"grass\", \"count\": 5}, {\"generation\": 6, \"type1\": \"normal\", \"count\": 4}, {\"generation\": 6, \"type1\": \"steel\", \"count\": 4}, {\"generation\": 6, \"type1\": \"dragon\", \"count\": 4}, {\"generation\": 6, \"type1\": \"ghost\", \"count\": 4}, {\"generation\": 6, \"type1\": \"fighting\", \"count\": 3}, {\"generation\": 6, \"type1\": \"psychic\", \"count\": 3}, {\"generation\": 6, \"type1\": \"electric\", \"count\": 3}, {\"generation\": 6, \"type1\": \"dark\", \"count\": 3}, {\"generation\": 6, \"type1\": \"bug\", \"count\": 3}, {\"generation\": 6, \"type1\": \"ice\", \"count\": 2}, {\"generation\": 6, \"type1\": \"flying\", \"count\": 2}, {\"generation\": 6, \"type1\": \"poison\", \"count\": 2}, {\"generation\": 7, \"type1\": \"grass\", \"count\": 12}, {\"generation\": 7, \"type1\": \"normal\", \"count\": 12}, {\"generation\": 7, \"type1\": \"bug\", \"count\": 9}, {\"generation\": 7, \"type1\": \"water\", \"count\": 9}, {\"generation\": 7, \"type1\": \"psychic\", \"count\": 6}, {\"generation\": 7, \"type1\": \"fire\", \"count\": 5}, {\"generation\": 7, \"type1\": \"rock\", \"count\": 4}, {\"generation\": 7, \"type1\": \"ghost\", \"count\": 4}, {\"generation\": 7, \"type1\": \"poison\", \"count\": 4}, {\"generation\": 7, \"type1\": \"fighting\", \"count\": 3}, {\"generation\": 7, \"type1\": \"electric\", \"count\": 3}, {\"generation\": 7, \"type1\": \"dragon\", \"count\": 3}, {\"generation\": 7, \"type1\": \"steel\", \"count\": 2}, {\"generation\": 7, \"type1\": \"ground\", \"count\": 2}, {\"generation\": 7, \"type1\": \"fairy\", \"count\": 1}, {\"generation\": 7, \"type1\": \"dark\", \"count\": 1}]}}, {\"mode\": \"vega-lite\"});\n",
       "</script>"
      ],
      "text/plain": [
       "alt.Chart(...)"
      ]
     },
     "execution_count": 131,
     "metadata": {},
     "output_type": "execute_result"
    }
   ],
   "source": [
    "alt.Chart(df_generation_type).mark_bar().encode(\n",
    "    x = 'count', \n",
    "    y = alt.Y('type1', sort='-x'),\n",
    "    color = alt.Color('generation:Q').scale(domain=domain, range = range)\n",
    ")"
   ]
  },
  {
   "cell_type": "code",
   "execution_count": null,
   "metadata": {},
   "outputs": [],
   "source": []
  },
  {
   "cell_type": "markdown",
   "metadata": {},
   "source": [
    "## Formatierung"
   ]
  },
  {
   "cell_type": "code",
   "execution_count": 132,
   "metadata": {},
   "outputs": [
    {
     "data": {
      "text/html": [
       "\n",
       "<style>\n",
       "  #altair-viz-b93d2ec39fed419895f0b4fc4cba0564.vega-embed {\n",
       "    width: 100%;\n",
       "    display: flex;\n",
       "  }\n",
       "\n",
       "  #altair-viz-b93d2ec39fed419895f0b4fc4cba0564.vega-embed details,\n",
       "  #altair-viz-b93d2ec39fed419895f0b4fc4cba0564.vega-embed details summary {\n",
       "    position: relative;\n",
       "  }\n",
       "</style>\n",
       "<div id=\"altair-viz-b93d2ec39fed419895f0b4fc4cba0564\"></div>\n",
       "<script type=\"text/javascript\">\n",
       "  var VEGA_DEBUG = (typeof VEGA_DEBUG == \"undefined\") ? {} : VEGA_DEBUG;\n",
       "  (function(spec, embedOpt){\n",
       "    let outputDiv = document.currentScript.previousElementSibling;\n",
       "    if (outputDiv.id !== \"altair-viz-b93d2ec39fed419895f0b4fc4cba0564\") {\n",
       "      outputDiv = document.getElementById(\"altair-viz-b93d2ec39fed419895f0b4fc4cba0564\");\n",
       "    }\n",
       "\n",
       "    const paths = {\n",
       "      \"vega\": \"https://cdn.jsdelivr.net/npm/vega@5?noext\",\n",
       "      \"vega-lib\": \"https://cdn.jsdelivr.net/npm/vega-lib?noext\",\n",
       "      \"vega-lite\": \"https://cdn.jsdelivr.net/npm/vega-lite@5.20.1?noext\",\n",
       "      \"vega-embed\": \"https://cdn.jsdelivr.net/npm/vega-embed@6?noext\",\n",
       "    };\n",
       "\n",
       "    function maybeLoadScript(lib, version) {\n",
       "      var key = `${lib.replace(\"-\", \"\")}_version`;\n",
       "      return (VEGA_DEBUG[key] == version) ?\n",
       "        Promise.resolve(paths[lib]) :\n",
       "        new Promise(function(resolve, reject) {\n",
       "          var s = document.createElement('script');\n",
       "          document.getElementsByTagName(\"head\")[0].appendChild(s);\n",
       "          s.async = true;\n",
       "          s.onload = () => {\n",
       "            VEGA_DEBUG[key] = version;\n",
       "            return resolve(paths[lib]);\n",
       "          };\n",
       "          s.onerror = () => reject(`Error loading script: ${paths[lib]}`);\n",
       "          s.src = paths[lib];\n",
       "        });\n",
       "    }\n",
       "\n",
       "    function showError(err) {\n",
       "      outputDiv.innerHTML = `<div class=\"error\" style=\"color:red;\">${err}</div>`;\n",
       "      throw err;\n",
       "    }\n",
       "\n",
       "    function displayChart(vegaEmbed) {\n",
       "      vegaEmbed(outputDiv, spec, embedOpt)\n",
       "        .catch(err => showError(`Javascript Error: ${err.message}<br>This usually means there's a typo in your chart specification. See the javascript console for the full traceback.`));\n",
       "    }\n",
       "\n",
       "    if(typeof define === \"function\" && define.amd) {\n",
       "      requirejs.config({paths});\n",
       "      let deps = [\"vega-embed\"];\n",
       "      require(deps, displayChart, err => showError(`Error loading script: ${err.message}`));\n",
       "    } else {\n",
       "      maybeLoadScript(\"vega\", \"5\")\n",
       "        .then(() => maybeLoadScript(\"vega-lite\", \"5.20.1\"))\n",
       "        .then(() => maybeLoadScript(\"vega-embed\", \"6\"))\n",
       "        .catch(showError)\n",
       "        .then(() => displayChart(vegaEmbed));\n",
       "    }\n",
       "  })({\"config\": {\"view\": {\"continuousWidth\": 300, \"continuousHeight\": 300}}, \"data\": {\"name\": \"data-58580f079e78d2ecf11da8f9bbaf431e\"}, \"mark\": {\"type\": \"bar\"}, \"encoding\": {\"color\": {\"field\": \"generation\", \"scale\": {\"domain\": [1, 3.5, 7], \"range\": [\"lightgreen\", \"orange\", \"purple\"]}, \"type\": \"quantitative\"}, \"x\": {\"field\": \"count\", \"type\": \"quantitative\"}, \"y\": {\"field\": \"type1\", \"sort\": \"-x\", \"type\": \"nominal\"}}, \"height\": 350, \"title\": \"Pokemon nach Typ und Generation\", \"width\": 600, \"$schema\": \"https://vega.github.io/schema/vega-lite/v5.20.1.json\", \"datasets\": {\"data-58580f079e78d2ecf11da8f9bbaf431e\": [{\"generation\": 1, \"type1\": \"water\", \"count\": 28}, {\"generation\": 1, \"type1\": \"normal\", \"count\": 22}, {\"generation\": 1, \"type1\": \"poison\", \"count\": 14}, {\"generation\": 1, \"type1\": \"bug\", \"count\": 12}, {\"generation\": 1, \"type1\": \"grass\", \"count\": 12}, {\"generation\": 1, \"type1\": \"fire\", \"count\": 12}, {\"generation\": 1, \"type1\": \"electric\", \"count\": 9}, {\"generation\": 1, \"type1\": \"rock\", \"count\": 9}, {\"generation\": 1, \"type1\": \"psychic\", \"count\": 8}, {\"generation\": 1, \"type1\": \"ground\", \"count\": 8}, {\"generation\": 1, \"type1\": \"fighting\", \"count\": 7}, {\"generation\": 1, \"type1\": \"ghost\", \"count\": 3}, {\"generation\": 1, \"type1\": \"dragon\", \"count\": 3}, {\"generation\": 1, \"type1\": \"ice\", \"count\": 2}, {\"generation\": 1, \"type1\": \"fairy\", \"count\": 2}, {\"generation\": 2, \"type1\": \"water\", \"count\": 18}, {\"generation\": 2, \"type1\": \"normal\", \"count\": 15}, {\"generation\": 2, \"type1\": \"bug\", \"count\": 10}, {\"generation\": 2, \"type1\": \"grass\", \"count\": 9}, {\"generation\": 2, \"type1\": \"fire\", \"count\": 8}, {\"generation\": 2, \"type1\": \"psychic\", \"count\": 7}, {\"generation\": 2, \"type1\": \"electric\", \"count\": 6}, {\"generation\": 2, \"type1\": \"dark\", \"count\": 5}, {\"generation\": 2, \"type1\": \"fairy\", \"count\": 5}, {\"generation\": 2, \"type1\": \"ice\", \"count\": 4}, {\"generation\": 2, \"type1\": \"rock\", \"count\": 4}, {\"generation\": 2, \"type1\": \"ground\", \"count\": 3}, {\"generation\": 2, \"type1\": \"steel\", \"count\": 2}, {\"generation\": 2, \"type1\": \"fighting\", \"count\": 2}, {\"generation\": 2, \"type1\": \"ghost\", \"count\": 1}, {\"generation\": 2, \"type1\": \"poison\", \"count\": 1}, {\"generation\": 3, \"type1\": \"water\", \"count\": 24}, {\"generation\": 3, \"type1\": \"normal\", \"count\": 18}, {\"generation\": 3, \"type1\": \"grass\", \"count\": 12}, {\"generation\": 3, \"type1\": \"bug\", \"count\": 12}, {\"generation\": 3, \"type1\": \"steel\", \"count\": 9}, {\"generation\": 3, \"type1\": \"rock\", \"count\": 8}, {\"generation\": 3, \"type1\": \"psychic\", \"count\": 8}, {\"generation\": 3, \"type1\": \"dragon\", \"count\": 7}, {\"generation\": 3, \"type1\": \"ground\", \"count\": 6}, {\"generation\": 3, \"type1\": \"ice\", \"count\": 6}, {\"generation\": 3, \"type1\": \"fire\", \"count\": 6}, {\"generation\": 3, \"type1\": \"fighting\", \"count\": 4}, {\"generation\": 3, \"type1\": \"dark\", \"count\": 4}, {\"generation\": 3, \"type1\": \"ghost\", \"count\": 4}, {\"generation\": 3, \"type1\": \"electric\", \"count\": 4}, {\"generation\": 3, \"type1\": \"poison\", \"count\": 3}, {\"generation\": 4, \"type1\": \"normal\", \"count\": 17}, {\"generation\": 4, \"type1\": \"grass\", \"count\": 13}, {\"generation\": 4, \"type1\": \"water\", \"count\": 13}, {\"generation\": 4, \"type1\": \"bug\", \"count\": 8}, {\"generation\": 4, \"type1\": \"psychic\", \"count\": 7}, {\"generation\": 4, \"type1\": \"electric\", \"count\": 7}, {\"generation\": 4, \"type1\": \"rock\", \"count\": 6}, {\"generation\": 4, \"type1\": \"poison\", \"count\": 6}, {\"generation\": 4, \"type1\": \"ghost\", \"count\": 6}, {\"generation\": 4, \"type1\": \"fire\", \"count\": 5}, {\"generation\": 4, \"type1\": \"ground\", \"count\": 4}, {\"generation\": 4, \"type1\": \"ice\", \"count\": 3}, {\"generation\": 4, \"type1\": \"steel\", \"count\": 3}, {\"generation\": 4, \"type1\": \"dark\", \"count\": 3}, {\"generation\": 4, \"type1\": \"dragon\", \"count\": 3}, {\"generation\": 4, \"type1\": \"fighting\", \"count\": 2}, {\"generation\": 4, \"type1\": \"fairy\", \"count\": 1}, {\"generation\": 5, \"type1\": \"bug\", \"count\": 18}, {\"generation\": 5, \"type1\": \"normal\", \"count\": 17}, {\"generation\": 5, \"type1\": \"water\", \"count\": 17}, {\"generation\": 5, \"type1\": \"grass\", \"count\": 15}, {\"generation\": 5, \"type1\": \"psychic\", \"count\": 14}, {\"generation\": 5, \"type1\": \"dark\", \"count\": 13}, {\"generation\": 5, \"type1\": \"ground\", \"count\": 9}, {\"generation\": 5, \"type1\": \"fire\", \"count\": 8}, {\"generation\": 5, \"type1\": \"electric\", \"count\": 7}, {\"generation\": 5, \"type1\": \"dragon\", \"count\": 7}, {\"generation\": 5, \"type1\": \"fighting\", \"count\": 7}, {\"generation\": 5, \"type1\": \"rock\", \"count\": 6}, {\"generation\": 5, \"type1\": \"ice\", \"count\": 6}, {\"generation\": 5, \"type1\": \"ghost\", \"count\": 5}, {\"generation\": 5, \"type1\": \"steel\", \"count\": 4}, {\"generation\": 5, \"type1\": \"poison\", \"count\": 2}, {\"generation\": 5, \"type1\": \"flying\", \"count\": 1}, {\"generation\": 6, \"type1\": \"fairy\", \"count\": 9}, {\"generation\": 6, \"type1\": \"fire\", \"count\": 8}, {\"generation\": 6, \"type1\": \"rock\", \"count\": 8}, {\"generation\": 6, \"type1\": \"water\", \"count\": 5}, {\"generation\": 6, \"type1\": \"grass\", \"count\": 5}, {\"generation\": 6, \"type1\": \"normal\", \"count\": 4}, {\"generation\": 6, \"type1\": \"steel\", \"count\": 4}, {\"generation\": 6, \"type1\": \"dragon\", \"count\": 4}, {\"generation\": 6, \"type1\": \"ghost\", \"count\": 4}, {\"generation\": 6, \"type1\": \"fighting\", \"count\": 3}, {\"generation\": 6, \"type1\": \"psychic\", \"count\": 3}, {\"generation\": 6, \"type1\": \"electric\", \"count\": 3}, {\"generation\": 6, \"type1\": \"dark\", \"count\": 3}, {\"generation\": 6, \"type1\": \"bug\", \"count\": 3}, {\"generation\": 6, \"type1\": \"ice\", \"count\": 2}, {\"generation\": 6, \"type1\": \"flying\", \"count\": 2}, {\"generation\": 6, \"type1\": \"poison\", \"count\": 2}, {\"generation\": 7, \"type1\": \"grass\", \"count\": 12}, {\"generation\": 7, \"type1\": \"normal\", \"count\": 12}, {\"generation\": 7, \"type1\": \"bug\", \"count\": 9}, {\"generation\": 7, \"type1\": \"water\", \"count\": 9}, {\"generation\": 7, \"type1\": \"psychic\", \"count\": 6}, {\"generation\": 7, \"type1\": \"fire\", \"count\": 5}, {\"generation\": 7, \"type1\": \"rock\", \"count\": 4}, {\"generation\": 7, \"type1\": \"ghost\", \"count\": 4}, {\"generation\": 7, \"type1\": \"poison\", \"count\": 4}, {\"generation\": 7, \"type1\": \"fighting\", \"count\": 3}, {\"generation\": 7, \"type1\": \"electric\", \"count\": 3}, {\"generation\": 7, \"type1\": \"dragon\", \"count\": 3}, {\"generation\": 7, \"type1\": \"steel\", \"count\": 2}, {\"generation\": 7, \"type1\": \"ground\", \"count\": 2}, {\"generation\": 7, \"type1\": \"fairy\", \"count\": 1}, {\"generation\": 7, \"type1\": \"dark\", \"count\": 1}]}}, {\"mode\": \"vega-lite\"});\n",
       "</script>"
      ],
      "text/plain": [
       "alt.Chart(...)"
      ]
     },
     "execution_count": 132,
     "metadata": {},
     "output_type": "execute_result"
    }
   ],
   "source": [
    "alt.Chart(df_generation_type).mark_bar().encode(\n",
    "    x = 'count', \n",
    "    y = alt.Y('type1', sort='-x'),\n",
    "    color = alt.Color('generation').scale(domain=domain, range = range)\n",
    ").properties(\n",
    "    width = 600, \n",
    "    height = 350, \n",
    "    title = \"Pokemon nach Typ und Generation\" \n",
    "    \n",
    ")"
   ]
  },
  {
   "cell_type": "code",
   "execution_count": null,
   "metadata": {},
   "outputs": [],
   "source": []
  },
  {
   "cell_type": "markdown",
   "metadata": {},
   "source": [
    "#### Mehr Formatierung\n",
    "\n",
    "Hier gibt es eine [Dokumentation für mehr Formatierung](https://altair-viz.github.io/user_guide/customization.html#adjusting-the-title)\n",
    "\n",
    "Achsen\n",
    "* `.scale(zero=False)`: schneidet Achse auf effektive Werte zu (statt bei 0 anzufangen)\n",
    "* `.title('<Achsenname>')`: lässt uns Achsen neu bennenen\n",
    "Titel\n",
    "* `alt.Title()`: Damit können wir Subtitel einfügen und die Platzierung des Titels bestimmen\n",
    "Legende\n",
    "* `legend(orient=\"left\")`: Orientierung der Legende\n",
    "* `.title('<name>')`: Name der Legende, `None` für keinen Titel"
   ]
  },
  {
   "cell_type": "code",
   "execution_count": null,
   "metadata": {},
   "outputs": [],
   "source": []
  },
  {
   "cell_type": "code",
   "execution_count": 143,
   "metadata": {},
   "outputs": [
    {
     "data": {
      "text/html": [
       "\n",
       "<style>\n",
       "  #altair-viz-c08a31f9f1c643bba0cf660fbe8e529a.vega-embed {\n",
       "    width: 100%;\n",
       "    display: flex;\n",
       "  }\n",
       "\n",
       "  #altair-viz-c08a31f9f1c643bba0cf660fbe8e529a.vega-embed details,\n",
       "  #altair-viz-c08a31f9f1c643bba0cf660fbe8e529a.vega-embed details summary {\n",
       "    position: relative;\n",
       "  }\n",
       "</style>\n",
       "<div id=\"altair-viz-c08a31f9f1c643bba0cf660fbe8e529a\"></div>\n",
       "<script type=\"text/javascript\">\n",
       "  var VEGA_DEBUG = (typeof VEGA_DEBUG == \"undefined\") ? {} : VEGA_DEBUG;\n",
       "  (function(spec, embedOpt){\n",
       "    let outputDiv = document.currentScript.previousElementSibling;\n",
       "    if (outputDiv.id !== \"altair-viz-c08a31f9f1c643bba0cf660fbe8e529a\") {\n",
       "      outputDiv = document.getElementById(\"altair-viz-c08a31f9f1c643bba0cf660fbe8e529a\");\n",
       "    }\n",
       "\n",
       "    const paths = {\n",
       "      \"vega\": \"https://cdn.jsdelivr.net/npm/vega@5?noext\",\n",
       "      \"vega-lib\": \"https://cdn.jsdelivr.net/npm/vega-lib?noext\",\n",
       "      \"vega-lite\": \"https://cdn.jsdelivr.net/npm/vega-lite@5.20.1?noext\",\n",
       "      \"vega-embed\": \"https://cdn.jsdelivr.net/npm/vega-embed@6?noext\",\n",
       "    };\n",
       "\n",
       "    function maybeLoadScript(lib, version) {\n",
       "      var key = `${lib.replace(\"-\", \"\")}_version`;\n",
       "      return (VEGA_DEBUG[key] == version) ?\n",
       "        Promise.resolve(paths[lib]) :\n",
       "        new Promise(function(resolve, reject) {\n",
       "          var s = document.createElement('script');\n",
       "          document.getElementsByTagName(\"head\")[0].appendChild(s);\n",
       "          s.async = true;\n",
       "          s.onload = () => {\n",
       "            VEGA_DEBUG[key] = version;\n",
       "            return resolve(paths[lib]);\n",
       "          };\n",
       "          s.onerror = () => reject(`Error loading script: ${paths[lib]}`);\n",
       "          s.src = paths[lib];\n",
       "        });\n",
       "    }\n",
       "\n",
       "    function showError(err) {\n",
       "      outputDiv.innerHTML = `<div class=\"error\" style=\"color:red;\">${err}</div>`;\n",
       "      throw err;\n",
       "    }\n",
       "\n",
       "    function displayChart(vegaEmbed) {\n",
       "      vegaEmbed(outputDiv, spec, embedOpt)\n",
       "        .catch(err => showError(`Javascript Error: ${err.message}<br>This usually means there's a typo in your chart specification. See the javascript console for the full traceback.`));\n",
       "    }\n",
       "\n",
       "    if(typeof define === \"function\" && define.amd) {\n",
       "      requirejs.config({paths});\n",
       "      let deps = [\"vega-embed\"];\n",
       "      require(deps, displayChart, err => showError(`Error loading script: ${err.message}`));\n",
       "    } else {\n",
       "      maybeLoadScript(\"vega\", \"5\")\n",
       "        .then(() => maybeLoadScript(\"vega-lite\", \"5.20.1\"))\n",
       "        .then(() => maybeLoadScript(\"vega-embed\", \"6\"))\n",
       "        .catch(showError)\n",
       "        .then(() => displayChart(vegaEmbed));\n",
       "    }\n",
       "  })({\"config\": {\"view\": {\"continuousWidth\": 300, \"continuousHeight\": 300}}, \"data\": {\"name\": \"data-58580f079e78d2ecf11da8f9bbaf431e\"}, \"mark\": {\"type\": \"bar\"}, \"encoding\": {\"color\": {\"field\": \"generation\", \"legend\": {\"orient\": \"left\"}, \"scale\": {\"domain\": [1, 3.5, 7], \"range\": [\"lightgreen\", \"orange\", \"purple\"]}, \"title\": null, \"type\": \"quantitative\"}, \"tooltip\": [{\"field\": \"type1\", \"type\": \"nominal\"}, {\"field\": \"count\", \"type\": \"quantitative\"}], \"x\": {\"field\": \"count\", \"title\": \"Anzahl\", \"type\": \"quantitative\"}, \"y\": {\"field\": \"type1\", \"sort\": \"-x\", \"title\": \"Pokemontyp\", \"type\": \"nominal\"}}, \"height\": 350, \"title\": {\"text\": \"Pokemon nach Typ und Generation\", \"anchor\": \"start\", \"offset\": 20, \"orient\": \"top\", \"subtitle\": \"Inklusive Subtitel\"}, \"width\": 600, \"$schema\": \"https://vega.github.io/schema/vega-lite/v5.20.1.json\", \"datasets\": {\"data-58580f079e78d2ecf11da8f9bbaf431e\": [{\"generation\": 1, \"type1\": \"water\", \"count\": 28}, {\"generation\": 1, \"type1\": \"normal\", \"count\": 22}, {\"generation\": 1, \"type1\": \"poison\", \"count\": 14}, {\"generation\": 1, \"type1\": \"bug\", \"count\": 12}, {\"generation\": 1, \"type1\": \"grass\", \"count\": 12}, {\"generation\": 1, \"type1\": \"fire\", \"count\": 12}, {\"generation\": 1, \"type1\": \"electric\", \"count\": 9}, {\"generation\": 1, \"type1\": \"rock\", \"count\": 9}, {\"generation\": 1, \"type1\": \"psychic\", \"count\": 8}, {\"generation\": 1, \"type1\": \"ground\", \"count\": 8}, {\"generation\": 1, \"type1\": \"fighting\", \"count\": 7}, {\"generation\": 1, \"type1\": \"ghost\", \"count\": 3}, {\"generation\": 1, \"type1\": \"dragon\", \"count\": 3}, {\"generation\": 1, \"type1\": \"ice\", \"count\": 2}, {\"generation\": 1, \"type1\": \"fairy\", \"count\": 2}, {\"generation\": 2, \"type1\": \"water\", \"count\": 18}, {\"generation\": 2, \"type1\": \"normal\", \"count\": 15}, {\"generation\": 2, \"type1\": \"bug\", \"count\": 10}, {\"generation\": 2, \"type1\": \"grass\", \"count\": 9}, {\"generation\": 2, \"type1\": \"fire\", \"count\": 8}, {\"generation\": 2, \"type1\": \"psychic\", \"count\": 7}, {\"generation\": 2, \"type1\": \"electric\", \"count\": 6}, {\"generation\": 2, \"type1\": \"dark\", \"count\": 5}, {\"generation\": 2, \"type1\": \"fairy\", \"count\": 5}, {\"generation\": 2, \"type1\": \"ice\", \"count\": 4}, {\"generation\": 2, \"type1\": \"rock\", \"count\": 4}, {\"generation\": 2, \"type1\": \"ground\", \"count\": 3}, {\"generation\": 2, \"type1\": \"steel\", \"count\": 2}, {\"generation\": 2, \"type1\": \"fighting\", \"count\": 2}, {\"generation\": 2, \"type1\": \"ghost\", \"count\": 1}, {\"generation\": 2, \"type1\": \"poison\", \"count\": 1}, {\"generation\": 3, \"type1\": \"water\", \"count\": 24}, {\"generation\": 3, \"type1\": \"normal\", \"count\": 18}, {\"generation\": 3, \"type1\": \"grass\", \"count\": 12}, {\"generation\": 3, \"type1\": \"bug\", \"count\": 12}, {\"generation\": 3, \"type1\": \"steel\", \"count\": 9}, {\"generation\": 3, \"type1\": \"rock\", \"count\": 8}, {\"generation\": 3, \"type1\": \"psychic\", \"count\": 8}, {\"generation\": 3, \"type1\": \"dragon\", \"count\": 7}, {\"generation\": 3, \"type1\": \"ground\", \"count\": 6}, {\"generation\": 3, \"type1\": \"ice\", \"count\": 6}, {\"generation\": 3, \"type1\": \"fire\", \"count\": 6}, {\"generation\": 3, \"type1\": \"fighting\", \"count\": 4}, {\"generation\": 3, \"type1\": \"dark\", \"count\": 4}, {\"generation\": 3, \"type1\": \"ghost\", \"count\": 4}, {\"generation\": 3, \"type1\": \"electric\", \"count\": 4}, {\"generation\": 3, \"type1\": \"poison\", \"count\": 3}, {\"generation\": 4, \"type1\": \"normal\", \"count\": 17}, {\"generation\": 4, \"type1\": \"grass\", \"count\": 13}, {\"generation\": 4, \"type1\": \"water\", \"count\": 13}, {\"generation\": 4, \"type1\": \"bug\", \"count\": 8}, {\"generation\": 4, \"type1\": \"psychic\", \"count\": 7}, {\"generation\": 4, \"type1\": \"electric\", \"count\": 7}, {\"generation\": 4, \"type1\": \"rock\", \"count\": 6}, {\"generation\": 4, \"type1\": \"poison\", \"count\": 6}, {\"generation\": 4, \"type1\": \"ghost\", \"count\": 6}, {\"generation\": 4, \"type1\": \"fire\", \"count\": 5}, {\"generation\": 4, \"type1\": \"ground\", \"count\": 4}, {\"generation\": 4, \"type1\": \"ice\", \"count\": 3}, {\"generation\": 4, \"type1\": \"steel\", \"count\": 3}, {\"generation\": 4, \"type1\": \"dark\", \"count\": 3}, {\"generation\": 4, \"type1\": \"dragon\", \"count\": 3}, {\"generation\": 4, \"type1\": \"fighting\", \"count\": 2}, {\"generation\": 4, \"type1\": \"fairy\", \"count\": 1}, {\"generation\": 5, \"type1\": \"bug\", \"count\": 18}, {\"generation\": 5, \"type1\": \"normal\", \"count\": 17}, {\"generation\": 5, \"type1\": \"water\", \"count\": 17}, {\"generation\": 5, \"type1\": \"grass\", \"count\": 15}, {\"generation\": 5, \"type1\": \"psychic\", \"count\": 14}, {\"generation\": 5, \"type1\": \"dark\", \"count\": 13}, {\"generation\": 5, \"type1\": \"ground\", \"count\": 9}, {\"generation\": 5, \"type1\": \"fire\", \"count\": 8}, {\"generation\": 5, \"type1\": \"electric\", \"count\": 7}, {\"generation\": 5, \"type1\": \"dragon\", \"count\": 7}, {\"generation\": 5, \"type1\": \"fighting\", \"count\": 7}, {\"generation\": 5, \"type1\": \"rock\", \"count\": 6}, {\"generation\": 5, \"type1\": \"ice\", \"count\": 6}, {\"generation\": 5, \"type1\": \"ghost\", \"count\": 5}, {\"generation\": 5, \"type1\": \"steel\", \"count\": 4}, {\"generation\": 5, \"type1\": \"poison\", \"count\": 2}, {\"generation\": 5, \"type1\": \"flying\", \"count\": 1}, {\"generation\": 6, \"type1\": \"fairy\", \"count\": 9}, {\"generation\": 6, \"type1\": \"fire\", \"count\": 8}, {\"generation\": 6, \"type1\": \"rock\", \"count\": 8}, {\"generation\": 6, \"type1\": \"water\", \"count\": 5}, {\"generation\": 6, \"type1\": \"grass\", \"count\": 5}, {\"generation\": 6, \"type1\": \"normal\", \"count\": 4}, {\"generation\": 6, \"type1\": \"steel\", \"count\": 4}, {\"generation\": 6, \"type1\": \"dragon\", \"count\": 4}, {\"generation\": 6, \"type1\": \"ghost\", \"count\": 4}, {\"generation\": 6, \"type1\": \"fighting\", \"count\": 3}, {\"generation\": 6, \"type1\": \"psychic\", \"count\": 3}, {\"generation\": 6, \"type1\": \"electric\", \"count\": 3}, {\"generation\": 6, \"type1\": \"dark\", \"count\": 3}, {\"generation\": 6, \"type1\": \"bug\", \"count\": 3}, {\"generation\": 6, \"type1\": \"ice\", \"count\": 2}, {\"generation\": 6, \"type1\": \"flying\", \"count\": 2}, {\"generation\": 6, \"type1\": \"poison\", \"count\": 2}, {\"generation\": 7, \"type1\": \"grass\", \"count\": 12}, {\"generation\": 7, \"type1\": \"normal\", \"count\": 12}, {\"generation\": 7, \"type1\": \"bug\", \"count\": 9}, {\"generation\": 7, \"type1\": \"water\", \"count\": 9}, {\"generation\": 7, \"type1\": \"psychic\", \"count\": 6}, {\"generation\": 7, \"type1\": \"fire\", \"count\": 5}, {\"generation\": 7, \"type1\": \"rock\", \"count\": 4}, {\"generation\": 7, \"type1\": \"ghost\", \"count\": 4}, {\"generation\": 7, \"type1\": \"poison\", \"count\": 4}, {\"generation\": 7, \"type1\": \"fighting\", \"count\": 3}, {\"generation\": 7, \"type1\": \"electric\", \"count\": 3}, {\"generation\": 7, \"type1\": \"dragon\", \"count\": 3}, {\"generation\": 7, \"type1\": \"steel\", \"count\": 2}, {\"generation\": 7, \"type1\": \"ground\", \"count\": 2}, {\"generation\": 7, \"type1\": \"fairy\", \"count\": 1}, {\"generation\": 7, \"type1\": \"dark\", \"count\": 1}]}}, {\"mode\": \"vega-lite\"});\n",
       "</script>"
      ],
      "text/plain": [
       "alt.Chart(...)"
      ]
     },
     "execution_count": 143,
     "metadata": {},
     "output_type": "execute_result"
    }
   ],
   "source": [
    "# Mehr Formatierung \n",
    "alt.Chart(df_generation_type).mark_bar().encode(\n",
    "    x = alt.X('count').title('Anzahl'), \n",
    "    y = alt.Y('type1', sort='-x').title('Pokemontyp'),\n",
    "    color = alt.Color('generation').scale(domain=domain, range = range).legend(orient=\"left\").title(None),\n",
    "    tooltip=['type1', 'count']\n",
    ").properties(\n",
    "    width = 600, \n",
    "    height = 350, \n",
    "    title = alt.Title(\"Pokemon nach Typ und Generation\",\n",
    "       subtitle=\"Inklusive Subtitel\",\n",
    "       anchor='start', # <- rechts- oder links-bündig\n",
    "       orient='top', # <- oben/ unten\n",
    "       offset=20 # <- Abstand zum Chart\n",
    "       )\n",
    ")\n"
   ]
  },
  {
   "cell_type": "markdown",
   "metadata": {},
   "source": [
    "## Export"
   ]
  },
  {
   "cell_type": "code",
   "execution_count": 149,
   "metadata": {},
   "outputs": [],
   "source": [
    "# Wir können die ganze Grafik in einer Variablen speichern. \n",
    "\n",
    "my_chart = alt.Chart(df_generation_type).mark_bar().encode(\n",
    "    x = alt.X('count').title('Anzahl'), \n",
    "    y = alt.Y('type1', sort='-x').title('Pokemontyp'),\n",
    "    color = alt.Color('generation').scale(domain=domain, range = range).legend(orient=\"left\").title(None),\n",
    "    tooltip=['type1', 'count']\n",
    ").properties(\n",
    "    width = 600, \n",
    "    height = 350, \n",
    "    title = alt.Title(\"Pokemon nach Typ und Generation\",\n",
    "       subtitle=\"Inklusive Subtitel\",\n",
    "       anchor='start', # <- rechts- oder links-bündig\n",
    "       orient='top', # <- oben/ unten\n",
    "       offset=20 # <- Abstand zum Chart\n",
    "       )\n",
    ")\n"
   ]
  },
  {
   "cell_type": "code",
   "execution_count": 150,
   "metadata": {},
   "outputs": [
    {
     "data": {
      "text/html": [
       "\n",
       "<style>\n",
       "  #altair-viz-c488a43df8424336b2763e4796fc03bd.vega-embed {\n",
       "    width: 100%;\n",
       "    display: flex;\n",
       "  }\n",
       "\n",
       "  #altair-viz-c488a43df8424336b2763e4796fc03bd.vega-embed details,\n",
       "  #altair-viz-c488a43df8424336b2763e4796fc03bd.vega-embed details summary {\n",
       "    position: relative;\n",
       "  }\n",
       "</style>\n",
       "<div id=\"altair-viz-c488a43df8424336b2763e4796fc03bd\"></div>\n",
       "<script type=\"text/javascript\">\n",
       "  var VEGA_DEBUG = (typeof VEGA_DEBUG == \"undefined\") ? {} : VEGA_DEBUG;\n",
       "  (function(spec, embedOpt){\n",
       "    let outputDiv = document.currentScript.previousElementSibling;\n",
       "    if (outputDiv.id !== \"altair-viz-c488a43df8424336b2763e4796fc03bd\") {\n",
       "      outputDiv = document.getElementById(\"altair-viz-c488a43df8424336b2763e4796fc03bd\");\n",
       "    }\n",
       "\n",
       "    const paths = {\n",
       "      \"vega\": \"https://cdn.jsdelivr.net/npm/vega@5?noext\",\n",
       "      \"vega-lib\": \"https://cdn.jsdelivr.net/npm/vega-lib?noext\",\n",
       "      \"vega-lite\": \"https://cdn.jsdelivr.net/npm/vega-lite@5.20.1?noext\",\n",
       "      \"vega-embed\": \"https://cdn.jsdelivr.net/npm/vega-embed@6?noext\",\n",
       "    };\n",
       "\n",
       "    function maybeLoadScript(lib, version) {\n",
       "      var key = `${lib.replace(\"-\", \"\")}_version`;\n",
       "      return (VEGA_DEBUG[key] == version) ?\n",
       "        Promise.resolve(paths[lib]) :\n",
       "        new Promise(function(resolve, reject) {\n",
       "          var s = document.createElement('script');\n",
       "          document.getElementsByTagName(\"head\")[0].appendChild(s);\n",
       "          s.async = true;\n",
       "          s.onload = () => {\n",
       "            VEGA_DEBUG[key] = version;\n",
       "            return resolve(paths[lib]);\n",
       "          };\n",
       "          s.onerror = () => reject(`Error loading script: ${paths[lib]}`);\n",
       "          s.src = paths[lib];\n",
       "        });\n",
       "    }\n",
       "\n",
       "    function showError(err) {\n",
       "      outputDiv.innerHTML = `<div class=\"error\" style=\"color:red;\">${err}</div>`;\n",
       "      throw err;\n",
       "    }\n",
       "\n",
       "    function displayChart(vegaEmbed) {\n",
       "      vegaEmbed(outputDiv, spec, embedOpt)\n",
       "        .catch(err => showError(`Javascript Error: ${err.message}<br>This usually means there's a typo in your chart specification. See the javascript console for the full traceback.`));\n",
       "    }\n",
       "\n",
       "    if(typeof define === \"function\" && define.amd) {\n",
       "      requirejs.config({paths});\n",
       "      let deps = [\"vega-embed\"];\n",
       "      require(deps, displayChart, err => showError(`Error loading script: ${err.message}`));\n",
       "    } else {\n",
       "      maybeLoadScript(\"vega\", \"5\")\n",
       "        .then(() => maybeLoadScript(\"vega-lite\", \"5.20.1\"))\n",
       "        .then(() => maybeLoadScript(\"vega-embed\", \"6\"))\n",
       "        .catch(showError)\n",
       "        .then(() => displayChart(vegaEmbed));\n",
       "    }\n",
       "  })({\"config\": {\"view\": {\"continuousWidth\": 300, \"continuousHeight\": 300}}, \"data\": {\"name\": \"data-58580f079e78d2ecf11da8f9bbaf431e\"}, \"mark\": {\"type\": \"bar\"}, \"encoding\": {\"color\": {\"field\": \"generation\", \"legend\": {\"orient\": \"left\"}, \"scale\": {\"domain\": [1, 3.5, 7], \"range\": [\"lightgreen\", \"orange\", \"purple\"]}, \"title\": null, \"type\": \"quantitative\"}, \"tooltip\": [{\"field\": \"type1\", \"type\": \"nominal\"}, {\"field\": \"count\", \"type\": \"quantitative\"}], \"x\": {\"field\": \"count\", \"title\": \"Anzahl\", \"type\": \"quantitative\"}, \"y\": {\"field\": \"type1\", \"sort\": \"-x\", \"title\": \"Pokemontyp\", \"type\": \"nominal\"}}, \"height\": 350, \"title\": {\"text\": \"Pokemon nach Typ und Generation\", \"anchor\": \"start\", \"offset\": 20, \"orient\": \"top\", \"subtitle\": \"Inklusive Subtitel\"}, \"width\": 600, \"$schema\": \"https://vega.github.io/schema/vega-lite/v5.20.1.json\", \"datasets\": {\"data-58580f079e78d2ecf11da8f9bbaf431e\": [{\"generation\": 1, \"type1\": \"water\", \"count\": 28}, {\"generation\": 1, \"type1\": \"normal\", \"count\": 22}, {\"generation\": 1, \"type1\": \"poison\", \"count\": 14}, {\"generation\": 1, \"type1\": \"bug\", \"count\": 12}, {\"generation\": 1, \"type1\": \"grass\", \"count\": 12}, {\"generation\": 1, \"type1\": \"fire\", \"count\": 12}, {\"generation\": 1, \"type1\": \"electric\", \"count\": 9}, {\"generation\": 1, \"type1\": \"rock\", \"count\": 9}, {\"generation\": 1, \"type1\": \"psychic\", \"count\": 8}, {\"generation\": 1, \"type1\": \"ground\", \"count\": 8}, {\"generation\": 1, \"type1\": \"fighting\", \"count\": 7}, {\"generation\": 1, \"type1\": \"ghost\", \"count\": 3}, {\"generation\": 1, \"type1\": \"dragon\", \"count\": 3}, {\"generation\": 1, \"type1\": \"ice\", \"count\": 2}, {\"generation\": 1, \"type1\": \"fairy\", \"count\": 2}, {\"generation\": 2, \"type1\": \"water\", \"count\": 18}, {\"generation\": 2, \"type1\": \"normal\", \"count\": 15}, {\"generation\": 2, \"type1\": \"bug\", \"count\": 10}, {\"generation\": 2, \"type1\": \"grass\", \"count\": 9}, {\"generation\": 2, \"type1\": \"fire\", \"count\": 8}, {\"generation\": 2, \"type1\": \"psychic\", \"count\": 7}, {\"generation\": 2, \"type1\": \"electric\", \"count\": 6}, {\"generation\": 2, \"type1\": \"dark\", \"count\": 5}, {\"generation\": 2, \"type1\": \"fairy\", \"count\": 5}, {\"generation\": 2, \"type1\": \"ice\", \"count\": 4}, {\"generation\": 2, \"type1\": \"rock\", \"count\": 4}, {\"generation\": 2, \"type1\": \"ground\", \"count\": 3}, {\"generation\": 2, \"type1\": \"steel\", \"count\": 2}, {\"generation\": 2, \"type1\": \"fighting\", \"count\": 2}, {\"generation\": 2, \"type1\": \"ghost\", \"count\": 1}, {\"generation\": 2, \"type1\": \"poison\", \"count\": 1}, {\"generation\": 3, \"type1\": \"water\", \"count\": 24}, {\"generation\": 3, \"type1\": \"normal\", \"count\": 18}, {\"generation\": 3, \"type1\": \"grass\", \"count\": 12}, {\"generation\": 3, \"type1\": \"bug\", \"count\": 12}, {\"generation\": 3, \"type1\": \"steel\", \"count\": 9}, {\"generation\": 3, \"type1\": \"rock\", \"count\": 8}, {\"generation\": 3, \"type1\": \"psychic\", \"count\": 8}, {\"generation\": 3, \"type1\": \"dragon\", \"count\": 7}, {\"generation\": 3, \"type1\": \"ground\", \"count\": 6}, {\"generation\": 3, \"type1\": \"ice\", \"count\": 6}, {\"generation\": 3, \"type1\": \"fire\", \"count\": 6}, {\"generation\": 3, \"type1\": \"fighting\", \"count\": 4}, {\"generation\": 3, \"type1\": \"dark\", \"count\": 4}, {\"generation\": 3, \"type1\": \"ghost\", \"count\": 4}, {\"generation\": 3, \"type1\": \"electric\", \"count\": 4}, {\"generation\": 3, \"type1\": \"poison\", \"count\": 3}, {\"generation\": 4, \"type1\": \"normal\", \"count\": 17}, {\"generation\": 4, \"type1\": \"grass\", \"count\": 13}, {\"generation\": 4, \"type1\": \"water\", \"count\": 13}, {\"generation\": 4, \"type1\": \"bug\", \"count\": 8}, {\"generation\": 4, \"type1\": \"psychic\", \"count\": 7}, {\"generation\": 4, \"type1\": \"electric\", \"count\": 7}, {\"generation\": 4, \"type1\": \"rock\", \"count\": 6}, {\"generation\": 4, \"type1\": \"poison\", \"count\": 6}, {\"generation\": 4, \"type1\": \"ghost\", \"count\": 6}, {\"generation\": 4, \"type1\": \"fire\", \"count\": 5}, {\"generation\": 4, \"type1\": \"ground\", \"count\": 4}, {\"generation\": 4, \"type1\": \"ice\", \"count\": 3}, {\"generation\": 4, \"type1\": \"steel\", \"count\": 3}, {\"generation\": 4, \"type1\": \"dark\", \"count\": 3}, {\"generation\": 4, \"type1\": \"dragon\", \"count\": 3}, {\"generation\": 4, \"type1\": \"fighting\", \"count\": 2}, {\"generation\": 4, \"type1\": \"fairy\", \"count\": 1}, {\"generation\": 5, \"type1\": \"bug\", \"count\": 18}, {\"generation\": 5, \"type1\": \"normal\", \"count\": 17}, {\"generation\": 5, \"type1\": \"water\", \"count\": 17}, {\"generation\": 5, \"type1\": \"grass\", \"count\": 15}, {\"generation\": 5, \"type1\": \"psychic\", \"count\": 14}, {\"generation\": 5, \"type1\": \"dark\", \"count\": 13}, {\"generation\": 5, \"type1\": \"ground\", \"count\": 9}, {\"generation\": 5, \"type1\": \"fire\", \"count\": 8}, {\"generation\": 5, \"type1\": \"electric\", \"count\": 7}, {\"generation\": 5, \"type1\": \"dragon\", \"count\": 7}, {\"generation\": 5, \"type1\": \"fighting\", \"count\": 7}, {\"generation\": 5, \"type1\": \"rock\", \"count\": 6}, {\"generation\": 5, \"type1\": \"ice\", \"count\": 6}, {\"generation\": 5, \"type1\": \"ghost\", \"count\": 5}, {\"generation\": 5, \"type1\": \"steel\", \"count\": 4}, {\"generation\": 5, \"type1\": \"poison\", \"count\": 2}, {\"generation\": 5, \"type1\": \"flying\", \"count\": 1}, {\"generation\": 6, \"type1\": \"fairy\", \"count\": 9}, {\"generation\": 6, \"type1\": \"fire\", \"count\": 8}, {\"generation\": 6, \"type1\": \"rock\", \"count\": 8}, {\"generation\": 6, \"type1\": \"water\", \"count\": 5}, {\"generation\": 6, \"type1\": \"grass\", \"count\": 5}, {\"generation\": 6, \"type1\": \"normal\", \"count\": 4}, {\"generation\": 6, \"type1\": \"steel\", \"count\": 4}, {\"generation\": 6, \"type1\": \"dragon\", \"count\": 4}, {\"generation\": 6, \"type1\": \"ghost\", \"count\": 4}, {\"generation\": 6, \"type1\": \"fighting\", \"count\": 3}, {\"generation\": 6, \"type1\": \"psychic\", \"count\": 3}, {\"generation\": 6, \"type1\": \"electric\", \"count\": 3}, {\"generation\": 6, \"type1\": \"dark\", \"count\": 3}, {\"generation\": 6, \"type1\": \"bug\", \"count\": 3}, {\"generation\": 6, \"type1\": \"ice\", \"count\": 2}, {\"generation\": 6, \"type1\": \"flying\", \"count\": 2}, {\"generation\": 6, \"type1\": \"poison\", \"count\": 2}, {\"generation\": 7, \"type1\": \"grass\", \"count\": 12}, {\"generation\": 7, \"type1\": \"normal\", \"count\": 12}, {\"generation\": 7, \"type1\": \"bug\", \"count\": 9}, {\"generation\": 7, \"type1\": \"water\", \"count\": 9}, {\"generation\": 7, \"type1\": \"psychic\", \"count\": 6}, {\"generation\": 7, \"type1\": \"fire\", \"count\": 5}, {\"generation\": 7, \"type1\": \"rock\", \"count\": 4}, {\"generation\": 7, \"type1\": \"ghost\", \"count\": 4}, {\"generation\": 7, \"type1\": \"poison\", \"count\": 4}, {\"generation\": 7, \"type1\": \"fighting\", \"count\": 3}, {\"generation\": 7, \"type1\": \"electric\", \"count\": 3}, {\"generation\": 7, \"type1\": \"dragon\", \"count\": 3}, {\"generation\": 7, \"type1\": \"steel\", \"count\": 2}, {\"generation\": 7, \"type1\": \"ground\", \"count\": 2}, {\"generation\": 7, \"type1\": \"fairy\", \"count\": 1}, {\"generation\": 7, \"type1\": \"dark\", \"count\": 1}]}}, {\"mode\": \"vega-lite\"});\n",
       "</script>"
      ],
      "text/plain": [
       "alt.Chart(...)"
      ]
     },
     "execution_count": 150,
     "metadata": {},
     "output_type": "execute_result"
    }
   ],
   "source": [
    "my_chart"
   ]
  },
  {
   "cell_type": "code",
   "execution_count": 158,
   "metadata": {},
   "outputs": [],
   "source": [
    "# Abspeichern als html\n",
    "my_chart.save('charts/pokemon_type_generation.html', inline=True)\n"
   ]
  },
  {
   "cell_type": "code",
   "execution_count": 159,
   "metadata": {},
   "outputs": [],
   "source": [
    "# als png speichern\n",
    "my_chart.save('charts/pokemon_type_generation.png')\n"
   ]
  },
  {
   "cell_type": "code",
   "execution_count": 160,
   "metadata": {},
   "outputs": [],
   "source": [
    "# als svg speichern\n",
    "my_chart.save('charts/pokemon_type_generation.svg')\n"
   ]
  },
  {
   "cell_type": "code",
   "execution_count": 161,
   "metadata": {},
   "outputs": [],
   "source": [
    "# als pdf speichern\n",
    "my_chart.save('charts/pokemon_type_generation.pdf')"
   ]
  },
  {
   "cell_type": "code",
   "execution_count": null,
   "metadata": {},
   "outputs": [],
   "source": []
  }
 ],
 "metadata": {
  "kernelspec": {
   "display_name": "Python 3",
   "language": "python",
   "name": "python3"
  },
  "language_info": {
   "codemirror_mode": {
    "name": "ipython",
    "version": 3
   },
   "file_extension": ".py",
   "mimetype": "text/x-python",
   "name": "python",
   "nbconvert_exporter": "python",
   "pygments_lexer": "ipython3",
   "version": "3.12.1"
  }
 },
 "nbformat": 4,
 "nbformat_minor": 2
}
