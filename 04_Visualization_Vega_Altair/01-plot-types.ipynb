{
 "cells": [
  {
   "cell_type": "markdown",
   "metadata": {},
   "source": [
    "# Vega-Altair\n",
    "\n",
    "Altair is a declarative statistical visualization library for Python, based on Vega and Vega-Lite. It offers a powerful and concise grammar that enables you to quickly build a wide range of statistical visualizations. \n",
    "\n",
    "You can install Altair with the terminal command: \n",
    "\n",
    "`pip install \"altair[all]\"`\n",
    "\n",
    "* More infos: Check the [installation guide](https://altair-viz.github.io/getting_started/installation.html) \n",
    "* Inspiration: Browse the [Example gallery](https://altair-viz.github.io/gallery/index.html#example-gallery) \n",
    "* Great Youtube tutorial: [Buy the guy who encoded Altair](https://youtu.be/ms29ZPUKxbU?feature=shared&t=6)"
   ]
  },
  {
   "cell_type": "markdown",
   "metadata": {},
   "source": [
    "## 01 Plot Types"
   ]
  },
  {
   "cell_type": "code",
   "execution_count": null,
   "metadata": {},
   "outputs": [],
   "source": [
    "#import libraries\n",
    "import altair as alt\n",
    "import pandas as pd\n"
   ]
  },
  {
   "cell_type": "code",
   "execution_count": null,
   "metadata": {},
   "outputs": [],
   "source": [
    "#load data\n",
    "df_raw = pd.read_csv(\"data/pokemon.csv\")\n",
    "df_raw.head(2)"
   ]
  },
  {
   "cell_type": "markdown",
   "metadata": {},
   "source": [
    "### Data Cleaning"
   ]
  },
  {
   "cell_type": "code",
   "execution_count": null,
   "metadata": {},
   "outputs": [],
   "source": [
    "df_raw.columns"
   ]
  },
  {
   "cell_type": "code",
   "execution_count": null,
   "metadata": {},
   "outputs": [],
   "source": [
    "# select the columns we really want\n",
    "\n",
    "df = df_raw[['name', 'type1',\t'type2', 'classfication', 'height_m', 'weight_kg','year',\n",
    "              'is_legendary', 'attack','speed','hp', 'base_happiness',  'capture_rate']]"
   ]
  },
  {
   "cell_type": "code",
   "execution_count": null,
   "metadata": {},
   "outputs": [],
   "source": [
    "# wir schauen nur Pokemons der 1. Generation an\n",
    "df = df[df['year']==1996]"
   ]
  },
  {
   "cell_type": "code",
   "execution_count": null,
   "metadata": {},
   "outputs": [],
   "source": [
    "# sind alle spalten im richtigen Datentyp?\n",
    "df.dtypes"
   ]
  },
  {
   "cell_type": "code",
   "execution_count": null,
   "metadata": {},
   "outputs": [],
   "source": [
    "# ... capture rate könnte ein integer sein.\n",
    "\n",
    "df['capture_rate'] = df['capture_rate'].astype(int)"
   ]
  },
  {
   "cell_type": "code",
   "execution_count": null,
   "metadata": {},
   "outputs": [],
   "source": [
    "# Wir speichern das df als csv für spätere Notebooks\n",
    "df.to_csv('data/pokemon_gen1.csv', index =False)"
   ]
  },
  {
   "cell_type": "code",
   "execution_count": null,
   "metadata": {},
   "outputs": [],
   "source": []
  },
  {
   "cell_type": "markdown",
   "metadata": {},
   "source": [
    "## Exkurs: Mehr pandas-funktionen"
   ]
  },
  {
   "cell_type": "code",
   "execution_count": null,
   "metadata": {},
   "outputs": [],
   "source": [
    "df['type1'].value_counts()"
   ]
  },
  {
   "cell_type": "code",
   "execution_count": null,
   "metadata": {},
   "outputs": [],
   "source": [
    "df['type1'].value_counts().reset_index()"
   ]
  },
  {
   "cell_type": "markdown",
   "metadata": {},
   "source": [
    "groupby.() führt eine Funktion (z.B. Durchschnitt, Maximum, Summe, ect) pro Kategorie aus. Format: <br>\n",
    "`df.groupby(<Kategorie>)[<Werte>].<funktion()>`"
   ]
  },
  {
   "cell_type": "code",
   "execution_count": null,
   "metadata": {},
   "outputs": [],
   "source": [
    "# groupby\n",
    "df.groupby('type1')['weight_kg'].mean()"
   ]
  },
  {
   "cell_type": "code",
   "execution_count": null,
   "metadata": {},
   "outputs": [],
   "source": []
  },
  {
   "cell_type": "markdown",
   "metadata": {},
   "source": [
    "## Plotting\n",
    "\n"
   ]
  },
  {
   "cell_type": "markdown",
   "metadata": {},
   "source": [
    "\n",
    "### Anatomy of an Altair chart\n",
    "An altair plot always follows this schema:\n",
    "\n",
    "    alt.Chart(df).mark_bar().encode(\n",
    "        x = 'column_A',\n",
    "        y = 'column_B\n",
    "    )\n",
    "\n",
    "`Chart()`: variable inside sets from which dataframe data should be plotted <br>\n",
    "`mark_bar()`: choose which form the plot should take<br>\n",
    "`encode`: set what to plot\n"
   ]
  },
  {
   "cell_type": "markdown",
   "metadata": {},
   "source": [
    "##### Bar chart"
   ]
  },
  {
   "cell_type": "code",
   "execution_count": null,
   "metadata": {},
   "outputs": [],
   "source": [
    "df_top_height = df.sort_values('height_m', ascending = False).head(10)\n",
    "df_top_height"
   ]
  },
  {
   "cell_type": "code",
   "execution_count": null,
   "metadata": {},
   "outputs": [],
   "source": [
    "# Bar chart\n",
    "alt.Chart(df_top_height).mark_bar().encode(\n",
    "    x = 'height_m',\n",
    "    y = alt.Y('name', sort='-x' )\n",
    ")"
   ]
  },
  {
   "cell_type": "markdown",
   "metadata": {},
   "source": [
    "### Plot types\n",
    "\n",
    "There is \n",
    "* `mark_bar`\n",
    "* `mark_line`\n",
    "* `mark_area` \n",
    "* `mark_point`\n",
    "* `mark_boxplot`\n",
    "* `mark_square`\n",
    "\n",
    "Nicht in diesem Notebook\n",
    "* `mark_arc` <- [Donut-Chart](https://altair-viz.github.io/gallery/donut_chart.html)\n"
   ]
  },
  {
   "cell_type": "code",
   "execution_count": null,
   "metadata": {},
   "outputs": [],
   "source": []
  },
  {
   "cell_type": "markdown",
   "metadata": {},
   "source": [
    "##### Line chart\n",
    "Line charts machen besonders bei zeitlichen Abläufen Sinn."
   ]
  },
  {
   "cell_type": "code",
   "execution_count": null,
   "metadata": {},
   "outputs": [],
   "source": [
    "# wir nehmen wieder den gesamten DF vom Anfang (vor der selektion auf Generation 1)\n",
    "df_raw.head(2)"
   ]
  },
  {
   "cell_type": "code",
   "execution_count": null,
   "metadata": {},
   "outputs": [],
   "source": [
    "# wie viele Pokemons gab es pro Generation?\n",
    "df_generation = df_raw.value_counts('year').reset_index().sort_values('year')\n",
    "df_generation"
   ]
  },
  {
   "cell_type": "code",
   "execution_count": null,
   "metadata": {},
   "outputs": [],
   "source": [
    "# Line chart\n",
    "alt.Chart(df_generation).mark_line().encode(\n",
    "    x = 'year',\n",
    "    y = 'count'\n",
    ")"
   ]
  },
  {
   "cell_type": "markdown",
   "metadata": {},
   "source": [
    "### Flächenchart"
   ]
  },
  {
   "cell_type": "code",
   "execution_count": null,
   "metadata": {},
   "outputs": [],
   "source": [
    "# Line chart\n",
    "alt.Chart(df_generation).mark_area().encode(\n",
    "    x = 'year',\n",
    "    y = 'count'\n",
    ")"
   ]
  },
  {
   "cell_type": "markdown",
   "metadata": {},
   "source": [
    "#### Scatterplot\n",
    "Dot plots eignen sich gut um Zusammenhänge zwischen Zahlenwerten aufzuzeigen."
   ]
  },
  {
   "cell_type": "code",
   "execution_count": null,
   "metadata": {},
   "outputs": [],
   "source": [
    "df.head(2)"
   ]
  },
  {
   "cell_type": "code",
   "execution_count": null,
   "metadata": {},
   "outputs": [],
   "source": [
    "# Je grösser desto schwerer?\n",
    "\n",
    "alt.Chart(df).mark_point().encode(\n",
    "    x = 'weight_kg',\n",
    "    y = 'height_m', \n",
    "    tooltip = ['name', 'weight_kg', 'height_m']\n",
    ")"
   ]
  },
  {
   "cell_type": "code",
   "execution_count": null,
   "metadata": {},
   "outputs": [],
   "source": [
    "# Wähle zwei eigene Spalten und vergleiche sie mit einem Scatterplot\n",
    "\n"
   ]
  },
  {
   "cell_type": "code",
   "execution_count": null,
   "metadata": {},
   "outputs": [],
   "source": []
  },
  {
   "cell_type": "markdown",
   "metadata": {},
   "source": [
    "### Boxplot\n",
    "Boxplots zeigen die Verteilung von Werten nach Kategorie an."
   ]
  },
  {
   "cell_type": "code",
   "execution_count": null,
   "metadata": {},
   "outputs": [],
   "source": [
    "df.head(1)"
   ]
  },
  {
   "cell_type": "code",
   "execution_count": null,
   "metadata": {},
   "outputs": [],
   "source": [
    "alt.Chart(df).mark_boxplot().encode(\n",
    "    x = 'type1', \n",
    "    y = 'attack', \n",
    "    tooltip=['name', 'type1']\n",
    ")"
   ]
  },
  {
   "cell_type": "markdown",
   "metadata": {},
   "source": [
    "### Heatmap\n",
    "Heatmap eignen sich gut um Werte in Farbe darzustellen, wobei die Achsen direkt miteinader im Bezug stehen. Sie kommen vor allem bei zeitlichen Daten zur Anwendung, z.B. um Werte über ein Jahr hinweg pro Tage & Monat darzustellen."
   ]
  },
  {
   "cell_type": "code",
   "execution_count": null,
   "metadata": {},
   "outputs": [],
   "source": []
  },
  {
   "cell_type": "code",
   "execution_count": null,
   "metadata": {},
   "outputs": [],
   "source": [
    "# Weil unser Dataframe noch keine Zeitdaten hat fügen wir fiktive Daten ein, wann wir das Pokemon gefangen haben. \n",
    "import numpy as np\n",
    "\n",
    "# S\n",
    "# eries von zufälligen Daten \n",
    "df_raw[\"capture_date\"] = pd.to_datetime(\n",
    "    np.random.choice(pd.date_range(\"2024-01-01\", \"2024-12-31\"), size=len(df_raw))\n",
    ")"
   ]
  },
  {
   "cell_type": "code",
   "execution_count": null,
   "metadata": {},
   "outputs": [],
   "source": [
    "# Wir prüfen, dass die Datumszeile mit dabei ist\n",
    "df_raw.head(2)"
   ]
  },
  {
   "cell_type": "code",
   "execution_count": null,
   "metadata": {},
   "outputs": [],
   "source": [
    "# sicherstellen, dass \"capture_date\" im Datumsformat ist\n",
    "df_raw.dtypes"
   ]
  },
  {
   "cell_type": "code",
   "execution_count": null,
   "metadata": {},
   "outputs": [],
   "source": [
    "df_capture_grouped = df_raw.groupby('capture_date')['name'].count().reset_index()\n",
    "df_capture_grouped = df_capture_grouped.rename(columns={'name':'count'})"
   ]
  },
  {
   "cell_type": "code",
   "execution_count": null,
   "metadata": {},
   "outputs": [],
   "source": [
    "df_capture_grouped"
   ]
  },
  {
   "cell_type": "code",
   "execution_count": null,
   "metadata": {},
   "outputs": [],
   "source": [
    "alt.Chart(df_capture_grouped).mark_rect().encode(\n",
    "    x = alt.X('date(capture_date):O'),\n",
    "    y = alt.Y('month(capture_date):O'),\n",
    "    color = alt.Color('count'), \n",
    "    tooltip = ['capture_date', 'count']\n",
    ")"
   ]
  },
  {
   "cell_type": "code",
   "execution_count": null,
   "metadata": {},
   "outputs": [],
   "source": []
  },
  {
   "cell_type": "markdown",
   "metadata": {},
   "source": [
    "## Quizz\n"
   ]
  },
  {
   "cell_type": "code",
   "execution_count": null,
   "metadata": {},
   "outputs": [],
   "source": [
    "df"
   ]
  },
  {
   "cell_type": "markdown",
   "metadata": {},
   "source": [
    "1. Erstelle einen Barchart mit den 10 langsamtsen Pokemons. \n",
    "* X-Achse: speed\n",
    "* Y-Achse: name\n"
   ]
  },
  {
   "cell_type": "markdown",
   "metadata": {},
   "source": [
    "2. Zeige die durchschnittliche Attack-Werte nach Jahr an mit dem df `df_mean_attack_year`"
   ]
  },
  {
   "cell_type": "code",
   "execution_count": null,
   "metadata": {},
   "outputs": [],
   "source": [
    "# Neuer Dataframe, der nach Jahr gruppiert und für 'attack' den Durchschnitt ausrechnet\n",
    "df_mean_attack_year = df_raw.groupby('year')['attack'].mean().reset_index()\n",
    "df_mean_attack_year"
   ]
  },
  {
   "cell_type": "code",
   "execution_count": null,
   "metadata": {},
   "outputs": [],
   "source": [
    "alt.Chart(df_mean_attack_year).mark_line().encode(\n",
    "    x = 'year', \n",
    "    y = 'attack'\n",
    ")"
   ]
  },
  {
   "cell_type": "code",
   "execution_count": null,
   "metadata": {},
   "outputs": [],
   "source": [
    "df"
   ]
  },
  {
   "cell_type": "markdown",
   "metadata": {},
   "source": [
    "3. Erstelle ein Punktdiagramm von speed vs. hp. (Basis: df)\n",
    "* Füge ein Tooltip mit name, speed & hp hinzu."
   ]
  },
  {
   "cell_type": "code",
   "execution_count": null,
   "metadata": {},
   "outputs": [],
   "source": [
    "alt.Chart(df).mark_point().encode(\n",
    "    x = 'speed',\n",
    "    y = 'hp',\n",
    "    tooltip=['name', 'hp', 'speed']\n",
    "    \n",
    ")"
   ]
  },
  {
   "cell_type": "markdown",
   "metadata": {},
   "source": [
    "4. Erstelle einen Boxplot mit type2 als x-Achse und capture_rate auf der y-Achse (Basis: df)"
   ]
  },
  {
   "cell_type": "code",
   "execution_count": null,
   "metadata": {},
   "outputs": [],
   "source": [
    "df.head(1)"
   ]
  },
  {
   "cell_type": "code",
   "execution_count": null,
   "metadata": {},
   "outputs": [],
   "source": [
    "alt.Chart(df).mark_boxplot().encode(\n",
    "    x = 'type2', \n",
    "    y = 'capture_rate', \n",
    "    tooltip='name'\n",
    ")"
   ]
  },
  {
   "cell_type": "markdown",
   "metadata": {},
   "source": [
    "5. Bonus: erstelle ein Heatmap, welche type1 und type2 als Achsen hat. <br>\n",
    "Tipp: verwende `color = alt.Color('count(name)')` um die Anzahl Werte pro Feld einzufärben"
   ]
  },
  {
   "cell_type": "code",
   "execution_count": null,
   "metadata": {},
   "outputs": [],
   "source": [
    "alt.Chart(df).mark_rect().encode(\n",
    "    x = 'type1', \n",
    "    y = 'type2', \n",
    "    color = alt.Color('count(name)'),\n",
    "    tooltip = ['count(name)']\n",
    ")"
   ]
  },
  {
   "cell_type": "code",
   "execution_count": null,
   "metadata": {},
   "outputs": [],
   "source": []
  }
 ],
 "metadata": {
  "kernelspec": {
   "display_name": "Python 3",
   "language": "python",
   "name": "python3"
  },
  "language_info": {
   "codemirror_mode": {
    "name": "ipython",
    "version": 3
   },
   "file_extension": ".py",
   "mimetype": "text/x-python",
   "name": "python",
   "nbconvert_exporter": "python",
   "pygments_lexer": "ipython3",
   "version": "3.12.1"
  }
 },
 "nbformat": 4,
 "nbformat_minor": 2
}
