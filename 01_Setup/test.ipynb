{
 "cells": [
  {
   "cell_type": "markdown",
   "id": "dbfcb7a5",
   "metadata": {},
   "source": [
    "# Test\n",
    "\n",
    "This is a Jupyter Notebook you can use to test if all the installation steps have worked:\n",
    "\n",
    "- On the top right corner of VS Code, click **\"Select Kernel\"** and choose the installed Python environment.\n",
    "- In the center top of VS Code click **\"Run All\"**.  You should see a `hello world!` message below. "
   ]
  },
  {
   "cell_type": "code",
   "execution_count": 1,
   "id": "1fb3734d",
   "metadata": {},
   "outputs": [
    {
     "name": "stdout",
     "output_type": "stream",
     "text": [
      "hello world!\n"
     ]
    }
   ],
   "source": [
    "print(\"hello world!\")"
   ]
  }
 ],
 "metadata": {
  "kernelspec": {
   "display_name": "Python 3",
   "language": "python",
   "name": "python3"
  },
  "language_info": {
   "codemirror_mode": {
    "name": "ipython",
    "version": 3
   },
   "file_extension": ".py",
   "mimetype": "text/x-python",
   "name": "python",
   "nbconvert_exporter": "python",
   "pygments_lexer": "ipython3",
   "version": "3.11.5"
  }
 },
 "nbformat": 4,
 "nbformat_minor": 5
}
