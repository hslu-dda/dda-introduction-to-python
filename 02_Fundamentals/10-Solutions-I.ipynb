{
 "cells": [
  {
   "cell_type": "markdown",
   "id": "ff0de67e",
   "metadata": {},
   "source": [
    "# 10 Solutions I"
   ]
  },
  {
   "cell_type": "markdown",
   "id": "2078473e",
   "metadata": {},
   "source": [
    "## 1. Pizza Calculations\n",
    "\n",
    "Stell dir vor, du hast 10 Pizzastücke und 3 Freunde, die zu Besuch kommen.\n",
    "Du möchtest herausfinden:\n",
    "\n",
    "1. Wie viele Stücke bekommt jeder Freund, wenn du gerecht teilst (normale Division)?"
   ]
  },
  {
   "cell_type": "code",
   "execution_count": 1,
   "id": "c2558ee7",
   "metadata": {},
   "outputs": [
    {
     "name": "stdout",
     "output_type": "stream",
     "text": [
      "3.3333333333333335\n"
     ]
    }
   ],
   "source": [
    "stuecke_pro_person = 10 / 3\n",
    "print(stuecke_pro_person)"
   ]
  },
  {
   "cell_type": "markdown",
   "id": "8b3d023d",
   "metadata": {},
   "source": [
    "2.\tWie viele ganze Stücke bekommt jeder Freund? (Ohne Kommastellen, Ganzzahldivision)"
   ]
  },
  {
   "cell_type": "code",
   "execution_count": 2,
   "id": "60f2e18c",
   "metadata": {},
   "outputs": [
    {
     "name": "stdout",
     "output_type": "stream",
     "text": [
      "3\n"
     ]
    }
   ],
   "source": [
    "ganze_stuecke = 10 // 3\n",
    "print(ganze_stuecke)"
   ]
  },
  {
   "cell_type": "markdown",
   "id": "4d9fdda6",
   "metadata": {},
   "source": [
    "3.\tWie viele Stücke bleiben übrig (Modulo %)?"
   ]
  },
  {
   "cell_type": "code",
   "execution_count": 3,
   "id": "e99e2dab",
   "metadata": {},
   "outputs": [
    {
     "name": "stdout",
     "output_type": "stream",
     "text": [
      "1\n"
     ]
    }
   ],
   "source": [
    "rest = 10 % 3\n",
    "print(rest)"
   ]
  },
  {
   "cell_type": "markdown",
   "id": "447e6f9f",
   "metadata": {},
   "source": [
    "## 2. Types\n",
    "\n",
    "Erstelle ein Print Statement welches die Zahl des Jahres in 10 Jahren ausgibt. Nutzte dazu die unten vorbereitete Zelle. Das Print statement sollte so aussehen: `In 10 Jahren ist das Jahr 2035.`"
   ]
  },
  {
   "cell_type": "code",
   "execution_count": 4,
   "id": "8bc0d3a3",
   "metadata": {},
   "outputs": [
    {
     "name": "stdout",
     "output_type": "stream",
     "text": [
      "In 10 Jahren ist das Jahr 2035\n"
     ]
    }
   ],
   "source": [
    "year = '2025'\n",
    "future = 10\n",
    "\n",
    "# add your code\n",
    "year = int(year)\n",
    "future_year = year + future\n",
    "\n",
    "print(\"In\", future, \"Jahren ist das Jahr\", future_year)"
   ]
  }
 ],
 "metadata": {
  "kernelspec": {
   "display_name": "3.10.10",
   "language": "python",
   "name": "python3"
  },
  "language_info": {
   "codemirror_mode": {
    "name": "ipython",
    "version": 3
   },
   "file_extension": ".py",
   "mimetype": "text/x-python",
   "name": "python",
   "nbconvert_exporter": "python",
   "pygments_lexer": "ipython3",
   "version": "3.10.10"
  }
 },
 "nbformat": 4,
 "nbformat_minor": 5
}
