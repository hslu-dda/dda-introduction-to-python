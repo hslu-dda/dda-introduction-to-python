{
 "cells": [
  {
   "cell_type": "markdown",
   "id": "c8815033",
   "metadata": {},
   "source": [
    "# Basics I"
   ]
  },
  {
   "cell_type": "markdown",
   "id": "c506861a",
   "metadata": {},
   "source": [
    "## Defining Variables"
   ]
  },
  {
   "cell_type": "code",
   "execution_count": null,
   "id": "a0d24eb5",
   "metadata": {},
   "outputs": [
    {
     "data": {
      "text/plain": [
       "10"
      ]
     },
     "execution_count": 2,
     "metadata": {},
     "output_type": "execute_result"
    }
   ],
   "source": [
    "# Integer\n",
    "x = 10\n",
    "\n",
    "# Float\n",
    "y = 3.14\n",
    "\n",
    "# String\n",
    "name = \"Alice\"\n",
    "\n",
    "# Boolean\n",
    "is_active = True"
   ]
  },
  {
   "cell_type": "markdown",
   "id": "f55378f4",
   "metadata": {},
   "source": [
    "## Printing Variables"
   ]
  },
  {
   "cell_type": "code",
   "execution_count": 5,
   "id": "18a343c7",
   "metadata": {},
   "outputs": [
    {
     "name": "stdout",
     "output_type": "stream",
     "text": [
      "10\n",
      "10 3.14\n",
      "Alice\n",
      "Hello, Alice!\n"
     ]
    }
   ],
   "source": [
    "print(x)          # Output: 10\n",
    "print(x, y)       # Output: 10 3.14\n",
    "print(name)       # Output: Alice\n",
    "print(f\"Hello, {name}!\")  # Output: Hello, Alice!"
   ]
  },
  {
   "cell_type": "markdown",
   "id": "fc2fada8",
   "metadata": {},
   "source": [
    "## Basic Calculations"
   ]
  },
  {
   "cell_type": "code",
   "execution_count": 8,
   "id": "6692d46e",
   "metadata": {},
   "outputs": [
    {
     "name": "stdout",
     "output_type": "stream",
     "text": [
      "8 8 3.3333333333333335 3 1 8\n"
     ]
    }
   ],
   "source": [
    "# Arithmetic operations\n",
    "sum_value = 5 + 3      # Addition\n",
    "product = 4 * 2        # Multiplication\n",
    "division = 10 / 3      # Division (float result)\n",
    "floor_div = 10 // 3    # Floor division: divides the numbers and rounds the result down to the nearest integer.\n",
    "\n",
    "# Modulor: Returns the remainder of a division.\n",
    "# Can be used to check if a numver is even: \n",
    "# 7 % 2 = 1, so it’s odd\n",
    "# 8 % 2 = 0, so it’s even\n",
    "modulus = 10 % 3\n",
    "\n",
    "# Exponentiation: \n",
    "# Raises a number to a power.\n",
    "# 2**3 => 2 × 2 × 2 = 8\n",
    "power = 2 ** 3\n",
    "\n",
    "print(sum_value, product, division, floor_div, modulus, power)"
   ]
  },
  {
   "cell_type": "markdown",
   "id": "3da2ce74",
   "metadata": {},
   "source": [
    "## Data Types"
   ]
  },
  {
   "cell_type": "code",
   "execution_count": 10,
   "id": "fefb9423",
   "metadata": {},
   "outputs": [
    {
     "name": "stdout",
     "output_type": "stream",
     "text": [
      "<class 'int'>\n",
      "<class 'float'>\n",
      "<class 'str'>\n",
      "<class 'bool'>\n",
      "<class 'float'>\n",
      "<class 'str'>\n"
     ]
    }
   ],
   "source": [
    "print(type(x))      # Output: <class 'int'>\n",
    "print(type(y))      # Output: <class 'float'>\n",
    "print(type(name))   # Output: <class 'str'>\n",
    "print(type(is_active))  # Output: <class 'bool'>\n",
    "print(type(5 / 3))\n",
    "print(type(\"abc\"))"
   ]
  },
  {
   "cell_type": "markdown",
   "id": "060977d5",
   "metadata": {},
   "source": [
    "## Zwischenaufgaben\n"
   ]
  },
  {
   "cell_type": "markdown",
   "id": "c4075431",
   "metadata": {},
   "source": [
    "### 1. Zuweisung\n",
    "\n",
    "Weise den Wert ```42``` einer Variable mit dem Namen ```ultimate_answer``` zu.\n",
    "\n",
    "### 2. Print Statement\n",
    "\n",
    "Schreibe ein Programm, welches deinen Vornamen in einer Variable ```firstname``` speichert und dann folgenden Text ausgibt:\n",
    "> Hallo VORNAME - Es freut mich, dass du programmieren lernst. \n",
    "\n",
    "\n",
    "### 3. Swap\n",
    "\n",
    "Schreib ein Programm, welches den Wert der Variablen ```a``` und ```b``` vertauscht, d.h. ```a``` soll am Ende den Wert von ```b``` haben und ```b``` den Wert der Variablen ```a```. Dabei darfst du die Werte ```0``` und ```1``` nicht direkt zuweisen, sondern musst Variablen (und allenfalls Hilfsvariablen) nutzen. \n",
    "\n",
    "Übernimm dazu diese vorgegebenen Variablen:\n",
    "\n",
    "```python\n",
    "a = 0 # Diese Zeile darf nicht verändert werden\n",
    "b = 1 # Diese Zeile darf nicht verändert werden\n",
    "```"
   ]
  },
  {
   "cell_type": "markdown",
   "id": "bf94e141",
   "metadata": {},
   "source": [
    "### Lösungen Zwischenaufgabe"
   ]
  },
  {
   "cell_type": "code",
   "execution_count": 11,
   "id": "3503455b",
   "metadata": {},
   "outputs": [],
   "source": [
    "ultimate_answer = 42"
   ]
  },
  {
   "cell_type": "code",
   "execution_count": 12,
   "id": "cc14f2e7",
   "metadata": {},
   "outputs": [
    {
     "name": "stdout",
     "output_type": "stream",
     "text": [
      "Hallo Max - Es freut mich, dass du programmieren lernst.\n"
     ]
    }
   ],
   "source": [
    "firstname = \"Max\"\n",
    "print(\"Hallo\", firstname, \"- Es freut mich, dass du programmieren lernst.\")"
   ]
  },
  {
   "cell_type": "markdown",
   "id": "4ce3e63c",
   "metadata": {},
   "source": []
  },
  {
   "cell_type": "code",
   "execution_count": 13,
   "id": "21134c87",
   "metadata": {},
   "outputs": [
    {
     "name": "stdout",
     "output_type": "stream",
     "text": [
      "Wert von a: 1 Wert von b: 0\n"
     ]
    }
   ],
   "source": [
    "a = 0 # Diese Zeile darf nicht verändert werden\n",
    "b = 1 # Diese Zeile darf nicht verändert werden\n",
    "\n",
    "# Ihre Lösung\n",
    "holdA = a\n",
    "a = b\n",
    "b = holdA\n",
    "\n",
    "print(\"Wert von a:\", a, \"Wert von b:\", b)"
   ]
  }
 ],
 "metadata": {
  "kernelspec": {
   "display_name": "3.11.5",
   "language": "python",
   "name": "python3"
  },
  "language_info": {
   "codemirror_mode": {
    "name": "ipython",
    "version": 3
   },
   "file_extension": ".py",
   "mimetype": "text/x-python",
   "name": "python",
   "nbconvert_exporter": "python",
   "pygments_lexer": "ipython3",
   "version": "3.11.5"
  }
 },
 "nbformat": 4,
 "nbformat_minor": 5
}
