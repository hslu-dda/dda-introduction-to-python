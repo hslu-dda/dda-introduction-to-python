{
 "cells": [
  {
   "cell_type": "markdown",
   "id": "c8815033",
   "metadata": {},
   "source": [
    "# 02 Lists\n",
    "Lists contai a series of elements. They are declared by using `[]`brackets."
   ]
  },
  {
   "cell_type": "code",
   "execution_count": 1,
   "id": "f3e896c1",
   "metadata": {},
   "outputs": [
    {
     "data": {
      "text/plain": [
       "[1, 2, 3, 4, 5]"
      ]
     },
     "execution_count": 1,
     "metadata": {},
     "output_type": "execute_result"
    }
   ],
   "source": [
    "# List\n",
    "numbers = [1, 2, 3, 4, 5]\n",
    "numbers"
   ]
  },
  {
   "cell_type": "code",
   "execution_count": 2,
   "id": "b65741a0",
   "metadata": {},
   "outputs": [
    {
     "data": {
      "text/plain": [
       "['these', 'are', 'a', 'few', 'of', 'my', 'favorite', 'things']"
      ]
     },
     "execution_count": 2,
     "metadata": {},
     "output_type": "execute_result"
    }
   ],
   "source": [
    "# list can contain any other data type\n",
    "words = [\"these\", \"are\", \"a\", \"few\", \"of\", \"my\", \"favorite\", \"things\"]\n",
    "words"
   ]
  },
  {
   "cell_type": "code",
   "execution_count": null,
   "id": "98b2c751",
   "metadata": {},
   "outputs": [],
   "source": []
  },
  {
   "cell_type": "markdown",
   "id": "1bea7241",
   "metadata": {},
   "source": [
    "### Indexing\n",
    "Python starts counting at 0, just like JavaScript. "
   ]
  },
  {
   "cell_type": "code",
   "execution_count": 3,
   "id": "cc94f958",
   "metadata": {},
   "outputs": [
    {
     "data": {
      "text/plain": [
       "[1, 2, 3, 4, 5]"
      ]
     },
     "execution_count": 3,
     "metadata": {},
     "output_type": "execute_result"
    }
   ],
   "source": [
    "numbers"
   ]
  },
  {
   "cell_type": "code",
   "execution_count": 4,
   "id": "08fc4cb8",
   "metadata": {},
   "outputs": [
    {
     "data": {
      "text/plain": [
       "1"
      ]
     },
     "execution_count": 4,
     "metadata": {},
     "output_type": "execute_result"
    }
   ],
   "source": [
    "# show show the first element of a list\n",
    "numbers[0]"
   ]
  },
  {
   "cell_type": "code",
   "execution_count": 5,
   "id": "c4b420d4",
   "metadata": {},
   "outputs": [
    {
     "data": {
      "text/plain": [
       "2"
      ]
     },
     "execution_count": 5,
     "metadata": {},
     "output_type": "execute_result"
    }
   ],
   "source": [
    "# show show the second element of a list?\n",
    "numbers[1]"
   ]
  },
  {
   "cell_type": "code",
   "execution_count": 6,
   "id": "9e6ad8e2",
   "metadata": {},
   "outputs": [
    {
     "data": {
      "text/plain": [
       "5"
      ]
     },
     "execution_count": 6,
     "metadata": {},
     "output_type": "execute_result"
    }
   ],
   "source": [
    "# show the last element of a list\n",
    "numbers[-1]"
   ]
  },
  {
   "cell_type": "code",
   "execution_count": null,
   "id": "defb0dce",
   "metadata": {},
   "outputs": [],
   "source": []
  },
  {
   "cell_type": "markdown",
   "id": "1fb9a8f2",
   "metadata": {},
   "source": [
    "### Subsetting lists"
   ]
  },
  {
   "cell_type": "code",
   "execution_count": 9,
   "id": "5cce7f8c",
   "metadata": {},
   "outputs": [
    {
     "data": {
      "text/plain": [
       "[1, 2, 3, 4, 5]"
      ]
     },
     "execution_count": 9,
     "metadata": {},
     "output_type": "execute_result"
    }
   ],
   "source": [
    "numbers"
   ]
  },
  {
   "cell_type": "code",
   "execution_count": 7,
   "id": "00aa12fe",
   "metadata": {},
   "outputs": [
    {
     "data": {
      "text/plain": [
       "[1, 2, 3]"
      ]
     },
     "execution_count": 7,
     "metadata": {},
     "output_type": "execute_result"
    }
   ],
   "source": [
    "# show the all elements before index 3\n",
    "numbers[:3]"
   ]
  },
  {
   "cell_type": "code",
   "execution_count": 8,
   "id": "0b0ea7f7",
   "metadata": {},
   "outputs": [
    {
     "data": {
      "text/plain": [
       "[3, 4, 5]"
      ]
     },
     "execution_count": 8,
     "metadata": {},
     "output_type": "execute_result"
    }
   ],
   "source": [
    "# show all elements after index 2\n",
    "numbers[2:]"
   ]
  },
  {
   "cell_type": "code",
   "execution_count": 12,
   "id": "e3438305",
   "metadata": {},
   "outputs": [
    {
     "data": {
      "text/plain": [
       "[2, 3, 4]"
      ]
     },
     "execution_count": 12,
     "metadata": {},
     "output_type": "execute_result"
    }
   ],
   "source": [
    "# all elements except the first and the last \n",
    "numbers[1:-1]"
   ]
  },
  {
   "cell_type": "code",
   "execution_count": null,
   "id": "9e9e1213",
   "metadata": {},
   "outputs": [],
   "source": []
  },
  {
   "cell_type": "markdown",
   "id": "eb688f3c",
   "metadata": {},
   "source": [
    "### Adding and removing elements"
   ]
  },
  {
   "cell_type": "code",
   "execution_count": 10,
   "id": "0dfcade9",
   "metadata": {},
   "outputs": [
    {
     "data": {
      "text/plain": [
       "[1, 2, 3, 4, 5, 6]"
      ]
     },
     "execution_count": 10,
     "metadata": {},
     "output_type": "execute_result"
    }
   ],
   "source": [
    "#add an element to a list at the end\n",
    "\n",
    "numbers.append(6)\n",
    "numbers"
   ]
  },
  {
   "cell_type": "code",
   "execution_count": 11,
   "id": "5df637aa",
   "metadata": {},
   "outputs": [
    {
     "data": {
      "text/plain": [
       "[1, 3, 4, 5, 6]"
      ]
     },
     "execution_count": 11,
     "metadata": {},
     "output_type": "execute_result"
    }
   ],
   "source": [
    "# remove an element by name\n",
    "\n",
    "numbers.remove(2)\n",
    "numbers"
   ]
  },
  {
   "cell_type": "code",
   "execution_count": 12,
   "id": "3bae6b5f",
   "metadata": {},
   "outputs": [
    {
     "data": {
      "text/plain": [
       "[1, 3, 5, 6]"
      ]
     },
     "execution_count": 12,
     "metadata": {},
     "output_type": "execute_result"
    }
   ],
   "source": [
    "# remove an element by index (e.g. if there are multiple elements of the same value)\n",
    "\n",
    "numbers.pop(2)\n",
    "numbers"
   ]
  },
  {
   "cell_type": "code",
   "execution_count": 13,
   "id": "28acbe54",
   "metadata": {},
   "outputs": [
    {
     "data": {
      "text/plain": [
       "[1, 2, 3, 5, 6]"
      ]
     },
     "execution_count": 13,
     "metadata": {},
     "output_type": "execute_result"
    }
   ],
   "source": [
    "# insert a list element at an index. -> .insert(index, element)\n",
    "numbers.insert(1,2)\n",
    "numbers"
   ]
  },
  {
   "cell_type": "code",
   "execution_count": 14,
   "id": "2c5caf1d",
   "metadata": {},
   "outputs": [
    {
     "data": {
      "text/plain": [
       "[1, 2, 3, 4, 5, 6]"
      ]
     },
     "execution_count": 14,
     "metadata": {},
     "output_type": "execute_result"
    }
   ],
   "source": [
    "#insert 4 after element \"3\"\n",
    "numbers.insert(3, 4)\n",
    "numbers"
   ]
  },
  {
   "cell_type": "markdown",
   "id": "034117d9",
   "metadata": {},
   "source": [
    "### Quizz\n",
    "\n",
    "1. define the list \"more_numbers\" containing  11, 12, 13, 14, 15."
   ]
  },
  {
   "cell_type": "code",
   "execution_count": null,
   "id": "24be24b7",
   "metadata": {},
   "outputs": [],
   "source": []
  },
  {
   "cell_type": "markdown",
   "id": "bcc5c997",
   "metadata": {},
   "source": [
    "2. Add the number 16 to the end of the list."
   ]
  },
  {
   "cell_type": "code",
   "execution_count": null,
   "id": "57e0120c",
   "metadata": {},
   "outputs": [],
   "source": []
  },
  {
   "cell_type": "markdown",
   "id": "cfd3cbbb",
   "metadata": {},
   "source": [
    "3. Insert the number 10 at the beginning of the list."
   ]
  },
  {
   "cell_type": "code",
   "execution_count": null,
   "id": "a5eff370",
   "metadata": {},
   "outputs": [],
   "source": []
  },
  {
   "cell_type": "markdown",
   "id": "e4899914",
   "metadata": {},
   "source": [
    "4. a) Remove the number 14 from the list.\n",
    "\n",
    "    b) Try removing a number that does not exist (e.g. 99). What happens?"
   ]
  },
  {
   "cell_type": "code",
   "execution_count": null,
   "id": "38087164",
   "metadata": {},
   "outputs": [],
   "source": []
  },
  {
   "cell_type": "markdown",
   "id": "2b8108ab",
   "metadata": {},
   "source": [
    "5. Remove the last element from the list with .pop() and save it in a variable. Print both the list and the removed element."
   ]
  },
  {
   "cell_type": "code",
   "execution_count": 21,
   "id": "d70bd7e6",
   "metadata": {},
   "outputs": [
    {
     "data": {
      "text/plain": [
       "5"
      ]
     },
     "execution_count": 21,
     "metadata": {},
     "output_type": "execute_result"
    }
   ],
   "source": []
  },
  {
   "cell_type": "markdown",
   "id": "2f7f9695",
   "metadata": {},
   "source": [
    "6. \n",
    "* Print the first element of the list.\n",
    "* Print the last element of the list.\n",
    "* Print the third element of the list."
   ]
  },
  {
   "cell_type": "code",
   "execution_count": null,
   "id": "bf2cf404",
   "metadata": {},
   "outputs": [],
   "source": []
  },
  {
   "cell_type": "markdown",
   "id": "5ec5e563",
   "metadata": {},
   "source": [
    "7. \n",
    "* Print the first three elements of the list.\n",
    "* Print all elements except the last two."
   ]
  },
  {
   "cell_type": "code",
   "execution_count": null,
   "id": "0642b8b6",
   "metadata": {},
   "outputs": [],
   "source": []
  },
  {
   "cell_type": "code",
   "execution_count": null,
   "id": "ec253d83",
   "metadata": {},
   "outputs": [],
   "source": []
  },
  {
   "cell_type": "markdown",
   "id": "aa4e79d4",
   "metadata": {},
   "source": [
    "### more list actions\n",
    "\n",
    "listA `+` listB: combines two lists<br>\n",
    "`list.sort()`: sorts a list<br>\n",
    "`list.sort(reverse = True)`: reverses the order\n",
    "\n",
    "**More functions with lists containing numbers**\n",
    "\n",
    "`max(list)`: returns the highest value <br>\n",
    "`min()`: returns the lowest value <br>\n",
    "`sum()`: returns the sum <br>\n",
    "`mean()`: returns the average <br>\n",
    "`median()`: returns the median."
   ]
  },
  {
   "cell_type": "code",
   "execution_count": 13,
   "id": "a99723fc",
   "metadata": {},
   "outputs": [
    {
     "data": {
      "text/plain": [
       "[1, 2, 3, 4, 5, 'these', 'are', 'a', 'few', 'of', 'my', 'favorite', 'things']"
      ]
     },
     "execution_count": 13,
     "metadata": {},
     "output_type": "execute_result"
    }
   ],
   "source": [
    "# 1. combine the lists numbers  words\n",
    "\n"
   ]
  },
  {
   "cell_type": "code",
   "execution_count": 16,
   "id": "de384b40",
   "metadata": {},
   "outputs": [
    {
     "data": {
      "text/plain": [
       "[5, 4, 3, 2, 1]"
      ]
     },
     "execution_count": 16,
     "metadata": {},
     "output_type": "execute_result"
    }
   ],
   "source": [
    "# 2. sort list numbers in reverse order\n",
    "\n"
   ]
  },
  {
   "cell_type": "code",
   "execution_count": 28,
   "id": "1e4bb058",
   "metadata": {},
   "outputs": [
    {
     "data": {
      "text/plain": [
       "4"
      ]
     },
     "execution_count": 28,
     "metadata": {},
     "output_type": "execute_result"
    }
   ],
   "source": [
    "# 3. return the lowest value of more_numbers\n",
    "\n"
   ]
  },
  {
   "cell_type": "markdown",
   "id": "0b448c07",
   "metadata": {},
   "source": [
    "#\n"
   ]
  },
  {
   "cell_type": "code",
   "execution_count": 30,
   "id": "6c6cde14",
   "metadata": {},
   "outputs": [
    {
     "data": {
      "text/plain": [
       "'things'"
      ]
     },
     "execution_count": 30,
     "metadata": {},
     "output_type": "execute_result"
    }
   ],
   "source": [
    "# 4. what happens if you print the highest value of \"words\"?\n"
   ]
  },
  {
   "cell_type": "code",
   "execution_count": null,
   "id": "4ca3fd05",
   "metadata": {},
   "outputs": [],
   "source": []
  }
 ],
 "metadata": {
  "kernelspec": {
   "display_name": "Python 3",
   "language": "python",
   "name": "python3"
  },
  "language_info": {
   "codemirror_mode": {
    "name": "ipython",
    "version": 3
   },
   "file_extension": ".py",
   "mimetype": "text/x-python",
   "name": "python",
   "nbconvert_exporter": "python",
   "pygments_lexer": "ipython3",
   "version": "3.12.1"
  }
 },
 "nbformat": 4,
 "nbformat_minor": 5
}
