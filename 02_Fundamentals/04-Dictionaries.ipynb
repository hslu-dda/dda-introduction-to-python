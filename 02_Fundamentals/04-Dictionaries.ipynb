{
 "cells": [
  {
   "cell_type": "markdown",
   "id": "c8815033",
   "metadata": {},
   "source": [
    "# 04 Dictionaries\n",
    "Dictionaries are declared by `{}` brackets. They contain pairs of a key and value. "
   ]
  },
  {
   "cell_type": "code",
   "execution_count": 1,
   "id": "48032c40",
   "metadata": {},
   "outputs": [
    {
     "data": {
      "text/plain": [
       "{'name': 'Alice', 'age': 25, 'city': 'New York'}"
      ]
     },
     "execution_count": 1,
     "metadata": {},
     "output_type": "execute_result"
    }
   ],
   "source": [
    "person = {\"name\": \"Alice\", \"age\": 25, \"city\": \"New York\"}\n",
    "person"
   ]
  },
  {
   "cell_type": "code",
   "execution_count": 2,
   "id": "78ef6fda",
   "metadata": {},
   "outputs": [
    {
     "data": {
      "text/plain": [
       "'Alice'"
      ]
     },
     "execution_count": 2,
     "metadata": {},
     "output_type": "execute_result"
    }
   ],
   "source": [
    "#with dict[key] we can display the value of a key\n",
    "person[\"name\"]\n"
   ]
  },
  {
   "cell_type": "code",
   "execution_count": null,
   "id": "6d19c5e4",
   "metadata": {},
   "outputs": [],
   "source": [
    "# we can also change the value \n",
    "person[\"age\"] = 26      \n"
   ]
  },
  {
   "cell_type": "code",
   "execution_count": 4,
   "id": "bdb9fcd8",
   "metadata": {},
   "outputs": [
    {
     "data": {
      "text/plain": [
       "{'name': 'Alice', 'age': 25, 'city': 'New York', 'favourite animal': 'unicorn'}"
      ]
     },
     "execution_count": 4,
     "metadata": {},
     "output_type": "execute_result"
    }
   ],
   "source": [
    "# ... and add another key value pair \n",
    "person[\"favourite animal\"] = \"unicorn\" \n",
    "person"
   ]
  },
  {
   "cell_type": "code",
   "execution_count": null,
   "id": "8ba7a2de",
   "metadata": {},
   "outputs": [],
   "source": [
    "# with <del> we can delete a key value pair:\n",
    "\n",
    "del person['city']\n",
    "person"
   ]
  },
  {
   "cell_type": "code",
   "execution_count": 7,
   "id": "d68bc943",
   "metadata": {},
   "outputs": [
    {
     "data": {
      "text/plain": [
       "dict_keys(['name', 'age', 'favourite animal'])"
      ]
     },
     "execution_count": 7,
     "metadata": {},
     "output_type": "execute_result"
    }
   ],
   "source": [
    "# show all keys of a dict\n",
    "person.keys()"
   ]
  },
  {
   "cell_type": "code",
   "execution_count": null,
   "id": "3245d940",
   "metadata": {},
   "outputs": [],
   "source": [
    "# show all values of a dict\n",
    "person.values()"
   ]
  },
  {
   "cell_type": "markdown",
   "id": "57388b89",
   "metadata": {},
   "source": [
    "### Quizz\n",
    "1. Create the dict \"neighbour\", containing the keys from person above and the values corresponding to your neighbour next to you\n",
    "2. Change the name to include both first and last name\n",
    "3. Add a boolean if they live in Lucerne\n",
    "4. delete the age\n",
    "5. And print the dict\n"
   ]
  },
  {
   "cell_type": "markdown",
   "id": "e598fff0",
   "metadata": {},
   "source": []
  }
 ],
 "metadata": {
  "kernelspec": {
   "display_name": "Python 3",
   "language": "python",
   "name": "python3"
  },
  "language_info": {
   "codemirror_mode": {
    "name": "ipython",
    "version": 3
   },
   "file_extension": ".py",
   "mimetype": "text/x-python",
   "name": "python",
   "nbconvert_exporter": "python",
   "pygments_lexer": "ipython3",
   "version": "3.12.1"
  }
 },
 "nbformat": 4,
 "nbformat_minor": 5
}
