{
 "cells": [
  {
   "cell_type": "markdown",
   "id": "0f41ec95",
   "metadata": {},
   "source": [
    "# Dictionaries\n",
    "\n",
    "Dictionaries sind Schlüssel-Wert Paare. Vergleichbar mit benannten Listen in R."
   ]
  },
  {
   "cell_type": "code",
   "execution_count": null,
   "id": "87a44b9c",
   "metadata": {},
   "outputs": [],
   "source": [
    "mydict = {\"Pilatus\": 2128, \"Schilthorn\": 2970, \"Pfannenstiel\": 853, \n",
    "          \"Üetliberg\": 870,  \"Gurten\": 858}\n",
    "mydict"
   ]
  },
  {
   "cell_type": "markdown",
   "id": "406442ef",
   "metadata": {},
   "source": [
    "#### Einträge anzeigen"
   ]
  },
  {
   "cell_type": "code",
   "execution_count": null,
   "id": "d280d7e3",
   "metadata": {},
   "outputs": [],
   "source": [
    "# Alle Schlüssel des dcits ausgeben\n",
    "\n",
    "mydict.keys()"
   ]
  },
  {
   "cell_type": "code",
   "execution_count": null,
   "id": "04d7c001",
   "metadata": {},
   "outputs": [],
   "source": [
    "# Alle Werte des dicts ausgeben\n",
    "mydict.values()"
   ]
  },
  {
   "cell_type": "code",
   "execution_count": null,
   "id": "a3ce1f9b",
   "metadata": {},
   "outputs": [],
   "source": [
    "# Den Value des Üetlibergs anzeigen\n",
    "\n",
    "mydict['Üetliberg']"
   ]
  },
  {
   "cell_type": "code",
   "execution_count": null,
   "id": "3874c457",
   "metadata": {},
   "outputs": [],
   "source": []
  },
  {
   "cell_type": "markdown",
   "id": "8119aa24",
   "metadata": {},
   "source": [
    "#### Einträge hinzufügen / löschen"
   ]
  },
  {
   "cell_type": "code",
   "execution_count": null,
   "id": "b0cee7a6",
   "metadata": {},
   "outputs": [],
   "source": [
    "# Einen neuen Eintrag hinzufügen\n",
    "mydict['Mythen'] = 1898"
   ]
  },
  {
   "cell_type": "code",
   "execution_count": null,
   "id": "108f2d14",
   "metadata": {},
   "outputs": [],
   "source": [
    "mydict"
   ]
  },
  {
   "cell_type": "code",
   "execution_count": null,
   "id": "31ae8167",
   "metadata": {},
   "outputs": [],
   "source": [
    "# einen Eintrag löschen\n",
    "del mydict['Pfannenstiel']"
   ]
  },
  {
   "cell_type": "code",
   "execution_count": null,
   "id": "2fe4861e",
   "metadata": {},
   "outputs": [],
   "source": [
    "mydict"
   ]
  },
  {
   "cell_type": "code",
   "execution_count": null,
   "id": "948213b5",
   "metadata": {},
   "outputs": [],
   "source": []
  },
  {
   "cell_type": "markdown",
   "id": "a37c8acd",
   "metadata": {},
   "source": [
    "### Mehr dicts"
   ]
  },
  {
   "cell_type": "code",
   "execution_count": null,
   "id": "8f522c64",
   "metadata": {},
   "outputs": [],
   "source": []
  },
  {
   "cell_type": "code",
   "execution_count": null,
   "id": "8ea6d9c2",
   "metadata": {},
   "outputs": [],
   "source": []
  },
  {
   "cell_type": "markdown",
   "id": "c088ce72",
   "metadata": {},
   "source": [
    "Wir erstelle einen Dict mit dem Namen de_it für unsere nächste Italienreise. "
   ]
  },
  {
   "cell_type": "code",
   "execution_count": null,
   "id": "25351a96",
   "metadata": {},
   "outputs": [],
   "source": [
    "italienisch = {\"ein Eis\": \"un gelato\", \n",
    "               \"Guten Tag\":  \"Buon giorno\", \n",
    "               \"ich hätte gern\": 'vorrei un',\n",
    "               \"bitte\":'per favore'}"
   ]
  },
  {
   "cell_type": "markdown",
   "id": "2799a4a4",
   "metadata": {},
   "source": [
    "Jetzt fehlen uns endlich nicht mehr die Worte beim Glacé-Bestellen!"
   ]
  },
  {
   "cell_type": "code",
   "execution_count": null,
   "id": "e7509d5a",
   "metadata": {},
   "outputs": [],
   "source": [
    "\n",
    "print(italienisch[\"Guten Tag\"], italienisch['ich hätte gern'], \n",
    "      italienisch[\"ein Eis\"], italienisch['bitte'])"
   ]
  },
  {
   "cell_type": "markdown",
   "id": "801e26b6",
   "metadata": {},
   "source": [
    "Füge jetzt noch deine Liebslingfarbe (mit dem Key \"Lieblingsfarbe\") auf zum Dict hinzu. "
   ]
  },
  {
   "cell_type": "code",
   "execution_count": null,
   "id": "c1cc3cad",
   "metadata": {},
   "outputs": [],
   "source": []
  },
  {
   "cell_type": "markdown",
   "id": "9cc19cbc",
   "metadata": {},
   "source": [
    "Füge auch dein Lieblingsessen zum Dict. "
   ]
  },
  {
   "cell_type": "code",
   "execution_count": null,
   "id": "edfe4c64",
   "metadata": {},
   "outputs": [],
   "source": []
  },
  {
   "cell_type": "code",
   "execution_count": null,
   "id": "3db79fb8",
   "metadata": {},
   "outputs": [],
   "source": [
    "# und schon können wir zwei weitere Sätze.\n",
    "print('Il mio colore preferito è il', italienisch[\"Lieblingsfarbe\"]+\".\")\n",
    "print('Il mio cibo preferito è il', italienisch[\"Lieblingessen\"]+\".\")"
   ]
  },
  {
   "cell_type": "code",
   "execution_count": null,
   "id": "212ac66e",
   "metadata": {},
   "outputs": [],
   "source": []
  },
  {
   "cell_type": "markdown",
   "id": "d7a3d560",
   "metadata": {},
   "source": [
    "Welche Werte hatten wir noch mal in de_it gespeichert? Printe sie aus. "
   ]
  },
  {
   "cell_type": "code",
   "execution_count": null,
   "id": "3f08504e",
   "metadata": {},
   "outputs": [],
   "source": []
  },
  {
   "cell_type": "markdown",
   "id": "f2c40b9d",
   "metadata": {},
   "source": [
    "Und was waren die Keys dazu? Printe auch sie aus. "
   ]
  },
  {
   "cell_type": "code",
   "execution_count": null,
   "id": "b8247d49",
   "metadata": {},
   "outputs": [],
   "source": []
  },
  {
   "cell_type": "markdown",
   "id": "7ef0aba9",
   "metadata": {},
   "source": [
    "Ist der Key \"ein Eis\" im Dict enthalten?"
   ]
  },
  {
   "cell_type": "code",
   "execution_count": null,
   "id": "628a16e7",
   "metadata": {},
   "outputs": [],
   "source": []
  }
 ],
 "metadata": {
  "kernelspec": {
   "display_name": "thisenv",
   "language": "python",
   "name": "thisenv"
  },
  "language_info": {
   "codemirror_mode": {
    "name": "ipython",
    "version": 3
   },
   "file_extension": ".py",
   "mimetype": "text/x-python",
   "name": "python",
   "nbconvert_exporter": "python",
   "pygments_lexer": "ipython3",
   "version": "3.12.0"
  }
 },
 "nbformat": 4,
 "nbformat_minor": 5
}
