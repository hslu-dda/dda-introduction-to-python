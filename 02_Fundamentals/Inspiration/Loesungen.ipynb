{
 "cells": [
  {
   "cell_type": "markdown",
   "id": "0ae78213",
   "metadata": {},
   "source": [
    "# Lösungen zu ein paar Übungen"
   ]
  },
  {
   "cell_type": "markdown",
   "id": "52e0c467",
   "metadata": {},
   "source": [
    "1. Wandle die Strophe in eine Liste aus einzelnen Wörtern um. "
   ]
  },
  {
   "cell_type": "code",
   "execution_count": 1,
   "id": "39b753fd",
   "metadata": {},
   "outputs": [],
   "source": [
    "\n",
    "lalala = \"\"\"La la, la la la la la na na na na na,\n",
    "La la na na, la la la la la na na na na na\n",
    "La la, la la la la la na na na na na,\n",
    "La la na na, la la la la la na na na na na\"\"\"\n",
    "\n"
   ]
  },
  {
   "cell_type": "code",
   "execution_count": 2,
   "id": "da960393",
   "metadata": {},
   "outputs": [
    {
     "name": "stdout",
     "output_type": "stream",
     "text": [
      "['La', 'la,', 'la', 'la', 'la', 'la', 'la', 'na', 'na', 'na', 'na', 'na,\\nLa', 'la', 'na', 'na,', 'la', 'la', 'la', 'la', 'la', 'na', 'na', 'na', 'na', 'na\\nLa', 'la,', 'la', 'la', 'la', 'la', 'la', 'na', 'na', 'na', 'na', 'na,\\nLa', 'la', 'na', 'na,', 'la', 'la', 'la', 'la', 'la', 'na', 'na', 'na', 'na', 'na']\n"
     ]
    }
   ],
   "source": [
    "lalala_lst = lalala.split(' ')\n",
    "print(lalala_lst)"
   ]
  },
  {
   "cell_type": "code",
   "execution_count": null,
   "id": "ecd29ce2",
   "metadata": {},
   "outputs": [],
   "source": []
  },
  {
   "cell_type": "code",
   "execution_count": null,
   "id": "5f0813fe",
   "metadata": {},
   "outputs": [],
   "source": []
  },
  {
   "cell_type": "markdown",
   "id": "01107706",
   "metadata": {},
   "source": [
    "2. Zähle wie oft jedes Wort vorkommt. "
   ]
  },
  {
   "cell_type": "code",
   "execution_count": 3,
   "id": "4f53f3ff",
   "metadata": {},
   "outputs": [
    {
     "name": "stdout",
     "output_type": "stream",
     "text": [
      "{'La': 1, 'la,': 2, 'la': 22, 'na': 19, 'na,\\nLa': 2, 'na,': 2, 'na\\nLa': 1}\n"
     ]
    }
   ],
   "source": [
    "dct = {}\n",
    "\n",
    "for element in lalala_lst:\n",
    "    dct[element] = lalala_lst.count(element)\n",
    "\n",
    "print(dct)"
   ]
  },
  {
   "cell_type": "code",
   "execution_count": null,
   "id": "c833e71d",
   "metadata": {},
   "outputs": [],
   "source": []
  },
  {
   "cell_type": "markdown",
   "id": "97d07c7e",
   "metadata": {},
   "source": [
    "3. Sortiere die Namen so dass sie nach Länge des Vornamesn sortiert sind."
   ]
  },
  {
   "cell_type": "code",
   "execution_count": 4,
   "id": "187142e2",
   "metadata": {},
   "outputs": [
    {
     "name": "stdout",
     "output_type": "stream",
     "text": [
      "['Mani Matter', 'Bühne Huber', 'Steph la Cheffe', 'Sophie Hunger']\n"
     ]
    }
   ],
   "source": [
    "lst = [\"Mani Matter\", \"Sophie Hunger\", \"Bühne Huber\", \"Steph la Cheffe\"]\n",
    "\n",
    "def get_length(item):\n",
    "    vorname = item.split(' ')[0]\n",
    "    return  len(vorname)\n",
    "    \n",
    "\n",
    "lst.sort(key=get_length)\n",
    "print(lst)"
   ]
  },
  {
   "cell_type": "code",
   "execution_count": null,
   "id": "d08c9a2e",
   "metadata": {},
   "outputs": [],
   "source": []
  },
  {
   "cell_type": "code",
   "execution_count": null,
   "id": "8011fcec",
   "metadata": {},
   "outputs": [],
   "source": []
  },
  {
   "cell_type": "markdown",
   "id": "d1e33f3c",
   "metadata": {},
   "source": [
    "4. X ist eine zufällige Zahl von 1 - 10. Schreibe eine Funktion die sagt ob ein input gleich x oder grösser oder kleiner ist. "
   ]
  },
  {
   "cell_type": "code",
   "execution_count": 5,
   "id": "75dc0274",
   "metadata": {},
   "outputs": [],
   "source": [
    "import random\n",
    "\n",
    "x = random.randint(1, 10)"
   ]
  },
  {
   "cell_type": "code",
   "execution_count": 6,
   "id": "da9d299a",
   "metadata": {},
   "outputs": [],
   "source": [
    "def guess_x(x, guess):\n",
    "    if x == guess:\n",
    "        res = \"yey, this is it!\"\n",
    "    elif x > guess:\n",
    "        res = \"try a bigger number\"\n",
    "    else:\n",
    "        res = \"try a smaller number\"\n",
    "    print(res)"
   ]
  },
  {
   "cell_type": "code",
   "execution_count": null,
   "id": "dba7e624",
   "metadata": {},
   "outputs": [],
   "source": []
  },
  {
   "cell_type": "code",
   "execution_count": null,
   "id": "da2bb334",
   "metadata": {},
   "outputs": [],
   "source": []
  },
  {
   "cell_type": "markdown",
   "id": "06b753bf",
   "metadata": {},
   "source": [
    "5. Führe die Funktion so lange aus, bis die Zahl erraten ist. <br>\n",
    "Hint: mit ```variable = input(\"Message\") ``` kannst du Input durch den/die User:in eingeben. Input zu int umwandeln."
   ]
  },
  {
   "cell_type": "code",
   "execution_count": 7,
   "id": "395e860e",
   "metadata": {},
   "outputs": [
    {
     "name": "stdout",
     "output_type": "stream",
     "text": [
      "please enter a number: 7\n",
      "try a bigger number\n",
      "please enter a number: 8\n",
      "yey, this is it!\n"
     ]
    }
   ],
   "source": [
    "x = random.randint(1, 10)\n",
    "\n",
    "guess = 0\n",
    "while x != guess:\n",
    "    guess = int(input(\"please enter a number: \"))\n",
    "    guess_x(x, guess)\n",
    "    "
   ]
  },
  {
   "cell_type": "code",
   "execution_count": null,
   "id": "3a00a325",
   "metadata": {},
   "outputs": [],
   "source": []
  },
  {
   "cell_type": "code",
   "execution_count": null,
   "id": "d8700669",
   "metadata": {},
   "outputs": [],
   "source": []
  },
  {
   "cell_type": "code",
   "execution_count": null,
   "id": "0750934d",
   "metadata": {},
   "outputs": [],
   "source": []
  }
 ],
 "metadata": {
  "kernelspec": {
   "display_name": "thisenv",
   "language": "python",
   "name": "thisenv"
  },
  "language_info": {
   "codemirror_mode": {
    "name": "ipython",
    "version": 3
   },
   "file_extension": ".py",
   "mimetype": "text/x-python",
   "name": "python",
   "nbconvert_exporter": "python",
   "pygments_lexer": "ipython3",
   "version": "3.12.0"
  }
 },
 "nbformat": 4,
 "nbformat_minor": 5
}
