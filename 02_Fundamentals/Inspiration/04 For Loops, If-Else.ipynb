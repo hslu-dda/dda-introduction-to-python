{
 "cells": [
  {
   "cell_type": "markdown",
   "id": "a8a31143",
   "metadata": {},
   "source": [
    "# 04 Loops\n",
    "\n",
    "For-Loops sagen Python, er soll eine Aktion für jedes Element einer Liste ausführen. "
   ]
  },
  {
   "cell_type": "markdown",
   "id": "143316bb",
   "metadata": {},
   "source": [
    "## For Loop"
   ]
  },
  {
   "cell_type": "code",
   "execution_count": null,
   "id": "93256fe0",
   "metadata": {},
   "outputs": [],
   "source": [
    "my_list = [1,2,3,4,5,6,7,8,9]\n",
    "\n",
    "for elem in my_list:\n",
    "    print(elem)"
   ]
  },
  {
   "cell_type": "markdown",
   "id": "af2ef6bc",
   "metadata": {},
   "source": [
    "Alles was nach dem Doppelpunkt mit Einzug steht, gehört zur Loop. \n",
    "Was passiert ohne Einzug?"
   ]
  },
  {
   "cell_type": "code",
   "execution_count": null,
   "id": "0eef0c5f",
   "metadata": {},
   "outputs": [],
   "source": [
    "for elem in my_list:\n",
    "print(elem)\n"
   ]
  },
  {
   "cell_type": "markdown",
   "id": "20e3ff8e",
   "metadata": {},
   "source": [
    "Mehr for loops:"
   ]
  },
  {
   "cell_type": "code",
   "execution_count": null,
   "id": "5574226e",
   "metadata": {},
   "outputs": [],
   "source": [
    "# Wir können für jedes Element einer Liste / Range eine Rechenoperation ausführen.\n",
    "for i in range(10,15):\n",
    "    print(i/2)"
   ]
  },
  {
   "cell_type": "code",
   "execution_count": null,
   "id": "6c7c229d",
   "metadata": {},
   "outputs": [],
   "source": [
    "# und wir können zusätzlich Text dazuschreiben.\n",
    "for i in range(10,15):\n",
    "    print(i,\": 2 = \", i/2)"
   ]
  },
  {
   "cell_type": "markdown",
   "id": "47cc3380",
   "metadata": {},
   "source": [
    "### **Quizz:** \n",
    "1. Schreibe eine For Loop, die die Zahlen von 0-9 hoch 2 rechnet. "
   ]
  },
  {
   "cell_type": "code",
   "execution_count": null,
   "id": "83bf4293",
   "metadata": {},
   "outputs": [],
   "source": []
  },
  {
   "cell_type": "markdown",
   "id": "1b819b18",
   "metadata": {},
   "source": [
    "2. Schreibe eine For Loop, welche das Zeichen ```'*'``` erst einmal, dann zweimal, ... bis sieben mal multipliziert."
   ]
  },
  {
   "cell_type": "code",
   "execution_count": null,
   "id": "4dec62fa",
   "metadata": {},
   "outputs": [],
   "source": [
    "for i in range (1, 8):\n",
    "    print('*'*i)"
   ]
  },
  {
   "cell_type": "code",
   "execution_count": null,
   "id": "0b823949",
   "metadata": {},
   "outputs": [],
   "source": []
  },
  {
   "cell_type": "markdown",
   "id": "f1b28020",
   "metadata": {},
   "source": [
    "## If-Else"
   ]
  },
  {
   "cell_type": "markdown",
   "id": "82aec052",
   "metadata": {},
   "source": [
    "If-Else abfragen prüfen ob eine Bedingung zutrifft oder nicht. "
   ]
  },
  {
   "cell_type": "code",
   "execution_count": null,
   "id": "18adbaa0",
   "metadata": {},
   "outputs": [],
   "source": [
    "x = 4\n",
    "\n",
    "if x > 3:\n",
    "    print(\"x ist grösser als 3\")\n",
    "else:\n",
    "    print(\"x kleiner oder gleich 3\")"
   ]
  },
  {
   "cell_type": "code",
   "execution_count": null,
   "id": "6056c3a3",
   "metadata": {},
   "outputs": [],
   "source": []
  },
  {
   "cell_type": "markdown",
   "id": "f5c412e8",
   "metadata": {},
   "source": [
    "**Quizz:** Schreibe ein If-Else-Statement das sagt ob x ein integer ist oder nicht. "
   ]
  },
  {
   "cell_type": "code",
   "execution_count": null,
   "id": "82e5eafa",
   "metadata": {},
   "outputs": [],
   "source": []
  },
  {
   "cell_type": "code",
   "execution_count": null,
   "id": "e4ac6069",
   "metadata": {},
   "outputs": [],
   "source": []
  },
  {
   "cell_type": "markdown",
   "id": "3dcf926d",
   "metadata": {},
   "source": [
    "Wir ergänzen das statement mit weiteren Optionen: float & str\n",
    "<br>(Hint: ```elif <Prüfung>:```)"
   ]
  },
  {
   "cell_type": "code",
   "execution_count": null,
   "id": "ce4d8ab9",
   "metadata": {},
   "outputs": [],
   "source": []
  },
  {
   "cell_type": "code",
   "execution_count": null,
   "id": "676f17d1",
   "metadata": {},
   "outputs": [],
   "source": []
  },
  {
   "cell_type": "code",
   "execution_count": null,
   "id": "c06587de",
   "metadata": {},
   "outputs": [],
   "source": []
  }
 ],
 "metadata": {
  "kernelspec": {
   "display_name": "thisenv",
   "language": "python",
   "name": "thisenv"
  },
  "language_info": {
   "codemirror_mode": {
    "name": "ipython",
    "version": 3
   },
   "file_extension": ".py",
   "mimetype": "text/x-python",
   "name": "python",
   "nbconvert_exporter": "python",
   "pygments_lexer": "ipython3",
   "version": "3.12.0"
  }
 },
 "nbformat": 4,
 "nbformat_minor": 5
}
