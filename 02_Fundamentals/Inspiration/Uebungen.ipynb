{
 "cells": [
  {
   "cell_type": "markdown",
   "id": "0ae78213",
   "metadata": {},
   "source": [
    "# Ein paar Übungen"
   ]
  },
  {
   "cell_type": "markdown",
   "id": "52e0c467",
   "metadata": {},
   "source": [
    "1. Wandle die Strophe in eine Liste aus einzelnen Wörtern um. "
   ]
  },
  {
   "cell_type": "code",
   "execution_count": 1,
   "id": "39b753fd",
   "metadata": {},
   "outputs": [],
   "source": [
    "\n",
    "lalala = \"\"\"La la, la la la la la na na na na na,\n",
    "La la na na, la la la la la na na na na na\n",
    "La la, la la la la la na na na na na,\n",
    "La la na na, la la la la la na na na na na\"\"\"\n",
    "\n"
   ]
  },
  {
   "cell_type": "markdown",
   "id": "01107706",
   "metadata": {},
   "source": [
    "2. Zähle wie oft jedes Wort vorkommt. "
   ]
  },
  {
   "cell_type": "code",
   "execution_count": 2,
   "id": "4f53f3ff",
   "metadata": {},
   "outputs": [],
   "source": [
    "#dct = {}\n",
    "#for element in lalala:\n",
    "# dein code hier \n",
    "\n",
    "#print(dct)"
   ]
  },
  {
   "cell_type": "code",
   "execution_count": null,
   "id": "c833e71d",
   "metadata": {},
   "outputs": [],
   "source": []
  },
  {
   "cell_type": "markdown",
   "id": "97d07c7e",
   "metadata": {},
   "source": [
    "3. Sortiere die Namen so dass sie nach Länge des Vornamesn sortiert sind."
   ]
  },
  {
   "cell_type": "code",
   "execution_count": 3,
   "id": "187142e2",
   "metadata": {},
   "outputs": [],
   "source": [
    "lst = [\"Mani Matter\", \"Sophie Hunger\", \"Bühne Huber\", \"Steph la Cheffe\"]\n",
    "\n",
    "#def get_length(item):\n",
    "    # dein code hier\n",
    "\n",
    "#l.sort(key=get_length)\n",
    "#print(lst)"
   ]
  },
  {
   "cell_type": "code",
   "execution_count": null,
   "id": "cbc7d487",
   "metadata": {},
   "outputs": [],
   "source": []
  },
  {
   "cell_type": "markdown",
   "id": "d1e33f3c",
   "metadata": {},
   "source": [
    "4. X ist eine zufällige Zahl von 1 - 10. Schreibe eine Funktion die sagt ob ein input gleich x oder grösser oder kleiner ist. "
   ]
  },
  {
   "cell_type": "code",
   "execution_count": null,
   "id": "75dc0274",
   "metadata": {},
   "outputs": [],
   "source": []
  },
  {
   "cell_type": "markdown",
   "id": "06b753bf",
   "metadata": {},
   "source": [
    "5. Führe die Funktion so lange aus, bis die Zahl erraten ist. <br>\n",
    "Hint: mit ```variable = input(\"Message\") ``` kannst du Input durch den/die User:in eingeben. Input zu int umwandeln."
   ]
  },
  {
   "cell_type": "code",
   "execution_count": null,
   "id": "69717339",
   "metadata": {},
   "outputs": [],
   "source": []
  },
  {
   "cell_type": "code",
   "execution_count": null,
   "id": "b01dbdef",
   "metadata": {},
   "outputs": [],
   "source": []
  },
  {
   "cell_type": "code",
   "execution_count": null,
   "id": "928a1497",
   "metadata": {},
   "outputs": [],
   "source": []
  }
 ],
 "metadata": {
  "kernelspec": {
   "display_name": "thisenv",
   "language": "python",
   "name": "thisenv"
  },
  "language_info": {
   "codemirror_mode": {
    "name": "ipython",
    "version": 3
   },
   "file_extension": ".py",
   "mimetype": "text/x-python",
   "name": "python",
   "nbconvert_exporter": "python",
   "pygments_lexer": "ipython3",
   "version": "3.12.0"
  }
 },
 "nbformat": 4,
 "nbformat_minor": 5
}
