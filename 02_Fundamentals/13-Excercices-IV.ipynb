{
 "cells": [
  {
   "cell_type": "markdown",
   "id": "c8815033",
   "metadata": {},
   "source": [
    "# 13 Excercises IV"
   ]
  },
  {
   "cell_type": "markdown",
   "id": "3b3d2c77",
   "metadata": {},
   "source": [
    "### 1. Intervall\n",
    "\n",
    "Schreibe ein Programm, welches eine Zahl ```x = 12``` prüft ob diese entweder im Intervall 1 bis 10 oder zwischen 100 und 110 liegt, wobei die Intervallgrenzen zum Intervall gehören sollen. Falls die Zahl in einem der Intervalle liegt soll das Programm ```Ok!``` und im andren Fall ```ausserhalb!``` ausgeben.\n",
    "\n",
    "*Hinweis: Du kannst mit `and` mehrere Argumente in einem If-Statement prüfen.*"
   ]
  },
  {
   "cell_type": "code",
   "execution_count": null,
   "id": "cd9b89f7",
   "metadata": {},
   "outputs": [
    {
     "name": "stdout",
     "output_type": "stream",
     "text": [
      "ausserhalb!\n"
     ]
    }
   ],
   "source": [
    "x = 12 # Zuweisung-x\n",
    "\n",
    "# Lösung"
   ]
  },
  {
   "cell_type": "markdown",
   "id": "78cabf96",
   "metadata": {},
   "source": [
    "### 2. Gerade oder ungerade\n",
    "\n",
    "Eine ganze Zahl heißt gerade, wenn sie ohne Rest durch zwei teilbar ist. Schreibe ein Programm, welches prüft ob der Wert einer Variablen ```x = 13``` eine gerade oder ungerade Zahl ist. Falls ```x``` gerade ist soll das Programm ```x ist gerade!``` oder im anderen Fall ```x ist ungerade!``` ausgeben, wobei ```x``` durch den Wert der Variablen ```x``` ersetzt werden soll.\n",
    "\n",
    "*Hinweis: Du brauchst für die Lösung der Aufgabe den Modulo Operator ```%``` sowie `==` oder `!=`*"
   ]
  },
  {
   "cell_type": "code",
   "execution_count": null,
   "id": "186d1d38",
   "metadata": {},
   "outputs": [
    {
     "name": "stdout",
     "output_type": "stream",
     "text": [
      "12 ist gerade!\n"
     ]
    }
   ],
   "source": [
    "x = 12 # Zuweisung-x\n",
    "\n",
    "# Lösung"
   ]
  },
  {
   "cell_type": "markdown",
   "id": "36ac5133",
   "metadata": {},
   "source": [
    "### 3. Summiere die Zahlen\n",
    "Schreibe ein Programm, das die Summe aller Zahlen von 1 bis n berechnet. Die Zahl n soll als Variable vorgegeben werden, z. B. n = 5. Das Programm soll die Summe berechnen und ausgeben, z. B.: `Die Summe der Zahlen von 1 bis 5 ist 15.`\n",
    "\n",
    "*Hinweis: Verwende eine for-Schleife, um alle Zahlen zu durchlaufen und aufzusummieren.*"
   ]
  },
  {
   "cell_type": "code",
   "execution_count": null,
   "id": "8c19f2ab",
   "metadata": {},
   "outputs": [
    {
     "name": "stdout",
     "output_type": "stream",
     "text": [
      "Die Summe der Zahlen von 1 bis 5 ist 15.\n"
     ]
    }
   ],
   "source": [
    "n = 5\n",
    "\n",
    "# Lösung"
   ]
  }
 ],
 "metadata": {
  "kernelspec": {
   "display_name": "Python 3",
   "language": "python",
   "name": "python3"
  },
  "language_info": {
   "codemirror_mode": {
    "name": "ipython",
    "version": 3
   },
   "file_extension": ".py",
   "mimetype": "text/x-python",
   "name": "python",
   "nbconvert_exporter": "python",
   "pygments_lexer": "ipython3",
   "version": "3.11.5"
  }
 },
 "nbformat": 4,
 "nbformat_minor": 5
}
