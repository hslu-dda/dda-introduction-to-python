{
 "cells": [
  {
   "cell_type": "markdown",
   "id": "0ae78213",
   "metadata": {},
   "source": [
    "# Ein paar Übungen"
   ]
  },
  {
   "cell_type": "markdown",
   "id": "52e0c467",
   "metadata": {},
   "source": [
    "1. Wandle die Strophe in eine Liste aus einzelnen Wörtern um. <br>\n",
    "(hint: `string.split('character')`)"
   ]
  },
  {
   "cell_type": "code",
   "execution_count": null,
   "id": "39b753fd",
   "metadata": {},
   "outputs": [],
   "source": [
    "\n",
    "lalala = \"\"\"La la, la la la la la na na na na na,\n",
    "La la na na, la la la la la na na na na na\n",
    "La la, la la la la la na na na na na,\n",
    "La la na na, la la la la la na na na na na\"\"\"\n",
    "\n"
   ]
  },
  {
   "cell_type": "code",
   "execution_count": null,
   "id": "b11613ba",
   "metadata": {},
   "outputs": [],
   "source": []
  },
  {
   "cell_type": "markdown",
   "id": "01107706",
   "metadata": {},
   "source": [
    "2. Zähle wie oft jedes Wort vorkommt. Erstelle dafür einen dictionairy mit den Worten als keys und deren Vorkommen als value."
   ]
  },
  {
   "cell_type": "code",
   "execution_count": null,
   "id": "4f53f3ff",
   "metadata": {},
   "outputs": [],
   "source": [
    "#dct = {}\n",
    "#for element in lalala:\n",
    "# dein code hier \n",
    "\n",
    "#print(dct)"
   ]
  },
  {
   "cell_type": "code",
   "execution_count": null,
   "id": "c833e71d",
   "metadata": {},
   "outputs": [],
   "source": []
  },
  {
   "cell_type": "markdown",
   "id": "97d07c7e",
   "metadata": {},
   "source": [
    "3. Sortiere die Namen so dass sie nach Länge des Vornamesn sortiert sind. <br>\n",
    "(hint: use the method `\"string\".len()`)"
   ]
  },
  {
   "cell_type": "code",
   "execution_count": null,
   "id": "187142e2",
   "metadata": {},
   "outputs": [],
   "source": [
    "lst = [\"Mani Matter\", \"Sophie Hunger\", \"Bühne Huber\", \"Steph la Cheffe\"]\n",
    "\n",
    "#def get_length(item):\n",
    "    # dein code hier\n",
    "\n",
    "#l.sort(key=get_length)\n",
    "#print(lst)"
   ]
  },
  {
   "cell_type": "markdown",
   "id": "d1e33f3c",
   "metadata": {},
   "source": [
    "4. X ist eine zufällige Zahl von 1 - 10. Schreibe eine Funktion die sagt ob ein input gleich x oder grösser oder kleiner ist. \n",
    "(hint: zufällige Zahlen lassen sich generieren mit `random.randint(min, max)`, min und max sind integers die den Bereich der Zufallszahl angeben.)"
   ]
  },
  {
   "cell_type": "code",
   "execution_count": null,
   "id": "75dc0274",
   "metadata": {},
   "outputs": [],
   "source": []
  },
  {
   "cell_type": "markdown",
   "id": "06b753bf",
   "metadata": {},
   "source": [
    "5. Führe die Funktion so lange aus, bis die Zahl erraten ist. <br>\n",
    "Hint: mit ```variable = input(\"Message\") ``` kannst du Input durch den/die User:in eingeben. Input zu int umwandeln."
   ]
  },
  {
   "cell_type": "code",
   "execution_count": null,
   "id": "69717339",
   "metadata": {},
   "outputs": [],
   "source": []
  },
  {
   "cell_type": "markdown",
   "id": "b01dbdef",
   "metadata": {},
   "source": [
    "6. Schreibe eine Funktion, die zurück gibt ob ein Wert durch 3 teilbar ist. (Hint: Modulo `%` gibt den Rest einer Division an.)\n",
    "Führe die Funktion mit einer For-Loop über die Zahlen 1-10 aus und printe die Zahl sowie \"Yes\" wenn teilbar, \"No\" wenn nicht"
   ]
  },
  {
   "cell_type": "code",
   "execution_count": null,
   "id": "928a1497",
   "metadata": {},
   "outputs": [],
   "source": [
    "def divisible_by_three(num):\n",
    "    return \n",
    "\n",
    "# For-Loop \n"
   ]
  },
  {
   "cell_type": "code",
   "execution_count": null,
   "id": "44e57003",
   "metadata": {},
   "outputs": [],
   "source": []
  }
 ],
 "metadata": {
  "kernelspec": {
   "display_name": "Python 3",
   "language": "python",
   "name": "python3"
  },
  "language_info": {
   "codemirror_mode": {
    "name": "ipython",
    "version": 3
   },
   "file_extension": ".py",
   "mimetype": "text/x-python",
   "name": "python",
   "nbconvert_exporter": "python",
   "pygments_lexer": "ipython3",
   "version": "3.12.1"
  }
 },
 "nbformat": 4,
 "nbformat_minor": 5
}
