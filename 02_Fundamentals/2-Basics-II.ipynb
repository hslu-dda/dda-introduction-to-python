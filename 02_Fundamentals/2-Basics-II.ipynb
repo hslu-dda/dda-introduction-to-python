{
 "cells": [
  {
   "cell_type": "markdown",
   "id": "c8815033",
   "metadata": {},
   "source": [
    "# Basics II"
   ]
  },
  {
   "cell_type": "markdown",
   "id": "235d93af",
   "metadata": {},
   "source": [
    "## Kontrollstrukturen / Conditionals (if-elif-else)"
   ]
  },
  {
   "cell_type": "code",
   "execution_count": null,
   "id": "406add92",
   "metadata": {},
   "outputs": [],
   "source": [
    "age = 18\n",
    "if age < 18:\n",
    "    print(\"Minor\")\n",
    "elif age == 18:\n",
    "    print(\"Just turned 18\")\n",
    "else:\n",
    "    print(\"Adult\")"
   ]
  },
  {
   "cell_type": "markdown",
   "id": "6781b912",
   "metadata": {},
   "source": [
    "## Schlaufen / Loops"
   ]
  },
  {
   "cell_type": "markdown",
   "id": "b1bf6d6f",
   "metadata": {},
   "source": [
    "### For Loop"
   ]
  },
  {
   "cell_type": "code",
   "execution_count": 20,
   "id": "c599c68f",
   "metadata": {},
   "outputs": [
    {
     "name": "stdout",
     "output_type": "stream",
     "text": [
      "Iteration 0\n",
      "Iteration 1\n",
      "Iteration 2\n",
      "Iteration 3\n",
      "Iteration 4\n"
     ]
    }
   ],
   "source": [
    "# from 0 to 4 (5x)\n",
    "for i in range(5):\n",
    "    print(f\"Iteration {i}\")"
   ]
  },
  {
   "cell_type": "code",
   "execution_count": 22,
   "id": "6b9b97d1",
   "metadata": {},
   "outputs": [
    {
     "name": "stdout",
     "output_type": "stream",
     "text": [
      "Iteration 1\n",
      "Iteration 2\n",
      "Iteration 3\n",
      "Iteration 4\n"
     ]
    }
   ],
   "source": [
    "# Define the range: were to start and were to stop\n",
    "for i in range(1, 5):\n",
    "    print(f\"Iteration {i}\")"
   ]
  },
  {
   "cell_type": "markdown",
   "id": "c9e1fd7c",
   "metadata": {},
   "source": [
    "## Zwischenaufgaben"
   ]
  },
  {
   "cell_type": "markdown",
   "id": "6404abb1",
   "metadata": {},
   "source": [
    "### 1. Intervall\n",
    "\n",
    "Schreibe ein Programm, welches eine Zahl ```x = 12``` prüft ob diese entweder im Intervall 1 bis 10 oder zwischen 100 und 110 liegt, wobei die Intervallgrenzen zum Intervall gehören sollen. Falls die Zahl in einem der Intervalle liegt soll das Programm ```Ok!``` und im andren Fall ```ausserhalb!``` ausgeben.\n",
    "\n",
    "*Hinweis: Du kannst mit `and` mehrere Argumente in einem If-Statement prüfen.*\n",
    "\n",
    "\n",
    "### 2. Gerade oder ungerade\n",
    "\n",
    "Eine ganze Zahl heißt gerade, wenn sie ohne Rest durch zwei teilbar ist. Schreibe ein Programm, welches prüft ob der Wert einer Variablen ```x = 13``` eine gerade oder ungerade Zahl ist. Falls ```x``` gerade ist soll das Programm ```x ist gerade!``` oder im anderen Fall ```x ist ungerade!``` ausgeben, wobei ```x``` durch den Wert der Variablen ```x``` ersetzt werden soll.\n",
    "\n",
    "*Hinweis: Du brauchst für die Lösung der Aufgabe den Modulo Operator ```%``` sowie `==` oder `!=`*\n",
    "\n",
    "### 3. Summiere die Zahlen\n",
    "Schreibe ein Programm, das die Summe aller Zahlen von 1 bis n berechnet. Die Zahl n soll als Variable vorgegeben werden, z. B. n = 5. Das Programm soll die Summe berechnen und ausgeben, z. B.: `Die Summe der Zahlen von 1 bis 5 ist 15.`\n",
    "\n",
    "*Hinweis: Verwende eine for-Schleife, um alle Zahlen zu durchlaufen und aufzusummieren.*"
   ]
  },
  {
   "cell_type": "markdown",
   "id": "3b3d2c77",
   "metadata": {},
   "source": [
    "### Lösungen Zwischenaufgabe"
   ]
  },
  {
   "cell_type": "code",
   "execution_count": 7,
   "id": "cd9b89f7",
   "metadata": {},
   "outputs": [
    {
     "name": "stdout",
     "output_type": "stream",
     "text": [
      "ausserhalb!\n"
     ]
    }
   ],
   "source": [
    "x = 12 # Zuweisung-x\n",
    "\n",
    "# Lösung\n",
    "if x >= 1 and x <= 10:\n",
    "    print(\"Ok!\")\n",
    "elif x >= 100 and x <= 110:\n",
    "    print(\"Ok!\")\n",
    "else:\n",
    "    print(\"ausserhalb!\")"
   ]
  },
  {
   "cell_type": "code",
   "execution_count": 8,
   "id": "186d1d38",
   "metadata": {},
   "outputs": [
    {
     "name": "stdout",
     "output_type": "stream",
     "text": [
      "12 ist gerade!\n"
     ]
    }
   ],
   "source": [
    "x = 12 # Zuweisung-x\n",
    "\n",
    "# Ihre Lösung\n",
    "if x % 2 == 0:\n",
    "    print(x, \"ist gerade!\")\n",
    "else:\n",
    "    print(f\"{x} ist ungerade!\")"
   ]
  },
  {
   "cell_type": "code",
   "execution_count": null,
   "id": "8c19f2ab",
   "metadata": {},
   "outputs": [
    {
     "name": "stdout",
     "output_type": "stream",
     "text": [
      "Die Summe der Zahlen von 1 bis 5 ist 15.\n"
     ]
    }
   ],
   "source": [
    "n = 5  # Hier kann eine andere Zahl eingesetzt werden\n",
    "summe = 0\n",
    "\n",
    "for i in range(1, n+1):  # Durchläuft die Zahlen von 1 bis n+1 (= 5)\n",
    "    summe += i  # Addiert jede Zahl zur Summe\n",
    "    # same as: summe = summe + i\n",
    "\n",
    "print(f\"Die Summe der Zahlen von 1 bis {n} ist {summe}.\")"
   ]
  }
 ],
 "metadata": {
  "kernelspec": {
   "display_name": "Python 3",
   "language": "python",
   "name": "python3"
  },
  "language_info": {
   "codemirror_mode": {
    "name": "ipython",
    "version": 3
   },
   "file_extension": ".py",
   "mimetype": "text/x-python",
   "name": "python",
   "nbconvert_exporter": "python",
   "pygments_lexer": "ipython3",
   "version": "3.11.5"
  }
 },
 "nbformat": 4,
 "nbformat_minor": 5
}
