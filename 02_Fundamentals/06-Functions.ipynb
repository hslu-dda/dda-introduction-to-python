{
 "cells": [
  {
   "cell_type": "markdown",
   "id": "c8815033",
   "metadata": {},
   "source": [
    "# 06 Functions\n",
    "\n",
    "Functions can be declared using \n",
    "```\n",
    "def <function_name>(<variable>):\n",
    "    <some code>\n",
    "    return <value>\n",
    "```\n",
    "\n",
    "\n"
   ]
  },
  {
   "cell_type": "code",
   "execution_count": null,
   "id": "370f9502",
   "metadata": {},
   "outputs": [],
   "source": [
    "def add_1(x):\n",
    "    x = x+1\n",
    "    return x"
   ]
  },
  {
   "cell_type": "code",
   "execution_count": null,
   "id": "48d4a11e",
   "metadata": {},
   "outputs": [],
   "source": [
    "my_num = 1\n",
    "add_1(my_num)"
   ]
  },
  {
   "cell_type": "code",
   "execution_count": null,
   "id": "9786bb3a",
   "metadata": {},
   "outputs": [],
   "source": [
    "# Note: variables inside a function are temporary and cannot be accessed outside of the function.\n",
    "#  -> x is unkown here.\n",
    "x"
   ]
  },
  {
   "cell_type": "markdown",
   "id": "13b5974c",
   "metadata": {},
   "source": [
    "### Quizz"
   ]
  },
  {
   "cell_type": "code",
   "execution_count": null,
   "id": "c415b0b9",
   "metadata": {},
   "outputs": [],
   "source": [
    "# 1. write a function that devides input by 2 and returns the value. "
   ]
  },
  {
   "cell_type": "code",
   "execution_count": null,
   "id": "b119acbb",
   "metadata": {},
   "outputs": [],
   "source": [
    "# 2. write a function that returns True/False if a input is even or not"
   ]
  },
  {
   "cell_type": "code",
   "execution_count": null,
   "id": "3da8e390",
   "metadata": {},
   "outputs": [],
   "source": [
    "# 3. Expand the function to test first if the input is an integer or float. If this is not the case return \"Not a number\""
   ]
  }
 ],
 "metadata": {
  "kernelspec": {
   "display_name": "Python 3",
   "language": "python",
   "name": "python3"
  },
  "language_info": {
   "codemirror_mode": {
    "name": "ipython",
    "version": 3
   },
   "file_extension": ".py",
   "mimetype": "text/x-python",
   "name": "python",
   "nbconvert_exporter": "python",
   "pygments_lexer": "ipython3",
   "version": "3.12.1"
  }
 },
 "nbformat": 4,
 "nbformat_minor": 5
}
