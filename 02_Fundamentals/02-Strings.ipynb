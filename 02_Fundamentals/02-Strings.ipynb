{
 "cells": [
  {
   "cell_type": "markdown",
   "id": "c8815033",
   "metadata": {},
   "source": [
    "# 02 Strings"
   ]
  },
  {
   "cell_type": "markdown",
   "id": "ffdbb552",
   "metadata": {},
   "source": [
    "Strings können \"additiert\" werden:"
   ]
  },
  {
   "cell_type": "code",
   "execution_count": 26,
   "id": "e94840de",
   "metadata": {},
   "outputs": [
    {
     "data": {
      "text/plain": [
       "'Hallo World'"
      ]
     },
     "execution_count": 26,
     "metadata": {},
     "output_type": "execute_result"
    }
   ],
   "source": [
    "str_1 = \"Hallo\"\n",
    "str_2 = \"World\"\n",
    "\n",
    "str_3 = str_1 + \" \" +str_2\n",
    "str_3"
   ]
  },
  {
   "cell_type": "code",
   "execution_count": 28,
   "id": "4db5167c",
   "metadata": {},
   "outputs": [
    {
     "data": {
      "text/plain": [
       "'hallo world'"
      ]
     },
     "execution_count": 28,
     "metadata": {},
     "output_type": "execute_result"
    }
   ],
   "source": [
    "lower = str_3.lower()\n",
    "lower"
   ]
  },
  {
   "cell_type": "code",
   "execution_count": 29,
   "id": "0ece1467",
   "metadata": {},
   "outputs": [
    {
     "data": {
      "text/plain": [
       "'HALLO WORLD'"
      ]
     },
     "execution_count": 29,
     "metadata": {},
     "output_type": "execute_result"
    }
   ],
   "source": [
    "upper = str_3.upper()\n",
    "upper"
   ]
  },
  {
   "cell_type": "code",
   "execution_count": 33,
   "id": "e0227d51",
   "metadata": {},
   "outputs": [
    {
     "data": {
      "text/plain": [
       "11"
      ]
     },
     "execution_count": 33,
     "metadata": {},
     "output_type": "execute_result"
    }
   ],
   "source": [
    "# Zeichenanzahl\n",
    "len(str_3)"
   ]
  },
  {
   "cell_type": "code",
   "execution_count": 32,
   "id": "495250d0",
   "metadata": {},
   "outputs": [
    {
     "data": {
      "text/plain": [
       "3"
      ]
     },
     "execution_count": 32,
     "metadata": {},
     "output_type": "execute_result"
    }
   ],
   "source": [
    "# Zählen wie viele male ein Wert innerhalb unseres Strings vorkommt\n",
    "str_3.count('l')"
   ]
  },
  {
   "cell_type": "code",
   "execution_count": 34,
   "id": "f48611cb",
   "metadata": {},
   "outputs": [
    {
     "data": {
      "text/plain": [
       "1"
      ]
     },
     "execution_count": 34,
     "metadata": {},
     "output_type": "execute_result"
    }
   ],
   "source": [
    "# Position zurückgeben wo ein Wert in String zum ersten mal vorkommt\n",
    "str_3.find('a')"
   ]
  },
  {
   "cell_type": "code",
   "execution_count": 35,
   "id": "157f25e8",
   "metadata": {},
   "outputs": [
    {
     "data": {
      "text/plain": [
       "['Hallo', 'World']"
      ]
     },
     "execution_count": 35,
     "metadata": {},
     "output_type": "execute_result"
    }
   ],
   "source": [
    "# String in einzelne Elemente unterteilen wo eine Zeichenfolge vorkommt - gibt Liste zurück\n",
    "str_3.split(\" \")"
   ]
  },
  {
   "cell_type": "code",
   "execution_count": 38,
   "id": "16507a50",
   "metadata": {},
   "outputs": [
    {
     "data": {
      "text/plain": [
       "'eins zwei drei'"
      ]
     },
     "execution_count": 38,
     "metadata": {},
     "output_type": "execute_result"
    }
   ],
   "source": [
    "zaehlen = \" eins zwei drei \"\n",
    "str_5 = zaehlen.strip()\n",
    "str_5"
   ]
  },
  {
   "cell_type": "code",
   "execution_count": 40,
   "id": "4f034e67",
   "metadata": {},
   "outputs": [
    {
     "data": {
      "text/plain": [
       "'DDA24 is super happy from programming so much Python'"
      ]
     },
     "execution_count": 40,
     "metadata": {},
     "output_type": "execute_result"
    }
   ],
   "source": [
    "str_6 = \"DDA24 is tired from programming so much Python\"\n",
    "str_7 = str_6.replace(\"tired\", \"super happy\")\n",
    "str_7"
   ]
  },
  {
   "cell_type": "code",
   "execution_count": 41,
   "id": "6cf9d6b2",
   "metadata": {},
   "outputs": [
    {
     "data": {
      "text/plain": [
       "True"
      ]
     },
     "execution_count": 41,
     "metadata": {},
     "output_type": "execute_result"
    }
   ],
   "source": [
    "# prüfe ob ein string teil eines strings ist\n",
    "str_8 = \"This movie ist about love and romance\"\n",
    "\"love\" in str_8"
   ]
  }
 ],
 "metadata": {
  "kernelspec": {
   "display_name": "3.11.5",
   "language": "python",
   "name": "python3"
  },
  "language_info": {
   "codemirror_mode": {
    "name": "ipython",
    "version": 3
   },
   "file_extension": ".py",
   "mimetype": "text/x-python",
   "name": "python",
   "nbconvert_exporter": "python",
   "pygments_lexer": "ipython3",
   "version": "3.11.5"
  }
 },
 "nbformat": 4,
 "nbformat_minor": 5
}
