{
 "cells": [
  {
   "cell_type": "markdown",
   "id": "c8815033",
   "metadata": {},
   "source": [
    "# 11 Solutions (Lists Dicts, Loops)\n",
    "\n",
    "### Lists I\n",
    "\n",
    "1.use `my_numbers = [11, 32, -6, 140, 1.5]`\n",
    "\n",
    "2.Add the number 97 to the end of the list.\n",
    "\n",
    "3.Insert the number 2 at the beginning of the list.\n",
    "\n",
    "4.Remove the number 32 from the list.\n",
    "\n",
    "5.Pop the last element\n",
    "\n",
    "6.Print the maximum, minimum, and sum of the list.\n",
    "\n",
    "7.Bonus: sort the list in descending order and print it.\n"
   ]
  },
  {
   "cell_type": "code",
   "execution_count": null,
   "id": "17150ba9",
   "metadata": {},
   "outputs": [],
   "source": [
    "# 1. Starting list\n",
    "my_numbers = [11, 32, -6, 140, 1.5]\n",
    "my_numbers"
   ]
  },
  {
   "cell_type": "code",
   "execution_count": null,
   "id": "9930da25",
   "metadata": {},
   "outputs": [],
   "source": [
    "# 2. Add the number 97 to the end of the list\n",
    "my_numbers.append(97)\n",
    "my_numbers\n"
   ]
  },
  {
   "cell_type": "code",
   "execution_count": null,
   "id": "ee949844",
   "metadata": {},
   "outputs": [],
   "source": [
    "# 3. Insert the number 2 at the beginning of the list\n",
    "my_numbers.insert(0, 2)\n",
    "my_numbers"
   ]
  },
  {
   "cell_type": "code",
   "execution_count": null,
   "id": "bff70362",
   "metadata": {},
   "outputs": [],
   "source": [
    "# 4. Remove the number 32 from the list\n",
    "my_numbers.remove(32)\n",
    "my_numbers"
   ]
  },
  {
   "cell_type": "code",
   "execution_count": null,
   "id": "b11bb3db",
   "metadata": {},
   "outputs": [],
   "source": [
    "# 5. Pop the last element\n",
    "last_item = my_numbers.pop()\n",
    "print(\"Popped element:\", last_item)\n",
    "print(\"After pop:\", my_numbers)\n"
   ]
  },
  {
   "cell_type": "code",
   "execution_count": null,
   "id": "48032c40",
   "metadata": {},
   "outputs": [],
   "source": [
    "# 6. Print the maximum, minimum, and sum of the list\n",
    "print(\"Max:\", max(my_numbers))\n",
    "print(\"Min:\", min(my_numbers))\n",
    "print(\"Sum:\", sum(my_numbers))\n",
    "\n"
   ]
  },
  {
   "cell_type": "code",
   "execution_count": null,
   "id": "7b520e28",
   "metadata": {},
   "outputs": [],
   "source": [
    "\n",
    "# 7. Bonus: sort the list in descending order and print it\n",
    "my_numbers.sort(reverse=True)\n",
    "print(\"Sorted descending:\", my_numbers)"
   ]
  },
  {
   "cell_type": "markdown",
   "id": "18da8537",
   "metadata": {},
   "source": [
    "### Lists II\n",
    "\n",
    "* We can turn a string to a list by using `list(string)` <- will separate each character\n",
    "* We can also turn a string into a list by indicating characters where to split:  `string.split('character')` \n",
    "* By using 'character'.join(my_list) we can turn a list back to a string\n",
    "\n",
    "1. turn the string \"ABCDE\" into a list with each character as a single element\n",
    "2. a) Save the string \"Raindrops on roses and whiskers on kittens\" ingo a varialbe `sentence` <br>\n",
    "b) turn it into a list of a word per element and <br>\n",
    "c) Save the new list in a variable `fav_things`\n",
    "3. convert `fav_things` back to a string conecting it with `_`. \n",
    "\n"
   ]
  },
  {
   "cell_type": "code",
   "execution_count": null,
   "id": "5d8a3c6a",
   "metadata": {},
   "outputs": [],
   "source": [
    "# 1. Turn the string \"ABCDE\" into a list with each character as a single element\n",
    "letters = list(\"ABCDE\")\n",
    "print(letters)\n"
   ]
  },
  {
   "cell_type": "code",
   "execution_count": null,
   "id": "98b8797f",
   "metadata": {},
   "outputs": [],
   "source": [
    "# 2. Split the string into a list of words\n",
    "sentence = \"Raindrops on roses and whiskers on kittens\"\n",
    "fav_things = sentence.split(\" \")\n",
    "print(fav_things)\n"
   ]
  },
  {
   "cell_type": "code",
   "execution_count": null,
   "id": "0db662e2",
   "metadata": {},
   "outputs": [],
   "source": [
    "# 3. Convert fav_things back to a string, joined with \"_\"\n",
    "joined_string = \"_\".join(fav_things)\n",
    "print(joined_string)"
   ]
  },
  {
   "cell_type": "code",
   "execution_count": null,
   "id": "61838235",
   "metadata": {},
   "outputs": [],
   "source": []
  },
  {
   "cell_type": "markdown",
   "id": "173551cc",
   "metadata": {},
   "source": [
    "### Dicts\n",
    "\n",
    "use this dict:\n",
    "`inventory = {\"apples\": 5, \"bananas\": 8, \"oranges\": 12}`\n",
    "\n",
    " 1. Add \"pears\" with quantity 4.\n",
    " 2. Change the number of \"bananas\" to 10.\n",
    " 3. Print how many \"oranges\" are in stock.\n",
    " 4. Print all the fruit names (keys).\n",
    " 5. Bonus: remove the key & value \"apples\" (hint: use `del dict[key]`)\n",
    " 6. print the final dictionary"
   ]
  },
  {
   "cell_type": "code",
   "execution_count": null,
   "id": "bbef521e",
   "metadata": {},
   "outputs": [],
   "source": [
    "# starting dictionary\n",
    "inventory = {\"apples\": 5, \"bananas\": 8, \"oranges\": 12}\n",
    "inventory"
   ]
  },
  {
   "cell_type": "code",
   "execution_count": null,
   "id": "740904de",
   "metadata": {},
   "outputs": [],
   "source": [
    "# 1. Add \"pears\" with quantity 4\n",
    "inventory[\"pears\"] = 4\n",
    "inventory"
   ]
  },
  {
   "cell_type": "code",
   "execution_count": null,
   "id": "7cb3bf97",
   "metadata": {},
   "outputs": [],
   "source": [
    "# 2. Change the number of \"bananas\" to 10\n",
    "inventory[\"bananas\"] = 10\n",
    "inventory"
   ]
  },
  {
   "cell_type": "code",
   "execution_count": null,
   "id": "574e73e7",
   "metadata": {},
   "outputs": [],
   "source": [
    "# 3. Print how many \"oranges\" are in stock\n",
    "print(\"Oranges in stock:\", inventory[\"oranges\"])\n"
   ]
  },
  {
   "cell_type": "code",
   "execution_count": null,
   "id": "e4ae1f42",
   "metadata": {},
   "outputs": [],
   "source": [
    "# 4. Print all the fruit names (keys)\n",
    "print(\"Fruit names:\", inventory.keys())"
   ]
  },
  {
   "cell_type": "code",
   "execution_count": null,
   "id": "4658b1f0",
   "metadata": {},
   "outputs": [],
   "source": [
    "# 5. Bonus: remove the key & value \"apples\"\n",
    "del inventory[\"apples\"]"
   ]
  },
  {
   "cell_type": "code",
   "execution_count": null,
   "id": "d4271a5f",
   "metadata": {},
   "outputs": [],
   "source": [
    "# 6. Print the final dictionary\n",
    "print(\"Final inventory:\", inventory)"
   ]
  },
  {
   "cell_type": "code",
   "execution_count": null,
   "id": "c3fe0aa3",
   "metadata": {},
   "outputs": [],
   "source": []
  },
  {
   "cell_type": "code",
   "execution_count": null,
   "id": "e0e583e7",
   "metadata": {},
   "outputs": [],
   "source": []
  }
 ],
 "metadata": {
  "kernelspec": {
   "display_name": "Python 3",
   "language": "python",
   "name": "python3"
  },
  "language_info": {
   "codemirror_mode": {
    "name": "ipython",
    "version": 3
   },
   "file_extension": ".py",
   "mimetype": "text/x-python",
   "name": "python",
   "nbconvert_exporter": "python",
   "pygments_lexer": "ipython3",
   "version": "3.12.1"
  }
 },
 "nbformat": 4,
 "nbformat_minor": 5
}
