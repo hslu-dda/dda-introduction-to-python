{
 "cells": [
  {
   "cell_type": "markdown",
   "id": "29056e7c",
   "metadata": {
    "id": "29056e7c"
   },
   "source": [
    "# 00 Jupyter Notebook\n"
   ]
  },
  {
   "cell_type": "markdown",
   "id": "c2048bdb",
   "metadata": {
    "id": "c2048bdb"
   },
   "source": [
    "## Markdown\n",
    "Das hier ist eine Mardown-Zelle. Sie ist für Text, etwa für Titel & Abschnittstitel für mehr Übersichtlichkeit.\n",
    "Oder um sich Notizen zum Code zu machen.\n"
   ]
  },
  {
   "cell_type": "markdown",
   "id": "7c758f0e",
   "metadata": {
    "id": "7c758f0e"
   },
   "source": [
    "# Titel H1\n",
    "## Titel H2\n",
    "### Titel H3\n",
    "\n",
    "**Zwei Sternechen machen Text fett** <br>\n",
    "*Ein Sternchen macht Text kursiv*\n",
    "\n",
    "Listen:\n",
    "* Bullet-Points Liste\n",
    "* Mit mehreren Einträgen"
   ]
  },
  {
   "cell_type": "code",
   "execution_count": null,
   "id": "39af7904",
   "metadata": {
    "colab": {
     "base_uri": "https://localhost:8080/"
    },
    "executionInfo": {
     "elapsed": 257,
     "status": "ok",
     "timestamp": 1705928738527,
     "user": {
      "displayName": "Manuela Paganini",
      "userId": "08508102103238796518"
     },
     "user_tz": -60
    },
    "id": "39af7904",
    "outputId": "ceff9c58-b24f-4880-95c5-8b8fd123d221"
   },
   "outputs": [
    {
     "name": "stdout",
     "output_type": "stream",
     "text": [
      "hello world\n"
     ]
    }
   ],
   "source": [
    "# Das isth eine Code-Zelle.\n",
    "# (<- und das hier ist ein Kommentar innerhalb einer Code Zeile)\n",
    "\n",
    "print('hello world')"
   ]
  },
  {
   "cell_type": "code",
   "execution_count": 2,
   "id": "c05aba38",
   "metadata": {
    "colab": {
     "base_uri": "https://localhost:8080/",
     "height": 36
    },
    "executionInfo": {
     "elapsed": 278,
     "status": "ok",
     "timestamp": 1705928650593,
     "user": {
      "displayName": "Manuela Paganini",
      "userId": "08508102103238796518"
     },
     "user_tz": -60
    },
    "id": "c05aba38",
    "outputId": "e735f0a3-a2cf-476b-b840-3361e2090631"
   },
   "outputs": [
    {
     "ename": "SyntaxError",
     "evalue": "unterminated string literal (detected at line 1) (1351673077.py, line 1)",
     "output_type": "error",
     "traceback": [
      "\u001b[0;36m  Cell \u001b[0;32mIn[2], line 1\u001b[0;36m\u001b[0m\n\u001b[0;31m    \"Das hier ist eine Zelle die einen Fehler schmeisst\u001b[0m\n\u001b[0m    ^\u001b[0m\n\u001b[0;31mSyntaxError\u001b[0m\u001b[0;31m:\u001b[0m unterminated string literal (detected at line 1)\n"
     ]
    }
   ],
   "source": [
    "\"Das hier ist eine Zelle die einen Fehler schmeisst"
   ]
  },
  {
   "cell_type": "markdown",
   "id": "OYEfXdyoQSVL",
   "metadata": {
    "id": "OYEfXdyoQSVL"
   },
   "source": []
  },
  {
   "cell_type": "code",
   "execution_count": 7,
   "id": "f5206eab",
   "metadata": {
    "colab": {
     "base_uri": "https://localhost:8080/",
     "height": 36
    },
    "executionInfo": {
     "elapsed": 4,
     "status": "ok",
     "timestamp": 1705928656544,
     "user": {
      "displayName": "Manuela Paganini",
      "userId": "08508102103238796518"
     },
     "user_tz": -60
    },
    "id": "f5206eab",
    "outputId": "9873fcd8-c8bd-451c-a90b-53f2de7a7b13"
   },
   "outputs": [
    {
     "data": {
      "application/vnd.google.colaboratory.intrinsic+json": {
       "type": "string"
      },
      "text/plain": [
       "'Das hier ist eine Zelle die ok ausgeführt wird'"
      ]
     },
     "execution_count": 7,
     "metadata": {},
     "output_type": "execute_result"
    }
   ],
   "source": [
    "\"Das hier ist eine Zelle die ok ausgeführt wird\""
   ]
  },
  {
   "cell_type": "markdown",
   "id": "a5f406df",
   "metadata": {
    "id": "a5f406df"
   },
   "source": [
    "## Bedienungshilfen\n",
    "\n",
    "Damit die Befehle funkionieren muss die Zelle angewählt sein, nicht ihr Inhalt. Dh falls der Cursor in der Zelle blinkt einmal ```Esc``` klicken.\n",
    "\n",
    "```Shift Enter```: Zelle ausführen <br>\n",
    "\n",
    "```Y```: von Markdown auf Code wechseln <br>\n",
    "```M```: von Code auf Markdown wechseln <br><br>\n",
    "```X```: Zelle ausschneiden (geht auch um eine Zelle zu löschen)<br>\n",
    "```V```: Zelle einsetzen <br>\n",
    "```Z```: Rückgängig (was ganze Zellen angeht. Für Zelleninhalt: Ctr-Z) <br><br>\n",
    "```A```: Zelle oberhalb einfügen <br>\n",
    "```B```: Zelle unterhalb einfügen\n",
    "\n",
    "`Doppelklick auf Balken neben Zell-Output`: minimiert Zelloutput. "
   ]
  },
  {
   "cell_type": "code",
   "execution_count": null,
   "id": "e3a60972",
   "metadata": {},
   "outputs": [],
   "source": []
  },
  {
   "cell_type": "markdown",
   "id": "347951cd",
   "metadata": {
    "id": "347951cd"
   },
   "source": [
    "### Übung"
   ]
  },
  {
   "cell_type": "code",
   "execution_count": 8,
   "id": "5db459cd",
   "metadata": {
    "colab": {
     "base_uri": "https://localhost:8080/",
     "height": 144
    },
    "executionInfo": {
     "elapsed": 809,
     "status": "error",
     "timestamp": 1705928658126,
     "user": {
      "displayName": "Manuela Paganini",
      "userId": "08508102103238796518"
     },
     "user_tz": -60
    },
    "id": "5db459cd",
    "outputId": "ee70a187-89ee-4670-bf34-33e67f73d113"
   },
   "outputs": [
    {
     "ename": "SyntaxError",
     "evalue": "invalid syntax (<ipython-input-8-ca9545a2eed6>, line 1)",
     "output_type": "error",
     "traceback": [
      "\u001b[0;36m  File \u001b[0;32m\"<ipython-input-8-ca9545a2eed6>\"\u001b[0;36m, line \u001b[0;32m1\u001b[0m\n\u001b[0;31m    1. Mache aus dieser Zelle eine Markdown-Zelle.\u001b[0m\n\u001b[0m       ^\u001b[0m\n\u001b[0;31mSyntaxError\u001b[0m\u001b[0;31m:\u001b[0m invalid syntax\n"
     ]
    }
   ],
   "source": [
    "1. Mache aus dieser Zelle eine Markdown-Zelle."
   ]
  },
  {
   "cell_type": "markdown",
   "id": "8e45bb23",
   "metadata": {
    "id": "8e45bb23"
   },
   "source": [
    "2. Wandle das hier zu einer Liste um:\n",
    "Listeneintrag 1\n",
    "Listeneintrag 2\n",
    "Listeneintrag 3"
   ]
  },
  {
   "cell_type": "markdown",
   "id": "6303a485",
   "metadata": {
    "id": "6303a485"
   },
   "source": [
    "3. Wandle die Zeile unten zu einem H3 Titel um <br>\n",
    "Das hier ist ein H3-Titel    "
   ]
  },
  {
   "cell_type": "markdown",
   "id": "d96aa2da",
   "metadata": {
    "id": "d96aa2da"
   },
   "source": [
    "4. Inline Formatierung: <br>\n",
    "Diese Zeile hier wäre gern fett<br>\n",
    "Diese Zeile hier wäre gern kursiv<br>"
   ]
  },
  {
   "cell_type": "markdown",
   "id": "4959ce2b",
   "metadata": {
    "id": "4959ce2b"
   },
   "source": [
    "#5. Wandle diese Zeile zu Code um"
   ]
  },
  {
   "cell_type": "markdown",
   "id": "5c3d1442",
   "metadata": {
    "id": "5c3d1442"
   },
   "source": [
    "6. Füge oberhalb von der Zelle hier eine Zelle ein"
   ]
  },
  {
   "cell_type": "markdown",
   "id": "7595bc0d",
   "metadata": {
    "id": "7595bc0d"
   },
   "source": [
    "7. Und unterhalb von der hier auch. Schreibe darin: print(\"mein Name ist...[dein Name]\") und führe die Zelle aus."
   ]
  },
  {
   "cell_type": "markdown",
   "id": "3be108f3",
   "metadata": {
    "id": "3be108f3"
   },
   "source": [
    "8. Schneide die Zelle aus Übung 7 aus..."
   ]
  },
  {
   "cell_type": "markdown",
   "id": "8345dbe5",
   "metadata": {
    "id": "8345dbe5"
   },
   "source": [
    "9. ...Und füge sie unterhalb von hier wieder ein."
   ]
  }
 ],
 "metadata": {
  "colab": {
   "provenance": []
  },
  "kernelspec": {
   "display_name": "Python 3",
   "name": "python3"
  },
  "language_info": {
   "codemirror_mode": {
    "name": "ipython",
    "version": 3
   },
   "file_extension": ".py",
   "mimetype": "text/x-python",
   "name": "python",
   "nbconvert_exporter": "python",
   "pygments_lexer": "ipython3",
   "version": "3.12.1"
  }
 },
 "nbformat": 4,
 "nbformat_minor": 5
}
