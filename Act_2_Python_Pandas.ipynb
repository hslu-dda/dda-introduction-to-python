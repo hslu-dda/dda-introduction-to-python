{
 "cells": [
  {
   "cell_type": "markdown",
   "metadata": {
    "id": "3VtJ8HlNjQo7"
   },
   "source": [
    "# Act 2 Import / Export Basics"
   ]
  },
  {
   "cell_type": "markdown",
   "metadata": {
    "id": "Kx_-SCBZln_o"
   },
   "source": [
    "## Daten importieren\n",
    "\n",
    "- Verbindung zu Drive herstellen\n",
    "- Nötige Libraries importieren"
   ]
  },
  {
   "cell_type": "code",
   "execution_count": null,
   "metadata": {
    "colab": {
     "base_uri": "https://localhost:8080/"
    },
    "executionInfo": {
     "elapsed": 1816,
     "status": "ok",
     "timestamp": 1732294080242,
     "user": {
      "displayName": "Max",
      "userId": "01509876735706397764"
     },
     "user_tz": -60
    },
    "id": "TN3iHBSnf6bN",
    "outputId": "99e15c9e-7489-49e4-c7ab-78483fbf3618"
   },
   "outputs": [],
   "source": [
    "import pandas as pd\n",
    "import matplotlib.pyplot as plt\n",
    "\n",
    "from google.colab import drive\n",
    "drive.mount('/content/gdrive')"
   ]
  },
  {
   "cell_type": "markdown",
   "metadata": {
    "id": "I2i_d0XQl15_"
   },
   "source": [
    "- Pfad zum File definieren\n",
    "- CSV importieren mittels Pandas"
   ]
  },
  {
   "cell_type": "code",
   "execution_count": null,
   "metadata": {
    "executionInfo": {
     "elapsed": 3618,
     "status": "ok",
     "timestamp": 1732291216819,
     "user": {
      "displayName": "Max",
      "userId": "01509876735706397764"
     },
     "user_tz": -60
    },
    "id": "Pp-nAzQajT8P"
   },
   "outputs": [],
   "source": [
    "file_path = \"/content/gdrive/MyDrive/Colab Notebooks/Act_2_Python_Intro/data/movies_imdb.csv\"\n",
    "data = pd.read_csv(file_path)"
   ]
  },
  {
   "cell_type": "markdown",
   "metadata": {
    "id": "Vi2lHB0UmGRo"
   },
   "source": [
    "## Datenstruktur verstehen\n",
    "\n",
    "- Spalten-Namen ausgeben\n",
    "- Ersten 5 Einträge ausgeben\n",
    "- Einen spezifischen Eintrag an Index-Position `n` ausgeben\n",
    "- Eine spezifische Spalte ausgeben"
   ]
  },
  {
   "cell_type": "code",
   "execution_count": null,
   "metadata": {
    "colab": {
     "base_uri": "https://localhost:8080/"
    },
    "executionInfo": {
     "elapsed": 249,
     "status": "ok",
     "timestamp": 1732291220075,
     "user": {
      "displayName": "Max",
      "userId": "01509876735706397764"
     },
     "user_tz": -60
    },
    "id": "gutt7YUzkfXE",
    "outputId": "0fb79492-b4d3-4d8b-ccd2-29b30e1c3c7f"
   },
   "outputs": [],
   "source": [
    "# Print the contents of the DataFrame\n",
    "data.columns"
   ]
  },
  {
   "cell_type": "code",
   "execution_count": null,
   "metadata": {
    "colab": {
     "base_uri": "https://localhost:8080/",
     "height": 690
    },
    "executionInfo": {
     "elapsed": 277,
     "status": "ok",
     "timestamp": 1732291223429,
     "user": {
      "displayName": "Max",
      "userId": "01509876735706397764"
     },
     "user_tz": -60
    },
    "id": "s7kfEPEltPS4",
    "outputId": "1fb96bad-72c3-4cf4-ab58-51b34c37b600"
   },
   "outputs": [],
   "source": [
    "# print the first 5 entries\n",
    "data.head()"
   ]
  },
  {
   "cell_type": "code",
   "execution_count": null,
   "metadata": {
    "colab": {
     "base_uri": "https://localhost:8080/",
     "height": 743
    },
    "executionInfo": {
     "elapsed": 245,
     "status": "ok",
     "timestamp": 1732291446784,
     "user": {
      "displayName": "Max",
      "userId": "01509876735706397764"
     },
     "user_tz": -60
    },
    "id": "Ep12yYAAmV0n",
    "outputId": "249b06b0-9086-4fe2-b8e3-3c083c60c581"
   },
   "outputs": [],
   "source": [
    "data.iloc[10]"
   ]
  },
  {
   "cell_type": "code",
   "execution_count": null,
   "metadata": {
    "colab": {
     "base_uri": "https://localhost:8080/",
     "height": 459
    },
    "executionInfo": {
     "elapsed": 266,
     "status": "ok",
     "timestamp": 1732291481839,
     "user": {
      "displayName": "Max",
      "userId": "01509876735706397764"
     },
     "user_tz": -60
    },
    "id": "7aQXbvohnjsl",
    "outputId": "7c2b20fa-c344-4a83-ae4f-83f37b11a051"
   },
   "outputs": [],
   "source": [
    "data[\"title\"]"
   ]
  },
  {
   "cell_type": "markdown",
   "metadata": {
    "id": "RpNGuUF6n1iz"
   },
   "source": [
    "### Daten Sortieren\n",
    "\n",
    "- Daten nach einer Spalte alphabetisch sortieren\n",
    "- Daten nach einer Spalte nach Werten sortieren"
   ]
  },
  {
   "cell_type": "code",
   "execution_count": null,
   "metadata": {
    "colab": {
     "base_uri": "https://localhost:8080/",
     "height": 707
    },
    "executionInfo": {
     "elapsed": 244,
     "status": "ok",
     "timestamp": 1732291737833,
     "user": {
      "displayName": "Max",
      "userId": "01509876735706397764"
     },
     "user_tz": -60
    },
    "id": "_PhcP4LsoGrB",
    "outputId": "607fdffc-cf7d-400e-d4e5-b450307ef43c"
   },
   "outputs": [],
   "source": [
    "sorted_title_az = data.sort_values(by=\"title\", ascending=True)\n",
    "sorted_title_az.head()"
   ]
  },
  {
   "cell_type": "code",
   "execution_count": null,
   "metadata": {
    "colab": {
     "base_uri": "https://localhost:8080/",
     "height": 724
    },
    "executionInfo": {
     "elapsed": 235,
     "status": "ok",
     "timestamp": 1732291818815,
     "user": {
      "displayName": "Max",
      "userId": "01509876735706397764"
     },
     "user_tz": -60
    },
    "id": "vARPnq0loo6C",
    "outputId": "5335e47c-6b57-4bd0-c79e-118993a2ab1e"
   },
   "outputs": [],
   "source": [
    "sorted_rating = data.sort_values(by=\"imdbRating\", ascending=False)\n",
    "sorted_rating.head()"
   ]
  },
  {
   "cell_type": "markdown",
   "metadata": {
    "id": "o3hLrAGFpJKF"
   },
   "source": [
    "## Daten Filtern\n",
    "\n",
    "- Filtere die Daten nach verschiedenen Werten wie dem Jahr oder dem Land.\n",
    "- Finde alle Filme mit einem Rating höher als 9\n",
    "- Finde alle Filme zwischen 1990 und 1999\n",
    "- Finde alle Filme mit dem Genre \"Anime\""
   ]
  },
  {
   "cell_type": "code",
   "execution_count": null,
   "metadata": {
    "colab": {
     "base_uri": "https://localhost:8080/",
     "height": 690
    },
    "executionInfo": {
     "elapsed": 254,
     "status": "ok",
     "timestamp": 1732292080824,
     "user": {
      "displayName": "Max",
      "userId": "01509876735706397764"
     },
     "user_tz": -60
    },
    "id": "XdrKn4R1pl6v",
    "outputId": "68d3dc1a-ffac-470c-e17c-308c3eecf139"
   },
   "outputs": [],
   "source": [
    "movies_1989 = data[data['year'] == \"1989\"]\n",
    "movies_1989.head()"
   ]
  },
  {
   "cell_type": "code",
   "execution_count": null,
   "metadata": {
    "colab": {
     "base_uri": "https://localhost:8080/"
    },
    "executionInfo": {
     "elapsed": 234,
     "status": "ok",
     "timestamp": 1732292435970,
     "user": {
      "displayName": "Max",
      "userId": "01509876735706397764"
     },
     "user_tz": -60
    },
    "id": "cmoxKvyhp5xM",
    "outputId": "65390f22-539c-4723-9b28-f63323fc37d5"
   },
   "outputs": [],
   "source": [
    "movies_japan = data[data[\"country\"] == \"Japan\"]\n",
    "len(movies_japan)\n",
    "# movies_japan.head()"
   ]
  },
  {
   "cell_type": "code",
   "execution_count": null,
   "metadata": {
    "colab": {
     "base_uri": "https://localhost:8080/"
    },
    "executionInfo": {
     "elapsed": 253,
     "status": "ok",
     "timestamp": 1732292462529,
     "user": {
      "displayName": "Max",
      "userId": "01509876735706397764"
     },
     "user_tz": -60
    },
    "id": "iE4KH-U_qLGB",
    "outputId": "2717f575-8254-4aa9-aec9-3ef7bdba6f6c"
   },
   "outputs": [],
   "source": [
    "all_movies_japan = data[data[\"country\"].str.contains(\"Japan\", na=False)]\n",
    "len(all_movies_japan)\n",
    "#all_movies_japan.head()"
   ]
  },
  {
   "cell_type": "code",
   "execution_count": null,
   "metadata": {
    "colab": {
     "base_uri": "https://localhost:8080/",
     "height": 724
    },
    "executionInfo": {
     "elapsed": 240,
     "status": "ok",
     "timestamp": 1732292645824,
     "user": {
      "displayName": "Max",
      "userId": "01509876735706397764"
     },
     "user_tz": -60
    },
    "id": "csu64FYxraaI",
    "outputId": "906406c9-6099-4250-ce6d-151a12d299c3"
   },
   "outputs": [],
   "source": [
    "best_movies = data[data[\"imdbRating\"] >= 9]\n",
    "best_sorted = best_movies.sort_values(by=\"imdbRating\", ascending=False)\n",
    "best_sorted.head()"
   ]
  },
  {
   "cell_type": "code",
   "execution_count": null,
   "metadata": {
    "colab": {
     "base_uri": "https://localhost:8080/",
     "height": 672
    },
    "executionInfo": {
     "elapsed": 273,
     "status": "ok",
     "timestamp": 1732292840696,
     "user": {
      "displayName": "Max",
      "userId": "01509876735706397764"
     },
     "user_tz": -60
    },
    "id": "w-p2URg8sFz4",
    "outputId": "f15cf7ac-b521-4717-f77d-97824f8cbc98"
   },
   "outputs": [],
   "source": [
    "# Convert the 'year' column to numeric, coercing errors (e.g., invalid strings will become NaN)\n",
    "data['year_numeric'] = pd.to_numeric(data['year'], errors='coerce')\n",
    "\n",
    "movies_90s = data[(data['year_numeric'] >= 1990) & (data['year_numeric'] <= 1999)]\n",
    "movies_90s.head()\n"
   ]
  },
  {
   "cell_type": "code",
   "execution_count": null,
   "metadata": {
    "colab": {
     "base_uri": "https://localhost:8080/",
     "height": 707
    },
    "executionInfo": {
     "elapsed": 258,
     "status": "ok",
     "timestamp": 1732292981238,
     "user": {
      "displayName": "Max",
      "userId": "01509876735706397764"
     },
     "user_tz": -60
    },
    "id": "jg50KcGts2uI",
    "outputId": "8a97b915-d9e7-4df1-b4cf-a8136ecdd631"
   },
   "outputs": [],
   "source": [
    "all_animation = data[data[\"genre\"].str.contains(\"Animation\", na=False)]\n",
    "all_animation.head()"
   ]
  },
  {
   "cell_type": "code",
   "execution_count": null,
   "metadata": {
    "colab": {
     "base_uri": "https://localhost:8080/",
     "height": 742
    },
    "executionInfo": {
     "elapsed": 346,
     "status": "ok",
     "timestamp": 1732293064452,
     "user": {
      "displayName": "Max",
      "userId": "01509876735706397764"
     },
     "user_tz": -60
    },
    "id": "5OU95EIEtNZD",
    "outputId": "f12ec04d-d212-4c42-93e5-95b659e2f2e7"
   },
   "outputs": [],
   "source": [
    "all_90s_action = movies_90s[(movies_90s[\"genre\"].str.contains(\"Action\", na=False))]\n",
    "all_90s_action.head()"
   ]
  },
  {
   "cell_type": "markdown",
   "metadata": {
    "id": "CfkKxM-7ttQq"
   },
   "source": [
    "## Basic Statistics\n",
    "\n",
    "- Berechne den Mean und Median der Ratings. Der Mittelwert (Mean) ist der Durchschnitt, der berechnet wird, indem alle Werte addiert und durch die Anzahl der Werte geteilt werden. Der Median hingegen ist der mittlere Wert in einer sortierten Datenreihe, der die Daten in zwei Hälften teilt – unabhängig von extremen Ausreißern.\n",
    "- Berechne den häufigsten Wert (Mode)\n",
    "- Finde den niedrigsten und höchsten Wert."
   ]
  },
  {
   "cell_type": "code",
   "execution_count": null,
   "metadata": {
    "colab": {
     "base_uri": "https://localhost:8080/"
    },
    "executionInfo": {
     "elapsed": 275,
     "status": "ok",
     "timestamp": 1732293237411,
     "user": {
      "displayName": "Max",
      "userId": "01509876735706397764"
     },
     "user_tz": -60
    },
    "id": "oiwl0yN1uQXX",
    "outputId": "1ad61769-a4dd-4424-f435-d469af02817f"
   },
   "outputs": [],
   "source": [
    "# Calculate the mean\n",
    "mean_rating = data['imdbRating'].mean()\n",
    "\n",
    "# Calculate the median\n",
    "median_rating = data['imdbRating'].median()\n",
    "\n",
    "# Print the results\n",
    "print(f\"Mean IMDb Rating: {mean_rating}\")\n",
    "print(f\"Median IMDb Rating: {median_rating}\")"
   ]
  },
  {
   "cell_type": "code",
   "execution_count": null,
   "metadata": {
    "colab": {
     "base_uri": "https://localhost:8080/",
     "height": 115
    },
    "executionInfo": {
     "elapsed": 329,
     "status": "ok",
     "timestamp": 1732293405668,
     "user": {
      "displayName": "Max",
      "userId": "01509876735706397764"
     },
     "user_tz": -60
    },
    "id": "5rIOhGaJuwE0",
    "outputId": "cb4f9d19-9245-4845-f7c6-de465d8b9d05"
   },
   "outputs": [],
   "source": [
    "# der häufigste wert\n",
    "data['imdbRating'].mode()"
   ]
  },
  {
   "cell_type": "code",
   "execution_count": null,
   "metadata": {
    "colab": {
     "base_uri": "https://localhost:8080/"
    },
    "executionInfo": {
     "elapsed": 313,
     "status": "ok",
     "timestamp": 1732293551749,
     "user": {
      "displayName": "Max",
      "userId": "01509876735706397764"
     },
     "user_tz": -60
    },
    "id": "ytRbxSAVu9ab",
    "outputId": "8e395f9b-b949-47da-9d89-bddc8ff38326"
   },
   "outputs": [],
   "source": [
    "# Min & Max\n",
    "print(f\"Lowest Rating:: {data['imdbRating'].min()}\")\n",
    "print(f\"Highest Rating: {data['imdbRating'].max()}\")"
   ]
  },
  {
   "cell_type": "markdown",
   "metadata": {
    "id": "o18XKVb7wbFB"
   },
   "source": [
    "## Export\n",
    "\n",
    "- Exportiere einer der gefilterten Datensätze als neues CSV.\n",
    "- Exportiere den selben Datensatz auch als JSON und Excel File"
   ]
  },
  {
   "cell_type": "code",
   "execution_count": null,
   "metadata": {
    "executionInfo": {
     "elapsed": 231,
     "status": "ok",
     "timestamp": 1732294224142,
     "user": {
      "displayName": "Max",
      "userId": "01509876735706397764"
     },
     "user_tz": -60
    },
    "id": "8Q2oF2PZwj_6"
   },
   "outputs": [],
   "source": [
    "export_path = '/content/gdrive/MyDrive/Colab Notebooks/Act_2_Python_Intro/export/movies_90s_action.csv'\n",
    "all_90s_action.to_csv(export_path, index=False)"
   ]
  },
  {
   "cell_type": "code",
   "execution_count": null,
   "metadata": {
    "executionInfo": {
     "elapsed": 245,
     "status": "ok",
     "timestamp": 1732294227451,
     "user": {
      "displayName": "Max",
      "userId": "01509876735706397764"
     },
     "user_tz": -60
    },
    "id": "z81T8jOzxw1_"
   },
   "outputs": [],
   "source": [
    "all_90s_action.to_json('/content/gdrive/MyDrive/Colab Notebooks/Act_2_Python_Intro/export/movies_90s_action.json', orient='records')\n"
   ]
  },
  {
   "cell_type": "code",
   "execution_count": null,
   "metadata": {
    "executionInfo": {
     "elapsed": 2241,
     "status": "ok",
     "timestamp": 1732294310153,
     "user": {
      "displayName": "Max",
      "userId": "01509876735706397764"
     },
     "user_tz": -60
    },
    "id": "shTf4arxyQPj"
   },
   "outputs": [],
   "source": [
    "all_90s_action.to_excel('/content/gdrive/MyDrive/Colab Notebooks/Act_2_Python_Intro/export/movies_90s_action.xlsx', index=False)\n"
   ]
  },
  {
   "cell_type": "markdown",
   "metadata": {
    "id": "imHsDbbnszt7"
   },
   "source": [
    "## Visualize Movies per Year"
   ]
  },
  {
   "cell_type": "code",
   "execution_count": null,
   "metadata": {
    "id": "lgEWwZapn5Dr"
   },
   "outputs": [],
   "source": [
    "# Count the number of movies for each year\n",
    "movies_per_year = data['year'].value_counts().sort_index()  # Sort by year for proper ordering\n"
   ]
  },
  {
   "cell_type": "code",
   "execution_count": null,
   "metadata": {
    "colab": {
     "base_uri": "https://localhost:8080/",
     "height": 532
    },
    "executionInfo": {
     "elapsed": 1675,
     "status": "ok",
     "timestamp": 1731923703143,
     "user": {
      "displayName": "Max",
      "userId": "01509876735706397764"
     },
     "user_tz": -60
    },
    "id": "K7yMdGQ2ry4-",
    "outputId": "5d05b9e1-ff20-4ff4-9866-e5c2ad162658"
   },
   "outputs": [],
   "source": [
    "# Plot the bar chart\n",
    "plt.figure(figsize=(20, 6))\n",
    "movies_per_year.plot(kind='bar')\n",
    "plt.title('Number of Movies Per Year')\n",
    "plt.xlabel('Year')\n",
    "plt.ylabel('Number of Movies')\n",
    "plt.xticks(rotation=90)\n",
    "plt.xticks(fontsize=8)\n",
    "plt.grid(axis='y', linestyle='--', alpha=0.7)\n",
    "plt.show()"
   ]
  },
  {
   "cell_type": "markdown",
   "metadata": {
    "id": "91Vuvjt9txxt"
   },
   "source": [
    "## Visualize Movies per Country"
   ]
  },
  {
   "cell_type": "code",
   "execution_count": null,
   "metadata": {
    "colab": {
     "base_uri": "https://localhost:8080/"
    },
    "executionInfo": {
     "elapsed": 280,
     "status": "ok",
     "timestamp": 1731924049681,
     "user": {
      "displayName": "Max",
      "userId": "01509876735706397764"
     },
     "user_tz": -60
    },
    "id": "Is7Puw4wr0t7",
    "outputId": "c29bca29-7252-46c5-b27b-bc444081384e"
   },
   "outputs": [],
   "source": [
    "movies_per_country = data['country'].value_counts()\n",
    "print(movies_per_country)"
   ]
  },
  {
   "cell_type": "code",
   "execution_count": null,
   "metadata": {
    "colab": {
     "base_uri": "https://localhost:8080/",
     "height": 671
    },
    "executionInfo": {
     "elapsed": 2597,
     "status": "ok",
     "timestamp": 1731924127879,
     "user": {
      "displayName": "Max",
      "userId": "01509876735706397764"
     },
     "user_tz": -60
    },
    "id": "SxKmMMZBt7vf",
    "outputId": "a7b95a28-da71-4b6e-bb85-ac49689e944b"
   },
   "outputs": [],
   "source": [
    "# Filter countries with more than 10 movies\n",
    "filtered_countries = movies_per_country[movies_per_country > 10]\n",
    "print(filtered_countries)\n",
    "\n",
    "# Plot the data\n",
    "plt.figure(figsize=(20, 6))\n",
    "filtered_countries.plot(kind='bar', color='skyblue', edgecolor='black')\n",
    "\n",
    "# Add title and labels\n",
    "plt.title('Number of Movies Per Country (More than 10 Movies)', fontsize=16)\n",
    "plt.xlabel('Country', fontsize=12)\n",
    "plt.ylabel('Number of Movies', fontsize=12)\n",
    "plt.xticks(rotation=45, fontsize=10)\n",
    "plt.yticks(fontsize=10)\n",
    "plt.grid(axis='y', linestyle='--', alpha=0.7)\n",
    "\n",
    "# Show the plot\n",
    "plt.tight_layout()\n",
    "plt.show()"
   ]
  },
  {
   "cell_type": "code",
   "execution_count": null,
   "metadata": {
    "colab": {
     "base_uri": "https://localhost:8080/",
     "height": 1000
    },
    "executionInfo": {
     "elapsed": 238,
     "status": "ok",
     "timestamp": 1731924228129,
     "user": {
      "displayName": "Max",
      "userId": "01509876735706397764"
     },
     "user_tz": -60
    },
    "id": "W8f2Dyg5uOPh",
    "outputId": "838b91f9-4f0f-4cb1-c87e-18250cbc0e53"
   },
   "outputs": [],
   "source": [
    "# Filter rows where 'country' contains 'Switzerland'\n",
    "switzerland_movies = data[data['country'].str.contains('Switzerland', case=False, na=False)]\n",
    "\n",
    "# Display the filtered DataFrame\n",
    "switzerland_movies"
   ]
  },
  {
   "cell_type": "code",
   "execution_count": null,
   "metadata": {
    "colab": {
     "base_uri": "https://localhost:8080/",
     "height": 433
    },
    "executionInfo": {
     "elapsed": 1067,
     "status": "ok",
     "timestamp": 1731924501622,
     "user": {
      "displayName": "Max",
      "userId": "01509876735706397764"
     },
     "user_tz": -60
    },
    "id": "ejjeZlkTujBf",
    "outputId": "095ba9b4-0bb8-4f6f-efba-e8e5aacb112c"
   },
   "outputs": [],
   "source": [
    "# count the movies\n",
    "switzerland_count = switzerland_movies['year'].value_counts().sort_index()\n",
    "\n",
    "# Plot the data\n",
    "plt.figure(figsize=(20, 6))\n",
    "switzerland_count.plot(kind='bar', color='skyblue', edgecolor='black')\n",
    "\n",
    "# Add title and labels\n",
    "plt.title('Number of Movies Per Country (More than 10 Movies)', fontsize=16)\n",
    "plt.xlabel('Country', fontsize=12)\n",
    "plt.ylabel('Number of Movies', fontsize=12)\n",
    "plt.xticks(rotation=45, fontsize=10)\n",
    "plt.yticks(fontsize=10)\n",
    "plt.grid(axis='y', linestyle='--', alpha=0.7)\n",
    "\n",
    "# Show the plot\n",
    "plt.tight_layout()\n",
    "plt.show()"
   ]
  },
  {
   "cell_type": "code",
   "execution_count": null,
   "metadata": {
    "id": "j2OZ3Hwpuynu"
   },
   "outputs": [],
   "source": []
  }
 ],
 "metadata": {
  "colab": {
   "authorship_tag": "ABX9TyOEvY8Vtv6mp/CtOw9BWZVb",
   "mount_file_id": "1oGrXhQ89zkxFh1Qmz1HwHqGnCKFS-0Pz",
   "provenance": []
  },
  "kernelspec": {
   "display_name": "Python 3",
   "name": "python3"
  },
  "language_info": {
   "name": "python"
  }
 },
 "nbformat": 4,
 "nbformat_minor": 0
}
