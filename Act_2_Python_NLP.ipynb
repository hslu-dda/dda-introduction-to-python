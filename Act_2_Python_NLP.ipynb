{
 "cells": [
  {
   "cell_type": "markdown",
   "metadata": {
    "id": "3VtJ8HlNjQo7"
   },
   "source": [
    "# Act 2 Python NLP"
   ]
  },
  {
   "cell_type": "markdown",
   "metadata": {
    "id": "Kx_-SCBZln_o"
   },
   "source": [
    "## Libraries & Modelle importieren\n",
    "\n"
   ]
  },
  {
   "cell_type": "code",
   "execution_count": null,
   "metadata": {
    "colab": {
     "base_uri": "https://localhost:8080/"
    },
    "id": "fW4-E18_fORK",
    "outputId": "fe0ec7a3-5744-4e35-888d-4c6014f0e8af"
   },
   "outputs": [
    {
     "name": "stdout",
     "output_type": "stream",
     "text": [
      "Collecting en-core-web-md==3.7.1\n",
      "  Downloading https://github.com/explosion/spacy-models/releases/download/en_core_web_md-3.7.1/en_core_web_md-3.7.1-py3-none-any.whl (42.8 MB)\n",
      "\u001b[2K     \u001b[90m━━━━━━━━━━━━━━━━━━━━━━━━━━━━━━━━━━━━━━━━\u001b[0m \u001b[32m42.8/42.8 MB\u001b[0m \u001b[31m18.2 MB/s\u001b[0m eta \u001b[36m0:00:00\u001b[0m\n",
      "\u001b[?25hRequirement already satisfied: spacy<3.8.0,>=3.7.2 in /usr/local/lib/python3.10/dist-packages (from en-core-web-md==3.7.1) (3.7.5)\n",
      "Requirement already satisfied: spacy-legacy<3.1.0,>=3.0.11 in /usr/local/lib/python3.10/dist-packages (from spacy<3.8.0,>=3.7.2->en-core-web-md==3.7.1) (3.0.12)\n",
      "Requirement already satisfied: spacy-loggers<2.0.0,>=1.0.0 in /usr/local/lib/python3.10/dist-packages (from spacy<3.8.0,>=3.7.2->en-core-web-md==3.7.1) (1.0.5)\n",
      "Requirement already satisfied: murmurhash<1.1.0,>=0.28.0 in /usr/local/lib/python3.10/dist-packages (from spacy<3.8.0,>=3.7.2->en-core-web-md==3.7.1) (1.0.10)\n",
      "Requirement already satisfied: cymem<2.1.0,>=2.0.2 in /usr/local/lib/python3.10/dist-packages (from spacy<3.8.0,>=3.7.2->en-core-web-md==3.7.1) (2.0.8)\n",
      "Requirement already satisfied: preshed<3.1.0,>=3.0.2 in /usr/local/lib/python3.10/dist-packages (from spacy<3.8.0,>=3.7.2->en-core-web-md==3.7.1) (3.0.9)\n",
      "Requirement already satisfied: thinc<8.3.0,>=8.2.2 in /usr/local/lib/python3.10/dist-packages (from spacy<3.8.0,>=3.7.2->en-core-web-md==3.7.1) (8.2.5)\n",
      "Requirement already satisfied: wasabi<1.2.0,>=0.9.1 in /usr/local/lib/python3.10/dist-packages (from spacy<3.8.0,>=3.7.2->en-core-web-md==3.7.1) (1.1.3)\n",
      "Requirement already satisfied: srsly<3.0.0,>=2.4.3 in /usr/local/lib/python3.10/dist-packages (from spacy<3.8.0,>=3.7.2->en-core-web-md==3.7.1) (2.4.8)\n",
      "Requirement already satisfied: catalogue<2.1.0,>=2.0.6 in /usr/local/lib/python3.10/dist-packages (from spacy<3.8.0,>=3.7.2->en-core-web-md==3.7.1) (2.0.10)\n",
      "Requirement already satisfied: weasel<0.5.0,>=0.1.0 in /usr/local/lib/python3.10/dist-packages (from spacy<3.8.0,>=3.7.2->en-core-web-md==3.7.1) (0.4.1)\n",
      "Requirement already satisfied: typer<1.0.0,>=0.3.0 in /usr/local/lib/python3.10/dist-packages (from spacy<3.8.0,>=3.7.2->en-core-web-md==3.7.1) (0.13.0)\n",
      "Requirement already satisfied: tqdm<5.0.0,>=4.38.0 in /usr/local/lib/python3.10/dist-packages (from spacy<3.8.0,>=3.7.2->en-core-web-md==3.7.1) (4.66.6)\n",
      "Requirement already satisfied: requests<3.0.0,>=2.13.0 in /usr/local/lib/python3.10/dist-packages (from spacy<3.8.0,>=3.7.2->en-core-web-md==3.7.1) (2.32.3)\n",
      "Requirement already satisfied: pydantic!=1.8,!=1.8.1,<3.0.0,>=1.7.4 in /usr/local/lib/python3.10/dist-packages (from spacy<3.8.0,>=3.7.2->en-core-web-md==3.7.1) (2.9.2)\n",
      "Requirement already satisfied: jinja2 in /usr/local/lib/python3.10/dist-packages (from spacy<3.8.0,>=3.7.2->en-core-web-md==3.7.1) (3.1.4)\n",
      "Requirement already satisfied: setuptools in /usr/local/lib/python3.10/dist-packages (from spacy<3.8.0,>=3.7.2->en-core-web-md==3.7.1) (75.1.0)\n",
      "Requirement already satisfied: packaging>=20.0 in /usr/local/lib/python3.10/dist-packages (from spacy<3.8.0,>=3.7.2->en-core-web-md==3.7.1) (24.2)\n",
      "Requirement already satisfied: langcodes<4.0.0,>=3.2.0 in /usr/local/lib/python3.10/dist-packages (from spacy<3.8.0,>=3.7.2->en-core-web-md==3.7.1) (3.4.1)\n",
      "Requirement already satisfied: numpy>=1.19.0 in /usr/local/lib/python3.10/dist-packages (from spacy<3.8.0,>=3.7.2->en-core-web-md==3.7.1) (1.26.4)\n",
      "Requirement already satisfied: language-data>=1.2 in /usr/local/lib/python3.10/dist-packages (from langcodes<4.0.0,>=3.2.0->spacy<3.8.0,>=3.7.2->en-core-web-md==3.7.1) (1.2.0)\n",
      "Requirement already satisfied: annotated-types>=0.6.0 in /usr/local/lib/python3.10/dist-packages (from pydantic!=1.8,!=1.8.1,<3.0.0,>=1.7.4->spacy<3.8.0,>=3.7.2->en-core-web-md==3.7.1) (0.7.0)\n",
      "Requirement already satisfied: pydantic-core==2.23.4 in /usr/local/lib/python3.10/dist-packages (from pydantic!=1.8,!=1.8.1,<3.0.0,>=1.7.4->spacy<3.8.0,>=3.7.2->en-core-web-md==3.7.1) (2.23.4)\n",
      "Requirement already satisfied: typing-extensions>=4.6.1 in /usr/local/lib/python3.10/dist-packages (from pydantic!=1.8,!=1.8.1,<3.0.0,>=1.7.4->spacy<3.8.0,>=3.7.2->en-core-web-md==3.7.1) (4.12.2)\n",
      "Requirement already satisfied: charset-normalizer<4,>=2 in /usr/local/lib/python3.10/dist-packages (from requests<3.0.0,>=2.13.0->spacy<3.8.0,>=3.7.2->en-core-web-md==3.7.1) (3.4.0)\n",
      "Requirement already satisfied: idna<4,>=2.5 in /usr/local/lib/python3.10/dist-packages (from requests<3.0.0,>=2.13.0->spacy<3.8.0,>=3.7.2->en-core-web-md==3.7.1) (3.10)\n",
      "Requirement already satisfied: urllib3<3,>=1.21.1 in /usr/local/lib/python3.10/dist-packages (from requests<3.0.0,>=2.13.0->spacy<3.8.0,>=3.7.2->en-core-web-md==3.7.1) (2.2.3)\n",
      "Requirement already satisfied: certifi>=2017.4.17 in /usr/local/lib/python3.10/dist-packages (from requests<3.0.0,>=2.13.0->spacy<3.8.0,>=3.7.2->en-core-web-md==3.7.1) (2024.8.30)\n",
      "Requirement already satisfied: blis<0.8.0,>=0.7.8 in /usr/local/lib/python3.10/dist-packages (from thinc<8.3.0,>=8.2.2->spacy<3.8.0,>=3.7.2->en-core-web-md==3.7.1) (0.7.11)\n",
      "Requirement already satisfied: confection<1.0.0,>=0.0.1 in /usr/local/lib/python3.10/dist-packages (from thinc<8.3.0,>=8.2.2->spacy<3.8.0,>=3.7.2->en-core-web-md==3.7.1) (0.1.5)\n",
      "Requirement already satisfied: click>=8.0.0 in /usr/local/lib/python3.10/dist-packages (from typer<1.0.0,>=0.3.0->spacy<3.8.0,>=3.7.2->en-core-web-md==3.7.1) (8.1.7)\n",
      "Requirement already satisfied: shellingham>=1.3.0 in /usr/local/lib/python3.10/dist-packages (from typer<1.0.0,>=0.3.0->spacy<3.8.0,>=3.7.2->en-core-web-md==3.7.1) (1.5.4)\n",
      "Requirement already satisfied: rich>=10.11.0 in /usr/local/lib/python3.10/dist-packages (from typer<1.0.0,>=0.3.0->spacy<3.8.0,>=3.7.2->en-core-web-md==3.7.1) (13.9.4)\n",
      "Requirement already satisfied: cloudpathlib<1.0.0,>=0.7.0 in /usr/local/lib/python3.10/dist-packages (from weasel<0.5.0,>=0.1.0->spacy<3.8.0,>=3.7.2->en-core-web-md==3.7.1) (0.20.0)\n",
      "Requirement already satisfied: smart-open<8.0.0,>=5.2.1 in /usr/local/lib/python3.10/dist-packages (from weasel<0.5.0,>=0.1.0->spacy<3.8.0,>=3.7.2->en-core-web-md==3.7.1) (7.0.5)\n",
      "Requirement already satisfied: MarkupSafe>=2.0 in /usr/local/lib/python3.10/dist-packages (from jinja2->spacy<3.8.0,>=3.7.2->en-core-web-md==3.7.1) (3.0.2)\n",
      "Requirement already satisfied: marisa-trie>=0.7.7 in /usr/local/lib/python3.10/dist-packages (from language-data>=1.2->langcodes<4.0.0,>=3.2.0->spacy<3.8.0,>=3.7.2->en-core-web-md==3.7.1) (1.2.1)\n",
      "Requirement already satisfied: markdown-it-py>=2.2.0 in /usr/local/lib/python3.10/dist-packages (from rich>=10.11.0->typer<1.0.0,>=0.3.0->spacy<3.8.0,>=3.7.2->en-core-web-md==3.7.1) (3.0.0)\n",
      "Requirement already satisfied: pygments<3.0.0,>=2.13.0 in /usr/local/lib/python3.10/dist-packages (from rich>=10.11.0->typer<1.0.0,>=0.3.0->spacy<3.8.0,>=3.7.2->en-core-web-md==3.7.1) (2.18.0)\n",
      "Requirement already satisfied: wrapt in /usr/local/lib/python3.10/dist-packages (from smart-open<8.0.0,>=5.2.1->weasel<0.5.0,>=0.1.0->spacy<3.8.0,>=3.7.2->en-core-web-md==3.7.1) (1.16.0)\n",
      "Requirement already satisfied: mdurl~=0.1 in /usr/local/lib/python3.10/dist-packages (from markdown-it-py>=2.2.0->rich>=10.11.0->typer<1.0.0,>=0.3.0->spacy<3.8.0,>=3.7.2->en-core-web-md==3.7.1) (0.1.2)\n",
      "Installing collected packages: en-core-web-md\n",
      "Successfully installed en-core-web-md-3.7.1\n",
      "\u001b[38;5;2m✔ Download and installation successful\u001b[0m\n",
      "You can now load the package via spacy.load('en_core_web_md')\n",
      "\u001b[38;5;3m⚠ Restart to reload dependencies\u001b[0m\n",
      "If you are in a Jupyter or Colab notebook, you may need to restart Python in\n",
      "order to load all the package's dependencies. You can do this by selecting the\n",
      "'Restart kernel' or 'Restart runtime' option.\n"
     ]
    }
   ],
   "source": [
    "# Installation falls Google Colab das Model nicht bereits installiert hat\n",
    "!python -m spacy download en_core_web_md"
   ]
  },
  {
   "cell_type": "code",
   "execution_count": null,
   "metadata": {
    "id": "TN3iHBSnf6bN"
   },
   "outputs": [],
   "source": [
    "# import the libraries\n",
    "import pandas as pd\n",
    "import spacy # nlp library\n",
    "from spacy import displacy # visualization functionality\n",
    "\n",
    "# load the machine learning model, md = medium, sm = small, lg = large\n",
    "nlp = spacy.load(\"en_core_web_md\")\n"
   ]
  },
  {
   "cell_type": "markdown",
   "metadata": {
    "id": "i4neJreFd1XW"
   },
   "source": [
    "## Tokenization\n",
    "\n",
    "Tokenization is the task of splitting a text into meaningful segments, called tokens."
   ]
  },
  {
   "cell_type": "code",
   "execution_count": null,
   "metadata": {
    "colab": {
     "base_uri": "https://localhost:8080/"
    },
    "id": "u7Ng_eV5d09r",
    "outputId": "57ca3bfa-5a5e-42b6-b48d-632bc8220e2c"
   },
   "outputs": [
    {
     "name": "stdout",
     "output_type": "stream",
     "text": [
      "Apple\n",
      "is\n",
      "looking\n",
      "at\n",
      "buying\n",
      "U.K.\n",
      "startup\n",
      "for\n",
      "$\n",
      "1\n",
      "billion\n"
     ]
    }
   ],
   "source": [
    "doc = nlp(\"Apple is looking at buying U.K. startup for $1 billion\")\n",
    "# a for loop in python\n",
    "for token in doc:\n",
    "  print(token)"
   ]
  },
  {
   "cell_type": "markdown",
   "metadata": {
    "id": "GMyPWIQTWhjR"
   },
   "source": [
    "## Part of Speech Tagging\n",
    "\n",
    "- `.lemma` base or dictionary form of the token (e.g. \"run\" for \"running\")\n",
    "- `.pos` high level category such as noun, verb, adjective etc.\n",
    "- `.tag` the fine grained part of speech information.\n",
    "- `.dep` indicates the token’s relationship with its parent word in the syntactic parse tree.\n",
    "- `.shape` The shape of the token, which abstracts its capitalization and punctuation patterns. E.g. \"Xxxxx\" (for \"Apple\"), \"xxx\" (for \"run\").\n",
    "- `.is_alpha` A boolean indicating whether the token consists only of alphabetic characters. E.g. True (for \"running\"), False (for \"123\" or \".\")\n",
    "- `.is_stop` A boolean indicating whether the token is a stop word. Stop words are common words like “the”, “is”, “and” that are often ignored in NLP tasks. E.g. True (for \"is\"), False (for \"running\").\n",
    "\n",
    "See the full documentation [here](https://spacy.io/usage/linguistic-features#pos-tagging)."
   ]
  },
  {
   "cell_type": "code",
   "execution_count": null,
   "metadata": {
    "colab": {
     "base_uri": "https://localhost:8080/"
    },
    "id": "JxxY5EtsXxIa",
    "outputId": "aa606106-6459-4820-b9ab-0b7672b6ffc7"
   },
   "outputs": [
    {
     "name": "stdout",
     "output_type": "stream",
     "text": [
      "Apple Apple PROPN NNP nsubj Xxxxx True False\n",
      "is be AUX VBZ aux xx True True\n",
      "looking look VERB VBG ROOT xxxx True False\n",
      "at at ADP IN prep xx True True\n",
      "buying buy VERB VBG pcomp xxxx True False\n",
      "U.K. U.K. PROPN NNP compound X.X. False False\n",
      "startup startup NOUN NN dobj xxxx True False\n",
      "for for ADP IN prep xxx True True\n",
      "$ $ SYM $ quantmod $ False False\n",
      "1 1 NUM CD compound d False False\n",
      "billion billion NUM CD pobj xxxx True False\n"
     ]
    }
   ],
   "source": [
    "doc = nlp(\"Apple is looking at buying U.K. startup for $1 billion\")\n",
    "for token in doc:\n",
    "    print(token.text, token.lemma_, token.pos_, token.tag_, token.dep_,\n",
    "          token.shape_, token.is_alpha, token.is_stop)"
   ]
  },
  {
   "cell_type": "code",
   "execution_count": null,
   "metadata": {
    "colab": {
     "base_uri": "https://localhost:8080/",
     "height": 36
    },
    "id": "6KZEHvCUZx-H",
    "outputId": "f48cd1da-83ff-477b-a3d9-01db89a8d294"
   },
   "outputs": [
    {
     "data": {
      "application/vnd.google.colaboratory.intrinsic+json": {
       "type": "string"
      },
      "text/plain": [
       "'verb, past participle'"
      ]
     },
     "execution_count": 41,
     "metadata": {},
     "output_type": "execute_result"
    }
   ],
   "source": [
    "# To understand the spacy codes\n",
    "spacy.explain(\"VBN\")"
   ]
  },
  {
   "cell_type": "markdown",
   "metadata": {
    "id": "sV29CQxma7Jz"
   },
   "source": [
    "Spacy comes with some visualization options to better understand the text structure. All options can be seen in the documentation [here](https://spacy.io/usage/visualizers/)."
   ]
  },
  {
   "cell_type": "code",
   "execution_count": null,
   "metadata": {
    "colab": {
     "base_uri": "https://localhost:8080/",
     "height": 442
    },
    "id": "dmBsaecZaPdy",
    "outputId": "e77282af-0c4e-4127-fdd7-23665905c55b"
   },
   "outputs": [
    {
     "data": {
      "text/html": [
       "<span class=\"tex2jax_ignore\"><svg xmlns=\"http://www.w3.org/2000/svg\" xmlns:xlink=\"http://www.w3.org/1999/xlink\" xml:lang=\"en\" id=\"aec51ba793f94070bed4d7406b303e24-0\" class=\"displacy\" width=\"1975\" height=\"399.5\" direction=\"ltr\" style=\"max-width: none; height: 399.5px; color: #000000; background: #ffffff; font-family: Arial; direction: ltr\">\n",
       "<text class=\"displacy-token\" fill=\"currentColor\" text-anchor=\"middle\" y=\"309.5\">\n",
       "    <tspan class=\"displacy-word\" fill=\"currentColor\" x=\"50\">Apple</tspan>\n",
       "    <tspan class=\"displacy-tag\" dy=\"2em\" fill=\"currentColor\" x=\"50\">PROPN</tspan>\n",
       "</text>\n",
       "\n",
       "<text class=\"displacy-token\" fill=\"currentColor\" text-anchor=\"middle\" y=\"309.5\">\n",
       "    <tspan class=\"displacy-word\" fill=\"currentColor\" x=\"225\">is</tspan>\n",
       "    <tspan class=\"displacy-tag\" dy=\"2em\" fill=\"currentColor\" x=\"225\">AUX</tspan>\n",
       "</text>\n",
       "\n",
       "<text class=\"displacy-token\" fill=\"currentColor\" text-anchor=\"middle\" y=\"309.5\">\n",
       "    <tspan class=\"displacy-word\" fill=\"currentColor\" x=\"400\">looking</tspan>\n",
       "    <tspan class=\"displacy-tag\" dy=\"2em\" fill=\"currentColor\" x=\"400\">VERB</tspan>\n",
       "</text>\n",
       "\n",
       "<text class=\"displacy-token\" fill=\"currentColor\" text-anchor=\"middle\" y=\"309.5\">\n",
       "    <tspan class=\"displacy-word\" fill=\"currentColor\" x=\"575\">at</tspan>\n",
       "    <tspan class=\"displacy-tag\" dy=\"2em\" fill=\"currentColor\" x=\"575\">ADP</tspan>\n",
       "</text>\n",
       "\n",
       "<text class=\"displacy-token\" fill=\"currentColor\" text-anchor=\"middle\" y=\"309.5\">\n",
       "    <tspan class=\"displacy-word\" fill=\"currentColor\" x=\"750\">buying</tspan>\n",
       "    <tspan class=\"displacy-tag\" dy=\"2em\" fill=\"currentColor\" x=\"750\">VERB</tspan>\n",
       "</text>\n",
       "\n",
       "<text class=\"displacy-token\" fill=\"currentColor\" text-anchor=\"middle\" y=\"309.5\">\n",
       "    <tspan class=\"displacy-word\" fill=\"currentColor\" x=\"925\">U.K.</tspan>\n",
       "    <tspan class=\"displacy-tag\" dy=\"2em\" fill=\"currentColor\" x=\"925\">PROPN</tspan>\n",
       "</text>\n",
       "\n",
       "<text class=\"displacy-token\" fill=\"currentColor\" text-anchor=\"middle\" y=\"309.5\">\n",
       "    <tspan class=\"displacy-word\" fill=\"currentColor\" x=\"1100\">startup</tspan>\n",
       "    <tspan class=\"displacy-tag\" dy=\"2em\" fill=\"currentColor\" x=\"1100\">NOUN</tspan>\n",
       "</text>\n",
       "\n",
       "<text class=\"displacy-token\" fill=\"currentColor\" text-anchor=\"middle\" y=\"309.5\">\n",
       "    <tspan class=\"displacy-word\" fill=\"currentColor\" x=\"1275\">for</tspan>\n",
       "    <tspan class=\"displacy-tag\" dy=\"2em\" fill=\"currentColor\" x=\"1275\">ADP</tspan>\n",
       "</text>\n",
       "\n",
       "<text class=\"displacy-token\" fill=\"currentColor\" text-anchor=\"middle\" y=\"309.5\">\n",
       "    <tspan class=\"displacy-word\" fill=\"currentColor\" x=\"1450\">$</tspan>\n",
       "    <tspan class=\"displacy-tag\" dy=\"2em\" fill=\"currentColor\" x=\"1450\">SYM</tspan>\n",
       "</text>\n",
       "\n",
       "<text class=\"displacy-token\" fill=\"currentColor\" text-anchor=\"middle\" y=\"309.5\">\n",
       "    <tspan class=\"displacy-word\" fill=\"currentColor\" x=\"1625\">1</tspan>\n",
       "    <tspan class=\"displacy-tag\" dy=\"2em\" fill=\"currentColor\" x=\"1625\">NUM</tspan>\n",
       "</text>\n",
       "\n",
       "<text class=\"displacy-token\" fill=\"currentColor\" text-anchor=\"middle\" y=\"309.5\">\n",
       "    <tspan class=\"displacy-word\" fill=\"currentColor\" x=\"1800\">billion</tspan>\n",
       "    <tspan class=\"displacy-tag\" dy=\"2em\" fill=\"currentColor\" x=\"1800\">NUM</tspan>\n",
       "</text>\n",
       "\n",
       "<g class=\"displacy-arrow\">\n",
       "    <path class=\"displacy-arc\" id=\"arrow-aec51ba793f94070bed4d7406b303e24-0-0\" stroke-width=\"2px\" d=\"M70,264.5 C70,89.5 395.0,89.5 395.0,264.5\" fill=\"none\" stroke=\"currentColor\"/>\n",
       "    <text dy=\"1.25em\" style=\"font-size: 0.8em; letter-spacing: 1px\">\n",
       "        <textPath xlink:href=\"#arrow-aec51ba793f94070bed4d7406b303e24-0-0\" class=\"displacy-label\" startOffset=\"50%\" side=\"left\" fill=\"currentColor\" text-anchor=\"middle\">nsubj</textPath>\n",
       "    </text>\n",
       "    <path class=\"displacy-arrowhead\" d=\"M70,266.5 L62,254.5 78,254.5\" fill=\"currentColor\"/>\n",
       "</g>\n",
       "\n",
       "<g class=\"displacy-arrow\">\n",
       "    <path class=\"displacy-arc\" id=\"arrow-aec51ba793f94070bed4d7406b303e24-0-1\" stroke-width=\"2px\" d=\"M245,264.5 C245,177.0 390.0,177.0 390.0,264.5\" fill=\"none\" stroke=\"currentColor\"/>\n",
       "    <text dy=\"1.25em\" style=\"font-size: 0.8em; letter-spacing: 1px\">\n",
       "        <textPath xlink:href=\"#arrow-aec51ba793f94070bed4d7406b303e24-0-1\" class=\"displacy-label\" startOffset=\"50%\" side=\"left\" fill=\"currentColor\" text-anchor=\"middle\">aux</textPath>\n",
       "    </text>\n",
       "    <path class=\"displacy-arrowhead\" d=\"M245,266.5 L237,254.5 253,254.5\" fill=\"currentColor\"/>\n",
       "</g>\n",
       "\n",
       "<g class=\"displacy-arrow\">\n",
       "    <path class=\"displacy-arc\" id=\"arrow-aec51ba793f94070bed4d7406b303e24-0-2\" stroke-width=\"2px\" d=\"M420,264.5 C420,177.0 565.0,177.0 565.0,264.5\" fill=\"none\" stroke=\"currentColor\"/>\n",
       "    <text dy=\"1.25em\" style=\"font-size: 0.8em; letter-spacing: 1px\">\n",
       "        <textPath xlink:href=\"#arrow-aec51ba793f94070bed4d7406b303e24-0-2\" class=\"displacy-label\" startOffset=\"50%\" side=\"left\" fill=\"currentColor\" text-anchor=\"middle\">prep</textPath>\n",
       "    </text>\n",
       "    <path class=\"displacy-arrowhead\" d=\"M565.0,266.5 L573.0,254.5 557.0,254.5\" fill=\"currentColor\"/>\n",
       "</g>\n",
       "\n",
       "<g class=\"displacy-arrow\">\n",
       "    <path class=\"displacy-arc\" id=\"arrow-aec51ba793f94070bed4d7406b303e24-0-3\" stroke-width=\"2px\" d=\"M595,264.5 C595,177.0 740.0,177.0 740.0,264.5\" fill=\"none\" stroke=\"currentColor\"/>\n",
       "    <text dy=\"1.25em\" style=\"font-size: 0.8em; letter-spacing: 1px\">\n",
       "        <textPath xlink:href=\"#arrow-aec51ba793f94070bed4d7406b303e24-0-3\" class=\"displacy-label\" startOffset=\"50%\" side=\"left\" fill=\"currentColor\" text-anchor=\"middle\">pcomp</textPath>\n",
       "    </text>\n",
       "    <path class=\"displacy-arrowhead\" d=\"M740.0,266.5 L748.0,254.5 732.0,254.5\" fill=\"currentColor\"/>\n",
       "</g>\n",
       "\n",
       "<g class=\"displacy-arrow\">\n",
       "    <path class=\"displacy-arc\" id=\"arrow-aec51ba793f94070bed4d7406b303e24-0-4\" stroke-width=\"2px\" d=\"M945,264.5 C945,177.0 1090.0,177.0 1090.0,264.5\" fill=\"none\" stroke=\"currentColor\"/>\n",
       "    <text dy=\"1.25em\" style=\"font-size: 0.8em; letter-spacing: 1px\">\n",
       "        <textPath xlink:href=\"#arrow-aec51ba793f94070bed4d7406b303e24-0-4\" class=\"displacy-label\" startOffset=\"50%\" side=\"left\" fill=\"currentColor\" text-anchor=\"middle\">compound</textPath>\n",
       "    </text>\n",
       "    <path class=\"displacy-arrowhead\" d=\"M945,266.5 L937,254.5 953,254.5\" fill=\"currentColor\"/>\n",
       "</g>\n",
       "\n",
       "<g class=\"displacy-arrow\">\n",
       "    <path class=\"displacy-arc\" id=\"arrow-aec51ba793f94070bed4d7406b303e24-0-5\" stroke-width=\"2px\" d=\"M770,264.5 C770,89.5 1095.0,89.5 1095.0,264.5\" fill=\"none\" stroke=\"currentColor\"/>\n",
       "    <text dy=\"1.25em\" style=\"font-size: 0.8em; letter-spacing: 1px\">\n",
       "        <textPath xlink:href=\"#arrow-aec51ba793f94070bed4d7406b303e24-0-5\" class=\"displacy-label\" startOffset=\"50%\" side=\"left\" fill=\"currentColor\" text-anchor=\"middle\">dobj</textPath>\n",
       "    </text>\n",
       "    <path class=\"displacy-arrowhead\" d=\"M1095.0,266.5 L1103.0,254.5 1087.0,254.5\" fill=\"currentColor\"/>\n",
       "</g>\n",
       "\n",
       "<g class=\"displacy-arrow\">\n",
       "    <path class=\"displacy-arc\" id=\"arrow-aec51ba793f94070bed4d7406b303e24-0-6\" stroke-width=\"2px\" d=\"M770,264.5 C770,2.0 1275.0,2.0 1275.0,264.5\" fill=\"none\" stroke=\"currentColor\"/>\n",
       "    <text dy=\"1.25em\" style=\"font-size: 0.8em; letter-spacing: 1px\">\n",
       "        <textPath xlink:href=\"#arrow-aec51ba793f94070bed4d7406b303e24-0-6\" class=\"displacy-label\" startOffset=\"50%\" side=\"left\" fill=\"currentColor\" text-anchor=\"middle\">prep</textPath>\n",
       "    </text>\n",
       "    <path class=\"displacy-arrowhead\" d=\"M1275.0,266.5 L1283.0,254.5 1267.0,254.5\" fill=\"currentColor\"/>\n",
       "</g>\n",
       "\n",
       "<g class=\"displacy-arrow\">\n",
       "    <path class=\"displacy-arc\" id=\"arrow-aec51ba793f94070bed4d7406b303e24-0-7\" stroke-width=\"2px\" d=\"M1470,264.5 C1470,89.5 1795.0,89.5 1795.0,264.5\" fill=\"none\" stroke=\"currentColor\"/>\n",
       "    <text dy=\"1.25em\" style=\"font-size: 0.8em; letter-spacing: 1px\">\n",
       "        <textPath xlink:href=\"#arrow-aec51ba793f94070bed4d7406b303e24-0-7\" class=\"displacy-label\" startOffset=\"50%\" side=\"left\" fill=\"currentColor\" text-anchor=\"middle\">quantmod</textPath>\n",
       "    </text>\n",
       "    <path class=\"displacy-arrowhead\" d=\"M1470,266.5 L1462,254.5 1478,254.5\" fill=\"currentColor\"/>\n",
       "</g>\n",
       "\n",
       "<g class=\"displacy-arrow\">\n",
       "    <path class=\"displacy-arc\" id=\"arrow-aec51ba793f94070bed4d7406b303e24-0-8\" stroke-width=\"2px\" d=\"M1645,264.5 C1645,177.0 1790.0,177.0 1790.0,264.5\" fill=\"none\" stroke=\"currentColor\"/>\n",
       "    <text dy=\"1.25em\" style=\"font-size: 0.8em; letter-spacing: 1px\">\n",
       "        <textPath xlink:href=\"#arrow-aec51ba793f94070bed4d7406b303e24-0-8\" class=\"displacy-label\" startOffset=\"50%\" side=\"left\" fill=\"currentColor\" text-anchor=\"middle\">compound</textPath>\n",
       "    </text>\n",
       "    <path class=\"displacy-arrowhead\" d=\"M1645,266.5 L1637,254.5 1653,254.5\" fill=\"currentColor\"/>\n",
       "</g>\n",
       "\n",
       "<g class=\"displacy-arrow\">\n",
       "    <path class=\"displacy-arc\" id=\"arrow-aec51ba793f94070bed4d7406b303e24-0-9\" stroke-width=\"2px\" d=\"M1295,264.5 C1295,2.0 1800.0,2.0 1800.0,264.5\" fill=\"none\" stroke=\"currentColor\"/>\n",
       "    <text dy=\"1.25em\" style=\"font-size: 0.8em; letter-spacing: 1px\">\n",
       "        <textPath xlink:href=\"#arrow-aec51ba793f94070bed4d7406b303e24-0-9\" class=\"displacy-label\" startOffset=\"50%\" side=\"left\" fill=\"currentColor\" text-anchor=\"middle\">pobj</textPath>\n",
       "    </text>\n",
       "    <path class=\"displacy-arrowhead\" d=\"M1800.0,266.5 L1808.0,254.5 1792.0,254.5\" fill=\"currentColor\"/>\n",
       "</g>\n",
       "</svg></span>"
      ],
      "text/plain": [
       "<IPython.core.display.HTML object>"
      ]
     },
     "metadata": {},
     "output_type": "display_data"
    }
   ],
   "source": [
    "# \"dep\": Displays the dependency parse tree, showing relationships between tokens, such as subject, object, modifiers, etc.\n",
    "displacy.render(doc, style=\"dep\", jupyter=True)"
   ]
  },
  {
   "cell_type": "markdown",
   "metadata": {
    "id": "9ZJplwEMbOK8"
   },
   "source": [
    "## Named Entity Recognition (NER)\n",
    "\n",
    "Full documentation can be seen [here](https://spacy.io/usage/linguistic-features#named-entities)."
   ]
  },
  {
   "cell_type": "code",
   "execution_count": null,
   "metadata": {
    "colab": {
     "base_uri": "https://localhost:8080/"
    },
    "id": "CrpApPch8ior",
    "outputId": "85225cae-c460-4493-adb7-11323627d4a0"
   },
   "outputs": [
    {
     "name": "stdout",
     "output_type": "stream",
     "text": [
      "Apple 0 5 ORG\n",
      "U.K. 27 31 GPE\n",
      "$1 billion 44 54 MONEY\n"
     ]
    }
   ],
   "source": [
    "doc = nlp(\"Apple is looking at buying U.K. startup for $1 billion\")\n",
    "for ent in doc.ents:\n",
    "    print(ent.text, ent.start_char, ent.end_char, ent.label_)"
   ]
  },
  {
   "cell_type": "code",
   "execution_count": null,
   "metadata": {
    "colab": {
     "base_uri": "https://localhost:8080/",
     "height": 52
    },
    "id": "L1C1WHDw8mYy",
    "outputId": "52827f0e-feca-4685-d92c-e7bb8124a09c"
   },
   "outputs": [
    {
     "data": {
      "text/html": [
       "<span class=\"tex2jax_ignore\"><div class=\"entities\" style=\"line-height: 2.5; direction: ltr\">\n",
       "<mark class=\"entity\" style=\"background: #7aecec; padding: 0.45em 0.6em; margin: 0 0.25em; line-height: 1; border-radius: 0.35em;\">\n",
       "    Apple\n",
       "    <span style=\"font-size: 0.8em; font-weight: bold; line-height: 1; border-radius: 0.35em; vertical-align: middle; margin-left: 0.5rem\">ORG</span>\n",
       "</mark>\n",
       " is looking at buying \n",
       "<mark class=\"entity\" style=\"background: #feca74; padding: 0.45em 0.6em; margin: 0 0.25em; line-height: 1; border-radius: 0.35em;\">\n",
       "    U.K.\n",
       "    <span style=\"font-size: 0.8em; font-weight: bold; line-height: 1; border-radius: 0.35em; vertical-align: middle; margin-left: 0.5rem\">GPE</span>\n",
       "</mark>\n",
       " startup for \n",
       "<mark class=\"entity\" style=\"background: #e4e7d2; padding: 0.45em 0.6em; margin: 0 0.25em; line-height: 1; border-radius: 0.35em;\">\n",
       "    $1 billion\n",
       "    <span style=\"font-size: 0.8em; font-weight: bold; line-height: 1; border-radius: 0.35em; vertical-align: middle; margin-left: 0.5rem\">MONEY</span>\n",
       "</mark>\n",
       "</div></span>"
      ],
      "text/plain": [
       "<IPython.core.display.HTML object>"
      ]
     },
     "metadata": {},
     "output_type": "display_data"
    }
   ],
   "source": [
    "displacy.render(doc, style=\"ent\", jupyter=True)"
   ]
  },
  {
   "cell_type": "markdown",
   "metadata": {
    "id": "PBeX2uVGcvuo"
   },
   "source": [
    "## Sentence Segmentation\n",
    "\n",
    "Full documentation can be seen [here](https://spacy.io/usage/linguistic-features#sbd)."
   ]
  },
  {
   "cell_type": "code",
   "execution_count": null,
   "metadata": {
    "colab": {
     "base_uri": "https://localhost:8080/"
    },
    "id": "aObj6ZHdcFcK",
    "outputId": "aadd32b7-84bd-427b-96e8-c50b3fed5c8a"
   },
   "outputs": [
    {
     "name": "stdout",
     "output_type": "stream",
     "text": [
      "This is a sentence.\n",
      "This is another sentence.\n"
     ]
    }
   ],
   "source": [
    "doc = nlp(\"This is a sentence. This is another sentence.\")\n",
    "assert doc.has_annotation(\"SENT_START\") # is a safety check to ensure that the Doc object (doc) has sentence boundary annotations (SENT_START) before attempting to iterate over the sentences in doc.sents.\n",
    "for sent in doc.sents:\n",
    "    print(sent.text)"
   ]
  },
  {
   "cell_type": "markdown",
   "metadata": {
    "id": "VYV1mE26ey9J"
   },
   "source": [
    "## Similarity\n",
    "\n",
    "Full documentation can be found [here](https://spacy.io/usage/linguistic-features#vectors-similarity).\n",
    "\n",
    "If you are interested in this aspect also check out `sense2vec` [here](https://github.com/explosion/sense2vec)."
   ]
  },
  {
   "cell_type": "code",
   "execution_count": null,
   "metadata": {
    "colab": {
     "base_uri": "https://localhost:8080/"
    },
    "id": "Pnwn_veXc6fz",
    "outputId": "8a37d88b-e557-4c4d-de57-de2ca14d8277"
   },
   "outputs": [
    {
     "name": "stdout",
     "output_type": "stream",
     "text": [
      "I like salty fries and hamburgers. <-> Fast food tastes very good. 0.691649353055761\n",
      "salty fries <-> hamburgers 0.6938489675521851\n"
     ]
    }
   ],
   "source": [
    "doc1 = nlp(\"I like salty fries and hamburgers.\")\n",
    "doc2 = nlp(\"Fast food tastes very good.\")\n",
    "\n",
    "# Similarity of two documents\n",
    "print(doc1, \"<->\", doc2, doc1.similarity(doc2))\n",
    "\n",
    "# Similarity of tokens and spans\n",
    "french_fries = doc1[2:4]\n",
    "burgers = doc1[5]\n",
    "print(french_fries, \"<->\", burgers, french_fries.similarity(burgers))"
   ]
  },
  {
   "cell_type": "markdown",
   "metadata": {
    "id": "lNDJ5k4udbYC"
   },
   "source": [
    "## Analyzing the Prologue of Lord of the Rings"
   ]
  },
  {
   "cell_type": "code",
   "execution_count": null,
   "metadata": {
    "id": "yXWqdwP8gmBP"
   },
   "outputs": [],
   "source": [
    "from collections import Counter"
   ]
  },
  {
   "cell_type": "code",
   "execution_count": null,
   "metadata": {
    "colab": {
     "base_uri": "https://localhost:8080/"
    },
    "id": "Q1MvKJ6lda-u",
    "outputId": "fb0dcc8e-6622-4b91-a15a-8da3effd375a"
   },
   "outputs": [
    {
     "name": "stdout",
     "output_type": "stream",
     "text": [
      "Drive already mounted at /content/gdrive; to attempt to forcibly remount, call drive.mount(\"/content/gdrive\", force_remount=True).\n"
     ]
    },
    {
     "data": {
      "text/plain": [
       "42152"
      ]
     },
     "execution_count": 32,
     "metadata": {},
     "output_type": "execute_result"
    }
   ],
   "source": [
    "# mount google drive\n",
    "from google.colab import drive\n",
    "drive.mount('/content/gdrive')\n",
    "\n",
    "file_name = \"lord-of-rings-prologue.txt\"\n",
    "file_path = \"/content/gdrive/MyDrive/Colab Notebooks/Act_2_Python_NLP/data/\"\n",
    "open_this = file_path + file_name\n",
    "\n",
    "# Open and read the text file\n",
    "with open(open_this, 'r') as file:\n",
    "    text = file.read()\n",
    "\n",
    "len(text)"
   ]
  },
  {
   "cell_type": "code",
   "execution_count": null,
   "metadata": {
    "id": "c7YfShCrg4su"
   },
   "outputs": [],
   "source": [
    "# Process the text with spaCy\n",
    "doc = nlp(text)"
   ]
  },
  {
   "cell_type": "markdown",
   "metadata": {
    "id": "MQOW7LCOhU5s"
   },
   "source": [
    "### Word Frequency"
   ]
  },
  {
   "cell_type": "code",
   "execution_count": null,
   "metadata": {
    "id": "AE3zPWMUg9SM"
   },
   "outputs": [],
   "source": [
    "# Create an empty list to store filtered tokens\n",
    "filtered_tokens = []\n",
    "\n",
    "# Loop through each token in the processed text\n",
    "for token in doc:\n",
    "    # Check if the token is a word (not punctuation or numbers) and is not a stop word\n",
    "    if token.is_alpha and not token.is_stop:\n",
    "        # Add the lowercase lemma (base form) of the token to the list\n",
    "        filtered_tokens.append(token.lemma_.lower())"
   ]
  },
  {
   "cell_type": "code",
   "execution_count": null,
   "metadata": {
    "colab": {
     "base_uri": "https://localhost:8080/"
    },
    "id": "F_ygRENKhIKr",
    "outputId": "757e91ef-9dd5-4165-f6c6-b57964ead3bb"
   },
   "outputs": [
    {
     "data": {
      "text/plain": [
       "[('shire', 49),\n",
       " ('hobbits', 42),\n",
       " ('bilbo', 38),\n",
       " ('long', 33),\n",
       " ('time', 28),\n",
       " ('hobbit', 25),\n",
       " ('book', 23),\n",
       " ('great', 23),\n",
       " ('day', 22),\n",
       " ('old', 22),\n",
       " ('find', 20),\n",
       " ('come', 19),\n",
       " ('ring', 19),\n",
       " ('history', 18),\n",
       " ('king', 18),\n",
       " ('year', 17),\n",
       " ('family', 16),\n",
       " ('large', 15),\n",
       " ('live', 15),\n",
       " ('gollum', 15)]"
      ]
     },
     "execution_count": 52,
     "metadata": {},
     "output_type": "execute_result"
    }
   ],
   "source": [
    "# Calculate word frequencies\n",
    "word_freq = Counter(filtered_tokens)\n",
    "\n",
    "# Get the top 20 most common words\n",
    "most_common = word_freq.most_common(20)\n",
    "most_common"
   ]
  },
  {
   "cell_type": "markdown",
   "metadata": {
    "id": "K_eO8B3ChYcn"
   },
   "source": [
    "### Named Entity Recognition\n",
    "\n",
    "- `CARDINAL`: Numerals that do not fall under another type.\n",
    "- `DATE`: Absolute or relative dates or periods.\n",
    "- `EVENT`: Named hurricanes, battles, wars, sports events, etc.\n",
    "- `FAC`: Buildings, airports, highways, bridges, etc.\n",
    "- `GPE`: Countries, cities, states.\n",
    "- `LANGUAGE`: Any named language.\n",
    "- `LAW`: Named documents made into laws.\n",
    "- `LOC`: Non-GPE locations, mountain ranges, bodies of water.\n",
    "- `MONEY`: Monetary values, including unit.\n",
    "- `NORP`: Nationalities or religious or political groups.\n",
    "- `ORDINAL`: \"First\", \"second\", etc.\n",
    "- `ORG`: Companies, agencies, institutions, etc.\n",
    "- `PERCENT`: Percentage, including \"%\".\n",
    "- `PERSON`: People, including fictional.\n",
    "- `PRODUCT`: Objects, vehicles, foods, etc. (not services).\n",
    "- `QUANTITY`: Measurements, as of weight or distance.\n",
    "- `TIME`: Times smaller than a day.\n",
    "- `WORK_OF_ART`: Titles of books, songs, etc."
   ]
  },
  {
   "cell_type": "code",
   "execution_count": null,
   "metadata": {
    "colab": {
     "base_uri": "https://localhost:8080/",
     "height": 1000
    },
    "id": "fvSTIkjLivYY",
    "outputId": "224296c0-3441-4c2a-9026-65c4ced56007"
   },
   "outputs": [],
   "source": [
    "displacy.render(doc, style=\"ent\", jupyter=True)"
   ]
  },
  {
   "cell_type": "code",
   "execution_count": null,
   "metadata": {
    "colab": {
     "base_uri": "https://localhost:8080/"
    },
    "id": "p_uKoFmBgp0H",
    "outputId": "78ebf055-8a00-4579-d51a-dae25ade48c6"
   },
   "outputs": [
    {
     "data": {
      "text/plain": [
       "[('Westmarch', 'ORG'),\n",
       " ('The Hobbit', 'WORK_OF_ART'),\n",
       " ('the Red Book', 'EVENT'),\n",
       " ('Bilbo', 'ORG'),\n",
       " ('first', 'ORDINAL'),\n",
       " ('East', 'LOC'),\n",
       " ('first', 'ORDINAL'),\n",
       " ('today', 'DATE'),\n",
       " ('ancient days', 'DATE'),\n",
       " ('the Big Folk’', 'WORK_OF_ART'),\n",
       " ('first', 'ORDINAL'),\n",
       " ('Dwarves', 'NORP'),\n",
       " ('between two and four feet', 'CARDINAL'),\n",
       " ('2', 'CARDINAL'),\n",
       " ('three feet', 'QUANTITY'),\n",
       " ('ancient days', 'DATE'),\n",
       " ('the Red Book', 'ORG'),\n",
       " ('Bullroarer', 'PERSON'),\n",
       " ('Isumbras', 'ORG'),\n",
       " ('Third', 'ORDINAL'),\n",
       " ('four \\nfoot', 'QUANTITY'),\n",
       " ('five', 'CARDINAL'),\n",
       " ('two', 'CARDINAL'),\n",
       " ('the days', 'DATE'),\n",
       " ('six', 'CARDINAL'),\n",
       " ('Dwarves', 'NORP'),\n",
       " ('the Elder Days', 'DATE'),\n",
       " ('Middle-earth', 'LOC'),\n",
       " ('many long years', 'DATE'),\n",
       " ('the days', 'DATE'),\n",
       " ('Bilbo', 'ORG'),\n",
       " ('Frodo', 'ORG'),\n",
       " ('Those days', 'DATE'),\n",
       " ('the Third Age of Middle-earth', 'EVENT'),\n",
       " ('Sea', 'LOC'),\n",
       " ('Bilbo', 'ORG'),\n",
       " ('3', 'CARDINAL'),\n",
       " ('Dwarves', 'LOC'),\n",
       " ('Wandering Days', 'EVENT'),\n",
       " ('Anduin', 'PERSON'),\n",
       " ('Greenwood the Great', 'FAC'),\n",
       " ('the Misty Mountains', 'LOC'),\n",
       " ('Eriador', 'ORG'),\n",
       " ('Mirkwood', 'GPE'),\n",
       " ('three', 'CARDINAL'),\n",
       " ('Fallohides', 'PRODUCT'),\n",
       " ('Fallohides', 'PRODUCT'),\n",
       " ('Dwarves', 'NORP'),\n",
       " ('Eriador', 'ORG'),\n",
       " ('Wilderland', 'PERSON'),\n",
       " ('Hobbit', 'PERSON'),\n",
       " ('one', 'CARDINAL'),\n",
       " ('Stoors', 'ORG'),\n",
       " ('the Great River Anduin', 'FAC'),\n",
       " ('the Loudwater southwards', 'LOC'),\n",
       " ('Tharbad', 'ORG'),\n",
       " ('Dunland', 'LOC'),\n",
       " ('Fallohides', 'PRODUCT'),\n",
       " ('Rivendell', 'ORG'),\n",
       " ('the River Hoarwell', 'LOC'),\n",
       " ('Eriador', 'ORG'),\n",
       " ('Bilbo', 'ORG'),\n",
       " ('Fallohidish', 'NORP'),\n",
       " ('4', 'CARDINAL'),\n",
       " ('RINGS', 'ORG'),\n",
       " ('the Masters of', 'ORG'),\n",
       " ('Eriador', 'ORG'),\n",
       " ('the Misty Mountains', 'LOC'),\n",
       " ('the Mountains of Lune', 'LOC'),\n",
       " ('Sea', 'LOC'),\n",
       " ('Westernesse', 'ORG'),\n",
       " ('North Kingdom', 'GPE'),\n",
       " ('Bilbo', 'ORG'),\n",
       " ('one', 'CARDINAL'),\n",
       " ('first', 'ORDINAL'),\n",
       " ('Bree', 'PERSON'),\n",
       " ('Chetwood', 'PERSON'),\n",
       " ('some forty miles', 'QUANTITY'),\n",
       " ('these early days', 'DATE'),\n",
       " ('Duinedain', 'GPE'),\n",
       " ('those days', 'DATE'),\n",
       " ('the Common Speech', 'ORG'),\n",
       " ('Westron', 'ORG'),\n",
       " ('Gondor', 'PERSON'),\n",
       " ('the Sea from', 'LOC'),\n",
       " ('Belfalas to Lune', 'FAC'),\n",
       " ('months and days', 'DATE'),\n",
       " ('first', 'ORDINAL'),\n",
       " ('years', 'DATE'),\n",
       " ('the one thousand six hundred', 'DATE'),\n",
       " ('first year', 'DATE'),\n",
       " ('the Third Age', 'EVENT'),\n",
       " ('Fallohide', 'PRODUCT'),\n",
       " ('Marcho', 'ORG'),\n",
       " ('Blanco', 'ORG'),\n",
       " ('Bree', 'PERSON'),\n",
       " ('the Bridge of \\nStonebows', 'FAC'),\n",
       " ('the days', 'DATE'),\n",
       " ('the Far Downs', 'LOC'),\n",
       " ('the Great Bridge', 'FAC'),\n",
       " ('the year', 'DATE'),\n",
       " ('Brandywine', 'GPE'),\n",
       " ('Year One', 'EVENT'),\n",
       " ('Gondor', 'ORG'),\n",
       " ('Argeleb II', 'ORG'),\n",
       " ('Northern', 'NORP'),\n",
       " ('Arvedui', 'GPE'),\n",
       " ('three hundred years later', 'DATE'),\n",
       " ('the years', 'DATE'),\n",
       " ('1600', 'CARDINAL'),\n",
       " ('5', 'CARDINAL'),\n",
       " ('Angmar', 'PRODUCT'),\n",
       " ('North Kingdom', 'GPE'),\n",
       " ('Thain', 'NORP'),\n",
       " ('a \\nthousand years', 'DATE'),\n",
       " ('S.R.', 'GPE'),\n",
       " ('37', 'DATE'),\n",
       " ('the Long Winter', 'EVENT'),\n",
       " ('thousands', 'CARDINAL'),\n",
       " ('the Days of Dearth', 'EVENT'),\n",
       " ('cornlands', 'GPE'),\n",
       " ('Forty', 'CARDINAL'),\n",
       " ('the Far Downs', 'LOC'),\n",
       " ('the Brandywine \\nBridge', 'ORG'),\n",
       " ('fifty', 'CARDINAL'),\n",
       " ('Thain', 'GPE'),\n",
       " ('Middle-earth', 'LOC'),\n",
       " ('Guardians', 'ORG'),\n",
       " ('olden days', 'DATE'),\n",
       " ('Bilbo', 'ORG'),\n",
       " ('Bandobras Took', 'LOC'),\n",
       " ('North', 'LOC'),\n",
       " ('winters', 'DATE'),\n",
       " ('Michel Delving', 'PERSON'),\n",
       " ('Mathom', 'ORG'),\n",
       " ('6', 'CARDINAL'),\n",
       " ('Hobbit', 'PERSON'),\n",
       " ('Bilbo', 'GPE'),\n",
       " ('only one', 'CARDINAL'),\n",
       " ('Hobbiton', 'ORG'),\n",
       " ('Tuckborough', 'PERSON'),\n",
       " ('Michel Delving', 'PERSON'),\n",
       " ('the White Downs', 'FAC'),\n",
       " ('cartwrights', 'ORG'),\n",
       " ('Hobbits', 'PERSON'),\n",
       " ('Marish', 'PERSON'),\n",
       " ('Brandywine', 'ORG'),\n",
       " ('Eastfarthing', 'PERSON'),\n",
       " ('Stoors', 'ORG'),\n",
       " ('Fallohide', 'PRODUCT'),\n",
       " ('Marish', 'PERSON'),\n",
       " ('Buckland', 'GPE'),\n",
       " ('River', 'LOC'),\n",
       " ('Middle-earth', 'LOC'),\n",
       " ('the Grey Havens', 'FAC'),\n",
       " ('Three', 'CARDINAL'),\n",
       " ('the Tower Hills', 'LOC'),\n",
       " ('Westfarthing', 'PERSON'),\n",
       " ('Sea', 'LOC'),\n",
       " ('Hobbit', 'PERSON'),\n",
       " ('Sea', 'LOC'),\n",
       " ('the days', 'DATE'),\n",
       " ('the early days', 'DATE'),\n",
       " ('Dwarves', 'LOC'),\n",
       " ('Shire', 'GPE'),\n",
       " ('Bilbo', 'ORG'),\n",
       " ('Frodo Baggins', 'PERSON'),\n",
       " ('the Brandybucks of Brandy Hall', 'ORG'),\n",
       " ('one', 'CARDINAL'),\n",
       " ('clannish', 'NORP'),\n",
       " ('the Red Book', 'EVENT'),\n",
       " ('Westmarch', 'ORG'),\n",
       " ('8', 'CARDINAL'),\n",
       " ('2', 'CARDINAL'),\n",
       " ('Nicotiana', 'PERSON'),\n",
       " ('Meriadoc Brandybuck', 'PERSON'),\n",
       " ('Buckland', 'GPE'),\n",
       " ('first', 'ORDINAL'),\n",
       " ('Tobold Hornblower', 'PERSON'),\n",
       " ('Longbottom', 'GPE'),\n",
       " ('first', 'ORDINAL'),\n",
       " ('the days', 'DATE'),\n",
       " ('Isengrim', 'ORG'),\n",
       " ('Second', 'ORDINAL'),\n",
       " ('Longbottom Leaf', 'PERSON'),\n",
       " ('Toby', 'PERSON'),\n",
       " ('Southern Star', 'ORG'),\n",
       " ('Toby', 'PERSON'),\n",
       " ('Bree', 'PERSON'),\n",
       " ('Bree', 'GPE'),\n",
       " ('Bree', 'PERSON'),\n",
       " ('first', 'ORDINAL'),\n",
       " ('Bree', 'PERSON'),\n",
       " ('the recent centuries', 'DATE'),\n",
       " ('Rangers', 'ORG'),\n",
       " ('Wizards', 'ORG'),\n",
       " ('fro', 'ORG'),\n",
       " ('Bree', 'PERSON'),\n",
       " ('Butterbur', 'PERSON'),\n",
       " ('Anduin', 'PERSON'),\n",
       " ('Sea', 'LOC'),\n",
       " ('the Men of \\nWesternesse', 'ORG'),\n",
       " ('Gondor', 'GPE'),\n",
       " ('North', 'LOC'),\n",
       " ('Longbottom', 'PERSON'),\n",
       " ('Greenway', 'FAC'),\n",
       " ('the long centuries', 'DATE'),\n",
       " ('Elendil', 'PERSON'),\n",
       " ('the Dunedain of Gondor', 'LOC'),\n",
       " ('first', 'ORDINAL'),\n",
       " ('Wizards', 'ORG'),\n",
       " ('one', 'CARDINAL'),\n",
       " ('3', 'CARDINAL'),\n",
       " ('four quarters', 'DATE'),\n",
       " ('North, South, East', 'GPE'),\n",
       " ('West', 'LOC'),\n",
       " ('Tookland', 'ORG'),\n",
       " ('Bagginses', 'ORG'),\n",
       " ('East', 'LOC'),\n",
       " ('Buckland', 'GPE'),\n",
       " ('98', 'CARDINAL'),\n",
       " ('Westmarch', 'ORG'),\n",
       " ('Shire', 'LOC'),\n",
       " ('S.R.', 'GPE'),\n",
       " ('Fornost', 'ORG'),\n",
       " ('Norbury', 'GPE'),\n",
       " ('the \\nShire', 'LOC'),\n",
       " ('nearly a thousand years', 'DATE'),\n",
       " ('Kings’ Norbury', 'ORG'),\n",
       " ('Took', 'ORG'),\n",
       " ('Thain', 'NORP'),\n",
       " ('Took', 'PERSON'),\n",
       " ('Thain', 'NORP'),\n",
       " ('Hobbitry', 'NORP'),\n",
       " ('Thainship', 'ORG'),\n",
       " ('Isengrim', 'PERSON'),\n",
       " ('Second', 'ORDINAL'),\n",
       " ('Michel Delving', 'PERSON'),\n",
       " ('every seven years', 'DATE'),\n",
       " ('the Free Fair', 'EVENT'),\n",
       " ('the White Downs', 'FAC'),\n",
       " ('Lithe', 'GPE'),\n",
       " ('summer', 'DATE'),\n",
       " ('First Shirriff', 'PERSON'),\n",
       " ('the Messenger Service', 'ORG'),\n",
       " ('Messengers', 'ORG'),\n",
       " ('two', 'CARDINAL'),\n",
       " ('afternoon', 'TIME'),\n",
       " ('only twelve', 'CARDINAL'),\n",
       " ('three', 'CARDINAL'),\n",
       " ('Inside Work', 'WORK_OF_ART'),\n",
       " ('Bounders', 'PERSON'),\n",
       " ('first', 'ORDINAL'),\n",
       " ('Bilbo', 'ORG'),\n",
       " ('Sixty years', 'DATE'),\n",
       " ('a hundred', 'CARDINAL'),\n",
       " ('Frodo', 'PRODUCT'),\n",
       " ('4', 'CARDINAL'),\n",
       " ('one day', 'DATE'),\n",
       " ('Bilbo', 'ORG'),\n",
       " ('thirteen', 'CARDINAL'),\n",
       " ('Thorin Oakenshield', 'PERSON'),\n",
       " ('twelve', 'CARDINAL'),\n",
       " ('a morning', 'TIME'),\n",
       " ('April', 'DATE'),\n",
       " ('Kings', 'ORG'),\n",
       " ('Mountain', 'LOC'),\n",
       " ('Dale', 'GPE'),\n",
       " ('East', 'LOC'),\n",
       " ('Dragon', 'PERSON'),\n",
       " ('Five', 'CARDINAL'),\n",
       " ('Thorin', 'PERSON'),\n",
       " ('the Third \\nAge', 'EVENT'),\n",
       " ('the Misty Mountains', 'LOC'),\n",
       " ('Wilderland', 'PERSON'),\n",
       " ('Bilbo', 'PERSON'),\n",
       " ('Bilbo', 'ORG'),\n",
       " ('Gollum', 'PERSON'),\n",
       " ('one', 'CARDINAL'),\n",
       " ('Bilbo', 'PERSON'),\n",
       " ('Elvish', 'PERSON'),\n",
       " ('Gollum', 'PERSON'),\n",
       " ('Bilbo', 'PERSON'),\n",
       " ('Riddle', 'PERSON'),\n",
       " ('Bilbo', 'ORG'),\n",
       " ('Bilbo', 'ORG'),\n",
       " ('Bilbo', 'ORG'),\n",
       " ('Bilbo', 'ORG'),\n",
       " ('one', 'CARDINAL'),\n",
       " ('Bilbo', 'ORG'),\n",
       " ('RINGS', 'ORG'),\n",
       " ('Gollum', 'PERSON'),\n",
       " ('three', 'CARDINAL'),\n",
       " ('Gollum', 'PERSON'),\n",
       " ('Bilbo', 'PERSON'),\n",
       " ('Gollum', 'PERSON'),\n",
       " ('Bilbo', 'ORG'),\n",
       " ('Bilbo', 'ORG'),\n",
       " ('Gollum', 'PERSON'),\n",
       " ('Bilbo', 'PERSON'),\n",
       " ('Gollum', 'PERSON'),\n",
       " ('Warily Bilbo', 'PERSON'),\n",
       " ('Bilbo', 'PERSON'),\n",
       " ('Gollum', 'PERSON'),\n",
       " ('Gollum', 'PERSON'),\n",
       " ('Bilbo', 'ORG'),\n",
       " ('Gollum', 'PERSON'),\n",
       " ('Baggins', 'PERSON'),\n",
       " ('Bilbo', 'ORG'),\n",
       " ('Gollum', 'PERSON'),\n",
       " ('Gollum \\n\\n\\nPROLOGUE 13', 'PERSON'),\n",
       " ('Bilbo', 'PERSON'),\n",
       " ('Gollum', 'PERSON'),\n",
       " ('Bilbo', 'PERSON'),\n",
       " ('the Council of Elrond', 'ORG'),\n",
       " ('Red Book', 'ORG'),\n",
       " ('Frodo or Samwise', 'PRODUCT'),\n",
       " ('Gandalf', 'PERSON'),\n",
       " ('Bilbo', 'ORG'),\n",
       " ('first', 'ORDINAL'),\n",
       " ('Eventu-', 'PERSON'),\n",
       " ('Bilbo', 'ORG'),\n",
       " ('Bilbo', 'ORG'),\n",
       " ('first', 'ORDINAL'),\n",
       " ('Bilbo', 'ORG'),\n",
       " ('Gollum', 'PERSON'),\n",
       " ('Gollum', 'PERSON'),\n",
       " ('Gandalf', 'PERSON'),\n",
       " ('many more years', 'DATE'),\n",
       " ('Bilbo', 'ORG'),\n",
       " ('Gandalf and Frodo', 'ORG'),\n",
       " ('Frodo', 'ORG'),\n",
       " ('Journey', 'WORK_OF_ART'),\n",
       " ('Sting,', 'WORK_OF_ART'),\n",
       " ('Bilbo', 'PERSON'),\n",
       " ('the Michel Delving Mathom-house', 'ORG'),\n",
       " ('June the 22nd', 'DATE'),\n",
       " ('fifty-second year', 'DATE'),\n",
       " ('S.R.', 'GPE'),\n",
       " ('Baggins', 'PERSON'),\n",
       " ('hundred', 'CARDINAL'),\n",
       " ('S.R.', 'GPE'),\n",
       " ('the end of the Third Age', 'DATE'),\n",
       " ('Reunited \\nKingdom', 'GPE'),\n",
       " ('Kingdom', 'GPE'),\n",
       " ('the Fourth Age', 'EVENT'),\n",
       " ('Undertowers', 'ORG'),\n",
       " ('Brandy Hall', 'FAC'),\n",
       " ('the Red Book of Westmarch', 'EVENT'),\n",
       " ('the War of the Ring', 'EVENT'),\n",
       " ('Undertowers', 'ORG'),\n",
       " ('Fairbairns', 'GPE'),\n",
       " ('Wardens', 'PERSON'),\n",
       " ('Westmarch', 'ORG'),\n",
       " ('Bilbo', 'ORG'),\n",
       " ('Rivendell', 'ORG'),\n",
       " ('S.R.', 'GPE'),\n",
       " ('1420-1', 'CARDINAL'),\n",
       " ('the \\nWar', 'LAW'),\n",
       " ('three', 'CARDINAL'),\n",
       " ('Bilbo', 'ORG'),\n",
       " ('four', 'CARDINAL'),\n",
       " ('Westmarch', 'ORG'),\n",
       " ('fifth', 'ORDINAL'),\n",
       " ('Red Book', 'ORG'),\n",
       " ('first', 'ORDINAL'),\n",
       " ('Great Smials', 'ORG'),\n",
       " ('Gondor', 'GPE'),\n",
       " ('Peregrin', 'ORG'),\n",
       " ('S.R.', 'GPE'),\n",
       " ('F.A.', 'ORG'),\n",
       " ('Findegil', 'ORG'),\n",
       " ('King’s Writer', 'ORG'),\n",
       " ('IV 172', 'LAW'),\n",
       " ('Thain', 'NORP'),\n",
       " ('Minas Tirith', 'PERSON'),\n",
       " ('King \\nElessar', 'ORG'),\n",
       " ('the Red Book of the Periannath', 'EVENT'),\n",
       " ('the Thain Peregrin', 'ORG'),\n",
       " ('IV 64', 'DATE'),\n",
       " ('Thain', 'NORP'),\n",
       " ('first', 'ORDINAL'),\n",
       " ('1462', 'ORG'),\n",
       " ('1482', 'DATE'),\n",
       " ('15', 'CARDINAL'),\n",
       " ('Minas Tirith', 'GPE'),\n",
       " ('Elvish', 'PERSON'),\n",
       " ('The Tale of Aragorn \\nand', 'WORK_OF_ART'),\n",
       " ('Arwen', 'PERSON'),\n",
       " ('Barahir', 'GPE'),\n",
       " ('Steward', 'PERSON'),\n",
       " ('Findegil', 'ORG'),\n",
       " ('Bilbo', 'ORG'),\n",
       " ('Elvish', 'PERSON'),\n",
       " ('three', 'CARDINAL'),\n",
       " ('1403', 'CARDINAL'),\n",
       " ('1418', 'CARDINAL'),\n",
       " ('Rivendell', 'ORG'),\n",
       " ('Frodo', 'ORG'),\n",
       " ('the Elder Days', 'DATE'),\n",
       " ('Meriadoc and Peregrin', 'ORG'),\n",
       " ('Rohan', 'ORG'),\n",
       " ('Gondor', 'ORG'),\n",
       " ('Bucklebury', 'ORG'),\n",
       " ('Tuckborough', 'PERSON'),\n",
       " ('the Red Book', 'EVENT'),\n",
       " ('Brandy Hall', 'FAC'),\n",
       " ('Eriador', 'ORG'),\n",
       " ('Rohan', 'ORG'),\n",
       " ('Meriadoc', 'ORG'),\n",
       " ('Years', 'DATE'),\n",
       " ('the calendars', 'DATE'),\n",
       " ('Bree', 'PERSON'),\n",
       " ('Rivendell, Gondor', 'ORG'),\n",
       " ('Rohan', 'PERSON'),\n",
       " ('Old Words and Names', 'WORK_OF_ART'),\n",
       " ('mathom', 'ORG'),\n",
       " ('Peregrin', 'ORG'),\n",
       " ('Gondor', 'PERSON'),\n",
       " ('Elendil', 'PERSON'),\n",
       " ('Numenor', 'PERSON'),\n",
       " ('Sauron', 'ORG'),\n",
       " ('Great Smials', 'FAC'),\n",
       " ('Years', 'DATE'),\n",
       " ('Meriadoc', 'ORG'),\n",
       " ('the Second Age', 'EVENT'),\n",
       " ('Rivendell', 'ORG'),\n",
       " ('Galadriel', 'PERSON'),\n",
       " ('the Third \\nAge', 'EVENT'),\n",
       " ('16', 'CARDINAL'),\n",
       " ('the day', 'DATE'),\n",
       " ('Middle-earth', 'LOC')]"
      ]
     },
     "execution_count": 67,
     "metadata": {},
     "output_type": "execute_result"
    }
   ],
   "source": [
    "# Create an empty list to store entities\n",
    "entities = []\n",
    "\n",
    "# Loop through each entity in the document\n",
    "for ent in doc.ents:\n",
    "    # Save the entity text and its label as a tuple\n",
    "    entities.append((ent.text, ent.label_))\n",
    "\n",
    "# Now `entities` contains a list of tuples like (\"Frodo\", \"PERSON\")\n",
    "entities"
   ]
  },
  {
   "cell_type": "code",
   "execution_count": null,
   "metadata": {
    "id": "3t3N5OHUhqSB"
   },
   "outputs": [],
   "source": [
    "# Create an empty list to store entity types (labels)\n",
    "entity_labels = []\n",
    "\n",
    "# Loop through each entity in the document\n",
    "for ent in doc.ents:\n",
    "    # Add the label of the entity (e.g., \"PERSON\", \"LOC\") to the list\n",
    "    entity_labels.append(ent.label_)\n",
    "\n",
    "# Now `entity_labels` contains a list of labels like [\"PERSON\", \"LOC\", \"PERSON\"]"
   ]
  },
  {
   "cell_type": "code",
   "execution_count": null,
   "metadata": {
    "colab": {
     "base_uri": "https://localhost:8080/"
    },
    "id": "aMcnVdY0h61M",
    "outputId": "459475ce-94b5-4d48-fd3e-2817e8e23b22"
   },
   "outputs": [
    {
     "data": {
      "text/plain": [
       "Counter({'ORG': 109,\n",
       "         'WORK_OF_ART': 7,\n",
       "         'EVENT': 17,\n",
       "         'ORDINAL': 18,\n",
       "         'LOC': 34,\n",
       "         'DATE': 45,\n",
       "         'NORP': 12,\n",
       "         'CARDINAL': 44,\n",
       "         'QUANTITY': 3,\n",
       "         'PERSON': 87,\n",
       "         'FAC': 12,\n",
       "         'GPE': 32,\n",
       "         'PRODUCT': 8,\n",
       "         'TIME': 2,\n",
       "         'LAW': 2})"
      ]
     },
     "execution_count": 68,
     "metadata": {},
     "output_type": "execute_result"
    }
   ],
   "source": [
    "label_counts = Counter(entity_labels)\n",
    "\n",
    "# Top entity types and their counts\n",
    "labels, counts = zip(*label_counts.most_common())\n",
    "label_counts"
   ]
  },
  {
   "cell_type": "markdown",
   "metadata": {
    "id": "cOROIoPwjigK"
   },
   "source": [
    "## Sentiment Analysis and Tone Mapping\n",
    "\n",
    "For sentiment analysis we use another library TextBlob. Full documentation can be found [here](https://textblob.readthedocs.io/en/dev/). Direct link to the Sentiment Classifier can be found [here](https://textblob.readthedocs.io/en/dev/advanced_usage.html#sentiment-analyzers).\n",
    "\n",
    "- Polarity lies between [-1,1], -1 defines a negative sentiment and 1 defines a positive sentiment. Negation words reverse the polarity.\n",
    "- Subjectivity lies between [0,1]. Subjectivity quantifies the amount of personal opinion and factual information contained in the text. The higher subjectivity means that the text contains personal opinion rather than factual information."
   ]
  },
  {
   "cell_type": "code",
   "execution_count": null,
   "metadata": {
    "id": "7C8XFe7BiSBl"
   },
   "outputs": [],
   "source": [
    "from textblob import TextBlob"
   ]
  },
  {
   "cell_type": "code",
   "execution_count": null,
   "metadata": {
    "colab": {
     "base_uri": "https://localhost:8080/"
    },
    "id": "pIkAEnnXjw35",
    "outputId": "87a768a8-91ed-464b-a927-e7c9ef6a2bf5"
   },
   "outputs": [
    {
     "name": "stdout",
     "output_type": "stream",
     "text": [
      "Sentence: Bilbo Baggins was loved by all the hobbits for his generosity and kindness.\n",
      "Sentiment Polarity: 0.70 (Positive)\n",
      "Subjectivity: 0.80 (Subjective)\n",
      "\n",
      "Sentence: The dark shadows of Mordor filled Frodo with a sense of dread and hopelessness.\n",
      "Sentiment Polarity: 0.12 (Positive)\n",
      "Subjectivity: 0.65 (Subjective)\n"
     ]
    }
   ],
   "source": [
    "# Example sentences\n",
    "sentence1 = \"Bilbo Baggins was loved by all the hobbits for his generosity and kindness.\"\n",
    "sentence2 = \"The dark shadows of Mordor filled Frodo with a sense of dread and hopelessness.\"\n",
    "\n",
    "# Analyze the first sentence\n",
    "blob1 = TextBlob(sentence1)\n",
    "polarity1 = blob1.sentiment.polarity\n",
    "subjectivity1 = blob1.sentiment.subjectivity\n",
    "\n",
    "print(f\"Sentence: {sentence1}\")\n",
    "print(f\"Sentiment Polarity: {polarity1:.2f} ({'Positive' if polarity1 > 0 else 'Negative' if polarity1 < 0 else 'Neutral'})\")\n",
    "print(f\"Subjectivity: {subjectivity1:.2f} ({'Subjective' if subjectivity1 > 0.5 else 'Objective'})\\n\")\n",
    "\n",
    "# Analyze the second sentence\n",
    "blob2 = TextBlob(sentence2)\n",
    "polarity2 = blob2.sentiment.polarity\n",
    "subjectivity2 = blob2.sentiment.subjectivity\n",
    "\n",
    "print(f\"Sentence: {sentence2}\")\n",
    "print(f\"Sentiment Polarity: {polarity2:.2f} ({'Positive' if polarity2 > 0 else 'Negative' if polarity2 < 0 else 'Neutral'})\")\n",
    "print(f\"Subjectivity: {subjectivity2:.2f} ({'Subjective' if subjectivity2 > 0.5 else 'Objective'})\")"
   ]
  }
 ],
 "metadata": {
  "colab": {
   "provenance": []
  },
  "kernelspec": {
   "display_name": "Python 3",
   "name": "python3"
  },
  "language_info": {
   "name": "python"
  }
 },
 "nbformat": 4,
 "nbformat_minor": 0
}
