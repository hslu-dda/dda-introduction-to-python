{
 "cells": [
  {
   "cell_type": "markdown",
   "metadata": {
    "id": "3VtJ8HlNjQo7"
   },
   "source": [
    "# Act 2 Python NLP"
   ]
  },
  {
   "cell_type": "markdown",
   "metadata": {
    "id": "Kx_-SCBZln_o"
   },
   "source": [
    "## Libraries & Modelle importieren\n",
    "\n"
   ]
  },
  {
   "cell_type": "code",
   "execution_count": null,
   "metadata": {
    "colab": {
     "base_uri": "https://localhost:8080/"
    },
    "id": "fW4-E18_fORK",
    "outputId": "fe0ec7a3-5744-4e35-888d-4c6014f0e8af"
   },
   "outputs": [],
   "source": [
    "# Installation falls Google Colab das Model nicht bereits installiert hat\n",
    "!python -m spacy download en_core_web_md"
   ]
  },
  {
   "cell_type": "code",
   "execution_count": null,
   "metadata": {
    "id": "TN3iHBSnf6bN"
   },
   "outputs": [],
   "source": [
    "# import the libraries\n",
    "import pandas as pd\n",
    "import spacy # nlp library\n",
    "from spacy import displacy # visualization functionality\n",
    "\n",
    "# load the machine learning model, md = medium, sm = small, lg = large\n",
    "nlp = spacy.load(\"en_core_web_md\")\n"
   ]
  },
  {
   "cell_type": "markdown",
   "metadata": {
    "id": "i4neJreFd1XW"
   },
   "source": [
    "## Tokenization\n",
    "\n",
    "Tokenization is the task of splitting a text into meaningful segments, called tokens."
   ]
  },
  {
   "cell_type": "markdown",
   "metadata": {
    "id": "GMyPWIQTWhjR"
   },
   "source": [
    "## Part of Speech Tagging\n",
    "\n",
    "- `.lemma` base or dictionary form of the token (e.g. \"run\" for \"running\")\n",
    "- `.pos` high level category such as noun, verb, adjective etc.\n",
    "- `.tag` the fine grained part of speech information.\n",
    "- `.dep` indicates the token’s relationship with its parent word in the syntactic parse tree.\n",
    "- `.shape` The shape of the token, which abstracts its capitalization and punctuation patterns. E.g. \"Xxxxx\" (for \"Apple\"), \"xxx\" (for \"run\").\n",
    "- `.is_alpha` A boolean indicating whether the token consists only of alphabetic characters. E.g. True (for \"running\"), False (for \"123\" or \".\")\n",
    "- `.is_stop` A boolean indicating whether the token is a stop word. Stop words are common words like “the”, “is”, “and” that are often ignored in NLP tasks. E.g. True (for \"is\"), False (for \"running\").\n",
    "\n",
    "See the full documentation [here](https://spacy.io/usage/linguistic-features#pos-tagging)."
   ]
  },
  {
   "cell_type": "code",
   "execution_count": null,
   "metadata": {},
   "outputs": [],
   "source": [
    "doc = nlp(\"Apple is looking at buying U.K. startup for $1 billion\")"
   ]
  },
  {
   "cell_type": "markdown",
   "metadata": {
    "id": "sV29CQxma7Jz"
   },
   "source": [
    "Spacy comes with some visualization options to better understand the text structure. All options can be seen in the documentation [here](https://spacy.io/usage/visualizers/)."
   ]
  },
  {
   "cell_type": "markdown",
   "metadata": {
    "id": "9ZJplwEMbOK8"
   },
   "source": [
    "## Named Entity Recognition (NER)\n",
    "\n",
    "Full documentation can be seen [here](https://spacy.io/usage/linguistic-features#named-entities)."
   ]
  },
  {
   "cell_type": "markdown",
   "metadata": {
    "id": "PBeX2uVGcvuo"
   },
   "source": [
    "## Sentence Segmentation\n",
    "\n",
    "Full documentation can be seen [here](https://spacy.io/usage/linguistic-features#sbd)."
   ]
  },
  {
   "cell_type": "code",
   "execution_count": null,
   "metadata": {
    "colab": {
     "base_uri": "https://localhost:8080/"
    },
    "id": "aObj6ZHdcFcK",
    "outputId": "aadd32b7-84bd-427b-96e8-c50b3fed5c8a"
   },
   "outputs": [],
   "source": [
    "doc = nlp(\"This is a sentence. This is another sentence.\")"
   ]
  },
  {
   "cell_type": "markdown",
   "metadata": {
    "id": "VYV1mE26ey9J"
   },
   "source": [
    "## Similarity\n",
    "\n",
    "Full documentation can be found [here](https://spacy.io/usage/linguistic-features#vectors-similarity).\n",
    "\n",
    "If you are interested in this aspect also check out `sense2vec` [here](https://github.com/explosion/sense2vec)."
   ]
  },
  {
   "cell_type": "code",
   "execution_count": null,
   "metadata": {
    "colab": {
     "base_uri": "https://localhost:8080/"
    },
    "id": "Pnwn_veXc6fz",
    "outputId": "8a37d88b-e557-4c4d-de57-de2ca14d8277"
   },
   "outputs": [],
   "source": [
    "doc1 = nlp(\"I like salty fries and hamburgers.\")\n",
    "doc2 = nlp(\"Fast food tastes very good.\")"
   ]
  },
  {
   "cell_type": "markdown",
   "metadata": {
    "id": "lNDJ5k4udbYC"
   },
   "source": [
    "## Analyzing the Prologue of Lord of the Rings"
   ]
  },
  {
   "cell_type": "code",
   "execution_count": null,
   "metadata": {
    "id": "yXWqdwP8gmBP"
   },
   "outputs": [],
   "source": [
    "from collections import Counter"
   ]
  },
  {
   "cell_type": "code",
   "execution_count": null,
   "metadata": {
    "colab": {
     "base_uri": "https://localhost:8080/"
    },
    "id": "Q1MvKJ6lda-u",
    "outputId": "fb0dcc8e-6622-4b91-a15a-8da3effd375a"
   },
   "outputs": [],
   "source": [
    "# mount google drive\n",
    "from google.colab import drive\n",
    "drive.mount('/content/gdrive')\n",
    "\n",
    "file_name = \"lord-of-rings-prologue.txt\"\n",
    "file_path = \"/content/gdrive/MyDrive/Colab Notebooks/Act_2_Python_NLP/data/\"\n",
    "open_this = file_path + file_name\n",
    "\n",
    "# Open and read the text file\n",
    "with open(open_this, 'r') as file:\n",
    "    text = file.read()\n",
    "\n",
    "len(text)"
   ]
  },
  {
   "cell_type": "code",
   "execution_count": null,
   "metadata": {
    "id": "c7YfShCrg4su"
   },
   "outputs": [],
   "source": [
    "# Process the text with spaCy"
   ]
  },
  {
   "cell_type": "markdown",
   "metadata": {
    "id": "MQOW7LCOhU5s"
   },
   "source": [
    "### Word Frequency"
   ]
  },
  {
   "cell_type": "code",
   "execution_count": null,
   "metadata": {
    "id": "AE3zPWMUg9SM"
   },
   "outputs": [],
   "source": [
    "# Create an empty list to store filtered tokens\n",
    "\n",
    "# Loop through each token in the processed text\n",
    "# Check if the token is a word (not punctuation or numbers) and is not a stop word\n",
    "# Add the lowercase lemma (base form) of the token to the list\n"
   ]
  },
  {
   "cell_type": "code",
   "execution_count": null,
   "metadata": {
    "colab": {
     "base_uri": "https://localhost:8080/"
    },
    "id": "F_ygRENKhIKr",
    "outputId": "757e91ef-9dd5-4165-f6c6-b57964ead3bb"
   },
   "outputs": [],
   "source": [
    "# Calculate word frequencies\n",
    "\n",
    "# Get the top 20 most common words"
   ]
  },
  {
   "cell_type": "markdown",
   "metadata": {
    "id": "K_eO8B3ChYcn"
   },
   "source": [
    "### Named Entity Recognition\n",
    "\n",
    "- `CARDINAL`: Numerals that do not fall under another type.\n",
    "- `DATE`: Absolute or relative dates or periods.\n",
    "- `EVENT`: Named hurricanes, battles, wars, sports events, etc.\n",
    "- `FAC`: Buildings, airports, highways, bridges, etc.\n",
    "- `GPE`: Countries, cities, states.\n",
    "- `LANGUAGE`: Any named language.\n",
    "- `LAW`: Named documents made into laws.\n",
    "- `LOC`: Non-GPE locations, mountain ranges, bodies of water.\n",
    "- `MONEY`: Monetary values, including unit.\n",
    "- `NORP`: Nationalities or religious or political groups.\n",
    "- `ORDINAL`: \"First\", \"second\", etc.\n",
    "- `ORG`: Companies, agencies, institutions, etc.\n",
    "- `PERCENT`: Percentage, including \"%\".\n",
    "- `PERSON`: People, including fictional.\n",
    "- `PRODUCT`: Objects, vehicles, foods, etc. (not services).\n",
    "- `QUANTITY`: Measurements, as of weight or distance.\n",
    "- `TIME`: Times smaller than a day.\n",
    "- `WORK_OF_ART`: Titles of books, songs, etc."
   ]
  },
  {
   "cell_type": "code",
   "execution_count": null,
   "metadata": {
    "colab": {
     "base_uri": "https://localhost:8080/",
     "height": 1000
    },
    "id": "fvSTIkjLivYY",
    "outputId": "224296c0-3441-4c2a-9026-65c4ced56007"
   },
   "outputs": [],
   "source": [
    "# displacy the whole prologue"
   ]
  },
  {
   "cell_type": "code",
   "execution_count": null,
   "metadata": {
    "colab": {
     "base_uri": "https://localhost:8080/"
    },
    "id": "p_uKoFmBgp0H",
    "outputId": "78ebf055-8a00-4579-d51a-dae25ade48c6"
   },
   "outputs": [],
   "source": [
    "# Create an empty list to store entities\n",
    "\n",
    "\n",
    "# Loop through each entity in the document\n",
    "# Save the entity text and its label as a tuple\n",
    "\n",
    "# Now `entities` contains a list of tuples like (\"Frodo\", \"PERSON\")"
   ]
  },
  {
   "cell_type": "markdown",
   "metadata": {
    "id": "cOROIoPwjigK"
   },
   "source": [
    "## Sentiment Analysis and Tone Mapping\n",
    "\n",
    "For sentiment analysis we use another library TextBlob. Full documentation can be found [here](https://textblob.readthedocs.io/en/dev/). Direct link to the Sentiment Classifier can be found [here](https://textblob.readthedocs.io/en/dev/advanced_usage.html#sentiment-analyzers).\n",
    "\n",
    "- Polarity lies between [-1,1], -1 defines a negative sentiment and 1 defines a positive sentiment. Negation words reverse the polarity.\n",
    "- Subjectivity lies between [0,1]. Subjectivity quantifies the amount of personal opinion and factual information contained in the text. The higher subjectivity means that the text contains personal opinion rather than factual information."
   ]
  },
  {
   "cell_type": "code",
   "execution_count": null,
   "metadata": {
    "id": "7C8XFe7BiSBl"
   },
   "outputs": [],
   "source": [
    "from textblob import TextBlob"
   ]
  },
  {
   "cell_type": "code",
   "execution_count": null,
   "metadata": {
    "colab": {
     "base_uri": "https://localhost:8080/"
    },
    "id": "pIkAEnnXjw35",
    "outputId": "87a768a8-91ed-464b-a927-e7c9ef6a2bf5"
   },
   "outputs": [],
   "source": [
    "# Example sentences\n",
    "sentence1 = \"Bilbo Baggins was loved by all the hobbits for his generosity and kindness.\"\n",
    "sentence2 = \"The dark shadows of Mordor filled Frodo with a sense of dread and hopelessness.\"\n",
    "\n",
    "# Analyze the first sentence\n",
    "\n",
    "\n",
    "# Analyze the second sentence\n"
   ]
  },
  {
   "cell_type": "markdown",
   "metadata": {},
   "source": [
    "## Further Project Ideas\n",
    "\n",
    "#### Word Frequency\n",
    "\n",
    "-\tObjective: Analyze word frequency and visualize the most common words.\n",
    "-\tSteps:\n",
    "\t1.\tUse doc and count token frequencies (excluding stop words and punctuation).\n",
    "\t2.\tLemmatize tokens to group similar forms (e.g., “run” and “running”).\n",
    "\t3.\tVisualize the results using a bar chart or word cloud.\n",
    "\n",
    "\n",
    "#### Named Entity Recognition (NER) Analysis\n",
    "\n",
    "- Objective: Identify and visualize named entities in the text (e.g., PERSON, LOCATION, ORG).\n",
    "- Steps:\n",
    "\t1.\tUse doc.ents to extract named entities.\n",
    "\t2.\tGroup entities by type and calculate frequencies.\n",
    "\t3.\tCreate a map or chart to show relationships between characters (e.g., Bilbo, Frodo) or places (e.g., Shire, Mordor).\n",
    "\n",
    "#### Character Interaction Network\n",
    "\n",
    "- Objective: Create a network graph of character interactions.\n",
    "- Steps:\n",
    "\t1.\tUse NER to extract character names (PERSON entities).\n",
    "\t2.\tIdentify sentences where multiple characters are mentioned.\n",
    "\t3.\tBuild a graph using nodes (characters) and edges (interactions)\n",
    "\n",
    "#### Sentiment Analysis and Tone Mapping\n",
    "\n",
    "- Objective: Identify the tone or sentiment of sections in the prologue.\n",
    "- Steps:\n",
    "\t1.\tUse a sentiment analysis library (e.g., textblob) alongside spaCy for preprocessing.\n",
    "\t2.\tSegment the text into paragraphs or scenes.\n",
    "\t3.\tAssign a sentiment score to each section and visualize the tone.\n",
    "\n",
    "\n"
   ]
  },
  {
   "cell_type": "markdown",
   "metadata": {},
   "source": []
  }
 ],
 "metadata": {
  "colab": {
   "provenance": []
  },
  "kernelspec": {
   "display_name": "Python 3",
   "name": "python3"
  },
  "language_info": {
   "name": "python"
  }
 },
 "nbformat": 4,
 "nbformat_minor": 0
}
